{
  "nbformat": 4,
  "nbformat_minor": 0,
  "metadata": {
    "colab": {
      "name": "Predict aval problem combined HVTOLA.ipynb",
      "provenance": [],
      "include_colab_link": true
    },
    "kernelspec": {
      "name": "python3",
      "display_name": "Python 3"
    }
  },
  "cells": [
    {
      "cell_type": "markdown",
      "metadata": {
        "id": "view-in-github",
        "colab_type": "text"
      },
      "source": [
        "<a href=\"https://colab.research.google.com/github/kmunve/APS/blob/master/Predict_aval_problem_combined.ipynb\" target=\"_parent\"><img src=\"https://colab.research.google.com/assets/colab-badge.svg\" alt=\"Open In Colab\"/></a>"
      ]
    },
    {
      "cell_type": "markdown",
      "metadata": {
        "id": "DQpuvUJRuqCJ",
        "colab_type": "text"
      },
      "source": [
        "# Predicting tomorrow's avalanche problem\n",
        "\n",
        "We use features from the last 3 days avalanche warnings to predict the main avalanche problem for the coming day.\n",
        "An avalanche problem describes why an avalanche danger exists and how severe it is.\n",
        "\n",
        "An avalanche problem contains a cause, a distribution, a potential avalanche size and a sensitivity of triggering. E.g. \n",
        "\n",
        "\n",
        "\n",
        "*   Cause: Wind slabs\n",
        "*   Distribution: Widespread\n",
        "*   Size: Large\n",
        "*   Sensitivity: Easy to trigger\n",
        "\n",
        "This is encoded as a 4-digit number where each digit encodes one of the four parameters, e.g. 5332.\n",
        "\n",
        "\n",
        "We use differnet decision tree approaches to predict these four elements."
      ]
    },
    {
      "cell_type": "markdown",
      "metadata": {
        "id": "QAYi4teG5bwk",
        "colab_type": "text"
      },
      "source": [
        "## Imports"
      ]
    },
    {
      "cell_type": "code",
      "metadata": {
        "id": "f6kUT_Qqmxd5",
        "colab_type": "code",
        "colab": {
          "base_uri": "https://localhost:8080/",
          "height": 84
        },
        "outputId": "7f9789b3-efc3-4fff-b450-9a9cef840ff9"
      },
      "source": [
        "import pandas as pd\n",
        "import numpy as np\n",
        "import json\n",
        "import sklearn\n",
        "import matplotlib\n",
        "import matplotlib.pyplot as plt\n",
        "%matplotlib inline\n",
        "\n",
        "import warnings\n",
        "warnings.simplefilter('ignore')\n",
        "\n",
        "print('Pandas:\\t', pd.__version__)\n",
        "print('Numpy:\\t', np.__version__)\n",
        "print('Scikit Learn:\\t', sklearn.__version__)\n",
        "print('Matplotlib:\\t', matplotlib.__version__)"
      ],
      "execution_count": 184,
      "outputs": [
        {
          "output_type": "stream",
          "text": [
            "Pandas:\t 0.24.2\n",
            "Numpy:\t 1.16.5\n",
            "Scikit Learn:\t 0.21.3\n",
            "Matplotlib:\t 3.0.3\n"
          ],
          "name": "stdout"
        }
      ]
    },
    {
      "cell_type": "markdown",
      "metadata": {
        "id": "NC1t4nM35hUm",
        "colab_type": "text"
      },
      "source": [
        "## Data"
      ]
    },
    {
      "cell_type": "code",
      "metadata": {
        "id": "BI_dP5x1zgbI",
        "colab_type": "code",
        "outputId": "a427404c-a18e-4a88-ecc6-86aad29c8255",
        "colab": {
          "base_uri": "https://localhost:8080/",
          "height": 84
        }
      },
      "source": [
        "# define the decoder function for the 4-digit avalanche problem target\n",
        "\n",
        "!curl https://raw.githubusercontent.com/kmunve/APS/master/aps/config/snoskred_keys.json > snoskred_keys.json\n",
        "\n",
        "def print_aval_problem_combined(aval_combined_int):\n",
        "    aval_combined_str = str(aval_combined_int)\n",
        "    with open('snoskred_keys.json') as jdata:\n",
        "        snoskred_keys = json.load(jdata)\n",
        "    type_ = snoskred_keys[\"Class_AvalancheProblemTypeName\"][aval_combined_str[0]]\n",
        "    dist_ = snoskred_keys[\"Class_AvalDistributionName\"][aval_combined_str[1]]\n",
        "    sens_ = snoskred_keys[\"Class_AvalSensitivityId\"][aval_combined_str[2]]\n",
        "    size_ = snoskred_keys[\"DestructiveSizeId\"][aval_combined_str[3]]\n",
        "    \n",
        "    return f\"{type_} : {dist_} : {sens_} : {size_}\"\n",
        "\n",
        "print(print_aval_problem_combined(6231))"
      ],
      "execution_count": 185,
      "outputs": [
        {
          "output_type": "stream",
          "text": [
            "  % Total    % Received % Xferd  Average Speed   Time    Time     Time  Current\n",
            "                                 Dload  Upload   Total   Spent    Left  Speed\n",
            "\r  0     0    0     0    0     0      0      0 --:--:-- --:--:-- --:--:--     0\r100  4083  100  4083    0     0  22938      0 --:--:-- --:--:-- --:--:-- 22938\n",
            "Wind slab : Specific : Reactive : Small\n"
          ],
          "name": "stdout"
        }
      ]
    },
    {
      "cell_type": "code",
      "metadata": {
        "id": "KQ4LJCmdm5nr",
        "colab_type": "code",
        "outputId": "5db6cbec-77de-4e9b-9529-3eead4dabec5",
        "colab": {
          "base_uri": "https://localhost:8080/",
          "height": 386
        }
      },
      "source": [
        "# get the data\n",
        "\n",
        "### Dataset with previous forecasts and observations\n",
        "v_df = pd.read_csv('https://raw.githubusercontent.com/hvtola/HTLA/master/varsom_ml_preproc_htla2.csv', index_col=0) # --- Added even more data from RegObs\n",
        "# v_df = pd.read_csv('https://raw.githubusercontent.com/hvtola/HTLA/master/varsom_ml_preproc_htla.csv', index_col=0)\n",
        "\n",
        "### Dataset with previous forecasts only\n",
        "# v_df = pd.read_csv('https://raw.githubusercontent.com/kmunve/APS/master/aps/notebooks/ml_varsom/varsom_ml_preproc_3y.csv', index_col=0).drop_duplicates() # for some reason we got all rows twice in that file :-(\n",
        "\n",
        "\n",
        "# v_df[['date', 'region_id', 'region_group_id', 'danger_level', 'avalanche_problem_1_cause_id']].head(791*4+10)\n",
        "# v_df['region_id'].value_counts()\n",
        "v_df['region_id'].value_counts()"
      ],
      "execution_count": 186,
      "outputs": [
        {
          "output_type": "execute_result",
          "data": {
            "text/plain": [
              "3022    792\n",
              "3015    792\n",
              "3024    792\n",
              "3011    792\n",
              "3027    792\n",
              "3010    792\n",
              "3013    792\n",
              "3029    792\n",
              "3012    792\n",
              "3028    792\n",
              "3031    792\n",
              "3023    792\n",
              "3014    792\n",
              "3017    792\n",
              "3016    792\n",
              "3032    792\n",
              "3003    792\n",
              "3035    792\n",
              "3034    792\n",
              "3007    792\n",
              "3009    792\n",
              "Name: region_id, dtype: int64"
            ]
          },
          "metadata": {
            "tags": []
          },
          "execution_count": 186
        }
      ]
    },
    {
      "cell_type": "code",
      "metadata": {
        "id": "2cw07yP5RiJS",
        "colab_type": "code",
        "colab": {}
      },
      "source": [
        "# v_df['date'].value_counts()"
      ],
      "execution_count": 0,
      "outputs": []
    },
    {
      "cell_type": "code",
      "metadata": {
        "id": "OocLg0Ffm_0Q",
        "colab_type": "code",
        "outputId": "3381411b-07c1-4f42-87bb-a4218fae3799",
        "colab": {
          "base_uri": "https://localhost:8080/",
          "height": 1000
        }
      },
      "source": [
        "# keep only numeric columns\n",
        "from pandas.api.types import is_numeric_dtype\n",
        "num_cols = [var for var in v_df.columns.values if is_numeric_dtype(v_df[var])] \n",
        "    \n",
        "print(len(num_cols))\n",
        "num_cols"
      ],
      "execution_count": 188,
      "outputs": [
        {
          "output_type": "stream",
          "text": [
            "171\n"
          ],
          "name": "stdout"
        },
        {
          "output_type": "execute_result",
          "data": {
            "text/plain": [
              "['avalanche_problem_1_cause_id',\n",
              " 'avalanche_problem_1_destructive_size_ext_id',\n",
              " 'avalanche_problem_1_distribution_id',\n",
              " 'avalanche_problem_1_exposed_height_1',\n",
              " 'avalanche_problem_1_exposed_height_2',\n",
              " 'avalanche_problem_1_ext_id',\n",
              " 'avalanche_problem_1_probability_id',\n",
              " 'avalanche_problem_1_problem_id',\n",
              " 'avalanche_problem_1_problem_type_id',\n",
              " 'avalanche_problem_1_trigger_simple_id',\n",
              " 'avalanche_problem_1_type_id',\n",
              " 'avalanche_problem_2_cause_id',\n",
              " 'avalanche_problem_2_destructive_size_ext_id',\n",
              " 'avalanche_problem_2_distribution_id',\n",
              " 'avalanche_problem_2_exposed_height_1',\n",
              " 'avalanche_problem_2_exposed_height_2',\n",
              " 'avalanche_problem_2_ext_id',\n",
              " 'avalanche_problem_2_probability_id',\n",
              " 'avalanche_problem_2_problem_id',\n",
              " 'avalanche_problem_2_problem_type_id',\n",
              " 'avalanche_problem_2_trigger_simple_id',\n",
              " 'avalanche_problem_2_type_id',\n",
              " 'avalanche_problem_3_cause_id',\n",
              " 'avalanche_problem_3_destructive_size_ext_id',\n",
              " 'avalanche_problem_3_distribution_id',\n",
              " 'avalanche_problem_3_exposed_height_1',\n",
              " 'avalanche_problem_3_exposed_height_2',\n",
              " 'avalanche_problem_3_ext_id',\n",
              " 'avalanche_problem_3_probability_id',\n",
              " 'avalanche_problem_3_problem_id',\n",
              " 'avalanche_problem_3_problem_type_id',\n",
              " 'avalanche_problem_3_trigger_simple_id',\n",
              " 'avalanche_problem_3_type_id',\n",
              " 'danger_level',\n",
              " 'mountain_weather_freezing_level',\n",
              " 'mountain_weather_precip_most_exposed',\n",
              " 'mountain_weather_precip_region',\n",
              " 'mountain_weather_temperature_elevation',\n",
              " 'mountain_weather_temperature_max',\n",
              " 'mountain_weather_temperature_min',\n",
              " 'region_id',\n",
              " 'region_type_id',\n",
              " 'danger_level_prev1day',\n",
              " 'danger_level_prev2day',\n",
              " 'danger_level_prev3day',\n",
              " 'avalanche_problem_1_cause_id_prev1day',\n",
              " 'avalanche_problem_1_problem_type_id_prev1day',\n",
              " 'avalanche_problem_1_cause_id_prev2day',\n",
              " 'avalanche_problem_1_problem_type_id_prev2day',\n",
              " 'avalanche_problem_1_cause_id_prev3day',\n",
              " 'avalanche_problem_1_problem_type_id_prev3day',\n",
              " 'avalanche_problem_2_cause_id_prev1day',\n",
              " 'avalanche_problem_2_problem_type_id_prev1day',\n",
              " 'avalanche_problem_2_cause_id_prev2day',\n",
              " 'avalanche_problem_2_problem_type_id_prev2day',\n",
              " 'avalanche_problem_2_cause_id_prev3day',\n",
              " 'avalanche_problem_2_problem_type_id_prev3day',\n",
              " 'mountain_weather_precip_region_prev1day',\n",
              " 'mountain_weather_precip_most_exposed_prev1day',\n",
              " 'mountain_weather_precip_region_prev3daysum',\n",
              " 'mountain_weather_wind_speed_num',\n",
              " 'mountain_weather_wind_direction_num',\n",
              " 'avalanche_problem_1_problem_type_id_class',\n",
              " 'avalanche_problem_1_sensitivity_id_class',\n",
              " 'avalanche_problem_1_trigger_simple_id_class',\n",
              " 'avalanche_problem_2_problem_type_id_class',\n",
              " 'avalanche_problem_2_sensitivity_id_class',\n",
              " 'avalanche_problem_2_trigger_simple_id_class',\n",
              " 'avalanche_problem_3_problem_type_id_class',\n",
              " 'avalanche_problem_3_sensitivity_id_class',\n",
              " 'avalanche_problem_3_trigger_simple_id_class',\n",
              " 'region_group_id',\n",
              " 'aval_problem_1_combined',\n",
              " 'emergency_warning_Ikke gitt',\n",
              " 'emergency_warning_Naturlig utløste skred',\n",
              " 'author_Andreas@nve',\n",
              " 'author_Eldbjorg@MET',\n",
              " 'author_Espen Granan',\n",
              " 'author_EspenN',\n",
              " 'author_Halvor@NVE',\n",
              " 'author_HåvardT@met',\n",
              " 'author_Ida@met',\n",
              " 'author_Ingrid@NVE',\n",
              " 'author_John Smits',\n",
              " 'author_JonasD@ObsKorps',\n",
              " 'author_Julie@SVV',\n",
              " 'author_Jørgen@obskorps',\n",
              " 'author_Karsten@NVE',\n",
              " 'author_MSA@nortind',\n",
              " 'author_Matilda@MET',\n",
              " 'author_Odd-Arne@NVE',\n",
              " 'author_Ragnar@NVE',\n",
              " 'author_Ronny@NVE',\n",
              " 'author_Silje@svv',\n",
              " 'author_Tommy@NVE',\n",
              " 'author_ToreV@met',\n",
              " 'author_anitaaw@met',\n",
              " 'author_emma@nve',\n",
              " 'author_haso@nve.no',\n",
              " 'author_heidi@nve.no',\n",
              " 'author_jan arild@obskorps',\n",
              " 'author_jegu@NVE',\n",
              " 'author_jostein@nve',\n",
              " 'author_knutinge@svv',\n",
              " 'author_magnush@met',\n",
              " 'author_martin@svv',\n",
              " 'author_ragnhildn@met',\n",
              " 'author_rue@nve',\n",
              " 'author_siri@met',\n",
              " 'author_solveig@NVE',\n",
              " 'author_torehum@svv',\n",
              " 'author_torolav@obskorps',\n",
              " 'mountain_weather_wind_direction_E',\n",
              " 'mountain_weather_wind_direction_N',\n",
              " 'mountain_weather_wind_direction_NE',\n",
              " 'mountain_weather_wind_direction_NW',\n",
              " 'mountain_weather_wind_direction_None',\n",
              " 'mountain_weather_wind_direction_Not given',\n",
              " 'mountain_weather_wind_direction_S',\n",
              " 'mountain_weather_wind_direction_SE',\n",
              " 'mountain_weather_wind_direction_SW',\n",
              " 'mountain_weather_wind_direction_W',\n",
              " 'Annet faretegn (spesifiser)',\n",
              " 'Drønn i snøen',\n",
              " 'Fersk vindtransportert snø',\n",
              " 'Ferske skred',\n",
              " 'Ferske sprekker',\n",
              " 'Ingen faretegn observert',\n",
              " 'Mye vann i snøen',\n",
              " 'Rask temperaturstigning',\n",
              " 'Rimkrystaller',\n",
              " 'Stort snøfall',\n",
              " 'Dårlig binding mellom glatt skare og overliggende snø',\n",
              " 'Dårlig binding mellom lag i fokksnøen',\n",
              " 'Kantkornet snø over skarelag',\n",
              " 'Kantkornet snø under skarelag',\n",
              " 'Kantkornet snø ved bakken',\n",
              " 'Nedføyket svakt lag med nysnø',\n",
              " 'Nedsnødd eller nedføyket kantkornet snø',\n",
              " 'Nedsnødd eller nedføyket overflaterim',\n",
              " 'Opphopning av vann i/over lag i snødekket',\n",
              " 'Ubunden snø',\n",
              " 'Vann ved bakken/smelting fra bakken',\n",
              " 'Tørre flakskred',\n",
              " 'Tørre løssnøskred',\n",
              " 'Våte flakskred',\n",
              " 'Våte løssnøskred',\n",
              " 'Fjernutløst',\n",
              " 'Ikke gitt',\n",
              " 'Kunstig utløst',\n",
              " 'Kunstig utløst testheng',\n",
              " 'Naturlig utløst',\n",
              " 'Personutløst',\n",
              " 'Ski eller skuter utløst',\n",
              " 'Skuterutløst',\n",
              " 'Ukjent',\n",
              " 'Utløst med sprengstoff',\n",
              " '1 - Små',\n",
              " '2 - Middels',\n",
              " '3 - Store',\n",
              " '4 - Svært store',\n",
              " 'De fleste bratte heng',\n",
              " 'Få bratte heng',\n",
              " 'Mange bratte heng',\n",
              " 'Noen bratte heng',\n",
              " 'Også i mindre bratt terreng',\n",
              " 'Lett å løse ut',\n",
              " 'Naturlig utløst*',\n",
              " 'Svært lett å løse ut',\n",
              " 'Svært vanskelig å løse ut',\n",
              " 'Vanskelig å løse ut']"
            ]
          },
          "metadata": {
            "tags": []
          },
          "execution_count": 188
        }
      ]
    },
    {
      "cell_type": "code",
      "metadata": {
        "id": "hnyAeXahvGK0",
        "colab_type": "code",
        "colab": {}
      },
      "source": [
        "# drop features that are related to the forecast we want to predict and features that should have no influence\n",
        "\n",
        "drop_list = [\n",
        "    'danger_level',\n",
        "    'aval_problem_1_combined',\n",
        "    'avalanche_problem_1_cause_id',\n",
        "    'avalanche_problem_1_destructive_size_ext_id',\n",
        "    'avalanche_problem_1_distribution_id',\n",
        "    'avalanche_problem_1_exposed_height_1',\n",
        "    'avalanche_problem_1_exposed_height_2',\n",
        "    'avalanche_problem_1_ext_id',\n",
        "    'avalanche_problem_1_probability_id',\n",
        "    'avalanche_problem_1_problem_id',\n",
        "    'avalanche_problem_1_problem_type_id',\n",
        "    'avalanche_problem_1_trigger_simple_id',\n",
        "    'avalanche_problem_1_type_id',\n",
        "    'avalanche_problem_2_cause_id',\n",
        "    'avalanche_problem_2_destructive_size_ext_id',\n",
        "    'avalanche_problem_2_distribution_id',\n",
        "    'avalanche_problem_2_exposed_height_1',\n",
        "    'avalanche_problem_2_exposed_height_2',\n",
        "    'avalanche_problem_2_ext_id',\n",
        "    'avalanche_problem_2_probability_id',\n",
        "    'avalanche_problem_2_problem_id',\n",
        "    'avalanche_problem_2_problem_type_id',\n",
        "    'avalanche_problem_2_trigger_simple_id',\n",
        "    'avalanche_problem_2_type_id',\n",
        "    'avalanche_problem_3_cause_id',\n",
        "    'avalanche_problem_3_destructive_size_ext_id',\n",
        "    'avalanche_problem_3_distribution_id',\n",
        "    'avalanche_problem_3_exposed_height_1',\n",
        "    'avalanche_problem_3_exposed_height_2',\n",
        "    'avalanche_problem_3_ext_id',\n",
        "    'avalanche_problem_3_probability_id',\n",
        "    'avalanche_problem_3_problem_id',\n",
        "    'avalanche_problem_3_problem_type_id',\n",
        "    'avalanche_problem_3_trigger_simple_id',\n",
        "    'avalanche_problem_3_type_id',\n",
        "    'avalanche_problem_1_problem_type_id_class',\n",
        "    'avalanche_problem_1_sensitivity_id_class',\n",
        "    'avalanche_problem_1_trigger_simple_id_class',\n",
        "    'avalanche_problem_2_problem_type_id_class',\n",
        "    'avalanche_problem_2_sensitivity_id_class',\n",
        "    'avalanche_problem_2_trigger_simple_id_class',\n",
        "    'avalanche_problem_3_problem_type_id_class',\n",
        "    'avalanche_problem_3_sensitivity_id_class',\n",
        "    'avalanche_problem_3_trigger_simple_id_class',\n",
        "    'emergency_warning_Ikke gitt',\n",
        "    'emergency_warning_Naturlig utløste skred',\n",
        "    'author_Andreas@nve',\n",
        "    'author_Eldbjorg@MET',\n",
        "    'author_Espen Granan',\n",
        "    'author_EspenN',\n",
        "    'author_Halvor@NVE',\n",
        "    'author_HåvardT@met',\n",
        "    'author_Ida@met',\n",
        "    'author_Ingrid@NVE',\n",
        "    'author_John Smits',\n",
        "    'author_JonasD@ObsKorps',\n",
        "    'author_Julie@SVV',\n",
        "    'author_Jørgen@obskorps',\n",
        "    'author_Karsten@NVE',\n",
        "    'author_MSA@nortind',\n",
        "    'author_Matilda@MET',\n",
        "    'author_Odd-Arne@NVE',\n",
        "    'author_Ragnar@NVE',\n",
        "    'author_Ronny@NVE',\n",
        "    'author_Silje@svv',\n",
        "    'author_Tommy@NVE',\n",
        "    'author_ToreV@met',\n",
        "    'author_anitaaw@met',\n",
        "    'author_emma@nve',\n",
        "    'author_haso@nve.no',\n",
        "    'author_heidi@nve.no',\n",
        "    'author_jan arild@obskorps',\n",
        "    'author_jegu@NVE',\n",
        "    'author_jostein@nve',\n",
        "    'author_knutinge@svv',\n",
        "    'author_magnush@met',\n",
        "    'author_martin@svv',\n",
        "    'author_ragnhildn@met',\n",
        "    'author_rue@nve',\n",
        "    'author_siri@met',\n",
        "    'author_solveig@NVE',\n",
        "    'author_torehum@svv',\n",
        "    'author_torolav@obskorps'\n",
        "]"
      ],
      "execution_count": 0,
      "outputs": []
    },
    {
      "cell_type": "code",
      "metadata": {
        "id": "Suovm9CqVfZc",
        "colab_type": "code",
        "colab": {}
      },
      "source": [
        "v_df.describe()\n",
        "v_df = v_df.fillna(0) # be careful here !!!"
      ],
      "execution_count": 0,
      "outputs": []
    },
    {
      "cell_type": "code",
      "metadata": {
        "id": "yHIQCj19ndfP",
        "colab_type": "code",
        "colab": {
          "base_uri": "https://localhost:8080/",
          "height": 34
        },
        "outputId": "aff0cadb-c855-4c2e-9f5e-3198e5701265"
      },
      "source": [
        "target_name = 'aval_problem_1_combined'\n",
        "y_df = v_df[target_name]\n",
        "y = y_df.values\n",
        "\n",
        "X_df = v_df.filter(num_cols).drop(drop_list, axis='columns')\n",
        "X = X_df.values\n",
        "feature_names = X_df.columns.values\n",
        "print(len(feature_names))"
      ],
      "execution_count": 191,
      "outputs": [
        {
          "output_type": "stream",
          "text": [
            "88\n"
          ],
          "name": "stdout"
        }
      ]
    },
    {
      "cell_type": "code",
      "metadata": {
        "id": "OpQ7kDImqAhn",
        "colab_type": "code",
        "outputId": "2eb200c6-8965-4ea0-a32d-86923432290d",
        "colab": {
          "base_uri": "https://localhost:8080/",
          "height": 34
        }
      },
      "source": [
        "from sklearn.model_selection import train_test_split\n",
        "\n",
        "X_train, X_test, y_train, y_test = train_test_split(X, y, test_size=0.2, random_state=2442) # Fikk feilmelding med stratify=y\n",
        "X_train.shape, y_train.shape, X_test.shape, y_test.shape"
      ],
      "execution_count": 192,
      "outputs": [
        {
          "output_type": "execute_result",
          "data": {
            "text/plain": [
              "((13305, 88), (13305,), (3327, 88), (3327,))"
            ]
          },
          "metadata": {
            "tags": []
          },
          "execution_count": 192
        }
      ]
    },
    {
      "cell_type": "markdown",
      "metadata": {
        "id": "wGSmuB-24Z39",
        "colab_type": "text"
      },
      "source": [
        "## Decision tree"
      ]
    },
    {
      "cell_type": "code",
      "metadata": {
        "id": "JHft6rvFqBh6",
        "colab_type": "code",
        "outputId": "aa133133-4a8d-4177-b9f5-1b4b5d0cba19",
        "colab": {
          "base_uri": "https://localhost:8080/",
          "height": 151
        }
      },
      "source": [
        "from sklearn.tree import DecisionTreeClassifier\n",
        "clf = DecisionTreeClassifier(max_depth=10)\n",
        "%time clf.fit(X_train, y_train)"
      ],
      "execution_count": 193,
      "outputs": [
        {
          "output_type": "stream",
          "text": [
            "CPU times: user 117 ms, sys: 1.05 ms, total: 118 ms\n",
            "Wall time: 119 ms\n"
          ],
          "name": "stdout"
        },
        {
          "output_type": "execute_result",
          "data": {
            "text/plain": [
              "DecisionTreeClassifier(class_weight=None, criterion='gini', max_depth=10,\n",
              "                       max_features=None, max_leaf_nodes=None,\n",
              "                       min_impurity_decrease=0.0, min_impurity_split=None,\n",
              "                       min_samples_leaf=1, min_samples_split=2,\n",
              "                       min_weight_fraction_leaf=0.0, presort=False,\n",
              "                       random_state=None, splitter='best')"
            ]
          },
          "metadata": {
            "tags": []
          },
          "execution_count": 193
        }
      ]
    },
    {
      "cell_type": "code",
      "metadata": {
        "id": "c-kNA0jTq7ag",
        "colab_type": "code",
        "outputId": "317598c0-621c-4ee7-e29a-3584df40a376",
        "colab": {
          "base_uri": "https://localhost:8080/",
          "height": 34
        }
      },
      "source": [
        "print('Decision tree with {0} leaves has a training score of {1} and a test score of {2}'.format(clf.tree_.max_depth, clf.score(X_train, y_train), clf.score(X_test, y_test)))"
      ],
      "execution_count": 194,
      "outputs": [
        {
          "output_type": "stream",
          "text": [
            "Decision tree with 10 leaves has a training score of 0.7043968432919955 and a test score of 0.6576495341148182\n"
          ],
          "name": "stdout"
        }
      ]
    },
    {
      "cell_type": "code",
      "metadata": {
        "id": "5wGNuTjir0-O",
        "colab_type": "code",
        "outputId": "ddbc4db9-170a-4ba1-eb60-ddd0ad07a0b3",
        "colab": {
          "base_uri": "https://localhost:8080/",
          "height": 1000
        }
      },
      "source": [
        "# just checking if the values make sense\n",
        "k = 21 # error when using 1230\n",
        "for i in range(len(feature_names)):\n",
        "  print(feature_names[i], ':\\t', X_test[k, i])\n",
        "\n",
        "prediction_ = clf.predict(X_test[k, :].reshape(1, -1))\n",
        "print(target_name, ':\\t', y_test[k], prediction_)\n",
        "print(print_aval_problem_combined(prediction_[0])) # add information about dangerlevel"
      ],
      "execution_count": 195,
      "outputs": [
        {
          "output_type": "stream",
          "text": [
            "mountain_weather_freezing_level :\t 900.0\n",
            "mountain_weather_precip_most_exposed :\t 20.0\n",
            "mountain_weather_precip_region :\t 15.0\n",
            "mountain_weather_temperature_elevation :\t 1400.0\n",
            "mountain_weather_temperature_max :\t 0.0\n",
            "mountain_weather_temperature_min :\t -5.0\n",
            "region_id :\t 3031.0\n",
            "region_type_id :\t 10.0\n",
            "danger_level_prev1day :\t 3.0\n",
            "danger_level_prev2day :\t 3.0\n",
            "danger_level_prev3day :\t 2.0\n",
            "avalanche_problem_1_cause_id_prev1day :\t 24.0\n",
            "avalanche_problem_1_problem_type_id_prev1day :\t 5.0\n",
            "avalanche_problem_1_cause_id_prev2day :\t 24.0\n",
            "avalanche_problem_1_problem_type_id_prev2day :\t 5.0\n",
            "avalanche_problem_1_cause_id_prev3day :\t 24.0\n",
            "avalanche_problem_1_problem_type_id_prev3day :\t 5.0\n",
            "avalanche_problem_2_cause_id_prev1day :\t 22.0\n",
            "avalanche_problem_2_problem_type_id_prev1day :\t 45.0\n",
            "avalanche_problem_2_cause_id_prev2day :\t 22.0\n",
            "avalanche_problem_2_problem_type_id_prev2day :\t 45.0\n",
            "avalanche_problem_2_cause_id_prev3day :\t 10.0\n",
            "avalanche_problem_2_problem_type_id_prev3day :\t 10.0\n",
            "mountain_weather_precip_region_prev1day :\t 15.0\n",
            "mountain_weather_precip_most_exposed_prev1day :\t 35.0\n",
            "mountain_weather_precip_region_prev3daysum :\t 30.0\n",
            "mountain_weather_wind_speed_num :\t 4.0\n",
            "mountain_weather_wind_direction_num :\t 6.0\n",
            "region_group_id :\t 7.0\n",
            "mountain_weather_wind_direction_E :\t 0.0\n",
            "mountain_weather_wind_direction_N :\t 0.0\n",
            "mountain_weather_wind_direction_NE :\t 0.0\n",
            "mountain_weather_wind_direction_NW :\t 0.0\n",
            "mountain_weather_wind_direction_None :\t 0.0\n",
            "mountain_weather_wind_direction_Not given :\t 0.0\n",
            "mountain_weather_wind_direction_S :\t 0.0\n",
            "mountain_weather_wind_direction_SE :\t 0.0\n",
            "mountain_weather_wind_direction_SW :\t 1.0\n",
            "mountain_weather_wind_direction_W :\t 0.0\n",
            "Annet faretegn (spesifiser) :\t 0.0\n",
            "Drønn i snøen :\t 0.0\n",
            "Fersk vindtransportert snø :\t 0.0\n",
            "Ferske skred :\t 0.0\n",
            "Ferske sprekker :\t 0.0\n",
            "Ingen faretegn observert :\t 0.0\n",
            "Mye vann i snøen :\t 0.0\n",
            "Rask temperaturstigning :\t 0.0\n",
            "Rimkrystaller :\t 0.0\n",
            "Stort snøfall :\t 0.0\n",
            "Dårlig binding mellom glatt skare og overliggende snø :\t 0.0\n",
            "Dårlig binding mellom lag i fokksnøen :\t 0.0\n",
            "Kantkornet snø over skarelag :\t 0.0\n",
            "Kantkornet snø under skarelag :\t 0.0\n",
            "Kantkornet snø ved bakken :\t 0.0\n",
            "Nedføyket svakt lag med nysnø :\t 1.0\n",
            "Nedsnødd eller nedføyket kantkornet snø :\t 0.0\n",
            "Nedsnødd eller nedføyket overflaterim :\t 0.0\n",
            "Opphopning av vann i/over lag i snødekket :\t 0.0\n",
            "Ubunden snø :\t 1.0\n",
            "Vann ved bakken/smelting fra bakken :\t 0.0\n",
            "Tørre flakskred :\t 1.0\n",
            "Tørre løssnøskred :\t 0.0\n",
            "Våte flakskred :\t 0.0\n",
            "Våte løssnøskred :\t 1.0\n",
            "Fjernutløst :\t 0.0\n",
            "Ikke gitt :\t 0.0\n",
            "Kunstig utløst :\t 0.0\n",
            "Kunstig utløst testheng :\t 0.0\n",
            "Naturlig utløst :\t 0.0\n",
            "Personutløst :\t 0.0\n",
            "Ski eller skuter utløst :\t 0.0\n",
            "Skuterutløst :\t 0.0\n",
            "Ukjent :\t 0.0\n",
            "Utløst med sprengstoff :\t 0.0\n",
            "1 - Små :\t 0.0\n",
            "2 - Middels :\t 2.0\n",
            "3 - Store :\t 0.0\n",
            "4 - Svært store :\t 0.0\n",
            "De fleste bratte heng :\t 0.0\n",
            "Få bratte heng :\t 0.0\n",
            "Mange bratte heng :\t 0.0\n",
            "Noen bratte heng :\t 2.0\n",
            "Også i mindre bratt terreng :\t 0.0\n",
            "Lett å løse ut :\t 0.0\n",
            "Naturlig utløst* :\t 1.0\n",
            "Svært lett å løse ut :\t 0.0\n",
            "Svært vanskelig å løse ut :\t 0.0\n",
            "Vanskelig å løse ut :\t 1.0\n",
            "aval_problem_1_combined :\t 5232 [5232]\n",
            "Storm slab : Specific : Reactive : Medium\n"
          ],
          "name": "stdout"
        }
      ]
    },
    {
      "cell_type": "code",
      "metadata": {
        "id": "liG_Wv5HqOQP",
        "colab_type": "code",
        "outputId": "f9a0dd8c-b13f-4149-bbfc-e0a0919fa081",
        "colab": {
          "base_uri": "https://localhost:8080/",
          "height": 520
        }
      },
      "source": [
        "# Finding the best parameters\n",
        "\n",
        "s_test = []\n",
        "s_train = []\n",
        "ks = np.arange(1, 30, dtype=int)\n",
        "for k in ks:\n",
        "  clf_ = DecisionTreeClassifier(max_depth = k)\n",
        "  clf_.fit(X_train, y_train)\n",
        "  s_train.append(clf_.score(X_train, y_train))\n",
        "  s_test.append(clf_.score(X_test, y_test))\n",
        "#clf.score(X_train, y_train), clf.score(X_test, y_test)))\n",
        "s_test = np.array(s_test)\n",
        "print(s_test.max(), s_test.argmax())\n",
        "\n",
        "plt.figure(figsize=(10, 8))\n",
        "plt.plot(ks, s_test, color='red', label='test')\n",
        "plt.plot(ks, s_train, color='blue', label='train')\n",
        "plt.legend()"
      ],
      "execution_count": 196,
      "outputs": [
        {
          "output_type": "stream",
          "text": [
            "0.6666666666666666 13\n"
          ],
          "name": "stdout"
        },
        {
          "output_type": "execute_result",
          "data": {
            "text/plain": [
              "<matplotlib.legend.Legend at 0x7fe4dfbfb400>"
            ]
          },
          "metadata": {
            "tags": []
          },
          "execution_count": 196
        },
        {
          "output_type": "display_data",
          "data": {
            "image/png": "[encoded data removed]",
            "text/plain": [
              "<Figure size 720x576 with 1 Axes>"
            ]
          },
          "metadata": {
            "tags": []
          }
        }
      ]
    },
    {
      "cell_type": "markdown",
      "metadata": {
        "id": "Qz7COc684PRV",
        "colab_type": "text"
      },
      "source": [
        "## Feature importance"
      ]
    },
    {
      "cell_type": "code",
      "metadata": {
        "id": "n-ZhAx-7sstl",
        "colab_type": "code",
        "outputId": "862519ea-11d1-4730-bd5f-9e99e3126d5b",
        "cellView": "code",
        "colab": {
          "base_uri": "https://localhost:8080/",
          "height": 1000
        }
      },
      "source": [
        "importance = clf.feature_importances_\n",
        "feature_indexes_by_importance = importance.argsort()\n",
        "for i in feature_indexes_by_importance:\n",
        "    print('{}-{:.2f}%'.format(feature_names[i], (importance[i] *100.0)))"
      ],
      "execution_count": 197,
      "outputs": [
        {
          "output_type": "stream",
          "text": [
            "Vanskelig å løse ut-0.00%\n",
            "Ikke gitt-0.00%\n",
            "Fjernutløst-0.00%\n",
            "Tørre løssnøskred-0.00%\n",
            "Tørre flakskred-0.00%\n",
            "Ubunden snø-0.00%\n",
            "Opphopning av vann i/over lag i snødekket-0.00%\n",
            "Kunstig utløst-0.00%\n",
            "Nedsnødd eller nedføyket overflaterim-0.00%\n",
            "mountain_weather_wind_direction_N-0.00%\n",
            "mountain_weather_wind_direction_NE-0.00%\n",
            "mountain_weather_wind_direction_NW-0.00%\n",
            "Kantkornet snø under skarelag-0.00%\n",
            "Dårlig binding mellom glatt skare og overliggende snø-0.00%\n",
            "Mye vann i snøen-0.00%\n",
            "Nedsnødd eller nedføyket kantkornet snø-0.00%\n",
            "Kunstig utløst testheng-0.00%\n",
            "Ferske skred-0.00%\n",
            "Personutløst-0.00%\n",
            "mountain_weather_temperature_elevation-0.00%\n",
            "Også i mindre bratt terreng-0.00%\n",
            "Naturlig utløst-0.00%\n",
            "region_type_id-0.00%\n",
            "4 - Svært store-0.00%\n",
            "3 - Store-0.00%\n",
            "De fleste bratte heng-0.00%\n",
            "Utløst med sprengstoff-0.00%\n",
            "Ukjent-0.00%\n",
            "Skuterutløst-0.00%\n",
            "Svært lett å løse ut-0.00%\n",
            "Fersk vindtransportert snø-0.00%\n",
            "Svært vanskelig å løse ut-0.00%\n",
            "mountain_weather_wind_direction_None-0.01%\n",
            "Drønn i snøen-0.02%\n",
            "Lett å løse ut-0.02%\n",
            "mountain_weather_wind_direction_W-0.02%\n",
            "Mange bratte heng-0.03%\n",
            "Våte flakskred-0.03%\n",
            "Rimkrystaller-0.03%\n",
            "Vann ved bakken/smelting fra bakken-0.04%\n",
            "Kantkornet snø ved bakken-0.04%\n",
            "Få bratte heng-0.04%\n",
            "1 - Små-0.05%\n",
            "Ferske sprekker-0.05%\n",
            "Ingen faretegn observert-0.06%\n",
            "Våte løssnøskred-0.06%\n",
            "Ski eller skuter utløst-0.06%\n",
            "Noen bratte heng-0.07%\n",
            "Kantkornet snø over skarelag-0.07%\n",
            "Annet faretegn (spesifiser)-0.07%\n",
            "avalanche_problem_1_problem_type_id_prev2day-0.07%\n",
            "mountain_weather_wind_direction_S-0.08%\n",
            "Naturlig utløst*-0.08%\n",
            "2 - Middels-0.10%\n",
            "Stort snøfall-0.10%\n",
            "Nedføyket svakt lag med nysnø-0.11%\n",
            "mountain_weather_wind_direction_num-0.11%\n",
            "Dårlig binding mellom lag i fokksnøen-0.12%\n",
            "Rask temperaturstigning-0.14%\n",
            "mountain_weather_precip_region_prev1day-0.14%\n",
            "mountain_weather_wind_direction_SE-0.15%\n",
            "mountain_weather_wind_direction_E-0.17%\n",
            "mountain_weather_wind_direction_SW-0.19%\n",
            "mountain_weather_wind_direction_Not given-0.19%\n",
            "danger_level_prev2day-0.21%\n",
            "avalanche_problem_1_problem_type_id_prev3day-0.26%\n",
            "avalanche_problem_2_problem_type_id_prev2day-0.28%\n",
            "avalanche_problem_2_cause_id_prev1day-0.32%\n",
            "avalanche_problem_2_problem_type_id_prev3day-0.37%\n",
            "avalanche_problem_2_cause_id_prev3day-0.53%\n",
            "danger_level_prev3day-0.56%\n",
            "avalanche_problem_1_cause_id_prev2day-0.58%\n",
            "mountain_weather_wind_speed_num-0.64%\n",
            "avalanche_problem_2_cause_id_prev2day-0.72%\n",
            "mountain_weather_precip_most_exposed_prev1day-0.82%\n",
            "avalanche_problem_2_problem_type_id_prev1day-0.83%\n",
            "mountain_weather_precip_region_prev3daysum-0.93%\n",
            "region_group_id-1.03%\n",
            "avalanche_problem_1_cause_id_prev3day-1.06%\n",
            "mountain_weather_precip_region-1.13%\n",
            "mountain_weather_freezing_level-1.61%\n",
            "mountain_weather_precip_most_exposed-1.62%\n",
            "mountain_weather_temperature_min-1.75%\n",
            "mountain_weather_temperature_max-1.81%\n",
            "region_id-2.02%\n",
            "avalanche_problem_1_problem_type_id_prev1day-5.26%\n",
            "danger_level_prev1day-6.97%\n",
            "avalanche_problem_1_cause_id_prev1day-66.21%\n"
          ],
          "name": "stdout"
        }
      ]
    },
    {
      "cell_type": "code",
      "metadata": {
        "id": "ZlmMdc5XplCd",
        "colab_type": "code",
        "outputId": "25465538-fe67-45af-babb-75b6a1a29281",
        "colab": {
          "base_uri": "https://localhost:8080/",
          "height": 1000
        }
      },
      "source": [
        "fig, ax = plt.subplots(figsize=(8,20))\n",
        "\n",
        "y_pos = np.arange(len(feature_names))\n",
        "\n",
        "ax.barh(y_pos, clf.feature_importances_*100, align='center')\n",
        "ax.set_yticks(y_pos)\n",
        "ax.set_yticklabels(feature_names)\n",
        "ax.invert_yaxis()  # labels read top-to-bottom\n",
        "ax.set_xlabel('Feature importance')\n",
        "ax.set_title('How much does each feature contribute?')"
      ],
      "execution_count": 198,
      "outputs": [
        {
          "output_type": "execute_result",
          "data": {
            "text/plain": [
              "Text(0.5, 1.0, 'How much does each feature contribute?')"
            ]
          },
          "metadata": {
            "tags": []
          },
          "execution_count": 198
        },
        {
          "output_type": "display_data",
          "data": {
            "image/png": "[encoded data removed]",
            "text/plain": [
              "<Figure size 576x1440 with 1 Axes>"
            ]
          },
          "metadata": {
            "tags": []
          }
        }
      ]
    },
    {
      "cell_type": "markdown",
      "metadata": {
        "id": "TUflF7o2wX4f",
        "colab_type": "text"
      },
      "source": [
        "## Using RandomForest"
      ]
    },
    {
      "cell_type": "code",
      "metadata": {
        "id": "cm54kI64tVST",
        "colab_type": "code",
        "outputId": "d8c0272f-5c9f-45ac-bf94-7e67edf7f56b",
        "colab": {
          "base_uri": "https://localhost:8080/",
          "height": 168
        }
      },
      "source": [
        "from sklearn.ensemble import RandomForestRegressor, RandomForestClassifier\n",
        "\n",
        "rfc = RandomForestClassifier(n_estimators=30, min_samples_split=15)\n",
        "rfc.fit(X_train, y_train)\n",
        "\n",
        "predic_proba_rfc = rfc.predict_proba(X_test)\n",
        "predictions_rfc = rfc.predict(X_test)\n",
        "print('Random Forest Classifier with {0} leaves has a training score of {1} and a test score of {2}'.format(rf.max_depth, rf.score(X_train, y_train), rf.score(X_test, y_test)))\n",
        "print(predictions_rfc)\n",
        "print(predic_proba_rfc)"
      ],
      "execution_count": 199,
      "outputs": [
        {
          "output_type": "stream",
          "text": [
            "Random Forest Classifier with None leaves has a training score of 0.9749008864201675 and a test score of 0.9524444148671292\n",
            "[7233    0 5232 ... 6232    0    0]\n",
            "[[0.         0.         0.         ... 0.         0.         0.00416667]\n",
            " [1.         0.         0.         ... 0.         0.         0.        ]\n",
            " [0.         0.         0.         ... 0.         0.         0.        ]\n",
            " ...\n",
            " [0.00392157 0.         0.         ... 0.         0.00416667 0.00208333]\n",
            " [1.         0.         0.         ... 0.         0.         0.        ]\n",
            " [1.         0.         0.         ... 0.         0.         0.        ]]\n"
          ],
          "name": "stdout"
        }
      ]
    },
    {
      "cell_type": "code",
      "metadata": {
        "colab_type": "code",
        "outputId": "4a2a81fb-c678-4c55-ea13-c5b6e3904fe9",
        "id": "qlwvzh7cHc6C",
        "colab": {
          "base_uri": "https://localhost:8080/",
          "height": 67
        }
      },
      "source": [
        "rf = RandomForestRegressor(n_estimators=30, min_samples_split=15)\n",
        "rf.fit(X_train, y_train)\n",
        "\n",
        "predictions_rf = rf.predict(X_test)\n",
        "print('Random Forest Regressor with {0} leaves has a training score of {1} and a test score of {2}'.format(rf.max_depth, rf.score(X_train, y_train), rf.score(X_test, y_test)))\n",
        "print(predictions_rf)"
      ],
      "execution_count": 200,
      "outputs": [
        {
          "output_type": "stream",
          "text": [
            "Random Forest Regressor with None leaves has a training score of 0.9751723311010679 and a test score of 0.9521430915083712\n",
            "[6996.51573008    0.         5373.8416164  ... 6224.86410607    0.\n",
            "    0.        ]\n"
          ],
          "name": "stdout"
        }
      ]
    },
    {
      "cell_type": "code",
      "metadata": {
        "id": "uV07QOGiwk3x",
        "colab_type": "code",
        "outputId": "4b931ee0-a361-4c45-afe8-c755d66d3176",
        "colab": {
          "base_uri": "https://localhost:8080/",
          "height": 1000
        }
      },
      "source": [
        "importance_rf = rf.feature_importances_\n",
        "feature_indexes_by_importance_rf = importance_rf.argsort()\n",
        "for i in feature_indexes_by_importance_rf:\n",
        "    print('{}-{:.2f}%'.format(feature_names[i], (importance_rf[i] *100.0)))"
      ],
      "execution_count": 201,
      "outputs": [
        {
          "output_type": "stream",
          "text": [
            "Skuterutløst-0.00%\n",
            "region_type_id-0.00%\n",
            "Også i mindre bratt terreng-0.00%\n",
            "Kunstig utløst-0.00%\n",
            "4 - Svært store-0.00%\n",
            "Ukjent-0.00%\n",
            "mountain_weather_wind_direction_None-0.00%\n",
            "Fjernutløst-0.00%\n",
            "Utløst med sprengstoff-0.00%\n",
            "Kunstig utløst testheng-0.00%\n",
            "mountain_weather_wind_direction_W-0.00%\n",
            "mountain_weather_wind_direction_N-0.00%\n",
            "De fleste bratte heng-0.00%\n",
            "mountain_weather_wind_direction_E-0.00%\n",
            "Kantkornet snø under skarelag-0.00%\n",
            "Svært lett å løse ut-0.00%\n",
            "Vann ved bakken/smelting fra bakken-0.00%\n",
            "mountain_weather_wind_direction_NE-0.00%\n",
            "mountain_weather_wind_direction_NW-0.01%\n",
            "Nedsnødd eller nedføyket kantkornet snø-0.01%\n",
            "Våte flakskred-0.01%\n",
            "Tørre løssnøskred-0.01%\n",
            "Ikke gitt-0.01%\n",
            "mountain_weather_wind_direction_Not given-0.01%\n",
            "Kantkornet snø over skarelag-0.01%\n",
            "Dårlig binding mellom glatt skare og overliggende snø-0.01%\n",
            "Personutløst-0.01%\n",
            "Dårlig binding mellom lag i fokksnøen-0.01%\n",
            "Ski eller skuter utløst-0.01%\n",
            "mountain_weather_wind_direction_SE-0.01%\n",
            "3 - Store-0.01%\n",
            "2 - Middels-0.02%\n",
            "Noen bratte heng-0.02%\n",
            "Vanskelig å løse ut-0.02%\n",
            "Mange bratte heng-0.02%\n",
            "1 - Små-0.02%\n",
            "Rimkrystaller-0.02%\n",
            "Få bratte heng-0.02%\n",
            "Lett å løse ut-0.02%\n",
            "Ferske skred-0.02%\n",
            "mountain_weather_wind_direction_S-0.02%\n",
            "Nedsnødd eller nedføyket overflaterim-0.02%\n",
            "Ubunden snø-0.02%\n",
            "Svært vanskelig å løse ut-0.02%\n",
            "Drønn i snøen-0.02%\n",
            "Naturlig utløst*-0.02%\n",
            "mountain_weather_temperature_elevation-0.02%\n",
            "Nedføyket svakt lag med nysnø-0.02%\n",
            "Annet faretegn (spesifiser)-0.03%\n",
            "Stort snøfall-0.03%\n",
            "Opphopning av vann i/over lag i snødekket-0.03%\n",
            "mountain_weather_wind_direction_SW-0.03%\n",
            "Rask temperaturstigning-0.03%\n",
            "Naturlig utløst-0.03%\n",
            "Kantkornet snø ved bakken-0.04%\n",
            "mountain_weather_precip_region_prev1day-0.04%\n",
            "Ingen faretegn observert-0.04%\n",
            "Tørre flakskred-0.05%\n",
            "Fersk vindtransportert snø-0.05%\n",
            "Mye vann i snøen-0.05%\n",
            "Våte løssnøskred-0.06%\n",
            "Ferske sprekker-0.07%\n",
            "avalanche_problem_2_problem_type_id_prev1day-0.07%\n",
            "region_group_id-0.07%\n",
            "avalanche_problem_1_problem_type_id_prev2day-0.08%\n",
            "mountain_weather_precip_region-0.09%\n",
            "mountain_weather_precip_most_exposed_prev1day-0.09%\n",
            "avalanche_problem_2_problem_type_id_prev2day-0.10%\n",
            "danger_level_prev3day-0.11%\n",
            "mountain_weather_precip_most_exposed-0.11%\n",
            "avalanche_problem_2_cause_id_prev3day-0.11%\n",
            "avalanche_problem_1_problem_type_id_prev3day-0.11%\n",
            "mountain_weather_precip_region_prev3daysum-0.12%\n",
            "avalanche_problem_2_cause_id_prev2day-0.12%\n",
            "mountain_weather_wind_direction_num-0.13%\n",
            "avalanche_problem_2_problem_type_id_prev3day-0.14%\n",
            "avalanche_problem_2_cause_id_prev1day-0.18%\n",
            "region_id-0.26%\n",
            "avalanche_problem_1_cause_id_prev2day-0.27%\n",
            "mountain_weather_freezing_level-0.31%\n",
            "mountain_weather_wind_speed_num-0.39%\n",
            "avalanche_problem_1_cause_id_prev3day-0.39%\n",
            "mountain_weather_temperature_max-0.44%\n",
            "danger_level_prev2day-0.45%\n",
            "mountain_weather_temperature_min-0.51%\n",
            "avalanche_problem_1_cause_id_prev1day-0.77%\n",
            "danger_level_prev1day-3.97%\n",
            "avalanche_problem_1_problem_type_id_prev1day-89.49%\n"
          ],
          "name": "stdout"
        }
      ]
    },
    {
      "cell_type": "markdown",
      "metadata": {
        "id": "q_RGZ7z-83vU",
        "colab_type": "text"
      },
      "source": [
        "## Questions and further thoughts\n",
        "- why does the RandomForestRegressor perform better than the RandomForestClassifier?\n",
        "- how do I get the number of leaves of a RF?\n",
        "- are there other classic ML methods that would be suitable?\n",
        "- would the use of NN be beneficial? Can we use it to encode field observations?\n",
        "- sometimes we know a forecast (used for training) was right or wrong, often we don't. can we flag these cases and use it as a weighting?\n",
        "- use a similar feature set to get the nearest neighbor (date, region) from the forecasts in the database"
      ]
    },
    {
      "cell_type": "code",
      "metadata": {
        "id": "jNdNgkLJwuPF",
        "colab_type": "code",
        "colab": {}
      },
      "source": [
        ""
      ],
      "execution_count": 0,
      "outputs": []
    }
  ]
}