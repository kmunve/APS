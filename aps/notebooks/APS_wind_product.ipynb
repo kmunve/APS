{
 "cells": [
  {
   "cell_type": "markdown",
   "metadata": {},
   "source": [
    "# Regional wind distribution"
   ]
  },
  {
   "cell_type": "markdown",
   "metadata": {},
   "source": [
    "## Imports"
   ]
  },
  {
   "cell_type": "code",
   "execution_count": 1,
   "metadata": {
    "collapsed": true
   },
   "outputs": [],
   "source": [
    "# -*- coding: utf-8 -*-\n",
    "%matplotlib inline\n",
    "\n",
    "import pylab as plt\n",
    "plt.rcParams['figure.figsize'] = (14, 6)\n",
    "\n",
    "import datetime\n",
    "import numpy as np\n",
    "import netCDF4\n",
    "\n",
    "from windrose import WindroseAxes\n",
    "\n",
    "import warnings\n",
    "warnings.filterwarnings(\"ignore\")"
   ]
  },
  {
   "cell_type": "markdown",
   "metadata": {},
   "source": [
    "## Classification"
   ]
  },
  {
   "cell_type": "code",
   "execution_count": 3,
   "metadata": {
    "collapsed": true
   },
   "outputs": [],
   "source": [
    "# Classify by Beaufort scale\n",
    "def classify_wind(wind_speed, wind_dir, js_str=True):\n",
    "    len_wind = len(wind_speed_f)\n",
    "    \n",
    "    # Seperate by wind direction\n",
    "    N = wind_speed_f[np.where((wind_dir_f>-22.5) & (wind_dir_f<=22.5))]\n",
    "\n",
    "    NE = wind_speed_f[np.where((wind_dir_f>22.5) & (wind_dir_f<=67.5))]\n",
    "\n",
    "    E = wind_speed_f[np.where((wind_dir_f>67.5) & (wind_dir_f<=112.5))]\n",
    "\n",
    "    SE = wind_speed_f[np.where((wind_dir_f>112.5) & (wind_dir_f<=167.5))]\n",
    "\n",
    "    S = wind_speed_f[np.where((wind_dir_f>167.5) & (wind_dir_f<=180.0) | (wind_dir_f>-167.5) & (wind_dir_f<=-180.0))]\n",
    "\n",
    "    SW = wind_speed_f[np.where((wind_dir_f>-167.5) & (wind_dir_f<=-112.5))]\n",
    "\n",
    "    W = wind_speed_f[np.where((wind_dir_f>-112.5) & (wind_dir_f<=-67.5))]\n",
    "\n",
    "    NW = wind_speed_f[np.where((wind_dir_f>-67.5) & (wind_dir_f<=-22.5))]\n",
    "    \n",
    "    \n",
    "    # Seperate by wind speed\n",
    "    gentle_breeze = 5.5\n",
    "    strong_breeze = 13.8\n",
    "    gale = 20.7\n",
    "    storm = 32.6\n",
    "\n",
    "    N_gentle_breeze = len(N[np.where(N<gentle_breeze)]) / len_wind * 100\n",
    "    N_strong_breeze = len(N[np.where((N>=gentle_breeze) & (N<strong_breeze))]) / len_wind * 100\n",
    "    N_gale = len(N[np.where((N>=strong_breeze) & (N<gale))]) / len_wind * 100\n",
    "    N_storm = len(N[np.where((N>=gale) & (N<storm))]) / len_wind * 100\n",
    "    N_hurricane = len(N[np.where((N>=storm))]) / len_wind * 100\n",
    "\n",
    "    NE_gentle_breeze = len(NE[np.where(NE<gentle_breeze)]) / len_wind * 100\n",
    "    NE_strong_breeze = len(NE[np.where((NE>=gentle_breeze) & (NE<strong_breeze))]) / len_wind * 100\n",
    "    NE_gale = len(NE[np.where((NE>=strong_breeze) & (NE<gale))]) / len_wind * 100\n",
    "    NE_storm = len(NE[np.where((NE>=gale) & (NE<storm))]) / len_wind * 100\n",
    "    NE_hurricane = len(NE[np.where((NE>=storm))]) / len_wind * 100\n",
    "\n",
    "    E_gentle_breeze = len(E[np.where(E<gentle_breeze)]) / len_wind * 100\n",
    "    E_strong_breeze = len(E[np.where((E>=gentle_breeze) & (E<strong_breeze))]) / len_wind * 100\n",
    "    E_gale = len(E[np.where((E>=strong_breeze) & (E<gale))]) / len_wind * 100\n",
    "    E_storm = len(E[np.where((E>=gale) & (E<storm))]) / len_wind * 100\n",
    "    E_hurricane = len(E[np.where((E>=storm))]) / len_wind * 100\n",
    "\n",
    "    SE_gentle_breeze = len(SE[np.where(SE<gentle_breeze)]) / len_wind * 100\n",
    "    SE_strong_breeze = len(SE[np.where((SE>=gentle_breeze) & (SE<strong_breeze))]) / len_wind * 100\n",
    "    SE_gale = len(SE[np.where((SE>=strong_breeze) & (SE<gale))]) / len_wind * 100\n",
    "    SE_storm = len(SE[np.where((SE>=gale) & (SE<storm))]) / len_wind * 100\n",
    "    SE_hurricane = len(SE[np.where((SE>=storm))]) / len_wind * 100\n",
    "\n",
    "    S_gentle_breeze = len(S[np.where(S<gentle_breeze)]) / len_wind * 100\n",
    "    S_strong_breeze = len(S[np.where((S>=gentle_breeze) & (S<strong_breeze))]) / len_wind * 100\n",
    "    S_gale = len(S[np.where((S>=strong_breeze) & (S<gale))]) / len_wind * 100\n",
    "    S_storm = len(S[np.where((S>=gale) & (S<storm))]) / len_wind * 100\n",
    "    S_hurricane = len(S[np.where((S>=storm))]) / len_wind * 100\n",
    "\n",
    "    SW_gentle_breeze = len(SW[np.where(SW<gentle_breeze)]) / len_wind * 100\n",
    "    SW_strong_breeze = len(SW[np.where((SW>=gentle_breeze) & (SW<strong_breeze))]) / len_wind * 100\n",
    "    SW_gale = len(SW[np.where((SW>=strong_breeze) & (SW<gale))]) / len_wind * 100\n",
    "    SW_storm = len(SW[np.where((SW>=gale) & (SW<storm))]) / len_wind * 100\n",
    "    SW_hurricane = len(SW[np.where((SW>=storm))]) / len_wind * 100\n",
    "\n",
    "    W_gentle_breeze = len(W[np.where(W<gentle_breeze)]) / len_wind * 100\n",
    "    W_strong_breeze = len(W[np.where((W>=gentle_breeze) & (W<strong_breeze))]) / len_wind * 100\n",
    "    W_gale = len(W[np.where((W>=strong_breeze) & (W<gale))]) / len_wind * 100\n",
    "    W_storm = len(W[np.where((W>=gale) & (W<storm))]) / len_wind * 100\n",
    "    W_hurricane = len(W[np.where((W>=storm))]) / len_wind * 100\n",
    "\n",
    "    NW_gentle_breeze = len(NW[np.where(NW<gentle_breeze)]) / len_wind * 100\n",
    "    NW_strong_breeze = len(NW[np.where((NW>=gentle_breeze) & (NW<strong_breeze))]) / len_wind * 100\n",
    "    NW_gale = len(NW[np.where((NW>=strong_breeze) & (NW<gale))]) / len_wind * 100\n",
    "    NW_storm = len(NW[np.where((NW>=gale) & (NW<storm))]) / len_wind * 100\n",
    "    NW_hurricane = len(NW[np.where((NW>=storm))]) / len_wind * 100\n",
    "\n",
    "    \n",
    "    if js_str:\n",
    "        str0 = \"var light_winds = [{0}, {1}, {2}, {3}, {4}, {5}, {6}, {7}];\".format(N_gentle_breeze, NE_gentle_breeze, E_gentle_breeze, SE_gentle_breeze, S_gentle_breeze, SW_gentle_breeze, W_gentle_breeze, NW_gentle_breeze)\n",
    "        str1 = \"var breeze = [{0}, {1}, {2}, {3}, {4}, {5}, {6}, {7}];\".format(N_strong_breeze, NE_strong_breeze, E_strong_breeze, SE_strong_breeze, S_strong_breeze, SW_strong_breeze, W_strong_breeze, NW_strong_breeze)\n",
    "        str2 = \"var gale = [{0}, {1}, {2}, {3}, {4}, {5}, {6}, {7}];\".format(N_gale, NE_gale, E_gale, SE_gale, S_gale, SW_gale, W_gale, NW_gale)\n",
    "        str3 = \"var storm = [{0}, {1}, {2}, {3}, {4}, {5}, {6}, {7}];\".format(N_storm, NE_storm, E_storm, SE_storm, S_storm, SW_storm, W_storm, NW_storm)\n",
    "        str4 = \"var hurricane = [{0}, {1}, {2}, {3}, {4}, {5}, {6}, {7}];\".format(N_hurricane, NE_hurricane, E_hurricane, SE_hurricane, S_hurricane, SW_hurricane, W_hurricane, NW_hurricane)\n",
    "\n",
    "        json_str = \"{0}\\n{1}\\n{2}\\n{3}\\n{4}\".format(str0, str1, str2, str3, str4)\n",
    "\n",
    "        return json_str\n",
    "    \n",
    "    else:\n",
    "        wind_classes = {\"gentle_breeze\": [N_gentle_breeze, NE_gentle_breeze, E_gentle_breeze, SE_gentle_breeze, S_gentle_breeze, SW_gentle_breeze, W_gentle_breeze, NW_gentle_breeze],\n",
    "                        \"strong_breeze\": [N_strong_breeze, NE_strong_breeze, E_strong_breeze, SE_strong_breeze, S_strong_breeze, SW_strong_breeze, W_strong_breeze, NW_strong_breeze],\n",
    "                        \"gale\": [N_gale, NE_gale, E_gale, SE_gale, S_gale, SW_gale, W_gale, NW_gale],\n",
    "                        \"storm\":[N_storm, NE_storm, E_storm, SE_storm, S_storm, SW_storm, W_storm, NW_storm],\n",
    "                        \"hurricane\": [N_hurricane, NE_hurricane, E_hurricane, SE_hurricane, S_hurricane, SW_hurricane, W_hurricane, NW_hurricane]}\n",
    "        \n",
    "        return wind_classes"
   ]
  },
  {
   "cell_type": "code",
   "execution_count": 4,
   "metadata": {
    "collapsed": true
   },
   "outputs": [],
   "source": [
    "def classify_snow_transport(wind_speed_f, wind_dir_f, js_str=True):\n",
    "    \"\"\"\n",
    "    Classes with regard to transport-thresholds.\n",
    "    \"\"\"\n",
    "    len_wind = len(wind_speed_f)\n",
    "    \n",
    "    # Seperate by wind direction\n",
    "    N = wind_speed_f[np.where((wind_dir_f>-22.5) & (wind_dir_f<=22.5))]\n",
    "\n",
    "    NE = wind_speed_f[np.where((wind_dir_f>22.5) & (wind_dir_f<=67.5))]\n",
    "\n",
    "    E = wind_speed_f[np.where((wind_dir_f>67.5) & (wind_dir_f<=112.5))]\n",
    "\n",
    "    SE = wind_speed_f[np.where((wind_dir_f>112.5) & (wind_dir_f<=167.5))]\n",
    "\n",
    "    S = wind_speed_f[np.where((wind_dir_f>167.5) & (wind_dir_f<=180.0) | (wind_dir_f>-167.5) & (wind_dir_f<=-180.0))]\n",
    "\n",
    "    SW = wind_speed_f[np.where((wind_dir_f>-167.5) & (wind_dir_f<=-112.5))]\n",
    "\n",
    "    W = wind_speed_f[np.where((wind_dir_f>-112.5) & (wind_dir_f<=-67.5))]\n",
    "\n",
    "    NW = wind_speed_f[np.where((wind_dir_f>-67.5) & (wind_dir_f<=-22.5))]\n",
    "    \n",
    "    \n",
    "    # Seperate by wind speed\n",
    "    no_transport = 3.3 # less than light breeze, <2\n",
    "    snowfall = 3.3 # more than light breeze, 3\n",
    "    dry_snow = 5.5 # more than gentle breeze, 4\n",
    "    wet_snow = 7.9 # more than moderate breeze, 5\n",
    "    all_snow = 10.7 # more than fresh breeze, >5\n",
    "\n",
    "    N_no_transport = len(N[np.where(N<no_transport)]) / len_wind * 100\n",
    "    N_snowfall = len(N[np.where((N>=snowfall) & (N<dry_snow))]) / len_wind * 100\n",
    "    N_dry_snow = len(N[np.where((N>=dry_snow) & (N<wet_snow))]) / len_wind * 100\n",
    "    N_wet_snow = len(N[np.where((N>=wet_snow) & (N<all_snow))]) / len_wind * 100\n",
    "    N_all_snow = len(N[np.where((N>=all_snow))]) / len_wind * 100\n",
    "    \n",
    "    NE_no_transport = len(NE[np.where(NE<no_transport)]) / len_wind * 100\n",
    "    NE_snowfall = len(NE[np.where((NE>=snowfall) & (NE<dry_snow))]) / len_wind * 100\n",
    "    NE_dry_snow = len(NE[np.where((NE>=dry_snow) & (NE<wet_snow))]) / len_wind * 100\n",
    "    NE_wet_snow = len(NE[np.where((NE>=wet_snow) & (NE<all_snow))]) / len_wind * 100\n",
    "    NE_all_snow = len(NE[np.where((NE>=all_snow))]) / len_wind * 100\n",
    "    \n",
    "    E_no_transport = len(E[np.where(E<no_transport)]) / len_wind * 100\n",
    "    E_snowfall = len(E[np.where((E>=snowfall) & (E<dry_snow))]) / len_wind * 100\n",
    "    E_dry_snow = len(E[np.where((E>=dry_snow) & (E<wet_snow))]) / len_wind * 100\n",
    "    E_wet_snow = len(E[np.where((E>=wet_snow) & (E<all_snow))]) / len_wind * 100\n",
    "    E_all_snow = len(E[np.where((E>=all_snow))]) / len_wind * 100\n",
    "    \n",
    "    SE_no_transport = len(SE[np.where(SE<no_transport)]) / len_wind * 100\n",
    "    SE_snowfall = len(SE[np.where((SE>=snowfall) & (SE<dry_snow))]) / len_wind * 100\n",
    "    SE_dry_snow = len(SE[np.where((SE>=dry_snow) & (SE<wet_snow))]) / len_wind * 100\n",
    "    SE_wet_snow = len(SE[np.where((SE>=wet_snow) & (SE<all_snow))]) / len_wind * 100\n",
    "    SE_all_snow = len(SE[np.where((SE>=all_snow))]) / len_wind * 100\n",
    "    \n",
    "    S_no_transport = len(S[np.where(S<no_transport)]) / len_wind * 100\n",
    "    S_snowfall = len(S[np.where((S>=snowfall) & (S<dry_snow))]) / len_wind * 100\n",
    "    S_dry_snow = len(S[np.where((S>=dry_snow) & (S<wet_snow))]) / len_wind * 100\n",
    "    S_wet_snow = len(S[np.where((S>=wet_snow) & (S<all_snow))]) / len_wind * 100\n",
    "    S_all_snow = len(S[np.where((S>=all_snow))]) / len_wind * 100\n",
    "\n",
    "    SW_no_transport = len(SW[np.where(SW<no_transport)]) / len_wind * 100\n",
    "    SW_snowfall = len(SW[np.where((SW>=snowfall) & (SW<dry_snow))]) / len_wind * 100\n",
    "    SW_dry_snow = len(SW[np.where((SW>=dry_snow) & (SW<wet_snow))]) / len_wind * 100\n",
    "    SW_wet_snow = len(SW[np.where((SW>=wet_snow) & (SW<all_snow))]) / len_wind * 100\n",
    "    SW_all_snow = len(SW[np.where((SW>=all_snow))]) / len_wind * 100\n",
    "    \n",
    "    W_no_transport = len(W[np.where(W<no_transport)]) / len_wind * 100\n",
    "    W_snowfall = len(W[np.where((W>=snowfall) & (W<dry_snow))]) / len_wind * 100\n",
    "    W_dry_snow = len(W[np.where((W>=dry_snow) & (W<wet_snow))]) / len_wind * 100\n",
    "    W_wet_snow = len(W[np.where((W>=wet_snow) & (W<all_snow))]) / len_wind * 100\n",
    "    W_all_snow = len(W[np.where((W>=all_snow))]) / len_wind * 100\n",
    "    \n",
    "    NW_no_transport = len(NW[np.where(NW<no_transport)]) / len_wind * 100\n",
    "    NW_snowfall = len(NW[np.where((NW>=snowfall) & (NW<dry_snow))]) / len_wind * 100\n",
    "    NW_dry_snow = len(NW[np.where((NW>=dry_snow) & (NW<wet_snow))]) / len_wind * 100\n",
    "    NW_wet_snow = len(NW[np.where((NW>=wet_snow) & (NW<all_snow))]) / len_wind * 100\n",
    "    NW_all_snow = len(NW[np.where((NW>=all_snow))]) / len_wind * 100\n",
    "\n",
    "    \n",
    "    if js_str:\n",
    "        str0 = \"var no_transport = [{0}, {1}, {2}, {3}, {4}, {5}, {6}, {7}];\".format(N_no_transport, NE_no_transport, E_no_transport, SE_no_transport, S_no_transport, SW_no_transport, W_no_transport, NW_no_transport)\n",
    "        str1 = \"var snowfall = [{0}, {1}, {2}, {3}, {4}, {5}, {6}, {7}];\".format(N_snowfall, NE_snowfall, E_snowfall, SE_snowfall, S_snowfall, SW_snowfall, W_snowfall, NW_snowfall)\n",
    "        str2 = \"var dry_snow = [{0}, {1}, {2}, {3}, {4}, {5}, {6}, {7}];\".format(N_dry_snow, NE_dry_snow, E_dry_snow, SE_dry_snow, S_dry_snow, SW_dry_snow, W_dry_snow, NW_dry_snow)\n",
    "        str3 = \"var wet_snow = [{0}, {1}, {2}, {3}, {4}, {5}, {6}, {7}];\".format(N_wet_snow, NE_wet_snow, E_wet_snow, SE_wet_snow, S_wet_snow, SW_wet_snow, W_wet_snow, NW_wet_snow)\n",
    "        str4 = \"var all_snow = [{0}, {1}, {2}, {3}, {4}, {5}, {6}, {7}];\".format(N_all_snow, NE_all_snow, E_all_snow, SE_all_snow, S_all_snow, SW_all_snow, W_all_snow, NW_all_snow)\n",
    "\n",
    "        json_str = \"{0}\\n{1}\\n{2}\\n{3}\\n{4}\".format(str0, str1, str2, str3, str4)\n",
    "\n",
    "        return json_str\n",
    "    \n",
    "    else:\n",
    "        wind_classes = {\"no_transport\": [N_no_transport, NE_no_transport, E_no_transport, SE_no_transport, S_no_transport, SW_no_transport, W_no_transport, NW_no_transport],\n",
    "                        \"snowfall\": [N_snowfall, NE_snowfall, E_snowfall, SE_snowfall, S_snowfall, SW_snowfall, W_snowfall, NW_snowfall],\n",
    "                        \"dry_snow\": [N_dry_snow, NE_dry_snow, E_dry_snow, SE_dry_snow, S_dry_snow, SW_dry_snow, W_dry_snow, NW_dry_snow],\n",
    "                        \"wet_snow\":[N_wet_snow, NE_wet_snow, E_wet_snow, SE_wet_snow, S_wet_snow, SW_wet_snow, W_wet_snow, NW_wet_snow],\n",
    "                        \"all_snow\": [N_all_snow, NE_all_snow, E_all_snow, SE_all_snow, S_all_snow, SW_all_snow, W_all_snow, NW_all_snow]}\n",
    "        \n",
    "        return wind_classes"
   ]
  },
  {
   "cell_type": "markdown",
   "metadata": {},
   "source": [
    "## Loading data sets"
   ]
  },
  {
   "cell_type": "code",
   "execution_count": 7,
   "metadata": {
    "collapsed": true
   },
   "outputs": [],
   "source": [
    "# Load region mask\n",
    "vr = netCDF4.Dataset(r\"../data/terrain_parameters/VarslingsOmr_2017.nc\", \"r\")\n",
    "\n",
    "regions = vr.variables[\"VarslingsOmr_2017\"][:]\n",
    "\n",
    "#ID = 3014 # Lofoten & Vesterålen\n",
    "ID = 3029 # Indre Sogn\n",
    "region_mask = np.where(regions==ID)\n",
    "# get the lower left and upper right corner of a rectangle around the region\n",
    "y_min, y_max, x_min, x_max = min(region_mask[0].flatten()), max(region_mask[0].flatten()), min(region_mask[1].flatten()), max(region_mask[1].flatten())"
   ]
  },
  {
   "cell_type": "code",
   "execution_count": 25,
   "metadata": {
    "collapsed": false
   },
   "outputs": [
    {
     "name": "stdout",
     "output_type": "stream",
     "text": [
      "Time period: 2017-05-12 00:00:00 - 2017-05-12 23:00:00\n",
      "(24, 130, 113)\n"
     ]
    }
   ],
   "source": [
    "#nc = netCDF4.Dataset(r\"Y:\\metdata\\prognosis\\arome\\wind\\netcdf\\2017\\arome2_5_wind_850_NVE_00_2017_04_27.nc\", \"r\")\n",
    "#wind_x_v = nc.variables['x_wind_850hpa']\n",
    "#wind_y_v = nc.variables['y_wind_850hpa']\n",
    "\n",
    "\n",
    "nc = netCDF4.Dataset(r\"X:\\Dev\\netCDF-test\\mepsDetAllWind1x1km_latest.nc\", \"r\")\n",
    "wind_x_v = nc.variables['x_wind_10m']\n",
    "wind_y_v = nc.variables['y_wind_10m']\n",
    "\n",
    "time_v = nc.variables['time']\n",
    "\n",
    "\n",
    "# Determine rectangle for data extraction from netCDF\n",
    "step_x, step_y = 0, 0\n",
    "x1, x2 = x_min-step_x, x_max+step_x # possible to add a buffer of step_x\n",
    "y1, y2 = y_min-step_y, y_max+step_y # possible to add a buffer of step_y\n",
    "\n",
    "print(\"Time period: {0} - {1}\".format(netCDF4.num2date(time_v[18], time_v.units), netCDF4.num2date(time_v[41], time_v.units)))\n",
    "\n",
    "wind_x = wind_x_v[18:42, y1:y2, x1:x2]\n",
    "wind_y = wind_y_v[18:42, y1:y2, x1:x2]\n",
    "print(wind_x.shape)\n",
    "\n",
    "# Mask areas outside given region - could also be applied after calculation of wind speed and directon if this is more efficient.\n",
    "region_mask = regions[y1:y2, x1:x2] # redefine region_mask, now clipped to area of interest\n",
    "\n",
    "wind_x_ma = np.ma.asarray(wind_x)\n",
    "wind_y_ma = np.ma.asarray(wind_y)\n",
    "for i in range(wind_x.shape[0]): \n",
    "    wind_x_ma[i, :, :] = np.ma.masked_where(region_mask!=ID, wind_x[i, :, :], copy=False)\n",
    "    wind_y_ma[i, :, :] = np.ma.masked_where(region_mask!=ID, wind_y[i, :, :], copy=False)"
   ]
  },
  {
   "cell_type": "markdown",
   "metadata": {},
   "source": [
    "**Bug**: the first 12 timesteps have a wrong time and no data! Fimex conversion? It is not in Jess version of the nc-file.\n",
    "\n",
    "**ToDo:** split data in gridcells that are above and below treeline - use an fixed treeline elvation or the vegetation mask for each cell."
   ]
  },
  {
   "cell_type": "markdown",
   "metadata": {},
   "source": [
    "## Calculating wind speed and direction"
   ]
  },
  {
   "cell_type": "code",
   "execution_count": 14,
   "metadata": {
    "collapsed": true
   },
   "outputs": [],
   "source": [
    "# Wind speed vector\n",
    "wind_speed = np.sqrt(wind_x_ma**2 + wind_y_ma**2)\n",
    "\n",
    "# Wind direction - negative to get direction from where the wind is blowing\n",
    "# Should give values between -180 and +180 degrees\n",
    "wind_dir = np.degrees(np.arctan2(-wind_x_ma, -wind_y_ma))\n",
    "\n",
    "# Snow depostition - indicates the aspect where snow is deposited (opposite of wind direction)\n",
    "snow_dep = np.degrees(np.arctan2(wind_x_ma, wind_y_ma))\n",
    "\n",
    "# Flatten all arrays\n",
    "wind_dir_f = wind_dir.flatten()\n",
    "wind_speed_f = wind_speed.flatten()\n",
    "snow_dep_f = snow_dep.flatten()"
   ]
  },
  {
   "cell_type": "code",
   "execution_count": null,
   "metadata": {
    "collapsed": true
   },
   "outputs": [],
   "source": []
  }
 ],
 "metadata": {
  "kernelspec": {
   "display_name": "Python 3",
   "language": "python",
   "name": "python3"
  },
  "language_info": {
   "codemirror_mode": {
    "name": "ipython",
    "version": 3
   },
   "file_extension": ".py",
   "mimetype": "text/x-python",
   "name": "python",
   "nbconvert_exporter": "python",
   "pygments_lexer": "ipython3",
   "version": "3.6.0"
  }
 },
 "nbformat": 4,
 "nbformat_minor": 2
}
