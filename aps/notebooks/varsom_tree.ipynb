{
 "cells": [
  {
   "cell_type": "code",
   "execution_count": null,
   "metadata": {},
   "outputs": [],
   "source": []
  },
  {
   "cell_type": "code",
   "execution_count": 1,
   "metadata": {},
   "outputs": [],
   "source": [
    "import pandas as pd\n",
    "import numpy as np\n",
    "import json\n",
    "import graphviz\n",
    "import matplotlib.pyplot as plt\n",
    "from sklearn import tree\n",
    "from sklearn.preprocessing import LabelEncoder\n",
    "from pprint import pprint\n",
    "\n",
    "pd.set_option(\"display.max_rows\",6)\n",
    "\n",
    "%matplotlib inline"
   ]
  },
  {
   "cell_type": "code",
   "execution_count": null,
   "metadata": {},
   "outputs": [],
   "source": [
    "# analysis of entire data set\n",
    "df_train_data = pd.read_csv('varsom_numdata.csv', index_col=0)"
   ]
  },
  {
   "cell_type": "code",
   "execution_count": null,
   "metadata": {},
   "outputs": [],
   "source": [
    "# used to train and test\n",
    "\"\"\"\n",
    "df_train_data = pd.read_csv('varsom_train_data.csv', index_col=0)\n",
    "df_test_data = pd.read_csv('varsom_test_data.csv', index_col=0)\n",
    "\n",
    "df_train_target = pd.read_csv('varsom_train_target.csv', index_col=0)\n",
    "df_test_target = pd.read_csv('varsom_test_target.csv', index_col=0)\n",
    "\"\"\""
   ]
  },
  {
   "cell_type": "code",
   "execution_count": null,
   "metadata": {},
   "outputs": [],
   "source": []
  },
  {
   "cell_type": "code",
   "execution_count": null,
   "metadata": {},
   "outputs": [],
   "source": []
  },
  {
   "cell_type": "code",
   "execution_count": null,
   "metadata": {},
   "outputs": [],
   "source": []
  },
  {
   "cell_type": "code",
   "execution_count": null,
   "metadata": {},
   "outputs": [],
   "source": [
    "df_train_data.head(5)"
   ]
  },
  {
   "cell_type": "code",
   "execution_count": null,
   "metadata": {},
   "outputs": [],
   "source": [
    "df_train_data.columns.values"
   ]
  },
  {
   "cell_type": "code",
   "execution_count": null,
   "metadata": {},
   "outputs": [],
   "source": [
    "# Check if there are no weired values.\n",
    "for col in df_train_data.drop(['ValidFrom'], axis=1).columns.values:\n",
    "    print(col, ': ', df_train_data[col].unique())"
   ]
  },
  {
   "cell_type": "code",
   "execution_count": null,
   "metadata": {},
   "outputs": [],
   "source": [
    "### Remove the \"2|\" in column Rainfall_Average\n",
    "#df_train_data = df_train_data[df_train_data['Rainfall_Average'] != '2|']        \n",
    "#print(df_train_data['Rainfall_Average'].unique())"
   ]
  },
  {
   "cell_type": "code",
   "execution_count": null,
   "metadata": {},
   "outputs": [],
   "source": [
    "#df_train_data.plot(x='ValidFrom', y='AvalancheProblems_0_AvalancheProblemId', figsize=(16,10), kind='bar')\n",
    "df_train_data['AvalancheProblems_0_AvalancheProblemId'].plot(figsize=(10,10), kind='hist')\n",
    "#df_train_data.plot(subplots=True, figsize=(16,20))"
   ]
  },
  {
   "cell_type": "code",
   "execution_count": null,
   "metadata": {},
   "outputs": [],
   "source": [
    "df_train_target = df_train_data.filter(['DangerLevel'], axis=1)\n",
    "df_train_data = df_train_data.drop(['DangerLevel'], axis=1)\n",
    "\n",
    "data = np.array(df_train_data.drop(['ValidFrom'], axis=1).values, dtype=float)\n",
    "target = np.array(df_train_target.values, dtype=float)\n",
    "print(df_train_data.drop(['ValidFrom'], axis=1).columns.values,\n",
    "     df_train_target.columns.values)\n"
   ]
  },
  {
   "cell_type": "code",
   "execution_count": null,
   "metadata": {},
   "outputs": [],
   "source": [
    "clf = tree.DecisionTreeClassifier(min_samples_leaf=8)\n",
    "clf = clf.fit(data, target)"
   ]
  },
  {
   "cell_type": "code",
   "execution_count": null,
   "metadata": {},
   "outputs": [],
   "source": [
    "dot_data = tree.export_graphviz(clf, out_file=None,\n",
    "                                feature_names = df_train_data.drop(['ValidFrom'], axis=1).columns.values,\n",
    "                                class_names = ['low', 'moderate', 'considerable', 'high'],\n",
    "                                #proportion = True, # show precentages instead of members\n",
    "                                label = \"root\",\n",
    "                                filled=True, rounded=True, special_characters=True                                \n",
    "                                )\n",
    "graph = graphviz.Source(dot_data) \n",
    "graph.render(\"varsom\") "
   ]
  },
  {
   "cell_type": "markdown",
   "metadata": {},
   "source": [
    "## Learning avalanche problems by meteorological factors"
   ]
  },
  {
   "cell_type": "code",
   "execution_count": null,
   "metadata": {},
   "outputs": [],
   "source": [
    "df_train_data2 = pd.read_csv('varsel_nordvestlandet_17_18.csv', index_col=0)\n",
    "\n",
    "pprint(df_train_data2.columns.values)"
   ]
  },
  {
   "cell_type": "code",
   "execution_count": null,
   "metadata": {},
   "outputs": [],
   "source": [
    "### Remove the \"2|\" in column Rainfall_Average\n",
    "df_train_data2 = df_train_data2[df_train_data2['Rainfall_Average'] != '2|']        \n",
    "#print(df_train_data['Rainfall_Average'].unique())"
   ]
  },
  {
   "cell_type": "code",
   "execution_count": null,
   "metadata": {},
   "outputs": [],
   "source": [
    "for col in df_train_data2.columns.values:\n",
    "    print(col, ': ', df_train_data2[col].unique())"
   ]
  },
  {
   "cell_type": "code",
   "execution_count": null,
   "metadata": {},
   "outputs": [],
   "source": [
    "# remove unwanted columns\n",
    "df_train_target2 = df_train_data2.filter(['AvalancheProblems_0_Class_AvalancheProblemTypeId'], axis=1) \n",
    "df_train_data2 = df_train_data2.filter(['Rainfall_Most_exposed_area',\n",
    "                                        'Rainfall_Average',\n",
    "                                        'Wind_Speed_Num',\n",
    "                                        'Wind_Direction_Num',\n",
    "                                        'Temperature_Min',\n",
    "                                        'Temperature_Max',\n",
    "                                        'Temperature_masl',\n",
    "                                        'Freezing_Level_masl'], axis=1)"
   ]
  },
  {
   "cell_type": "code",
   "execution_count": null,
   "metadata": {},
   "outputs": [],
   "source": [
    "# create new data columns with previous days weather data\n",
    "df_train_data2['Rainfall_Most_exposed_area_-1day'] = 0 # precip on the day before\n",
    "\n",
    "for index, row in df_train_data2.iterrows():\n",
    "    try:\n",
    "        df_train_data2.loc[index, 'Rainfall_Most_exposed_area_-1day'] = df_train_data2.loc[index-1, 'Rainfall_Most_exposed_area']\n",
    "    except KeyError:\n",
    "        print(index-1)"
   ]
  },
  {
   "cell_type": "code",
   "execution_count": null,
   "metadata": {},
   "outputs": [],
   "source": [
    "# get the correct target labels\n",
    "with open(r'../config/snoskred_keys.json') as jdata:\n",
    "    snoskred_keys = json.load(jdata)\n",
    "    \n",
    "enc = LabelEncoder()\n",
    "label_encoder = enc.fit(df_train_target2['AvalancheProblems_0_Class_AvalancheProblemTypeId'])\n",
    "print (\"Categorical classes:\", label_encoder.classes_)\n",
    "class_names2 = []\n",
    "for l in label_encoder.classes_:\n",
    "    class_names2.append(snoskred_keys['Class_AvalancheProblemTypeName'][str(l)])\n",
    "print(class_names2)"
   ]
  },
  {
   "cell_type": "code",
   "execution_count": null,
   "metadata": {},
   "outputs": [],
   "source": [
    "data2 = np.array(df_train_data2.values, dtype=float)\n",
    "target2 = np.array(df_train_target2.values, dtype=float)\n",
    "\n",
    "clf2 = tree.DecisionTreeClassifier(min_samples_leaf=8)\n",
    "clf2 = clf2.fit(data2, target2)\n",
    "\n",
    "dot_data2 = tree.export_graphviz(clf2, out_file=None,\n",
    "                                feature_names = df_train_data2.columns.values,\n",
    "                                class_names = class_names2,\n",
    "                                #proportion = True, # show precentages instead of members\n",
    "                                label = \"root\",\n",
    "                                filled=True, rounded=True, special_characters=True                                \n",
    "                                )\n",
    "graph2 = graphviz.Source(dot_data2) \n",
    "graph2.render(\"avalanche_problem_meteo\") "
   ]
  },
  {
   "cell_type": "markdown",
   "metadata": {},
   "source": [
    "## For example on split into test and traininng data to run a prediction see Case_Nordvestlandet_Meteo_Problem.ipynb"
   ]
  },
  {
   "cell_type": "code",
   "execution_count": null,
   "metadata": {},
   "outputs": [],
   "source": []
  },
  {
   "cell_type": "code",
   "execution_count": null,
   "metadata": {},
   "outputs": [],
   "source": []
  },
  {
   "cell_type": "markdown",
   "metadata": {},
   "source": [
    "## Same, but with DecisionTreeRegressor"
   ]
  },
  {
   "cell_type": "code",
   "execution_count": null,
   "metadata": {},
   "outputs": [],
   "source": [
    "clf2 = tree.DecisionTreeRegressor()\n",
    "clf2 = clf2.fit(data, target)\n",
    "\n",
    "dot_data2 = tree.export_graphviz(clf2, out_file=None,\n",
    "                                feature_names = df_train_data.drop(['ValidFrom', 'ValidTo'], axis=1).columns.values,\n",
    "                                filled=True, rounded=True, special_characters=True                                \n",
    "                                )\n",
    "graph2 = graphviz.Source(dot_data2) \n",
    "graph2.render(\"varsom_reg\") "
   ]
  },
  {
   "cell_type": "code",
   "execution_count": null,
   "metadata": {},
   "outputs": [],
   "source": []
  },
  {
   "cell_type": "code",
   "execution_count": null,
   "metadata": {},
   "outputs": [],
   "source": []
  },
  {
   "cell_type": "code",
   "execution_count": null,
   "metadata": {},
   "outputs": [],
   "source": []
  }
 ],
 "metadata": {
  "kernelspec": {
   "display_name": "Python 3",
   "language": "python",
   "name": "python3"
  },
  "language_info": {
   "codemirror_mode": {
    "name": "ipython",
    "version": 3
   },
   "file_extension": ".py",
   "mimetype": "text/x-python",
   "name": "python",
   "nbconvert_exporter": "python",
   "pygments_lexer": "ipython3",
   "version": "3.6.3"
  }
 },
 "nbformat": 4,
 "nbformat_minor": 2
}
