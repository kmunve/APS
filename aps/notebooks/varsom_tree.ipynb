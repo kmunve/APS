{
  "cells": [
    {
      "cell_type": "code",
      "execution_count": null,
      "metadata": {
        "pycharm": {}
      },
      "outputs": [],
      "source": []
    },
    {
      "cell_type": "code",
      "execution_count": 11,
      "metadata": {
        "pycharm": {
          "is_executing": false
        }
      },
      "outputs": [],
      "source": "import pandas as pd\nimport numpy as np\nimport json\nimport graphviz\nimport matplotlib.pyplot as plt\nfrom sklearn import tree\nfrom sklearn.preprocessing import LabelEncoder\nfrom pprint import pprint\nfrom pathlib import Path\n\npd.set_option(\"display.max_rows\",6)\n\n%matplotlib inline"
    },
    {
      "cell_type": "code",
      "execution_count": 15,
      "outputs": [
        {
          "name": "stdout",
          "text": [
            "D:\\Dev\\APS\\aps\\notebooks\n"
          ],
          "output_type": "stream"
        }
      ],
      "source": "aps_path \u003d Path(\u0027./aps/notebooks\u0027).absolute()\nprint(aps_path)\n",
      "metadata": {
        "pycharm": {
          "metadata": false,
          "name": "#%%\n",
          "is_executing": false
        }
      }
    },
    {
      "cell_type": "code",
      "execution_count": 8,
      "metadata": {
        "pycharm": {
          "is_executing": false
        }
      },
      "outputs": [
        {
          "traceback": [
            "\u001b[0;31m---------------------------------------------------------------------------\u001b[0m",
            "\u001b[0;31mFileNotFoundError\u001b[0m                         Traceback (most recent call last)",
            "\u001b[0;32m\u003cipython-input-8-d6dee1098cac\u003e\u001b[0m in \u001b[0;36m\u003cmodule\u003e\u001b[0;34m()\u001b[0m\n\u001b[1;32m      1\u001b[0m \u001b[1;31m# analysis of entire data set\u001b[0m\u001b[1;33m\u001b[0m\u001b[1;33m\u001b[0m\u001b[1;33m\u001b[0m\u001b[0m\n\u001b[0;32m----\u003e 2\u001b[0;31m \u001b[0mdf_train_data\u001b[0m \u001b[1;33m\u003d\u001b[0m \u001b[0mpd\u001b[0m\u001b[1;33m.\u001b[0m\u001b[0mread_csv\u001b[0m\u001b[1;33m(\u001b[0m\u001b[1;34m\u0027varsom_train_data.csv\u0027\u001b[0m\u001b[1;33m,\u001b[0m \u001b[0mindex_col\u001b[0m\u001b[1;33m\u003d\u001b[0m\u001b[1;36m0\u001b[0m\u001b[1;33m)\u001b[0m\u001b[1;33m\u001b[0m\u001b[1;33m\u001b[0m\u001b[0m\n\u001b[0m",
            "\u001b[0;32mC:\\Anaconda3\\lib\\site-packages\\pandas\\io\\parsers.py\u001b[0m in \u001b[0;36mparser_f\u001b[0;34m(filepath_or_buffer, sep, delimiter, header, names, index_col, usecols, squeeze, prefix, mangle_dupe_cols, dtype, engine, converters, true_values, false_values, skipinitialspace, skiprows, nrows, na_values, keep_default_na, na_filter, verbose, skip_blank_lines, parse_dates, infer_datetime_format, keep_date_col, date_parser, dayfirst, iterator, chunksize, compression, thousands, decimal, lineterminator, quotechar, quoting, escapechar, comment, encoding, dialect, tupleize_cols, error_bad_lines, warn_bad_lines, skipfooter, doublequote, delim_whitespace, low_memory, memory_map, float_precision)\u001b[0m\n\u001b[1;32m    676\u001b[0m                     skip_blank_lines\u003dskip_blank_lines)\n\u001b[1;32m    677\u001b[0m \u001b[1;33m\u001b[0m\u001b[0m\n\u001b[0;32m--\u003e 678\u001b[0;31m         \u001b[1;32mreturn\u001b[0m \u001b[0m_read\u001b[0m\u001b[1;33m(\u001b[0m\u001b[0mfilepath_or_buffer\u001b[0m\u001b[1;33m,\u001b[0m \u001b[0mkwds\u001b[0m\u001b[1;33m)\u001b[0m\u001b[1;33m\u001b[0m\u001b[1;33m\u001b[0m\u001b[0m\n\u001b[0m\u001b[1;32m    679\u001b[0m \u001b[1;33m\u001b[0m\u001b[0m\n\u001b[1;32m    680\u001b[0m     \u001b[0mparser_f\u001b[0m\u001b[1;33m.\u001b[0m\u001b[0m__name__\u001b[0m \u001b[1;33m\u003d\u001b[0m \u001b[0mname\u001b[0m\u001b[1;33m\u001b[0m\u001b[1;33m\u001b[0m\u001b[0m\n",
            "\u001b[0;32mC:\\Anaconda3\\lib\\site-packages\\pandas\\io\\parsers.py\u001b[0m in \u001b[0;36m_read\u001b[0;34m(filepath_or_buffer, kwds)\u001b[0m\n\u001b[1;32m    438\u001b[0m \u001b[1;33m\u001b[0m\u001b[0m\n\u001b[1;32m    439\u001b[0m     \u001b[1;31m# Create the parser.\u001b[0m\u001b[1;33m\u001b[0m\u001b[1;33m\u001b[0m\u001b[1;33m\u001b[0m\u001b[0m\n\u001b[0;32m--\u003e 440\u001b[0;31m     \u001b[0mparser\u001b[0m \u001b[1;33m\u003d\u001b[0m \u001b[0mTextFileReader\u001b[0m\u001b[1;33m(\u001b[0m\u001b[0mfilepath_or_buffer\u001b[0m\u001b[1;33m,\u001b[0m \u001b[1;33m**\u001b[0m\u001b[0mkwds\u001b[0m\u001b[1;33m)\u001b[0m\u001b[1;33m\u001b[0m\u001b[1;33m\u001b[0m\u001b[0m\n\u001b[0m\u001b[1;32m    441\u001b[0m \u001b[1;33m\u001b[0m\u001b[0m\n\u001b[1;32m    442\u001b[0m     \u001b[1;32mif\u001b[0m \u001b[0mchunksize\u001b[0m \u001b[1;32mor\u001b[0m \u001b[0miterator\u001b[0m\u001b[1;33m:\u001b[0m\u001b[1;33m\u001b[0m\u001b[1;33m\u001b[0m\u001b[0m\n",
            "\u001b[0;32mC:\\Anaconda3\\lib\\site-packages\\pandas\\io\\parsers.py\u001b[0m in \u001b[0;36m__init__\u001b[0;34m(self, f, engine, **kwds)\u001b[0m\n\u001b[1;32m    785\u001b[0m             \u001b[0mself\u001b[0m\u001b[1;33m.\u001b[0m\u001b[0moptions\u001b[0m\u001b[1;33m[\u001b[0m\u001b[1;34m\u0027has_index_names\u0027\u001b[0m\u001b[1;33m]\u001b[0m \u001b[1;33m\u003d\u001b[0m \u001b[0mkwds\u001b[0m\u001b[1;33m[\u001b[0m\u001b[1;34m\u0027has_index_names\u0027\u001b[0m\u001b[1;33m]\u001b[0m\u001b[1;33m\u001b[0m\u001b[1;33m\u001b[0m\u001b[0m\n\u001b[1;32m    786\u001b[0m \u001b[1;33m\u001b[0m\u001b[0m\n\u001b[0;32m--\u003e 787\u001b[0;31m         \u001b[0mself\u001b[0m\u001b[1;33m.\u001b[0m\u001b[0m_make_engine\u001b[0m\u001b[1;33m(\u001b[0m\u001b[0mself\u001b[0m\u001b[1;33m.\u001b[0m\u001b[0mengine\u001b[0m\u001b[1;33m)\u001b[0m\u001b[1;33m\u001b[0m\u001b[1;33m\u001b[0m\u001b[0m\n\u001b[0m\u001b[1;32m    788\u001b[0m \u001b[1;33m\u001b[0m\u001b[0m\n\u001b[1;32m    789\u001b[0m     \u001b[1;32mdef\u001b[0m \u001b[0mclose\u001b[0m\u001b[1;33m(\u001b[0m\u001b[0mself\u001b[0m\u001b[1;33m)\u001b[0m\u001b[1;33m:\u001b[0m\u001b[1;33m\u001b[0m\u001b[1;33m\u001b[0m\u001b[0m\n",
            "\u001b[0;32mC:\\Anaconda3\\lib\\site-packages\\pandas\\io\\parsers.py\u001b[0m in \u001b[0;36m_make_engine\u001b[0;34m(self, engine)\u001b[0m\n\u001b[1;32m   1012\u001b[0m     \u001b[1;32mdef\u001b[0m \u001b[0m_make_engine\u001b[0m\u001b[1;33m(\u001b[0m\u001b[0mself\u001b[0m\u001b[1;33m,\u001b[0m \u001b[0mengine\u001b[0m\u001b[1;33m\u003d\u001b[0m\u001b[1;34m\u0027c\u0027\u001b[0m\u001b[1;33m)\u001b[0m\u001b[1;33m:\u001b[0m\u001b[1;33m\u001b[0m\u001b[1;33m\u001b[0m\u001b[0m\n\u001b[1;32m   1013\u001b[0m         \u001b[1;32mif\u001b[0m \u001b[0mengine\u001b[0m \u001b[1;33m\u003d\u003d\u001b[0m \u001b[1;34m\u0027c\u0027\u001b[0m\u001b[1;33m:\u001b[0m\u001b[1;33m\u001b[0m\u001b[1;33m\u001b[0m\u001b[0m\n\u001b[0;32m-\u003e 1014\u001b[0;31m             \u001b[0mself\u001b[0m\u001b[1;33m.\u001b[0m\u001b[0m_engine\u001b[0m \u001b[1;33m\u003d\u001b[0m \u001b[0mCParserWrapper\u001b[0m\u001b[1;33m(\u001b[0m\u001b[0mself\u001b[0m\u001b[1;33m.\u001b[0m\u001b[0mf\u001b[0m\u001b[1;33m,\u001b[0m \u001b[1;33m**\u001b[0m\u001b[0mself\u001b[0m\u001b[1;33m.\u001b[0m\u001b[0moptions\u001b[0m\u001b[1;33m)\u001b[0m\u001b[1;33m\u001b[0m\u001b[1;33m\u001b[0m\u001b[0m\n\u001b[0m\u001b[1;32m   1015\u001b[0m         \u001b[1;32melse\u001b[0m\u001b[1;33m:\u001b[0m\u001b[1;33m\u001b[0m\u001b[1;33m\u001b[0m\u001b[0m\n\u001b[1;32m   1016\u001b[0m             \u001b[1;32mif\u001b[0m \u001b[0mengine\u001b[0m \u001b[1;33m\u003d\u003d\u001b[0m \u001b[1;34m\u0027python\u0027\u001b[0m\u001b[1;33m:\u001b[0m\u001b[1;33m\u001b[0m\u001b[1;33m\u001b[0m\u001b[0m\n",
            "\u001b[0;32mC:\\Anaconda3\\lib\\site-packages\\pandas\\io\\parsers.py\u001b[0m in \u001b[0;36m__init__\u001b[0;34m(self, src, **kwds)\u001b[0m\n\u001b[1;32m   1706\u001b[0m         \u001b[0mkwds\u001b[0m\u001b[1;33m[\u001b[0m\u001b[1;34m\u0027usecols\u0027\u001b[0m\u001b[1;33m]\u001b[0m \u001b[1;33m\u003d\u001b[0m \u001b[0mself\u001b[0m\u001b[1;33m.\u001b[0m\u001b[0musecols\u001b[0m\u001b[1;33m\u001b[0m\u001b[1;33m\u001b[0m\u001b[0m\n\u001b[1;32m   1707\u001b[0m \u001b[1;33m\u001b[0m\u001b[0m\n\u001b[0;32m-\u003e 1708\u001b[0;31m         \u001b[0mself\u001b[0m\u001b[1;33m.\u001b[0m\u001b[0m_reader\u001b[0m \u001b[1;33m\u003d\u001b[0m \u001b[0mparsers\u001b[0m\u001b[1;33m.\u001b[0m\u001b[0mTextReader\u001b[0m\u001b[1;33m(\u001b[0m\u001b[0msrc\u001b[0m\u001b[1;33m,\u001b[0m \u001b[1;33m**\u001b[0m\u001b[0mkwds\u001b[0m\u001b[1;33m)\u001b[0m\u001b[1;33m\u001b[0m\u001b[1;33m\u001b[0m\u001b[0m\n\u001b[0m\u001b[1;32m   1709\u001b[0m \u001b[1;33m\u001b[0m\u001b[0m\n\u001b[1;32m   1710\u001b[0m         \u001b[0mpassed_names\u001b[0m \u001b[1;33m\u003d\u001b[0m \u001b[0mself\u001b[0m\u001b[1;33m.\u001b[0m\u001b[0mnames\u001b[0m \u001b[1;32mis\u001b[0m \u001b[1;32mNone\u001b[0m\u001b[1;33m\u001b[0m\u001b[1;33m\u001b[0m\u001b[0m\n",
            "\u001b[0;32mpandas/_libs/parsers.pyx\u001b[0m in \u001b[0;36mpandas._libs.parsers.TextReader.__cinit__\u001b[0;34m()\u001b[0m\n",
            "\u001b[0;32mpandas/_libs/parsers.pyx\u001b[0m in \u001b[0;36mpandas._libs.parsers.TextReader._setup_parser_source\u001b[0;34m()\u001b[0m\n",
            "\u001b[0;31mFileNotFoundError\u001b[0m: File b\u0027varsom_train_data.csv\u0027 does not exist"
          ],
          "ename": "FileNotFoundError",
          "evalue": "File b\u0027varsom_train_data.csv\u0027 does not exist",
          "output_type": "error"
        }
      ],
      "source": "# analysis of entire data set\ndf_train_data \u003d pd.read_csv(aps_path / \u0027varsom_numdata.csv\u0027, index_col\u003d0)"
    },
    {
      "cell_type": "code",
      "execution_count": 16,
      "metadata": {
        "pycharm": {
          "is_executing": false
        }
      },
      "outputs": [],
      "source": "# used to train and test\ndf_train_data \u003d pd.read_csv(aps_path / \u0027varsom_train_data.csv\u0027, index_col\u003d0)\ndf_test_data \u003d pd.read_csv(aps_path / \u0027varsom_test_data.csv\u0027, index_col\u003d0)\n\ndf_train_target \u003d pd.read_csv(aps_path / \u0027varsom_train_target.csv\u0027, index_col\u003d0)\ndf_test_target \u003d pd.read_csv(aps_path / \u0027varsom_test_target.csv\u0027, index_col\u003d0)"
    },
    {
      "cell_type": "code",
      "execution_count": 17,
      "metadata": {
        "pycharm": {
          "is_executing": false
        }
      },
      "outputs": [
        {
          "data": {
            "text/plain": "\u0027D:\\\\Dev\\\\APS\u0027"
          },
          "metadata": {},
          "output_type": "execute_result",
          "execution_count": 17
        }
      ],
      "source": "%pwd"
    },
    {
      "cell_type": "code",
      "execution_count": 17,
      "metadata": {
        "pycharm": {
          "is_executing": false
        }
      },
      "outputs": [],
      "source": []
    },
    {
      "cell_type": "code",
      "execution_count": 17,
      "metadata": {
        "pycharm": {
          "is_executing": false
        }
      },
      "outputs": [],
      "source": []
    },
    {
      "cell_type": "code",
      "execution_count": 18,
      "metadata": {
        "pycharm": {
          "is_executing": false
        }
      },
      "outputs": [
        {
          "data": {
            "text/plain": "       AvalancheProblems_0_AvalProbabilityId  \\\nindex                                          \n150                                        3   \n30                                         3   \n208                                        3   \n342                                        3   \n288                                        2   \n\n       AvalancheProblems_0_Class_AvalDistributionId  \\\nindex                                                 \n150                                               2   \n30                                                2   \n208                                               2   \n342                                               2   \n288                                               2   \n\n       AvalancheProblems_0_AvalTriggerSimpleId  \\\nindex                                            \n150                                         10   \n30                                          10   \n208                                         21   \n342                                         22   \n288                                         10   \n\n       AvalancheProblems_0_AvalancheProblemId  \\\nindex                                           \n150                                         1   \n30                                          1   \n208                                         1   \n342                                         1   \n288                                         2   \n\n       AvalancheProblems_0_Class_AvalancheProblemTypeId  \\\nindex                                                     \n150                                                   6   \n30                                                    6   \n208                                                   6   \n342                                                   2   \n288                                                   7   \n\n       AvalancheProblems_0_AvalancheTypeId  \\\nindex                                        \n150                                     10   \n30                                      10   \n208                                     10   \n342                                     20   \n288                                     10   \n\n       AvalancheProblems_0_DestructiveSizeExtId  \\\nindex                                             \n150                                           2   \n30                                            2   \n208                                           2   \n342                                           2   \n288                                           3   \n\n       AvalancheProblems_1_Class_AvalDistributionId  \\\nindex                                                 \n150                                               2   \n30                                                1   \n208                                               0   \n342                                               1   \n288                                               3   \n\n       AvalancheProblems_1_Class_AvalancheProblemTypeId            ValidFrom  \\\nindex                                                                          \n150                                                   2  2018-04-30T00:00:00   \n30                                                    7  2017-12-31T00:00:00   \n208                                                   0  2017-12-27T00:00:00   \n342                                                   4  2018-05-10T00:00:00   \n288                                                   6  2018-03-17T00:00:00   \n\n       Wind_Speed_Num  Wind_Direction_Num  Temperature_masl  \nindex                                                        \n150                 4                   4              1800  \n30                  4                   5              1800  \n208                 6                   7              1400  \n342                 6                   4              1400  \n288                 2                   0              1400  ",
            "text/html": "\u003cdiv\u003e\n\u003cstyle scoped\u003e\n    .dataframe tbody tr th:only-of-type {\n        vertical-align: middle;\n    }\n\n    .dataframe tbody tr th {\n        vertical-align: top;\n    }\n\n    .dataframe thead th {\n        text-align: right;\n    }\n\u003c/style\u003e\n\u003ctable border\u003d\"1\" class\u003d\"dataframe\"\u003e\n  \u003cthead\u003e\n    \u003ctr style\u003d\"text-align: right;\"\u003e\n      \u003cth\u003e\u003c/th\u003e\n      \u003cth\u003eAvalancheProblems_0_AvalProbabilityId\u003c/th\u003e\n      \u003cth\u003eAvalancheProblems_0_Class_AvalDistributionId\u003c/th\u003e\n      \u003cth\u003eAvalancheProblems_0_AvalTriggerSimpleId\u003c/th\u003e\n      \u003cth\u003eAvalancheProblems_0_AvalancheProblemId\u003c/th\u003e\n      \u003cth\u003eAvalancheProblems_0_Class_AvalancheProblemTypeId\u003c/th\u003e\n      \u003cth\u003eAvalancheProblems_0_AvalancheTypeId\u003c/th\u003e\n      \u003cth\u003eAvalancheProblems_0_DestructiveSizeExtId\u003c/th\u003e\n      \u003cth\u003eAvalancheProblems_1_Class_AvalDistributionId\u003c/th\u003e\n      \u003cth\u003eAvalancheProblems_1_Class_AvalancheProblemTypeId\u003c/th\u003e\n      \u003cth\u003eValidFrom\u003c/th\u003e\n      \u003cth\u003eWind_Speed_Num\u003c/th\u003e\n      \u003cth\u003eWind_Direction_Num\u003c/th\u003e\n      \u003cth\u003eTemperature_masl\u003c/th\u003e\n    \u003c/tr\u003e\n    \u003ctr\u003e\n      \u003cth\u003eindex\u003c/th\u003e\n      \u003cth\u003e\u003c/th\u003e\n      \u003cth\u003e\u003c/th\u003e\n      \u003cth\u003e\u003c/th\u003e\n      \u003cth\u003e\u003c/th\u003e\n      \u003cth\u003e\u003c/th\u003e\n      \u003cth\u003e\u003c/th\u003e\n      \u003cth\u003e\u003c/th\u003e\n      \u003cth\u003e\u003c/th\u003e\n      \u003cth\u003e\u003c/th\u003e\n      \u003cth\u003e\u003c/th\u003e\n      \u003cth\u003e\u003c/th\u003e\n      \u003cth\u003e\u003c/th\u003e\n      \u003cth\u003e\u003c/th\u003e\n    \u003c/tr\u003e\n  \u003c/thead\u003e\n  \u003ctbody\u003e\n    \u003ctr\u003e\n      \u003cth\u003e150\u003c/th\u003e\n      \u003ctd\u003e3\u003c/td\u003e\n      \u003ctd\u003e2\u003c/td\u003e\n      \u003ctd\u003e10\u003c/td\u003e\n      \u003ctd\u003e1\u003c/td\u003e\n      \u003ctd\u003e6\u003c/td\u003e\n      \u003ctd\u003e10\u003c/td\u003e\n      \u003ctd\u003e2\u003c/td\u003e\n      \u003ctd\u003e2\u003c/td\u003e\n      \u003ctd\u003e2\u003c/td\u003e\n      \u003ctd\u003e2018-04-30T00:00:00\u003c/td\u003e\n      \u003ctd\u003e4\u003c/td\u003e\n      \u003ctd\u003e4\u003c/td\u003e\n      \u003ctd\u003e1800\u003c/td\u003e\n    \u003c/tr\u003e\n    \u003ctr\u003e\n      \u003cth\u003e30\u003c/th\u003e\n      \u003ctd\u003e3\u003c/td\u003e\n      \u003ctd\u003e2\u003c/td\u003e\n      \u003ctd\u003e10\u003c/td\u003e\n      \u003ctd\u003e1\u003c/td\u003e\n      \u003ctd\u003e6\u003c/td\u003e\n      \u003ctd\u003e10\u003c/td\u003e\n      \u003ctd\u003e2\u003c/td\u003e\n      \u003ctd\u003e1\u003c/td\u003e\n      \u003ctd\u003e7\u003c/td\u003e\n      \u003ctd\u003e2017-12-31T00:00:00\u003c/td\u003e\n      \u003ctd\u003e4\u003c/td\u003e\n      \u003ctd\u003e5\u003c/td\u003e\n      \u003ctd\u003e1800\u003c/td\u003e\n    \u003c/tr\u003e\n    \u003ctr\u003e\n      \u003cth\u003e208\u003c/th\u003e\n      \u003ctd\u003e3\u003c/td\u003e\n      \u003ctd\u003e2\u003c/td\u003e\n      \u003ctd\u003e21\u003c/td\u003e\n      \u003ctd\u003e1\u003c/td\u003e\n      \u003ctd\u003e6\u003c/td\u003e\n      \u003ctd\u003e10\u003c/td\u003e\n      \u003ctd\u003e2\u003c/td\u003e\n      \u003ctd\u003e0\u003c/td\u003e\n      \u003ctd\u003e0\u003c/td\u003e\n      \u003ctd\u003e2017-12-27T00:00:00\u003c/td\u003e\n      \u003ctd\u003e6\u003c/td\u003e\n      \u003ctd\u003e7\u003c/td\u003e\n      \u003ctd\u003e1400\u003c/td\u003e\n    \u003c/tr\u003e\n    \u003ctr\u003e\n      \u003cth\u003e342\u003c/th\u003e\n      \u003ctd\u003e3\u003c/td\u003e\n      \u003ctd\u003e2\u003c/td\u003e\n      \u003ctd\u003e22\u003c/td\u003e\n      \u003ctd\u003e1\u003c/td\u003e\n      \u003ctd\u003e2\u003c/td\u003e\n      \u003ctd\u003e20\u003c/td\u003e\n      \u003ctd\u003e2\u003c/td\u003e\n      \u003ctd\u003e1\u003c/td\u003e\n      \u003ctd\u003e4\u003c/td\u003e\n      \u003ctd\u003e2018-05-10T00:00:00\u003c/td\u003e\n      \u003ctd\u003e6\u003c/td\u003e\n      \u003ctd\u003e4\u003c/td\u003e\n      \u003ctd\u003e1400\u003c/td\u003e\n    \u003c/tr\u003e\n    \u003ctr\u003e\n      \u003cth\u003e288\u003c/th\u003e\n      \u003ctd\u003e2\u003c/td\u003e\n      \u003ctd\u003e2\u003c/td\u003e\n      \u003ctd\u003e10\u003c/td\u003e\n      \u003ctd\u003e2\u003c/td\u003e\n      \u003ctd\u003e7\u003c/td\u003e\n      \u003ctd\u003e10\u003c/td\u003e\n      \u003ctd\u003e3\u003c/td\u003e\n      \u003ctd\u003e3\u003c/td\u003e\n      \u003ctd\u003e6\u003c/td\u003e\n      \u003ctd\u003e2018-03-17T00:00:00\u003c/td\u003e\n      \u003ctd\u003e2\u003c/td\u003e\n      \u003ctd\u003e0\u003c/td\u003e\n      \u003ctd\u003e1400\u003c/td\u003e\n    \u003c/tr\u003e\n  \u003c/tbody\u003e\n\u003c/table\u003e\n\u003c/div\u003e"
          },
          "metadata": {},
          "output_type": "execute_result",
          "execution_count": 18
        }
      ],
      "source": [
        "df_train_data.head(5)"
      ]
    },
    {
      "cell_type": "code",
      "execution_count": 19,
      "metadata": {
        "pycharm": {
          "is_executing": false
        }
      },
      "outputs": [
        {
          "data": {
            "text/plain": "array([\u0027AvalancheProblems_0_AvalProbabilityId\u0027,\n       \u0027AvalancheProblems_0_Class_AvalDistributionId\u0027,\n       \u0027AvalancheProblems_0_AvalTriggerSimpleId\u0027,\n       \u0027AvalancheProblems_0_AvalancheProblemId\u0027,\n       \u0027AvalancheProblems_0_Class_AvalancheProblemTypeId\u0027,\n       \u0027AvalancheProblems_0_AvalancheTypeId\u0027,\n       \u0027AvalancheProblems_0_DestructiveSizeExtId\u0027,\n       \u0027AvalancheProblems_1_Class_AvalDistributionId\u0027,\n       \u0027AvalancheProblems_1_Class_AvalancheProblemTypeId\u0027, \u0027ValidFrom\u0027,\n       \u0027Wind_Speed_Num\u0027, \u0027Wind_Direction_Num\u0027, \u0027Temperature_masl\u0027],\n      dtype\u003dobject)"
          },
          "metadata": {},
          "output_type": "execute_result",
          "execution_count": 19
        }
      ],
      "source": [
        "df_train_data.columns.values"
      ]
    },
    {
      "cell_type": "code",
      "execution_count": 20,
      "metadata": {
        "pycharm": {
          "is_executing": false
        }
      },
      "outputs": [
        {
          "name": "stdout",
          "text": [
            "AvalancheProblems_0_AvalProbabilityId :  [3 2 5]\nAvalancheProblems_0_Class_AvalDistributionId :  [2 3 1]\nAvalancheProblems_0_AvalTriggerSimpleId :  [10 21 22]\nAvalancheProblems_0_AvalancheProblemId :  [1 2 3]\nAvalancheProblems_0_Class_AvalancheProblemTypeId :  [6 2 7 5 4]\nAvalancheProblems_0_AvalancheTypeId :  [10 20]\nAvalancheProblems_0_DestructiveSizeExtId :  [2 3 1]\nAvalancheProblems_1_Class_AvalDistributionId :  [2 1 0 3]\nAvalancheProblems_1_Class_AvalancheProblemTypeId :  [2 7 0 4 6 5]\nWind_Speed_Num :  [ 4  6  2  9  5  7  8 10]\nWind_Direction_Num :  [4 5 7 0 1 3 6 2 8]\nTemperature_masl :  [1800 1400]\n"
          ],
          "output_type": "stream"
        }
      ],
      "source": [
        "# Check if there are no weired values.\n",
        "for col in df_train_data.drop([\u0027ValidFrom\u0027], axis\u003d1).columns.values:\n",
        "    print(col, \u0027: \u0027, df_train_data[col].unique())"
      ]
    },
    {
      "cell_type": "code",
      "execution_count": 21,
      "metadata": {
        "pycharm": {
          "is_executing": false
        }
      },
      "outputs": [],
      "source": [
        "### Remove the \"2|\" in column Rainfall_Average\n",
        "#df_train_data \u003d df_train_data[df_train_data[\u0027Rainfall_Average\u0027] !\u003d \u00272|\u0027]        \n",
        "#print(df_train_data[\u0027Rainfall_Average\u0027].unique())"
      ]
    },
    {
      "cell_type": "code",
      "execution_count": 22,
      "metadata": {
        "pycharm": {
          "is_executing": false
        }
      },
      "outputs": [
        {
          "data": {
            "text/plain": "\u003cmatplotlib.axes._subplots.AxesSubplot at 0x227b4419c88\u003e"
          },
          "metadata": {},
          "output_type": "execute_result",
          "execution_count": 22
        },
        {
          "data": {
            "text/plain": "\u003cFigure size 720x720 with 1 Axes\u003e",
            "image/png": "[encoded data removed]"
          },
          "metadata": {},
          "output_type": "display_data"
        }
      ],
      "source": [
        "#df_train_data.plot(x\u003d\u0027ValidFrom\u0027, y\u003d\u0027AvalancheProblems_0_AvalancheProblemId\u0027, figsize\u003d(16,10), kind\u003d\u0027bar\u0027)\n",
        "df_train_data[\u0027AvalancheProblems_0_AvalancheProblemId\u0027].plot(figsize\u003d(10,10), kind\u003d\u0027hist\u0027)\n",
        "#df_train_data.plot(subplots\u003dTrue, figsize\u003d(16,20))"
      ]
    },
    {
      "cell_type": "code",
      "execution_count": 25,
      "metadata": {
        "pycharm": {
          "is_executing": false
        }
      },
      "outputs": [
        {
          "name": "stdout",
          "text": [
            "[\u0027AvalancheProblems_0_AvalProbabilityId\u0027\n \u0027AvalancheProblems_0_Class_AvalDistributionId\u0027\n \u0027AvalancheProblems_0_AvalTriggerSimpleId\u0027\n \u0027AvalancheProblems_0_AvalancheProblemId\u0027\n \u0027AvalancheProblems_0_Class_AvalancheProblemTypeId\u0027\n \u0027AvalancheProblems_0_AvalancheTypeId\u0027\n \u0027AvalancheProblems_0_DestructiveSizeExtId\u0027\n \u0027AvalancheProblems_1_Class_AvalDistributionId\u0027\n \u0027AvalancheProblems_1_Class_AvalancheProblemTypeId\u0027 \u0027Wind_Speed_Num\u0027\n \u0027Wind_Direction_Num\u0027 \u0027Temperature_masl\u0027] []\n"
          ],
          "output_type": "stream"
        }
      ],
      "source": "#df_train_target \u003d df_train_data.filter([\u0027DangerLevel\u0027], axis\u003d1)\n#df_train_data \u003d df_train_data.drop([\u0027DangerLevel\u0027], axis\u003d1)\n\ndata \u003d np.array(df_train_data.drop([\u0027ValidFrom\u0027], axis\u003d1).values, dtype\u003dfloat)\ntarget \u003d np.array(df_train_target.values, dtype\u003dfloat)\nprint(df_train_data.drop([\u0027ValidFrom\u0027], axis\u003d1).columns.values,\n     df_train_target.columns.values)\n"
    },
    {
      "cell_type": "code",
      "execution_count": 24,
      "metadata": {
        "pycharm": {
          "is_executing": false
        }
      },
      "outputs": [
        {
          "traceback": [
            "\u001b[0;31m---------------------------------------------------------------------------\u001b[0m",
            "\u001b[0;31mNameError\u001b[0m                                 Traceback (most recent call last)",
            "\u001b[0;32m\u003cipython-input-24-02d69b983662\u003e\u001b[0m in \u001b[0;36m\u003cmodule\u003e\u001b[0;34m()\u001b[0m\n\u001b[1;32m      1\u001b[0m \u001b[0mclf\u001b[0m \u001b[1;33m\u003d\u001b[0m \u001b[0mtree\u001b[0m\u001b[1;33m.\u001b[0m\u001b[0mDecisionTreeClassifier\u001b[0m\u001b[1;33m(\u001b[0m\u001b[0mmin_samples_leaf\u001b[0m\u001b[1;33m\u003d\u001b[0m\u001b[1;36m8\u001b[0m\u001b[1;33m)\u001b[0m\u001b[1;33m\u001b[0m\u001b[1;33m\u001b[0m\u001b[0m\n\u001b[0;32m----\u003e 2\u001b[0;31m \u001b[0mclf\u001b[0m \u001b[1;33m\u003d\u001b[0m \u001b[0mclf\u001b[0m\u001b[1;33m.\u001b[0m\u001b[0mfit\u001b[0m\u001b[1;33m(\u001b[0m\u001b[0mdata\u001b[0m\u001b[1;33m,\u001b[0m \u001b[0mtarget\u001b[0m\u001b[1;33m)\u001b[0m\u001b[1;33m\u001b[0m\u001b[1;33m\u001b[0m\u001b[0m\n\u001b[0m",
            "\u001b[0;31mNameError\u001b[0m: name \u0027data\u0027 is not defined"
          ],
          "ename": "NameError",
          "evalue": "name \u0027data\u0027 is not defined",
          "output_type": "error"
        }
      ],
      "source": [
        "clf \u003d tree.DecisionTreeClassifier(min_samples_leaf\u003d8)\n",
        "clf \u003d clf.fit(data, target)"
      ]
    },
    {
      "cell_type": "code",
      "execution_count": null,
      "metadata": {
        "pycharm": {}
      },
      "outputs": [],
      "source": [
        "dot_data \u003d tree.export_graphviz(clf, out_file\u003dNone,\n",
        "                                feature_names \u003d df_train_data.drop([\u0027ValidFrom\u0027], axis\u003d1).columns.values,\n",
        "                                class_names \u003d [\u0027low\u0027, \u0027moderate\u0027, \u0027considerable\u0027, \u0027high\u0027],\n",
        "                                #proportion \u003d True, # show precentages instead of members\n",
        "                                label \u003d \"root\",\n",
        "                                filled\u003dTrue, rounded\u003dTrue, special_characters\u003dTrue                                \n",
        "                                )\n",
        "graph \u003d graphviz.Source(dot_data) \n",
        "graph.render(\"varsom\") "
      ]
    },
    {
      "cell_type": "markdown",
      "metadata": {
        "pycharm": {}
      },
      "source": [
        "## Learning avalanche problems by meteorological factors"
      ]
    },
    {
      "cell_type": "code",
      "execution_count": null,
      "metadata": {
        "pycharm": {}
      },
      "outputs": [],
      "source": [
        "df_train_data2 \u003d pd.read_csv(\u0027varsel_nordvestlandet_17_18.csv\u0027, index_col\u003d0)\n",
        "\n",
        "pprint(df_train_data2.columns.values)"
      ]
    },
    {
      "cell_type": "code",
      "execution_count": null,
      "metadata": {
        "pycharm": {}
      },
      "outputs": [],
      "source": [
        "### Remove the \"2|\" in column Rainfall_Average\n",
        "df_train_data2 \u003d df_train_data2[df_train_data2[\u0027Rainfall_Average\u0027] !\u003d \u00272|\u0027]        \n",
        "#print(df_train_data[\u0027Rainfall_Average\u0027].unique())"
      ]
    },
    {
      "cell_type": "code",
      "execution_count": null,
      "metadata": {
        "pycharm": {}
      },
      "outputs": [],
      "source": [
        "for col in df_train_data2.columns.values:\n",
        "    print(col, \u0027: \u0027, df_train_data2[col].unique())"
      ]
    },
    {
      "cell_type": "code",
      "execution_count": null,
      "metadata": {
        "pycharm": {}
      },
      "outputs": [],
      "source": [
        "# remove unwanted columns\n",
        "df_train_target2 \u003d df_train_data2.filter([\u0027AvalancheProblems_0_Class_AvalancheProblemTypeId\u0027], axis\u003d1) \n",
        "df_train_data2 \u003d df_train_data2.filter([\u0027Rainfall_Most_exposed_area\u0027,\n",
        "                                        \u0027Rainfall_Average\u0027,\n",
        "                                        \u0027Wind_Speed_Num\u0027,\n",
        "                                        \u0027Wind_Direction_Num\u0027,\n",
        "                                        \u0027Temperature_Min\u0027,\n",
        "                                        \u0027Temperature_Max\u0027,\n",
        "                                        \u0027Temperature_masl\u0027,\n",
        "                                        \u0027Freezing_Level_masl\u0027], axis\u003d1)"
      ]
    },
    {
      "cell_type": "code",
      "execution_count": null,
      "metadata": {
        "pycharm": {}
      },
      "outputs": [],
      "source": [
        "# create new data columns with previous days weather data\n",
        "df_train_data2[\u0027Rainfall_Most_exposed_area_-1day\u0027] \u003d 0 # precip on the day before\n",
        "\n",
        "for index, row in df_train_data2.iterrows():\n",
        "    try:\n",
        "        df_train_data2.loc[index, \u0027Rainfall_Most_exposed_area_-1day\u0027] \u003d df_train_data2.loc[index-1, \u0027Rainfall_Most_exposed_area\u0027]\n",
        "    except KeyError:\n",
        "        print(index-1)"
      ]
    },
    {
      "cell_type": "code",
      "execution_count": null,
      "metadata": {
        "pycharm": {}
      },
      "outputs": [],
      "source": [
        "# get the correct target labels\n",
        "with open(r\u0027../config/snoskred_keys.json\u0027) as jdata:\n",
        "    snoskred_keys \u003d json.load(jdata)\n",
        "    \n",
        "enc \u003d LabelEncoder()\n",
        "label_encoder \u003d enc.fit(df_train_target2[\u0027AvalancheProblems_0_Class_AvalancheProblemTypeId\u0027])\n",
        "print (\"Categorical classes:\", label_encoder.classes_)\n",
        "class_names2 \u003d []\n",
        "for l in label_encoder.classes_:\n",
        "    class_names2.append(snoskred_keys[\u0027Class_AvalancheProblemTypeName\u0027][str(l)])\n",
        "print(class_names2)"
      ]
    },
    {
      "cell_type": "code",
      "execution_count": null,
      "metadata": {
        "pycharm": {}
      },
      "outputs": [],
      "source": [
        "data2 \u003d np.array(df_train_data2.values, dtype\u003dfloat)\n",
        "target2 \u003d np.array(df_train_target2.values, dtype\u003dfloat)\n",
        "\n",
        "clf2 \u003d tree.DecisionTreeClassifier(min_samples_leaf\u003d8)\n",
        "clf2 \u003d clf2.fit(data2, target2)\n",
        "\n",
        "dot_data2 \u003d tree.export_graphviz(clf2, out_file\u003dNone,\n",
        "                                feature_names \u003d df_train_data2.columns.values,\n",
        "                                class_names \u003d class_names2,\n",
        "                                #proportion \u003d True, # show precentages instead of members\n",
        "                                label \u003d \"root\",\n",
        "                                filled\u003dTrue, rounded\u003dTrue, special_characters\u003dTrue                                \n",
        "                                )\n",
        "graph2 \u003d graphviz.Source(dot_data2) \n",
        "graph2.render(\"avalanche_problem_meteo\") "
      ]
    },
    {
      "cell_type": "markdown",
      "metadata": {
        "pycharm": {}
      },
      "source": [
        "## For example on split into test and traininng data to run a prediction see Case_Nordvestlandet_Meteo_Problem.ipynb"
      ]
    },
    {
      "cell_type": "code",
      "execution_count": null,
      "metadata": {
        "pycharm": {}
      },
      "outputs": [],
      "source": []
    },
    {
      "cell_type": "code",
      "execution_count": null,
      "metadata": {
        "pycharm": {}
      },
      "outputs": [],
      "source": []
    },
    {
      "cell_type": "markdown",
      "metadata": {
        "pycharm": {}
      },
      "source": [
        "## Same, but with DecisionTreeRegressor"
      ]
    },
    {
      "cell_type": "code",
      "execution_count": null,
      "metadata": {
        "pycharm": {}
      },
      "outputs": [],
      "source": [
        "clf2 \u003d tree.DecisionTreeRegressor()\n",
        "clf2 \u003d clf2.fit(data, target)\n",
        "\n",
        "dot_data2 \u003d tree.export_graphviz(clf2, out_file\u003dNone,\n",
        "                                feature_names \u003d df_train_data.drop([\u0027ValidFrom\u0027, \u0027ValidTo\u0027], axis\u003d1).columns.values,\n",
        "                                filled\u003dTrue, rounded\u003dTrue, special_characters\u003dTrue                                \n",
        "                                )\n",
        "graph2 \u003d graphviz.Source(dot_data2) \n",
        "graph2.render(\"varsom_reg\") "
      ]
    },
    {
      "cell_type": "code",
      "execution_count": null,
      "metadata": {
        "pycharm": {}
      },
      "outputs": [],
      "source": []
    },
    {
      "cell_type": "code",
      "execution_count": null,
      "metadata": {
        "pycharm": {}
      },
      "outputs": [],
      "source": []
    },
    {
      "cell_type": "code",
      "execution_count": null,
      "metadata": {
        "pycharm": {}
      },
      "outputs": [],
      "source": []
    }
  ],
  "metadata": {
    "kernelspec": {
      "display_name": "Python 3",
      "language": "python",
      "name": "python3"
    },
    "language_info": {
      "codemirror_mode": {
        "name": "ipython",
        "version": 3
      },
      "file_extension": ".py",
      "mimetype": "text/x-python",
      "name": "python",
      "nbconvert_exporter": "python",
      "pygments_lexer": "ipython3",
      "version": "3.6.0"
    }
  },
  "nbformat": 4,
  "nbformat_minor": 2
}