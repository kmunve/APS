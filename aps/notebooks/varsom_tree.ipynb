{
 "cells": [
  {
   "cell_type": "code",
   "execution_count": null,
   "metadata": {},
   "outputs": [],
   "source": []
  },
  {
   "cell_type": "code",
   "execution_count": 8,
   "metadata": {},
   "outputs": [],
   "source": [
    "import pandas as pd\n",
    "import numpy as np\n",
    "import json\n",
    "import graphviz\n",
    "import matplotlib.pyplot as plt\n",
    "from sklearn import tree\n",
    "from pprint import pprint\n",
    "\n",
    "pd.set_option(\"display.max_rows\",6)\n",
    "\n",
    "%matplotlib inline"
   ]
  },
  {
   "cell_type": "code",
   "execution_count": 9,
   "metadata": {},
   "outputs": [],
   "source": [
    "# analysis of entire data set\n",
    "df_train_data = pd.read_csv('varsom_numdata.csv', index_col=0)"
   ]
  },
  {
   "cell_type": "code",
   "execution_count": 10,
   "metadata": {},
   "outputs": [
    {
     "data": {
      "text/plain": [
       "\"\\ndf_train_data = pd.read_csv('varsom_train_data.csv', index_col=0)\\ndf_test_data = pd.read_csv('varsom_test_data.csv', index_col=0)\\n\\ndf_train_target = pd.read_csv('varsom_train_target.csv', index_col=0)\\ndf_test_target = pd.read_csv('varsom_test_target.csv', index_col=0)\\n\""
      ]
     },
     "execution_count": 10,
     "metadata": {},
     "output_type": "execute_result"
    }
   ],
   "source": [
    "# used to train and test\n",
    "\"\"\"\n",
    "df_train_data = pd.read_csv('varsom_train_data.csv', index_col=0)\n",
    "df_test_data = pd.read_csv('varsom_test_data.csv', index_col=0)\n",
    "\n",
    "df_train_target = pd.read_csv('varsom_train_target.csv', index_col=0)\n",
    "df_test_target = pd.read_csv('varsom_test_target.csv', index_col=0)\n",
    "\"\"\""
   ]
  },
  {
   "cell_type": "code",
   "execution_count": null,
   "metadata": {},
   "outputs": [],
   "source": []
  },
  {
   "cell_type": "code",
   "execution_count": null,
   "metadata": {},
   "outputs": [],
   "source": []
  },
  {
   "cell_type": "code",
   "execution_count": null,
   "metadata": {},
   "outputs": [],
   "source": []
  },
  {
   "cell_type": "code",
   "execution_count": 11,
   "metadata": {},
   "outputs": [
    {
     "data": {
      "text/html": [
       "<div>\n",
       "<style scoped>\n",
       "    .dataframe tbody tr th:only-of-type {\n",
       "        vertical-align: middle;\n",
       "    }\n",
       "\n",
       "    .dataframe tbody tr th {\n",
       "        vertical-align: top;\n",
       "    }\n",
       "\n",
       "    .dataframe thead th {\n",
       "        text-align: right;\n",
       "    }\n",
       "</style>\n",
       "<table border=\"1\" class=\"dataframe\">\n",
       "  <thead>\n",
       "    <tr style=\"text-align: right;\">\n",
       "      <th></th>\n",
       "      <th>AvalancheProblems_0_AvalProbabilityId</th>\n",
       "      <th>AvalancheProblems_0_Class_AvalDistributionId</th>\n",
       "      <th>AvalancheProblems_0_AvalTriggerSimpleId</th>\n",
       "      <th>AvalancheProblems_0_AvalancheProblemId</th>\n",
       "      <th>AvalancheProblems_0_Class_AvalancheProblemTypeId</th>\n",
       "      <th>AvalancheProblems_0_AvalancheTypeId</th>\n",
       "      <th>AvalancheProblems_0_DestructiveSizeExtId</th>\n",
       "      <th>AvalancheProblems_1_AvalProbabilityId</th>\n",
       "      <th>AvalancheProblems_1_Class_AvalDistributionId</th>\n",
       "      <th>AvalancheProblems_1_AvalTriggerSimpleId</th>\n",
       "      <th>...</th>\n",
       "      <th>DangerLevel</th>\n",
       "      <th>ValidFrom</th>\n",
       "      <th>Rainfall_Most_exposed_area</th>\n",
       "      <th>Rainfall_Average</th>\n",
       "      <th>Wind_Speed_Num</th>\n",
       "      <th>Wind_Direction_Num</th>\n",
       "      <th>Temperature_Min</th>\n",
       "      <th>Temperature_Max</th>\n",
       "      <th>Temperature_masl</th>\n",
       "      <th>Freezing_Level_masl</th>\n",
       "    </tr>\n",
       "    <tr>\n",
       "      <th>index</th>\n",
       "      <th></th>\n",
       "      <th></th>\n",
       "      <th></th>\n",
       "      <th></th>\n",
       "      <th></th>\n",
       "      <th></th>\n",
       "      <th></th>\n",
       "      <th></th>\n",
       "      <th></th>\n",
       "      <th></th>\n",
       "      <th></th>\n",
       "      <th></th>\n",
       "      <th></th>\n",
       "      <th></th>\n",
       "      <th></th>\n",
       "      <th></th>\n",
       "      <th></th>\n",
       "      <th></th>\n",
       "      <th></th>\n",
       "      <th></th>\n",
       "      <th></th>\n",
       "    </tr>\n",
       "  </thead>\n",
       "  <tbody>\n",
       "    <tr>\n",
       "      <th>0</th>\n",
       "      <td>3</td>\n",
       "      <td>2</td>\n",
       "      <td>10</td>\n",
       "      <td>1</td>\n",
       "      <td>6</td>\n",
       "      <td>10</td>\n",
       "      <td>2</td>\n",
       "      <td>0.0</td>\n",
       "      <td>0</td>\n",
       "      <td>0.0</td>\n",
       "      <td>...</td>\n",
       "      <td>2</td>\n",
       "      <td>2017-12-01T00:00:00</td>\n",
       "      <td>0</td>\n",
       "      <td>0</td>\n",
       "      <td>4</td>\n",
       "      <td>6</td>\n",
       "      <td>-17</td>\n",
       "      <td>-5.0</td>\n",
       "      <td>1800</td>\n",
       "      <td>0</td>\n",
       "    </tr>\n",
       "    <tr>\n",
       "      <th>1</th>\n",
       "      <td>3</td>\n",
       "      <td>2</td>\n",
       "      <td>10</td>\n",
       "      <td>1</td>\n",
       "      <td>6</td>\n",
       "      <td>10</td>\n",
       "      <td>2</td>\n",
       "      <td>3.0</td>\n",
       "      <td>2</td>\n",
       "      <td>10.0</td>\n",
       "      <td>...</td>\n",
       "      <td>2</td>\n",
       "      <td>2017-12-02T00:00:00</td>\n",
       "      <td>6</td>\n",
       "      <td>2</td>\n",
       "      <td>7</td>\n",
       "      <td>7</td>\n",
       "      <td>-7</td>\n",
       "      <td>-1.0</td>\n",
       "      <td>1800</td>\n",
       "      <td>1200</td>\n",
       "    </tr>\n",
       "    <tr>\n",
       "      <th>2</th>\n",
       "      <td>3</td>\n",
       "      <td>2</td>\n",
       "      <td>10</td>\n",
       "      <td>1</td>\n",
       "      <td>6</td>\n",
       "      <td>10</td>\n",
       "      <td>2</td>\n",
       "      <td>0.0</td>\n",
       "      <td>0</td>\n",
       "      <td>0.0</td>\n",
       "      <td>...</td>\n",
       "      <td>2</td>\n",
       "      <td>2017-12-03T00:00:00</td>\n",
       "      <td>15</td>\n",
       "      <td>2</td>\n",
       "      <td>6</td>\n",
       "      <td>7</td>\n",
       "      <td>-10</td>\n",
       "      <td>-5.0</td>\n",
       "      <td>1800</td>\n",
       "      <td>0</td>\n",
       "    </tr>\n",
       "    <tr>\n",
       "      <th>3</th>\n",
       "      <td>3</td>\n",
       "      <td>2</td>\n",
       "      <td>10</td>\n",
       "      <td>1</td>\n",
       "      <td>6</td>\n",
       "      <td>10</td>\n",
       "      <td>2</td>\n",
       "      <td>0.0</td>\n",
       "      <td>0</td>\n",
       "      <td>0.0</td>\n",
       "      <td>...</td>\n",
       "      <td>2</td>\n",
       "      <td>2017-12-04T00:00:00</td>\n",
       "      <td>7</td>\n",
       "      <td>1</td>\n",
       "      <td>6</td>\n",
       "      <td>7</td>\n",
       "      <td>-11</td>\n",
       "      <td>-5.0</td>\n",
       "      <td>1800</td>\n",
       "      <td>0</td>\n",
       "    </tr>\n",
       "    <tr>\n",
       "      <th>4</th>\n",
       "      <td>3</td>\n",
       "      <td>2</td>\n",
       "      <td>21</td>\n",
       "      <td>1</td>\n",
       "      <td>5</td>\n",
       "      <td>10</td>\n",
       "      <td>2</td>\n",
       "      <td>3.0</td>\n",
       "      <td>2</td>\n",
       "      <td>21.0</td>\n",
       "      <td>...</td>\n",
       "      <td>2</td>\n",
       "      <td>2017-12-05T00:00:00</td>\n",
       "      <td>16</td>\n",
       "      <td>5</td>\n",
       "      <td>7</td>\n",
       "      <td>7</td>\n",
       "      <td>-8</td>\n",
       "      <td>-2.0</td>\n",
       "      <td>1800</td>\n",
       "      <td>1000</td>\n",
       "    </tr>\n",
       "  </tbody>\n",
       "</table>\n",
       "<p>5 rows × 24 columns</p>\n",
       "</div>"
      ],
      "text/plain": [
       "       AvalancheProblems_0_AvalProbabilityId  \\\n",
       "index                                          \n",
       "0                                          3   \n",
       "1                                          3   \n",
       "2                                          3   \n",
       "3                                          3   \n",
       "4                                          3   \n",
       "\n",
       "       AvalancheProblems_0_Class_AvalDistributionId  \\\n",
       "index                                                 \n",
       "0                                                 2   \n",
       "1                                                 2   \n",
       "2                                                 2   \n",
       "3                                                 2   \n",
       "4                                                 2   \n",
       "\n",
       "       AvalancheProblems_0_AvalTriggerSimpleId  \\\n",
       "index                                            \n",
       "0                                           10   \n",
       "1                                           10   \n",
       "2                                           10   \n",
       "3                                           10   \n",
       "4                                           21   \n",
       "\n",
       "       AvalancheProblems_0_AvalancheProblemId  \\\n",
       "index                                           \n",
       "0                                           1   \n",
       "1                                           1   \n",
       "2                                           1   \n",
       "3                                           1   \n",
       "4                                           1   \n",
       "\n",
       "       AvalancheProblems_0_Class_AvalancheProblemTypeId  \\\n",
       "index                                                     \n",
       "0                                                     6   \n",
       "1                                                     6   \n",
       "2                                                     6   \n",
       "3                                                     6   \n",
       "4                                                     5   \n",
       "\n",
       "       AvalancheProblems_0_AvalancheTypeId  \\\n",
       "index                                        \n",
       "0                                       10   \n",
       "1                                       10   \n",
       "2                                       10   \n",
       "3                                       10   \n",
       "4                                       10   \n",
       "\n",
       "       AvalancheProblems_0_DestructiveSizeExtId  \\\n",
       "index                                             \n",
       "0                                             2   \n",
       "1                                             2   \n",
       "2                                             2   \n",
       "3                                             2   \n",
       "4                                             2   \n",
       "\n",
       "       AvalancheProblems_1_AvalProbabilityId  \\\n",
       "index                                          \n",
       "0                                        0.0   \n",
       "1                                        3.0   \n",
       "2                                        0.0   \n",
       "3                                        0.0   \n",
       "4                                        3.0   \n",
       "\n",
       "       AvalancheProblems_1_Class_AvalDistributionId  \\\n",
       "index                                                 \n",
       "0                                                 0   \n",
       "1                                                 2   \n",
       "2                                                 0   \n",
       "3                                                 0   \n",
       "4                                                 2   \n",
       "\n",
       "       AvalancheProblems_1_AvalTriggerSimpleId         ...           \\\n",
       "index                                                  ...            \n",
       "0                                          0.0         ...            \n",
       "1                                         10.0         ...            \n",
       "2                                          0.0         ...            \n",
       "3                                          0.0         ...            \n",
       "4                                         21.0         ...            \n",
       "\n",
       "       DangerLevel            ValidFrom  Rainfall_Most_exposed_area  \\\n",
       "index                                                                 \n",
       "0                2  2017-12-01T00:00:00                           0   \n",
       "1                2  2017-12-02T00:00:00                           6   \n",
       "2                2  2017-12-03T00:00:00                          15   \n",
       "3                2  2017-12-04T00:00:00                           7   \n",
       "4                2  2017-12-05T00:00:00                          16   \n",
       "\n",
       "       Rainfall_Average  Wind_Speed_Num Wind_Direction_Num  Temperature_Min  \\\n",
       "index                                                                         \n",
       "0                     0               4                  6              -17   \n",
       "1                     2               7                  7               -7   \n",
       "2                     2               6                  7              -10   \n",
       "3                     1               6                  7              -11   \n",
       "4                     5               7                  7               -8   \n",
       "\n",
       "       Temperature_Max  Temperature_masl  Freezing_Level_masl  \n",
       "index                                                          \n",
       "0                 -5.0              1800                    0  \n",
       "1                 -1.0              1800                 1200  \n",
       "2                 -5.0              1800                    0  \n",
       "3                 -5.0              1800                    0  \n",
       "4                 -2.0              1800                 1000  \n",
       "\n",
       "[5 rows x 24 columns]"
      ]
     },
     "execution_count": 11,
     "metadata": {},
     "output_type": "execute_result"
    }
   ],
   "source": [
    "df_train_data.head(5)"
   ]
  },
  {
   "cell_type": "code",
   "execution_count": 12,
   "metadata": {},
   "outputs": [
    {
     "data": {
      "text/plain": [
       "array(['AvalancheProblems_0_AvalProbabilityId',\n",
       "       'AvalancheProblems_0_Class_AvalDistributionId',\n",
       "       'AvalancheProblems_0_AvalTriggerSimpleId',\n",
       "       'AvalancheProblems_0_AvalancheProblemId',\n",
       "       'AvalancheProblems_0_Class_AvalancheProblemTypeId',\n",
       "       'AvalancheProblems_0_AvalancheTypeId',\n",
       "       'AvalancheProblems_0_DestructiveSizeExtId',\n",
       "       'AvalancheProblems_1_AvalProbabilityId',\n",
       "       'AvalancheProblems_1_Class_AvalDistributionId',\n",
       "       'AvalancheProblems_1_AvalTriggerSimpleId',\n",
       "       'AvalancheProblems_1_AvalancheProblemId',\n",
       "       'AvalancheProblems_1_Class_AvalancheProblemTypeId',\n",
       "       'AvalancheProblems_1_AvalancheTypeId',\n",
       "       'AvalancheProblems_1_DestructiveSizeExtId', 'DangerLevel',\n",
       "       'ValidFrom', 'Rainfall_Most_exposed_area', 'Rainfall_Average',\n",
       "       'Wind_Speed_Num', 'Wind_Direction_Num', 'Temperature_Min',\n",
       "       'Temperature_Max', 'Temperature_masl', 'Freezing_Level_masl'],\n",
       "      dtype=object)"
      ]
     },
     "execution_count": 12,
     "metadata": {},
     "output_type": "execute_result"
    }
   ],
   "source": [
    "df_train_data.columns.values"
   ]
  },
  {
   "cell_type": "code",
   "execution_count": 13,
   "metadata": {},
   "outputs": [
    {
     "name": "stdout",
     "output_type": "stream",
     "text": [
      "AvalancheProblems_0_AvalProbabilityId :  [3 2 5]\n",
      "AvalancheProblems_0_Class_AvalDistributionId :  [2 3 1]\n",
      "AvalancheProblems_0_AvalTriggerSimpleId :  [10 21 22]\n",
      "AvalancheProblems_0_AvalancheProblemId :  [1 2 3]\n",
      "AvalancheProblems_0_Class_AvalancheProblemTypeId :  [6 5 7 4 2]\n",
      "AvalancheProblems_0_AvalancheTypeId :  [10 20]\n",
      "AvalancheProblems_0_DestructiveSizeExtId :  [2 1 3]\n",
      "AvalancheProblems_1_AvalProbabilityId :  [0. 3. 2. 5.]\n",
      "AvalancheProblems_1_Class_AvalDistributionId :  [0 2 1 3]\n",
      "AvalancheProblems_1_AvalTriggerSimpleId :  [ 0. 10. 21. 22.]\n",
      "AvalancheProblems_1_AvalancheProblemId :  [0. 2. 1. 3.]\n",
      "AvalancheProblems_1_Class_AvalancheProblemTypeId :  [0 7 4 6 5 2]\n",
      "AvalancheProblems_1_AvalancheTypeId :  [ 0. 10. 20.]\n",
      "AvalancheProblems_1_DestructiveSizeExtId :  [0. 2. 1. 3.]\n",
      "DangerLevel :  [2 3 1]\n",
      "Rainfall_Most_exposed_area :  [ 0  6 15  7 16 25 20 30  2  4  3 45 10  5 12 14  1  8 18 50  9 35 40 13]\n",
      "Rainfall_Average :  [ 0  2  1  5  8 10 12 30 20  4 15 18  3  6 25 14  9 16]\n",
      "Wind_Speed_Num :  [ 4  7  6  5  8  2  9 10]\n",
      "Wind_Direction_Num :  [6 7 5 4 8 2 1 3 0]\n",
      "Temperature_Min :  [-17  -7 -10 -11  -8  -9 -16 -21 -20 -14 -15 -19  -4 -12 -13 -22   0 -23\n",
      " -25 -26 -24 -18  -3  -2  -1  -6  -5   1   2   3   5   7 -27 -28   4   6\n",
      "   8]\n",
      "Temperature_Max :  [ -5.   -1.   -2.    1.   -6.    0.9 -11.  -10.   -7.   -8.   -9.    4.\n",
      "   2.   -4.  -12.    0.  -15.  -18.  -14.  -13.   -3.    5.    3.    6.\n",
      "   8.   10.    7.   11.   13.   12.   15.   17.   16.  -17.  -20.    9.\n",
      "  14.   18.   19.  -16.  -19. ]\n",
      "Temperature_masl :  [1800 1400]\n",
      "Freezing_Level_masl :  [   0 1200 1000 1300 1800  500  300  700 2200 1400  200 1500  400  800\n",
      "  600  900 2000 2500 1100 1900 2300 2800 2400 1600 1700]\n"
     ]
    }
   ],
   "source": [
    "# Check if there are no weired values.\n",
    "for col in df_train_data.drop(['ValidFrom'], axis=1).columns.values:\n",
    "    print(col, ': ', df_train_data[col].unique())"
   ]
  },
  {
   "cell_type": "code",
   "execution_count": 14,
   "metadata": {},
   "outputs": [
    {
     "name": "stderr",
     "output_type": "stream",
     "text": [
      "C:\\Anaconda3\\lib\\site-packages\\pandas\\core\\ops.py:816: FutureWarning: elementwise comparison failed; returning scalar instead, but in the future will perform elementwise comparison\n",
      "  result = getattr(x, name)(y)\n"
     ]
    },
    {
     "ename": "TypeError",
     "evalue": "invalid type comparison",
     "output_type": "error",
     "traceback": [
      "\u001b[1;31m---------------------------------------------------------------------------\u001b[0m",
      "\u001b[1;31mTypeError\u001b[0m                                 Traceback (most recent call last)",
      "\u001b[1;32m<ipython-input-14-530d506b3ba3>\u001b[0m in \u001b[0;36m<module>\u001b[1;34m()\u001b[0m\n\u001b[0;32m      1\u001b[0m \u001b[1;31m# Remove the \"2|\" in column Rainfall_Average\u001b[0m\u001b[1;33m\u001b[0m\u001b[1;33m\u001b[0m\u001b[0m\n\u001b[1;32m----> 2\u001b[1;33m \u001b[0mdf_train_data\u001b[0m \u001b[1;33m=\u001b[0m \u001b[0mdf_train_data\u001b[0m\u001b[1;33m[\u001b[0m\u001b[0mdf_train_data\u001b[0m\u001b[1;33m[\u001b[0m\u001b[1;34m'Rainfall_Average'\u001b[0m\u001b[1;33m]\u001b[0m \u001b[1;33m!=\u001b[0m \u001b[1;34m'2|'\u001b[0m\u001b[1;33m]\u001b[0m\u001b[1;33m\u001b[0m\u001b[0m\n\u001b[0m\u001b[0;32m      3\u001b[0m \u001b[0mprint\u001b[0m\u001b[1;33m(\u001b[0m\u001b[0mdf_train_data\u001b[0m\u001b[1;33m[\u001b[0m\u001b[1;34m'Rainfall_Average'\u001b[0m\u001b[1;33m]\u001b[0m\u001b[1;33m.\u001b[0m\u001b[0munique\u001b[0m\u001b[1;33m(\u001b[0m\u001b[1;33m)\u001b[0m\u001b[1;33m)\u001b[0m\u001b[1;33m\u001b[0m\u001b[0m\n",
      "\u001b[1;32mC:\\Anaconda3\\lib\\site-packages\\pandas\\core\\ops.py\u001b[0m in \u001b[0;36mwrapper\u001b[1;34m(self, other, axis)\u001b[0m\n\u001b[0;32m    877\u001b[0m \u001b[1;33m\u001b[0m\u001b[0m\n\u001b[0;32m    878\u001b[0m             \u001b[1;32mwith\u001b[0m \u001b[0mnp\u001b[0m\u001b[1;33m.\u001b[0m\u001b[0merrstate\u001b[0m\u001b[1;33m(\u001b[0m\u001b[0mall\u001b[0m\u001b[1;33m=\u001b[0m\u001b[1;34m'ignore'\u001b[0m\u001b[1;33m)\u001b[0m\u001b[1;33m:\u001b[0m\u001b[1;33m\u001b[0m\u001b[0m\n\u001b[1;32m--> 879\u001b[1;33m                 \u001b[0mres\u001b[0m \u001b[1;33m=\u001b[0m \u001b[0mna_op\u001b[0m\u001b[1;33m(\u001b[0m\u001b[0mvalues\u001b[0m\u001b[1;33m,\u001b[0m \u001b[0mother\u001b[0m\u001b[1;33m)\u001b[0m\u001b[1;33m\u001b[0m\u001b[0m\n\u001b[0m\u001b[0;32m    880\u001b[0m             \u001b[1;32mif\u001b[0m \u001b[0mis_scalar\u001b[0m\u001b[1;33m(\u001b[0m\u001b[0mres\u001b[0m\u001b[1;33m)\u001b[0m\u001b[1;33m:\u001b[0m\u001b[1;33m\u001b[0m\u001b[0m\n\u001b[0;32m    881\u001b[0m                 raise TypeError('Could not compare {typ} type with Series'\n",
      "\u001b[1;32mC:\\Anaconda3\\lib\\site-packages\\pandas\\core\\ops.py\u001b[0m in \u001b[0;36mna_op\u001b[1;34m(x, y)\u001b[0m\n\u001b[0;32m    816\u001b[0m                     \u001b[0mresult\u001b[0m \u001b[1;33m=\u001b[0m \u001b[0mgetattr\u001b[0m\u001b[1;33m(\u001b[0m\u001b[0mx\u001b[0m\u001b[1;33m,\u001b[0m \u001b[0mname\u001b[0m\u001b[1;33m)\u001b[0m\u001b[1;33m(\u001b[0m\u001b[0my\u001b[0m\u001b[1;33m)\u001b[0m\u001b[1;33m\u001b[0m\u001b[0m\n\u001b[0;32m    817\u001b[0m                 \u001b[1;32mif\u001b[0m \u001b[0mresult\u001b[0m \u001b[1;32mis\u001b[0m \u001b[0mNotImplemented\u001b[0m\u001b[1;33m:\u001b[0m\u001b[1;33m\u001b[0m\u001b[0m\n\u001b[1;32m--> 818\u001b[1;33m                     \u001b[1;32mraise\u001b[0m \u001b[0mTypeError\u001b[0m\u001b[1;33m(\u001b[0m\u001b[1;34m\"invalid type comparison\"\u001b[0m\u001b[1;33m)\u001b[0m\u001b[1;33m\u001b[0m\u001b[0m\n\u001b[0m\u001b[0;32m    819\u001b[0m             \u001b[1;32mexcept\u001b[0m \u001b[0mAttributeError\u001b[0m\u001b[1;33m:\u001b[0m\u001b[1;33m\u001b[0m\u001b[0m\n\u001b[0;32m    820\u001b[0m                 \u001b[0mresult\u001b[0m \u001b[1;33m=\u001b[0m \u001b[0mop\u001b[0m\u001b[1;33m(\u001b[0m\u001b[0mx\u001b[0m\u001b[1;33m,\u001b[0m \u001b[0my\u001b[0m\u001b[1;33m)\u001b[0m\u001b[1;33m\u001b[0m\u001b[0m\n",
      "\u001b[1;31mTypeError\u001b[0m: invalid type comparison"
     ]
    }
   ],
   "source": [
    "# Remove the \"2|\" in column Rainfall_Average\n",
    "df_train_data = df_train_data[df_train_data['Rainfall_Average'] != '2|']        \n",
    "print(df_train_data['Rainfall_Average'].unique())"
   ]
  },
  {
   "cell_type": "code",
   "execution_count": 15,
   "metadata": {},
   "outputs": [
    {
     "data": {
      "text/plain": [
       "<matplotlib.axes._subplots.AxesSubplot at 0x21090c66b38>"
      ]
     },
     "execution_count": 15,
     "metadata": {},
     "output_type": "execute_result"
    },
    {
     "data": {
      "image/png": "[encoded data removed]",
      "text/plain": [
       "<matplotlib.figure.Figure at 0x21090c66d30>"
      ]
     },
     "metadata": {},
     "output_type": "display_data"
    }
   ],
   "source": [
    "#df_train_data.plot(x='ValidFrom', y='AvalancheProblems_0_AvalancheProblemId', figsize=(16,10), kind='bar')\n",
    "df_train_data['AvalancheProblems_0_AvalancheProblemId'].plot(figsize=(10,10), kind='hist')\n",
    "#df_train_data.plot(subplots=True, figsize=(16,20))"
   ]
  },
  {
   "cell_type": "code",
   "execution_count": 16,
   "metadata": {},
   "outputs": [
    {
     "name": "stdout",
     "output_type": "stream",
     "text": [
      "['AvalancheProblems_0_AvalProbabilityId'\n",
      " 'AvalancheProblems_0_Class_AvalDistributionId'\n",
      " 'AvalancheProblems_0_AvalTriggerSimpleId'\n",
      " 'AvalancheProblems_0_AvalancheProblemId'\n",
      " 'AvalancheProblems_0_Class_AvalancheProblemTypeId'\n",
      " 'AvalancheProblems_0_AvalancheTypeId'\n",
      " 'AvalancheProblems_0_DestructiveSizeExtId'\n",
      " 'AvalancheProblems_1_AvalProbabilityId'\n",
      " 'AvalancheProblems_1_Class_AvalDistributionId'\n",
      " 'AvalancheProblems_1_AvalTriggerSimpleId'\n",
      " 'AvalancheProblems_1_AvalancheProblemId'\n",
      " 'AvalancheProblems_1_Class_AvalancheProblemTypeId'\n",
      " 'AvalancheProblems_1_AvalancheTypeId'\n",
      " 'AvalancheProblems_1_DestructiveSizeExtId' 'Rainfall_Most_exposed_area'\n",
      " 'Rainfall_Average' 'Wind_Speed_Num' 'Wind_Direction_Num'\n",
      " 'Temperature_Min' 'Temperature_Max' 'Temperature_masl'\n",
      " 'Freezing_Level_masl'] ['DangerLevel']\n"
     ]
    }
   ],
   "source": [
    "df_train_target = df_train_data.filter(['DangerLevel'], axis=1)\n",
    "df_train_data = df_train_data.drop(['DangerLevel'], axis=1)\n",
    "\n",
    "data = np.array(df_train_data.drop(['ValidFrom'], axis=1).values, dtype=float)\n",
    "target = np.array(df_train_target.values, dtype=float)\n",
    "print(df_train_data.drop(['ValidFrom'], axis=1).columns.values,\n",
    "     df_train_target.columns.values)\n"
   ]
  },
  {
   "cell_type": "code",
   "execution_count": 19,
   "metadata": {},
   "outputs": [],
   "source": [
    "clf = tree.DecisionTreeClassifier(min_samples_leaf=8)\n",
    "clf = clf.fit(data, target)"
   ]
  },
  {
   "cell_type": "code",
   "execution_count": 20,
   "metadata": {},
   "outputs": [
    {
     "data": {
      "text/plain": [
       "'varsom.pdf'"
      ]
     },
     "execution_count": 20,
     "metadata": {},
     "output_type": "execute_result"
    }
   ],
   "source": [
    "dot_data = tree.export_graphviz(clf, out_file=None,\n",
    "                                feature_names = df_train_data.drop(['ValidFrom'], axis=1).columns.values,\n",
    "                                class_names = ['low', 'moderate', 'considerable', 'high'],\n",
    "                                #proportion = True, # show precentages instead of members\n",
    "                                label = \"root\",\n",
    "                                filled=True, rounded=True, special_characters=True                                \n",
    "                                )\n",
    "graph = graphviz.Source(dot_data) \n",
    "graph.render(\"varsom\") "
   ]
  },
  {
   "cell_type": "markdown",
   "metadata": {},
   "source": [
    "## Same, but with DecisionTreeRegressor"
   ]
  },
  {
   "cell_type": "code",
   "execution_count": null,
   "metadata": {},
   "outputs": [],
   "source": [
    "clf2 = tree.DecisionTreeRegressor()\n",
    "clf2 = clf2.fit(data, target)\n",
    "\n",
    "dot_data2 = tree.export_graphviz(clf2, out_file=None,\n",
    "                                feature_names = df_train_data.drop(['ValidFrom', 'ValidTo'], axis=1).columns.values,\n",
    "                                filled=True, rounded=True, special_characters=True                                \n",
    "                                )\n",
    "graph2 = graphviz.Source(dot_data2) \n",
    "graph2.render(\"varsom_reg\") "
   ]
  },
  {
   "cell_type": "code",
   "execution_count": null,
   "metadata": {},
   "outputs": [],
   "source": [
    "from sklearn.datasets import load_iris\n",
    "\n",
    "iris = load_iris()\n",
    "iris.target_names"
   ]
  },
  {
   "cell_type": "code",
   "execution_count": null,
   "metadata": {},
   "outputs": [],
   "source": [
    "iris.target"
   ]
  },
  {
   "cell_type": "code",
   "execution_count": null,
   "metadata": {},
   "outputs": [],
   "source": []
  }
 ],
 "metadata": {
  "kernelspec": {
   "display_name": "Python 3",
   "language": "python",
   "name": "python3"
  },
  "language_info": {
   "codemirror_mode": {
    "name": "ipython",
    "version": 3
   },
   "file_extension": ".py",
   "mimetype": "text/x-python",
   "name": "python",
   "nbconvert_exporter": "python",
   "pygments_lexer": "ipython3",
   "version": "3.6.4"
  }
 },
 "nbformat": 4,
 "nbformat_minor": 2
}
