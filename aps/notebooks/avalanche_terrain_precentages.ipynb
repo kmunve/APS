{
 "cells": [
  {
   "cell_type": "code",
   "execution_count": 1,
   "metadata": {
    "collapsed": true
   },
   "outputs": [],
   "source": [
    "import numpy as np"
   ]
  },
  {
   "cell_type": "code",
   "execution_count": 4,
   "metadata": {
    "collapsed": false
   },
   "outputs": [
    {
     "name": "stdout",
     "output_type": "stream",
     "text": [
      "1.0\n",
      "1.005\n",
      "[ 0.0153    0.049812  0.074396  0.04824   0.001414]\n",
      "0.189162\n"
     ]
    }
   ],
   "source": [
    "#Hardanger\n",
    "t = np.array([0.1, 0.12, 0.28, 0.48, 0.02])\n",
    "a = np.array([0.153, 0.4151, 0.2657, 0.1005, 0.0707])\n",
    "r = t*a\n",
    "print(t.sum())\n",
    "print(a.sum())\n",
    "print(r)\n",
    "print(r.sum())"
   ]
  },
  {
   "cell_type": "code",
   "execution_count": 6,
   "metadata": {
    "collapsed": false
   },
   "outputs": [
    {
     "name": "stdout",
     "output_type": "stream",
     "text": [
      "1.002\n",
      "2.3159\n",
      "[ 0.025662   0.09412    0.128457   0.04407    0.0011062]\n",
      "0.2934152\n"
     ]
    }
   ],
   "source": [
    "#Lyngen\n",
    "t = np.array([0.47, 0.26, 0.21, 0.06, 0.002])\n",
    "a = np.array([0.0546, 0.362, 0.6117, 0.7345, 0.5531])\n",
    "r = t*a\n",
    "print(t.sum())\n",
    "print(a.sum())\n",
    "print(r)\n",
    "print(r.sum())"
   ]
  },
  {
   "cell_type": "code",
   "execution_count": 7,
   "metadata": {
    "collapsed": false
   },
   "outputs": [
    {
     "name": "stdout",
     "output_type": "stream",
     "text": [
      "1.002\n",
      "1.1747\n",
      "[ 0.034664   0.058536   0.027734   0.006444   0.0009662]\n",
      "0.1283442\n"
     ]
    }
   ],
   "source": [
    "#Salten\n",
    "t = np.array([0.56, 0.27, 0.14, 0.03, 0.002])\n",
    "a = np.array([0.0619, 0.2168, 0.1981, 0.2148, 0.4831])\n",
    "r = t*a\n",
    "print(t.sum())\n",
    "print(a.sum())\n",
    "print(r)\n",
    "print(r.sum())"
   ]
  },
  {
   "cell_type": "code",
   "execution_count": null,
   "metadata": {
    "collapsed": true
   },
   "outputs": [],
   "source": []
  }
 ],
 "metadata": {
  "kernelspec": {
   "display_name": "Python 3",
   "language": "python",
   "name": "python3"
  },
  "language_info": {
   "codemirror_mode": {
    "name": "ipython",
    "version": 3
   },
   "file_extension": ".py",
   "mimetype": "text/x-python",
   "name": "python",
   "nbconvert_exporter": "python",
   "pygments_lexer": "ipython3",
   "version": "3.6.0"
  }
 },
 "nbformat": 4,
 "nbformat_minor": 2
}
