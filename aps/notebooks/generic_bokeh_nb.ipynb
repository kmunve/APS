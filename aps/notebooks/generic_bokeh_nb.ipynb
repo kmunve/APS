{
 "cells": [
  {
   "cell_type": "markdown",
   "metadata": {
    "collapsed": true
   },
   "source": [
    "A generic bokeh notebook - use as template"
   ]
  },
  {
   "cell_type": "code",
   "execution_count": 9,
   "metadata": {
    "collapsed": false
   },
   "outputs": [
    {
     "name": "stdout",
     "output_type": "stream",
     "text": [
      "C:\\Users\\kmu\\APSenv\\Scripts\\python.exe \n",
      " ['', 'C:\\\\Users\\\\kmu\\\\APSenv\\\\Scripts\\\\python34.zip', 'C:\\\\Anaconda3\\\\DLLs', 'C:\\\\Anaconda3\\\\lib', 'C:\\\\Anaconda3', 'C:\\\\Users\\\\kmu\\\\APSenv', 'C:\\\\Users\\\\kmu\\\\APSenv\\\\lib\\\\site-packages', 'C:\\\\Users\\\\kmu\\\\APSenv\\\\lib\\\\site-packages\\\\IPython\\\\extensions', 'C:\\\\Users\\\\kmu\\\\.ipython', 'D:\\\\Dev\\\\APS', 'D:\\\\Dev\\\\APS', 'D:\\\\Dev\\\\APS']\n"
     ]
    }
   ],
   "source": [
    "from bokeh.io import output_notebook, show\n",
    "\n",
    "import sys, os\n",
    "\n",
    "sys.path.append(os.path.dirname(os.path.dirname(os.path.abspath(os.getcwd()))))\n",
    "print(sys.executable, \"\\n\", sys.path)\n",
    "\n",
    "from aps.plotting.bokeh_plots import timeline_figure"
   ]
  },
  {
   "cell_type": "code",
   "execution_count": 10,
   "metadata": {
    "collapsed": false
   },
   "outputs": [
    {
     "data": {
      "text/html": [
       "\n",
       "    <div class=\"bk-banner\">\n",
       "        <a href=\"http://bokeh.pydata.org\" target=\"_blank\" class=\"bk-logo bk-logo-small bk-logo-notebook\"></a>\n",
       "        <span id=\"6cea5c54-192c-450d-85ec-ba73bdc26474\">Loading BokehJS ...</span>\n",
       "    </div>"
      ]
     },
     "metadata": {},
     "output_type": "execute_result"
    },
    {
     "data": {},
     "metadata": {},
     "output_type": "display_data"
    }
   ],
   "source": [
    "output_notebook()"
   ]
  },
  {
   "cell_type": "markdown",
   "metadata": {},
   "source": [
    "Some data points"
   ]
  },
  {
   "cell_type": "code",
   "execution_count": 11,
   "metadata": {
    "collapsed": false
   },
   "outputs": [],
   "source": [
    "x = [2., 4., 7.]\n",
    "y = [1., 5., 11.]\n",
    "z = [12., 34., 23.]"
   ]
  },
  {
   "cell_type": "code",
   "execution_count": 12,
   "metadata": {
    "collapsed": false
   },
   "outputs": [
    {
     "data": {
      "text/html": [
       "\n",
       "\n",
       "    <div class=\"plotdiv\" id=\"2d1d8d45-f8ff-4a8f-85a1-ca26a1520127\"></div>\n",
       "<script type=\"text/javascript\">\n",
       "  \n",
       "  (function(global) {\n",
       "    function now() {\n",
       "      return new Date();\n",
       "    }\n",
       "  \n",
       "    if (typeof (window._bokeh_onload_callbacks) === \"undefined\") {\n",
       "      window._bokeh_onload_callbacks = [];\n",
       "    }\n",
       "  \n",
       "    function run_callbacks() {\n",
       "      window._bokeh_onload_callbacks.forEach(function(callback) { callback() });\n",
       "      delete window._bokeh_onload_callbacks\n",
       "      console.info(\"Bokeh: all callbacks have finished\");\n",
       "    }\n",
       "  \n",
       "    function load_libs(js_urls, callback) {\n",
       "      window._bokeh_onload_callbacks.push(callback);\n",
       "      if (window._bokeh_is_loading > 0) {\n",
       "        console.log(\"Bokeh: BokehJS is being loaded, scheduling callback at\", now());\n",
       "        return null;\n",
       "      }\n",
       "      if (js_urls == null || js_urls.length === 0) {\n",
       "        run_callbacks();\n",
       "        return null;\n",
       "      }\n",
       "      console.log(\"Bokeh: BokehJS not loaded, scheduling load and callback at\", now());\n",
       "      window._bokeh_is_loading = js_urls.length;\n",
       "      for (var i = 0; i < js_urls.length; i++) {\n",
       "        var url = js_urls[i];\n",
       "        var s = document.createElement('script');\n",
       "        s.src = url;\n",
       "        s.async = false;\n",
       "        s.onreadystatechange = s.onload = function() {\n",
       "          window._bokeh_is_loading--;\n",
       "          if (window._bokeh_is_loading === 0) {\n",
       "            console.log(\"Bokeh: all BokehJS libraries loaded\");\n",
       "            run_callbacks()\n",
       "          }\n",
       "        };\n",
       "        s.onerror = function() {\n",
       "          console.warn(\"failed to load library \" + url);\n",
       "        };\n",
       "        console.log(\"Bokeh: injecting script tag for BokehJS library: \", url);\n",
       "        document.getElementsByTagName(\"head\")[0].appendChild(s);\n",
       "      }\n",
       "    };var element = document.getElementById(\"2d1d8d45-f8ff-4a8f-85a1-ca26a1520127\");\n",
       "    if (element == null) {\n",
       "      console.log(\"Bokeh: ERROR: autoload.js configured with elementid '2d1d8d45-f8ff-4a8f-85a1-ca26a1520127' but no matching script tag was found. \")\n",
       "      return false;\n",
       "    }\n",
       "  \n",
       "    var js_urls = [];\n",
       "  \n",
       "    var inline_js = [\n",
       "      function(Bokeh) {\n",
       "        Bokeh.$(function() {\n",
       "            var docs_json = {\"7862e4f2-c032-41f6-8bf6-2db6a6702375\":{\"roots\":{\"references\":[{\"attributes\":{\"grid_line_color\":{\"value\":null},\"plot\":{\"id\":\"cb91f7e6-086e-41ed-9877-fef213290d11\",\"subtype\":\"Figure\",\"type\":\"Plot\"},\"ticker\":{\"id\":\"1560c598-7e93-4f29-aeef-3c505c406169\",\"type\":\"DatetimeTicker\"}},\"id\":\"ce9dfe0e-1e01-4346-b477-abdf9010d92e\",\"type\":\"Grid\"},{\"attributes\":{\"formatter\":{\"id\":\"73477c69-608f-4281-a1da-47b0382d1426\",\"type\":\"BasicTickFormatter\"},\"plot\":{\"id\":\"cb91f7e6-086e-41ed-9877-fef213290d11\",\"subtype\":\"Figure\",\"type\":\"Plot\"},\"ticker\":{\"id\":\"d6388f18-3064-47ff-88ed-63aa52f9804b\",\"type\":\"BasicTicker\"}},\"id\":\"e911cc38-60e7-457a-9c40-2f2223ad41d0\",\"type\":\"LinearAxis\"},{\"attributes\":{\"callback\":null},\"id\":\"674050f8-679b-4b08-a525-7eb45bd1ac7e\",\"type\":\"DataRange1d\"},{\"attributes\":{\"grid_line_color\":{\"value\":null},\"plot\":{\"id\":\"ff1d932d-c1f6-4788-b331-6761d8c0b1f5\",\"subtype\":\"Figure\",\"type\":\"Plot\"},\"ticker\":{\"id\":\"1d9afc32-cd51-4d88-85f7-37bb1c38278d\",\"type\":\"DatetimeTicker\"}},\"id\":\"4d140119-4475-486f-ac48-adf31030829b\",\"type\":\"Grid\"},{\"attributes\":{\"months\":[0,4,8]},\"id\":\"8ef3eb55-4ce9-4d55-a5a5-dbff2527d8c0\",\"type\":\"MonthsTicker\"},{\"attributes\":{\"callback\":null},\"id\":\"e5e738d4-a8e4-4204-92d8-50ea638e5c05\",\"type\":\"DataRange1d\"},{\"attributes\":{\"days\":[1,4,7,10,13,16,19,22,25,28]},\"id\":\"50abe2c5-32dc-4413-952e-5c8d717c0e94\",\"type\":\"DaysTicker\"},{\"attributes\":{\"grid_line_color\":{\"value\":null},\"plot\":{\"id\":\"ac96f21d-55c0-43f2-829e-98e9b842be61\",\"subtype\":\"Figure\",\"type\":\"Plot\"},\"ticker\":{\"id\":\"dab1ad90-648a-4817-8638-2f99f75b82b2\",\"type\":\"DatetimeTicker\"}},\"id\":\"eb6dad68-3305-4c6c-99ba-bd4a493a6d54\",\"type\":\"Grid\"},{\"attributes\":{\"fill_alpha\":{\"value\":0.1},\"fill_color\":{\"value\":\"#1f77b4\"},\"line_alpha\":{\"value\":0.1},\"line_color\":{\"value\":\"#1f77b4\"},\"size\":{\"field\":\"size\",\"units\":\"screen\"},\"x\":{\"field\":\"x\"},\"y\":{\"field\":\"y\"}},\"id\":\"8293bc57-db9a-42c1-afc9-9905c0f25a1d\",\"type\":\"Circle\"},{\"attributes\":{\"formatter\":{\"id\":\"4321a268-bc1d-4aa6-bb55-2da85b32beff\",\"type\":\"BasicTickFormatter\"},\"plot\":{\"id\":\"ac96f21d-55c0-43f2-829e-98e9b842be61\",\"subtype\":\"Figure\",\"type\":\"Plot\"},\"ticker\":{\"id\":\"ca6b3fc7-2529-44d4-aa3a-1a0356436264\",\"type\":\"BasicTicker\"}},\"id\":\"b45063ee-717c-4e09-9a1e-dcaf228f5771\",\"type\":\"LinearAxis\"},{\"attributes\":{\"data_source\":{\"id\":\"a0b6ad8e-3a62-4255-ab41-70a6b8a59760\",\"type\":\"ColumnDataSource\"},\"glyph\":{\"id\":\"a59ea811-d2ae-47f6-b375-3500778793d0\",\"type\":\"Circle\"},\"hover_glyph\":null,\"nonselection_glyph\":{\"id\":\"048fd098-6f83-4f85-ab5c-82a58fc656fb\",\"type\":\"Circle\"},\"selection_glyph\":null},\"id\":\"67f76e01-aa0f-4c66-bfa2-6874f36971c3\",\"type\":\"GlyphRenderer\"},{\"attributes\":{\"formatter\":{\"id\":\"a538b214-c26e-4061-9cbf-f3e36310b987\",\"type\":\"BasicTickFormatter\"},\"plot\":{\"id\":\"ff1d932d-c1f6-4788-b331-6761d8c0b1f5\",\"subtype\":\"Figure\",\"type\":\"Plot\"},\"ticker\":{\"id\":\"2ada3b48-f221-4594-a12a-34ad47a6907b\",\"type\":\"BasicTicker\"}},\"id\":\"93aca2d3-62c8-409a-a480-3e554816950f\",\"type\":\"LinearAxis\"},{\"attributes\":{\"callback\":null},\"id\":\"9a058227-1b02-40ea-87a4-4b4becbeda69\",\"type\":\"DataRange1d\"},{\"attributes\":{\"dimension\":1,\"grid_line_alpha\":{\"value\":0.5},\"grid_line_dash\":[6,4],\"plot\":{\"id\":\"ac96f21d-55c0-43f2-829e-98e9b842be61\",\"subtype\":\"Figure\",\"type\":\"Plot\"},\"ticker\":{\"id\":\"ca6b3fc7-2529-44d4-aa3a-1a0356436264\",\"type\":\"BasicTicker\"}},\"id\":\"01557917-0d8b-49d5-85b0-771d915f01ac\",\"type\":\"Grid\"},{\"attributes\":{\"months\":[0,4,8]},\"id\":\"4bc64ea8-f743-45b4-8360-1e9c7cb899ac\",\"type\":\"MonthsTicker\"},{\"attributes\":{\"days\":[1,15]},\"id\":\"0f03ab47-e779-4b23-9a80-2b55a28f0ac7\",\"type\":\"DaysTicker\"},{\"attributes\":{\"data_source\":{\"id\":\"22385041-717d-43e6-91e1-2512a1bc1d20\",\"type\":\"ColumnDataSource\"},\"glyph\":{\"id\":\"302fc5b2-f1a6-4894-9ee0-284fbf6c816b\",\"type\":\"Circle\"},\"hover_glyph\":null,\"nonselection_glyph\":{\"id\":\"1ceafb20-7029-449c-ab87-cace407a1cfc\",\"type\":\"Circle\"},\"selection_glyph\":null},\"id\":\"44b1b984-ad40-4c37-b90f-4d2d7f1896df\",\"type\":\"GlyphRenderer\"},{\"attributes\":{\"below\":[{\"id\":\"c0f7b6e8-cdba-491a-8706-a8d9c2461ff8\",\"type\":\"DatetimeAxis\"}],\"left\":[{\"id\":\"b45063ee-717c-4e09-9a1e-dcaf228f5771\",\"type\":\"LinearAxis\"}],\"outline_line_color\":{\"value\":\"white\"},\"renderers\":[{\"id\":\"c0f7b6e8-cdba-491a-8706-a8d9c2461ff8\",\"type\":\"DatetimeAxis\"},{\"id\":\"eb6dad68-3305-4c6c-99ba-bd4a493a6d54\",\"type\":\"Grid\"},{\"id\":\"b45063ee-717c-4e09-9a1e-dcaf228f5771\",\"type\":\"LinearAxis\"},{\"id\":\"01557917-0d8b-49d5-85b0-771d915f01ac\",\"type\":\"Grid\"},{\"id\":\"67f76e01-aa0f-4c66-bfa2-6874f36971c3\",\"type\":\"GlyphRenderer\"}],\"title\":null,\"tool_events\":{\"id\":\"b700076f-c008-4547-9b86-b3d04a278a4a\",\"type\":\"ToolEvents\"},\"tools\":[{\"id\":\"d9d16775-a7c6-421b-bc45-88058a9f9cd7\",\"type\":\"CrosshairTool\"}],\"x_range\":{\"id\":\"05bcdba2-cb61-4379-89af-a3bda9d881ce\",\"type\":\"DataRange1d\"},\"y_range\":{\"id\":\"fdb1f82c-df5b-46e8-8942-6fc2a985def6\",\"type\":\"DataRange1d\"}},\"id\":\"ac96f21d-55c0-43f2-829e-98e9b842be61\",\"subtype\":\"Figure\",\"type\":\"Plot\"},{\"attributes\":{\"fill_color\":{\"value\":\"#1f77b4\"},\"line_color\":{\"value\":\"#1f77b4\"},\"size\":{\"field\":\"size\",\"units\":\"screen\"},\"x\":{\"field\":\"x\"},\"y\":{\"field\":\"y\"}},\"id\":\"aa9d8aaf-ee4e-4524-84ed-bb483e1d827e\",\"type\":\"Circle\"},{\"attributes\":{},\"id\":\"a538b214-c26e-4061-9cbf-f3e36310b987\",\"type\":\"BasicTickFormatter\"},{\"attributes\":{},\"id\":\"4095dd40-d3c6-474c-933f-c21166069df9\",\"type\":\"YearsTicker\"},{\"attributes\":{\"max_interval\":500.0,\"num_minor_ticks\":0},\"id\":\"82a96c6c-090b-43db-89c2-4259e100839d\",\"type\":\"AdaptiveTicker\"},{\"attributes\":{\"fill_alpha\":{\"value\":0.1},\"fill_color\":{\"value\":\"#1f77b4\"},\"line_alpha\":{\"value\":0.1},\"line_color\":{\"value\":\"#1f77b4\"},\"size\":{\"field\":\"size\",\"units\":\"screen\"},\"x\":{\"field\":\"x\"},\"y\":{\"field\":\"y\"}},\"id\":\"1ceafb20-7029-449c-ab87-cace407a1cfc\",\"type\":\"Circle\"},{\"attributes\":{\"days\":[1,15]},\"id\":\"20a75c5b-a8e3-41a6-9d22-943ad1961982\",\"type\":\"DaysTicker\"},{\"attributes\":{},\"id\":\"12edb32d-ade6-4d57-a39b-e9a58b6002da\",\"type\":\"ToolEvents\"},{\"attributes\":{\"days\":[1,4,7,10,13,16,19,22,25,28]},\"id\":\"f6f41369-161d-4298-ad58-1920e440daca\",\"type\":\"DaysTicker\"},{\"attributes\":{\"formatter\":{\"id\":\"5193efd8-5b74-4561-b23d-2c08275c2bf6\",\"type\":\"DatetimeTickFormatter\"},\"plot\":{\"id\":\"ff1d932d-c1f6-4788-b331-6761d8c0b1f5\",\"subtype\":\"Figure\",\"type\":\"Plot\"},\"ticker\":{\"id\":\"1d9afc32-cd51-4d88-85f7-37bb1c38278d\",\"type\":\"DatetimeTicker\"}},\"id\":\"4bf457dd-8064-45d3-8197-691ac68fb5fa\",\"type\":\"DatetimeAxis\"},{\"attributes\":{\"callback\":null,\"column_names\":[\"size\",\"y\",\"x\"],\"data\":{\"size\":[12.0,34.0,23.0],\"x\":[2.0,4.0,7.0],\"y\":[1.0,5.0,11.0]}},\"id\":\"22385041-717d-43e6-91e1-2512a1bc1d20\",\"type\":\"ColumnDataSource\"},{\"attributes\":{\"days\":[1,2,3,4,5,6,7,8,9,10,11,12,13,14,15,16,17,18,19,20,21,22,23,24,25,26,27,28,29,30,31]},\"id\":\"58853e2d-a1f2-42d7-aa02-ecb5df556c89\",\"type\":\"DaysTicker\"},{\"attributes\":{\"max_interval\":500.0,\"num_minor_ticks\":0},\"id\":\"c5fd5e77-f19f-4aab-b83a-ee1cc4371477\",\"type\":\"AdaptiveTicker\"},{\"attributes\":{\"base\":60,\"mantissas\":[1,2,5,10,15,20,30],\"max_interval\":1800000.0,\"min_interval\":1000.0,\"num_minor_ticks\":0},\"id\":\"fd298924-1323-4d27-a150-c1dc9acfcfd4\",\"type\":\"AdaptiveTicker\"},{\"attributes\":{\"max_interval\":500.0,\"num_minor_ticks\":0},\"id\":\"b3d8ab30-0018-4cbe-99eb-89aa845d270d\",\"type\":\"AdaptiveTicker\"},{\"attributes\":{\"months\":[0,1,2,3,4,5,6,7,8,9,10,11]},\"id\":\"95e585da-e24f-4bd2-ae1f-11cab315ee89\",\"type\":\"MonthsTicker\"},{\"attributes\":{\"days\":[1,4,7,10,13,16,19,22,25,28]},\"id\":\"7c48b84e-d4fe-4d01-af4f-d1efcc5db76f\",\"type\":\"DaysTicker\"},{\"attributes\":{\"plot\":{\"id\":\"ff1d932d-c1f6-4788-b331-6761d8c0b1f5\",\"subtype\":\"Figure\",\"type\":\"Plot\"}},\"id\":\"3c5b2267-fc55-4b9f-849b-e41bb7de38f4\",\"type\":\"CrosshairTool\"},{\"attributes\":{},\"id\":\"4f1b60a2-7b3e-4797-8830-0b31b6e6e1d0\",\"type\":\"YearsTicker\"},{\"attributes\":{\"months\":[0,2,4,6,8,10]},\"id\":\"46ba27b8-ed8e-4cd9-a45d-43ac75e53f30\",\"type\":\"MonthsTicker\"},{\"attributes\":{\"days\":[1,8,15,22]},\"id\":\"c2b5bd9c-ff23-46f5-950e-87f60f7e78f8\",\"type\":\"DaysTicker\"},{\"attributes\":{\"days\":[1,8,15,22]},\"id\":\"3a5ff1b5-9e1e-4a7d-843b-586c14c9ad0d\",\"type\":\"DaysTicker\"},{\"attributes\":{},\"id\":\"5193efd8-5b74-4561-b23d-2c08275c2bf6\",\"type\":\"DatetimeTickFormatter\"},{\"attributes\":{},\"id\":\"d6388f18-3064-47ff-88ed-63aa52f9804b\",\"type\":\"BasicTicker\"},{\"attributes\":{\"callback\":null},\"id\":\"05bcdba2-cb61-4379-89af-a3bda9d881ce\",\"type\":\"DataRange1d\"},{\"attributes\":{\"base\":60,\"mantissas\":[1,2,5,10,15,20,30],\"max_interval\":1800000.0,\"min_interval\":1000.0,\"num_minor_ticks\":0},\"id\":\"a497eb4e-1129-4799-9f7b-9c33cc7b46ea\",\"type\":\"AdaptiveTicker\"},{\"attributes\":{},\"id\":\"b700076f-c008-4547-9b86-b3d04a278a4a\",\"type\":\"ToolEvents\"},{\"attributes\":{\"below\":[{\"id\":\"6e5d2b77-b850-43a3-aa07-a32beae9d71f\",\"type\":\"DatetimeAxis\"}],\"left\":[{\"id\":\"e911cc38-60e7-457a-9c40-2f2223ad41d0\",\"type\":\"LinearAxis\"}],\"outline_line_color\":{\"value\":\"white\"},\"renderers\":[{\"id\":\"6e5d2b77-b850-43a3-aa07-a32beae9d71f\",\"type\":\"DatetimeAxis\"},{\"id\":\"ce9dfe0e-1e01-4346-b477-abdf9010d92e\",\"type\":\"Grid\"},{\"id\":\"e911cc38-60e7-457a-9c40-2f2223ad41d0\",\"type\":\"LinearAxis\"},{\"id\":\"8b7e1181-3226-41b0-b5c7-8d7500469346\",\"type\":\"Grid\"},{\"id\":\"44b1b984-ad40-4c37-b90f-4d2d7f1896df\",\"type\":\"GlyphRenderer\"}],\"title\":null,\"tool_events\":{\"id\":\"09e78ce9-1ae6-4a71-9d9b-94b3743196c2\",\"type\":\"ToolEvents\"},\"tools\":[{\"id\":\"b12558f6-3796-40c8-b318-ef315f4350a5\",\"type\":\"CrosshairTool\"}],\"x_range\":{\"id\":\"9a058227-1b02-40ea-87a4-4b4becbeda69\",\"type\":\"DataRange1d\"},\"y_range\":{\"id\":\"e5e738d4-a8e4-4204-92d8-50ea638e5c05\",\"type\":\"DataRange1d\"}},\"id\":\"cb91f7e6-086e-41ed-9877-fef213290d11\",\"subtype\":\"Figure\",\"type\":\"Plot\"},{\"attributes\":{\"months\":[0,4,8]},\"id\":\"ebf0ced0-7646-417b-9669-b864b6742949\",\"type\":\"MonthsTicker\"},{\"attributes\":{\"num_minor_ticks\":5},\"id\":\"1560c598-7e93-4f29-aeef-3c505c406169\",\"type\":\"DatetimeTicker\"},{\"attributes\":{\"data_source\":{\"id\":\"c848da94-9422-4c26-bbef-0c3fd1ec6e74\",\"type\":\"ColumnDataSource\"},\"glyph\":{\"id\":\"aa9d8aaf-ee4e-4524-84ed-bb483e1d827e\",\"type\":\"Circle\"},\"hover_glyph\":null,\"nonselection_glyph\":{\"id\":\"8293bc57-db9a-42c1-afc9-9905c0f25a1d\",\"type\":\"Circle\"},\"selection_glyph\":null},\"id\":\"32fb8420-8f2e-4176-a5df-a589c6a73396\",\"type\":\"GlyphRenderer\"},{\"attributes\":{\"dimension\":1,\"grid_line_alpha\":{\"value\":0.5},\"grid_line_dash\":[6,4],\"plot\":{\"id\":\"cb91f7e6-086e-41ed-9877-fef213290d11\",\"subtype\":\"Figure\",\"type\":\"Plot\"},\"ticker\":{\"id\":\"d6388f18-3064-47ff-88ed-63aa52f9804b\",\"type\":\"BasicTicker\"}},\"id\":\"8b7e1181-3226-41b0-b5c7-8d7500469346\",\"type\":\"Grid\"},{\"attributes\":{\"days\":[1,8,15,22]},\"id\":\"0515a512-0e1c-4e32-8874-643d06ceb2b9\",\"type\":\"DaysTicker\"},{\"attributes\":{\"plot\":{\"id\":\"cb91f7e6-086e-41ed-9877-fef213290d11\",\"subtype\":\"Figure\",\"type\":\"Plot\"}},\"id\":\"b12558f6-3796-40c8-b318-ef315f4350a5\",\"type\":\"CrosshairTool\"},{\"attributes\":{\"days\":[1,15]},\"id\":\"0f427db4-83d9-4b82-86af-57f666c08c30\",\"type\":\"DaysTicker\"},{\"attributes\":{\"months\":[0,2,4,6,8,10]},\"id\":\"d196d7d9-8cf5-43fa-8d8e-ebc89e738597\",\"type\":\"MonthsTicker\"},{\"attributes\":{\"months\":[0,1,2,3,4,5,6,7,8,9,10,11]},\"id\":\"be1b529a-0400-43d1-a19d-2d9f87828319\",\"type\":\"MonthsTicker\"},{\"attributes\":{\"below\":[{\"id\":\"4bf457dd-8064-45d3-8197-691ac68fb5fa\",\"type\":\"DatetimeAxis\"}],\"left\":[{\"id\":\"93aca2d3-62c8-409a-a480-3e554816950f\",\"type\":\"LinearAxis\"}],\"outline_line_color\":{\"value\":\"white\"},\"renderers\":[{\"id\":\"4bf457dd-8064-45d3-8197-691ac68fb5fa\",\"type\":\"DatetimeAxis\"},{\"id\":\"4d140119-4475-486f-ac48-adf31030829b\",\"type\":\"Grid\"},{\"id\":\"93aca2d3-62c8-409a-a480-3e554816950f\",\"type\":\"LinearAxis\"},{\"id\":\"2cc4a3c3-0078-44c8-80bd-0a803d8d06f3\",\"type\":\"Grid\"},{\"id\":\"32fb8420-8f2e-4176-a5df-a589c6a73396\",\"type\":\"GlyphRenderer\"}],\"title\":null,\"tool_events\":{\"id\":\"12edb32d-ade6-4d57-a39b-e9a58b6002da\",\"type\":\"ToolEvents\"},\"tools\":[{\"id\":\"3c5b2267-fc55-4b9f-849b-e41bb7de38f4\",\"type\":\"CrosshairTool\"}],\"x_range\":{\"id\":\"674050f8-679b-4b08-a525-7eb45bd1ac7e\",\"type\":\"DataRange1d\"},\"y_range\":{\"id\":\"965fed68-a696-4792-88e2-f72a5227ce5e\",\"type\":\"DataRange1d\"}},\"id\":\"ff1d932d-c1f6-4788-b331-6761d8c0b1f5\",\"subtype\":\"Figure\",\"type\":\"Plot\"},{\"attributes\":{},\"id\":\"0fc337b7-4f89-4edd-b5b3-fef4bd2fa106\",\"type\":\"DatetimeTickFormatter\"},{\"attributes\":{},\"id\":\"4321a268-bc1d-4aa6-bb55-2da85b32beff\",\"type\":\"BasicTickFormatter\"},{\"attributes\":{\"days\":[1,2,3,4,5,6,7,8,9,10,11,12,13,14,15,16,17,18,19,20,21,22,23,24,25,26,27,28,29,30,31]},\"id\":\"2f695ba1-5b2d-4627-9f14-a8186e07f01e\",\"type\":\"DaysTicker\"},{\"attributes\":{},\"id\":\"c037eba1-6487-4fe0-acac-38d580ab1543\",\"type\":\"YearsTicker\"},{\"attributes\":{},\"id\":\"ca6b3fc7-2529-44d4-aa3a-1a0356436264\",\"type\":\"BasicTicker\"},{\"attributes\":{\"months\":[0,1,2,3,4,5,6,7,8,9,10,11]},\"id\":\"7a567ff1-594d-4df7-8c40-85c3e1347ddf\",\"type\":\"MonthsTicker\"},{\"attributes\":{},\"id\":\"09e78ce9-1ae6-4a71-9d9b-94b3743196c2\",\"type\":\"ToolEvents\"},{\"attributes\":{\"months\":[0,6]},\"id\":\"844f4b1c-e2d4-42c5-a9d5-32310c9cd79a\",\"type\":\"MonthsTicker\"},{\"attributes\":{\"days\":[1,2,3,4,5,6,7,8,9,10,11,12,13,14,15,16,17,18,19,20,21,22,23,24,25,26,27,28,29,30,31]},\"id\":\"33465f15-95fd-4e6f-a935-58726232bcbe\",\"type\":\"DaysTicker\"},{\"attributes\":{\"months\":[0,6]},\"id\":\"27203fd1-0105-486e-9a14-f0b613d147df\",\"type\":\"MonthsTicker\"},{\"attributes\":{\"fill_color\":{\"value\":\"#1f77b4\"},\"line_color\":{\"value\":\"#1f77b4\"},\"size\":{\"field\":\"size\",\"units\":\"screen\"},\"x\":{\"field\":\"x\"},\"y\":{\"field\":\"y\"}},\"id\":\"a59ea811-d2ae-47f6-b375-3500778793d0\",\"type\":\"Circle\"},{\"attributes\":{\"callback\":null,\"column_names\":[\"size\",\"y\",\"x\"],\"data\":{\"size\":[12.0,34.0,23.0],\"x\":[2.0,4.0,7.0],\"y\":[1.0,5.0,11.0]}},\"id\":\"c848da94-9422-4c26-bbef-0c3fd1ec6e74\",\"type\":\"ColumnDataSource\"},{\"attributes\":{\"base\":24,\"mantissas\":[1,2,4,6,8,12],\"max_interval\":43200000.0,\"min_interval\":3600000.0,\"num_minor_ticks\":0},\"id\":\"6bcc1faf-0741-4365-9f39-7963ddfaf61c\",\"type\":\"AdaptiveTicker\"},{\"attributes\":{\"callback\":null,\"column_names\":[\"size\",\"y\",\"x\"],\"data\":{\"size\":[12.0,34.0,23.0],\"x\":[2.0,4.0,7.0],\"y\":[1.0,5.0,11.0]}},\"id\":\"a0b6ad8e-3a62-4255-ab41-70a6b8a59760\",\"type\":\"ColumnDataSource\"},{\"attributes\":{\"fill_alpha\":{\"value\":0.1},\"fill_color\":{\"value\":\"#1f77b4\"},\"line_alpha\":{\"value\":0.1},\"line_color\":{\"value\":\"#1f77b4\"},\"size\":{\"field\":\"size\",\"units\":\"screen\"},\"x\":{\"field\":\"x\"},\"y\":{\"field\":\"y\"}},\"id\":\"048fd098-6f83-4f85-ab5c-82a58fc656fb\",\"type\":\"Circle\"},{\"attributes\":{\"base\":24,\"mantissas\":[1,2,4,6,8,12],\"max_interval\":43200000.0,\"min_interval\":3600000.0,\"num_minor_ticks\":0},\"id\":\"835be316-03e2-419e-9a60-eadede17a168\",\"type\":\"AdaptiveTicker\"},{\"attributes\":{\"plot\":{\"id\":\"ac96f21d-55c0-43f2-829e-98e9b842be61\",\"subtype\":\"Figure\",\"type\":\"Plot\"}},\"id\":\"d9d16775-a7c6-421b-bc45-88058a9f9cd7\",\"type\":\"CrosshairTool\"},{\"attributes\":{\"num_minor_ticks\":5},\"id\":\"dab1ad90-648a-4817-8638-2f99f75b82b2\",\"type\":\"DatetimeTicker\"},{\"attributes\":{},\"id\":\"cde57578-4bb4-45cf-b150-590a79e2782b\",\"type\":\"DatetimeTickFormatter\"},{\"attributes\":{\"base\":24,\"mantissas\":[1,2,4,6,8,12],\"max_interval\":43200000.0,\"min_interval\":3600000.0,\"num_minor_ticks\":0},\"id\":\"a67203e0-98c2-4303-a619-10e4d2f4d77c\",\"type\":\"AdaptiveTicker\"},{\"attributes\":{\"dimension\":1,\"grid_line_alpha\":{\"value\":0.5},\"grid_line_dash\":[6,4],\"plot\":{\"id\":\"ff1d932d-c1f6-4788-b331-6761d8c0b1f5\",\"subtype\":\"Figure\",\"type\":\"Plot\"},\"ticker\":{\"id\":\"2ada3b48-f221-4594-a12a-34ad47a6907b\",\"type\":\"BasicTicker\"}},\"id\":\"2cc4a3c3-0078-44c8-80bd-0a803d8d06f3\",\"type\":\"Grid\"},{\"attributes\":{\"formatter\":{\"id\":\"0fc337b7-4f89-4edd-b5b3-fef4bd2fa106\",\"type\":\"DatetimeTickFormatter\"},\"plot\":{\"id\":\"ac96f21d-55c0-43f2-829e-98e9b842be61\",\"subtype\":\"Figure\",\"type\":\"Plot\"},\"ticker\":{\"id\":\"dab1ad90-648a-4817-8638-2f99f75b82b2\",\"type\":\"DatetimeTicker\"}},\"id\":\"c0f7b6e8-cdba-491a-8706-a8d9c2461ff8\",\"type\":\"DatetimeAxis\"},{\"attributes\":{\"callback\":null},\"id\":\"965fed68-a696-4792-88e2-f72a5227ce5e\",\"type\":\"DataRange1d\"},{\"attributes\":{\"months\":[0,6]},\"id\":\"738c3e34-9256-4cbd-a0d4-8d511e1227f9\",\"type\":\"MonthsTicker\"},{\"attributes\":{\"months\":[0,2,4,6,8,10]},\"id\":\"83945f77-a459-40e6-8ab7-88bc104dae51\",\"type\":\"MonthsTicker\"},{\"attributes\":{\"formatter\":{\"id\":\"cde57578-4bb4-45cf-b150-590a79e2782b\",\"type\":\"DatetimeTickFormatter\"},\"plot\":{\"id\":\"cb91f7e6-086e-41ed-9877-fef213290d11\",\"subtype\":\"Figure\",\"type\":\"Plot\"},\"ticker\":{\"id\":\"1560c598-7e93-4f29-aeef-3c505c406169\",\"type\":\"DatetimeTicker\"}},\"id\":\"6e5d2b77-b850-43a3-aa07-a32beae9d71f\",\"type\":\"DatetimeAxis\"},{\"attributes\":{},\"id\":\"73477c69-608f-4281-a1da-47b0382d1426\",\"type\":\"BasicTickFormatter\"},{\"attributes\":{\"fill_color\":{\"value\":\"#1f77b4\"},\"line_color\":{\"value\":\"#1f77b4\"},\"size\":{\"field\":\"size\",\"units\":\"screen\"},\"x\":{\"field\":\"x\"},\"y\":{\"field\":\"y\"}},\"id\":\"302fc5b2-f1a6-4894-9ee0-284fbf6c816b\",\"type\":\"Circle\"},{\"attributes\":{\"callback\":null},\"id\":\"fdb1f82c-df5b-46e8-8942-6fc2a985def6\",\"type\":\"DataRange1d\"},{\"attributes\":{\"base\":60,\"mantissas\":[1,2,5,10,15,20,30],\"max_interval\":1800000.0,\"min_interval\":1000.0,\"num_minor_ticks\":0},\"id\":\"4f99d476-5903-4232-a8dc-0cfe03142c33\",\"type\":\"AdaptiveTicker\"},{\"attributes\":{},\"id\":\"2ada3b48-f221-4594-a12a-34ad47a6907b\",\"type\":\"BasicTicker\"},{\"attributes\":{\"num_minor_ticks\":5},\"id\":\"1d9afc32-cd51-4d88-85f7-37bb1c38278d\",\"type\":\"DatetimeTicker\"}],\"root_ids\":[\"ff1d932d-c1f6-4788-b331-6761d8c0b1f5\",\"cb91f7e6-086e-41ed-9877-fef213290d11\",\"ac96f21d-55c0-43f2-829e-98e9b842be61\"]},\"title\":\"Bokeh Application\",\"version\":\"0.11.1\"}};\n",
       "            var render_items = [{\"docid\":\"7862e4f2-c032-41f6-8bf6-2db6a6702375\",\"elementid\":\"2d1d8d45-f8ff-4a8f-85a1-ca26a1520127\",\"modelid\":\"ac96f21d-55c0-43f2-829e-98e9b842be61\",\"notebook_comms_target\":\"283f46b3-3447-4716-8032-2b3fbc88aa74\"}];\n",
       "            \n",
       "            Bokeh.embed.embed_items(docs_json, render_items);\n",
       "        });\n",
       "      },\n",
       "      function(Bokeh) {\n",
       "      }\n",
       "    ];\n",
       "  \n",
       "    function run_inline_js() {\n",
       "      for (var i = 0; i < inline_js.length; i++) {\n",
       "        inline_js[i](window.Bokeh);\n",
       "      }\n",
       "    }\n",
       "  \n",
       "    if (window._bokeh_is_loading === 0) {\n",
       "      console.log(\"Bokeh: BokehJS loaded, going straight to plotting\");\n",
       "      run_inline_js();\n",
       "    } else {\n",
       "      load_libs(js_urls, function() {\n",
       "        console.log(\"Bokeh: BokehJS plotting callback run at\", now());\n",
       "        run_inline_js();\n",
       "      });\n",
       "    }\n",
       "  }(this));\n",
       "</script>"
      ]
     },
     "metadata": {},
     "output_type": "execute_result"
    },
    {
     "data": {
      "text/html": [
       "<p><code>&lt;Bokeh Notebook handle for <strong>In[12]</strong>&gt;</code></p>"
      ],
      "text/plain": [
       "<bokeh.io._CommsHandle at 0x7a457f0>"
      ]
     },
     "execution_count": 12,
     "metadata": {},
     "output_type": "execute_result"
    }
   ],
   "source": [
    "fig = timeline_figure()\n",
    "fig.circle(x=x, y=y, size=z)\n",
    "show(fig)"
   ]
  },
  {
   "cell_type": "code",
   "execution_count": null,
   "metadata": {
    "collapsed": true
   },
   "outputs": [],
   "source": [
    ""
   ]
  },
  {
   "cell_type": "code",
   "execution_count": null,
   "metadata": {
    "collapsed": true
   },
   "outputs": [],
   "source": [
    ""
   ]
  }
 ],
 "metadata": {
  "kernelspec": {
   "display_name": "Python 3",
   "language": "python",
   "name": "python3"
  },
  "language_info": {
   "codemirror_mode": {
    "name": "ipython",
    "version": 3.0
   },
   "file_extension": ".py",
   "mimetype": "text/x-python",
   "name": "python",
   "nbconvert_exporter": "python",
   "pygments_lexer": "ipython3",
   "version": "3.4.4"
  }
 },
 "nbformat": 4,
 "nbformat_minor": 0
}