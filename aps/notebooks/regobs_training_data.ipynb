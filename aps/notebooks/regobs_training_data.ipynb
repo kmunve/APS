{
 "cells": [
  {
   "cell_type": "markdown",
   "metadata": {},
   "source": [
    "# Create training dataset from regobs data"
   ]
  },
  {
   "cell_type": "code",
   "execution_count": null,
   "metadata": {},
   "outputs": [],
   "source": [
    "import pandas as pd\n",
    "import numpy as np\n",
    "import json\n",
    "from flatten_json import flatten\n",
    "from pprint import pprint\n",
    "# make sure the aps module is in the pythonpath\n",
    "import sys\n",
    "from pathlib import Path\n",
    "\n",
    "APS_dir = str(Path.cwd().parents[1])\n",
    "if APS_dir not in sys.path:\n",
    "    sys.path.append(APS_dir)\n",
    "import aps.aps_io.get_forecasts as gf"
   ]
  }
 ],
 "metadata": {
  "kernelspec": {
   "display_name": "Python 3",
   "language": "python",
   "name": "python3"
  },
  "language_info": {
   "codemirror_mode": {
    "name": "ipython",
    "version": 3
   },
   "file_extension": ".py",
   "mimetype": "text/x-python",
   "name": "python",
   "nbconvert_exporter": "python",
   "pygments_lexer": "ipython3",
   "version": "3.6.0"
  }
 },
 "nbformat": 4,
 "nbformat_minor": 2
}
