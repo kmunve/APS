{
 "cells": [
  {
   "cell_type": "markdown",
   "metadata": {
    "collapsed": true
   },
   "source": [
    "# Avalanche Index\n",
    "\n",
    "The avalanche index within APS is based on a logarithmic look-up table. The index is based on the reported number of avalanches and their size. When multiple observations are a available only the highest index is presented. However, all inidcies within a day are stored in the APS database."
   ]
  },
  {
   "cell_type": "code",
   "execution_count": 46,
   "metadata": {
    "collapsed": true
   },
   "outputs": [],
   "source": [
    "# -*- coding: utf-8 -*-\n",
    "%matplotlib inline\n",
    "import pylab as plt\n",
    "import datetime\n",
    "import numpy as np\n",
    "plt.rcParams['figure.figsize'] = (14, 6)"
   ]
  },
  {
   "cell_type": "code",
   "execution_count": 47,
   "metadata": {
    "collapsed": true
   },
   "outputs": [],
   "source": [
    "# DestructiveSizeName\n",
    "DestructiveSizeName = ['1 - Harmløst(sluff)',\n",
    "                      '2 - Små',\n",
    "                      '3 - Middels',\n",
    "                      '4 - Store',\n",
    "                      '5 - Svært store']\n",
    "\n",
    "# EstimatedNumTID\n",
    "EstimatedNumTID = {\n",
    "    '1':'Ett (1)',\n",
    "    '2':'Noen (2-5)',\n",
    "    '3':'Flere (6-10)',\n",
    "    '4':'Mange (10 eller mer)'\n",
    "}"
   ]
  },
  {
   "cell_type": "code",
   "execution_count": 48,
   "metadata": {
    "collapsed": false
   },
   "outputs": [
    {
     "name": "stdout",
     "output_type": "stream",
     "text": [
      "[[  1.00000000e+00   3.00000000e+00   9.00000000e+00   2.70000000e+01]\n",
      " [  6.00000000e+00   1.80000000e+01   5.40000000e+01   1.62000000e+02]\n",
      " [  3.60000000e+01   1.08000000e+02   3.24000000e+02   9.72000000e+02]\n",
      " [  2.16000000e+02   6.48000000e+02   1.94400000e+03   5.83200000e+03]\n",
      " [  1.29600000e+03   3.88800000e+03   1.16640000e+04   3.49920000e+04]]\n"
     ]
    },
    {
     "data": {
      "image/png": "[encoded data removed]",
      "text/plain": [
       "<matplotlib.figure.Figure at 0x14f352f15c0>"
      ]
     },
     "metadata": {},
     "output_type": "display_data"
    }
   ],
   "source": [
    "# Size factor\n",
    "size_factor = 6.0\n",
    "amount_factor = 3.0\n",
    "\n",
    "# look-up table\n",
    "LUT = np.array([[1.0, amount_factor, amount_factor**2, amount_factor**3],\n",
    "               [size_factor, size_factor*amount_factor, size_factor*amount_factor**2, size_factor*amount_factor**3],\n",
    "               [size_factor**2, size_factor**2 * amount_factor, size_factor**2 * amount_factor**2, size_factor**2 *amount_factor**3],\n",
    "               [size_factor**3, size_factor**3 * amount_factor, size_factor**3 * amount_factor**2, size_factor**3 * amount_factor**3],\n",
    "               [size_factor**4, size_factor**4 * amount_factor, size_factor**4 * amount_factor**2, size_factor**4 * amount_factor**3]])\n",
    "\n",
    "plt.pcolormesh(np.log(LUT), cmap=plt.cm.magma)\n",
    "#plt.colorbar()\n",
    "\n",
    "print(LUT)"
   ]
  },
  {
   "cell_type": "code",
   "execution_count": 49,
   "metadata": {
    "collapsed": true
   },
   "outputs": [],
   "source": [
    "size1 = {'1': LUT[0,0], '2': LUT[0,1], '3': LUT[0,2], '4': LUT[0,3]}\n",
    "size2 = {'1': LUT[1,0], '2': LUT[1,1], '3': LUT[1,2], '4': LUT[1,3]}\n",
    "size3 = {'1': LUT[2,0], '2': LUT[2,1], '3': LUT[2,2], '4': LUT[2,3]}\n",
    "size4 = {'1': LUT[3,0], '2': LUT[3,1], '3': LUT[3,2], '4': LUT[3,3]}\n",
    "size5 = {'1': LUT[4,0], '2': LUT[4,1], '3': LUT[4,2], '4': LUT[4,3]}\n",
    "\n",
    "avalanche_index = {'1 - Harmløst(sluff)': size1,\n",
    "                   '2 - Små': size2,\n",
    "                   '3 - Middels': size3,\n",
    "                   '4 - Store': size4,\n",
    "                   '5 - Svært store': size5}"
   ]
  },
  {
   "cell_type": "code",
   "execution_count": 50,
   "metadata": {
    "collapsed": false
   },
   "outputs": [],
   "source": [
    "example_sizes = [['3 - Middels', '4 - Store'],['3 - Middels', '2 - Små'], ['1 - Harmløst(sluff)', '2 - Små'], ['3 - Middels']]\n",
    "example_amount = [['2', '3'], ['2', '4'], ['4', '3'], ['2']]"
   ]
  },
  {
   "cell_type": "code",
   "execution_count": 51,
   "metadata": {
    "collapsed": false
   },
   "outputs": [
    {
     "data": {
      "text/plain": [
       "18.0"
      ]
     },
     "execution_count": 51,
     "metadata": {},
     "output_type": "execute_result"
    }
   ],
   "source": [
    "avalanche_index['2 - Små']['2']"
   ]
  },
  {
   "cell_type": "code",
   "execution_count": 52,
   "metadata": {
    "collapsed": false
   },
   "outputs": [
    {
     "name": "stdout",
     "output_type": "stream",
     "text": [
      "3 - Middels 2 = 108.0\n",
      "4 - Store 3 = 1944.0\n",
      "3 - Middels 2 = 108.0\n",
      "2 - Små 4 = 162.0\n",
      "1 - Harmløst(sluff) 4 = 27.0\n",
      "2 - Små 3 = 54.0\n",
      "3 - Middels 2 = 108.0\n",
      "[1944.0, 162.0, 54.0, 108.0]\n"
     ]
    }
   ],
   "source": [
    "result = []\n",
    "all_val = []\n",
    "days = []\n",
    "i = 0\n",
    "for s, n in zip(example_sizes, example_amount):\n",
    "    day_score = []\n",
    "    for si, ni in zip(s ,n):\n",
    "        day_score.append(avalanche_index[si][ni]) # calculate individual scores\n",
    "        all_val.append(avalanche_index[si][ni])\n",
    "        days.append(i)\n",
    "        print(\"{0} {1} = {2}\".format(si, ni, day_score[-1]))\n",
    "    result.append(np.array(day_score).max())\n",
    "    i += 1\n",
    "print(result)"
   ]
  },
  {
   "cell_type": "code",
   "execution_count": 53,
   "metadata": {
    "collapsed": false
   },
   "outputs": [
    {
     "data": {
      "text/plain": [
       "<matplotlib.lines.Line2D at 0x14f35aa8eb8>"
      ]
     },
     "execution_count": 53,
     "metadata": {},
     "output_type": "execute_result"
    },
    {
     "data": {
      "image/png": "[encoded data removed]",
      "text/plain": [
       "<matplotlib.figure.Figure at 0x14f35901e80>"
      ]
     },
     "metadata": {},
     "output_type": "display_data"
    }
   ],
   "source": [
    "plt.bar(left=range(len(result)), height=result)\n",
    "plt.scatter(days, all_val, c=np.log(all_val), vmin=0, vmax=np.log(LUT[-1,-1]), s=all_val, cmap=plt.cm.magma, zorder=10)\n",
    "plt.ylim([0,2200])\n",
    "plt.axhline(100, linestyle='--', color='grey') # a value of 100 corresponds to considerable avalanche activity"
   ]
  },
  {
   "cell_type": "markdown",
   "metadata": {},
   "source": [
    "TODO:\n",
    "Make an index for all observations of avalanche activity and a separate one regarding observerse with >=\\*\\*\\* only.\n"
   ]
  },
  {
   "cell_type": "code",
   "execution_count": null,
   "metadata": {
    "collapsed": true
   },
   "outputs": [],
   "source": []
  }
 ],
 "metadata": {
  "kernelspec": {
   "display_name": "Python 3",
   "language": "python",
   "name": "python3"
  },
  "language_info": {
   "codemirror_mode": {
    "name": "ipython",
    "version": 3
   },
   "file_extension": ".py",
   "mimetype": "text/x-python",
   "name": "python",
   "nbconvert_exporter": "python",
   "pygments_lexer": "ipython3",
   "version": "3.6.0"
  }
 },
 "nbformat": 4,
 "nbformat_minor": 0
}
