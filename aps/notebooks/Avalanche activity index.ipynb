{
 "cells": [
  {
   "cell_type": "code",
   "execution_count": null,
   "metadata": {
    "collapsed": true
   },
   "outputs": [],
   "source": []
  },
  {
   "cell_type": "code",
   "execution_count": 1,
   "metadata": {
    "collapsed": true
   },
   "outputs": [],
   "source": [
    "# -*- coding: utf-8 -*-\n",
    "%matplotlib inline\n",
    "import pylab as plt\n",
    "import datetime\n",
    "import numpy as np\n",
    "plt.rcParams['figure.figsize'] = (14, 6)"
   ]
  },
  {
   "cell_type": "code",
   "execution_count": 30,
   "metadata": {
    "collapsed": true
   },
   "outputs": [],
   "source": [
    "# DestructiveSizeName\n",
    "DestructiveSizeName = {'1 - Harmløst(sluff)': 0.01,\n",
    "                      '2 - Små': 0.1,\n",
    "                      '3 - Middels': 1,\n",
    "                      '4 - Store': 10,\n",
    "                      '5 - Svært store': 100}\n",
    "\n",
    "# EstimatedNumTID\n",
    "EstimatedNumTID = {\n",
    "    '1':1,\n",
    "    '2':3,\n",
    "    '3':8,\n",
    "    '4':12\n",
    "}"
   ]
  },
  {
   "cell_type": "code",
   "execution_count": 42,
   "metadata": {
    "collapsed": false
   },
   "outputs": [],
   "source": [
    "example_sizes = [['3 - Middels', '4 - Store'],['3 - Middels', '2 - Små'], ['1 - Harmløst(sluff)', '2 - Små']]\n",
    "example_amount = [['2', '1'], ['2', '4'], ['4', '3']]"
   ]
  },
  {
   "cell_type": "code",
   "execution_count": 43,
   "metadata": {
    "collapsed": false
   },
   "outputs": [
    {
     "name": "stdout",
     "output_type": "stream",
     "text": [
      "1 3 = 3\n",
      "10 1 = 10\n",
      "1 3 = 3\n",
      "0.1 12 = 1.2000000000000002\n",
      "0.01 12 = 0.12\n",
      "0.1 8 = 0.8\n",
      "[13, 4.2000000000000002, 0.92000000000000004]\n"
     ]
    }
   ],
   "source": [
    "result = []\n",
    "for s, n in zip(example_sizes, example_amount):\n",
    "    day_score = []\n",
    "    for si, ni in zip(s ,n):\n",
    "        day_score.append(DestructiveSizeName[si] * EstimatedNumTID[ni]) # calculate individual scores\n",
    "        print(\"{0} {1} = {2}\".format(DestructiveSizeName[si], EstimatedNumTID[ni], day_score[-1]))\n",
    "    result.append(np.sum(day_score)) # sum up daily scores\n",
    "print(result)"
   ]
  },
  {
   "cell_type": "code",
   "execution_count": 44,
   "metadata": {
    "collapsed": false
   },
   "outputs": [
    {
     "data": {
      "text/plain": [
       "<matplotlib.lines.Line2D at 0x1d0399fa048>"
      ]
     },
     "execution_count": 44,
     "metadata": {},
     "output_type": "execute_result"
    },
    {
     "data": {
      "image/png": "[encoded data removed]",
      "text/plain": [
       "<matplotlib.figure.Figure at 0x1d0399fa400>"
      ]
     },
     "metadata": {},
     "output_type": "display_data"
    }
   ],
   "source": [
    "plt.bar(left=range(len(result)), height=result)\n",
    "plt.axhline(3, linestyle='--', color='grey') # a value of 3 corresponds to considerable avalanche activity"
   ]
  },
  {
   "cell_type": "markdown",
   "metadata": {},
   "source": [
    "TODO:\n",
    "Make an index for all observations of avalanche activity and a separate one regarding observerse with >=\\*\\*\\* only.\n"
   ]
  },
  {
   "cell_type": "code",
   "execution_count": null,
   "metadata": {
    "collapsed": true
   },
   "outputs": [],
   "source": []
  }
 ],
 "metadata": {
  "kernelspec": {
   "display_name": "Python 3",
   "language": "python",
   "name": "python3"
  },
  "language_info": {
   "codemirror_mode": {
    "name": "ipython",
    "version": 3
   },
   "file_extension": ".py",
   "mimetype": "text/x-python",
   "name": "python",
   "nbconvert_exporter": "python",
   "pygments_lexer": "ipython3",
   "version": "3.6.0"
  }
 },
 "nbformat": 4,
 "nbformat_minor": 2
}
