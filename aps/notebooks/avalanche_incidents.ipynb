{
  "cells": [
    {
      "cell_type": "code",
      "execution_count": 2,
      "metadata": {
        "collapsed": true,
        "pycharm": {
          "is_executing": false
        }
      },
      "outputs": [],
      "source": "import sys\nimport pandas as pd\nimport numpy as np\nimport json\nimport matplotlib.pyplot as plt\nimport seaborn as sns\nfrom pathlib import Path\n\nsns.set(style\u003d\"white\")\n\n#pd.set_option(\"display.max_rows\",6)\n\n%matplotlib inline"
    },
    {
      "cell_type": "code",
      "execution_count": 3,
      "outputs": [
        {
          "data": {
            "text/plain": "      ActivityInfluencedName  ActivityInfluencedTID CompetenceLevelName  \\\nindex                                                                     \n0                    Topptur                    111              Ukjent   \n1                        Hus                    160                 ***   \n2                Fjellskitur                    114              Ukjent   \n3                    Topptur                    111              Ukjent   \n4                Ski offpist                    113                ****   \n\n            DamageExtentName  DamageExtentTID                  DtObsTime  \\\nindex                                                                      \n0         Påvirket ingenting               10  2013-01-20 11:15:00+01:00   \n1      Kun materielle skader               20  2013-01-21 06:30:00+01:00   \n2         Påvirket ingenting               10  2013-01-22 19:21:00+01:00   \n3         Påvirket ingenting               10  2013-01-23 20:00:00+01:00   \n4               Nestenulykke               29  2013-01-28 20:00:00+01:00   \n\n                       DtRegTime ForecastRegionName  ForecastRegionTID  \\\nindex                                                                    \n0      2013-01-21 08:43:14+00:00        Indre Troms               3013   \n1      2013-01-25 10:16:36+00:00        Indre Troms               3013   \n2      2013-01-22 21:29:37+00:00          Svartisen               3017   \n3      2013-01-25 12:25:57+00:00             Tromsø               3011   \n4      2013-01-29 07:25:05+00:00             Tromsø               3011   \n\n      GeoHazardName   ...    Longitude MunicipalName              NickName  \\\nindex                 ...                                                    \n0               Snø   ...    19.815385     BALSFJORD  magkjeld@regobsTroms   \n1               Snø   ...    19.760810     BALSFJORD            Ragnar@NVE   \n2               Snø   ...    14.217975          RANA     Ukjent observatør   \n3               Snø   ...    18.745638        TROMSØ     Ukjent observatør   \n4               Snø   ...    19.061126        TROMSØ           Karsten@NVE   \n\n      ObserverId  RegID  RegistrationName  RegistrationTID UTMEast  UTMNorth  \\\nindex                                                                          \n0            498   5061   Ulykke/hendelse               11  690714   7683582   \n1              6   5474   Ulykke/hendelse               11  688532   7683725   \n2              0   5254   Ulykke/hendelse               11  465128   7369823   \n3              0   5509   Ulykke/hendelse               11  644894   7737784   \n4             49   5878   Ulykke/hendelse               11  657417   7733551   \n\n      UTMZone  \nindex          \n0          33  \n1          33  \n2          33  \n3          33  \n4          33  \n\n[5 rows x 28 columns]",
            "text/html": "\u003cdiv\u003e\n\u003cstyle scoped\u003e\n    .dataframe tbody tr th:only-of-type {\n        vertical-align: middle;\n    }\n\n    .dataframe tbody tr th {\n        vertical-align: top;\n    }\n\n    .dataframe thead th {\n        text-align: right;\n    }\n\u003c/style\u003e\n\u003ctable border\u003d\"1\" class\u003d\"dataframe\"\u003e\n  \u003cthead\u003e\n    \u003ctr style\u003d\"text-align: right;\"\u003e\n      \u003cth\u003e\u003c/th\u003e\n      \u003cth\u003eActivityInfluencedName\u003c/th\u003e\n      \u003cth\u003eActivityInfluencedTID\u003c/th\u003e\n      \u003cth\u003eCompetenceLevelName\u003c/th\u003e\n      \u003cth\u003eDamageExtentName\u003c/th\u003e\n      \u003cth\u003eDamageExtentTID\u003c/th\u003e\n      \u003cth\u003eDtObsTime\u003c/th\u003e\n      \u003cth\u003eDtRegTime\u003c/th\u003e\n      \u003cth\u003eForecastRegionName\u003c/th\u003e\n      \u003cth\u003eForecastRegionTID\u003c/th\u003e\n      \u003cth\u003eGeoHazardName\u003c/th\u003e\n      \u003cth\u003e...\u003c/th\u003e\n      \u003cth\u003eLongitude\u003c/th\u003e\n      \u003cth\u003eMunicipalName\u003c/th\u003e\n      \u003cth\u003eNickName\u003c/th\u003e\n      \u003cth\u003eObserverId\u003c/th\u003e\n      \u003cth\u003eRegID\u003c/th\u003e\n      \u003cth\u003eRegistrationName\u003c/th\u003e\n      \u003cth\u003eRegistrationTID\u003c/th\u003e\n      \u003cth\u003eUTMEast\u003c/th\u003e\n      \u003cth\u003eUTMNorth\u003c/th\u003e\n      \u003cth\u003eUTMZone\u003c/th\u003e\n    \u003c/tr\u003e\n    \u003ctr\u003e\n      \u003cth\u003eindex\u003c/th\u003e\n      \u003cth\u003e\u003c/th\u003e\n      \u003cth\u003e\u003c/th\u003e\n      \u003cth\u003e\u003c/th\u003e\n      \u003cth\u003e\u003c/th\u003e\n      \u003cth\u003e\u003c/th\u003e\n      \u003cth\u003e\u003c/th\u003e\n      \u003cth\u003e\u003c/th\u003e\n      \u003cth\u003e\u003c/th\u003e\n      \u003cth\u003e\u003c/th\u003e\n      \u003cth\u003e\u003c/th\u003e\n      \u003cth\u003e\u003c/th\u003e\n      \u003cth\u003e\u003c/th\u003e\n      \u003cth\u003e\u003c/th\u003e\n      \u003cth\u003e\u003c/th\u003e\n      \u003cth\u003e\u003c/th\u003e\n      \u003cth\u003e\u003c/th\u003e\n      \u003cth\u003e\u003c/th\u003e\n      \u003cth\u003e\u003c/th\u003e\n      \u003cth\u003e\u003c/th\u003e\n      \u003cth\u003e\u003c/th\u003e\n      \u003cth\u003e\u003c/th\u003e\n    \u003c/tr\u003e\n  \u003c/thead\u003e\n  \u003ctbody\u003e\n    \u003ctr\u003e\n      \u003cth\u003e0\u003c/th\u003e\n      \u003ctd\u003eTopptur\u003c/td\u003e\n      \u003ctd\u003e111\u003c/td\u003e\n      \u003ctd\u003eUkjent\u003c/td\u003e\n      \u003ctd\u003ePåvirket ingenting\u003c/td\u003e\n      \u003ctd\u003e10\u003c/td\u003e\n      \u003ctd\u003e2013-01-20 11:15:00+01:00\u003c/td\u003e\n      \u003ctd\u003e2013-01-21 08:43:14+00:00\u003c/td\u003e\n      \u003ctd\u003eIndre Troms\u003c/td\u003e\n      \u003ctd\u003e3013\u003c/td\u003e\n      \u003ctd\u003eSnø\u003c/td\u003e\n      \u003ctd\u003e...\u003c/td\u003e\n      \u003ctd\u003e19.815385\u003c/td\u003e\n      \u003ctd\u003eBALSFJORD\u003c/td\u003e\n      \u003ctd\u003emagkjeld@regobsTroms\u003c/td\u003e\n      \u003ctd\u003e498\u003c/td\u003e\n      \u003ctd\u003e5061\u003c/td\u003e\n      \u003ctd\u003eUlykke/hendelse\u003c/td\u003e\n      \u003ctd\u003e11\u003c/td\u003e\n      \u003ctd\u003e690714\u003c/td\u003e\n      \u003ctd\u003e7683582\u003c/td\u003e\n      \u003ctd\u003e33\u003c/td\u003e\n    \u003c/tr\u003e\n    \u003ctr\u003e\n      \u003cth\u003e1\u003c/th\u003e\n      \u003ctd\u003eHus\u003c/td\u003e\n      \u003ctd\u003e160\u003c/td\u003e\n      \u003ctd\u003e***\u003c/td\u003e\n      \u003ctd\u003eKun materielle skader\u003c/td\u003e\n      \u003ctd\u003e20\u003c/td\u003e\n      \u003ctd\u003e2013-01-21 06:30:00+01:00\u003c/td\u003e\n      \u003ctd\u003e2013-01-25 10:16:36+00:00\u003c/td\u003e\n      \u003ctd\u003eIndre Troms\u003c/td\u003e\n      \u003ctd\u003e3013\u003c/td\u003e\n      \u003ctd\u003eSnø\u003c/td\u003e\n      \u003ctd\u003e...\u003c/td\u003e\n      \u003ctd\u003e19.760810\u003c/td\u003e\n      \u003ctd\u003eBALSFJORD\u003c/td\u003e\n      \u003ctd\u003eRagnar@NVE\u003c/td\u003e\n      \u003ctd\u003e6\u003c/td\u003e\n      \u003ctd\u003e5474\u003c/td\u003e\n      \u003ctd\u003eUlykke/hendelse\u003c/td\u003e\n      \u003ctd\u003e11\u003c/td\u003e\n      \u003ctd\u003e688532\u003c/td\u003e\n      \u003ctd\u003e7683725\u003c/td\u003e\n      \u003ctd\u003e33\u003c/td\u003e\n    \u003c/tr\u003e\n    \u003ctr\u003e\n      \u003cth\u003e2\u003c/th\u003e\n      \u003ctd\u003eFjellskitur\u003c/td\u003e\n      \u003ctd\u003e114\u003c/td\u003e\n      \u003ctd\u003eUkjent\u003c/td\u003e\n      \u003ctd\u003ePåvirket ingenting\u003c/td\u003e\n      \u003ctd\u003e10\u003c/td\u003e\n      \u003ctd\u003e2013-01-22 19:21:00+01:00\u003c/td\u003e\n      \u003ctd\u003e2013-01-22 21:29:37+00:00\u003c/td\u003e\n      \u003ctd\u003eSvartisen\u003c/td\u003e\n      \u003ctd\u003e3017\u003c/td\u003e\n      \u003ctd\u003eSnø\u003c/td\u003e\n      \u003ctd\u003e...\u003c/td\u003e\n      \u003ctd\u003e14.217975\u003c/td\u003e\n      \u003ctd\u003eRANA\u003c/td\u003e\n      \u003ctd\u003eUkjent observatør\u003c/td\u003e\n      \u003ctd\u003e0\u003c/td\u003e\n      \u003ctd\u003e5254\u003c/td\u003e\n      \u003ctd\u003eUlykke/hendelse\u003c/td\u003e\n      \u003ctd\u003e11\u003c/td\u003e\n      \u003ctd\u003e465128\u003c/td\u003e\n      \u003ctd\u003e7369823\u003c/td\u003e\n      \u003ctd\u003e33\u003c/td\u003e\n    \u003c/tr\u003e\n    \u003ctr\u003e\n      \u003cth\u003e3\u003c/th\u003e\n      \u003ctd\u003eTopptur\u003c/td\u003e\n      \u003ctd\u003e111\u003c/td\u003e\n      \u003ctd\u003eUkjent\u003c/td\u003e\n      \u003ctd\u003ePåvirket ingenting\u003c/td\u003e\n      \u003ctd\u003e10\u003c/td\u003e\n      \u003ctd\u003e2013-01-23 20:00:00+01:00\u003c/td\u003e\n      \u003ctd\u003e2013-01-25 12:25:57+00:00\u003c/td\u003e\n      \u003ctd\u003eTromsø\u003c/td\u003e\n      \u003ctd\u003e3011\u003c/td\u003e\n      \u003ctd\u003eSnø\u003c/td\u003e\n      \u003ctd\u003e...\u003c/td\u003e\n      \u003ctd\u003e18.745638\u003c/td\u003e\n      \u003ctd\u003eTROMSØ\u003c/td\u003e\n      \u003ctd\u003eUkjent observatør\u003c/td\u003e\n      \u003ctd\u003e0\u003c/td\u003e\n      \u003ctd\u003e5509\u003c/td\u003e\n      \u003ctd\u003eUlykke/hendelse\u003c/td\u003e\n      \u003ctd\u003e11\u003c/td\u003e\n      \u003ctd\u003e644894\u003c/td\u003e\n      \u003ctd\u003e7737784\u003c/td\u003e\n      \u003ctd\u003e33\u003c/td\u003e\n    \u003c/tr\u003e\n    \u003ctr\u003e\n      \u003cth\u003e4\u003c/th\u003e\n      \u003ctd\u003eSki offpist\u003c/td\u003e\n      \u003ctd\u003e113\u003c/td\u003e\n      \u003ctd\u003e****\u003c/td\u003e\n      \u003ctd\u003eNestenulykke\u003c/td\u003e\n      \u003ctd\u003e29\u003c/td\u003e\n      \u003ctd\u003e2013-01-28 20:00:00+01:00\u003c/td\u003e\n      \u003ctd\u003e2013-01-29 07:25:05+00:00\u003c/td\u003e\n      \u003ctd\u003eTromsø\u003c/td\u003e\n      \u003ctd\u003e3011\u003c/td\u003e\n      \u003ctd\u003eSnø\u003c/td\u003e\n      \u003ctd\u003e...\u003c/td\u003e\n      \u003ctd\u003e19.061126\u003c/td\u003e\n      \u003ctd\u003eTROMSØ\u003c/td\u003e\n      \u003ctd\u003eKarsten@NVE\u003c/td\u003e\n      \u003ctd\u003e49\u003c/td\u003e\n      \u003ctd\u003e5878\u003c/td\u003e\n      \u003ctd\u003eUlykke/hendelse\u003c/td\u003e\n      \u003ctd\u003e11\u003c/td\u003e\n      \u003ctd\u003e657417\u003c/td\u003e\n      \u003ctd\u003e7733551\u003c/td\u003e\n      \u003ctd\u003e33\u003c/td\u003e\n    \u003c/tr\u003e\n  \u003c/tbody\u003e\n\u003c/table\u003e\n\u003cp\u003e5 rows × 28 columns\u003c/p\u003e\n\u003c/div\u003e"
          },
          "metadata": {},
          "output_type": "execute_result",
          "execution_count": 3
        }
      ],
      "source": "# analysis of entire data set - collected using varsomdata2.varsomscripts.avalanchewarningscomplete.get_season_17_18()\ndata_pth \u003d Path(r\u0027D:\\Dev\\varsomdata2\\localstorage\\aval_incidents_2013_2019.csv\u0027)\n\ninc_df \u003d pd.read_csv(data_pth, index_col\u003d0)\ninc_df.head()",
      "metadata": {
        "pycharm": {
          "metadata": false,
          "name": "#%%\n",
          "is_executing": false
        }
      }
    },
    {
      "cell_type": "code",
      "execution_count": 4,
      "outputs": [
        {
          "data": {
            "text/plain": "Index([\u0027ActivityInfluencedName\u0027, \u0027ActivityInfluencedTID\u0027,\n       \u0027CompetenceLevelName\u0027, \u0027DamageExtentName\u0027, \u0027DamageExtentTID\u0027,\n       \u0027DtObsTime\u0027, \u0027DtRegTime\u0027, \u0027ForecastRegionName\u0027, \u0027ForecastRegionTID\u0027,\n       \u0027GeoHazardName\u0027, \u0027GeoHazardTID\u0027, \u0027IncidentHeader\u0027, \u0027IncidentIngress\u0027,\n       \u0027IncidentText\u0027, \u0027LangKey\u0027, \u0027Latitude\u0027, \u0027LocationID\u0027, \u0027LocationName\u0027,\n       \u0027Longitude\u0027, \u0027MunicipalName\u0027, \u0027NickName\u0027, \u0027ObserverId\u0027, \u0027RegID\u0027,\n       \u0027RegistrationName\u0027, \u0027RegistrationTID\u0027, \u0027UTMEast\u0027, \u0027UTMNorth\u0027,\n       \u0027UTMZone\u0027],\n      dtype\u003d\u0027object\u0027)"
          },
          "metadata": {},
          "output_type": "execute_result",
          "execution_count": 4
        }
      ],
      "source": "inc_df.columns",
      "metadata": {
        "pycharm": {
          "metadata": false,
          "name": "#%%\n",
          "is_executing": false
        }
      }
    },
    {
      "cell_type": "code",
      "execution_count": 5,
      "outputs": [
        {
          "data": {
            "text/plain": "\u00272013\u0027"
          },
          "metadata": {},
          "output_type": "execute_result",
          "execution_count": 5
        }
      ],
      "source": "inc_df[\u0027DtObsTime\u0027][0][:4]",
      "metadata": {
        "pycharm": {
          "metadata": false,
          "name": "#%%\n",
          "is_executing": false
        }
      }
    },
    {
      "cell_type": "code",
      "execution_count": 6,
      "outputs": [],
      "source": "inc_df[\u0027year\u0027] \u003d inc_df.apply(lambda d: int(d[\u0027DtObsTime\u0027][:4]), axis\u003d1)",
      "metadata": {
        "pycharm": {
          "metadata": false,
          "name": "#%%\n",
          "is_executing": false
        }
      }
    },
    {
      "cell_type": "code",
      "execution_count": 7,
      "outputs": [
        {
          "data": {
            "text/plain": "      ActivityInfluencedName  ActivityInfluencedTID  CompetenceLevelName  \\\nyear                                                                       \n2013                     100                    100                  100   \n2014                      55                     55                   55   \n2015                     309                    309                  309   \n2016                     351                    351                  351   \n2017                     353                    353                  353   \n2018                     392                    392                  392   \n2019                     380                    380                  380   \n\n      DamageExtentName  DamageExtentTID  DtObsTime  DtRegTime  \\\nyear                                                            \n2013               100              100        100        100   \n2014                55               55         55         55   \n2015               309              309        309        309   \n2016               351              351        351        351   \n2017               353              353        353        353   \n2018               392              392        392        392   \n2019               380              380        380        380   \n\n      ForecastRegionName  ForecastRegionTID  GeoHazardName   ...     \\\nyear                                                         ...      \n2013                 100                100            100   ...      \n2014                  55                 55             55   ...      \n2015                 309                309            309   ...      \n2016                 351                351            351   ...      \n2017                 353                353            353   ...      \n2018                 390                392            392   ...      \n2019                 380                380            380   ...      \n\n      Longitude  MunicipalName  NickName  ObserverId  RegID  RegistrationName  \\\nyear                                                                            \n2013        100             95       100         100    100               100   \n2014         55             55        55          55     55                55   \n2015        309            304       309         309    309               309   \n2016        351            346       351         351    351               351   \n2017        353            352       353         353    353               353   \n2018        392            387       392         392    392               392   \n2019        380            377       380         380    380               380   \n\n      RegistrationTID  UTMEast  UTMNorth  UTMZone  \nyear                                               \n2013              100      100       100      100  \n2014               55       55        55       55  \n2015              309      309       309      309  \n2016              351      351       351      351  \n2017              353      353       353      353  \n2018              392      392       392      392  \n2019              380      380       380      380  \n\n[7 rows x 28 columns]",
            "text/html": "\u003cdiv\u003e\n\u003cstyle scoped\u003e\n    .dataframe tbody tr th:only-of-type {\n        vertical-align: middle;\n    }\n\n    .dataframe tbody tr th {\n        vertical-align: top;\n    }\n\n    .dataframe thead th {\n        text-align: right;\n    }\n\u003c/style\u003e\n\u003ctable border\u003d\"1\" class\u003d\"dataframe\"\u003e\n  \u003cthead\u003e\n    \u003ctr style\u003d\"text-align: right;\"\u003e\n      \u003cth\u003e\u003c/th\u003e\n      \u003cth\u003eActivityInfluencedName\u003c/th\u003e\n      \u003cth\u003eActivityInfluencedTID\u003c/th\u003e\n      \u003cth\u003eCompetenceLevelName\u003c/th\u003e\n      \u003cth\u003eDamageExtentName\u003c/th\u003e\n      \u003cth\u003eDamageExtentTID\u003c/th\u003e\n      \u003cth\u003eDtObsTime\u003c/th\u003e\n      \u003cth\u003eDtRegTime\u003c/th\u003e\n      \u003cth\u003eForecastRegionName\u003c/th\u003e\n      \u003cth\u003eForecastRegionTID\u003c/th\u003e\n      \u003cth\u003eGeoHazardName\u003c/th\u003e\n      \u003cth\u003e...\u003c/th\u003e\n      \u003cth\u003eLongitude\u003c/th\u003e\n      \u003cth\u003eMunicipalName\u003c/th\u003e\n      \u003cth\u003eNickName\u003c/th\u003e\n      \u003cth\u003eObserverId\u003c/th\u003e\n      \u003cth\u003eRegID\u003c/th\u003e\n      \u003cth\u003eRegistrationName\u003c/th\u003e\n      \u003cth\u003eRegistrationTID\u003c/th\u003e\n      \u003cth\u003eUTMEast\u003c/th\u003e\n      \u003cth\u003eUTMNorth\u003c/th\u003e\n      \u003cth\u003eUTMZone\u003c/th\u003e\n    \u003c/tr\u003e\n    \u003ctr\u003e\n      \u003cth\u003eyear\u003c/th\u003e\n      \u003cth\u003e\u003c/th\u003e\n      \u003cth\u003e\u003c/th\u003e\n      \u003cth\u003e\u003c/th\u003e\n      \u003cth\u003e\u003c/th\u003e\n      \u003cth\u003e\u003c/th\u003e\n      \u003cth\u003e\u003c/th\u003e\n      \u003cth\u003e\u003c/th\u003e\n      \u003cth\u003e\u003c/th\u003e\n      \u003cth\u003e\u003c/th\u003e\n      \u003cth\u003e\u003c/th\u003e\n      \u003cth\u003e\u003c/th\u003e\n      \u003cth\u003e\u003c/th\u003e\n      \u003cth\u003e\u003c/th\u003e\n      \u003cth\u003e\u003c/th\u003e\n      \u003cth\u003e\u003c/th\u003e\n      \u003cth\u003e\u003c/th\u003e\n      \u003cth\u003e\u003c/th\u003e\n      \u003cth\u003e\u003c/th\u003e\n      \u003cth\u003e\u003c/th\u003e\n      \u003cth\u003e\u003c/th\u003e\n      \u003cth\u003e\u003c/th\u003e\n    \u003c/tr\u003e\n  \u003c/thead\u003e\n  \u003ctbody\u003e\n    \u003ctr\u003e\n      \u003cth\u003e2013\u003c/th\u003e\n      \u003ctd\u003e100\u003c/td\u003e\n      \u003ctd\u003e100\u003c/td\u003e\n      \u003ctd\u003e100\u003c/td\u003e\n      \u003ctd\u003e100\u003c/td\u003e\n      \u003ctd\u003e100\u003c/td\u003e\n      \u003ctd\u003e100\u003c/td\u003e\n      \u003ctd\u003e100\u003c/td\u003e\n      \u003ctd\u003e100\u003c/td\u003e\n      \u003ctd\u003e100\u003c/td\u003e\n      \u003ctd\u003e100\u003c/td\u003e\n      \u003ctd\u003e...\u003c/td\u003e\n      \u003ctd\u003e100\u003c/td\u003e\n      \u003ctd\u003e95\u003c/td\u003e\n      \u003ctd\u003e100\u003c/td\u003e\n      \u003ctd\u003e100\u003c/td\u003e\n      \u003ctd\u003e100\u003c/td\u003e\n      \u003ctd\u003e100\u003c/td\u003e\n      \u003ctd\u003e100\u003c/td\u003e\n      \u003ctd\u003e100\u003c/td\u003e\n      \u003ctd\u003e100\u003c/td\u003e\n      \u003ctd\u003e100\u003c/td\u003e\n    \u003c/tr\u003e\n    \u003ctr\u003e\n      \u003cth\u003e2014\u003c/th\u003e\n      \u003ctd\u003e55\u003c/td\u003e\n      \u003ctd\u003e55\u003c/td\u003e\n      \u003ctd\u003e55\u003c/td\u003e\n      \u003ctd\u003e55\u003c/td\u003e\n      \u003ctd\u003e55\u003c/td\u003e\n      \u003ctd\u003e55\u003c/td\u003e\n      \u003ctd\u003e55\u003c/td\u003e\n      \u003ctd\u003e55\u003c/td\u003e\n      \u003ctd\u003e55\u003c/td\u003e\n      \u003ctd\u003e55\u003c/td\u003e\n      \u003ctd\u003e...\u003c/td\u003e\n      \u003ctd\u003e55\u003c/td\u003e\n      \u003ctd\u003e55\u003c/td\u003e\n      \u003ctd\u003e55\u003c/td\u003e\n      \u003ctd\u003e55\u003c/td\u003e\n      \u003ctd\u003e55\u003c/td\u003e\n      \u003ctd\u003e55\u003c/td\u003e\n      \u003ctd\u003e55\u003c/td\u003e\n      \u003ctd\u003e55\u003c/td\u003e\n      \u003ctd\u003e55\u003c/td\u003e\n      \u003ctd\u003e55\u003c/td\u003e\n    \u003c/tr\u003e\n    \u003ctr\u003e\n      \u003cth\u003e2015\u003c/th\u003e\n      \u003ctd\u003e309\u003c/td\u003e\n      \u003ctd\u003e309\u003c/td\u003e\n      \u003ctd\u003e309\u003c/td\u003e\n      \u003ctd\u003e309\u003c/td\u003e\n      \u003ctd\u003e309\u003c/td\u003e\n      \u003ctd\u003e309\u003c/td\u003e\n      \u003ctd\u003e309\u003c/td\u003e\n      \u003ctd\u003e309\u003c/td\u003e\n      \u003ctd\u003e309\u003c/td\u003e\n      \u003ctd\u003e309\u003c/td\u003e\n      \u003ctd\u003e...\u003c/td\u003e\n      \u003ctd\u003e309\u003c/td\u003e\n      \u003ctd\u003e304\u003c/td\u003e\n      \u003ctd\u003e309\u003c/td\u003e\n      \u003ctd\u003e309\u003c/td\u003e\n      \u003ctd\u003e309\u003c/td\u003e\n      \u003ctd\u003e309\u003c/td\u003e\n      \u003ctd\u003e309\u003c/td\u003e\n      \u003ctd\u003e309\u003c/td\u003e\n      \u003ctd\u003e309\u003c/td\u003e\n      \u003ctd\u003e309\u003c/td\u003e\n    \u003c/tr\u003e\n    \u003ctr\u003e\n      \u003cth\u003e2016\u003c/th\u003e\n      \u003ctd\u003e351\u003c/td\u003e\n      \u003ctd\u003e351\u003c/td\u003e\n      \u003ctd\u003e351\u003c/td\u003e\n      \u003ctd\u003e351\u003c/td\u003e\n      \u003ctd\u003e351\u003c/td\u003e\n      \u003ctd\u003e351\u003c/td\u003e\n      \u003ctd\u003e351\u003c/td\u003e\n      \u003ctd\u003e351\u003c/td\u003e\n      \u003ctd\u003e351\u003c/td\u003e\n      \u003ctd\u003e351\u003c/td\u003e\n      \u003ctd\u003e...\u003c/td\u003e\n      \u003ctd\u003e351\u003c/td\u003e\n      \u003ctd\u003e346\u003c/td\u003e\n      \u003ctd\u003e351\u003c/td\u003e\n      \u003ctd\u003e351\u003c/td\u003e\n      \u003ctd\u003e351\u003c/td\u003e\n      \u003ctd\u003e351\u003c/td\u003e\n      \u003ctd\u003e351\u003c/td\u003e\n      \u003ctd\u003e351\u003c/td\u003e\n      \u003ctd\u003e351\u003c/td\u003e\n      \u003ctd\u003e351\u003c/td\u003e\n    \u003c/tr\u003e\n    \u003ctr\u003e\n      \u003cth\u003e2017\u003c/th\u003e\n      \u003ctd\u003e353\u003c/td\u003e\n      \u003ctd\u003e353\u003c/td\u003e\n      \u003ctd\u003e353\u003c/td\u003e\n      \u003ctd\u003e353\u003c/td\u003e\n      \u003ctd\u003e353\u003c/td\u003e\n      \u003ctd\u003e353\u003c/td\u003e\n      \u003ctd\u003e353\u003c/td\u003e\n      \u003ctd\u003e353\u003c/td\u003e\n      \u003ctd\u003e353\u003c/td\u003e\n      \u003ctd\u003e353\u003c/td\u003e\n      \u003ctd\u003e...\u003c/td\u003e\n      \u003ctd\u003e353\u003c/td\u003e\n      \u003ctd\u003e352\u003c/td\u003e\n      \u003ctd\u003e353\u003c/td\u003e\n      \u003ctd\u003e353\u003c/td\u003e\n      \u003ctd\u003e353\u003c/td\u003e\n      \u003ctd\u003e353\u003c/td\u003e\n      \u003ctd\u003e353\u003c/td\u003e\n      \u003ctd\u003e353\u003c/td\u003e\n      \u003ctd\u003e353\u003c/td\u003e\n      \u003ctd\u003e353\u003c/td\u003e\n    \u003c/tr\u003e\n    \u003ctr\u003e\n      \u003cth\u003e2018\u003c/th\u003e\n      \u003ctd\u003e392\u003c/td\u003e\n      \u003ctd\u003e392\u003c/td\u003e\n      \u003ctd\u003e392\u003c/td\u003e\n      \u003ctd\u003e392\u003c/td\u003e\n      \u003ctd\u003e392\u003c/td\u003e\n      \u003ctd\u003e392\u003c/td\u003e\n      \u003ctd\u003e392\u003c/td\u003e\n      \u003ctd\u003e390\u003c/td\u003e\n      \u003ctd\u003e392\u003c/td\u003e\n      \u003ctd\u003e392\u003c/td\u003e\n      \u003ctd\u003e...\u003c/td\u003e\n      \u003ctd\u003e392\u003c/td\u003e\n      \u003ctd\u003e387\u003c/td\u003e\n      \u003ctd\u003e392\u003c/td\u003e\n      \u003ctd\u003e392\u003c/td\u003e\n      \u003ctd\u003e392\u003c/td\u003e\n      \u003ctd\u003e392\u003c/td\u003e\n      \u003ctd\u003e392\u003c/td\u003e\n      \u003ctd\u003e392\u003c/td\u003e\n      \u003ctd\u003e392\u003c/td\u003e\n      \u003ctd\u003e392\u003c/td\u003e\n    \u003c/tr\u003e\n    \u003ctr\u003e\n      \u003cth\u003e2019\u003c/th\u003e\n      \u003ctd\u003e380\u003c/td\u003e\n      \u003ctd\u003e380\u003c/td\u003e\n      \u003ctd\u003e380\u003c/td\u003e\n      \u003ctd\u003e380\u003c/td\u003e\n      \u003ctd\u003e380\u003c/td\u003e\n      \u003ctd\u003e380\u003c/td\u003e\n      \u003ctd\u003e380\u003c/td\u003e\n      \u003ctd\u003e380\u003c/td\u003e\n      \u003ctd\u003e380\u003c/td\u003e\n      \u003ctd\u003e380\u003c/td\u003e\n      \u003ctd\u003e...\u003c/td\u003e\n      \u003ctd\u003e380\u003c/td\u003e\n      \u003ctd\u003e377\u003c/td\u003e\n      \u003ctd\u003e380\u003c/td\u003e\n      \u003ctd\u003e380\u003c/td\u003e\n      \u003ctd\u003e380\u003c/td\u003e\n      \u003ctd\u003e380\u003c/td\u003e\n      \u003ctd\u003e380\u003c/td\u003e\n      \u003ctd\u003e380\u003c/td\u003e\n      \u003ctd\u003e380\u003c/td\u003e\n      \u003ctd\u003e380\u003c/td\u003e\n    \u003c/tr\u003e\n  \u003c/tbody\u003e\n\u003c/table\u003e\n\u003cp\u003e7 rows × 28 columns\u003c/p\u003e\n\u003c/div\u003e"
          },
          "metadata": {},
          "output_type": "execute_result",
          "execution_count": 7
        }
      ],
      "source": "inc_df.groupby([\u0027year\u0027]).count()\n#plt.plot(inc_df[\u0027DtObsTime\u0027], inc_df[\u0027GeoHazardTID\u0027])",
      "metadata": {
        "pycharm": {
          "metadata": false,
          "name": "#%%\n",
          "is_executing": false
        }
      }
    },
    {
      "cell_type": "code",
      "execution_count": null,
      "outputs": [],
      "source": "\n",
      "metadata": {
        "pycharm": {
          "metadata": false,
          "name": "#%%\n"
        }
      }
    }
  ],
  "metadata": {
    "language_info": {
      "codemirror_mode": {
        "name": "ipython",
        "version": 2
      },
      "file_extension": ".py",
      "mimetype": "text/x-python",
      "name": "python",
      "nbconvert_exporter": "python",
      "pygments_lexer": "ipython2",
      "version": "2.7.6"
    },
    "kernelspec": {
      "name": "python3",
      "language": "python",
      "display_name": "Python 3"
    }
  },
  "nbformat": 4,
  "nbformat_minor": 0
}