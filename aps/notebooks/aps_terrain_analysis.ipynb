{
 "cells": [
  {
   "cell_type": "markdown",
   "metadata": {
    "collapsed": true
   },
   "source": [
    "# APS terrain analysis\n"
   ]
  },
  {
   "cell_type": "markdown",
   "metadata": {},
   "source": [
    "## Imports"
   ]
  },
  {
   "cell_type": "code",
   "execution_count": 1,
   "metadata": {
    "collapsed": true
   },
   "outputs": [],
   "source": [
    "# -*- coding: utf-8 -*-\n",
    "%matplotlib inline\n",
    "from __future__ import print_function\n",
    "\n",
    "import pylab as plt\n",
    "import datetime\n",
    "import numpy as np\n",
    "import numpy.ma as ma\n",
    "from linecache import getline\n",
    "\n",
    "plt.rcParams['figure.figsize'] = (14, 6)"
   ]
  },
  {
   "cell_type": "markdown",
   "metadata": {
    "collapsed": false
   },
   "source": [
    "|Id \t|Name|\n",
    "|---|---|\n",
    "|3003\t|Nordenskiöld Land|\n",
    "3007\tVest-Finnmark\n",
    "3009\tNord-Troms\n",
    "3010\tLyngen\n",
    "3011\tTromsø\n",
    "3012\tSør-Troms\n",
    "3013\tIndre Troms\n",
    "3014\tLofoten og Vesterålen\n",
    "3015\tOfoten\n",
    "3016\tSalten\n",
    "3017\tSvartisen\n",
    "3022\tTrollheimen\n",
    "3023\tRomsdal\n",
    "3024\tSunnmøre\n",
    "3027\tIndre Fjordane\n",
    "3028\tJotunheimen\n",
    "3029\tIndre Sogn\n",
    "3031\tVoss\n",
    "3032\tHallingdal\n",
    "3034\tHardanger\n",
    "3035\tVest-Telemark"
   ]
  },
  {
   "cell_type": "code",
   "execution_count": null,
   "metadata": {
    "collapsed": false
   },
   "outputs": [],
   "source": [
    "plt.imshow(z)\n",
    "plt.colorbar(label=\"M.A.S.L.\")"
   ]
  },
  {
   "cell_type": "code",
   "execution_count": null,
   "metadata": {
    "collapsed": false
   },
   "outputs": [],
   "source": [
    "hist, bin_edges = np.histogram(z, bins=[0, 300, 600, 900, 1200, 3000])\n",
    "hist_perc = hist / (z.shape[1]*z.shape[0] )*100.0"
   ]
  },
  {
   "cell_type": "code",
   "execution_count": null,
   "metadata": {
    "collapsed": false
   },
   "outputs": [],
   "source": [
    "plt.bar(bin_edges[:-1], hist_perc, width=300, color='lightgrey')"
   ]
  },
  {
   "cell_type": "markdown",
   "metadata": {},
   "source": [
    "We can calculate area above tree-line by combining elevations with a treeline mask."
   ]
  },
  {
   "cell_type": "markdown",
   "metadata": {},
   "source": [
    "## Extract from region"
   ]
  },
  {
   "cell_type": "code",
   "execution_count": 2,
   "metadata": {
    "collapsed": false
   },
   "outputs": [],
   "source": [
    "from netCDF4 import Dataset"
   ]
  },
  {
   "cell_type": "code",
   "execution_count": 3,
   "metadata": {
    "collapsed": false
   },
   "outputs": [
    {
     "name": "stdout",
     "output_type": "stream",
     "text": [
      "<class 'netCDF4._netCDF4.Dataset'>\n",
      "root group (NETCDF3_CLASSIC data model, file format NETCDF3):\n",
      "    Conventions: CF-1.0\n",
      "    Source_Software: Esri ArcGIS\n",
      "    dimensions(sizes): x(1195), y(1550)\n",
      "    variables(dimensions): float64 \u001b[4mx\u001b[0m(x), float64 \u001b[4my\u001b[0m(y), int32 \u001b[4mVarslingsOmr_2017\u001b[0m(y,x), int32 \u001b[4mtransverse_mercator\u001b[0m()\n",
      "    groups: \n",
      "\n"
     ]
    }
   ],
   "source": [
    "fr = Dataset(r\"../data/terrain_parameters/VarslingsOmr_2017.nc\", \"r\")\n",
    "print(fr)"
   ]
  },
  {
   "cell_type": "code",
   "execution_count": 4,
   "metadata": {
    "collapsed": false
   },
   "outputs": [],
   "source": [
    "regions = fr.variables[\"VarslingsOmr_2017\"][:]"
   ]
  },
  {
   "cell_type": "code",
   "execution_count": 5,
   "metadata": {
    "collapsed": false
   },
   "outputs": [
    {
     "data": {
      "text/plain": [
       "<matplotlib.colorbar.Colorbar at 0x7398240>"
      ]
     },
     "execution_count": 5,
     "metadata": {},
     "output_type": "execute_result"
    },
    {
     "data": {
      "image/png": "[encoded data removed]",
      "text/plain": [
       "<matplotlib.figure.Figure at 0x72d4ef0>"
      ]
     },
     "metadata": {},
     "output_type": "display_data"
    }
   ],
   "source": [
    "plt.imshow(regions)\n",
    "plt.colorbar(label=\"Region ID\")"
   ]
  },
  {
   "cell_type": "code",
   "execution_count": 6,
   "metadata": {
    "collapsed": false
   },
   "outputs": [
    {
     "name": "stdout",
     "output_type": "stream",
     "text": [
      "(array([264, 265, 265, ..., 399, 399, 400], dtype=int64), array([678, 677, 678, ..., 642, 643, 641], dtype=int64))\n"
     ]
    }
   ],
   "source": [
    "stroms_mask = np.where(regions==3012)\n",
    "print(stroms_mask)\n",
    "# get the lower left and upper right corner of a rectangle around the region\n",
    "y_min, y_max, x_min, x_max = min(stroms_mask[0].flatten()), max(stroms_mask[0].flatten()), min(stroms_mask[1].flatten()), max(stroms_mask[1].flatten())"
   ]
  },
  {
   "cell_type": "code",
   "execution_count": 7,
   "metadata": {
    "collapsed": true
   },
   "outputs": [],
   "source": [
    "region_3012 = regions.copy()\n",
    "region_3012[y_min:y_max, x_min:x_max] = 32000 # rectangle around the region\n",
    "region_3012[stroms_mask] = 48000 # exact pixels within the region"
   ]
  },
  {
   "cell_type": "code",
   "execution_count": 8,
   "metadata": {
    "collapsed": false
   },
   "outputs": [
    {
     "data": {
      "text/plain": [
       "<matplotlib.colorbar.Colorbar at 0x7475390>"
      ]
     },
     "execution_count": 8,
     "metadata": {},
     "output_type": "execute_result"
    },
    {
     "data": {
      "image/png": "[encoded data removed]",
      "text/plain": [
       "<matplotlib.figure.Figure at 0x731acf8>"
      ]
     },
     "metadata": {},
     "output_type": "display_data"
    }
   ],
   "source": [
    "plt.imshow(region_3012)\n",
    "plt.colorbar(label=\"Region ID\")"
   ]
  },
  {
   "cell_type": "code",
   "execution_count": null,
   "metadata": {
    "collapsed": false
   },
   "outputs": [],
   "source": [
    "rr_data = Dataset(\"../data/met_obs_grid/rr_2016_12_12.nc\")\n",
    "rr = rr_data.variables[\"precipitation_amount\"][:, y_min:y_max, x_min:x_max].squeeze()\n",
    "#rr = rr_data.variables[\"precipitation_amount\"][:, stroms_mask[0], stroms_mask[1]].squeeze() #crashes the script"
   ]
  },
  {
   "cell_type": "code",
   "execution_count": null,
   "metadata": {
    "collapsed": false
   },
   "outputs": [],
   "source": [
    "print(np.shape(rr))\n",
    "plt.imshow(rr)\n",
    "plt.colorbar(label=\"Precipitation - Sør Troms\")"
   ]
  },
  {
   "cell_type": "code",
   "execution_count": null,
   "metadata": {
    "collapsed": true
   },
   "outputs": [],
   "source": [
    ""
   ]
  },
  {
   "cell_type": "code",
   "execution_count": null,
   "metadata": {
    "collapsed": true
   },
   "outputs": [],
   "source": [
    ""
   ]
  }
 ],
 "metadata": {
  "kernelspec": {
   "display_name": "Python 3",
   "language": "python",
   "name": "python3"
  },
  "language_info": {
   "codemirror_mode": {
    "name": "ipython",
    "version": 3.0
   },
   "file_extension": ".py",
   "mimetype": "text/x-python",
   "name": "python",
   "nbconvert_exporter": "python",
   "pygments_lexer": "ipython3",
   "version": "3.4.4"
  }
 },
 "nbformat": 4,
 "nbformat_minor": 0
}