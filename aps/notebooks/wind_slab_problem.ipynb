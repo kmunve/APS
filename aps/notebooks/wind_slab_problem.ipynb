{
 "cells": [
  {
   "cell_type": "code",
   "execution_count": 1,
   "metadata": {},
   "outputs": [],
   "source": [
    "import pandas as pd\n",
    "import numpy as np\n",
    "\n",
    "# make sure the aps module is in the pythonpath\n",
    "import sys\n",
    "from pathlib import Path\n",
    "\n",
    "APS_dir = str(Path.cwd().parents[1])\n",
    "if APS_dir not in sys.path:\n",
    "    sys.path.append(APS_dir)\n",
    "import aps.aps_io.get_forecasts as gf"
   ]
  },
  {
   "cell_type": "markdown",
   "metadata": {},
   "source": [
    "# Get API data\n",
    "Request necessary data from https://api01.nve.no/hydrology/forecast/avalanche/v4.0.0/api\n",
    "\n",
    "Explanation at http://api.nve.no/doc/snoeskredvarsel/#format\n",
    "\n",
    "Insert relevant data into SQLite database.\n",
    "\n",
    "General:\n",
    "- date\n",
    "- region\n",
    "- region-ID\n",
    "- danger level\n",
    "\n",
    "Avalanche problem:\n",
    "- avalanche problem name\n",
    "- avalanche problem order\n",
    "- trigger\n",
    "- probability\n",
    "- elevation\n",
    "\n",
    "Mountain weather:\n",
    "- avg. precipitation\n",
    "- max precipitation (most exposed area)\n",
    "- temperature (at diff. levels)\n",
    "- wind speed\n",
    "- wind direction"
   ]
  },
  {
   "cell_type": "code",
   "execution_count": 2,
   "metadata": {},
   "outputs": [
    {
     "name": "stdout",
     "output_type": "stream",
     "text": [
      "https://api01.nve.no/hydrology/forecast/avalanche/v4.0.0/api/AvalancheWarningByRegion/Detail/3024/1/2017-12-01/2018-05-31\n"
     ]
    },
    {
     "data": {
      "text/html": [
       "<div>\n",
       "<table border=\"1\" class=\"dataframe\">\n",
       "  <thead>\n",
       "    <tr style=\"text-align: right;\">\n",
       "      <th></th>\n",
       "      <th>Author</th>\n",
       "      <th>AvalancheDanger</th>\n",
       "      <th>AvalancheProblems</th>\n",
       "      <th>CountyList</th>\n",
       "      <th>CurrentWeaklayers</th>\n",
       "      <th>DangerLevel</th>\n",
       "      <th>DangerLevelName</th>\n",
       "      <th>EmergencyWarning</th>\n",
       "      <th>LangKey</th>\n",
       "      <th>LatestAvalancheActivity</th>\n",
       "      <th>...</th>\n",
       "      <th>RegionId</th>\n",
       "      <th>RegionName</th>\n",
       "      <th>RegionTypeId</th>\n",
       "      <th>RegionTypeName</th>\n",
       "      <th>SnowSurface</th>\n",
       "      <th>UtmEast</th>\n",
       "      <th>UtmNorth</th>\n",
       "      <th>UtmZone</th>\n",
       "      <th>ValidFrom</th>\n",
       "      <th>ValidTo</th>\n",
       "    </tr>\n",
       "  </thead>\n",
       "  <tbody>\n",
       "    <tr>\n",
       "      <th>0</th>\n",
       "      <td>Karsten@NVE</td>\n",
       "      <td>Forholdene er generelt stabile. I noen definer...</td>\n",
       "      <td>[{'AvalancheProblemId': 1, 'AvalancheExtId': 2...</td>\n",
       "      <td>[{'Id': '15', 'Name': 'Møre og Romsdal'}, {'Id...</td>\n",
       "      <td>Snødekket fremstår som stabilt. Lommer av fok...</td>\n",
       "      <td>1</td>\n",
       "      <td>1 Liten</td>\n",
       "      <td>Ikke gitt</td>\n",
       "      <td>1</td>\n",
       "      <td>Det er ikke observert nevneverdig skredaktivit...</td>\n",
       "      <td>...</td>\n",
       "      <td>3022</td>\n",
       "      <td>Trollheimen</td>\n",
       "      <td>10</td>\n",
       "      <td>A</td>\n",
       "      <td>Mildvær har komprimert snødekket og dannet tyd...</td>\n",
       "      <td>210810</td>\n",
       "      <td>6991060</td>\n",
       "      <td>33</td>\n",
       "      <td>2017-12-01T00:00:00</td>\n",
       "      <td>2017-12-01T23:59:59</td>\n",
       "    </tr>\n",
       "    <tr>\n",
       "      <th>1</th>\n",
       "      <td>Jørgen@obskorps</td>\n",
       "      <td>Det forventes at snødekket under mildværsgrens...</td>\n",
       "      <td>[{'AvalancheProblemId': 1, 'AvalancheExtId': 2...</td>\n",
       "      <td>[{'Id': '15', 'Name': 'Møre og Romsdal'}, {'Id...</td>\n",
       "      <td>Snødekket fremstår som stabilt. Lommer av fok...</td>\n",
       "      <td>2</td>\n",
       "      <td>2 Moderat</td>\n",
       "      <td>Ikke gitt</td>\n",
       "      <td>1</td>\n",
       "      <td>Det er ikke observert nevneverdig skredaktivit...</td>\n",
       "      <td>...</td>\n",
       "      <td>3022</td>\n",
       "      <td>Trollheimen</td>\n",
       "      <td>10</td>\n",
       "      <td>A</td>\n",
       "      <td>Mildvær har komprimert snødekket og dannet tyd...</td>\n",
       "      <td>210810</td>\n",
       "      <td>6991060</td>\n",
       "      <td>33</td>\n",
       "      <td>2017-12-02T00:00:00</td>\n",
       "      <td>2017-12-02T23:59:59</td>\n",
       "    </tr>\n",
       "    <tr>\n",
       "      <th>2</th>\n",
       "      <td>Jørgen@obskorps</td>\n",
       "      <td>Vind og godt med snø vil føre til dannelse av ...</td>\n",
       "      <td>[{'AvalancheProblemId': 1, 'AvalancheExtId': 2...</td>\n",
       "      <td>[{'Id': '15', 'Name': 'Møre og Romsdal'}, {'Id...</td>\n",
       "      <td>Snødekket fremstår som stabilt.</td>\n",
       "      <td>3</td>\n",
       "      <td>3 Betydelig</td>\n",
       "      <td>Ikke gitt</td>\n",
       "      <td>1</td>\n",
       "      <td>Det er ikke observert nevneverdig skredaktivit...</td>\n",
       "      <td>...</td>\n",
       "      <td>3022</td>\n",
       "      <td>Trollheimen</td>\n",
       "      <td>10</td>\n",
       "      <td>A</td>\n",
       "      <td>Snødekket har blitt påvirket av mildvær i fler...</td>\n",
       "      <td>210810</td>\n",
       "      <td>6991060</td>\n",
       "      <td>33</td>\n",
       "      <td>2017-12-03T00:00:00</td>\n",
       "      <td>2017-12-03T23:59:59</td>\n",
       "    </tr>\n",
       "    <tr>\n",
       "      <th>3</th>\n",
       "      <td>Jørgen@obskorps</td>\n",
       "      <td>Vind og pågående snøvær vil føre til ytterlige...</td>\n",
       "      <td>[{'AvalancheProblemId': 1, 'AvalancheExtId': 2...</td>\n",
       "      <td>[{'Id': '15', 'Name': 'Møre og Romsdal'}, {'Id...</td>\n",
       "      <td>Rundt skarelag nede i snødekket er kantkorndan...</td>\n",
       "      <td>3</td>\n",
       "      <td>3 Betydelig</td>\n",
       "      <td>Ikke gitt</td>\n",
       "      <td>1</td>\n",
       "      <td>Det er ikke rapportert om nevneverdig skredakt...</td>\n",
       "      <td>...</td>\n",
       "      <td>3022</td>\n",
       "      <td>Trollheimen</td>\n",
       "      <td>10</td>\n",
       "      <td>A</td>\n",
       "      <td>Snødekket har blitt påvirket av mildvær i fler...</td>\n",
       "      <td>210810</td>\n",
       "      <td>6991060</td>\n",
       "      <td>33</td>\n",
       "      <td>2017-12-04T00:00:00</td>\n",
       "      <td>2017-12-04T23:59:59</td>\n",
       "    </tr>\n",
       "    <tr>\n",
       "      <th>4</th>\n",
       "      <td>torolav@obskorps</td>\n",
       "      <td>Kraftig vind og nedbør over tid gir store meng...</td>\n",
       "      <td>[{'AvalancheProblemId': 1, 'AvalancheExtId': 2...</td>\n",
       "      <td>[{'Id': '15', 'Name': 'Møre og Romsdal'}, {'Id...</td>\n",
       "      <td>Rundt skarelag nede i snødekket er kantkorndan...</td>\n",
       "      <td>3</td>\n",
       "      <td>3 Betydelig</td>\n",
       "      <td>Ikke gitt</td>\n",
       "      <td>1</td>\n",
       "      <td>Det er ikke rapportert om nevneverdig skredakt...</td>\n",
       "      <td>...</td>\n",
       "      <td>3022</td>\n",
       "      <td>Trollheimen</td>\n",
       "      <td>10</td>\n",
       "      <td>A</td>\n",
       "      <td>Snødekket har blitt påvirket av mildvær i fler...</td>\n",
       "      <td>210810</td>\n",
       "      <td>6991060</td>\n",
       "      <td>33</td>\n",
       "      <td>2017-12-05T00:00:00</td>\n",
       "      <td>2017-12-05T23:59:59</td>\n",
       "    </tr>\n",
       "  </tbody>\n",
       "</table>\n",
       "<p>5 rows × 28 columns</p>\n",
       "</div>"
      ],
      "text/plain": [
       "             Author                                    AvalancheDanger  \\\n",
       "0       Karsten@NVE  Forholdene er generelt stabile. I noen definer...   \n",
       "1   Jørgen@obskorps  Det forventes at snødekket under mildværsgrens...   \n",
       "2   Jørgen@obskorps  Vind og godt med snø vil føre til dannelse av ...   \n",
       "3   Jørgen@obskorps  Vind og pågående snøvær vil føre til ytterlige...   \n",
       "4  torolav@obskorps  Kraftig vind og nedbør over tid gir store meng...   \n",
       "\n",
       "                                   AvalancheProblems  \\\n",
       "0  [{'AvalancheProblemId': 1, 'AvalancheExtId': 2...   \n",
       "1  [{'AvalancheProblemId': 1, 'AvalancheExtId': 2...   \n",
       "2  [{'AvalancheProblemId': 1, 'AvalancheExtId': 2...   \n",
       "3  [{'AvalancheProblemId': 1, 'AvalancheExtId': 2...   \n",
       "4  [{'AvalancheProblemId': 1, 'AvalancheExtId': 2...   \n",
       "\n",
       "                                          CountyList  \\\n",
       "0  [{'Id': '15', 'Name': 'Møre og Romsdal'}, {'Id...   \n",
       "1  [{'Id': '15', 'Name': 'Møre og Romsdal'}, {'Id...   \n",
       "2  [{'Id': '15', 'Name': 'Møre og Romsdal'}, {'Id...   \n",
       "3  [{'Id': '15', 'Name': 'Møre og Romsdal'}, {'Id...   \n",
       "4  [{'Id': '15', 'Name': 'Møre og Romsdal'}, {'Id...   \n",
       "\n",
       "                                   CurrentWeaklayers DangerLevel  \\\n",
       "0   Snødekket fremstår som stabilt. Lommer av fok...           1   \n",
       "1   Snødekket fremstår som stabilt. Lommer av fok...           2   \n",
       "2                   Snødekket fremstår som stabilt.            3   \n",
       "3  Rundt skarelag nede i snødekket er kantkorndan...           3   \n",
       "4  Rundt skarelag nede i snødekket er kantkorndan...           3   \n",
       "\n",
       "  DangerLevelName EmergencyWarning  LangKey  \\\n",
       "0         1 Liten        Ikke gitt        1   \n",
       "1       2 Moderat        Ikke gitt        1   \n",
       "2     3 Betydelig        Ikke gitt        1   \n",
       "3     3 Betydelig        Ikke gitt        1   \n",
       "4     3 Betydelig        Ikke gitt        1   \n",
       "\n",
       "                             LatestAvalancheActivity         ...           \\\n",
       "0  Det er ikke observert nevneverdig skredaktivit...         ...            \n",
       "1  Det er ikke observert nevneverdig skredaktivit...         ...            \n",
       "2  Det er ikke observert nevneverdig skredaktivit...         ...            \n",
       "3  Det er ikke rapportert om nevneverdig skredakt...         ...            \n",
       "4  Det er ikke rapportert om nevneverdig skredakt...         ...            \n",
       "\n",
       "  RegionId   RegionName RegionTypeId RegionTypeName  \\\n",
       "0     3022  Trollheimen           10              A   \n",
       "1     3022  Trollheimen           10              A   \n",
       "2     3022  Trollheimen           10              A   \n",
       "3     3022  Trollheimen           10              A   \n",
       "4     3022  Trollheimen           10              A   \n",
       "\n",
       "                                         SnowSurface  UtmEast UtmNorth  \\\n",
       "0  Mildvær har komprimert snødekket og dannet tyd...   210810  6991060   \n",
       "1  Mildvær har komprimert snødekket og dannet tyd...   210810  6991060   \n",
       "2  Snødekket har blitt påvirket av mildvær i fler...   210810  6991060   \n",
       "3  Snødekket har blitt påvirket av mildvær i fler...   210810  6991060   \n",
       "4  Snødekket har blitt påvirket av mildvær i fler...   210810  6991060   \n",
       "\n",
       "   UtmZone            ValidFrom              ValidTo  \n",
       "0       33  2017-12-01T00:00:00  2017-12-01T23:59:59  \n",
       "1       33  2017-12-02T00:00:00  2017-12-02T23:59:59  \n",
       "2       33  2017-12-03T00:00:00  2017-12-03T23:59:59  \n",
       "3       33  2017-12-04T00:00:00  2017-12-04T23:59:59  \n",
       "4       33  2017-12-05T00:00:00  2017-12-05T23:59:59  \n",
       "\n",
       "[5 rows x 28 columns]"
      ]
     },
     "execution_count": 2,
     "metadata": {},
     "output_type": "execute_result"
    }
   ],
   "source": [
    "warnings, url = gf.get_warnings_as_json([3022, 3023, 3024], \"2017-12-01\", \"2018-05-31\", lang_key=1, simple=False, recursive_count=5)\n",
    "print(url)\n",
    "\n",
    "df = pd.DataFrame(warnings)\n",
    "df.head(5)"
   ]
  },
  {
   "cell_type": "code",
   "execution_count": 3,
   "metadata": {},
   "outputs": [],
   "source": [
    "df_a = df"
   ]
  },
  {
   "cell_type": "code",
   "execution_count": 4,
   "metadata": {},
   "outputs": [],
   "source": [
    "# define individual columns for avalanche problem 1 (AP1)\n",
    "df_a['AP1.CauseId'] = np.nan\n",
    "df_a['AP1.CauseName'] = ''\n",
    "df_a['AP1.ProblemTypeId'] = np.nan # AvalancheProblemTypeId\n",
    "df_a['AP1.ProblemTypeName'] = '' # AvalancheProblemTypeName\n",
    "df_a['AP1.DestructiveSizeExtId'] = np.nan # DestructiveSizeExtId\n",
    "\n",
    "#df_a.columns"
   ]
  },
  {
   "cell_type": "code",
   "execution_count": 5,
   "metadata": {},
   "outputs": [],
   "source": [
    "#df_a['MountainWeather'][23]"
   ]
  },
  {
   "cell_type": "code",
   "execution_count": 6,
   "metadata": {},
   "outputs": [],
   "source": [
    "beaufort_scale = {'Stille/svak vind': 2, 'Bris': 4, 'Frisk bris': 5, 'Liten kuling': 6, 'Stiv kuling': 7, 'Sterk kuling': 8, 'Liten storm': 9, 'Storm': 10, 'Orkan': 12}"
   ]
  },
  {
   "cell_type": "markdown",
   "metadata": {},
   "source": [
    "See full list at http://api.nve.no/doc/snoeskredvarsel/#format\n",
    "\n",
    "- Precipitation (most exposed): MeasurementType=10; MeasurementSubType=60\n",
    "- Wind speed: MeasurementType=20; MeasurementSubType=20\n",
    "- Wind direction: MeasurementType=20; MeasurementSubType=50"
   ]
  },
  {
   "cell_type": "code",
   "execution_count": 7,
   "metadata": {},
   "outputs": [],
   "source": [
    "# define columns for meteorological parameters\n",
    "df_a['Regional.PrecipitationMostExposed'] = np.nan\n",
    "df_a['Regional.PrecipitationAverage'] = np.nan\n",
    "df_a['Regional.WindSpeed'] = ''\n",
    "df_a['Regional.WindDirection'] = ''\n",
    "\n",
    "#df_a.columns"
   ]
  },
  {
   "cell_type": "code",
   "execution_count": 8,
   "metadata": {},
   "outputs": [],
   "source": [
    "for index, row in df_a.iterrows():\n",
    "    for mt in row['MountainWeather']['MeasurementTypes']:\n",
    "        #print(mt)\n",
    "        if mt['Id']==20: # wind\n",
    "            #print(mt['Name'])\n",
    "            for st in mt['MeasurementSubTypes']:\n",
    "                if st['Id'] == 20:\n",
    "                    df_a.loc[index, 'Regional.WindSpeed'] = beaufort_scale[st['Value']]\n",
    "                if st['Id'] == 50:\n",
    "                    df_a.loc[index, 'Regional.WindDirection'] = st['Value']\n",
    "        if mt['Id']==10: # precip\n",
    "            for st in mt['MeasurementSubTypes']:\n",
    "                if st['Id'] == 60:\n",
    "                    df_a.loc[index, 'Regional.PrecipitationMostExposed'] = st['Value']\n",
    "                if st['Id'] == 70:\n",
    "                    df_a.loc[index, 'Regional.PrecipitationAverage'] = st['Value']\n",
    "            #print(mt['Name'])\n",
    "\n",
    "        \n",
    "    for i in range(len(row['AvalancheProblems'])):\n",
    "        column_name_prefix = \"AP{0}\".format(row['AvalancheProblems'][i]['AvalancheProblemId'])\n",
    "        df_a.loc[index, '{0}.CauseId'.format(column_name_prefix)] = row['AvalancheProblems'][i]['AvalCauseId']\n",
    "        df_a.loc[index, '{0}.ProblemTypeId'.format(column_name_prefix)] = row['AvalancheProblems'][i]['AvalancheProblemTypeId']\n",
    "        df_a.loc[index, '{0}.ProblemTypeName'.format(column_name_prefix)] = row['AvalancheProblems'][i]['AvalancheProblemTypeName']\n",
    "        df_a.loc[index, '{0}.DestructiveSizeExtId'.format(column_name_prefix)] = row['AvalancheProblems'][i]['DestructiveSizeExtId']"
   ]
  },
  {
   "cell_type": "code",
   "execution_count": 9,
   "metadata": {},
   "outputs": [
    {
     "data": {
      "text/plain": [
       "array([4, 6, 5, 8, 7, 10, 9, 2], dtype=object)"
      ]
     },
     "execution_count": 9,
     "metadata": {},
     "output_type": "execute_result"
    }
   ],
   "source": [
    "df_a['Regional.WindSpeed'].unique()"
   ]
  },
  {
   "cell_type": "markdown",
   "metadata": {},
   "source": [
    "### List relevant parameters for the regression analysis"
   ]
  },
  {
   "cell_type": "code",
   "execution_count": 10,
   "metadata": {},
   "outputs": [
    {
     "data": {
      "text/html": [
       "<div>\n",
       "<table border=\"1\" class=\"dataframe\">\n",
       "  <thead>\n",
       "    <tr style=\"text-align: right;\">\n",
       "      <th></th>\n",
       "      <th>ValidFrom</th>\n",
       "      <th>DangerLevel</th>\n",
       "      <th>AP1.ProblemTypeId</th>\n",
       "      <th>AP1.ProblemTypeName</th>\n",
       "      <th>AP1.DestructiveSizeExtId</th>\n",
       "      <th>Regional.WindSpeed</th>\n",
       "      <th>Regional.PrecipitationMostExposed</th>\n",
       "    </tr>\n",
       "  </thead>\n",
       "  <tbody>\n",
       "    <tr>\n",
       "      <th>0</th>\n",
       "      <td>2017-12-01T00:00:00</td>\n",
       "      <td>1</td>\n",
       "      <td>10.0</td>\n",
       "      <td>Fokksnø</td>\n",
       "      <td>2.0</td>\n",
       "      <td>4</td>\n",
       "      <td>8</td>\n",
       "    </tr>\n",
       "    <tr>\n",
       "      <th>1</th>\n",
       "      <td>2017-12-02T00:00:00</td>\n",
       "      <td>2</td>\n",
       "      <td>30.0</td>\n",
       "      <td>Vedvarende svakt lag</td>\n",
       "      <td>2.0</td>\n",
       "      <td>6</td>\n",
       "      <td>16</td>\n",
       "    </tr>\n",
       "    <tr>\n",
       "      <th>2</th>\n",
       "      <td>2017-12-03T00:00:00</td>\n",
       "      <td>3</td>\n",
       "      <td>30.0</td>\n",
       "      <td>Vedvarende svakt lag</td>\n",
       "      <td>3.0</td>\n",
       "      <td>6</td>\n",
       "      <td>20</td>\n",
       "    </tr>\n",
       "    <tr>\n",
       "      <th>3</th>\n",
       "      <td>2017-12-04T00:00:00</td>\n",
       "      <td>3</td>\n",
       "      <td>30.0</td>\n",
       "      <td>Vedvarende svakt lag</td>\n",
       "      <td>3.0</td>\n",
       "      <td>5</td>\n",
       "      <td>20</td>\n",
       "    </tr>\n",
       "    <tr>\n",
       "      <th>4</th>\n",
       "      <td>2017-12-05T00:00:00</td>\n",
       "      <td>3</td>\n",
       "      <td>7.0</td>\n",
       "      <td>Nysnøflak</td>\n",
       "      <td>2.0</td>\n",
       "      <td>6</td>\n",
       "      <td>30</td>\n",
       "    </tr>\n",
       "  </tbody>\n",
       "</table>\n",
       "</div>"
      ],
      "text/plain": [
       "             ValidFrom DangerLevel  AP1.ProblemTypeId   AP1.ProblemTypeName  \\\n",
       "0  2017-12-01T00:00:00           1               10.0               Fokksnø   \n",
       "1  2017-12-02T00:00:00           2               30.0  Vedvarende svakt lag   \n",
       "2  2017-12-03T00:00:00           3               30.0  Vedvarende svakt lag   \n",
       "3  2017-12-04T00:00:00           3               30.0  Vedvarende svakt lag   \n",
       "4  2017-12-05T00:00:00           3                7.0             Nysnøflak   \n",
       "\n",
       "   AP1.DestructiveSizeExtId Regional.WindSpeed  \\\n",
       "0                       2.0                  4   \n",
       "1                       2.0                  6   \n",
       "2                       3.0                  6   \n",
       "3                       3.0                  5   \n",
       "4                       2.0                  6   \n",
       "\n",
       "  Regional.PrecipitationMostExposed  \n",
       "0                                 8  \n",
       "1                                16  \n",
       "2                                20  \n",
       "3                                20  \n",
       "4                                30  "
      ]
     },
     "execution_count": 10,
     "metadata": {},
     "output_type": "execute_result"
    }
   ],
   "source": [
    "df_a[['ValidFrom', 'DangerLevel', 'AP1.ProblemTypeId', 'AP1.ProblemTypeName', 'AP1.DestructiveSizeExtId', 'Regional.WindSpeed', 'Regional.PrecipitationMostExposed']].head(5)"
   ]
  },
  {
   "cell_type": "code",
   "execution_count": 11,
   "metadata": {},
   "outputs": [],
   "source": [
    "import plotly.plotly as py\n",
    "import plotly.graph_objs as go"
   ]
  },
  {
   "cell_type": "code",
   "execution_count": 12,
   "metadata": {},
   "outputs": [],
   "source": [
    "df_ws = df_a[df_a['AP1.ProblemTypeId'] == 10.0]"
   ]
  },
  {
   "cell_type": "code",
   "execution_count": 13,
   "metadata": {},
   "outputs": [
    {
     "data": {
      "text/html": [
       "<iframe id=\"igraph\" scrolling=\"no\" style=\"border:none;\" seamless=\"seamless\" src=\"https://plot.ly/~karsten/27.embed\" height=\"525px\" width=\"100%\"></iframe>"
      ],
      "text/plain": [
       "<plotly.tools.PlotlyDisplay object>"
      ]
     },
     "execution_count": 13,
     "metadata": {},
     "output_type": "execute_result"
    }
   ],
   "source": [
    "dl1 = go.Scatter(x = df_ws[df_ws[\"DangerLevel\"] == '1']['Regional.PrecipitationMostExposed'], y = df_ws[df_ws[\"DangerLevel\"] == '1']['Regional.WindSpeed'], name=\"Lowdanger\", mode='markers',\n",
    "                marker = {'size': 10, 'color': 'green'})\n",
    "dl2 = go.Scatter(x = df_ws[df_ws[\"DangerLevel\"] == '2']['Regional.PrecipitationMostExposed'], y = df_ws[df_ws[\"DangerLevel\"] == '2']['Regional.WindSpeed'], name=\"Moderate danger\", mode='markers',\n",
    "                marker = {'size': 10, 'color': 'yellow'})\n",
    "dl3 = go.Scatter(x = df_ws[df_ws[\"DangerLevel\"] == '3']['Regional.PrecipitationMostExposed'], y = df_ws[df_ws[\"DangerLevel\"] == '3']['Regional.WindSpeed'], name=\"Considerable danger\", mode='markers',\n",
    "                marker = {'size': 10, 'color': 'orange'})\n",
    "dl4 = go.Scatter(x = df_ws[df_ws[\"DangerLevel\"] == '4']['Regional.PrecipitationMostExposed'], y = df_ws[df_ws[\"DangerLevel\"] == '4']['Regional.WindSpeed'], name=\"High danger\", mode='markers',\n",
    "                marker = {'size': 10, 'color': 'red'})\n",
    "dl = go.Scatter(x = df_a['Regional.PrecipitationMostExposed'], y = df_a['Regional.WindSpeed'], name=\"All danger+problems\", mode='markers',\n",
    "                marker = {'size': 10, 'color': 'black'})\n",
    "# Edit the layout\n",
    "layout = dict(title = 'Wind vs. precipitation (wind slabs)',\n",
    "              xaxis = dict(title = 'Precipitation'),\n",
    "              yaxis = dict(title = 'Wind speed'),\n",
    "              )\n",
    "pltdata = [dl, dl1, dl2, dl3, dl4]\n",
    "fig = dict(data=pltdata, layout=layout)\n",
    "\n",
    "py.iplot(fig, filename='precip_wind_dangerlevel')"
   ]
  },
  {
   "cell_type": "code",
   "execution_count": 14,
   "metadata": {},
   "outputs": [],
   "source": [
    "from sklearn.cluster import KMeans"
   ]
  },
  {
   "cell_type": "code",
   "execution_count": 15,
   "metadata": {},
   "outputs": [],
   "source": [
    "### For the purposes of this example, we store feature data from our\n",
    "### dataframe `df`, in the `f1` and `f2` arrays. We combine this into\n",
    "### a feature matrix `X` before entering it into the algorithm.\n",
    "f1 = np.array(df_a['Regional.PrecipitationMostExposed'].values, dtype=int)\n",
    "f2 = np.array(df_a['Regional.WindSpeed'].values)\n",
    "f3 = np.array(df_a['AP1.ProblemTypeId'].values)\n",
    "\n",
    "X = np.dstack((f1, f2, f3))[0]\n",
    "#print(X)\n",
    "kmeans = KMeans(n_clusters=4).fit(X)"
   ]
  },
  {
   "cell_type": "code",
   "execution_count": 16,
   "metadata": {},
   "outputs": [
    {
     "data": {
      "text/plain": [
       "array([0, 1, 1, 1, 3, 0, 1, 3, 2, 0, 0, 0, 3, 0, 0, 1, 1, 1, 1, 3, 2, 2, 2,\n",
       "       3, 3, 3, 0, 0, 0, 0, 0, 0, 3, 0, 0, 0, 3, 3, 0, 0, 0, 0, 0, 0, 0, 0,\n",
       "       3, 0, 0, 0, 0, 0, 0, 0, 0, 2, 3, 0, 3, 0, 0, 0, 0, 0, 0, 0, 0, 0, 3,\n",
       "       0, 0, 0, 0, 0, 0, 0, 0, 0, 0, 0, 0, 0, 3, 0, 1, 1, 1, 0, 0, 1, 1, 1,\n",
       "       1, 1, 1, 1, 1, 1, 1, 1, 1, 1, 0, 1, 0, 0, 1, 2, 2, 3, 3, 1, 1, 1, 1,\n",
       "       1, 1, 1, 1, 1, 1, 1, 1, 1, 1, 1, 0, 3, 0, 1, 0, 1, 1, 1, 1, 1, 0, 0,\n",
       "       0, 0, 3, 3, 0, 3, 0, 1, 0, 0, 0, 0, 0, 0, 0, 0, 0, 0, 0, 0, 0, 0, 3,\n",
       "       3, 0, 0, 0, 0, 0, 0, 0, 0, 0, 0, 0, 0, 0, 0, 0, 0, 0, 0, 0, 0, 1, 1,\n",
       "       2, 1, 3, 1, 1, 3, 2, 0, 0, 3, 0, 0, 3, 3, 0, 3, 1, 3, 2, 3, 2, 3, 3,\n",
       "       3, 0, 0, 0, 0, 0, 0, 1, 1, 1, 1, 3, 3, 0, 0, 0, 0, 0, 0, 0, 0, 0, 0,\n",
       "       0, 0, 0, 0, 0, 3, 3, 2, 3, 0, 3, 3, 3, 0, 0, 0, 0, 0, 0, 0, 3, 0, 0,\n",
       "       0, 0, 0, 0, 0, 0, 0, 0, 0, 0, 0, 3, 0, 1, 1, 1, 0, 0, 0, 1, 1, 1, 1,\n",
       "       1, 1, 1, 1, 1, 1, 1, 1, 0, 1, 0, 0, 1, 1, 2, 3, 3, 1, 1, 1, 1, 1, 1,\n",
       "       1, 1, 1, 1, 1, 1, 1, 1, 1, 0, 1, 1, 1, 0, 1, 1, 1, 1, 1, 0, 0, 0, 0,\n",
       "       3, 3, 0, 3, 3, 0, 0, 0, 0, 0, 0, 0, 0, 0, 0, 0, 0, 0, 0, 0, 3, 0, 0,\n",
       "       0, 0, 0, 0, 0, 0, 0, 0, 0, 0, 0, 0, 0, 0, 0, 0, 0, 0, 0, 1, 1, 2, 1,\n",
       "       3, 1, 1, 2, 2, 0, 0, 0, 0, 0, 3, 3, 0, 3, 1, 3, 2, 2, 2, 3, 3, 0, 0,\n",
       "       0, 0, 0, 0, 0, 0, 0, 1, 1, 1, 3, 0, 0, 0, 0, 0, 0, 0, 3, 0, 0, 0, 0,\n",
       "       0, 0, 0, 3, 3, 2, 3, 0, 2, 3, 3, 0, 0, 0, 0, 0, 0, 0, 3, 0, 3, 0, 0,\n",
       "       0, 0, 0, 0, 0, 0, 0, 0, 0, 3, 0, 0, 0, 0, 0, 0, 0, 0, 0, 0, 0, 0, 0,\n",
       "       0, 1, 1, 1, 1, 1, 0, 0, 0, 0, 1, 1, 2, 0, 3, 1, 1, 1, 1, 1, 1, 1, 1,\n",
       "       1, 1, 1, 1, 1, 1, 1, 0, 1, 1, 1, 0, 1, 1, 1, 1, 1, 0, 0, 0, 0, 3, 3,\n",
       "       0, 3, 3, 0, 0, 0, 0, 0, 0, 0, 0, 0, 0, 0, 0, 3, 0, 0, 3, 0, 0, 0, 0,\n",
       "       0, 0, 0, 0, 0, 0, 0, 0, 0, 0, 0, 0, 0, 0, 0, 0, 0])"
      ]
     },
     "execution_count": 16,
     "metadata": {},
     "output_type": "execute_result"
    }
   ],
   "source": [
    "kmeans.labels_\n",
    "#print(len(kmeans.labels_), len(f1), len(f2))"
   ]
  },
  {
   "cell_type": "code",
   "execution_count": 17,
   "metadata": {},
   "outputs": [
    {
     "data": {
      "text/html": [
       "<iframe id=\"igraph\" scrolling=\"no\" style=\"border:none;\" seamless=\"seamless\" src=\"https://plot.ly/~karsten/29.embed\" height=\"525px\" width=\"100%\"></iframe>"
      ],
      "text/plain": [
       "<plotly.tools.PlotlyDisplay object>"
      ]
     },
     "execution_count": 17,
     "metadata": {},
     "output_type": "execute_result"
    }
   ],
   "source": [
    "dl_class = go.Scatter(x = f1, y = f2, name=\"k-means classified\", mode='markers',\n",
    "                marker = {'size': 10, 'color': kmeans.labels_})\n",
    "# Edit the layout\n",
    "layout = dict(title = 'Wind vs. precipitation - classified',\n",
    "              xaxis = dict(title = 'Precipitation'),\n",
    "              yaxis = dict(title = 'Wind speed'),\n",
    "              )\n",
    "class_data = [dl_class]\n",
    "fig = dict(data=class_data, layout=layout)\n",
    "\n",
    "py.iplot(fig, filename='class_precip_wind_dangerlevel')"
   ]
  },
  {
   "cell_type": "code",
   "execution_count": 18,
   "metadata": {},
   "outputs": [
    {
     "data": {
      "text/html": [
       "<iframe id=\"igraph\" scrolling=\"no\" style=\"border:none;\" seamless=\"seamless\" src=\"https://plot.ly/~karsten/31.embed\" height=\"525px\" width=\"100%\"></iframe>"
      ],
      "text/plain": [
       "<plotly.tools.PlotlyDisplay object>"
      ]
     },
     "execution_count": 18,
     "metadata": {},
     "output_type": "execute_result"
    }
   ],
   "source": [
    "dl_f3 = go.Scatter(x = f1, y = f2, name=\"k-means classified\", mode='markers',\n",
    "                marker = {'size': 10, 'color': f3})\n",
    "# Edit the layout\n",
    "layout = dict(title = 'Wind vs. precipitation - AP1-colored',\n",
    "              xaxis = dict(title = 'Precipitation'),\n",
    "              yaxis = dict(title = 'Wind speed'),\n",
    "              )\n",
    "ap1_data = [dl_f3]\n",
    "fig = dict(data=ap1_data, layout=layout)\n",
    "\n",
    "py.iplot(fig, filename='precip_wind_AP1')"
   ]
  },
  {
   "cell_type": "code",
   "execution_count": 19,
   "metadata": {},
   "outputs": [
    {
     "name": "stdout",
     "output_type": "stream",
     "text": [
      "[{'Attribute': 'FreezingLevelAltitude', 'Date': '/Date(1520118000000+0100)/', 'RegionId': '3024.0', 'Value': '92.41'}, {'Attribute': 'FreezingLevelTime', 'Date': '/Date(1520118000000+0100)/', 'RegionId': '3024.0', 'Value': '12'}, {'Attribute': 'MaxTemperature', 'Date': '/Date(1520118000000+0100)/', 'RegionId': '3024.0', 'Value': '-9.1'}, {'Attribute': 'MinTemperature', 'Date': '/Date(1520118000000+0100)/', 'RegionId': '3024.0', 'Value': '-14.8'}, {'Attribute': 'Precipitation_MostExposed_Median', 'Date': '/Date(1520118000000+0100)/', 'RegionId': '3024.0', 'Value': '0.3'}, {'Attribute': 'Precipitation_overall_ThirdQuartile', 'Date': '/Date(1520118000000+0100)/', 'RegionId': '3024.0', 'Value': '0.1'}, {'Attribute': 'TemperatureElevation', 'Date': '/Date(1520118000000+0100)/', 'RegionId': '3024.0', 'Value': '1400'}, {'Attribute': 'WindClassification', 'Date': '/Date(1520118000000+0100)/', 'RegionId': '3024.0', 'Value': 'Stille/svak vind'}, {'Attribute': 'WindDirection', 'Date': '/Date(1520118000000+0100)/', 'RegionId': '3024.0', 'Value': 'SE'}, {'Attribute': 'WindPercentage', 'Date': '/Date(1520118000000+0100)/', 'RegionId': '3024.0', 'Value': '12.405'}]\n",
      "                             Attribute                        Date RegionId  \\\n",
      "0                FreezingLevelAltitude  /Date(1520118000000+0100)/   3024.0   \n",
      "1                    FreezingLevelTime  /Date(1520118000000+0100)/   3024.0   \n",
      "2                       MaxTemperature  /Date(1520118000000+0100)/   3024.0   \n",
      "3                       MinTemperature  /Date(1520118000000+0100)/   3024.0   \n",
      "4     Precipitation_MostExposed_Median  /Date(1520118000000+0100)/   3024.0   \n",
      "5  Precipitation_overall_ThirdQuartile  /Date(1520118000000+0100)/   3024.0   \n",
      "6                 TemperatureElevation  /Date(1520118000000+0100)/   3024.0   \n",
      "7                   WindClassification  /Date(1520118000000+0100)/   3024.0   \n",
      "8                        WindDirection  /Date(1520118000000+0100)/   3024.0   \n",
      "9                       WindPercentage  /Date(1520118000000+0100)/   3024.0   \n",
      "\n",
      "              Value  \n",
      "0             92.41  \n",
      "1                12  \n",
      "2              -9.1  \n",
      "3             -14.8  \n",
      "4               0.3  \n",
      "5               0.1  \n",
      "6              1400  \n",
      "7  Stille/svak vind  \n",
      "8                SE  \n",
      "9            12.405  \n"
     ]
    }
   ],
   "source": [
    "import requests\n",
    "\n",
    "\n",
    "# http://tst-h-int-api01/APSServices/TimeSeriesReader.svc/DistributionByDate/met_obs_v2.0/<værparameter>/24/<regions_id>.0/<fra_dato>/<til_dato>\n",
    "#met_url = r\"http://h-web03.nve.no/APSapi/TimeSeriesReader.svc/PrecipitationByDate/met_obs_v2.0/0/24/3024.0/2018-03-04/2018-03-04\"\n",
    "met_url = r'http://h-web03.nve.no/APSapi/TimeSeriesReader.svc/MountainWeather/3024.0/2018-03-04/no/true'\n",
    "met_data = requests.get(met_url).json()\n",
    "print(met_data)\n",
    "df_met = pd.DataFrame(met_data)\n",
    "print(df_met)"
   ]
  }
 ],
 "metadata": {
  "kernelspec": {
   "display_name": "Python 3",
   "language": "python",
   "name": "python3"
  },
  "language_info": {
   "codemirror_mode": {
    "name": "ipython",
    "version": 3
   },
   "file_extension": ".py",
   "mimetype": "text/x-python",
   "name": "python",
   "nbconvert_exporter": "python",
   "pygments_lexer": "ipython3",
   "version": "3.6.0"
  }
 },
 "nbformat": 4,
 "nbformat_minor": 2
}
