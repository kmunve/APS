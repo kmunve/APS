{
 "cells": [
  {
   "cell_type": "markdown",
   "metadata": {},
   "source": [
    "# Get API data\n",
    "Request necessary data from https://api01.nve.no/hydrology/forecast/avalanche/v4.0.0/api\n",
    "\n",
    "Insert relevant data into SQLite database.\n",
    "\n",
    "General:\n",
    "- date\n",
    "- region\n",
    "- region-ID\n",
    "- danger level\n",
    "\n",
    "Avalanche problem:\n",
    "- avalanche problem name\n",
    "- avalanche problem order\n",
    "- trigger\n",
    "- probability\n",
    "- elevation\n",
    "\n",
    "Mountain weather:\n",
    "- avg. precipitation\n",
    "- max precipitation (most exposed area)\n",
    "- temperature (at diff. levels)\n",
    "- wind speed\n",
    "- wind direction"
   ]
  },
  {
   "cell_type": "code",
   "execution_count": null,
   "metadata": {},
   "outputs": [],
   "source": []
  }
 ],
 "metadata": {
  "kernelspec": {
   "display_name": "Python 3",
   "language": "python",
   "name": "python3"
  },
  "language_info": {
   "codemirror_mode": {
    "name": "ipython",
    "version": 3
   },
   "file_extension": ".py",
   "mimetype": "text/x-python",
   "name": "python",
   "nbconvert_exporter": "python",
   "pygments_lexer": "ipython3",
   "version": "3.6.0"
  }
 },
 "nbformat": 4,
 "nbformat_minor": 2
}
