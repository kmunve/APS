{
 "cells": [
  {
   "cell_type": "markdown",
   "metadata": {},
   "source": [
    "# Pre-processing of avalanche warning data for machine learning\n"
   ]
  },
  {
   "cell_type": "code",
   "execution_count": 8,
   "metadata": {},
   "outputs": [],
   "source": [
    "import pandas as pd\n",
    "import numpy as np\n",
    "import json\n",
    "#import graphviz\n",
    "import matplotlib.pyplot as plt\n",
    "import seaborn as sns\n",
    "\n",
    "sns.set(style=\"white\")\n",
    "#from sklearn import tree\n",
    "#from sklearn.preprocessing import LabelEncoder\n",
    "#from pprint import pprint\n",
    "\n",
    "pd.set_option(\"display.max_rows\",6)\n",
    "\n",
    "%matplotlib inline"
   ]
  },
  {
   "cell_type": "code",
   "execution_count": 9,
   "metadata": {},
   "outputs": [
    {
     "data": {
      "text/html": [
       "<div>\n",
       "<style>\n",
       "    .dataframe thead tr:only-child th {\n",
       "        text-align: right;\n",
       "    }\n",
       "\n",
       "    .dataframe thead th {\n",
       "        text-align: left;\n",
       "    }\n",
       "\n",
       "    .dataframe tbody tr th {\n",
       "        vertical-align: top;\n",
       "    }\n",
       "</style>\n",
       "<table border=\"1\" class=\"dataframe\">\n",
       "  <thead>\n",
       "    <tr style=\"text-align: right;\">\n",
       "      <th></th>\n",
       "      <th>author</th>\n",
       "      <th>avalanche_danger</th>\n",
       "      <th>avalanche_problem_1_advice</th>\n",
       "      <th>avalanche_problem_1_cause_id</th>\n",
       "      <th>avalanche_problem_1_cause_name</th>\n",
       "      <th>avalanche_problem_1_destructive_size_ext_id</th>\n",
       "      <th>avalanche_problem_1_destructive_size_ext_name</th>\n",
       "      <th>avalanche_problem_1_distribution_id</th>\n",
       "      <th>avalanche_problem_1_distribution_name</th>\n",
       "      <th>avalanche_problem_1_exposed_height_1</th>\n",
       "      <th>...</th>\n",
       "      <th>region_id</th>\n",
       "      <th>region_name</th>\n",
       "      <th>region_type_id</th>\n",
       "      <th>region_type_name</th>\n",
       "      <th>snow_surface</th>\n",
       "      <th>utm_east</th>\n",
       "      <th>utm_north</th>\n",
       "      <th>utm_zone</th>\n",
       "      <th>valid_from</th>\n",
       "      <th>valid_to</th>\n",
       "    </tr>\n",
       "    <tr>\n",
       "      <th>index</th>\n",
       "      <th></th>\n",
       "      <th></th>\n",
       "      <th></th>\n",
       "      <th></th>\n",
       "      <th></th>\n",
       "      <th></th>\n",
       "      <th></th>\n",
       "      <th></th>\n",
       "      <th></th>\n",
       "      <th></th>\n",
       "      <th></th>\n",
       "      <th></th>\n",
       "      <th></th>\n",
       "      <th></th>\n",
       "      <th></th>\n",
       "      <th></th>\n",
       "      <th></th>\n",
       "      <th></th>\n",
       "      <th></th>\n",
       "      <th></th>\n",
       "      <th></th>\n",
       "    </tr>\n",
       "  </thead>\n",
       "  <tbody>\n",
       "    <tr>\n",
       "      <th>0</th>\n",
       "      <td>Karsten@NVE</td>\n",
       "      <td>Det er lite snø og generelt stabile forhold i ...</td>\n",
       "      <td>Vær varsom  der skredproblemet er å finne i ko...</td>\n",
       "      <td>15</td>\n",
       "      <td>Dårlig binding mellom lag i fokksnøen</td>\n",
       "      <td>2</td>\n",
       "      <td>2 - Middels</td>\n",
       "      <td>1</td>\n",
       "      <td>Få bratte heng</td>\n",
       "      <td>0</td>\n",
       "      <td>...</td>\n",
       "      <td>3003</td>\n",
       "      <td>Nordenskiöld Land</td>\n",
       "      <td>10</td>\n",
       "      <td>A</td>\n",
       "      <td>Det er generelt lite snø i terrenget. Rygger e...</td>\n",
       "      <td>520332</td>\n",
       "      <td>8663904</td>\n",
       "      <td>33</td>\n",
       "      <td>2017-12-01 00:00:00</td>\n",
       "      <td>2017-12-01 23:59:59</td>\n",
       "    </tr>\n",
       "    <tr>\n",
       "      <th>1</th>\n",
       "      <td>jan arild@obskorps</td>\n",
       "      <td>Kraftig vind fra sørøst vil gi pålagring av fe...</td>\n",
       "      <td>Vær forsiktig i områder brattere enn 30 grader...</td>\n",
       "      <td>10</td>\n",
       "      <td>Nedføyket svakt lag med nysnø</td>\n",
       "      <td>2</td>\n",
       "      <td>2 - Middels</td>\n",
       "      <td>2</td>\n",
       "      <td>Noen bratte heng</td>\n",
       "      <td>400</td>\n",
       "      <td>...</td>\n",
       "      <td>3007</td>\n",
       "      <td>Vest-Finnmark</td>\n",
       "      <td>10</td>\n",
       "      <td>A</td>\n",
       "      <td>Siste dagene har det kommet 25-30 cm snø utsat...</td>\n",
       "      <td>802123</td>\n",
       "      <td>7794717</td>\n",
       "      <td>33</td>\n",
       "      <td>2017-12-01 00:00:00</td>\n",
       "      <td>2017-12-01 23:59:59</td>\n",
       "    </tr>\n",
       "    <tr>\n",
       "      <th>2</th>\n",
       "      <td>jan arild@obskorps</td>\n",
       "      <td>Generelle stabile forhold, men vindøkning fra ...</td>\n",
       "      <td>Vær forsiktig i områder brattere enn 30 grader...</td>\n",
       "      <td>10</td>\n",
       "      <td>Nedføyket svakt lag med nysnø</td>\n",
       "      <td>2</td>\n",
       "      <td>2 - Middels</td>\n",
       "      <td>2</td>\n",
       "      <td>Noen bratte heng</td>\n",
       "      <td>400</td>\n",
       "      <td>...</td>\n",
       "      <td>3009</td>\n",
       "      <td>Nord-Troms</td>\n",
       "      <td>10</td>\n",
       "      <td>A</td>\n",
       "      <td>Siste dagene har det kommet 20-30 cm snø utsat...</td>\n",
       "      <td>750984</td>\n",
       "      <td>7742562</td>\n",
       "      <td>33</td>\n",
       "      <td>2017-12-01 00:00:00</td>\n",
       "      <td>2017-12-01 23:59:59</td>\n",
       "    </tr>\n",
       "    <tr>\n",
       "      <th>3</th>\n",
       "      <td>jan arild@obskorps</td>\n",
       "      <td>Vindøkning fra sør vil gi pålagring av fersk f...</td>\n",
       "      <td>Vær forsiktig i områder brattere enn 30 grader...</td>\n",
       "      <td>10</td>\n",
       "      <td>Nedføyket svakt lag med nysnø</td>\n",
       "      <td>2</td>\n",
       "      <td>2 - Middels</td>\n",
       "      <td>2</td>\n",
       "      <td>Noen bratte heng</td>\n",
       "      <td>400</td>\n",
       "      <td>...</td>\n",
       "      <td>3010</td>\n",
       "      <td>Lyngen</td>\n",
       "      <td>10</td>\n",
       "      <td>A</td>\n",
       "      <td>Siste dagene har det kommet 10-20 cm snø utsat...</td>\n",
       "      <td>692056</td>\n",
       "      <td>7719872</td>\n",
       "      <td>33</td>\n",
       "      <td>2017-12-01 00:00:00</td>\n",
       "      <td>2017-12-01 23:59:59</td>\n",
       "    </tr>\n",
       "    <tr>\n",
       "      <th>4</th>\n",
       "      <td>jan arild@obskorps</td>\n",
       "      <td>Kraftig vind fra sør vil gi pålagring av fersk...</td>\n",
       "      <td>Vær forsiktig i områder brattere enn 30 grader...</td>\n",
       "      <td>10</td>\n",
       "      <td>Nedføyket svakt lag med nysnø</td>\n",
       "      <td>2</td>\n",
       "      <td>2 - Middels</td>\n",
       "      <td>2</td>\n",
       "      <td>Noen bratte heng</td>\n",
       "      <td>400</td>\n",
       "      <td>...</td>\n",
       "      <td>3011</td>\n",
       "      <td>Tromsø</td>\n",
       "      <td>10</td>\n",
       "      <td>A</td>\n",
       "      <td>Siste dagene har det kommet 25-40 cm snø utsat...</td>\n",
       "      <td>656496</td>\n",
       "      <td>7764237</td>\n",
       "      <td>33</td>\n",
       "      <td>2017-12-01 00:00:00</td>\n",
       "      <td>2017-12-01 23:59:59</td>\n",
       "    </tr>\n",
       "  </tbody>\n",
       "</table>\n",
       "<p>5 rows × 101 columns</p>\n",
       "</div>"
      ],
      "text/plain": [
       "                   author                                   avalanche_danger  \\\n",
       "index                                                                          \n",
       "0             Karsten@NVE  Det er lite snø og generelt stabile forhold i ...   \n",
       "1      jan arild@obskorps  Kraftig vind fra sørøst vil gi pålagring av fe...   \n",
       "2      jan arild@obskorps  Generelle stabile forhold, men vindøkning fra ...   \n",
       "3      jan arild@obskorps  Vindøkning fra sør vil gi pålagring av fersk f...   \n",
       "4      jan arild@obskorps  Kraftig vind fra sør vil gi pålagring av fersk...   \n",
       "\n",
       "                              avalanche_problem_1_advice  \\\n",
       "index                                                      \n",
       "0      Vær varsom  der skredproblemet er å finne i ko...   \n",
       "1      Vær forsiktig i områder brattere enn 30 grader...   \n",
       "2      Vær forsiktig i områder brattere enn 30 grader...   \n",
       "3      Vær forsiktig i områder brattere enn 30 grader...   \n",
       "4      Vær forsiktig i områder brattere enn 30 grader...   \n",
       "\n",
       "       avalanche_problem_1_cause_id         avalanche_problem_1_cause_name  \\\n",
       "index                                                                        \n",
       "0                                15  Dårlig binding mellom lag i fokksnøen   \n",
       "1                                10          Nedføyket svakt lag med nysnø   \n",
       "2                                10          Nedføyket svakt lag med nysnø   \n",
       "3                                10          Nedføyket svakt lag med nysnø   \n",
       "4                                10          Nedføyket svakt lag med nysnø   \n",
       "\n",
       "       avalanche_problem_1_destructive_size_ext_id  \\\n",
       "index                                                \n",
       "0                                                2   \n",
       "1                                                2   \n",
       "2                                                2   \n",
       "3                                                2   \n",
       "4                                                2   \n",
       "\n",
       "      avalanche_problem_1_destructive_size_ext_name  \\\n",
       "index                                                 \n",
       "0                                       2 - Middels   \n",
       "1                                       2 - Middels   \n",
       "2                                       2 - Middels   \n",
       "3                                       2 - Middels   \n",
       "4                                       2 - Middels   \n",
       "\n",
       "       avalanche_problem_1_distribution_id  \\\n",
       "index                                        \n",
       "0                                        1   \n",
       "1                                        2   \n",
       "2                                        2   \n",
       "3                                        2   \n",
       "4                                        2   \n",
       "\n",
       "      avalanche_problem_1_distribution_name  \\\n",
       "index                                         \n",
       "0                            Få bratte heng   \n",
       "1                          Noen bratte heng   \n",
       "2                          Noen bratte heng   \n",
       "3                          Noen bratte heng   \n",
       "4                          Noen bratte heng   \n",
       "\n",
       "       avalanche_problem_1_exposed_height_1         ...           region_id  \\\n",
       "index                                               ...                       \n",
       "0                                         0         ...                3003   \n",
       "1                                       400         ...                3007   \n",
       "2                                       400         ...                3009   \n",
       "3                                       400         ...                3010   \n",
       "4                                       400         ...                3011   \n",
       "\n",
       "             region_name  region_type_id region_type_name  \\\n",
       "index                                                       \n",
       "0      Nordenskiöld Land              10                A   \n",
       "1          Vest-Finnmark              10                A   \n",
       "2             Nord-Troms              10                A   \n",
       "3                 Lyngen              10                A   \n",
       "4                 Tromsø              10                A   \n",
       "\n",
       "                                            snow_surface utm_east  utm_north  \\\n",
       "index                                                                          \n",
       "0      Det er generelt lite snø i terrenget. Rygger e...   520332    8663904   \n",
       "1      Siste dagene har det kommet 25-30 cm snø utsat...   802123    7794717   \n",
       "2      Siste dagene har det kommet 20-30 cm snø utsat...   750984    7742562   \n",
       "3      Siste dagene har det kommet 10-20 cm snø utsat...   692056    7719872   \n",
       "4      Siste dagene har det kommet 25-40 cm snø utsat...   656496    7764237   \n",
       "\n",
       "       utm_zone           valid_from             valid_to  \n",
       "index                                                      \n",
       "0            33  2017-12-01 00:00:00  2017-12-01 23:59:59  \n",
       "1            33  2017-12-01 00:00:00  2017-12-01 23:59:59  \n",
       "2            33  2017-12-01 00:00:00  2017-12-01 23:59:59  \n",
       "3            33  2017-12-01 00:00:00  2017-12-01 23:59:59  \n",
       "4            33  2017-12-01 00:00:00  2017-12-01 23:59:59  \n",
       "\n",
       "[5 rows x 101 columns]"
      ]
     },
     "execution_count": 9,
     "metadata": {},
     "output_type": "execute_result"
    }
   ],
   "source": [
    "# analysis of entire data set\n",
    "varsom_df = pd.read_csv(r'..\\..\\data\\varsom\\norwegian_avalanche_warnings_season_17_18.csv', index_col=0)\n",
    "varsom_df.head()"
   ]
  },
  {
   "cell_type": "code",
   "execution_count": 10,
   "metadata": {},
   "outputs": [
    {
     "data": {
      "text/html": [
       "<div>\n",
       "<style>\n",
       "    .dataframe thead tr:only-child th {\n",
       "        text-align: right;\n",
       "    }\n",
       "\n",
       "    .dataframe thead th {\n",
       "        text-align: left;\n",
       "    }\n",
       "\n",
       "    .dataframe tbody tr th {\n",
       "        vertical-align: top;\n",
       "    }\n",
       "</style>\n",
       "<table border=\"1\" class=\"dataframe\">\n",
       "  <thead>\n",
       "    <tr style=\"text-align: right;\">\n",
       "      <th></th>\n",
       "      <th>avalanche_problem_1_cause_id</th>\n",
       "      <th>avalanche_problem_1_destructive_size_ext_id</th>\n",
       "      <th>avalanche_problem_1_distribution_id</th>\n",
       "      <th>avalanche_problem_1_exposed_height_1</th>\n",
       "      <th>avalanche_problem_1_exposed_height_2</th>\n",
       "      <th>avalanche_problem_1_exposed_height_fill</th>\n",
       "      <th>avalanche_problem_1_ext_id</th>\n",
       "      <th>avalanche_problem_1_probability_id</th>\n",
       "      <th>avalanche_problem_1_problem_id</th>\n",
       "      <th>avalanche_problem_1_problem_type_id</th>\n",
       "      <th>...</th>\n",
       "      <th>mountain_weather_precip_region</th>\n",
       "      <th>mountain_weather_temperature_elevation</th>\n",
       "      <th>mountain_weather_temperature_max</th>\n",
       "      <th>mountain_weather_temperature_min</th>\n",
       "      <th>reg_id</th>\n",
       "      <th>region_id</th>\n",
       "      <th>region_type_id</th>\n",
       "      <th>utm_east</th>\n",
       "      <th>utm_north</th>\n",
       "      <th>utm_zone</th>\n",
       "    </tr>\n",
       "  </thead>\n",
       "  <tbody>\n",
       "    <tr>\n",
       "      <th>avalanche_problem_1_cause_id</th>\n",
       "      <td>1.000000</td>\n",
       "      <td>-0.131724</td>\n",
       "      <td>-0.205409</td>\n",
       "      <td>0.288961</td>\n",
       "      <td>0.305412</td>\n",
       "      <td>0.311243</td>\n",
       "      <td>-0.456539</td>\n",
       "      <td>0.140354</td>\n",
       "      <td>0.128075</td>\n",
       "      <td>0.084430</td>\n",
       "      <td>...</td>\n",
       "      <td>-0.066702</td>\n",
       "      <td>-0.001219</td>\n",
       "      <td>0.604835</td>\n",
       "      <td>0.573121</td>\n",
       "      <td>0.595771</td>\n",
       "      <td>-0.033835</td>\n",
       "      <td>NaN</td>\n",
       "      <td>0.068300</td>\n",
       "      <td>0.011799</td>\n",
       "      <td>NaN</td>\n",
       "    </tr>\n",
       "    <tr>\n",
       "      <th>avalanche_problem_1_destructive_size_ext_id</th>\n",
       "      <td>-0.131724</td>\n",
       "      <td>1.000000</td>\n",
       "      <td>0.307659</td>\n",
       "      <td>-0.109656</td>\n",
       "      <td>0.043943</td>\n",
       "      <td>0.221888</td>\n",
       "      <td>0.478164</td>\n",
       "      <td>0.131360</td>\n",
       "      <td>0.147228</td>\n",
       "      <td>0.512626</td>\n",
       "      <td>...</td>\n",
       "      <td>0.288160</td>\n",
       "      <td>0.014002</td>\n",
       "      <td>-0.195344</td>\n",
       "      <td>-0.101320</td>\n",
       "      <td>-0.126567</td>\n",
       "      <td>-0.037655</td>\n",
       "      <td>NaN</td>\n",
       "      <td>0.042460</td>\n",
       "      <td>0.025086</td>\n",
       "      <td>NaN</td>\n",
       "    </tr>\n",
       "    <tr>\n",
       "      <th>avalanche_problem_1_distribution_id</th>\n",
       "      <td>-0.205409</td>\n",
       "      <td>0.307659</td>\n",
       "      <td>1.000000</td>\n",
       "      <td>-0.062122</td>\n",
       "      <td>0.014506</td>\n",
       "      <td>-0.013406</td>\n",
       "      <td>0.143079</td>\n",
       "      <td>0.213746</td>\n",
       "      <td>0.146155</td>\n",
       "      <td>-0.010103</td>\n",
       "      <td>...</td>\n",
       "      <td>0.266691</td>\n",
       "      <td>0.111926</td>\n",
       "      <td>-0.184926</td>\n",
       "      <td>-0.120452</td>\n",
       "      <td>-0.214680</td>\n",
       "      <td>0.142943</td>\n",
       "      <td>NaN</td>\n",
       "      <td>-0.158953</td>\n",
       "      <td>-0.134190</td>\n",
       "      <td>NaN</td>\n",
       "    </tr>\n",
       "    <tr>\n",
       "      <th>...</th>\n",
       "      <td>...</td>\n",
       "      <td>...</td>\n",
       "      <td>...</td>\n",
       "      <td>...</td>\n",
       "      <td>...</td>\n",
       "      <td>...</td>\n",
       "      <td>...</td>\n",
       "      <td>...</td>\n",
       "      <td>...</td>\n",
       "      <td>...</td>\n",
       "      <td>...</td>\n",
       "      <td>...</td>\n",
       "      <td>...</td>\n",
       "      <td>...</td>\n",
       "      <td>...</td>\n",
       "      <td>...</td>\n",
       "      <td>...</td>\n",
       "      <td>...</td>\n",
       "      <td>...</td>\n",
       "      <td>...</td>\n",
       "      <td>...</td>\n",
       "    </tr>\n",
       "    <tr>\n",
       "      <th>utm_east</th>\n",
       "      <td>0.068300</td>\n",
       "      <td>0.042460</td>\n",
       "      <td>-0.158953</td>\n",
       "      <td>-0.522586</td>\n",
       "      <td>-0.003224</td>\n",
       "      <td>0.172634</td>\n",
       "      <td>0.094485</td>\n",
       "      <td>0.030988</td>\n",
       "      <td>-0.024852</td>\n",
       "      <td>0.111727</td>\n",
       "      <td>...</td>\n",
       "      <td>-0.145291</td>\n",
       "      <td>-0.575443</td>\n",
       "      <td>-0.182229</td>\n",
       "      <td>-0.122810</td>\n",
       "      <td>-0.000739</td>\n",
       "      <td>-0.903994</td>\n",
       "      <td>NaN</td>\n",
       "      <td>1.000000</td>\n",
       "      <td>0.848985</td>\n",
       "      <td>NaN</td>\n",
       "    </tr>\n",
       "    <tr>\n",
       "      <th>utm_north</th>\n",
       "      <td>0.011799</td>\n",
       "      <td>0.025086</td>\n",
       "      <td>-0.134190</td>\n",
       "      <td>-0.593199</td>\n",
       "      <td>-0.033409</td>\n",
       "      <td>0.118752</td>\n",
       "      <td>0.099895</td>\n",
       "      <td>0.015706</td>\n",
       "      <td>-0.025919</td>\n",
       "      <td>0.088623</td>\n",
       "      <td>...</td>\n",
       "      <td>-0.135645</td>\n",
       "      <td>-0.749253</td>\n",
       "      <td>-0.218107</td>\n",
       "      <td>-0.120098</td>\n",
       "      <td>-0.000738</td>\n",
       "      <td>-0.958519</td>\n",
       "      <td>NaN</td>\n",
       "      <td>0.848985</td>\n",
       "      <td>1.000000</td>\n",
       "      <td>NaN</td>\n",
       "    </tr>\n",
       "    <tr>\n",
       "      <th>utm_zone</th>\n",
       "      <td>NaN</td>\n",
       "      <td>NaN</td>\n",
       "      <td>NaN</td>\n",
       "      <td>NaN</td>\n",
       "      <td>NaN</td>\n",
       "      <td>NaN</td>\n",
       "      <td>NaN</td>\n",
       "      <td>NaN</td>\n",
       "      <td>NaN</td>\n",
       "      <td>NaN</td>\n",
       "      <td>...</td>\n",
       "      <td>NaN</td>\n",
       "      <td>NaN</td>\n",
       "      <td>NaN</td>\n",
       "      <td>NaN</td>\n",
       "      <td>NaN</td>\n",
       "      <td>NaN</td>\n",
       "      <td>NaN</td>\n",
       "      <td>NaN</td>\n",
       "      <td>NaN</td>\n",
       "      <td>NaN</td>\n",
       "    </tr>\n",
       "  </tbody>\n",
       "</table>\n",
       "<p>56 rows × 56 columns</p>\n",
       "</div>"
      ],
      "text/plain": [
       "                                             avalanche_problem_1_cause_id  \\\n",
       "avalanche_problem_1_cause_id                                     1.000000   \n",
       "avalanche_problem_1_destructive_size_ext_id                     -0.131724   \n",
       "avalanche_problem_1_distribution_id                             -0.205409   \n",
       "...                                                                   ...   \n",
       "utm_east                                                         0.068300   \n",
       "utm_north                                                        0.011799   \n",
       "utm_zone                                                              NaN   \n",
       "\n",
       "                                             avalanche_problem_1_destructive_size_ext_id  \\\n",
       "avalanche_problem_1_cause_id                                                   -0.131724   \n",
       "avalanche_problem_1_destructive_size_ext_id                                     1.000000   \n",
       "avalanche_problem_1_distribution_id                                             0.307659   \n",
       "...                                                                                  ...   \n",
       "utm_east                                                                        0.042460   \n",
       "utm_north                                                                       0.025086   \n",
       "utm_zone                                                                             NaN   \n",
       "\n",
       "                                             avalanche_problem_1_distribution_id  \\\n",
       "avalanche_problem_1_cause_id                                           -0.205409   \n",
       "avalanche_problem_1_destructive_size_ext_id                             0.307659   \n",
       "avalanche_problem_1_distribution_id                                     1.000000   \n",
       "...                                                                          ...   \n",
       "utm_east                                                               -0.158953   \n",
       "utm_north                                                              -0.134190   \n",
       "utm_zone                                                                     NaN   \n",
       "\n",
       "                                             avalanche_problem_1_exposed_height_1  \\\n",
       "avalanche_problem_1_cause_id                                             0.288961   \n",
       "avalanche_problem_1_destructive_size_ext_id                             -0.109656   \n",
       "avalanche_problem_1_distribution_id                                     -0.062122   \n",
       "...                                                                           ...   \n",
       "utm_east                                                                -0.522586   \n",
       "utm_north                                                               -0.593199   \n",
       "utm_zone                                                                      NaN   \n",
       "\n",
       "                                             avalanche_problem_1_exposed_height_2  \\\n",
       "avalanche_problem_1_cause_id                                             0.305412   \n",
       "avalanche_problem_1_destructive_size_ext_id                              0.043943   \n",
       "avalanche_problem_1_distribution_id                                      0.014506   \n",
       "...                                                                           ...   \n",
       "utm_east                                                                -0.003224   \n",
       "utm_north                                                               -0.033409   \n",
       "utm_zone                                                                      NaN   \n",
       "\n",
       "                                             avalanche_problem_1_exposed_height_fill  \\\n",
       "avalanche_problem_1_cause_id                                                0.311243   \n",
       "avalanche_problem_1_destructive_size_ext_id                                 0.221888   \n",
       "avalanche_problem_1_distribution_id                                        -0.013406   \n",
       "...                                                                              ...   \n",
       "utm_east                                                                    0.172634   \n",
       "utm_north                                                                   0.118752   \n",
       "utm_zone                                                                         NaN   \n",
       "\n",
       "                                             avalanche_problem_1_ext_id  \\\n",
       "avalanche_problem_1_cause_id                                  -0.456539   \n",
       "avalanche_problem_1_destructive_size_ext_id                    0.478164   \n",
       "avalanche_problem_1_distribution_id                            0.143079   \n",
       "...                                                                 ...   \n",
       "utm_east                                                       0.094485   \n",
       "utm_north                                                      0.099895   \n",
       "utm_zone                                                            NaN   \n",
       "\n",
       "                                             avalanche_problem_1_probability_id  \\\n",
       "avalanche_problem_1_cause_id                                           0.140354   \n",
       "avalanche_problem_1_destructive_size_ext_id                            0.131360   \n",
       "avalanche_problem_1_distribution_id                                    0.213746   \n",
       "...                                                                         ...   \n",
       "utm_east                                                               0.030988   \n",
       "utm_north                                                              0.015706   \n",
       "utm_zone                                                                    NaN   \n",
       "\n",
       "                                             avalanche_problem_1_problem_id  \\\n",
       "avalanche_problem_1_cause_id                                       0.128075   \n",
       "avalanche_problem_1_destructive_size_ext_id                        0.147228   \n",
       "avalanche_problem_1_distribution_id                                0.146155   \n",
       "...                                                                     ...   \n",
       "utm_east                                                          -0.024852   \n",
       "utm_north                                                         -0.025919   \n",
       "utm_zone                                                                NaN   \n",
       "\n",
       "                                             avalanche_problem_1_problem_type_id  \\\n",
       "avalanche_problem_1_cause_id                                            0.084430   \n",
       "avalanche_problem_1_destructive_size_ext_id                             0.512626   \n",
       "avalanche_problem_1_distribution_id                                    -0.010103   \n",
       "...                                                                          ...   \n",
       "utm_east                                                                0.111727   \n",
       "utm_north                                                               0.088623   \n",
       "utm_zone                                                                     NaN   \n",
       "\n",
       "                                               ...     \\\n",
       "avalanche_problem_1_cause_id                   ...      \n",
       "avalanche_problem_1_destructive_size_ext_id    ...      \n",
       "avalanche_problem_1_distribution_id            ...      \n",
       "...                                            ...      \n",
       "utm_east                                       ...      \n",
       "utm_north                                      ...      \n",
       "utm_zone                                       ...      \n",
       "\n",
       "                                             mountain_weather_precip_region  \\\n",
       "avalanche_problem_1_cause_id                                      -0.066702   \n",
       "avalanche_problem_1_destructive_size_ext_id                        0.288160   \n",
       "avalanche_problem_1_distribution_id                                0.266691   \n",
       "...                                                                     ...   \n",
       "utm_east                                                          -0.145291   \n",
       "utm_north                                                         -0.135645   \n",
       "utm_zone                                                                NaN   \n",
       "\n",
       "                                             mountain_weather_temperature_elevation  \\\n",
       "avalanche_problem_1_cause_id                                              -0.001219   \n",
       "avalanche_problem_1_destructive_size_ext_id                                0.014002   \n",
       "avalanche_problem_1_distribution_id                                        0.111926   \n",
       "...                                                                             ...   \n",
       "utm_east                                                                  -0.575443   \n",
       "utm_north                                                                 -0.749253   \n",
       "utm_zone                                                                        NaN   \n",
       "\n",
       "                                             mountain_weather_temperature_max  \\\n",
       "avalanche_problem_1_cause_id                                         0.604835   \n",
       "avalanche_problem_1_destructive_size_ext_id                         -0.195344   \n",
       "avalanche_problem_1_distribution_id                                 -0.184926   \n",
       "...                                                                       ...   \n",
       "utm_east                                                            -0.182229   \n",
       "utm_north                                                           -0.218107   \n",
       "utm_zone                                                                  NaN   \n",
       "\n",
       "                                             mountain_weather_temperature_min  \\\n",
       "avalanche_problem_1_cause_id                                         0.573121   \n",
       "avalanche_problem_1_destructive_size_ext_id                         -0.101320   \n",
       "avalanche_problem_1_distribution_id                                 -0.120452   \n",
       "...                                                                       ...   \n",
       "utm_east                                                            -0.122810   \n",
       "utm_north                                                           -0.120098   \n",
       "utm_zone                                                                  NaN   \n",
       "\n",
       "                                               reg_id  region_id  \\\n",
       "avalanche_problem_1_cause_id                 0.595771  -0.033835   \n",
       "avalanche_problem_1_destructive_size_ext_id -0.126567  -0.037655   \n",
       "avalanche_problem_1_distribution_id         -0.214680   0.142943   \n",
       "...                                               ...        ...   \n",
       "utm_east                                    -0.000739  -0.903994   \n",
       "utm_north                                   -0.000738  -0.958519   \n",
       "utm_zone                                          NaN        NaN   \n",
       "\n",
       "                                             region_type_id  utm_east  \\\n",
       "avalanche_problem_1_cause_id                            NaN  0.068300   \n",
       "avalanche_problem_1_destructive_size_ext_id             NaN  0.042460   \n",
       "avalanche_problem_1_distribution_id                     NaN -0.158953   \n",
       "...                                                     ...       ...   \n",
       "utm_east                                                NaN  1.000000   \n",
       "utm_north                                               NaN  0.848985   \n",
       "utm_zone                                                NaN       NaN   \n",
       "\n",
       "                                             utm_north  utm_zone  \n",
       "avalanche_problem_1_cause_id                  0.011799       NaN  \n",
       "avalanche_problem_1_destructive_size_ext_id   0.025086       NaN  \n",
       "avalanche_problem_1_distribution_id          -0.134190       NaN  \n",
       "...                                                ...       ...  \n",
       "utm_east                                      0.848985       NaN  \n",
       "utm_north                                     1.000000       NaN  \n",
       "utm_zone                                           NaN       NaN  \n",
       "\n",
       "[56 rows x 56 columns]"
      ]
     },
     "execution_count": 10,
     "metadata": {},
     "output_type": "execute_result"
    }
   ],
   "source": [
    "# Compute the correlation matrix\n",
    "\n",
    "corr = varsom_df.corr()\n",
    "corr"
   ]
  },
  {
   "cell_type": "code",
   "execution_count": 11,
   "metadata": {},
   "outputs": [
    {
     "data": {
      "text/plain": [
       "<matplotlib.axes._subplots.AxesSubplot at 0x24a3edc9f98>"
      ]
     },
     "execution_count": 11,
     "metadata": {},
     "output_type": "execute_result"
    },
    {
     "data": {
      "image/png": "[encoded data removed]",
      "text/plain": [
       "<Figure size 792x792 with 2 Axes>"
      ]
     },
     "metadata": {},
     "output_type": "display_data"
    }
   ],
   "source": [
    "# Generate a mask for the upper triangle\n",
    "mask = np.zeros_like(corr, dtype=np.bool)\n",
    "mask[np.triu_indices_from(mask)] = True\n",
    "\n",
    "# Set up the matplotlib figure\n",
    "f, ax = plt.subplots(figsize=(11, 11))\n",
    "\n",
    "# Generate a custom diverging colormap\n",
    "cmap = sns.diverging_palette(1000, 15, as_cmap=True)\n",
    "\n",
    "# Draw the heatmap with the mask and correct aspect ratio\n",
    "sns.heatmap(corr, mask=mask, cmap=cmap, vmax=.8, center=0,\n",
    "            square=True, linewidths=.5, cbar_kws={\"shrink\": .5})"
   ]
  },
  {
   "cell_type": "code",
   "execution_count": null,
   "metadata": {},
   "outputs": [],
   "source": []
  },
  {
   "cell_type": "code",
   "execution_count": null,
   "metadata": {},
   "outputs": [],
   "source": []
  },
  {
   "cell_type": "markdown",
   "metadata": {},
   "source": [
    "### First step in ML process is data preparation"
   ]
  },
  {
   "cell_type": "code",
   "execution_count": null,
   "metadata": {},
   "outputs": [],
   "source": []
  },
  {
   "cell_type": "code",
   "execution_count": null,
   "metadata": {},
   "outputs": [],
   "source": []
  },
  {
   "cell_type": "code",
   "execution_count": null,
   "metadata": {},
   "outputs": [],
   "source": []
  },
  {
   "cell_type": "code",
   "execution_count": null,
   "metadata": {},
   "outputs": [],
   "source": []
  },
  {
   "cell_type": "code",
   "execution_count": null,
   "metadata": {},
   "outputs": [],
   "source": [
    "from sklearn import datasets ## imports datasets from scikit-learn\n",
    "data = datasets.load_boston() ## loads Boston dataset from datasets library "
   ]
  },
  {
   "cell_type": "code",
   "execution_count": null,
   "metadata": {},
   "outputs": [],
   "source": [
    "data.head() # not working because this is not a dataframe"
   ]
  },
  {
   "cell_type": "code",
   "execution_count": null,
   "metadata": {},
   "outputs": [],
   "source": [
    "print (data.DESCR)"
   ]
  },
  {
   "cell_type": "markdown",
   "metadata": {},
   "source": [
    "- Because this is a dataset used for testing and learning machine learning tools, it comes with a description of the dataset. However, we can *only use this for sklearn datasets.*  "
   ]
  },
  {
   "cell_type": "code",
   "execution_count": null,
   "metadata": {},
   "outputs": [],
   "source": [
    "# First, we should load the data as a pandas data frame for easier analysis and set the median home value as our target variable:\n",
    "\n",
    "import numpy as np\n",
    "import pandas as pd\n",
    "\n",
    "# put features in one data frame (all 13 of them)\n",
    "features = pd.DataFrame(data.data, columns=data.feature_names)\n",
    "\n",
    "# Put the target (median house value -- MEDV) in another data frame\n",
    "target = pd.DataFrame(data.target, columns=[\"MEDV\"])"
   ]
  },
  {
   "cell_type": "code",
   "execution_count": null,
   "metadata": {},
   "outputs": [],
   "source": [
    "features.head()"
   ]
  },
  {
   "cell_type": "code",
   "execution_count": null,
   "metadata": {},
   "outputs": [],
   "source": [
    "target.head()"
   ]
  },
  {
   "cell_type": "code",
   "execution_count": null,
   "metadata": {},
   "outputs": [],
   "source": [
    "# creating dataframe with all variables (features + target)\n",
    "\n",
    "boston_data = features.copy()\n",
    "\n",
    "boston_data['MEDV'] = target[\"MEDV\"]\n",
    "\n",
    "boston_data.head()"
   ]
  },
  {
   "cell_type": "code",
   "execution_count": null,
   "metadata": {},
   "outputs": [],
   "source": [
    "# Compute the correlation matrix\n",
    "\n",
    "corr = boston_data.corr()\n"
   ]
  },
  {
   "cell_type": "markdown",
   "metadata": {},
   "source": [
    "![title](pictures/correlation.jpg)\n",
    "\n",
    "\n",
    "source: http://www.pythagorasandthat.co.uk/scatter-graphs\n",
    " "
   ]
  },
  {
   "cell_type": "markdown",
   "metadata": {},
   "source": [
    "A **correlation coefficient** is a numerical measure of some type of correlation. There are diffeterent types of correlation coefficient (Pearson, Spearman, etc.), but they are always measured in interval [-1, 1]:\n",
    " \n",
    " - if correlation coefficient is 0, there is no correlation between variables \n",
    " - value of exactly 1.0 means there is a perfect positive relationship between the two variables\n",
    " - a value of -1.0 means there is a perfect negative relationship between the two variables\n",
    " - we usually say thay corellation is *strong* if correlation coefficient is less than -0.7 or more than 0.7"
   ]
  },
  {
   "cell_type": "code",
   "execution_count": null,
   "metadata": {},
   "outputs": [],
   "source": [
    "corr"
   ]
  },
  {
   "cell_type": "code",
   "execution_count": null,
   "metadata": {},
   "outputs": [],
   "source": [
    "# we can also create a heatmap with seaborn\n",
    "\n",
    "from string import ascii_letters\n",
    "import matplotlib.pyplot as plt   # importing data visualisation libraries \n",
    "import seaborn as sns\n",
    "%matplotlib inline\n",
    "\n",
    "\n",
    "sns.set(style=\"white\")\n",
    "\n",
    "\n",
    "# Compute the correlation matrix\n",
    "corr = boston_data.corr()\n",
    "\n",
    "# Generate a mask for the upper triangle\n",
    "mask = np.zeros_like(corr, dtype=np.bool)\n",
    "mask[np.triu_indices_from(mask)] = True\n",
    "\n",
    "# Set up the matplotlib figure\n",
    "f, ax = plt.subplots(figsize=(11, 11))\n",
    "\n",
    "# Generate a custom diverging colormap\n",
    "cmap = sns.diverging_palette(1000, 15, as_cmap=True)\n",
    "\n",
    "# Draw the heatmap with the mask and correct aspect ratio\n",
    "sns.heatmap(corr, mask=mask, cmap=cmap, vmax=.8, center=0,\n",
    "            square=True, linewidths=.5, cbar_kws={\"shrink\": .5})"
   ]
  },
  {
   "cell_type": "code",
   "execution_count": null,
   "metadata": {},
   "outputs": [],
   "source": [
    "sns.pairplot(boston_data)"
   ]
  },
  {
   "cell_type": "markdown",
   "metadata": {},
   "source": [
    "We can see that NOX and INDUS are correlated - correlation coefficient is 0.76 between them, so we can remove one of them. \n",
    "\n",
    "There is not a set rule which variable to remove - in this case, there is a higher correlation between target and INDUS (-0.48) than between target and NOX (-0.42) so we'll remove NOX. \n",
    "\n",
    "Similarly, there is a high correlation between AGE and DISS - following the same logic, we'll remove DIS. \n",
    "\n",
    "(note that NOX and DIS are also highly correlated, but we have already decided to remove NOX)"
   ]
  },
  {
   "cell_type": "code",
   "execution_count": null,
   "metadata": {},
   "outputs": [],
   "source": [
    "boston_data.pop('NOX')\n",
    "boston_data.pop('DIS')\n",
    "None"
   ]
  },
  {
   "cell_type": "code",
   "execution_count": null,
   "metadata": {},
   "outputs": [],
   "source": [
    "# let's see the details about remainig variables \n",
    "\n",
    "boston_data.describe()"
   ]
  },
  {
   "cell_type": "markdown",
   "metadata": {},
   "source": [
    "#### Now we have clean data and can build a model\n",
    "\n",
    "The library we'll use is called **sckit-learn**. \n",
    "\n",
    "\n",
    "![title](pictures/scikit-learn.png)\n",
    "\n",
    "\n",
    "\n",
    "http://scikit-learn.org\n",
    "\n",
    "- Python library\n",
    "- Access to well known machine learning algorithms\n",
    "- Built on NumPy, SciPy, and matplotlib\n",
    "- Open Source\n",
    "- Well documented with many good tutorials\n",
    "\n",
    "\n",
    "## Worklflow of scikit-learn\n",
    "\n",
    "- Create model object\n",
    "- .fit\n",
    "- .predict\n",
    "- evaluate\n",
    "\n",
    "\n",
    "\n",
    "We will start with simplest model - **LINEAR REGRESSION **"
   ]
  },
  {
   "cell_type": "markdown",
   "metadata": {},
   "source": [
    "# LINEAR REGRESSION\n",
    "\n",
    "- is the simplest machine learning model\n",
    "- is used for finding linear relationship between target and one or more predictors\n",
    "- there are two types of linear regression:\n",
    "    - Simple (one feature)\n",
    "    - Multiple (two or more features) \n",
    "- The main idea of linear regression is to obtain a line that best fits the data. \n",
    "- That means finding the one line for which total prediction error (for all data points) are as small as possible. (Error is the distance between actual values and values predicted using regression line.)\n",
    "\n",
    "\n",
    "![](pictures/linear_regression.png)"
   ]
  },
  {
   "cell_type": "markdown",
   "metadata": {},
   "source": [
    "### First linear regression model "
   ]
  },
  {
   "cell_type": "markdown",
   "metadata": {},
   "source": [
    "First we'll create a simple linear regression model - we saw that LSTAT and RM are two variables that are highly correlated with target. We will see how good predicteions we can get with just one feature - and how to decide which one of these features is better for estimating median house price? \n",
    "\n",
    "Step one is to divide our dataset into training and testing part - it is important to test our model against data that has never been used for training – that tells us how the model might perform against data that it has not yet seen and it is meant to be representative of how the model might perform in the real world.\n",
    "\n",
    "That's why we will use only 70% of our data to train the model and then we'll use the rest of data (30%) to evaluate our model. \n",
    "\n",
    "\n",
    "![title](pictures/train_test.png)"
   ]
  },
  {
   "cell_type": "code",
   "execution_count": null,
   "metadata": {},
   "outputs": [],
   "source": [
    "# Starting with LSAT variable \n",
    "\n",
    "from sklearn.model_selection import train_test_split\n",
    "\n",
    "X_train_1, X_test_1, y_train_1, y_test_1 = train_test_split(boston_data[['LSTAT']], boston_data.MEDV, \n",
    "                                                            random_state = 222, test_size = 0.3)"
   ]
  },
  {
   "cell_type": "code",
   "execution_count": null,
   "metadata": {},
   "outputs": [],
   "source": [
    "from sklearn import linear_model # we are importing machine learning model we'll use\n",
    "\n",
    "lm1 = linear_model.LinearRegression()\n",
    "\n",
    "model_1 = lm1.fit(X_train_1, y_train_1) # we have just created a model! :) "
   ]
  },
  {
   "cell_type": "code",
   "execution_count": null,
   "metadata": {},
   "outputs": [],
   "source": [
    "# as we said before, the model in this simple case is a line that has two parameters\n",
    "\n",
    "# so we ask: what are our estimated parameters? (alpha and beta?)\n",
    "\n",
    "print(\"Our first model:  y = {0:.2f}\".format(model_1.intercept_) + \" {0:.2f}\".format(model_1.coef_[0]) + \" * x\")"
   ]
  },
  {
   "cell_type": "code",
   "execution_count": null,
   "metadata": {},
   "outputs": [],
   "source": [
    "print(\"Intercept: {0:.2f}\".format(model_1.intercept_))\n",
    "print(\"Extra price per extra unit of LSTAT: {0:.2f}\".format(model_1.coef_[0]))"
   ]
  },
  {
   "cell_type": "code",
   "execution_count": null,
   "metadata": {},
   "outputs": [],
   "source": [
    "# now we'd like is to predict house price for test data (data that model hasn't seen yet)\n",
    "\n",
    "predictions_1 = model_1.predict(X_test_1)"
   ]
  },
  {
   "cell_type": "code",
   "execution_count": null,
   "metadata": {},
   "outputs": [],
   "source": [
    "predictions_1[0:5]"
   ]
  },
  {
   "cell_type": "code",
   "execution_count": null,
   "metadata": {},
   "outputs": [],
   "source": [
    "# let's visualize our regression line\n",
    "\n",
    "plt.plot(X_test_1, y_test_1, 'o')\n",
    "plt.plot(X_test_1, predictions_1, color = 'red')\n",
    "plt.xlabel('% of lower status of the population')\n",
    "plt.ylabel('Median home value in $1000s')"
   ]
  },
  {
   "cell_type": "markdown",
   "metadata": {},
   "source": [
    "### Evaluation of your model\n",
    "\n"
   ]
  },
  {
   "cell_type": "code",
   "execution_count": null,
   "metadata": {},
   "outputs": [],
   "source": [
    "# let's try to visualize the estimated and real house values for all data points in test dataset\n",
    "\n",
    "\n",
    "fig, ax = plt.subplots(figsize=(15, 5))\n",
    "\n",
    "plt.subplot(1, 2, 1)\n",
    "plt.plot(X_test_1,predictions_1, 'o')\n",
    "plt.xlabel('% of lower status of the population')\n",
    "plt.ylabel('Estimated home value in $1000s')\n",
    "\n",
    "\n",
    "plt.subplot(1, 2, 2)\n",
    "plt.plot(X_test_1,y_test_1, 'o')\n",
    "plt.xlabel('% of lower status of the population')\n",
    "plt.ylabel('Median home value in $1000s')\n",
    "\n",
    "plt.tight_layout()\n",
    "\n",
    "plt.show()"
   ]
  },
  {
   "cell_type": "markdown",
   "metadata": {},
   "source": [
    "To evaulate the performance of the model, we can compute the error between the real house value (`y_test_1`) and the predicted values we got form our model (`predictions_1`).\n",
    "\n",
    "One such metric is called **the residual sum of squares (RSS)**: \n",
    "\n",
    "![title](pictures/rss.png)\n",
    "\n",
    "\n"
   ]
  },
  {
   "cell_type": "code",
   "execution_count": null,
   "metadata": {},
   "outputs": [],
   "source": [
    "# first we define our RSS function\n",
    "\n",
    "def RSS(y, p):\n",
    "    return sum((y - p)**2)"
   ]
  },
  {
   "cell_type": "code",
   "execution_count": null,
   "metadata": {},
   "outputs": [],
   "source": [
    "# then we calculate RSS: \n",
    "\n",
    "RSS_model_1 = RSS(y_test_1, predictions_1)\n",
    "\n",
    "RSS_model_1"
   ]
  },
  {
   "cell_type": "markdown",
   "metadata": {},
   "source": [
    "This number doesn't tell us much - is 7027 good? Is it bad? \n",
    "\n",
    "Unfortunatelly, there is no right answer - it depends on the data. Sometimes RSS of 7000 indicates very bad model, and sometimes 7000 is as good as it gets. \n",
    "\n",
    "That's why we use RSS when comparing models - the model with lowest RSS is the best. \n",
    "\n",
    "The other metrics we can use to evaluate our model is called **coefficient of determination**. \n",
    "\n",
    "It's denoted as $R^{2}$ and it is the proportion of the variance in the dependent variable that is predictable from the independent variable(s).\n",
    "\n",
    "To calculate it, we use *.score* function in Python."
   ]
  },
  {
   "cell_type": "code",
   "execution_count": null,
   "metadata": {},
   "outputs": [],
   "source": [
    "lm1.score(X_test_1,y_test_1)"
   ]
  },
  {
   "cell_type": "markdown",
   "metadata": {},
   "source": [
    "This means that only 51% of variability is explained by our model. \n",
    "\n",
    "In general, $R^{2}$ is a number between 0 and 1 - the closer it is to 1, the better the model is. \n",
    "\n",
    "Since we got only 0.51, we can conclude that this is not a very good model. \n",
    "\n",
    "But we can try to build a model with second variable - RM - and check if we can get better result. "
   ]
  },
  {
   "cell_type": "markdown",
   "metadata": {},
   "source": [
    "### More linear regression models"
   ]
  },
  {
   "cell_type": "code",
   "execution_count": null,
   "metadata": {},
   "outputs": [],
   "source": [
    "# we just repeat everything as before \n",
    "\n",
    "X_train_2, X_test_2, y_train_2, y_test_2 = train_test_split(boston_data[['RM']], boston_data.MEDV, \n",
    "                                                            random_state = 222, test_size = 0.3) # split the data\n",
    "\n",
    "lm = linear_model.LinearRegression()\n",
    "model_2 = lm.fit(X_train_2, y_train_2) # train the model\n",
    "\n",
    "predictions_2 = model_2.predict(X_test_2) # predict values for test dataset\n",
    "\n",
    "print(\"Our second model:  y = {0:.2f}\".format(model_2.intercept_) + \" + {0:.2f}\".format(model_2.coef_[0]) + \" * x\")"
   ]
  },
  {
   "cell_type": "code",
   "execution_count": null,
   "metadata": {},
   "outputs": [],
   "source": [
    "# let's visualize our regression line\n",
    "\n",
    "plt.plot(X_test_2, y_test_2, 'o')\n",
    "plt.plot(X_test_2, predictions_2, color = 'red')\n",
    "plt.xlabel('Average number of rooms')\n",
    "plt.ylabel('Median home value in $1000s')"
   ]
  },
  {
   "cell_type": "code",
   "execution_count": null,
   "metadata": {},
   "outputs": [],
   "source": [
    "# let's calculate RSS and R^2\n",
    "\n",
    "print (RSS(y_test_2, predictions_2)) \n",
    "\n",
    "print (lm.score(X_test_2, y_test_2))"
   ]
  },
  {
   "cell_type": "code",
   "execution_count": null,
   "metadata": {},
   "outputs": [],
   "source": [
    "# now we can compare our models \n",
    "\n",
    "print(\"RSS for first model is {0:.2f}\".format(RSS(y_test_1, predictions_1)) \n",
    "      + \", and RSS for second model is {0:.2f}\".format(RSS(y_test_2, predictions_2)) + '\\n' + '\\n' \n",
    "      + \"R^2 for first model is {0:.2f}\".format(lm1.score(X_test_1, y_test_1)) \n",
    "      + \", and R^2 for second model is {0:.2f}\".format(lm.score(X_test_2, y_test_2)))"
   ]
  },
  {
   "cell_type": "markdown",
   "metadata": {},
   "source": [
    "Since RSS is lower for second modell (and lower the RSS, better the model) and $R^{2}$ is higher for second modell (and we want $R^{2}$ as close to 1 as possible), both measures tells us that **second model is better**.\n",
    "\n",
    "However, difference is not big - out second model performs slightly better, but we still can't say it fits our data well. \n",
    "\n",
    "Next thing we can try is to build a model with all features we have available and see if using multiple features improves performace of the model. "
   ]
  },
  {
   "cell_type": "code",
   "execution_count": null,
   "metadata": {},
   "outputs": [],
   "source": [
    "X = boston_data[['CRIM', 'ZN', 'INDUS', 'CHAS', 'RM', 'AGE', 'RAD', 'TAX', 'PTRATIO', 'B', 'LSTAT']]\n",
    "y = boston_data[\"MEDV\"]"
   ]
  },
  {
   "cell_type": "code",
   "execution_count": null,
   "metadata": {},
   "outputs": [],
   "source": [
    "X_train, X_test, y_train, y_test = train_test_split(X, y, random_state = 222, test_size = 0.3) # split the data\n",
    "\n",
    "lm = linear_model.LinearRegression()\n",
    "model_lr = lm.fit(X_train, y_train) # train the model\n",
    "\n",
    "predictions_lr = model_lr.predict(X_test) # predict values for test dataset\n",
    "\n",
    "print(\"Our third model:  \\n \\ny = {0:.2f}\".format(model_lr.intercept_) + \" {0:.2f}\".format(model_lr.coef_[0]) + \" * CRIM\"\n",
    "     + \" + {0:.2f}\".format(model_lr.coef_[1]) + \" * ZN\" + \" + {0:.2f}\".format(model_lr.coef_[2]) + \" * INDUS\"\n",
    "     + \" + {0:.2f}\".format(model_lr.coef_[3]) + \" + * CHAS\" + \" {0:.2f}\".format(model_lr.coef_[4]) + \" * RM\" \n",
    "     + \" + {0:.2f}\".format(model_lr.coef_[5]) + \" * AGE\" + \" + {0:.2f}\".format(model_lr.coef_[6]) + \" * RAD\"\n",
    "     + \"\\n    {0:.2f}\".format(model_lr.coef_[7]) + \" * TAX\" + \" {0:.2f}\".format(model_lr.coef_[8]) + \" * PTRATIO\"\n",
    "     + \" + {0:.2f}\".format(model_lr.coef_[9]) + \" * B\" + \" {0:.2f}\".format(model_lr.coef_[10]) + \" * LSTAT\")"
   ]
  },
  {
   "cell_type": "code",
   "execution_count": null,
   "metadata": {},
   "outputs": [],
   "source": [
    "# let's evaluate the model\n",
    "\n",
    "print(\"RSS for the third model is {0:.2f}\".format(RSS(y_test, predictions_lr))  + '\\n' + '\\n' \n",
    "      + \"R^2 for the third model is {0:.2f}\".format(lm.score(X_test, y_test)) )"
   ]
  },
  {
   "cell_type": "markdown",
   "metadata": {},
   "source": [
    "Now we can see improvement - RSS is 2000 less than for second model, and $R^{2}$ is 0.24 higher than for second model.\n",
    "\n",
    "So out of the three models we tested, we can see that third one (with *multiple features*) is performing the best. \n",
    "\n",
    "Of course, linear regression is not the only method we can use to solve this problems - there are more advanced methods like **decision trees, random forests and gradient boosted trees**. "
   ]
  },
  {
   "cell_type": "markdown",
   "metadata": {},
   "source": [
    "# DECISION TREE\n",
    "\n",
    "- is another method we can use for finding relationship between target and one or more predictors\n",
    "- decision trees can be used for both categorical and continous targets (so both classification and regression tasks -  today we'll be focusing on regression trees)\n",
    "- the main idea is to create a tree of decisions that best partitions the data \n",
    "- creating a tree involves deciding on which features to split the data and what conditions to use for splitting, as well as with knowing when to stop\n",
    "\n",
    "\n",
    "\n",
    "![title](pictures/decision_tree.png)\n",
    "\n",
    "\n",
    "\n",
    "\n"
   ]
  },
  {
   "cell_type": "markdown",
   "metadata": {},
   "source": [
    "\n",
    "\n",
    "# RANDOM FORESTS\n",
    "\n",
    "- are using Bagging (bootstrap aggregating) algorithm\n",
    "\n",
    "- **bagging** is an ensemble learning where we build each model using the same algorithm, but we train each learner on different set of data\n",
    "\n",
    "\n",
    "# GRADIENT BOOSTED TREES\n",
    "\n",
    "- are using Boosting (Ada Boost) algorithm\n",
    "\n",
    "- **boosting** is a variation of ensemble trees that strives to improve the learners by focusing on areas where the system is not performing well.\n",
    "\n"
   ]
  },
  {
   "cell_type": "markdown",
   "metadata": {},
   "source": [
    "### We can start by creating one decision tree of depth 3 using all features "
   ]
  },
  {
   "cell_type": "code",
   "execution_count": null,
   "metadata": {},
   "outputs": [],
   "source": [
    "from sklearn.tree import DecisionTreeRegressor\n",
    "\n",
    "dec_tree = DecisionTreeRegressor(random_state=222, max_depth = 3)\n",
    "\n",
    "dec_tree.fit(X_train, y_train) # we're using the same data as in last linear model\n",
    "\n",
    "predictions_dt = dec_tree.predict(X_test)"
   ]
  },
  {
   "cell_type": "code",
   "execution_count": null,
   "metadata": {},
   "outputs": [],
   "source": [
    "# in order to visualize the tree we need package graphviz and it needs to be installed \n",
    "\n",
    "import sys\n",
    "!conda install --yes --prefix {sys.prefix} python-graphviz"
   ]
  },
  {
   "cell_type": "code",
   "execution_count": null,
   "metadata": {},
   "outputs": [],
   "source": [
    "# Visualize the tree\n",
    "\n",
    "from sklearn import tree\n",
    "import graphviz \n",
    "\n",
    "dot_data = tree.export_graphviz(dec_tree, out_file=None, \n",
    "                         feature_names=boston_data.drop('MEDV', axis=1).columns,   \n",
    "                         filled=True, rounded=True,  \n",
    "                         special_characters=True)  \n",
    "\n",
    "graph = graphviz.Source(dot_data)  \n",
    "graph "
   ]
  },
  {
   "cell_type": "markdown",
   "metadata": {},
   "source": [
    "Again, we can see that first we're splitting on RM and LSTAT, meaning that those are the most important variables.\n",
    "\n"
   ]
  },
  {
   "cell_type": "markdown",
   "metadata": {},
   "source": [
    "We need to evaluate our model:"
   ]
  },
  {
   "cell_type": "code",
   "execution_count": null,
   "metadata": {},
   "outputs": [],
   "source": [
    "print(\"RSS for decision tree model is {0:.2f}\".format(RSS(y_test, predictions_dt)))"
   ]
  },
  {
   "cell_type": "code",
   "execution_count": null,
   "metadata": {},
   "outputs": [],
   "source": [
    "print('Decision tree R^2: %.4f' % dec_tree.score(X_test, y_test)) "
   ]
  },
  {
   "cell_type": "markdown",
   "metadata": {},
   "source": [
    "So, the linear model is performing better than decision tree model. \n",
    "\n",
    "But we have selected tree of depth 3 - could we get a better model by selecting different depth? "
   ]
  },
  {
   "cell_type": "code",
   "execution_count": null,
   "metadata": {},
   "outputs": [],
   "source": [
    "def RSS_new(f, y, X):\n",
    "    return sum((y - f.predict(X))**2)\n",
    "\n",
    "depths = range(1, 10)\n",
    "\n",
    "tree_models = [DecisionTreeRegressor(random_state=222, max_depth=d).fit(X_train, y_train) for d in depths]\n",
    "tree_RSS = [RSS_new(f, y_test, X_test) for f in tree_models]\n",
    "\n",
    "\n",
    "plt.plot(depths, tree_RSS, color = 'red')\n",
    "plt.xlabel('Tree depth')\n",
    "plt.ylabel('RSS')"
   ]
  },
  {
   "cell_type": "code",
   "execution_count": null,
   "metadata": {},
   "outputs": [],
   "source": [
    "# so let's create a tree with depth = 6\n",
    "\n",
    "dec_tree = DecisionTreeRegressor(random_state=222, max_depth = 6)\n",
    "\n",
    "dec_tree.fit(X_train, y_train) # we're using the same data as in last linear model\n",
    "\n",
    "predictions_dt = dec_tree.predict(X_test)"
   ]
  },
  {
   "cell_type": "code",
   "execution_count": null,
   "metadata": {},
   "outputs": [],
   "source": [
    "# Visualize the tree\n",
    "\n",
    "from sklearn import tree\n",
    "import graphviz \n",
    "\n",
    "dot_data = tree.export_graphviz(dec_tree, out_file=None, \n",
    "                         feature_names=boston_data.drop('MEDV', axis=1).columns,   \n",
    "                         filled=True, rounded=True,  \n",
    "                         special_characters=True)  \n",
    "\n",
    "graph = graphviz.Source(dot_data)  \n",
    "graph "
   ]
  },
  {
   "cell_type": "code",
   "execution_count": null,
   "metadata": {},
   "outputs": [],
   "source": [
    "print(\"RSS for decision tree model is {0:.2f}\".format(RSS(y_test, predictions_dt)))"
   ]
  },
  {
   "cell_type": "code",
   "execution_count": null,
   "metadata": {},
   "outputs": [],
   "source": [
    "print('Decision tree R^2: %.4f' % dec_tree.score(X_test, y_test)) "
   ]
  },
  {
   "cell_type": "markdown",
   "metadata": {},
   "source": [
    "Now we see slight improvement in both RSS and $R^{2}$ - but does such a small improvement justifies usage of much more complex model? \n",
    "\n",
    "\n",
    "Maybe we'l get better results with **random forests** and/or **gradient boosted trees**. "
   ]
  },
  {
   "cell_type": "markdown",
   "metadata": {},
   "source": [
    "### Random forest "
   ]
  },
  {
   "cell_type": "code",
   "execution_count": null,
   "metadata": {},
   "outputs": [],
   "source": [
    "from sklearn.ensemble import RandomForestRegressor\n",
    "\n",
    "forest_reg = RandomForestRegressor(random_state = 422, max_depth = 6)\n",
    "forest_reg.fit(X_train, y_train)\n",
    "\n",
    "predictions_rf = forest_reg.predict(X_test)"
   ]
  },
  {
   "cell_type": "code",
   "execution_count": null,
   "metadata": {},
   "outputs": [],
   "source": [
    "print(\"RSS for random forest model is {0:.2f}\".format(RSS(y_test, predictions_rf)))"
   ]
  },
  {
   "cell_type": "code",
   "execution_count": null,
   "metadata": {},
   "outputs": [],
   "source": [
    "print('Random forest R^2: %.4f' % forest_reg.score(X_test, y_test)) "
   ]
  },
  {
   "cell_type": "markdown",
   "metadata": {},
   "source": [
    "### Gradient boosting"
   ]
  },
  {
   "cell_type": "code",
   "execution_count": null,
   "metadata": {},
   "outputs": [],
   "source": [
    "# create a gradient boosting regressor with random state 222 and max depth 6 \n",
    "\n",
    "# Print RSS and R^2 for your model\n"
   ]
  },
  {
   "cell_type": "code",
   "execution_count": null,
   "metadata": {},
   "outputs": [],
   "source": [
    "# solution\n",
    "\n",
    "from sklearn.ensemble import GradientBoostingRegressor\n",
    "\n",
    "grad_boost = GradientBoostingRegressor(random_state = 222, max_depth = 6)\n",
    "\n",
    "grad_boost.fit(X_train, y_train)\n",
    "\n",
    "predictions_gb = grad_boost.predict(X_test)\n",
    "\n",
    "print(\"RSS for gradient boosted tree model is {0:.2f}\".format(RSS(y_test, predictions_gb)))\n",
    "print()\n",
    "print('Gradient boosted tree R^2: %.4f' % grad_boost.score(X_test, y_test)) "
   ]
  },
  {
   "cell_type": "markdown",
   "metadata": {},
   "source": [
    "Again, very small difference between random forests and boosted trees.\n",
    "\n",
    "We can use random forest model.\n",
    "\n",
    "Last thing we can check is imprtance of variables - if some of the feature are not as useful as the other in explaining the variability in our target variable, we cn exclude them in order to simplify our model. "
   ]
  },
  {
   "cell_type": "code",
   "execution_count": null,
   "metadata": {},
   "outputs": [],
   "source": [
    "feature_labels = np.array(['CRIM', 'ZN', 'INDUS', 'CHAS', 'RM', 'AGE', 'RAD', 'TAX', 'PTRATIO', 'B', 'LSTAT', 'MEDV'])\n",
    "importance = forest_reg.feature_importances_\n",
    "feature_indexes_by_importance = importance.argsort()\n",
    "for index in feature_indexes_by_importance:\n",
    "    print('{}-{:.2f}%'.format(feature_labels[index], (importance[index] *100.0)))"
   ]
  },
  {
   "cell_type": "code",
   "execution_count": null,
   "metadata": {},
   "outputs": [],
   "source": [
    "# excluding the variables where impotance is less than 1%\n",
    "\n",
    "X = boston_data[['CRIM', 'RM', 'TAX', 'PTRATIO', 'LSTAT', 'AGE', 'B', 'INDUS']]\n",
    "y = boston_data[\"MEDV\"]\n",
    "\n",
    "X_train, X_test, y_train, y_test = train_test_split(X, y, test_size = 0.3, random_state = 222)"
   ]
  },
  {
   "cell_type": "code",
   "execution_count": null,
   "metadata": {},
   "outputs": [],
   "source": [
    "grad_boost = GradientBoostingRegressor(random_state = 222, max_depth = 6)\n",
    "\n",
    "grad_boost.fit(X_train, y_train)\n",
    "\n",
    "predictions_gb = grad_boost.predict(X_test)"
   ]
  },
  {
   "cell_type": "code",
   "execution_count": null,
   "metadata": {},
   "outputs": [],
   "source": [
    "print(\"RSS for gradient boosted tree model is {0:.2f}\".format(RSS(y_test, predictions_gb)))"
   ]
  },
  {
   "cell_type": "code",
   "execution_count": null,
   "metadata": {},
   "outputs": [],
   "source": [
    "print('Gradient boosted tree R^2: %.4f' % grad_boost.score(X_test, y_test)) "
   ]
  },
  {
   "cell_type": "code",
   "execution_count": null,
   "metadata": {},
   "outputs": [],
   "source": []
  }
 ],
 "metadata": {
  "kernelspec": {
   "display_name": "Python 3",
   "language": "python",
   "name": "python3"
  },
  "language_info": {
   "codemirror_mode": {
    "name": "ipython",
    "version": 3
   },
   "file_extension": ".py",
   "mimetype": "text/x-python",
   "name": "python",
   "nbconvert_exporter": "python",
   "pygments_lexer": "ipython3",
   "version": "3.6.3"
  }
 },
 "nbformat": 4,
 "nbformat_minor": 2
}
