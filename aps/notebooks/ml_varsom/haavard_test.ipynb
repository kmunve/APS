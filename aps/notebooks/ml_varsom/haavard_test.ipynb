{
  "cells": [
    {
      "cell_type": "code",
      "execution_count": 2,
      "metadata": {
        "collapsed": true,
        "pycharm": {
          "is_executing": false
        }
      },
      "outputs": [
        {
          "name": "stdout",
          "text": [
            "D:\\Dev\\APS\n"
          ],
          "output_type": "stream"
        }
      ],
      "source": "import pandas as pd  # check out Modin https://towardsdatascience.com/get-faster-pandas-with-modin-even-on-your-laptops-b527a2eeda74\nimport numpy as np\nimport json\nimport matplotlib.pyplot as plt\nimport seaborn as sns\nfrom pathlib import Path\n\n# Add path to APS modules\naps_pth \u003d Path(\u0027.\u0027).absolute()\nprint(aps_pth)\nif aps_pth not in sys.path:\n    sys.path.append(aps_pth)\nsns.set(style\u003d\"white\")\n#from sklearn.preprocessing import LabelEncoder\n#from pprint import pprint\n\n#pd.set_option(\"display.max_rows\",6)\n\n"
    },
    {
      "cell_type": "code",
      "execution_count": 8,
      "outputs": [],
      "source": "data_pth \u003d Path(r\u0027./aps/notebooks/ml_varsom/all.csv\u0027)",
      "metadata": {
        "pycharm": {
          "metadata": false,
          "name": "#%%\n",
          "is_executing": false
        }
      }
    },
    {
      "cell_type": "code",
      "execution_count": 9,
      "outputs": [
        {
          "data": {
            "text/plain": "            Date1  avalanche_problem_1_cause_id  \\\nindex                                             \n0      2018-12-01                            10   \n1      2018-12-02                            10   \n2      2018-12-03                            10   \n3      2018-12-04                            10   \n4      2018-12-05                            15   \n\n              avalanche_problem_1_cause_name  DangerLevel  \\\nindex                                                       \n0              Nedføyket svakt lag med nysnø            1   \n1              Nedføyket svakt lag med nysnø            1   \n2              Nedføyket svakt lag med nysnø            1   \n3              Nedføyket svakt lag med nysnø            1   \n4      Dårlig binding mellom lag i fokksnøen            1   \n\n       FreezingLevelAltitude  FreezingLevelTime  MaxTemperature  \\\nindex                                                             \n0                        500                 15               3   \n1                        500                  5               3   \n2                        400                 21               2   \n3                        400                  1               0   \n4                        300                 15               0   \n\n       MinTemperature  Precipitation_MostExposed_Median  \\\nindex                                                     \n0                   0                                 2   \n1                  -2                                 1   \n2                  -2                                 0   \n3                  -4                                 2   \n4                  -3                                 6   \n\n       Precipitation_overall_ThirdQuartile  TemperatureElevation  \\\nindex                                                              \n0                                        0                   700   \n1                                        0                   700   \n2                                        0                   700   \n3                                        1                   700   \n4                                        4                   700   \n\n      WindClassification  WindClassificationNumerical WindDirection  \\\nindex                                                                 \n0                   Bris                            4            SE   \n1             Frisk bris                            5            SE   \n2                   Bris                            4            SE   \n3                   Bris                            4            SW   \n4                   Bris                            4            SW   \n\n       WindDirectionNumeric  WindPercentage  RegionId  NaturalAvalanches  \nindex                                                                     \n0                         4          17.906    3011.0                0.0  \n1                         4          12.399    3011.0                0.0  \n2                         4          16.469    3011.0                0.0  \n3                         6          21.010    3011.0                0.0  \n4                         6          56.892    3011.0                0.0  ",
            "text/html": "\u003cdiv\u003e\n\u003cstyle scoped\u003e\n    .dataframe tbody tr th:only-of-type {\n        vertical-align: middle;\n    }\n\n    .dataframe tbody tr th {\n        vertical-align: top;\n    }\n\n    .dataframe thead th {\n        text-align: right;\n    }\n\u003c/style\u003e\n\u003ctable border\u003d\"1\" class\u003d\"dataframe\"\u003e\n  \u003cthead\u003e\n    \u003ctr style\u003d\"text-align: right;\"\u003e\n      \u003cth\u003e\u003c/th\u003e\n      \u003cth\u003eDate1\u003c/th\u003e\n      \u003cth\u003eavalanche_problem_1_cause_id\u003c/th\u003e\n      \u003cth\u003eavalanche_problem_1_cause_name\u003c/th\u003e\n      \u003cth\u003eDangerLevel\u003c/th\u003e\n      \u003cth\u003eFreezingLevelAltitude\u003c/th\u003e\n      \u003cth\u003eFreezingLevelTime\u003c/th\u003e\n      \u003cth\u003eMaxTemperature\u003c/th\u003e\n      \u003cth\u003eMinTemperature\u003c/th\u003e\n      \u003cth\u003ePrecipitation_MostExposed_Median\u003c/th\u003e\n      \u003cth\u003ePrecipitation_overall_ThirdQuartile\u003c/th\u003e\n      \u003cth\u003eTemperatureElevation\u003c/th\u003e\n      \u003cth\u003eWindClassification\u003c/th\u003e\n      \u003cth\u003eWindClassificationNumerical\u003c/th\u003e\n      \u003cth\u003eWindDirection\u003c/th\u003e\n      \u003cth\u003eWindDirectionNumeric\u003c/th\u003e\n      \u003cth\u003eWindPercentage\u003c/th\u003e\n      \u003cth\u003eRegionId\u003c/th\u003e\n      \u003cth\u003eNaturalAvalanches\u003c/th\u003e\n    \u003c/tr\u003e\n    \u003ctr\u003e\n      \u003cth\u003eindex\u003c/th\u003e\n      \u003cth\u003e\u003c/th\u003e\n      \u003cth\u003e\u003c/th\u003e\n      \u003cth\u003e\u003c/th\u003e\n      \u003cth\u003e\u003c/th\u003e\n      \u003cth\u003e\u003c/th\u003e\n      \u003cth\u003e\u003c/th\u003e\n      \u003cth\u003e\u003c/th\u003e\n      \u003cth\u003e\u003c/th\u003e\n      \u003cth\u003e\u003c/th\u003e\n      \u003cth\u003e\u003c/th\u003e\n      \u003cth\u003e\u003c/th\u003e\n      \u003cth\u003e\u003c/th\u003e\n      \u003cth\u003e\u003c/th\u003e\n      \u003cth\u003e\u003c/th\u003e\n      \u003cth\u003e\u003c/th\u003e\n      \u003cth\u003e\u003c/th\u003e\n      \u003cth\u003e\u003c/th\u003e\n      \u003cth\u003e\u003c/th\u003e\n    \u003c/tr\u003e\n  \u003c/thead\u003e\n  \u003ctbody\u003e\n    \u003ctr\u003e\n      \u003cth\u003e0\u003c/th\u003e\n      \u003ctd\u003e2018-12-01\u003c/td\u003e\n      \u003ctd\u003e10\u003c/td\u003e\n      \u003ctd\u003eNedføyket svakt lag med nysnø\u003c/td\u003e\n      \u003ctd\u003e1\u003c/td\u003e\n      \u003ctd\u003e500\u003c/td\u003e\n      \u003ctd\u003e15\u003c/td\u003e\n      \u003ctd\u003e3\u003c/td\u003e\n      \u003ctd\u003e0\u003c/td\u003e\n      \u003ctd\u003e2\u003c/td\u003e\n      \u003ctd\u003e0\u003c/td\u003e\n      \u003ctd\u003e700\u003c/td\u003e\n      \u003ctd\u003eBris\u003c/td\u003e\n      \u003ctd\u003e4\u003c/td\u003e\n      \u003ctd\u003eSE\u003c/td\u003e\n      \u003ctd\u003e4\u003c/td\u003e\n      \u003ctd\u003e17.906\u003c/td\u003e\n      \u003ctd\u003e3011.0\u003c/td\u003e\n      \u003ctd\u003e0.0\u003c/td\u003e\n    \u003c/tr\u003e\n    \u003ctr\u003e\n      \u003cth\u003e1\u003c/th\u003e\n      \u003ctd\u003e2018-12-02\u003c/td\u003e\n      \u003ctd\u003e10\u003c/td\u003e\n      \u003ctd\u003eNedføyket svakt lag med nysnø\u003c/td\u003e\n      \u003ctd\u003e1\u003c/td\u003e\n      \u003ctd\u003e500\u003c/td\u003e\n      \u003ctd\u003e5\u003c/td\u003e\n      \u003ctd\u003e3\u003c/td\u003e\n      \u003ctd\u003e-2\u003c/td\u003e\n      \u003ctd\u003e1\u003c/td\u003e\n      \u003ctd\u003e0\u003c/td\u003e\n      \u003ctd\u003e700\u003c/td\u003e\n      \u003ctd\u003eFrisk bris\u003c/td\u003e\n      \u003ctd\u003e5\u003c/td\u003e\n      \u003ctd\u003eSE\u003c/td\u003e\n      \u003ctd\u003e4\u003c/td\u003e\n      \u003ctd\u003e12.399\u003c/td\u003e\n      \u003ctd\u003e3011.0\u003c/td\u003e\n      \u003ctd\u003e0.0\u003c/td\u003e\n    \u003c/tr\u003e\n    \u003ctr\u003e\n      \u003cth\u003e2\u003c/th\u003e\n      \u003ctd\u003e2018-12-03\u003c/td\u003e\n      \u003ctd\u003e10\u003c/td\u003e\n      \u003ctd\u003eNedføyket svakt lag med nysnø\u003c/td\u003e\n      \u003ctd\u003e1\u003c/td\u003e\n      \u003ctd\u003e400\u003c/td\u003e\n      \u003ctd\u003e21\u003c/td\u003e\n      \u003ctd\u003e2\u003c/td\u003e\n      \u003ctd\u003e-2\u003c/td\u003e\n      \u003ctd\u003e0\u003c/td\u003e\n      \u003ctd\u003e0\u003c/td\u003e\n      \u003ctd\u003e700\u003c/td\u003e\n      \u003ctd\u003eBris\u003c/td\u003e\n      \u003ctd\u003e4\u003c/td\u003e\n      \u003ctd\u003eSE\u003c/td\u003e\n      \u003ctd\u003e4\u003c/td\u003e\n      \u003ctd\u003e16.469\u003c/td\u003e\n      \u003ctd\u003e3011.0\u003c/td\u003e\n      \u003ctd\u003e0.0\u003c/td\u003e\n    \u003c/tr\u003e\n    \u003ctr\u003e\n      \u003cth\u003e3\u003c/th\u003e\n      \u003ctd\u003e2018-12-04\u003c/td\u003e\n      \u003ctd\u003e10\u003c/td\u003e\n      \u003ctd\u003eNedføyket svakt lag med nysnø\u003c/td\u003e\n      \u003ctd\u003e1\u003c/td\u003e\n      \u003ctd\u003e400\u003c/td\u003e\n      \u003ctd\u003e1\u003c/td\u003e\n      \u003ctd\u003e0\u003c/td\u003e\n      \u003ctd\u003e-4\u003c/td\u003e\n      \u003ctd\u003e2\u003c/td\u003e\n      \u003ctd\u003e1\u003c/td\u003e\n      \u003ctd\u003e700\u003c/td\u003e\n      \u003ctd\u003eBris\u003c/td\u003e\n      \u003ctd\u003e4\u003c/td\u003e\n      \u003ctd\u003eSW\u003c/td\u003e\n      \u003ctd\u003e6\u003c/td\u003e\n      \u003ctd\u003e21.010\u003c/td\u003e\n      \u003ctd\u003e3011.0\u003c/td\u003e\n      \u003ctd\u003e0.0\u003c/td\u003e\n    \u003c/tr\u003e\n    \u003ctr\u003e\n      \u003cth\u003e4\u003c/th\u003e\n      \u003ctd\u003e2018-12-05\u003c/td\u003e\n      \u003ctd\u003e15\u003c/td\u003e\n      \u003ctd\u003eDårlig binding mellom lag i fokksnøen\u003c/td\u003e\n      \u003ctd\u003e1\u003c/td\u003e\n      \u003ctd\u003e300\u003c/td\u003e\n      \u003ctd\u003e15\u003c/td\u003e\n      \u003ctd\u003e0\u003c/td\u003e\n      \u003ctd\u003e-3\u003c/td\u003e\n      \u003ctd\u003e6\u003c/td\u003e\n      \u003ctd\u003e4\u003c/td\u003e\n      \u003ctd\u003e700\u003c/td\u003e\n      \u003ctd\u003eBris\u003c/td\u003e\n      \u003ctd\u003e4\u003c/td\u003e\n      \u003ctd\u003eSW\u003c/td\u003e\n      \u003ctd\u003e6\u003c/td\u003e\n      \u003ctd\u003e56.892\u003c/td\u003e\n      \u003ctd\u003e3011.0\u003c/td\u003e\n      \u003ctd\u003e0.0\u003c/td\u003e\n    \u003c/tr\u003e\n  \u003c/tbody\u003e\n\u003c/table\u003e\n\u003c/div\u003e"
          },
          "metadata": {},
          "output_type": "execute_result",
          "execution_count": 9
        }
      ],
      "source": "df \u003d pd.read_csv(data_pth, index_col\u003d0)\ndf.head()",
      "metadata": {
        "pycharm": {
          "metadata": false,
          "name": "#%%\n",
          "is_executing": false
        }
      }
    },
    {
      "cell_type": "code",
      "execution_count": 12,
      "outputs": [
        {
          "data": {
            "text/plain": "Index([\u0027Date1\u0027, \u0027avalanche_problem_1_cause_id\u0027,\n       \u0027avalanche_problem_1_cause_name\u0027, \u0027DangerLevel\u0027,\n       \u0027FreezingLevelAltitude\u0027, \u0027FreezingLevelTime\u0027, \u0027MaxTemperature\u0027,\n       \u0027MinTemperature\u0027, \u0027Precipitation_MostExposed_Median\u0027,\n       \u0027Precipitation_overall_ThirdQuartile\u0027, \u0027TemperatureElevation\u0027,\n       \u0027WindClassification\u0027, \u0027WindClassificationNumerical\u0027, \u0027WindDirection\u0027,\n       \u0027WindDirectionNumeric\u0027, \u0027WindPercentage\u0027, \u0027RegionId\u0027,\n       \u0027NaturalAvalanches\u0027, \u0027DangerLevel_prevday\u0027],\n      dtype\u003d\u0027object\u0027)"
          },
          "metadata": {},
          "output_type": "execute_result",
          "execution_count": 12
        }
      ],
      "source": "df.columns",
      "metadata": {
        "pycharm": {
          "metadata": false,
          "name": "#%%\n",
          "is_executing": false
        }
      }
    },
    {
      "cell_type": "code",
      "execution_count": 10,
      "outputs": [],
      "source": "df[\u0027DangerLevel_prevday\u0027] \u003d df[\u0027DangerLevel\u0027].shift(1)",
      "metadata": {
        "pycharm": {
          "metadata": false,
          "name": "#%%\n",
          "is_executing": false
        }
      }
    },
    {
      "cell_type": "code",
      "execution_count": 11,
      "outputs": [
        {
          "data": {
            "text/plain": "            Date1  avalanche_problem_1_cause_id  \\\nindex                                             \n0      2018-12-01                            10   \n1      2018-12-02                            10   \n2      2018-12-03                            10   \n3      2018-12-04                            10   \n4      2018-12-05                            15   \n\n              avalanche_problem_1_cause_name  DangerLevel  \\\nindex                                                       \n0              Nedføyket svakt lag med nysnø            1   \n1              Nedføyket svakt lag med nysnø            1   \n2              Nedføyket svakt lag med nysnø            1   \n3              Nedføyket svakt lag med nysnø            1   \n4      Dårlig binding mellom lag i fokksnøen            1   \n\n       FreezingLevelAltitude  FreezingLevelTime  MaxTemperature  \\\nindex                                                             \n0                        500                 15               3   \n1                        500                  5               3   \n2                        400                 21               2   \n3                        400                  1               0   \n4                        300                 15               0   \n\n       MinTemperature  Precipitation_MostExposed_Median  \\\nindex                                                     \n0                   0                                 2   \n1                  -2                                 1   \n2                  -2                                 0   \n3                  -4                                 2   \n4                  -3                                 6   \n\n       Precipitation_overall_ThirdQuartile  TemperatureElevation  \\\nindex                                                              \n0                                        0                   700   \n1                                        0                   700   \n2                                        0                   700   \n3                                        1                   700   \n4                                        4                   700   \n\n      WindClassification  WindClassificationNumerical WindDirection  \\\nindex                                                                 \n0                   Bris                            4            SE   \n1             Frisk bris                            5            SE   \n2                   Bris                            4            SE   \n3                   Bris                            4            SW   \n4                   Bris                            4            SW   \n\n       WindDirectionNumeric  WindPercentage  RegionId  NaturalAvalanches  \\\nindex                                                                      \n0                         4          17.906    3011.0                0.0   \n1                         4          12.399    3011.0                0.0   \n2                         4          16.469    3011.0                0.0   \n3                         6          21.010    3011.0                0.0   \n4                         6          56.892    3011.0                0.0   \n\n       DangerLevel_prevday  \nindex                       \n0                      NaN  \n1                      1.0  \n2                      1.0  \n3                      1.0  \n4                      1.0  ",
            "text/html": "\u003cdiv\u003e\n\u003cstyle scoped\u003e\n    .dataframe tbody tr th:only-of-type {\n        vertical-align: middle;\n    }\n\n    .dataframe tbody tr th {\n        vertical-align: top;\n    }\n\n    .dataframe thead th {\n        text-align: right;\n    }\n\u003c/style\u003e\n\u003ctable border\u003d\"1\" class\u003d\"dataframe\"\u003e\n  \u003cthead\u003e\n    \u003ctr style\u003d\"text-align: right;\"\u003e\n      \u003cth\u003e\u003c/th\u003e\n      \u003cth\u003eDate1\u003c/th\u003e\n      \u003cth\u003eavalanche_problem_1_cause_id\u003c/th\u003e\n      \u003cth\u003eavalanche_problem_1_cause_name\u003c/th\u003e\n      \u003cth\u003eDangerLevel\u003c/th\u003e\n      \u003cth\u003eFreezingLevelAltitude\u003c/th\u003e\n      \u003cth\u003eFreezingLevelTime\u003c/th\u003e\n      \u003cth\u003eMaxTemperature\u003c/th\u003e\n      \u003cth\u003eMinTemperature\u003c/th\u003e\n      \u003cth\u003ePrecipitation_MostExposed_Median\u003c/th\u003e\n      \u003cth\u003ePrecipitation_overall_ThirdQuartile\u003c/th\u003e\n      \u003cth\u003eTemperatureElevation\u003c/th\u003e\n      \u003cth\u003eWindClassification\u003c/th\u003e\n      \u003cth\u003eWindClassificationNumerical\u003c/th\u003e\n      \u003cth\u003eWindDirection\u003c/th\u003e\n      \u003cth\u003eWindDirectionNumeric\u003c/th\u003e\n      \u003cth\u003eWindPercentage\u003c/th\u003e\n      \u003cth\u003eRegionId\u003c/th\u003e\n      \u003cth\u003eNaturalAvalanches\u003c/th\u003e\n      \u003cth\u003eDangerLevel_prevday\u003c/th\u003e\n    \u003c/tr\u003e\n    \u003ctr\u003e\n      \u003cth\u003eindex\u003c/th\u003e\n      \u003cth\u003e\u003c/th\u003e\n      \u003cth\u003e\u003c/th\u003e\n      \u003cth\u003e\u003c/th\u003e\n      \u003cth\u003e\u003c/th\u003e\n      \u003cth\u003e\u003c/th\u003e\n      \u003cth\u003e\u003c/th\u003e\n      \u003cth\u003e\u003c/th\u003e\n      \u003cth\u003e\u003c/th\u003e\n      \u003cth\u003e\u003c/th\u003e\n      \u003cth\u003e\u003c/th\u003e\n      \u003cth\u003e\u003c/th\u003e\n      \u003cth\u003e\u003c/th\u003e\n      \u003cth\u003e\u003c/th\u003e\n      \u003cth\u003e\u003c/th\u003e\n      \u003cth\u003e\u003c/th\u003e\n      \u003cth\u003e\u003c/th\u003e\n      \u003cth\u003e\u003c/th\u003e\n      \u003cth\u003e\u003c/th\u003e\n      \u003cth\u003e\u003c/th\u003e\n    \u003c/tr\u003e\n  \u003c/thead\u003e\n  \u003ctbody\u003e\n    \u003ctr\u003e\n      \u003cth\u003e0\u003c/th\u003e\n      \u003ctd\u003e2018-12-01\u003c/td\u003e\n      \u003ctd\u003e10\u003c/td\u003e\n      \u003ctd\u003eNedføyket svakt lag med nysnø\u003c/td\u003e\n      \u003ctd\u003e1\u003c/td\u003e\n      \u003ctd\u003e500\u003c/td\u003e\n      \u003ctd\u003e15\u003c/td\u003e\n      \u003ctd\u003e3\u003c/td\u003e\n      \u003ctd\u003e0\u003c/td\u003e\n      \u003ctd\u003e2\u003c/td\u003e\n      \u003ctd\u003e0\u003c/td\u003e\n      \u003ctd\u003e700\u003c/td\u003e\n      \u003ctd\u003eBris\u003c/td\u003e\n      \u003ctd\u003e4\u003c/td\u003e\n      \u003ctd\u003eSE\u003c/td\u003e\n      \u003ctd\u003e4\u003c/td\u003e\n      \u003ctd\u003e17.906\u003c/td\u003e\n      \u003ctd\u003e3011.0\u003c/td\u003e\n      \u003ctd\u003e0.0\u003c/td\u003e\n      \u003ctd\u003eNaN\u003c/td\u003e\n    \u003c/tr\u003e\n    \u003ctr\u003e\n      \u003cth\u003e1\u003c/th\u003e\n      \u003ctd\u003e2018-12-02\u003c/td\u003e\n      \u003ctd\u003e10\u003c/td\u003e\n      \u003ctd\u003eNedføyket svakt lag med nysnø\u003c/td\u003e\n      \u003ctd\u003e1\u003c/td\u003e\n      \u003ctd\u003e500\u003c/td\u003e\n      \u003ctd\u003e5\u003c/td\u003e\n      \u003ctd\u003e3\u003c/td\u003e\n      \u003ctd\u003e-2\u003c/td\u003e\n      \u003ctd\u003e1\u003c/td\u003e\n      \u003ctd\u003e0\u003c/td\u003e\n      \u003ctd\u003e700\u003c/td\u003e\n      \u003ctd\u003eFrisk bris\u003c/td\u003e\n      \u003ctd\u003e5\u003c/td\u003e\n      \u003ctd\u003eSE\u003c/td\u003e\n      \u003ctd\u003e4\u003c/td\u003e\n      \u003ctd\u003e12.399\u003c/td\u003e\n      \u003ctd\u003e3011.0\u003c/td\u003e\n      \u003ctd\u003e0.0\u003c/td\u003e\n      \u003ctd\u003e1.0\u003c/td\u003e\n    \u003c/tr\u003e\n    \u003ctr\u003e\n      \u003cth\u003e2\u003c/th\u003e\n      \u003ctd\u003e2018-12-03\u003c/td\u003e\n      \u003ctd\u003e10\u003c/td\u003e\n      \u003ctd\u003eNedføyket svakt lag med nysnø\u003c/td\u003e\n      \u003ctd\u003e1\u003c/td\u003e\n      \u003ctd\u003e400\u003c/td\u003e\n      \u003ctd\u003e21\u003c/td\u003e\n      \u003ctd\u003e2\u003c/td\u003e\n      \u003ctd\u003e-2\u003c/td\u003e\n      \u003ctd\u003e0\u003c/td\u003e\n      \u003ctd\u003e0\u003c/td\u003e\n      \u003ctd\u003e700\u003c/td\u003e\n      \u003ctd\u003eBris\u003c/td\u003e\n      \u003ctd\u003e4\u003c/td\u003e\n      \u003ctd\u003eSE\u003c/td\u003e\n      \u003ctd\u003e4\u003c/td\u003e\n      \u003ctd\u003e16.469\u003c/td\u003e\n      \u003ctd\u003e3011.0\u003c/td\u003e\n      \u003ctd\u003e0.0\u003c/td\u003e\n      \u003ctd\u003e1.0\u003c/td\u003e\n    \u003c/tr\u003e\n    \u003ctr\u003e\n      \u003cth\u003e3\u003c/th\u003e\n      \u003ctd\u003e2018-12-04\u003c/td\u003e\n      \u003ctd\u003e10\u003c/td\u003e\n      \u003ctd\u003eNedføyket svakt lag med nysnø\u003c/td\u003e\n      \u003ctd\u003e1\u003c/td\u003e\n      \u003ctd\u003e400\u003c/td\u003e\n      \u003ctd\u003e1\u003c/td\u003e\n      \u003ctd\u003e0\u003c/td\u003e\n      \u003ctd\u003e-4\u003c/td\u003e\n      \u003ctd\u003e2\u003c/td\u003e\n      \u003ctd\u003e1\u003c/td\u003e\n      \u003ctd\u003e700\u003c/td\u003e\n      \u003ctd\u003eBris\u003c/td\u003e\n      \u003ctd\u003e4\u003c/td\u003e\n      \u003ctd\u003eSW\u003c/td\u003e\n      \u003ctd\u003e6\u003c/td\u003e\n      \u003ctd\u003e21.010\u003c/td\u003e\n      \u003ctd\u003e3011.0\u003c/td\u003e\n      \u003ctd\u003e0.0\u003c/td\u003e\n      \u003ctd\u003e1.0\u003c/td\u003e\n    \u003c/tr\u003e\n    \u003ctr\u003e\n      \u003cth\u003e4\u003c/th\u003e\n      \u003ctd\u003e2018-12-05\u003c/td\u003e\n      \u003ctd\u003e15\u003c/td\u003e\n      \u003ctd\u003eDårlig binding mellom lag i fokksnøen\u003c/td\u003e\n      \u003ctd\u003e1\u003c/td\u003e\n      \u003ctd\u003e300\u003c/td\u003e\n      \u003ctd\u003e15\u003c/td\u003e\n      \u003ctd\u003e0\u003c/td\u003e\n      \u003ctd\u003e-3\u003c/td\u003e\n      \u003ctd\u003e6\u003c/td\u003e\n      \u003ctd\u003e4\u003c/td\u003e\n      \u003ctd\u003e700\u003c/td\u003e\n      \u003ctd\u003eBris\u003c/td\u003e\n      \u003ctd\u003e4\u003c/td\u003e\n      \u003ctd\u003eSW\u003c/td\u003e\n      \u003ctd\u003e6\u003c/td\u003e\n      \u003ctd\u003e56.892\u003c/td\u003e\n      \u003ctd\u003e3011.0\u003c/td\u003e\n      \u003ctd\u003e0.0\u003c/td\u003e\n      \u003ctd\u003e1.0\u003c/td\u003e\n    \u003c/tr\u003e\n  \u003c/tbody\u003e\n\u003c/table\u003e\n\u003c/div\u003e"
          },
          "metadata": {},
          "output_type": "execute_result",
          "execution_count": 11
        }
      ],
      "source": "df.head()",
      "metadata": {
        "pycharm": {
          "metadata": false,
          "name": "#%%\n",
          "is_executing": false
        }
      }
    },
    {
      "cell_type": "code",
      "execution_count": 13,
      "outputs": [],
      "source": "df[\u0027AP1_prevday\u0027] \u003d df[\u0027avalanche_problem_1_cause_id\u0027].shift(1)\ndf[\u0027NaturalAvalanches_prevday\u0027] \u003d df[\u0027NaturalAvalanches\u0027].shift(1)\ndf[\u0027Precipitation_overall_ThirdQuartile_prevday\u0027] \u003d df[\u0027Precipitation_overall_ThirdQuartile\u0027].shift(1)\ndf[\u0027Precipitation_MostExposed_Median_prevday\u0027] \u003d df[\u0027Precipitation_MostExposed_Median\u0027].shift(1)\n",
      "metadata": {
        "pycharm": {
          "metadata": false,
          "name": "#%%\n",
          "is_executing": false
        }
      }
    },
    {
      "cell_type": "code",
      "execution_count": 14,
      "outputs": [
        {
          "data": {
            "text/plain": "Index([\u0027Date1\u0027, \u0027avalanche_problem_1_cause_id\u0027,\n       \u0027avalanche_problem_1_cause_name\u0027, \u0027DangerLevel\u0027,\n       \u0027FreezingLevelAltitude\u0027, \u0027FreezingLevelTime\u0027, \u0027MaxTemperature\u0027,\n       \u0027MinTemperature\u0027, \u0027Precipitation_MostExposed_Median\u0027,\n       \u0027Precipitation_overall_ThirdQuartile\u0027, \u0027TemperatureElevation\u0027,\n       \u0027WindClassification\u0027, \u0027WindClassificationNumerical\u0027, \u0027WindDirection\u0027,\n       \u0027WindDirectionNumeric\u0027, \u0027WindPercentage\u0027, \u0027RegionId\u0027,\n       \u0027NaturalAvalanches\u0027, \u0027DangerLevel_prevday\u0027, \u0027AP1_prevday\u0027,\n       \u0027NaturalAvalanches_prevday\u0027,\n       \u0027Precipitation_overall_ThirdQuartile_prevday\u0027,\n       \u0027Precipitation_MostExposed_Median_prevday\u0027],\n      dtype\u003d\u0027object\u0027)"
          },
          "metadata": {},
          "output_type": "execute_result",
          "execution_count": 14
        }
      ],
      "source": "df.columns",
      "metadata": {
        "pycharm": {
          "metadata": false,
          "name": "#%%\n",
          "is_executing": false
        }
      }
    },
    {
      "cell_type": "code",
      "execution_count": 15,
      "outputs": [
        {
          "data": {
            "text/plain": "       Precipitation_MostExposed_Median_prevday  \\\nindex                                             \n0                                           NaN   \n1                                           2.0   \n2                                           1.0   \n3                                           0.0   \n4                                           2.0   \n\n       Precipitation_MostExposed_Median  \nindex                                    \n0                                     2  \n1                                     1  \n2                                     0  \n3                                     2  \n4                                     6  ",
            "text/html": "\u003cdiv\u003e\n\u003cstyle scoped\u003e\n    .dataframe tbody tr th:only-of-type {\n        vertical-align: middle;\n    }\n\n    .dataframe tbody tr th {\n        vertical-align: top;\n    }\n\n    .dataframe thead th {\n        text-align: right;\n    }\n\u003c/style\u003e\n\u003ctable border\u003d\"1\" class\u003d\"dataframe\"\u003e\n  \u003cthead\u003e\n    \u003ctr style\u003d\"text-align: right;\"\u003e\n      \u003cth\u003e\u003c/th\u003e\n      \u003cth\u003ePrecipitation_MostExposed_Median_prevday\u003c/th\u003e\n      \u003cth\u003ePrecipitation_MostExposed_Median\u003c/th\u003e\n    \u003c/tr\u003e\n    \u003ctr\u003e\n      \u003cth\u003eindex\u003c/th\u003e\n      \u003cth\u003e\u003c/th\u003e\n      \u003cth\u003e\u003c/th\u003e\n    \u003c/tr\u003e\n  \u003c/thead\u003e\n  \u003ctbody\u003e\n    \u003ctr\u003e\n      \u003cth\u003e0\u003c/th\u003e\n      \u003ctd\u003eNaN\u003c/td\u003e\n      \u003ctd\u003e2\u003c/td\u003e\n    \u003c/tr\u003e\n    \u003ctr\u003e\n      \u003cth\u003e1\u003c/th\u003e\n      \u003ctd\u003e2.0\u003c/td\u003e\n      \u003ctd\u003e1\u003c/td\u003e\n    \u003c/tr\u003e\n    \u003ctr\u003e\n      \u003cth\u003e2\u003c/th\u003e\n      \u003ctd\u003e1.0\u003c/td\u003e\n      \u003ctd\u003e0\u003c/td\u003e\n    \u003c/tr\u003e\n    \u003ctr\u003e\n      \u003cth\u003e3\u003c/th\u003e\n      \u003ctd\u003e0.0\u003c/td\u003e\n      \u003ctd\u003e2\u003c/td\u003e\n    \u003c/tr\u003e\n    \u003ctr\u003e\n      \u003cth\u003e4\u003c/th\u003e\n      \u003ctd\u003e2.0\u003c/td\u003e\n      \u003ctd\u003e6\u003c/td\u003e\n    \u003c/tr\u003e\n  \u003c/tbody\u003e\n\u003c/table\u003e\n\u003c/div\u003e"
          },
          "metadata": {},
          "output_type": "execute_result",
          "execution_count": 15
        }
      ],
      "source": "df.filter([\u0027Precipitation_MostExposed_Median_prevday\u0027, \u0027Precipitation_MostExposed_Median\u0027]).head()",
      "metadata": {
        "pycharm": {
          "metadata": false,
          "name": "#%%\n",
          "is_executing": false
        }
      }
    },
    {
      "cell_type": "code",
      "execution_count": 24,
      "outputs": [],
      "source": "df_ml \u003d df.drop([\u0027Date1\u0027, \u0027avalanche_problem_1_cause_name\u0027, \u0027RegionId\u0027, \u0027WindDirection\u0027, \u0027WindClassification\u0027], axis\u003d1)",
      "metadata": {
        "pycharm": {
          "metadata": false,
          "name": "#%%\n",
          "is_executing": false
        }
      }
    },
    {
      "cell_type": "code",
      "execution_count": 30,
      "outputs": [],
      "source": "df_ml.dropna(axis\u003d1, inplace\u003dTrue)\n",
      "metadata": {
        "pycharm": {
          "metadata": false,
          "name": "#%%\n",
          "is_executing": false
        }
      }
    },
    {
      "cell_type": "code",
      "execution_count": 25,
      "outputs": [],
      "source": "from sklearn import tree\nfrom sklearn.model_selection import train_test_split",
      "metadata": {
        "pycharm": {
          "metadata": false,
          "name": "#%%\n",
          "is_executing": false
        }
      }
    },
    {
      "cell_type": "code",
      "execution_count": 31,
      "outputs": [],
      "source": "target_ \u003d \u0027DangerLevel\u0027\nX \u003d df_ml.drop([target_, \u0027avalanche_problem_1_cause_id\u0027], axis\u003d1)\ny \u003d df_ml.filter([target_], axis\u003d1)\nX_train, X_test, y_train, y_test \u003d train_test_split(X, y, random_state \u003d 222, test_size \u003d 0.3)",
      "metadata": {
        "pycharm": {
          "metadata": false,
          "name": "#%%\n",
          "is_executing": false
        }
      }
    },
    {
      "cell_type": "code",
      "execution_count": 32,
      "outputs": [
        {
          "data": {
            "text/plain": "       avalanche_problem_1_cause_id  DangerLevel  FreezingLevelAltitude  \\\ncount                    182.000000   182.000000             182.000000   \nmean                      14.186813     2.236264             420.329670   \nstd                        4.958194     0.753777             674.781652   \nmin                       10.000000     1.000000               0.000000   \n25%                       10.000000     2.000000             100.000000   \n50%                       14.000000     2.000000             200.000000   \n75%                       15.000000     3.000000             400.000000   \nmax                       24.000000     4.000000            2500.000000   \n\n       FreezingLevelTime  MaxTemperature  MinTemperature  \\\ncount         182.000000      182.000000      182.000000   \nmean           10.307692       -1.065934       -5.758242   \nstd             6.543002        4.618728        4.652192   \nmin             0.000000      -13.000000      -20.000000   \n25%             5.250000       -4.000000       -9.000000   \n50%            11.000000       -1.000000       -6.000000   \n75%            15.000000        2.000000       -2.000000   \nmax            23.000000       11.000000        5.000000   \n\n       Precipitation_MostExposed_Median  Precipitation_overall_ThirdQuartile  \\\ncount                        182.000000                           182.000000   \nmean                           5.972527                             4.120879   \nstd                            8.623129                             5.710967   \nmin                            0.000000                             0.000000   \n25%                            0.000000                             0.000000   \n50%                            3.000000                             1.500000   \n75%                            8.000000                             6.000000   \nmax                           60.000000                            30.000000   \n\n       TemperatureElevation  WindClassificationNumerical  \\\ncount                 182.0                   182.000000   \nmean                  700.0                     4.615385   \nstd                     0.0                     1.158864   \nmin                   700.0                     2.000000   \n25%                   700.0                     4.000000   \n50%                   700.0                     4.000000   \n75%                   700.0                     5.000000   \nmax                   700.0                     8.000000   \n\n       WindDirectionNumeric  WindPercentage  NaturalAvalanches  \ncount            182.000000      182.000000         182.000000  \nmean               4.637363       21.602890           0.252747  \nstd                2.094542        7.752106           0.435786  \nmin                1.000000       10.368000           0.000000  \n25%                3.000000       15.656250           0.000000  \n50%                6.000000       20.235500           0.000000  \n75%                6.000000       26.311500           0.750000  \nmax                8.000000       56.892000           1.000000  ",
            "text/html": "\u003cdiv\u003e\n\u003cstyle scoped\u003e\n    .dataframe tbody tr th:only-of-type {\n        vertical-align: middle;\n    }\n\n    .dataframe tbody tr th {\n        vertical-align: top;\n    }\n\n    .dataframe thead th {\n        text-align: right;\n    }\n\u003c/style\u003e\n\u003ctable border\u003d\"1\" class\u003d\"dataframe\"\u003e\n  \u003cthead\u003e\n    \u003ctr style\u003d\"text-align: right;\"\u003e\n      \u003cth\u003e\u003c/th\u003e\n      \u003cth\u003eavalanche_problem_1_cause_id\u003c/th\u003e\n      \u003cth\u003eDangerLevel\u003c/th\u003e\n      \u003cth\u003eFreezingLevelAltitude\u003c/th\u003e\n      \u003cth\u003eFreezingLevelTime\u003c/th\u003e\n      \u003cth\u003eMaxTemperature\u003c/th\u003e\n      \u003cth\u003eMinTemperature\u003c/th\u003e\n      \u003cth\u003ePrecipitation_MostExposed_Median\u003c/th\u003e\n      \u003cth\u003ePrecipitation_overall_ThirdQuartile\u003c/th\u003e\n      \u003cth\u003eTemperatureElevation\u003c/th\u003e\n      \u003cth\u003eWindClassificationNumerical\u003c/th\u003e\n      \u003cth\u003eWindDirectionNumeric\u003c/th\u003e\n      \u003cth\u003eWindPercentage\u003c/th\u003e\n      \u003cth\u003eNaturalAvalanches\u003c/th\u003e\n    \u003c/tr\u003e\n  \u003c/thead\u003e\n  \u003ctbody\u003e\n    \u003ctr\u003e\n      \u003cth\u003ecount\u003c/th\u003e\n      \u003ctd\u003e182.000000\u003c/td\u003e\n      \u003ctd\u003e182.000000\u003c/td\u003e\n      \u003ctd\u003e182.000000\u003c/td\u003e\n      \u003ctd\u003e182.000000\u003c/td\u003e\n      \u003ctd\u003e182.000000\u003c/td\u003e\n      \u003ctd\u003e182.000000\u003c/td\u003e\n      \u003ctd\u003e182.000000\u003c/td\u003e\n      \u003ctd\u003e182.000000\u003c/td\u003e\n      \u003ctd\u003e182.0\u003c/td\u003e\n      \u003ctd\u003e182.000000\u003c/td\u003e\n      \u003ctd\u003e182.000000\u003c/td\u003e\n      \u003ctd\u003e182.000000\u003c/td\u003e\n      \u003ctd\u003e182.000000\u003c/td\u003e\n    \u003c/tr\u003e\n    \u003ctr\u003e\n      \u003cth\u003emean\u003c/th\u003e\n      \u003ctd\u003e14.186813\u003c/td\u003e\n      \u003ctd\u003e2.236264\u003c/td\u003e\n      \u003ctd\u003e420.329670\u003c/td\u003e\n      \u003ctd\u003e10.307692\u003c/td\u003e\n      \u003ctd\u003e-1.065934\u003c/td\u003e\n      \u003ctd\u003e-5.758242\u003c/td\u003e\n      \u003ctd\u003e5.972527\u003c/td\u003e\n      \u003ctd\u003e4.120879\u003c/td\u003e\n      \u003ctd\u003e700.0\u003c/td\u003e\n      \u003ctd\u003e4.615385\u003c/td\u003e\n      \u003ctd\u003e4.637363\u003c/td\u003e\n      \u003ctd\u003e21.602890\u003c/td\u003e\n      \u003ctd\u003e0.252747\u003c/td\u003e\n    \u003c/tr\u003e\n    \u003ctr\u003e\n      \u003cth\u003estd\u003c/th\u003e\n      \u003ctd\u003e4.958194\u003c/td\u003e\n      \u003ctd\u003e0.753777\u003c/td\u003e\n      \u003ctd\u003e674.781652\u003c/td\u003e\n      \u003ctd\u003e6.543002\u003c/td\u003e\n      \u003ctd\u003e4.618728\u003c/td\u003e\n      \u003ctd\u003e4.652192\u003c/td\u003e\n      \u003ctd\u003e8.623129\u003c/td\u003e\n      \u003ctd\u003e5.710967\u003c/td\u003e\n      \u003ctd\u003e0.0\u003c/td\u003e\n      \u003ctd\u003e1.158864\u003c/td\u003e\n      \u003ctd\u003e2.094542\u003c/td\u003e\n      \u003ctd\u003e7.752106\u003c/td\u003e\n      \u003ctd\u003e0.435786\u003c/td\u003e\n    \u003c/tr\u003e\n    \u003ctr\u003e\n      \u003cth\u003emin\u003c/th\u003e\n      \u003ctd\u003e10.000000\u003c/td\u003e\n      \u003ctd\u003e1.000000\u003c/td\u003e\n      \u003ctd\u003e0.000000\u003c/td\u003e\n      \u003ctd\u003e0.000000\u003c/td\u003e\n      \u003ctd\u003e-13.000000\u003c/td\u003e\n      \u003ctd\u003e-20.000000\u003c/td\u003e\n      \u003ctd\u003e0.000000\u003c/td\u003e\n      \u003ctd\u003e0.000000\u003c/td\u003e\n      \u003ctd\u003e700.0\u003c/td\u003e\n      \u003ctd\u003e2.000000\u003c/td\u003e\n      \u003ctd\u003e1.000000\u003c/td\u003e\n      \u003ctd\u003e10.368000\u003c/td\u003e\n      \u003ctd\u003e0.000000\u003c/td\u003e\n    \u003c/tr\u003e\n    \u003ctr\u003e\n      \u003cth\u003e25%\u003c/th\u003e\n      \u003ctd\u003e10.000000\u003c/td\u003e\n      \u003ctd\u003e2.000000\u003c/td\u003e\n      \u003ctd\u003e100.000000\u003c/td\u003e\n      \u003ctd\u003e5.250000\u003c/td\u003e\n      \u003ctd\u003e-4.000000\u003c/td\u003e\n      \u003ctd\u003e-9.000000\u003c/td\u003e\n      \u003ctd\u003e0.000000\u003c/td\u003e\n      \u003ctd\u003e0.000000\u003c/td\u003e\n      \u003ctd\u003e700.0\u003c/td\u003e\n      \u003ctd\u003e4.000000\u003c/td\u003e\n      \u003ctd\u003e3.000000\u003c/td\u003e\n      \u003ctd\u003e15.656250\u003c/td\u003e\n      \u003ctd\u003e0.000000\u003c/td\u003e\n    \u003c/tr\u003e\n    \u003ctr\u003e\n      \u003cth\u003e50%\u003c/th\u003e\n      \u003ctd\u003e14.000000\u003c/td\u003e\n      \u003ctd\u003e2.000000\u003c/td\u003e\n      \u003ctd\u003e200.000000\u003c/td\u003e\n      \u003ctd\u003e11.000000\u003c/td\u003e\n      \u003ctd\u003e-1.000000\u003c/td\u003e\n      \u003ctd\u003e-6.000000\u003c/td\u003e\n      \u003ctd\u003e3.000000\u003c/td\u003e\n      \u003ctd\u003e1.500000\u003c/td\u003e\n      \u003ctd\u003e700.0\u003c/td\u003e\n      \u003ctd\u003e4.000000\u003c/td\u003e\n      \u003ctd\u003e6.000000\u003c/td\u003e\n      \u003ctd\u003e20.235500\u003c/td\u003e\n      \u003ctd\u003e0.000000\u003c/td\u003e\n    \u003c/tr\u003e\n    \u003ctr\u003e\n      \u003cth\u003e75%\u003c/th\u003e\n      \u003ctd\u003e15.000000\u003c/td\u003e\n      \u003ctd\u003e3.000000\u003c/td\u003e\n      \u003ctd\u003e400.000000\u003c/td\u003e\n      \u003ctd\u003e15.000000\u003c/td\u003e\n      \u003ctd\u003e2.000000\u003c/td\u003e\n      \u003ctd\u003e-2.000000\u003c/td\u003e\n      \u003ctd\u003e8.000000\u003c/td\u003e\n      \u003ctd\u003e6.000000\u003c/td\u003e\n      \u003ctd\u003e700.0\u003c/td\u003e\n      \u003ctd\u003e5.000000\u003c/td\u003e\n      \u003ctd\u003e6.000000\u003c/td\u003e\n      \u003ctd\u003e26.311500\u003c/td\u003e\n      \u003ctd\u003e0.750000\u003c/td\u003e\n    \u003c/tr\u003e\n    \u003ctr\u003e\n      \u003cth\u003emax\u003c/th\u003e\n      \u003ctd\u003e24.000000\u003c/td\u003e\n      \u003ctd\u003e4.000000\u003c/td\u003e\n      \u003ctd\u003e2500.000000\u003c/td\u003e\n      \u003ctd\u003e23.000000\u003c/td\u003e\n      \u003ctd\u003e11.000000\u003c/td\u003e\n      \u003ctd\u003e5.000000\u003c/td\u003e\n      \u003ctd\u003e60.000000\u003c/td\u003e\n      \u003ctd\u003e30.000000\u003c/td\u003e\n      \u003ctd\u003e700.0\u003c/td\u003e\n      \u003ctd\u003e8.000000\u003c/td\u003e\n      \u003ctd\u003e8.000000\u003c/td\u003e\n      \u003ctd\u003e56.892000\u003c/td\u003e\n      \u003ctd\u003e1.000000\u003c/td\u003e\n    \u003c/tr\u003e\n  \u003c/tbody\u003e\n\u003c/table\u003e\n\u003c/div\u003e"
          },
          "metadata": {},
          "output_type": "execute_result",
          "execution_count": 32
        }
      ],
      "source": "df_ml.describe()",
      "metadata": {
        "pycharm": {
          "metadata": false,
          "name": "#%%\n",
          "is_executing": false
        }
      }
    },
    {
      "cell_type": "code",
      "execution_count": 33,
      "outputs": [
        {
          "name": "stdout",
          "text": [
            "NaturalAvalanches                      0\nWindPercentage                         0\nWindDirectionNumeric                   0\nWindClassificationNumerical            0\nTemperatureElevation                   0\nPrecipitation_overall_ThirdQuartile    0\nPrecipitation_MostExposed_Median       0\nMinTemperature                         0\nMaxTemperature                         0\nFreezingLevelTime                      0\nFreezingLevelAltitude                  0\nDangerLevel                            0\navalanche_problem_1_cause_id           0\ndtype: int64\n"
          ],
          "output_type": "stream"
        }
      ],
      "source": "print(df_ml.isna().sum().sort_values(ascending\u003dFalse))\n",
      "metadata": {
        "pycharm": {
          "metadata": false,
          "name": "#%%\n",
          "is_executing": false
        }
      }
    },
    {
      "cell_type": "code",
      "execution_count": 40,
      "outputs": [
        {
          "name": "stdout",
          "text": [
            "(55,) (55, 1)\n2 Decision tree R^2: 0.4371\n(55,) (55, 1)\n3 Decision tree R^2: 0.5185\n(55,) (55, 1)\n4 Decision tree R^2: 0.4772\n(55,) (55, 1)\n5 Decision tree R^2: 0.4883\n(55,) (55, 1)\n6 Decision tree R^2: 0.5176\n(55,) (55, 1)\n7 Decision tree R^2: 0.5182\n(55,) (55, 1)\n8 Decision tree R^2: 0.4900\n(55,) (55, 1)\n9 Decision tree R^2: 0.4866\n(55,) (55, 1)\n10 Decision tree R^2: 0.4970\n(55,) (55, 1)\n11 Decision tree R^2: 0.4024\n(55,) (55, 1)\n12 Decision tree R^2: 0.4850\n(55,) (55, 1)\n13 Decision tree R^2: 0.4966\n(55,) (55, 1)\n14 Decision tree R^2: 0.2317\n(55,) (55, 1)\n15 Decision tree R^2: 0.2317\n(55,) (55, 1)\n16 Decision tree R^2: 0.2317\n(55,) (55, 1)\n17 Decision tree R^2: 0.2317\n(55,) (55, 1)\n18 Decision tree R^2: 0.2317\n(55,) (55, 1)\n19 Decision tree R^2: 0.2317\n"
          ],
          "output_type": "stream"
        }
      ],
      "source": "score_ \u003d []\nfor i in range(2,20):\n    dec_tree \u003d tree.DecisionTreeRegressor(random_state\u003d222, max_depth \u003d i)\n    \n    dec_tree.fit(X_train, y_train) # we\u0027re using the same data as in last linear model\n    \n    predictions_dt \u003d dec_tree.predict(X_test)\n    print(predictions_dt.shape, y_test.shape)\n    score_.append(dec_tree.score(X_test, y_test))\n    print(i, \u0027Decision tree R^2: %.4f\u0027 % dec_tree.score(X_test, y_test)) ",
      "metadata": {
        "pycharm": {
          "metadata": false,
          "name": "#%%\n",
          "is_executing": false
        }
      }
    },
    {
      "cell_type": "code",
      "execution_count": null,
      "outputs": [],
      "source": "\n",
      "metadata": {
        "pycharm": {
          "metadata": false,
          "name": "#%%\n"
        }
      }
    }
  ],
  "metadata": {
    "language_info": {
      "codemirror_mode": {
        "name": "ipython",
        "version": 2
      },
      "file_extension": ".py",
      "mimetype": "text/x-python",
      "name": "python",
      "nbconvert_exporter": "python",
      "pygments_lexer": "ipython2",
      "version": "2.7.6"
    },
    "kernelspec": {
      "name": "python3",
      "language": "python",
      "display_name": "Python 3"
    }
  },
  "nbformat": 4,
  "nbformat_minor": 0
}