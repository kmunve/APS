{
 "cells": [
  {
   "cell_type": "markdown",
   "metadata": {},
   "source": [
    "# Regional cloud cover"
   ]
  },
  {
   "cell_type": "code",
   "execution_count": 1,
   "metadata": {
    "collapsed": false
   },
   "outputs": [],
   "source": [
    "# -*- coding: utf-8 -*-\n",
    "%matplotlib inline\n",
    "\n",
    "import matplotlib.patches as patches\n",
    "import pylab as plt\n",
    "plt.rcParams['figure.figsize'] = (14, 6)\n",
    "\n",
    "import datetime\n",
    "import numpy as np\n",
    "import netCDF4\n",
    "\n",
    "import warnings\n",
    "warnings.filterwarnings(\"ignore\")\n",
    "\n",
    "from aps.load_region import load_region, clip_region"
   ]
  },
  {
   "cell_type": "code",
   "execution_count": 2,
   "metadata": {
    "collapsed": false
   },
   "outputs": [
    {
     "name": "stdout",
     "output_type": "stream",
     "text": [
      "2018-01-24 12:00:00\n"
     ]
    }
   ],
   "source": [
    "nc = netCDF4.Dataset(r\"\\\\hdata\\grid\\tmp\\kmu\\meps\\meps_det_pp_1km_latest.nc\", \"r\")\n",
    "\n",
    "time_v = nc.variables['time']\n",
    "\n",
    "# Choose a time-step\n",
    "t_index = 6\n",
    "# Choose a pressure level (if applicable)\n",
    "p_index = 12 # 12=1000hPa, 11=925hPa, 10=850hPa, ..., 7=500hPa, ..., 0=50hPa in arome_metcoop_test\n",
    "\n",
    "ts = netCDF4.num2date(time_v[t_index], time_v.units)\n",
    "print(ts)"
   ]
  },
  {
   "cell_type": "code",
   "execution_count": 7,
   "metadata": {
    "collapsed": false
   },
   "outputs": [],
   "source": [
    "# Only for 1km grid\n",
    "region_mask, y_min, y_max, x_min, x_max = load_region(3014)"
   ]
  },
  {
   "cell_type": "code",
   "execution_count": 8,
   "metadata": {
    "collapsed": false
   },
   "outputs": [],
   "source": [
    "wind_gust = clip_region(nc.variables['wind_speed_of_gust'], region_mask, y_min, y_max, x_min, x_max)\n",
    "\n",
    " \n",
    "# clouds\n",
    "cloud_cover = clip_region(nc.variables['cloud_area_fraction'], region_mask, y_min, y_max, x_min, x_max)\n",
    "low_clouds = clip_region(nc.variables['low_type_cloud_area_fraction'], region_mask, y_min, y_max, x_min, x_max)\n",
    "medium_clouds = clip_region(nc.variables['medium_type_cloud_area_fraction'], region_mask, y_min, y_max, x_min, x_max)\n",
    "high_clouds = clip_region(nc.variables['high_type_cloud_area_fraction'], region_mask, y_min, y_max, x_min, x_max)"
   ]
  },
  {
   "cell_type": "code",
   "execution_count": 12,
   "metadata": {
    "collapsed": false,
    "scrolled": true
   },
   "outputs": [
    {
     "data": {
      "image/png": "[encoded data removed]",
      "text/plain": [
       "<matplotlib.figure.Figure at 0x20bbc393be0>"
      ]
     },
     "metadata": {},
     "output_type": "display_data"
    }
   ],
   "source": [
    "f, (ax1, ax2, ax3, ax4) = plt.subplots(1, 4, sharex=True, sharey=True)\n",
    "\n",
    "colormap = plt.cm.PuBuGn\n",
    "plt1 = ax1.imshow(cloud_cover, cmap=colormap, vmin=0, vmax=100)\n",
    "ax2.imshow(low_clouds, cmap=colormap, vmin=0, vmax=100)\n",
    "ax3.imshow(medium_clouds, cmap=colormap, vmin=0, vmax=100)\n",
    "ax4.imshow(high_clouds, cmap=colormap, vmin=0, vmax=100)\n",
    "\n",
    "plt.colorbar(mappable=plt1)\n",
    "plt.show()"
   ]
  },
  {
   "cell_type": "code",
   "execution_count": 10,
   "metadata": {
    "collapsed": false
   },
   "outputs": [
    {
     "name": "stdout",
     "output_type": "stream",
     "text": [
      "23.362811489 () 43581\n"
     ]
    }
   ],
   "source": [
    "a = np.cumsum(cloud_cover)[-1] / cloud_cover.size\n",
    "print(a, a.shape, cloud_cover.size)"
   ]
  },
  {
   "cell_type": "code",
   "execution_count": null,
   "metadata": {
    "collapsed": true
   },
   "outputs": [],
   "source": []
  },
  {
   "cell_type": "code",
   "execution_count": null,
   "metadata": {
    "collapsed": true
   },
   "outputs": [],
   "source": []
  },
  {
   "cell_type": "code",
   "execution_count": null,
   "metadata": {
    "collapsed": true
   },
   "outputs": [],
   "source": []
  }
 ],
 "metadata": {
  "kernelspec": {
   "display_name": "Python 3",
   "language": "python",
   "name": "python3"
  },
  "language_info": {
   "codemirror_mode": {
    "name": "ipython",
    "version": 3
   },
   "file_extension": ".py",
   "mimetype": "text/x-python",
   "name": "python",
   "nbconvert_exporter": "python",
   "pygments_lexer": "ipython3",
   "version": "3.6.0"
  }
 },
 "nbformat": 4,
 "nbformat_minor": 2
}
