{
 "cells": [
  {
   "cell_type": "markdown",
   "metadata": {},
   "source": [
    "# Regional temperature distribution"
   ]
  },
  {
   "cell_type": "code",
   "execution_count": 1,
   "metadata": {
    "collapsed": false
   },
   "outputs": [
    {
     "name": "stdout",
     "output_type": "stream",
     "text": [
      "C:\\Users\\kmu\\GitHub\\APS\\aps\n"
     ]
    }
   ],
   "source": [
    "import sys\n",
    "import os\n",
    "aps_path = os.path.dirname(os.path.abspath(\".\"))\n",
    "sys.path.append(aps_path)\n",
    "print(aps_path)"
   ]
  },
  {
   "cell_type": "code",
   "execution_count": 2,
   "metadata": {
    "collapsed": false
   },
   "outputs": [],
   "source": [
    "from netCDF4 import Dataset\n",
    "import numpy as np\n",
    "import matplotlib.pyplot as plt\n",
    "from aps_io.get_arome import nc_info, nc_load"
   ]
  },
  {
   "cell_type": "code",
   "execution_count": 3,
   "metadata": {
    "collapsed": true
   },
   "outputs": [],
   "source": [
    "%matplotlib inline"
   ]
  },
  {
   "cell_type": "markdown",
   "metadata": {},
   "source": [
    "Read temperature data from netcdf file and clip to a subregion."
   ]
  },
  {
   "cell_type": "code",
   "execution_count": 13,
   "metadata": {
    "collapsed": false,
    "scrolled": false
   },
   "outputs": [
    {
     "name": "stdout",
     "output_type": "stream",
     "text": [
      "### DIMENSIONS ###\n",
      "OrderedDict([('time', <class 'netCDF4._netCDF4.Dimension'> (unlimited): name = 'time', size = 67\n",
      "), ('rlon', <class 'netCDF4._netCDF4.Dimension'>: name = 'rlon', size = 1060\n",
      "), ('rlat', <class 'netCDF4._netCDF4.Dimension'>: name = 'rlat', size = 3680\n",
      ")])\n",
      "-\ttime\n",
      "-\trlon\n",
      "-\trlat\n",
      "### VARIABLES ###\n",
      "-\ttime\n",
      "-\tforecast_reference_time\n",
      "-\tprojection_3\n",
      "-\trlon\n",
      "-\trlat\n",
      "-\tlongitude\n",
      "-\tlatitude\n",
      "-\taltitude\n",
      "-\tair_temperature_2m\n",
      "Variables 'x' and 'y' are not provided.\n",
      "Variable 'land_area_fraction' is not provided.\n"
     ]
    }
   ],
   "source": [
    "jd, altitude, land_area_fraction, nc_vars = nc_load(\"../data/t2myr_kf0_5km_20161027_00.nc\",\n",
    "                                                    ['air_temperature_2m'], [59.0, 60.0, 8.5, 9.0], [6, 30])\n"
   ]
  },
  {
   "cell_type": "code",
   "execution_count": 14,
   "metadata": {
    "collapsed": false
   },
   "outputs": [
    {
     "name": "stdout",
     "output_type": "stream",
     "text": [
      "[] False\n",
      "{'air_temperature_2m': array([], shape=(24, 1059, 0), dtype=float32)}\n"
     ]
    }
   ],
   "source": [
    "# create elevation masks\n",
    "below500 = np.ma.masked_less_equal(altitude, 500.0).mask\n",
    "print(altitude, below500)\n",
    "print(nc_vars)"
   ]
  },
  {
   "cell_type": "code",
   "execution_count": 8,
   "metadata": {
    "collapsed": false
   },
   "outputs": [
    {
     "name": "stderr",
     "output_type": "stream",
     "text": [
      "C:\\Anaconda\\envs\\Anaconda3\\lib\\site-packages\\matplotlib\\axes\\_base.py:2787: UserWarning: Attempting to set identical left==right results\n",
      "in singular transformations; automatically expanding.\n",
      "left=-0.5, right=-0.5\n",
      "  'left=%s, right=%s') % (left, right))\n"
     ]
    },
    {
     "data": {
      "image/png": "[encoded data removed]",
      "text/plain": [
       "<matplotlib.figure.Figure at 0x89a2f28>"
      ]
     },
     "metadata": {},
     "output_type": "display_data"
    }
   ],
   "source": [
    "temp = np.ma.masked_array(nc_vars['air_temperature_2m'][6, :, :], below500)\n",
    "plt.imshow(temp, aspect='auto')\n",
    "plt.show()"
   ]
  },
  {
   "cell_type": "code",
   "execution_count": null,
   "metadata": {
    "collapsed": true
   },
   "outputs": [],
   "source": []
  }
 ],
 "metadata": {
  "anaconda-cloud": {},
  "kernelspec": {
   "display_name": "Python [conda env:Anaconda3]",
   "language": "python",
   "name": "conda-env-Anaconda3-py"
  },
  "language_info": {
   "codemirror_mode": {
    "name": "ipython",
    "version": 3
   },
   "file_extension": ".py",
   "mimetype": "text/x-python",
   "name": "python",
   "nbconvert_exporter": "python",
   "pygments_lexer": "ipython3",
   "version": "3.5.1"
  }
 },
 "nbformat": 4,
 "nbformat_minor": 0
}
