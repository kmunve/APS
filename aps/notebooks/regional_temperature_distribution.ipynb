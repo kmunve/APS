{
 "cells": [
  {
   "cell_type": "markdown",
   "metadata": {},
   "source": [
    "# Regional temperature distribution"
   ]
  },
  {
   "cell_type": "code",
   "execution_count": 1,
   "metadata": {
    "collapsed": false
   },
   "outputs": [
    {
     "name": "stdout",
     "output_type": "stream",
     "text": [
      "C:\\Users\\kmu\\GitHub\\APS\\aps\n"
     ]
    }
   ],
   "source": [
    "import sys\n",
    "import os\n",
    "aps_path = os.path.dirname(os.path.abspath(\".\"))\n",
    "sys.path.append(aps_path)\n",
    "print(aps_path)"
   ]
  },
  {
   "cell_type": "code",
   "execution_count": 2,
   "metadata": {
    "collapsed": false
   },
   "outputs": [],
   "source": [
    "from netCDF4 import Dataset\n",
    "import numpy as np\n",
    "import matplotlib.pyplot as plt\n",
    "from aps_io.get_arome import nc_info, nc_load"
   ]
  },
  {
   "cell_type": "code",
   "execution_count": 3,
   "metadata": {
    "collapsed": true
   },
   "outputs": [],
   "source": [
    "%matplotlib inline"
   ]
  },
  {
   "cell_type": "markdown",
   "metadata": {},
   "source": [
    "Read temperature data from netcdf file and clip to a subregion."
   ]
  },
  {
   "cell_type": "code",
   "execution_count": 4,
   "metadata": {
    "collapsed": false,
    "scrolled": false
   },
   "outputs": [
    {
     "name": "stdout",
     "output_type": "stream",
     "text": [
      "### DIMENSIONS ###\n",
      "OrderedDict([('time', <class 'netCDF4._netCDF4.Dimension'> (unlimited): name = 'time', size = 67\n",
      "), ('rlon', <class 'netCDF4._netCDF4.Dimension'>: name = 'rlon', size = 1060\n",
      "), ('rlat', <class 'netCDF4._netCDF4.Dimension'>: name = 'rlat', size = 3680\n",
      ")])\n",
      "-\ttime\n",
      "-\trlon\n",
      "-\trlat\n",
      "### VARIABLES ###\n",
      "-\ttime\n",
      "-\tforecast_reference_time\n",
      "-\tprojection_3\n",
      "-\trlon\n",
      "-\trlat\n",
      "-\tlongitude\n",
      "-\tlatitude\n",
      "-\taltitude\n",
      "-\tair_temperature_2m\n",
      "Variables 'x' and 'y' are not provided.\n",
      "Variable 'land_area_fraction' is not provided.\n"
     ]
    }
   ],
   "source": [
    "jd, altitude, land_area_fraction, nc_vars = nc_load(\"../data/t2myr_kf0_5km_20161027_00.nc\",\n",
    "                                                    ['air_temperature_2m'], None, [6, 30])\n",
    "#[59.0, 60.0, 8.5, 9.0]"
   ]
  },
  {
   "cell_type": "code",
   "execution_count": 11,
   "metadata": {
    "collapsed": false
   },
   "outputs": [
    {
     "name": "stdout",
     "output_type": "stream",
     "text": [
      "[[  1.           1.           1.         ...,  34.20000076  50.90000153\n",
      "   37.60000229]\n",
      " [  1.           1.           1.         ...,  29.60000038  34.70000076\n",
      "   22.10000038]\n",
      " [  1.           1.           1.         ...,  20.10000038  19.89999962\n",
      "   28.10000038]\n",
      " ..., \n",
      " [  1.           1.           1.         ...,   1.           1.           1.        ]\n",
      " [  1.           1.           1.         ...,   1.           1.           1.        ]\n",
      " [  1.           1.           1.         ...,   1.           1.           1.        ]] [[ True  True  True ...,  True  True  True]\n",
      " [ True  True  True ...,  True  True  True]\n",
      " [ True  True  True ...,  True  True  True]\n",
      " ..., \n",
      " [ True  True  True ...,  True  True  True]\n",
      " [ True  True  True ...,  True  True  True]\n",
      " [ True  True  True ...,  True  True  True]] [[ True  True  True ...,  True  True  True]\n",
      " [ True  True  True ...,  True  True  True]\n",
      " [ True  True  True ...,  True  True  True]\n",
      " ..., \n",
      " [ True  True  True ...,  True  True  True]\n",
      " [ True  True  True ...,  True  True  True]\n",
      " [ True  True  True ...,  True  True  True]]\n",
      "{'air_temperature_2m': array([[[ 284.42678833,  284.42749023,  284.42797852, ...,  282.63684082,\n",
      "          282.55569458,  282.65493774],\n",
      "        [ 284.4263916 ,  284.42718506,  284.42773438, ...,  282.64724731,\n",
      "          282.63470459,  282.72940063],\n",
      "        [ 284.4262085 ,  284.42706299,  284.42767334, ...,  282.68087769,\n",
      "          282.70422363,  282.67376709],\n",
      "        ..., \n",
      "        [ 277.97531128,  277.97134399,  277.96725464, ...,  272.69406128,\n",
      "          272.70178223,  272.70956421],\n",
      "        [ 277.972229  ,  277.96832275,  277.96490479, ...,  272.70773315,\n",
      "          272.71539307,  272.72317505],\n",
      "        [ 277.96942139,  277.96585083,  277.9624939 , ...,  272.72128296,\n",
      "          272.72894287,  272.73706055]],\n",
      "\n",
      "       [[ 284.42276001,  284.42636108,  284.43005371, ...,  282.49960327,\n",
      "          282.39712524,  282.47369385],\n",
      "        [ 284.41888428,  284.42245483,  284.42611694, ...,  282.52307129,\n",
      "          282.48916626,  282.56152344],\n",
      "        [ 284.41491699,  284.41842651,  284.42199707, ...,  282.57321167,\n",
      "          282.57278442,  282.52032471],\n",
      "        ..., \n",
      "        [ 277.94741821,  277.94433594,  277.94128418, ...,  273.05307007,\n",
      "          273.06082153,  273.06881714],\n",
      "        [ 277.9440918 ,  277.94100952,  277.93878174, ...,  273.0692749 ,\n",
      "          273.0769043 ,  273.08480835],\n",
      "        [ 277.94082642,  277.93829346,  277.93615723, ...,  273.08517456,\n",
      "          273.09268188,  273.10006714]],\n",
      "\n",
      "       [[ 284.54214478,  284.54458618,  284.54742432, ...,  282.90219116,\n",
      "          282.80395508,  282.88439941],\n",
      "        [ 284.54052734,  284.54281616,  284.54550171, ...,  282.93206787,\n",
      "          282.90182495,  282.97799683],\n",
      "        [ 284.53848267,  284.54058838,  284.54312134, ...,  282.98703003,\n",
      "          282.99108887,  282.94238281],\n",
      "        ..., \n",
      "        [ 277.92919922,  277.92733765,  277.92562866, ...,  273.17178345,\n",
      "          273.16992188,  273.16586304],\n",
      "        [ 277.92605591,  277.9241333 ,  277.9211731 , ...,  273.184021  ,\n",
      "          273.18289185,  273.17962646],\n",
      "        [ 277.92266846,  277.91976929,  277.91647339, ...,  273.19851685,\n",
      "          273.19812012,  273.20315552]],\n",
      "\n",
      "       ..., \n",
      "       [[ 283.31842041,  283.32089233,  283.32348633, ...,  284.60684204,\n",
      "          284.51678467,  284.60336304],\n",
      "        [ 283.31915283,  283.32159424,  283.32415771, ...,  284.62796021,\n",
      "          284.60369873,  284.6859436 ],\n",
      "        [ 283.3197937 ,  283.32217407,  283.32467651, ...,  284.67333984,\n",
      "          284.68182373,  284.63912964],\n",
      "        ..., \n",
      "        [ 277.42608643,  277.42315674,  277.42010498, ...,  273.51754761,\n",
      "          273.5090332 ,  273.50076294],\n",
      "        [ 277.42156982,  277.41870117,  277.41668701, ...,  273.52954102,\n",
      "          273.52093506,  273.51260376],\n",
      "        [ 277.41732788,  277.41525269,  277.41351318, ...,  273.54125977,\n",
      "          273.53256226,  273.52966309]],\n",
      "\n",
      "       [[ 283.36206055,  283.3614502 ,  283.3611145 , ...,  284.19293213,\n",
      "          284.11114502,  284.20614624],\n",
      "        [ 283.3621521 ,  283.3614502 ,  283.36102295, ...,  284.2102356 ,\n",
      "          284.19458008,  284.28530884],\n",
      "        [ 283.36196899,  283.36114502,  283.3605957 , ...,  284.25515747,\n",
      "          284.26940918,  284.23526001],\n",
      "        ..., \n",
      "        [ 277.44314575,  277.44198608,  277.44046021, ...,  273.99789429,\n",
      "          274.003479  ,  274.00933838],\n",
      "        [ 277.44180298,  277.4407959 ,  277.44073486, ...,  274.02459717,\n",
      "          274.03009033,  274.03588867],\n",
      "        [ 277.44104004,  277.44113159,  277.44146729, ...,  274.05102539,\n",
      "          274.056427  ,  274.06576538]],\n",
      "\n",
      "       [[ 283.51843262,  283.51776123,  283.5171814 , ...,  282.86050415,\n",
      "          282.78234863,  282.8805542 ],\n",
      "        [ 283.51907349,  283.51837158,  283.51776123, ...,  282.87609863,\n",
      "          282.86343384,  282.95730591],\n",
      "        [ 283.5196228 ,  283.51885986,  283.51818848, ...,  282.92163086,\n",
      "          282.93569946,  282.90466309],\n",
      "        ..., \n",
      "        [ 277.37405396,  277.37179565,  277.36914062, ...,  274.03881836,\n",
      "          274.04281616,  274.04656982],\n",
      "        [ 277.36965942,  277.36758423,  277.36605835, ...,  274.06643677,\n",
      "          274.07052612,  274.07437134],\n",
      "        [ 277.36587524,  277.3644104 ,  277.36306763, ...,  274.09429932,\n",
      "          274.09848022,  274.10333252]]], dtype=float32)}\n"
     ]
    }
   ],
   "source": [
    "# create elevation masks\n",
    "above1000 = np.ma.masked_less_equal(altitude, 1000.0).mask # returns the  inverse\n",
    "below1000 = np.ma.masked_greater_equal(altitude, 1000.0).mask\n",
    "print(altitude, below500, above1000)\n",
    "print(nc_vars)"
   ]
  },
  {
   "cell_type": "code",
   "execution_count": 14,
   "metadata": {
    "collapsed": false
   },
   "outputs": [
    {
     "data": {
      "image/png": "[encoded data removed]",
      "text/plain": [
       "<matplotlib.figure.Figure at 0x7c839b0>"
      ]
     },
     "metadata": {},
     "output_type": "display_data"
    }
   ],
   "source": [
    "temp = np.ma.masked_array(nc_vars['air_temperature_2m'][0, :, :], above1000)\n",
    "plt.imshow(temp, aspect='equal')\n",
    "plt.show()"
   ]
  },
  {
   "cell_type": "code",
   "execution_count": 23,
   "metadata": {
    "collapsed": false
   },
   "outputs": [
    {
     "name": "stdout",
     "output_type": "stream",
     "text": [
      "268.672271729\n",
      "284.268463135\n",
      "271.914\n"
     ]
    }
   ],
   "source": [
    "flier_low = np.nanpercentile(temp, 5.0))\n",
    "flier_high = np.nanpercentile(temp, 95.0))\n",
    "center = np.nanmean(temp) # should be median"
   ]
  },
  {
   "cell_type": "code",
   "execution_count": null,
   "metadata": {
    "collapsed": true
   },
   "outputs": [],
   "source": [
    "box_data = np.concatenate((spread, center, flier_high, flier_low), 0)\n",
    "\n",
    "# basic plot\n",
    "plt.boxplot(box_data)"
   ]
  },
  {
   "cell_type": "code",
   "execution_count": null,
   "metadata": {
    "collapsed": true
   },
   "outputs": [],
   "source": []
  }
 ],
 "metadata": {
  "anaconda-cloud": {},
  "kernelspec": {
   "display_name": "Python [conda env:Anaconda3]",
   "language": "python",
   "name": "conda-env-Anaconda3-py"
  },
  "language_info": {
   "codemirror_mode": {
    "name": "ipython",
    "version": 3
   },
   "file_extension": ".py",
   "mimetype": "text/x-python",
   "name": "python",
   "nbconvert_exporter": "python",
   "pygments_lexer": "ipython3",
   "version": "3.5.1"
  }
 },
 "nbformat": 4,
 "nbformat_minor": 0
}
