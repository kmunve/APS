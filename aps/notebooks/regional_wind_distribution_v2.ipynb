{
 "cells": [
  {
   "cell_type": "markdown",
   "metadata": {
    "collapsed": true
   },
   "source": [
    "# Regional wind distribution"
   ]
  },
  {
   "cell_type": "markdown",
   "metadata": {},
   "source": [
    "## Introduction"
   ]
  },
  {
   "cell_type": "markdown",
   "metadata": {},
   "source": [
    "<table class=\"wikitable\">\n",
    "<caption><a class=\"mw-selflink selflink\">Beaufort Wind Scale</a></caption>\n",
    "<tr style=\"text-align: center;\">\n",
    "<th style=\"background-color: #FFFFFF;\" id=\"Beaufort_Number_0\"><span title=\"Calm: &lt;1 mph (&lt;0.3 m/s)\">0</span></th>\n",
    "<th style=\"background-color: #CCFFFF;\" id=\"Beaufort_Number_1\"><span title=\"Light Air: 1–3&#160;mph (0.3–1.5&#160;m/s)\">1</span></th>\n",
    "<th style=\"background-color: #99FFCC;\" id=\"Beaufort_Number_2\"><span title=\"Light Breeze: 4–7&#160;mph (1.6–3.3&#160;m/s)\">2</span></th>\n",
    "<th style=\"background-color: #99FF99;\" id=\"Beaufort_Number_3\"><span title=\"Gentle Breeze: 8–12&#160;mph (3.4–5.5&#160;m/s)\">3</span></th>\n",
    "<th style=\"background-color: #99FF66;\" id=\"Beaufort_Number_4\"><span title=\"Moderate Breeze: 13–18&#160;mph (5.5–7.9&#160;m/s)\">4</span></th>\n",
    "<th style=\"background-color: #99FF00;\" id=\"Beaufort_Number_5\"><span title=\"Fresh Breeze: 19–24&#160;mph (8.0–10.7&#160;m/s)\">5</span></th>\n",
    "<th style=\"background-color: #CCFF00;\" id=\"Beaufort_Number_6\"><span title=\"Strong Breeze: 25–31&#160;mph (10.8–13.8&#160;m/s)\">6</span></th>\n",
    "<th style=\"background-color: #FFFF00;\" id=\"Beaufort_Number_7\"><span title=\"Near Gale: 32–38&#160;mph (13.9–17.1&#160;m/s)\">7</span></th>\n",
    "<th style=\"background-color: #FFCC00;\" id=\"Beaufort_Number_8\"><span title=\"Gale: 39–46&#160;mph (17.2–20.7&#160;m/s)\">8</span></th>\n",
    "<th style=\"background-color: #FF9900;\" id=\"Beaufort_Number_9\"><span title=\"Strong Gale: 47-54&#160;mph (20.8–24.4&#160;m/s)\">9</span></th>\n",
    "<th style=\"background-color: #FF6600;\" id=\"Beaufort_Number_10\"><span title=\"Storm: 55–63&#160;mph (24.5–28.4&#160;m/s)\">10</span></th>\n",
    "<th style=\"background-color: #FF3300;\" id=\"Beaufort_Number_11\"><span title=\"Violent Storm: 64–72&#160;mph (28.5–32.6&#160;m/s)\">11</span></th>\n",
    "<th style=\"background-color: #FF0000;\" id=\"Beaufort_Number_12\"><span title=\"Hurricane Force: ≥73&#160;mph (≥32.7&#160;m/s)\">12</span></th>\n",
    "</tr>\n",
    "<tr style=\"text-align: center;\">\n",
    "<td><small>Calm</small></td>\n",
    "<td><small>Light Air</small></td>\n",
    "<td><small>Light Breeze</small></td>\n",
    "<td><small>Gentle Breeze</small></td>\n",
    "<td><small>Moderate Breeze</small></td>\n",
    "<td><small>Fresh Breeze</small></td>\n",
    "<td><small>Strong Breeze</small></td>\n",
    "<td><small>Near Gale</small></td>\n",
    "<td><small><a href=\"/wiki/Gale\" title=\"Gale\">Gale</a></small></td>\n",
    "<td><small>Strong Gale</small></td>\n",
    "<td><small><a href=\"/wiki/Storm\" title=\"Storm\">Storm</a></small></td>\n",
    "<td><small>Violent Storm</small></td>\n",
    "<td><small><a href=\"/wiki/Hurricane\" class=\"mw-redirect\" title=\"Hurricane\">Hurricane</a> Force</small></td>\n",
    "</tr>\n",
    "<tr style=\"text-align: center;\">\n",
    "<td colspan=\"6\"><small>Light Winds</small></td>\n",
    "<td colspan=\"2\"><small>High Winds</small></td>\n",
    "<td colspan=\"2\"><small>Gale-force</small></td>\n",
    "<td colspan=\"2\"><small>Storm-force</small></td>\n",
    "<td><small>Hurricane-force</small></td>\n",
    "</tr>\n",
    "<tr style=\"text-align: center;\">\n",
    "<td><span style=\"font-size:75%; line-height: 1.31em;\">&lt;1&#160;mph<br />\n",
    "&lt;1 <a href=\"/wiki/Knot_(unit)\" title=\"Knot (unit)\">knot</a><br />\n",
    "&lt;0.3 <a href=\"/wiki/Metre_per_second\" title=\"Metre per second\">m/s</a></span></td>\n",
    "<td><span style=\"font-size:75%; line-height: 1.31em;\">1–3&#160;mph<br />\n",
    "1–3 knots<br />\n",
    "0.3–1.5&#160;m/s</span></td>\n",
    "<td><span style=\"font-size:75%; line-height: 1.31em;\">4–7&#160;mph<br />\n",
    "4–6 knots<br />\n",
    "1.6–3.3&#160;m/s</span></td>\n",
    "<td><span style=\"font-size:75%; line-height: 1.31em;\">8–12&#160;mph<br />\n",
    "7–10 knots<br />\n",
    "3.4–5.5&#160;m/s</span></td>\n",
    "<td><span style=\"font-size:75%; line-height: 1.31em;\">13–18&#160;mph<br />\n",
    "11–16 knots<br />\n",
    "5.5–7.9&#160;m/s</span></td>\n",
    "<td><span style=\"font-size:75%; line-height: 1.31em;\">18–24&#160;mph<br />\n",
    "17–21 knots<br />\n",
    "8.0–10.7&#160;m/s</span></td>\n",
    "<td><span style=\"font-size:75%; line-height: 1.31em;\">25–31&#160;mph<br />\n",
    "22–27 knots<br />\n",
    "10.8–13.8&#160;m/s</span></td>\n",
    "<td><span style=\"font-size:75%; line-height: 1.31em;\">31–38&#160;mph<br />\n",
    "28–33 knots<br />\n",
    "13.9–17.1&#160;m/s</span></td>\n",
    "<td><span style=\"font-size:75%; line-height: 1.31em;\">39–46&#160;mph<br />\n",
    "34–40 knots<br />\n",
    "17.2–20.7&#160;m/s</span></td>\n",
    "<td><span style=\"font-size:75%; line-height: 1.31em;\">47-54&#160;mph<br />\n",
    "41–47 knots<br />\n",
    "20.8–24.4&#160;m/s</span></td>\n",
    "<td><span style=\"font-size:75%; line-height: 1.31em;\">55–63&#160;mph<br />\n",
    "48–55 knots<br />\n",
    "24.5–28.4&#160;m/s</span></td>\n",
    "<td><span style=\"font-size:75%; line-height: 1.31em;\">64–72&#160;mph<br />\n",
    "56–63 knots<br />\n",
    "28.5–32.6&#160;m/s</span></td>\n",
    "<td><span style=\"font-size:75%; line-height: 1.31em;\">≥73&#160;mph<br />\n",
    "≥63 knots<br />\n",
    "≥32.7&#160;m/s</span></td>\n",
    "</tr>\n",
    "</table>"
   ]
  },
  {
   "cell_type": "markdown",
   "metadata": {},
   "source": [
    "<table class=\"beufort\">\n",
    "<caption>Vindens  virkning  på  fjellet</caption>\n",
    "<thead>\n",
    "<tr>\n",
    "<th>Navn</th>\n",
    "<th>Symbol</th>\n",
    "<th>m/s</th>\n",
    "<th>knop</th>\n",
    "<th>Kjennetegn</th>\n",
    "</tr>\n",
    "</thead>\n",
    "<tbody>\n",
    "<tr>\n",
    "<td>Stille</td>\n",
    "<td><a href=\"http://om.yr.no/wp-content/uploads/2006/09/vindstille.png\"><img alt=\"vindstille\" src=\"http://om.yr.no/wp-content/uploads/2006/09/vindstille.png\" width=\"32\" height=\"32\" /></a></td>\n",
    "<td>0,0-0,2</td>\n",
    "<td>0-1</td>\n",
    "<td>Snøfiller  daler  omtrent  rett  ned,  gjerne  i  en  pendlende  bevegelse.</td>\n",
    "</tr>\n",
    "<tr>\n",
    "<td>Flau  vind</td>\n",
    "<td><img alt=\"Flau vind\" src=\"http://fil.nrk.no/yr/grafikk/vindpiler/32/vindpil.0000.225.png\" /></td>\n",
    "<td>0,3-1,5</td>\n",
    "<td>1-3</td>\n",
    "<td>Så  vidt  følbar.  Det  er  tydelig  at  snøfillene  driver  med  vinden.</td>\n",
    "</tr>\n",
    "<tr>\n",
    "<td>Svak  vind</td>\n",
    "<td><img alt=\"Svak vind\" src=\"http://fil.nrk.no/yr/grafikk/vindpiler/32/vindpil.0025.225.png\" /></td>\n",
    "<td>1,6-3,3</td>\n",
    "<td>4-6</td>\n",
    "<td>Godt  følbar  i  sterk  kulde.  Snøfillene  beveger  seg  mer  horisontalt  enn  vertikalt.</td>\n",
    "</tr>\n",
    "<tr>\n",
    "<td>Lett  bris</td>\n",
    "<td><img alt=\"Lett bris\" src=\"http://fil.nrk.no/yr/grafikk/vindpiler/32/vindpil.0050.225.png\" /></td>\n",
    "<td>3,4-5,4</td>\n",
    "<td>7-10</td>\n",
    "<td>Vinden  merkes  tydelig  og  kan  sjenere.  Fallende  snø  synes  å  bevege  seg  meget  raskere  horisontalt  enn  vertikalt.</td>\n",
    "</tr>\n",
    "<tr>\n",
    "<td>Laber  bris</td>\n",
    "<td><img alt=\"Laber bris\" src=\"http://fil.nrk.no/yr/grafikk/vindpiler/32/vindpil.0075.225.png\" /></td>\n",
    "<td>5,5-7,9</td>\n",
    "<td>11-16</td>\n",
    "<td>Er  ubehagelig  i  kaldt  vær  og  gir  merkbar  motstand.  Fallende  snø  hvirvler  av  sted  med  vinden.  Snødrevet  mot  ansiktet  er  meget  sjenerende.</td>\n",
    "</tr>\n",
    "<tr>\n",
    "<td>Frisk  bris</td>\n",
    "<td><img alt=\"Frisk bris\" src=\"http://fil.nrk.no/yr/grafikk/vindpiler/32/vindpil.0100.225.png\" /></td>\n",
    "<td>8,0-10,7</td>\n",
    "<td>17-21</td>\n",
    "<td>Det  blir  tungt  å  gå  på  ski  mot  været.  Fokksnø  som  driver  langs  bakken,  hvirvles  så  høyt  at  synsvidden  nedsettes.  Snødrevet  pisker  i  ansiktet.</td>\n",
    "</tr>\n",
    "<tr>\n",
    "<td>Liten  kuling</td>\n",
    "<td><img alt=\"Liten kuling\" src=\"http://fil.nrk.no/yr/grafikk/vindpiler/32/vindpil.0125.225.png\" /></td>\n",
    "<td>10,8-13,8</td>\n",
    "<td>22-27</td>\n",
    "<td>Det  er  meget  slitsomt  å  ta  seg  fram  mot  været.  Snøfokk  setter  ned  sikten  til  under  1  km.  Vanskelig  å  holde  ubeskyttet  ansikt  mot  vinden  i  lengre  tid.  Folk  flest  bør  ikke  legge  ut  på  tur  over  snaufjellet  ved  denne  og  høyere  vindstyrker.</td>\n",
    "</tr>\n",
    "<tr>\n",
    "<td>Stiv  kuling</td>\n",
    "<td><img alt=\"Stiv kuling\" src=\"http://fil.nrk.no/yr/grafikk/vindpiler/32/vindpil.0150.225.png\" /></td>\n",
    "<td>13,9-17,1</td>\n",
    "<td>28-33</td>\n",
    "<td>I  motvind  må  en  lute  seg  fram  over  skiene  og  legge  stor  kraft  i  stavtakene,  selv  på  flat  mark.  Det  kan  være  vanskelig  å  holde  bena  i  vindrossene.  Snøfokk  setter  ned  sikten  til  få  hundre  meter.  Vanskelig  å  orientere  seg  i  terrenget.  En  skitur  i  fjellet  ved  vindstyrke  7  er  en  stor  påkjenning  for  de  fleste.</td>\n",
    "</tr>\n",
    "<tr>\n",
    "<td>Sterk  kuling</td>\n",
    "<td><img alt=\"Sterk kuling\" src=\"http://fil.nrk.no/yr/grafikk/vindpiler/32/vindpil.0175.225.png\" /></td>\n",
    "<td>17,2-20,7</td>\n",
    "<td>34-40</td>\n",
    "<td>Fjellet  står  i  kok.  Kvister  og  lav  fra  trærne  driver  med  vinden.  Meget  vanskelig  å  gå  på  skiene.  Nesten  umulig  å  bære  skiene  på  nakken.  Snøfokk  setter  ned  sikten  til  under  100  m.  Umulig  å  orientere  seg  i  terrenget.  Meget  vanskelig  å  følge  selv  godt  kvistede  løyper.  Legg  ikke  ut  på  tur!</td>\n",
    "</tr>\n",
    "<tr>\n",
    "<td>Liten  storm</td>\n",
    "<td><img alt=\"Liten storm\" src=\"http://fil.nrk.no/yr/grafikk/vindpiler/32/vindpil.0225.225.png\" /></td>\n",
    "<td>20,8-24,4</td>\n",
    "<td>41-47</td>\n",
    "<td>Vind  og  snøfokk  gjør  det  umulig  å  ta  seg  fram  på  ski  over  fjellet.  Selv  i  klarvær  og  lite  snøfokk  kan  påkjenningen  bli  så  stor  at  en  snøhule  eller  hytte  er  eneste  redning.</td>\n",
    "</tr>\n",
    "<tr>\n",
    "<td>Full  storm</td>\n",
    "<td><img alt=\"Full storm\" src=\"http://fil.nrk.no/yr/grafikk/vindpiler/32/vindpil.0250.225.png\" /></td>\n",
    "<td>24,5-28,4</td>\n",
    "<td>48-55</td>\n",
    "<td>Denne  og  høyere  vindstyrker  vil  de  fleste  aldri  komme  ut  for.  Trær  velter  over  ledninger  for  telefon  og  strøm.  Det  knaker  i  tømmervegger.  Lette  småhus  rives  av  grunnmuren.</td>\n",
    "</tr>\n",
    "<tr>\n",
    "<td>Sterk  storm</td>\n",
    "<td><img alt=\"Sterk storm\" src=\"http://fil.nrk.no/yr/grafikk/vindpiler/32/vindpil.0300.225.png\" /></td>\n",
    "<td>28,5-32,6</td>\n",
    "<td>56-63</td>\n",
    "<td>Veier  og  jernbanelinjer  blokkeres.  Det  er  kaos  på  telefon-  og  strømnettet.  Skog  blir  rasert.</td>\n",
    "</tr>\n",
    "<tr>\n",
    "<td>Orkan</td>\n",
    "<td><img alt=\"Orkan\" src=\"http://fil.nrk.no/yr/grafikk/vindpiler/32/vindpil.0350.225.png\" /></td>\n",
    "<td>32,6-</td>\n",
    "<td>64-</td>\n",
    "<td>Hvis  bebyggelse  rammes  blir  det  en  naturkatastrofe  som  gjerne  vil  kreve  flere  menneskeliv.</td>\n",
    "</tr>\n",
    "</tbody>\n",
    "</table>"
   ]
  },
  {
   "cell_type": "markdown",
   "metadata": {},
   "source": [
    "## Imports"
   ]
  },
  {
   "cell_type": "code",
   "execution_count": 1,
   "metadata": {},
   "outputs": [
    {
     "ename": "ModuleNotFoundError",
     "evalue": "No module named 'windrose'",
     "output_type": "error",
     "traceback": [
      "\u001B[1;31m---------------------------------------------------------------------------\u001B[0m",
      "\u001B[1;31mModuleNotFoundError\u001B[0m                       Traceback (most recent call last)",
      "\u001B[1;32m<ipython-input-1-8b8d0d00b673>\u001B[0m in \u001B[0;36m<module>\u001B[1;34m\u001B[0m\n\u001B[0;32m     15\u001B[0m \u001B[1;33m\u001B[0m\u001B[0m\n\u001B[0;32m     16\u001B[0m \u001B[1;32mfrom\u001B[0m \u001B[0mpathlib\u001B[0m \u001B[1;32mimport\u001B[0m \u001B[0mPath\u001B[0m\u001B[1;33m\u001B[0m\u001B[1;33m\u001B[0m\u001B[0m\n\u001B[1;32m---> 17\u001B[1;33m \u001B[1;32mfrom\u001B[0m \u001B[0mwindrose\u001B[0m \u001B[1;32mimport\u001B[0m \u001B[0mWindroseAxes\u001B[0m\u001B[1;33m\u001B[0m\u001B[1;33m\u001B[0m\u001B[0m\n\u001B[0m\u001B[0;32m     18\u001B[0m \u001B[1;33m\u001B[0m\u001B[0m\n\u001B[0;32m     19\u001B[0m \u001B[1;32mimport\u001B[0m \u001B[0mwarnings\u001B[0m\u001B[1;33m\u001B[0m\u001B[1;33m\u001B[0m\u001B[0m\n",
      "\u001B[1;31mModuleNotFoundError\u001B[0m: No module named 'windrose'"
     ]
    }
   ],
   "source": [
    "# -*- coding: utf-8 -*-\n",
    "%matplotlib inline\n",
    "# %matplotlib ipympl\n",
    "import matplotlib.pyplot as plt\n",
    "# plt.style.use(['dark_background'])\n",
    "import matplotlib.patches as patches\n",
    "# import pylab as plt\n",
    "plt.rcParams['figure.figsize'] = (14, 6)\n",
    "import seaborn as sns\n",
    "# sns.set_style(\"darkgrid\")\n",
    "\n",
    "import datetime\n",
    "import numpy as np\n",
    "import netCDF4\n",
    "\n",
    "from pathlib import Path\n",
    "from windrose import WindroseAxes\n",
    "\n",
    "import warnings\n",
    "warnings.filterwarnings(\"ignore\")"
   ]
  },
  {
   "cell_type": "markdown",
   "metadata": {},
   "source": [
    "## Classification"
   ]
  },
  {
   "cell_type": "code",
   "execution_count": null,
   "metadata": {},
   "outputs": [],
   "source": [
    "# Classify by Beaufort scale\n",
    "def classify_wind(wind_speed_f, wind_dir_f, js_str=True):\n",
    "    len_wind = len(wind_speed_f)\n",
    "\n",
    "    # Seperate by wind direction\n",
    "    N = wind_speed_f[np.where((wind_dir_f>-22.5) & (wind_dir_f<=22.5))]\n",
    "\n",
    "    NE = wind_speed_f[np.where((wind_dir_f>22.5) & (wind_dir_f<=67.5))]\n",
    "\n",
    "    E = wind_speed_f[np.where((wind_dir_f>67.5) & (wind_dir_f<=112.5))]\n",
    "\n",
    "    SE = wind_speed_f[np.where((wind_dir_f>112.5) & (wind_dir_f<=167.5))]\n",
    "\n",
    "    S = wind_speed_f[np.where((wind_dir_f>167.5) & (wind_dir_f<=180.0) | (wind_dir_f>-167.5) & (wind_dir_f<=-180.0))]\n",
    "\n",
    "    SW = wind_speed_f[np.where((wind_dir_f>-167.5) & (wind_dir_f<=-112.5))]\n",
    "\n",
    "    W = wind_speed_f[np.where((wind_dir_f>-112.5) & (wind_dir_f<=-67.5))]\n",
    "\n",
    "    NW = wind_speed_f[np.where((wind_dir_f>-67.5) & (wind_dir_f<=-22.5))]\n",
    "\n",
    "\n",
    "    # Seperate by wind speed\n",
    "    gentle_breeze = 5.5\n",
    "    strong_breeze = 13.8\n",
    "    gale = 20.7\n",
    "    storm = 32.6\n",
    "\n",
    "    N_gentle_breeze = len(N[np.where(N<gentle_breeze)]) / len_wind * 100\n",
    "    N_strong_breeze = len(N[np.where((N>=gentle_breeze) & (N<strong_breeze))]) / len_wind * 100\n",
    "    N_gale = len(N[np.where((N>=strong_breeze) & (N<gale))]) / len_wind * 100\n",
    "    N_storm = len(N[np.where((N>=gale) & (N<storm))]) / len_wind * 100\n",
    "    N_hurricane = len(N[np.where((N>=storm))]) / len_wind * 100\n",
    "\n",
    "    NE_gentle_breeze = len(NE[np.where(NE<gentle_breeze)]) / len_wind * 100\n",
    "    NE_strong_breeze = len(NE[np.where((NE>=gentle_breeze) & (NE<strong_breeze))]) / len_wind * 100\n",
    "    NE_gale = len(NE[np.where((NE>=strong_breeze) & (NE<gale))]) / len_wind * 100\n",
    "    NE_storm = len(NE[np.where((NE>=gale) & (NE<storm))]) / len_wind * 100\n",
    "    NE_hurricane = len(NE[np.where((NE>=storm))]) / len_wind * 100\n",
    "\n",
    "    E_gentle_breeze = len(E[np.where(E<gentle_breeze)]) / len_wind * 100\n",
    "    E_strong_breeze = len(E[np.where((E>=gentle_breeze) & (E<strong_breeze))]) / len_wind * 100\n",
    "    E_gale = len(E[np.where((E>=strong_breeze) & (E<gale))]) / len_wind * 100\n",
    "    E_storm = len(E[np.where((E>=gale) & (E<storm))]) / len_wind * 100\n",
    "    E_hurricane = len(E[np.where((E>=storm))]) / len_wind * 100\n",
    "\n",
    "    SE_gentle_breeze = len(SE[np.where(SE<gentle_breeze)]) / len_wind * 100\n",
    "    SE_strong_breeze = len(SE[np.where((SE>=gentle_breeze) & (SE<strong_breeze))]) / len_wind * 100\n",
    "    SE_gale = len(SE[np.where((SE>=strong_breeze) & (SE<gale))]) / len_wind * 100\n",
    "    SE_storm = len(SE[np.where((SE>=gale) & (SE<storm))]) / len_wind * 100\n",
    "    SE_hurricane = len(SE[np.where((SE>=storm))]) / len_wind * 100\n",
    "\n",
    "    S_gentle_breeze = len(S[np.where(S<gentle_breeze)]) / len_wind * 100\n",
    "    S_strong_breeze = len(S[np.where((S>=gentle_breeze) & (S<strong_breeze))]) / len_wind * 100\n",
    "    S_gale = len(S[np.where((S>=strong_breeze) & (S<gale))]) / len_wind * 100\n",
    "    S_storm = len(S[np.where((S>=gale) & (S<storm))]) / len_wind * 100\n",
    "    S_hurricane = len(S[np.where((S>=storm))]) / len_wind * 100\n",
    "\n",
    "    SW_gentle_breeze = len(SW[np.where(SW<gentle_breeze)]) / len_wind * 100\n",
    "    SW_strong_breeze = len(SW[np.where((SW>=gentle_breeze) & (SW<strong_breeze))]) / len_wind * 100\n",
    "    SW_gale = len(SW[np.where((SW>=strong_breeze) & (SW<gale))]) / len_wind * 100\n",
    "    SW_storm = len(SW[np.where((SW>=gale) & (SW<storm))]) / len_wind * 100\n",
    "    SW_hurricane = len(SW[np.where((SW>=storm))]) / len_wind * 100\n",
    "\n",
    "    W_gentle_breeze = len(W[np.where(W<gentle_breeze)]) / len_wind * 100\n",
    "    W_strong_breeze = len(W[np.where((W>=gentle_breeze) & (W<strong_breeze))]) / len_wind * 100\n",
    "    W_gale = len(W[np.where((W>=strong_breeze) & (W<gale))]) / len_wind * 100\n",
    "    W_storm = len(W[np.where((W>=gale) & (W<storm))]) / len_wind * 100\n",
    "    W_hurricane = len(W[np.where((W>=storm))]) / len_wind * 100\n",
    "\n",
    "    NW_gentle_breeze = len(NW[np.where(NW<gentle_breeze)]) / len_wind * 100\n",
    "    NW_strong_breeze = len(NW[np.where((NW>=gentle_breeze) & (NW<strong_breeze))]) / len_wind * 100\n",
    "    NW_gale = len(NW[np.where((NW>=strong_breeze) & (NW<gale))]) / len_wind * 100\n",
    "    NW_storm = len(NW[np.where((NW>=gale) & (NW<storm))]) / len_wind * 100\n",
    "    NW_hurricane = len(NW[np.where((NW>=storm))]) / len_wind * 100\n",
    "\n",
    "    #### can be removed after testing\n",
    "    ####\n",
    "    print([N_gentle_breeze, NE_gentle_breeze, E_gentle_breeze, SE_gentle_breeze, S_gentle_breeze, SW_gentle_breeze, W_gentle_breeze, NW_gentle_breeze])\n",
    "    print([N_strong_breeze, NE_strong_breeze, E_strong_breeze, SE_strong_breeze, S_strong_breeze, SW_strong_breeze, W_strong_breeze, NW_strong_breeze])\n",
    "    print([N_gale, NE_gale, E_gale, SE_gale, S_gale, SW_gale, W_gale, NW_gale])\n",
    "    print([N_storm, NE_storm, E_storm, SE_storm, S_storm, SW_storm, W_storm, NW_storm])\n",
    "    print([N_hurricane, NE_hurricane, E_hurricane, SE_hurricane, S_hurricane, SW_hurricane, W_hurricane, NW_hurricane])\n",
    "    ####\n",
    "\n",
    "    if js_str:\n",
    "        str0 = \"var light_winds = [{0}, {1}, {2}, {3}, {4}, {5}, {6}, {7}];\".format(N_gentle_breeze, NE_gentle_breeze, E_gentle_breeze, SE_gentle_breeze, S_gentle_breeze, SW_gentle_breeze, W_gentle_breeze, NW_gentle_breeze)\n",
    "        str1 = \"var breeze = [{0}, {1}, {2}, {3}, {4}, {5}, {6}, {7}];\".format(N_strong_breeze, NE_strong_breeze, E_strong_breeze, SE_strong_breeze, S_strong_breeze, SW_strong_breeze, W_strong_breeze, NW_strong_breeze)\n",
    "        str2 = \"var gale = [{0}, {1}, {2}, {3}, {4}, {5}, {6}, {7}];\".format(N_gale, NE_gale, E_gale, SE_gale, S_gale, SW_gale, W_gale, NW_gale)\n",
    "        str3 = \"var storm = [{0}, {1}, {2}, {3}, {4}, {5}, {6}, {7}];\".format(N_storm, NE_storm, E_storm, SE_storm, S_storm, SW_storm, W_storm, NW_storm)\n",
    "        str4 = \"var hurricane = [{0}, {1}, {2}, {3}, {4}, {5}, {6}, {7}];\".format(N_hurricane, NE_hurricane, E_hurricane, SE_hurricane, S_hurricane, SW_hurricane, W_hurricane, NW_hurricane)\n",
    "\n",
    "        json_str = \"{0}\\n{1}\\n{2}\\n{3}\\n{4}\".format(str0, str1, str2, str3, str4)\n",
    "\n",
    "        return json_str\n",
    "\n",
    "    else:\n",
    "        wind_classes = {\"gentle_breeze\": [N_gentle_breeze, NE_gentle_breeze, E_gentle_breeze, SE_gentle_breeze, S_gentle_breeze, SW_gentle_breeze, W_gentle_breeze, NW_gentle_breeze],\n",
    "                        \"strong_breeze\": [N_strong_breeze, NE_strong_breeze, E_strong_breeze, SE_strong_breeze, S_strong_breeze, SW_strong_breeze, W_strong_breeze, NW_strong_breeze],\n",
    "                        \"gale\": [N_gale, NE_gale, E_gale, SE_gale, S_gale, SW_gale, W_gale, NW_gale],\n",
    "                        \"storm\":[N_storm, NE_storm, E_storm, SE_storm, S_storm, SW_storm, W_storm, NW_storm],\n",
    "                        \"hurricane\": [N_hurricane, NE_hurricane, E_hurricane, SE_hurricane, S_hurricane, SW_hurricane, W_hurricane, NW_hurricane]}\n",
    "\n",
    "        return wind_classes"
   ]
  },
  {
   "cell_type": "code",
   "execution_count": null,
   "metadata": {},
   "outputs": [],
   "source": [
    "def classify_wind_transport(wind_speed_f, wind_dir_f, js_str=True):\n",
    "    \"\"\"\n",
    "    Classes with regard to transport threshold.\n",
    "    \"\"\"\n",
    "    len_wind = len(wind_speed_f)\n",
    "\n",
    "    # Seperate by wind direction\n",
    "    N = wind_speed_f[np.where((wind_dir_f>-22.5) & (wind_dir_f<=22.5))]\n",
    "\n",
    "    NE = wind_speed_f[np.where((wind_dir_f>22.5) & (wind_dir_f<=67.5))]\n",
    "\n",
    "    E = wind_speed_f[np.where((wind_dir_f>67.5) & (wind_dir_f<=112.5))]\n",
    "\n",
    "    SE = wind_speed_f[np.where((wind_dir_f>112.5) & (wind_dir_f<=167.5))]\n",
    "\n",
    "    S = wind_speed_f[np.where((wind_dir_f>167.5) & (wind_dir_f<=180.0) | (wind_dir_f>-167.5) & (wind_dir_f<=-180.0))]\n",
    "\n",
    "    SW = wind_speed_f[np.where((wind_dir_f>-167.5) & (wind_dir_f<=-112.5))]\n",
    "\n",
    "    W = wind_speed_f[np.where((wind_dir_f>-112.5) & (wind_dir_f<=-67.5))]\n",
    "\n",
    "    NW = wind_speed_f[np.where((wind_dir_f>-67.5) & (wind_dir_f<=-22.5))]\n",
    "\n",
    "\n",
    "    # Seperate by wind speed\n",
    "    no_transport = 3.3 # less than light breeze, <2\n",
    "    snowfall = 3.3 # more than light breeze, 3\n",
    "    dry_snow = 5.5 # more than gentle breeze, 4\n",
    "    wet_snow = 7.9 # more than moderate breeze, 5\n",
    "    all_snow = 10.7 # more than fresh breeze, >5\n",
    "\n",
    "    N_no_transport = len(N[np.where(N<no_transport)]) / len_wind * 100\n",
    "    N_snowfall = len(N[np.where((N>=snowfall) & (N<dry_snow))]) / len_wind * 100\n",
    "    N_dry_snow = len(N[np.where((N>=dry_snow) & (N<wet_snow))]) / len_wind * 100\n",
    "    N_wet_snow = len(N[np.where((N>=wet_snow) & (N<all_snow))]) / len_wind * 100\n",
    "    N_all_snow = len(N[np.where((N>=all_snow))]) / len_wind * 100\n",
    "\n",
    "    NE_no_transport = len(NE[np.where(NE<no_transport)]) / len_wind * 100\n",
    "    NE_snowfall = len(NE[np.where((NE>=snowfall) & (NE<dry_snow))]) / len_wind * 100\n",
    "    NE_dry_snow = len(NE[np.where((NE>=dry_snow) & (NE<wet_snow))]) / len_wind * 100\n",
    "    NE_wet_snow = len(NE[np.where((NE>=wet_snow) & (NE<all_snow))]) / len_wind * 100\n",
    "    NE_all_snow = len(NE[np.where((NE>=all_snow))]) / len_wind * 100\n",
    "\n",
    "    E_no_transport = len(E[np.where(E<no_transport)]) / len_wind * 100\n",
    "    E_snowfall = len(E[np.where((E>=snowfall) & (E<dry_snow))]) / len_wind * 100\n",
    "    E_dry_snow = len(E[np.where((E>=dry_snow) & (E<wet_snow))]) / len_wind * 100\n",
    "    E_wet_snow = len(E[np.where((E>=wet_snow) & (E<all_snow))]) / len_wind * 100\n",
    "    E_all_snow = len(E[np.where((E>=all_snow))]) / len_wind * 100\n",
    "\n",
    "    SE_no_transport = len(SE[np.where(SE<no_transport)]) / len_wind * 100\n",
    "    SE_snowfall = len(SE[np.where((SE>=snowfall) & (SE<dry_snow))]) / len_wind * 100\n",
    "    SE_dry_snow = len(SE[np.where((SE>=dry_snow) & (SE<wet_snow))]) / len_wind * 100\n",
    "    SE_wet_snow = len(SE[np.where((SE>=wet_snow) & (SE<all_snow))]) / len_wind * 100\n",
    "    SE_all_snow = len(SE[np.where((SE>=all_snow))]) / len_wind * 100\n",
    "\n",
    "    S_no_transport = len(S[np.where(S<no_transport)]) / len_wind * 100\n",
    "    S_snowfall = len(S[np.where((S>=snowfall) & (S<dry_snow))]) / len_wind * 100\n",
    "    S_dry_snow = len(S[np.where((S>=dry_snow) & (S<wet_snow))]) / len_wind * 100\n",
    "    S_wet_snow = len(S[np.where((S>=wet_snow) & (S<all_snow))]) / len_wind * 100\n",
    "    S_all_snow = len(S[np.where((S>=all_snow))]) / len_wind * 100\n",
    "\n",
    "    SW_no_transport = len(SW[np.where(SW<no_transport)]) / len_wind * 100\n",
    "    SW_snowfall = len(SW[np.where((SW>=snowfall) & (SW<dry_snow))]) / len_wind * 100\n",
    "    SW_dry_snow = len(SW[np.where((SW>=dry_snow) & (SW<wet_snow))]) / len_wind * 100\n",
    "    SW_wet_snow = len(SW[np.where((SW>=wet_snow) & (SW<all_snow))]) / len_wind * 100\n",
    "    SW_all_snow = len(SW[np.where((SW>=all_snow))]) / len_wind * 100\n",
    "\n",
    "    W_no_transport = len(W[np.where(W<no_transport)]) / len_wind * 100\n",
    "    W_snowfall = len(W[np.where((W>=snowfall) & (W<dry_snow))]) / len_wind * 100\n",
    "    W_dry_snow = len(W[np.where((W>=dry_snow) & (W<wet_snow))]) / len_wind * 100\n",
    "    W_wet_snow = len(W[np.where((W>=wet_snow) & (W<all_snow))]) / len_wind * 100\n",
    "    W_all_snow = len(W[np.where((W>=all_snow))]) / len_wind * 100\n",
    "\n",
    "    NW_no_transport = len(NW[np.where(NW<no_transport)]) / len_wind * 100\n",
    "    NW_snowfall = len(NW[np.where((NW>=snowfall) & (NW<dry_snow))]) / len_wind * 100\n",
    "    NW_dry_snow = len(NW[np.where((NW>=dry_snow) & (NW<wet_snow))]) / len_wind * 100\n",
    "    NW_wet_snow = len(NW[np.where((NW>=wet_snow) & (NW<all_snow))]) / len_wind * 100\n",
    "    NW_all_snow = len(NW[np.where((NW>=all_snow))]) / len_wind * 100\n",
    "\n",
    "    print([N_no_transport, NE_no_transport, E_no_transport, SE_no_transport, S_no_transport, SW_no_transport, W_no_transport, NW_no_transport])\n",
    "    print([N_snowfall, NE_snowfall, E_snowfall, SE_snowfall, S_snowfall, SW_snowfall, W_snowfall, NW_snowfall])\n",
    "    print([N_dry_snow, NE_dry_snow, E_dry_snow, SE_dry_snow, S_dry_snow, SW_dry_snow, W_dry_snow, NW_dry_snow])\n",
    "    print([N_wet_snow, NE_wet_snow, E_wet_snow, SE_wet_snow, S_wet_snow, SW_wet_snow, W_wet_snow, NW_wet_snow])\n",
    "    print([N_all_snow, NE_all_snow, E_all_snow, SE_all_snow, S_all_snow, SW_all_snow, W_all_snow, NW_all_snow])\n",
    "\n",
    "    if js_str:\n",
    "        str0 = \"var no_transport = [{0}, {1}, {2}, {3}, {4}, {5}, {6}, {7}];\".format(N_no_transport, NE_no_transport, E_no_transport, SE_no_transport, S_no_transport, SW_no_transport, W_no_transport, NW_no_transport)\n",
    "        str1 = \"var snowfall = [{0}, {1}, {2}, {3}, {4}, {5}, {6}, {7}];\".format(N_snowfall, NE_snowfall, E_snowfall, SE_snowfall, S_snowfall, SW_snowfall, W_snowfall, NW_snowfall)\n",
    "        str2 = \"var dry_snow = [{0}, {1}, {2}, {3}, {4}, {5}, {6}, {7}];\".format(N_dry_snow, NE_dry_snow, E_dry_snow, SE_dry_snow, S_dry_snow, SW_dry_snow, W_dry_snow, NW_dry_snow)\n",
    "        str3 = \"var wet_snow = [{0}, {1}, {2}, {3}, {4}, {5}, {6}, {7}];\".format(N_wet_snow, NE_wet_snow, E_wet_snow, SE_wet_snow, S_wet_snow, SW_wet_snow, W_wet_snow, NW_wet_snow)\n",
    "        str4 = \"var all_snow = [{0}, {1}, {2}, {3}, {4}, {5}, {6}, {7}];\".format(N_all_snow, NE_all_snow, E_all_snow, SE_all_snow, S_all_snow, SW_all_snow, W_all_snow, NW_all_snow)\n",
    "\n",
    "        json_str = \"{0}\\n{1}\\n{2}\\n{3}\\n{4}\".format(str0, str1, str2, str3, str4)\n",
    "\n",
    "        return json_str\n",
    "\n",
    "    else:\n",
    "        wind_classes = {\"no_transport\": [N_no_transport, NE_no_transport, E_no_transport, SE_no_transport, S_no_transport, SW_no_transport, W_no_transport, NW_no_transport],\n",
    "                        \"snowfall\": [N_snowfall, NE_snowfall, E_snowfall, SE_snowfall, S_snowfall, SW_snowfall, W_snowfall, NW_snowfall],\n",
    "                        \"dry_snow\": [N_dry_snow, NE_dry_snow, E_dry_snow, SE_dry_snow, S_dry_snow, SW_dry_snow, W_dry_snow, NW_dry_snow],\n",
    "                        \"wet_snow\":[N_wet_snow, NE_wet_snow, E_wet_snow, SE_wet_snow, S_wet_snow, SW_wet_snow, W_wet_snow, NW_wet_snow],\n",
    "                        \"all_snow\": [N_all_snow, NE_all_snow, E_all_snow, SE_all_snow, S_all_snow, SW_all_snow, W_all_snow, NW_all_snow]}\n",
    "\n",
    "        return wind_classes"
   ]
  },
  {
   "cell_type": "code",
   "execution_count": null,
   "metadata": {},
   "outputs": [],
   "source": [
    "# Define plotting functions\n",
    "def plt_wind_dir(wind_dir, ax=None):\n",
    "    if ax == None:\n",
    "        f, (ax) = plt.subplots(1, 1)\n",
    "    pwd = ax.imshow(np.flipud(wind_dir), cmap=plt.cm.hsv, vmin=0, vmax=360)\n",
    "    cbar = plt.colorbar(mappable=pwd, ax=ax)\n",
    "    cbar.set_ticks([0, 45, 90, 135, 180, 225, 270, 315, 360])\n",
    "    cbar.set_ticklabels(['N', 'NØ', 'Ø', 'SØ', 'S', 'SV', 'V', 'NV', 'N'])\n",
    "    # cbar.set_ticks([-180, -135, -90, -45, 0, 45, 90, 135, 180])\n",
    "    # cbar.set_ticklabels(['S', 'SV', 'V', 'NV', 'N', 'NØ', 'Ø', 'SØ', 'S'])\n",
    "    cbar.set_label(\"Vindretning\")\n",
    "\n",
    "def plt_wind_speed(wind_speed, ax=None):\n",
    "    if ax == None:\n",
    "        f, (ax) = plt.subplots(1, 1)\n",
    "    pws = ax.imshow(np.flipud(wind_speed), cmap=plt.cm.jet, vmin=0, vmax=32.6)\n",
    "    cbar = plt.colorbar(mappable=pws, ax=ax)\n",
    "    cbar.set_ticks([0, 1.5, 3.3, 5.5, 7.9, 10.7, 13.8, 17.1, 20.7, 24.4, 28.4, 32.6])\n",
    "    cbar.set_label(\"Vindhastighet (m/s)\")\n",
    "\n",
    "def plt_windrose(wind_dir_f, wind_speed_f, title=\"\"):\n",
    "    # Convert wind direction from -180 to 180 to 0 to 360 degree.\n",
    "    wind_dir_f[np.where((wind_dir_f<0.0))] = wind_dir_f[np.where((wind_dir_f<0.0))] + 360.0\n",
    "\n",
    "    ax = WindroseAxes.from_ax()\n",
    "    ax.bar(wind_dir_f, wind_speed_f, normed=True, opening=0.8, edgecolor='white', nsector=8, bins=[0,1.6,3.4,5.5,8.0,10.8,13.9,17.2,20.8,24.5,28.5,32.6])\n",
    "    ax.set_legend()\n",
    "    ax.set_title(title)\n",
    "    ax.set_facecolor('k')\n",
    "    plt.gcf().patch.set_facecolor('k')\n",
    "    return ax\n",
    "\n",
    "def plt_windrose_transport(wind_dir_f, wind_speed_f, title=\"\"):\n",
    "    # Convert wind direction from -180 to 180 to 0 to 360 degree.\n",
    "    wind_dir_f[np.where((wind_dir_f<0.0))] = wind_dir_f[np.where((wind_dir_f<0.0))] + 360.0\n",
    "\n",
    "    ax = WindroseAxes.from_ax()\n",
    "    ax.bar(wind_dir_f, wind_speed_f, normed=True, opening=0.8, edgecolor='white', nsector=8, bins=[0,2,4.5,6.5,10.7,13.6])\n",
    "    #ax.legend(labels=[\"ingen transport\", \"ved snøfall\", \"ved ubunden snø\", \"ved bunden snø\", \"hvis ikke skare/avblåst\"])\n",
    "    ax.set_legend()\n",
    "    ax.set_title(title)\n",
    "    ax.set_facecolor('k')\n",
    "    return ax\n",
    "\n",
    "def plt_snow_transport(wind_dir_f, wind_speed_f, title=\"\"):\n",
    "    # Convert wind direction from -180 to 180 to 0 to 360 degree.\n",
    "    #wind_dir_f = -wind_dir_f\n",
    "    wind_dir_f[np.where((wind_dir_f<0.0))] = wind_dir_f[np.where((wind_dir_f<0.0))] + 360.0\n",
    "\n",
    "    ax = WindroseAxes.from_ax()\n",
    "    ax.contourf(wind_dir_f, wind_speed_f, normed=True, bins=[0,2,4.5,6.5,10.7,13.6])\n",
    "    ax.set_legend()\n",
    "    ax.set_title(title)\n",
    "\n",
    "    return ax"
   ]
  },
  {
   "cell_type": "markdown",
   "metadata": {},
   "source": [
    "## Short test"
   ]
  },
  {
   "cell_type": "code",
   "execution_count": null,
   "metadata": {},
   "outputs": [],
   "source": [
    "wind_dir = np.array([[0, 30, 50], [45, 180, 220], [350, 200, 130]], dtype=\"float\")\n",
    "print(wind_dir)\n",
    "plt_wind_dir(wind_dir)\n"
   ]
  },
  {
   "cell_type": "markdown",
   "metadata": {
    "pycharm": {
     "name": "#%% md\n"
    }
   },
   "source": [
    "## Using meps_det_pp files on "
   ]
  },
  {
   "cell_type": "code",
   "execution_count": null,
   "metadata": {
    "pycharm": {
     "name": "#%%\n"
    }
   },
   "outputs": [],
   "source": [
    "meps_dir = r'Y:\\metdata\\prognosis\\met_pp_nordic\\forecast\\archive'\n",
    "meps_yr = 2020\n",
    "meps_file = 'met_forecast_1_0km_Norway_{date}T{hour}Z.nc'\n",
    "\n",
    "meps_date = 20200416\n",
    "meps_hour = 4\n",
    "\n",
    "meps_pth = Path(meps_dir, str(meps_yr), meps_file.format(date=meps_date, hour=str(meps_hour).zfill(2)))\n",
    "print(meps_pth)"
   ]
  },
  {
   "cell_type": "code",
   "execution_count": null,
   "metadata": {
    "pycharm": {
     "name": "#%%\n"
    }
   },
   "outputs": [],
   "source": [
    "nc = netCDF4.Dataset(meps_pth)\n",
    "\n",
    "ref_time_v = nc.variables['forecast_reference_time']\n",
    "ref_time = netCDF4.num2date(ref_time_v[0], ref_time_v.units)\n",
    "print('Data from model run at {0}'.format(ref_time))\n",
    "\n",
    "time_v = nc.variables['time']\n",
    "\n",
    "print('Period from {0} to {1}'.format(netCDF4.num2date(time_v[0], time_v.units), netCDF4.num2date(time_v[-1], time_v.units)))\n",
    "\n",
    "# Choose a time-step\n",
    "t_index = 18\n",
    "# Choose a pressure level (if applicable)\n",
    "p_index = 12 # 12=1000hPa, 11=925hPa, 10=850hPa, ..., 7=500hPa, ..., 0=50hPa in arome_metcoop_test\n",
    "\n",
    "ts = netCDF4.num2date(time_v[t_index], time_v.units)\n",
    "print('Index chosen at time', ts)\n"
   ]
  },
  {
   "cell_type": "code",
   "execution_count": null,
   "metadata": {
    "pycharm": {
     "name": "#%%\n"
    }
   },
   "outputs": [],
   "source": [
    "for k in nc.variables.keys():\n",
    "    print(k)\n",
    "\n",
    "wind_speed_v = nc.variables['wind_speed_10m']\n",
    "wind_dir_v = nc.variables['wind_direction_10m']"
   ]
  },
  {
   "cell_type": "code",
   "execution_count": null,
   "metadata": {},
   "outputs": [],
   "source": []
  },
  {
   "cell_type": "markdown",
   "metadata": {},
   "source": [
    "### Wind speed"
   ]
  },
  {
   "cell_type": "code",
   "execution_count": null,
   "metadata": {
    "pycharm": {
     "name": "#%%\n"
    }
   },
   "outputs": [],
   "source": [
    "ws = wind_speed_v[t_index, :, :]\n",
    "plt_wind_speed(ws)"
   ]
  },
  {
   "cell_type": "code",
   "execution_count": null,
   "metadata": {
    "pycharm": {
     "name": "#%%\n"
    }
   },
   "outputs": [],
   "source": [
    "sns.distplot(ws.flatten())"
   ]
  },
  {
   "cell_type": "markdown",
   "metadata": {},
   "source": [
    "### Wind direction"
   ]
  },
  {
   "cell_type": "code",
   "execution_count": null,
   "metadata": {
    "pycharm": {
     "name": "#%%\n"
    }
   },
   "outputs": [],
   "source": [
    "wd = wind_dir_v[t_index, :, :]\n",
    "plt_wind_dir(wd)"
   ]
  },
  {
   "cell_type": "code",
   "execution_count": null,
   "metadata": {
    "pycharm": {
     "name": "#%%\n"
    }
   },
   "outputs": [],
   "source": [
    "sns.distplot(wd.flatten())"
   ]
  },
  {
   "cell_type": "markdown",
   "metadata": {
    "pycharm": {
     "name": "#%% md\n"
    }
   },
   "source": []
  },
  {
   "cell_type": "code",
   "execution_count": null,
   "metadata": {},
   "outputs": [],
   "source": [
    "# classify_wind(ws.flatten(), wd.flatten())"
   ]
  },
  {
   "cell_type": "code",
   "execution_count": null,
   "metadata": {},
   "outputs": [],
   "source": [
    "plt_windrose(wd.flatten(), ws.flatten(), str(ts))"
   ]
  },
  {
   "cell_type": "code",
   "execution_count": null,
   "metadata": {},
   "outputs": [],
   "source": [
    "#plt_windrose_transport(wind_dir_f, wind_speed_f, t_info)"
   ]
  },
  {
   "cell_type": "code",
   "execution_count": null,
   "metadata": {},
   "outputs": [],
   "source": [
    "#plt_snow_transport(snow_dep_f, wind_speed_f)"
   ]
  },
  {
   "cell_type": "code",
   "execution_count": null,
   "metadata": {},
   "outputs": [],
   "source": [
    "# snow_classes = classify_wind_transport(wind_speed_f, snow_dep_f, js_str=True)\n",
    "#print(snow_classes)"
   ]
  },
  {
   "cell_type": "markdown",
   "metadata": {},
   "source": [
    "## Using wind data on xgeo-grid\n",
    "\n",
    "Possible issues:\n",
    "\n",
    " - I do not have to use the flipud function for the xgeo-gridded data. Does that influence the wind direction, i.e. is the y-vector in the opposite direction between the two data sets???\n"
   ]
  },
  {
   "cell_type": "code",
   "execution_count": null,
   "metadata": {},
   "outputs": [],
   "source": [
    "# Load region mask\n",
    "vr = netCDF4.Dataset(r\"../data/terrain_parameters/VarslingsOmr_2017.nc\", \"r\")\n",
    "\n",
    "regions = (vr.variables[\"VarslingsOmr_2017\"][:]) #np.flipud - needs to be flipped up/down when using wind from netCDF files.\n",
    "\n",
    "# ID = 3007 # Vest-Finnmark\n",
    "ID = 3014 # Lofoten & Vesterålen\n",
    "#ID = 3029 # Indre Sogn\n",
    "#ID = 3033 # Hordalandskysten\n",
    "region_mask = np.where(regions==ID)\n",
    "# get the lower left and upper right corner of a rectangle around the region\n",
    "y_min, y_max, x_min, x_max = min(region_mask[0].flatten()), max(region_mask[0].flatten()), min(region_mask[1].flatten()), max(region_mask[1].flatten())\n",
    "\n",
    "plt.imshow(regions, vmin=3007, vmax=3040)\n",
    "\n"
   ]
  },
  {
   "cell_type": "code",
   "execution_count": null,
   "metadata": {},
   "outputs": [],
   "source": [
    "x1, x2 = x_min, x_max # possible to add a buffer of step_x\n",
    "y1, y2 = y_min, y_max # possible to add a buffer of step_y\n",
    "\n",
    "print(\"Time period: {0} - {1}\".format(netCDF4.num2date(time_v[t_index], time_v.units), netCDF4.num2date(time_v[t_index+24], time_v.units)))\n",
    "\n",
    "# wind_x = wind_x_v[6:7, y1:y2, x1:x2]\n",
    "# wind_y = wind_y_v[6:7, y1:y2, x1:x2]\n",
    "# print(wind_x.shape)\n",
    "\n",
    "wind_speed_reg = wind_speed_v[t_index:t_index+24, y1:y2, x1:x2]\n",
    "wind_dir_reg = wind_dir_v[t_index:t_index+24, y1:y2, x1:x2]\n",
    "print(wind_speed_reg.shape)\n",
    "\n",
    "region_mask = regions[y1:y2, x1:x2] # redefine region_mask, now clipped to area of interest\n",
    "\n",
    "\n",
    "\n",
    "wind_speed_reg_ma = np.ma.asarray(wind_speed_reg)\n",
    "wind_dir_reg_ma = np.ma.asarray(wind_dir_reg)\n",
    "for i in range(wind_speed_reg.shape[0]):\n",
    "    wind_speed_reg_ma[i, :, :] = np.ma.masked_where(region_mask!=ID, wind_speed_reg_ma[i, :, :], copy=False)\n",
    "    #print(type(wind_x[i, :, :]))\n",
    "    wind_dir_reg_ma[i, :, :] = np.ma.masked_where(region_mask!=ID, wind_dir_reg_ma[i, :, :], copy=False)"
   ]
  },
  {
   "cell_type": "code",
   "execution_count": null,
   "metadata": {
    "pycharm": {
     "name": "#%%\n"
    }
   },
   "outputs": [],
   "source": [
    "altitude_reg = nc.variables['altitude'][y1:y2, x1:x2]\n",
    "sns.distplot(altitude_reg.flatten(), label='altitude')\n"
   ]
  },
  {
   "cell_type": "code",
   "execution_count": null,
   "metadata": {
    "pycharm": {
     "name": "#%%\n"
    }
   },
   "outputs": [],
   "source": [
    "cutoff_elevation = 30.0\n",
    "for i in range(wind_speed_reg.shape[0]):\n",
    "    wind_speed_reg_ma[i, :, :] = np.ma.masked_where(altitude_reg<=cutoff_elevation, wind_speed_reg_ma[i, :, :], copy=False)\n",
    "    #print(type(wind_x[i, :, :]))\n",
    "    wind_dir_reg_ma[i, :, :] = np.ma.masked_where(altitude_reg<=cutoff_elevation, wind_dir_reg_ma[i, :, :], copy=False)"
   ]
  },
  {
   "cell_type": "markdown",
   "metadata": {},
   "source": [
    "**ToDo:** split data in gridcells that are above and below treeline - use a fixed treeline elevation or the vegetation mask for each cell."
   ]
  },
  {
   "cell_type": "code",
   "execution_count": null,
   "metadata": {},
   "outputs": [],
   "source": [
    "wind_dir_reg_f = wind_dir_reg_ma.flatten()\n",
    "wind_speed_reg_f = wind_speed_reg_ma.flatten()"
   ]
  },
  {
   "cell_type": "code",
   "execution_count": null,
   "metadata": {
    "pycharm": {
     "name": "#%%\n"
    }
   },
   "outputs": [],
   "source": [
    "sns.distplot(wind_dir_reg_f)"
   ]
  },
  {
   "cell_type": "code",
   "execution_count": null,
   "metadata": {
    "pycharm": {
     "name": "#%%\n"
    }
   },
   "outputs": [],
   "source": [
    "ax = sns.distplot(wind_speed_reg_f, label=str(ID))\n",
    "ax.legend()"
   ]
  },
  {
   "cell_type": "code",
   "execution_count": null,
   "metadata": {},
   "outputs": [],
   "source": [
    "# Choose a time-step\n",
    "t_index_24h = 12\n",
    "ts = netCDF4.num2date(time_v[t_index+t_index_24h], time_v.units)\n",
    "\n",
    "f, (ax1, ax2) = plt.subplots(1, 2, sharex=True, sharey=True)\n",
    "plt_wind_speed(wind_speed_reg_ma[t_index_24h,:,:], ax=ax1)\n",
    "plt_wind_dir(wind_dir_reg_ma[t_index_24h,:,:], ax=ax2)\n",
    "\n",
    "plt.title(ts)\n",
    "plt.show()"
   ]
  },
  {
   "cell_type": "code",
   "execution_count": null,
   "metadata": {},
   "outputs": [],
   "source": [
    "plt_windrose(wind_dir_reg_f, wind_speed_reg_f)"
   ]
  },
  {
   "cell_type": "markdown",
   "metadata": {},
   "source": [
    "**ToDo:** Compare wind speeds for 10m and 850hpa - 850hpa might be too high to use as a basis!"
   ]
  },
  {
   "cell_type": "markdown",
   "metadata": {},
   "source": [
    "**NEXT**\n",
    "\n",
    "Define criteria for which wind speed and direction to choose for the regional weather.\n",
    "\n",
    "- Lower threshold for wind speeds of concern\n",
    "- Threshold in % when to consider only one wind direction\n",
    "- Which directions to include if several wind directions could be relevant?"
   ]
  },
  {
   "cell_type": "markdown",
   "metadata": {},
   "source": [
    "***CHECK*** Looks like there is a bug. Percentages do not add up to 100% and values are generally too low..."
   ]
  },
  {
   "cell_type": "markdown",
   "metadata": {
    "pycharm": {
     "name": "#%% md\n"
    }
   },
   "source": [
    "## Wind direction for wind speeds above 7 m/s"
   ]
  },
  {
   "cell_type": "code",
   "execution_count": null,
   "metadata": {},
   "outputs": [],
   "source": [
    "dominant = wind_dir_reg_f[np.where(wind_speed_reg_f>7.0)]\n",
    "sns.distplot(dominant)"
   ]
  },
  {
   "cell_type": "code",
   "execution_count": null,
   "metadata": {},
   "outputs": [],
   "source": [
    "# snow_classes = classify_wind_transport(wind_speed_f, snow_dep_f, js_str=True)\n",
    "# print(snow_classes)\n",
    "\n"
   ]
  },
  {
   "cell_type": "markdown",
   "metadata": {},
   "source": [
    "# Testing influence of matrix convention on vector direction"
   ]
  },
  {
   "cell_type": "code",
   "execution_count": null,
   "metadata": {},
   "outputs": [],
   "source": [
    "def vec(x, y):\n",
    "    vec_size = np.sqrt(x**2 + y**2)\n",
    "    vec_dir = np.degrees(np.arctan2(x, y))\n",
    "\n",
    "    return vec_size, vec_dir"
   ]
  },
  {
   "cell_type": "code",
   "execution_count": null,
   "metadata": {},
   "outputs": [],
   "source": [
    "x1 = np.array([[1, 2, -1],[-2, -1, 1],[2, -1, 1]])\n",
    "\n",
    "y1 = np.array([[1, 2, -1],[-2, -1, 1],[2, -1, 1]])\n",
    "\n",
    "f, (ax1, ax2) = plt.subplots(1, 2, sharex=True, sharey=True)\n",
    "ax1.imshow(x1)\n",
    "ax2.imshow(y1)"
   ]
  },
  {
   "cell_type": "code",
   "execution_count": null,
   "metadata": {},
   "outputs": [],
   "source": [
    "f, (ax1, ax2) = plt.subplots(1, 2, sharex=True, sharey=True)\n",
    "ax1.imshow(np.flipud(x1))\n",
    "ax2.imshow(np.flipud(y1))"
   ]
  },
  {
   "cell_type": "code",
   "execution_count": null,
   "metadata": {},
   "outputs": [],
   "source": [
    "vec_size, vec_dir = vec(x1, y1)\n",
    "plt_wind_dir(vec_dir)"
   ]
  },
  {
   "cell_type": "code",
   "execution_count": null,
   "metadata": {},
   "outputs": [],
   "source": [
    "vec_size, vec_dir = vec(np.flipud(x1), np.flipud(y1))\n",
    "plt_wind_dir(vec_dir)"
   ]
  },
  {
   "cell_type": "code",
   "execution_count": null,
   "metadata": {},
   "outputs": [],
   "source": []
  }
 ],
 "metadata": {
  "kernelspec": {
   "display_name": "Python 3",
   "language": "python",
   "name": "python3"
  },
  "language_info": {
   "codemirror_mode": {
    "name": "ipython",
    "version": 3
   },
   "file_extension": ".py",
   "mimetype": "text/x-python",
   "name": "python",
   "nbconvert_exporter": "python",
   "pygments_lexer": "ipython3",
   "version": "3.7.3"
  },
  "pycharm": {
   "stem_cell": {
    "cell_type": "raw",
    "metadata": {
     "collapsed": false
    },
    "source": []
   }
  }
 },
 "nbformat": 4,
 "nbformat_minor": 1
}