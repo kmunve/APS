{
 "cells": [
  {
   "cell_type": "markdown",
   "metadata": {},
   "source": [
    "# Learning avalanche problems by meteorological factors"
   ]
  },
  {
   "cell_type": "code",
   "execution_count": 1,
   "metadata": {},
   "outputs": [],
   "source": [
    "import pandas as pd\n",
    "import numpy as np\n",
    "import json\n",
    "import graphviz\n",
    "import matplotlib.pyplot as plt\n",
    "from sklearn import tree\n",
    "from sklearn.preprocessing import LabelEncoder\n",
    "from pprint import pprint\n",
    "\n",
    "pd.set_option(\"display.max_rows\",6)\n",
    "\n",
    "%matplotlib inline"
   ]
  },
  {
   "cell_type": "markdown",
   "metadata": {},
   "source": [
    "## Split into test and traininng data to run a prediction\n",
    "We use the avalanche forecasts from _Nordvestlandet_ including the forecasting regions _Trollheimen_, _Romsdalen_ and _Sunnmøre_. We keep only the parameters provided by the mountain weather forecast. Besides the weather data for the current day we add the precipitation from the previous day as an additional parameter.\n",
    "\n",
    "We use 75% of the data for training the model and the remaining 25% to test the model afterwards."
   ]
  },
  {
   "cell_type": "code",
   "execution_count": 2,
   "metadata": {},
   "outputs": [
    {
     "name": "stdout",
     "output_type": "stream",
     "text": [
      "-1\n",
      "378\n",
      "136\n"
     ]
    }
   ],
   "source": [
    "df_numdata = pd.read_csv('varsel_nordvestlandet_17_18.csv', index_col=0)\n",
    "\n",
    "### Remove the \"2|\" in column Rainfall_Average\n",
    "df_numdata = df_numdata[df_numdata['Rainfall_Average'] != '2|']        \n",
    "\n",
    "### create new data columns with previous days weather data\n",
    "df_numdata['Rainfall_Most_exposed_area_-1day'] = 0 # precip on the day before - be aware that missing index/day will set previous day to zero\n",
    "for index, row in df_numdata.iterrows():\n",
    "    try:\n",
    "        df_numdata.loc[index, 'Rainfall_Most_exposed_area_-1day'] = df_numdata.loc[index-1, 'Rainfall_Most_exposed_area']\n",
    "    except KeyError:\n",
    "        print(index-1)\n",
    "\n",
    "### Randomly shuffle the index of nba.\n",
    "random_indices = np.random.permutation(df_numdata.index)\n",
    "### Set a cutoff for how many items we want in the test set (in this case 1/3 of the items)\n",
    "test_cutoff = np.int(np.floor(len(df_numdata)/4))\n",
    "print(test_cutoff)\n",
    "### Generate the test set by taking the first 1/3 of the randomly shuffled indices.\n",
    "df_test = df_numdata.loc[random_indices[1:test_cutoff]]\n",
    "### Generate the train set with the rest of the data.\n",
    "df_train = df_numdata.loc[random_indices[test_cutoff:]]\n",
    "\n",
    "### Keep only the columns containing weather data...\n",
    "df_train_target = df_train.filter(['AvalancheProblems_0_Class_AvalancheProblemTypeId'], axis=1) \n",
    "df_train_input = df_train.filter(['Rainfall_Most_exposed_area',\n",
    "                                    'Rainfall_Average',\n",
    "                                    'Wind_Speed_Num',\n",
    "                                    'Wind_Direction_Num',\n",
    "                                    'Temperature_Min',\n",
    "                                    'Temperature_Max',\n",
    "                                    'Temperature_masl',\n",
    "                                    'Freezing_Level_masl',\n",
    "                                    'Rainfall_Most_exposed_area_-1day'], axis=1)\n",
    "### ...and split between input and target\n",
    "df_test_target = df_test.filter(['AvalancheProblems_0_Class_AvalancheProblemTypeId'], axis=1) \n",
    "df_test_input = df_test.filter(['Rainfall_Most_exposed_area',\n",
    "                                    'Rainfall_Average',\n",
    "                                    'Wind_Speed_Num',\n",
    "                                    'Wind_Direction_Num',\n",
    "                                    'Temperature_Min',\n",
    "                                    'Temperature_Max',\n",
    "                                    'Temperature_masl',\n",
    "                                    'Freezing_Level_masl',\n",
    "                                    'Rainfall_Most_exposed_area_-1day'], axis=1)"
   ]
  },
  {
   "cell_type": "code",
   "execution_count": 3,
   "metadata": {},
   "outputs": [
    {
     "name": "stdout",
     "output_type": "stream",
     "text": [
      "Categorical classes: [2 4 5 6 7]\n",
      "['Loose wet', 'Wet slab', 'Storm slab', 'Wind slab', 'Persistent slab']\n"
     ]
    },
    {
     "data": {
      "text/plain": [
       "'avalanche_problem_meteo_train.pdf'"
      ]
     },
     "execution_count": 3,
     "metadata": {},
     "output_type": "execute_result"
    }
   ],
   "source": [
    "### get the correct target labels\n",
    "with open(r'../config/snoskred_keys.json') as jdata:\n",
    "    snoskred_keys = json.load(jdata)\n",
    "    \n",
    "enc = LabelEncoder()\n",
    "label_encoder = enc.fit(df_train_target['AvalancheProblems_0_Class_AvalancheProblemTypeId'])\n",
    "print (\"Categorical classes:\", label_encoder.classes_)\n",
    "class_names2 = []\n",
    "for l in label_encoder.classes_:\n",
    "    class_names2.append(snoskred_keys['Class_AvalancheProblemTypeName'][str(l)])\n",
    "print(class_names2)\n",
    "\n",
    "### \n",
    "train_input = np.array(df_train_input.values, dtype=float)\n",
    "train_target = np.array(df_train_target.values, dtype=float)\n",
    "\n",
    "clf2 = tree.DecisionTreeClassifier(min_samples_leaf=8)\n",
    "clf2 = clf2.fit(train_input, train_target)\n",
    "\n",
    "### could also use\n",
    "#clf2 = clf2.fit(df_train_input.values, df_train_target.values)\n",
    "\n",
    "dot_data2 = tree.export_graphviz(clf2, out_file=None,\n",
    "                                feature_names = df_train_input.columns.values,\n",
    "                                class_names = class_names2,\n",
    "                                #proportion = True, # show precentages instead of members\n",
    "                                label = \"root\",\n",
    "                                filled=True, rounded=True, special_characters=True                                \n",
    "                                )\n",
    "graph2 = graphviz.Source(dot_data2) \n",
    "graph2.render(\"avalanche_problem_meteo_train\") "
   ]
  },
  {
   "cell_type": "markdown",
   "metadata": {},
   "source": [
    "We can now compare the prediction by the model to the given target values in the test dataset. "
   ]
  },
  {
   "cell_type": "code",
   "execution_count": 4,
   "metadata": {},
   "outputs": [
    {
     "data": {
      "image/png": "[encoded data removed]",
      "text/plain": [
       "<Figure size 1080x720 with 1 Axes>"
      ]
     },
     "metadata": {},
     "output_type": "display_data"
    }
   ],
   "source": [
    "test_input = np.array(df_test_input.values, dtype=float)\n",
    "test_target = np.array(df_test_target.values, dtype=float)\n",
    "y = clf2.predict(test_input)\n",
    "s = clf2.score(test_input, test_target)\n",
    "\n",
    "i = np.arange(len(y))\n",
    "fig = plt.figure(figsize=(15,10))\n",
    "ax = fig.gca()\n",
    "ax.scatter(i, np.squeeze(test_target), label='Truth')\n",
    "ax.scatter(i, y, label='Prediction')\n",
    "plt.xlabel('Index')\n",
    "#ax = fig.gca()\n",
    "#index_labels = ax.get_yticklabels()\n",
    "#named_labels = [snoskred_keys['Class_AvalancheProblemTypeName'][l] for l in index_labels]\n",
    "#print(list(index_labels))#, named_labels)\n",
    "named_labels = [\"Loose dry\", \"Loose wet\", \"Glide avalanche\", \"Wet slab\", \"Storm slab\", \"Wind slab\", \"Persistent slab\",]\n",
    "ax.set_yticklabels(named_labels)\n",
    "plt.title('Trained on {2} cases\\nTesting {0} cases\\nClassification score = {1:0.2f}'.format(len(test_target), s, len(train_target)))\n",
    "plt.legend()\n",
    "plt.savefig('nordvestlandet_prediction.pdf')"
   ]
  },
  {
   "cell_type": "markdown",
   "metadata": {},
   "source": [
    "### Investigating the metrics of the model"
   ]
  },
  {
   "cell_type": "code",
   "execution_count": 5,
   "metadata": {},
   "outputs": [
    {
     "name": "stdout",
     "output_type": "stream",
     "text": [
      "Accuracy:0.637 \n",
      "\n",
      "Classification report\n",
      "             precision    recall  f1-score   support\n",
      "\n",
      "        2.0       0.72      0.84      0.78        31\n",
      "        4.0       0.00      0.00      0.00         5\n",
      "        5.0       0.53      0.56      0.54        18\n",
      "        6.0       0.71      0.74      0.73        47\n",
      "        7.0       0.52      0.44      0.48        34\n",
      "\n",
      "avg / total       0.61      0.64      0.62       135\n",
      " \n",
      "\n",
      "Confusion matrix\n",
      "[[26  2  2  0  1]\n",
      " [ 3  0  2  0  0]\n",
      " [ 2  0 10  2  4]\n",
      " [ 3  0  0 35  9]\n",
      " [ 2  0  5 12 15]] \n",
      "\n"
     ]
    }
   ],
   "source": [
    "from sklearn import metrics\n",
    "def measure_performance(X,y,clf, show_accuracy=True, show_classification_report=True, show_confusion_matrix=True):\n",
    "    y_pred=clf.predict(X)   \n",
    "    if show_accuracy:\n",
    "        print (\"Accuracy:{0:.3f}\".format(metrics.accuracy_score(y,y_pred)),\"\\n\")\n",
    "\n",
    "    if show_classification_report:\n",
    "        print (\"Classification report\")\n",
    "        print (metrics.classification_report(y,y_pred),\"\\n\")\n",
    "        \n",
    "    if show_confusion_matrix:\n",
    "        print (\"Confusion matrix\")\n",
    "        print (metrics.confusion_matrix(y,y_pred),\"\\n\")\n",
    "        \n",
    "measure_performance(test_input, test_target,clf2)#, show_classification_report=False, show_confusion_matrix=False)"
   ]
  },
  {
   "cell_type": "code",
   "execution_count": null,
   "metadata": {},
   "outputs": [],
   "source": []
  }
 ],
 "metadata": {
  "kernelspec": {
   "display_name": "Python 3",
   "language": "python",
   "name": "python3"
  },
  "language_info": {
   "codemirror_mode": {
    "name": "ipython",
    "version": 3
   },
   "file_extension": ".py",
   "mimetype": "text/x-python",
   "name": "python",
   "nbconvert_exporter": "python",
   "pygments_lexer": "ipython3",
   "version": "3.6.0"
  }
 },
 "nbformat": 4,
 "nbformat_minor": 2
}
