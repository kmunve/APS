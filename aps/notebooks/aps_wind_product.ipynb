{
 "cells": [
  {
   "cell_type": "markdown",
   "metadata": {},
   "source": [
    "# Regional wind distribution"
   ]
  },
  {
   "cell_type": "markdown",
   "metadata": {},
   "source": [
    "## Imports"
   ]
  },
  {
   "cell_type": "code",
   "execution_count": 127,
   "metadata": {
    "collapsed": true
   },
   "outputs": [],
   "source": [
    "# -*- coding: utf-8 -*-\n",
    "%matplotlib inline\n",
    "\n",
    "import pylab as plt\n",
    "plt.rcParams['figure.figsize'] = (14, 6)\n",
    "\n",
    "import datetime\n",
    "import numpy as np\n",
    "import netCDF4\n",
    "\n",
    "from windrose import WindroseAxes\n",
    "\n",
    "import warnings\n",
    "warnings.filterwarnings(\"ignore\")"
   ]
  },
  {
   "cell_type": "markdown",
   "metadata": {},
   "source": [
    "## Classification"
   ]
  },
  {
   "cell_type": "code",
   "execution_count": 139,
   "metadata": {
    "collapsed": false
   },
   "outputs": [],
   "source": [
    "# Classify by Beaufort scale\n",
    "def classify_wind(wind_speed_f, wind_dir_f, js_str=True, percentage=True):\n",
    "    len_wind = len(wind_speed_f)\n",
    "    \n",
    "    # Seperate by wind direction\n",
    "    N = wind_speed_f[np.where((wind_dir_f>-22.5) & (wind_dir_f<=22.5))]\n",
    "\n",
    "    NE = wind_speed_f[np.where((wind_dir_f>22.5) & (wind_dir_f<=67.5))]\n",
    "\n",
    "    E = wind_speed_f[np.where((wind_dir_f>67.5) & (wind_dir_f<=112.5))]\n",
    "\n",
    "    SE = wind_speed_f[np.where((wind_dir_f>112.5) & (wind_dir_f<=167.5))]\n",
    "\n",
    "    S = wind_speed_f[np.where((wind_dir_f>167.5) & (wind_dir_f<=180.0) | (wind_dir_f>-167.5) & (wind_dir_f<=-180.0))]\n",
    "\n",
    "    SW = wind_speed_f[np.where((wind_dir_f>-167.5) & (wind_dir_f<=-112.5))]\n",
    "\n",
    "    W = wind_speed_f[np.where((wind_dir_f>-112.5) & (wind_dir_f<=-67.5))]\n",
    "\n",
    "    NW = wind_speed_f[np.where((wind_dir_f>-67.5) & (wind_dir_f<=-22.5))]\n",
    "    \n",
    "    \n",
    "    \n",
    "    if percentage:\n",
    "        a = 100\n",
    "    else:\n",
    "        a = 24\n",
    "\n",
    "\n",
    "    # Seperate by wind speed -> config file\n",
    "    breeze = 3.4\n",
    "    fresh_breeze = 8.0\n",
    "    strong_breeze = 10.8\n",
    "    high_wind = 13.9\n",
    "    gale = 17.2\n",
    "    strong_gale = 20.8\n",
    "    storm = 24.5\n",
    "    hurricane = 32.7\n",
    "    \n",
    "    N_calm = len(N[np.where(N<breeze)]) / len_wind * a\n",
    "    N_breeze = len(N[np.where((N>=breeze) & (N<strong_breeze))]) / len_wind * a\n",
    "    N_fresh_breeze = len(N[np.where((N>=fresh_breeze) & (N<strong_breeze))]) / len_wind * a\n",
    "    N_strong_breeze = len(N[np.where((N>=strong_breeze) & (N<high_wind))]) / len_wind * a\n",
    "    N_high_wind = len(N[np.where((N>=high_wind) & (N<gale))]) / len_wind * a\n",
    "    N_gale = len(N[np.where((N>=gale) & (N<strong_gale))]) / len_wind * a\n",
    "    N_strong_gale = len(N[np.where((N>=strong_gale) & (N<storm))]) / len_wind * a\n",
    "    N_storm = len(N[np.where((N>=storm) & (N<hurricane))]) / len_wind * a\n",
    "    N_hurricane = len(N[np.where((N>=hurricane))]) / len_wind * a\n",
    "\n",
    "    NE_calm = len(NE[np.where(NE<breeze)]) / len_wind * a\n",
    "    NE_breeze = len(NE[np.where((NE>=breeze) & (NE<strong_breeze))]) / len_wind * a\n",
    "    NE_fresh_breeze = len(NE[np.where((NE>=fresh_breeze) & (NE<strong_breeze))]) / len_wind * a\n",
    "    NE_strong_breeze = len(NE[np.where((NE>=strong_breeze) & (NE<high_wind))]) / len_wind * a\n",
    "    NE_high_wind = len(NE[np.where((NE>=high_wind) & (NE<gale))]) / len_wind * a\n",
    "    NE_gale = len(NE[np.where((NE>=gale) & (NE<strong_gale))]) / len_wind * a\n",
    "    NE_strong_gale = len(NE[np.where((NE>=strong_gale) & (NE<storm))]) / len_wind * a\n",
    "    NE_storm = len(NE[np.where((NE>=storm) & (NE<hurricane))]) / len_wind * a\n",
    "    NE_hurricane = len(NE[np.where((NE>=hurricane))]) / len_wind * a\n",
    "    \n",
    "    E_calm = len(E[np.where(E<breeze)]) / len_wind * a\n",
    "    E_breeze = len(E[np.where((E>=breeze) & (E<strong_breeze))]) / len_wind * a\n",
    "    E_fresh_breeze = len(E[np.where((E>=fresh_breeze) & (E<strong_breeze))]) / len_wind * a\n",
    "    E_strong_breeze = len(E[np.where((E>=strong_breeze) & (E<high_wind))]) / len_wind * a\n",
    "    E_high_wind = len(E[np.where((E>=high_wind) & (E<gale))]) / len_wind * a\n",
    "    E_gale = len(E[np.where((E>=gale) & (E<strong_gale))]) / len_wind * a\n",
    "    E_strong_gale = len(E[np.where((E>=strong_gale) & (E<storm))]) / len_wind * a\n",
    "    E_storm = len(E[np.where((E>=storm) & (E<hurricane))]) / len_wind * a\n",
    "    E_hurricane = len(E[np.where((E>=hurricane))]) / len_wind * a\n",
    "\n",
    "    SE_calm = len(SE[np.where(SE<breeze)]) / len_wind * a\n",
    "    SE_breeze = len(SE[np.where((SE>=breeze) & (SE<strong_breeze))]) / len_wind * a\n",
    "    SE_fresh_breeze = len(SE[np.where((SE>=fresh_breeze) & (SE<strong_breeze))]) / len_wind * a\n",
    "    SE_strong_breeze = len(SE[np.where((SE>=strong_breeze) & (SE<high_wind))]) / len_wind * a\n",
    "    SE_high_wind = len(SE[np.where((SE>=high_wind) & (SE<gale))]) / len_wind * a\n",
    "    SE_gale = len(SE[np.where((SE>=gale) & (SE<strong_gale))]) / len_wind * a\n",
    "    SE_strong_gale = len(SE[np.where((SE>=strong_gale) & (SE<storm))]) / len_wind * a\n",
    "    SE_storm = len(SE[np.where((SE>=storm) & (SE<hurricane))]) / len_wind * a\n",
    "    SE_hurricane = len(SE[np.where((SE>=hurricane))]) / len_wind * a\n",
    "    \n",
    "    S_calm = len(S[np.where(S<breeze)]) / len_wind * a\n",
    "    S_breeze = len(S[np.where((S>=breeze) & (S<strong_breeze))]) / len_wind * a\n",
    "    S_fresh_breeze = len(S[np.where((S>=fresh_breeze) & (S<strong_breeze))]) / len_wind * a\n",
    "    S_strong_breeze = len(S[np.where((S>=strong_breeze) & (S<high_wind))]) / len_wind * a\n",
    "    S_high_wind = len(S[np.where((S>=high_wind) & (S<gale))]) / len_wind * a\n",
    "    S_gale = len(S[np.where((S>=gale) & (S<strong_gale))]) / len_wind * a\n",
    "    S_strong_gale = len(S[np.where((S>=strong_gale) & (S<storm))]) / len_wind * a\n",
    "    S_storm = len(S[np.where((S>=storm) & (S<hurricane))]) / len_wind * a\n",
    "    S_hurricane = len(S[np.where((S>=hurricane))]) / len_wind * a\n",
    "    \n",
    "    SW_calm = len(SW[np.where(SW<breeze)]) / len_wind * a\n",
    "    SW_breeze = len(SW[np.where((SW>=breeze) & (SW<strong_breeze))]) / len_wind * a\n",
    "    SW_fresh_breeze = len(SW[np.where((SW>=fresh_breeze) & (SW<strong_breeze))]) / len_wind * a\n",
    "    SW_strong_breeze = len(SW[np.where((SW>=strong_breeze) & (SW<high_wind))]) / len_wind * a\n",
    "    SW_high_wind = len(SW[np.where((SW>=high_wind) & (SW<gale))]) / len_wind * a\n",
    "    SW_gale = len(SW[np.where((SW>=gale) & (SW<strong_gale))]) / len_wind * a\n",
    "    SW_strong_gale = len(SW[np.where((SW>=strong_gale) & (SW<storm))]) / len_wind * a\n",
    "    SW_storm = len(SW[np.where((SW>=storm) & (SW<hurricane))]) / len_wind * a\n",
    "    SW_hurricane = len(SW[np.where((SW>=hurricane))]) / len_wind * a\n",
    "    \n",
    "    W_calm = len(W[np.where(W<breeze)]) / len_wind * a\n",
    "    W_breeze = len(W[np.where((W>=breeze) & (W<strong_breeze))]) / len_wind * a\n",
    "    W_fresh_breeze = len(W[np.where((W>=fresh_breeze) & (W<strong_breeze))]) / len_wind * a\n",
    "    W_strong_breeze = len(W[np.where((W>=strong_breeze) & (W<high_wind))]) / len_wind * a\n",
    "    W_high_wind = len(W[np.where((W>=high_wind) & (W<gale))]) / len_wind * a\n",
    "    W_gale = len(W[np.where((W>=gale) & (W<strong_gale))]) / len_wind * a\n",
    "    W_strong_gale = len(W[np.where((W>=strong_gale) & (W<storm))]) / len_wind * a\n",
    "    W_storm = len(W[np.where((W>=storm) & (W<hurricane))]) / len_wind * a\n",
    "    W_hurricane = len(W[np.where((W>=hurricane))]) / len_wind * a\n",
    "\n",
    "    NW_calm = len(NW[np.where(NW<breeze)]) / len_wind * a\n",
    "    NW_breeze = len(NW[np.where((NW>=breeze) & (NW<strong_breeze))]) / len_wind * a\n",
    "    NW_fresh_breeze = len(NW[np.where((NW>=fresh_breeze) & (NW<strong_breeze))]) / len_wind * a\n",
    "    NW_strong_breeze = len(NW[np.where((NW>=strong_breeze) & (NW<high_wind))]) / len_wind * a\n",
    "    NW_high_wind = len(NW[np.where((NW>=high_wind) & (NW<gale))]) / len_wind * a\n",
    "    NW_gale = len(NW[np.where((NW>=gale) & (NW<strong_gale))]) / len_wind * a\n",
    "    NW_strong_gale = len(NW[np.where((NW>=strong_gale) & (NW<storm))]) / len_wind * a\n",
    "    NW_storm = len(NW[np.where((NW>=storm) & (NW<hurricane))]) / len_wind * a\n",
    "    NW_hurricane = len(NW[np.where((NW>=hurricane))]) / len_wind * a\n",
    "\n",
    "\n",
    "    if js_str:\n",
    "        str0 = \"var calm = [{0:.1g}, {1:.1g}, {2:.1g}, {3:.1g}, {4:.1g}, {5:.1g}, {6:.1g}, {7:.1g}];\".format(N_calm, NE_calm, E_calm, SE_calm, S_calm, SW_calm, W_calm, NW_calm)\n",
    "        str1 = \"var breeze = [{0:.1g}, {1:.1g}, {2:.1g}, {3:.1g}, {4:.1g}, {5:.1g}, {6:.1g}, {7:.1g}];\".format(N_breeze, NE_breeze, E_breeze, SE_breeze, S_breeze, SW_breeze, W_breeze, NW_breeze)\n",
    "        str2 = \"var fresh_breeze = [{0:.1g}, {1:.1g}, {2:.1g}, {3:.1g}, {4:.1g}, {5:.1g}, {6:.1g}, {7:.1g}];\".format(N_fresh_breeze, NE_fresh_breeze, E_fresh_breeze, SE_fresh_breeze, S_fresh_breeze, SW_fresh_breeze, W_fresh_breeze, NW_fresh_breeze)\n",
    "        str3 = \"var strong_breeze = [{0:.1g}, {1:.1g}, {2:.1g}, {3:.1g}, {4:.1g}, {5:.1g}, {6:.1g}, {7:.1g}];\".format(N_strong_breeze, NE_strong_breeze, E_strong_breeze, SE_strong_breeze, S_strong_breeze, SW_strong_breeze, W_strong_breeze, NW_strong_breeze)\n",
    "        str4 = \"var high_wind = [{0:.1g}, {1:.1g}, {2:.1g}, {3:.1g}, {4:.1g}, {5:.1g}, {6:.1g}, {7:.1g}];\".format(N_high_wind, NE_high_wind, E_high_wind, SE_high_wind, S_high_wind, SW_high_wind, W_high_wind, NW_high_wind)\n",
    "        str5 = \"var gale = [{0:.1g}, {1:.1g}, {2:.1g}, {3:.1g}, {4:.1g}, {5:.1g}, {6:.1g}, {7:.1g}];\".format(N_gale, NE_gale, E_gale, SE_gale, S_gale, SW_gale, W_gale, NW_gale)\n",
    "        str6 = \"var strong_gale = [{0:.1g}, {1:.1g}, {2:.1g}, {3:.1g}, {4:.1g}, {5:.1g}, {6:.1g}, {7:.1g}];\".format(N_strong_gale, NE_strong_gale, E_strong_gale, SE_strong_gale, S_strong_gale, SW_strong_gale, W_strong_gale, NW_strong_gale)\n",
    "        str7 = \"var storm = [{0:.1g}, {1:.1g}, {2:.1g}, {3:.1g}, {4:.1g}, {5:.1g}, {6:.1g}, {7:.1g}];\".format(N_storm, NE_storm, E_storm, SE_storm, S_storm, SW_storm, W_storm, NW_storm)\n",
    "        str8 = \"var hurricane = [{0:.1g}, {1:.1g}, {2:.1g}, {3:.1g}, {4:.1g}, {5:.1g}, {6:.1g}, {7:.1g}];\".format(N_hurricane, NE_hurricane, E_hurricane, SE_hurricane, S_hurricane, SW_hurricane, W_hurricane, NW_hurricane)\n",
    "\n",
    "        json_str = \"{0}\\n{1}\\n{2}\\n{3}\\n{4}\\n{5}\\n{6}\\n{7}\\n{8}\".format(str0, str1, str2, str3, str4, str5, str6, str7, str8)\n",
    "\n",
    "        return json_str\n",
    "    \n",
    "    else: # not relevant for production\n",
    "        wind_classes = {\"gentle_breeze\": [N_gentle_breeze, NE_gentle_breeze, E_gentle_breeze, SE_gentle_breeze, S_gentle_breeze, SW_gentle_breeze, W_gentle_breeze, NW_gentle_breeze],\n",
    "                        \"strong_breeze\": [N_strong_breeze, NE_strong_breeze, E_strong_breeze, SE_strong_breeze, S_strong_breeze, SW_strong_breeze, W_strong_breeze, NW_strong_breeze],\n",
    "                        \"gale\": [N_gale, NE_gale, E_gale, SE_gale, S_gale, SW_gale, W_gale, NW_gale],\n",
    "                        \"storm\":[N_storm, NE_storm, E_storm, SE_storm, S_storm, SW_storm, W_storm, NW_storm],\n",
    "                        \"hurricane\": [N_hurricane, NE_hurricane, E_hurricane, SE_hurricane, S_hurricane, SW_hurricane, W_hurricane, NW_hurricane]}\n",
    "        \n",
    "        return wind_classes"
   ]
  },
  {
   "cell_type": "code",
   "execution_count": 140,
   "metadata": {
    "collapsed": true
   },
   "outputs": [],
   "source": [
    "# Calculate dominant wind direction per hour\n",
    "def dominant_wind_hourly(wind_speed, wind_dir):\n",
    "    # Input is a of shape (hours, y, x)\n",
    "    len_wind = wind_speed.size # total number of entries in an array\n",
    "    \n",
    "    # list of direction classes\n",
    "    directions = ['N', 'NE', 'E', 'SE', 'S', 'SW', 'W', 'NW']\n",
    "    \n",
    "    N = []\n",
    "    NE = []\n",
    "    E = []\n",
    "    SE = []\n",
    "    S = []\n",
    "    SW = []\n",
    "    W = []\n",
    "    NW = []\n",
    "    \n",
    "    dominant_dir = []\n",
    "    \n",
    "    for h in range(wind_dir.shape[0]):\n",
    "        wind_speed_h = wind_speed[h,:,:]\n",
    "        wind_dir_h = wind_dir[h,:,:]\n",
    "    \n",
    "        # Seperate by wind direction\n",
    "        N.append(wind_speed_h[np.where((wind_dir_h>-22.5) & (wind_dir_h<=22.5))])\n",
    "\n",
    "        NE.append(wind_speed_h[np.where((wind_dir_h>22.5) & (wind_dir_h<=67.5))])\n",
    "\n",
    "        E.append(wind_speed_h[np.where((wind_dir_h>67.5) & (wind_dir_h<=112.5))])\n",
    "\n",
    "        SE.append(wind_speed_h[np.where((wind_dir_h>112.5) & (wind_dir_h<=167.5))])\n",
    "\n",
    "        S.append(wind_speed_h[np.where((wind_dir_h>167.5) & (wind_dir_h<=180.0) | (wind_dir[h,:,:]>-167.5) & (wind_dir[h,:,:]<=-180.0))])\n",
    "\n",
    "        SW.append(wind_speed_h[np.where((wind_dir_h>-167.5) & (wind_dir_h<=-112.5))])\n",
    "\n",
    "        W.append(wind_speed_h[np.where((wind_dir_h>-112.5) & (wind_dir_h<=-67.5))])\n",
    "\n",
    "        NW.append(wind_speed_h[np.where((wind_dir_h>-67.5) & (wind_dir_h<=-22.5))])\n",
    "    \n",
    "    \n",
    "        distr_dir = np.array([N[h].size, NE[h].size, E[h].size, SE[h].size, S[h].size, SW[h].size, W[h].size, NW[h].size])\n",
    "        # .argmax() returns index of the max value, which is match with list of wind direction\n",
    "        dominant_dir.append(directions[distr_dir.argmax()])\n",
    "        print(\"Dominant wind direction @ {0}. hour: {1}\".format(h, dominant_dir[h]))\n",
    "    \n",
    "    return dominant_dir"
   ]
  },
  {
   "cell_type": "markdown",
   "metadata": {},
   "source": [
    "## Loading data sets"
   ]
  },
  {
   "cell_type": "code",
   "execution_count": 142,
   "metadata": {
    "collapsed": true
   },
   "outputs": [],
   "source": [
    "# Load region mask\n",
    "vr = netCDF4.Dataset(r\"../data/terrain_parameters/VarslingsOmr_2017.nc\", \"r\")\n",
    "\n",
    "regions = vr.variables[\"VarslingsOmr_2017\"][:]\n",
    "\n",
    "#ID = 3014 # Lofoten & Vesterålen\n",
    "#ID = 3029 # Indre Sogn\n",
    "ID = 3034 # Hardanger\n",
    "region_mask = np.where(regions==ID)\n",
    "# get the lower left and upper right corner of a rectangle around the region\n",
    "y_min, y_max, x_min, x_max = min(region_mask[0].flatten()), max(region_mask[0].flatten()), min(region_mask[1].flatten()), max(region_mask[1].flatten())"
   ]
  },
  {
   "cell_type": "code",
   "execution_count": 159,
   "metadata": {
    "collapsed": false
   },
   "outputs": [
    {
     "name": "stdout",
     "output_type": "stream",
     "text": [
      "Time period: 2017-04-27 07:00:00 - 2017-04-28 06:00:00\n",
      "(24, 113, 106)\n"
     ]
    }
   ],
   "source": [
    "# Use for now\n",
    "nc = netCDF4.Dataset(r\"Y:\\metdata\\prognosis\\arome\\wind\\netcdf\\2017\\arome2_5_wind_850_NVE_00_2017_04_27.nc\", \"r\")\n",
    "wind_x_v = nc.variables['x_wind_850hpa']\n",
    "wind_y_v = nc.variables['y_wind_850hpa']\n",
    "\n",
    "# Will later be replaced or extended by 10m wind\n",
    "\n",
    "#nc = netCDF4.Dataset(r\"X:\\Dev\\netCDF-test\\mepsDetAllWind1x1km_20170515.nc\", \"r\")\n",
    "#wind_x_v = nc.variables['x_wind_10m']\n",
    "#wind_y_v = nc.variables['y_wind_10m']\n",
    "\n",
    "time_v = nc.variables['time']\n",
    "t_start = 0\n",
    "t_stop = 24\n",
    "\n",
    "# Determine rectangle for data extraction from netCDF\n",
    "step_x, step_y = 0, 0\n",
    "x1, x2 = x_min-step_x, x_max+step_x # possible to add a buffer of step_x\n",
    "y1, y2 = y_min-step_y, y_max+step_y # possible to add a buffer of step_y\n",
    "\n",
    "print(\"Time period: {0} - {1}\".format(netCDF4.num2date(time_v[t_start], time_v.units), netCDF4.num2date(time_v[t_stop-1], time_v.units)))\n",
    "\n",
    "wind_x = wind_x_v[t_start:t_stop, y1:y2, x1:x2]\n",
    "wind_y = wind_y_v[t_start:t_stop, y1:y2, x1:x2]\n",
    "print(wind_x.shape)\n",
    "\n",
    "# Mask areas outside given region - could also be applied after calculation of wind speed and directon if this is more efficient.\n",
    "region_mask = regions[y1:y2, x1:x2] # redefine region_mask, now clipped to area of interest\n",
    "\n",
    "wind_x_ma = np.ma.asarray(wind_x)\n",
    "wind_y_ma = np.ma.asarray(wind_y)\n",
    "for i in range(wind_x.shape[0]): \n",
    "    wind_x_ma[i, :, :] = np.ma.masked_where(region_mask!=ID, wind_x[i, :, :], copy=False)\n",
    "    wind_y_ma[i, :, :] = np.ma.masked_where(region_mask!=ID, wind_y[i, :, :], copy=False)"
   ]
  },
  {
   "cell_type": "markdown",
   "metadata": {},
   "source": [
    "**Bug**: the first 12 timesteps have a wrong time and no data! Fimex conversion? It is not in Jess version of the nc-file.\n",
    "\n",
    "**ToDo:** split data in gridcells that are above and below treeline - use an fixed treeline elvation or the vegetation mask for each cell."
   ]
  },
  {
   "cell_type": "markdown",
   "metadata": {},
   "source": [
    "## Calculating wind speed and direction"
   ]
  },
  {
   "cell_type": "code",
   "execution_count": 154,
   "metadata": {
    "collapsed": true
   },
   "outputs": [],
   "source": [
    "# Wind speed vector\n",
    "wind_speed = np.sqrt(wind_x_ma**2 + wind_y_ma**2)\n",
    "\n",
    "# Wind direction - invert wind_x and wind_y to get direction from where the wind is blowing\n",
    "# Should yield values between -180 and +180 degrees\n",
    "wind_dir = np.degrees(np.arctan2(-wind_x_ma, -wind_y_ma))\n",
    "\n",
    "# Snow depostition - indicates the aspect where snow is deposited (opposite of wind direction)\n",
    "# Should yield values between -180 and +180 degrees\n",
    "snow_dep = np.degrees(np.arctan2(wind_x_ma, wind_y_ma))\n",
    "\n",
    "# Flatten all arrays\n",
    "wind_dir_f = wind_dir.flatten()\n",
    "wind_speed_f = wind_speed.flatten()\n",
    "snow_dep_f = snow_dep.flatten()"
   ]
  },
  {
   "cell_type": "markdown",
   "metadata": {},
   "source": [
    "The JSON string from *classify_wind* can be used in http://codepen.io/kmunve/pen/zZNWeL"
   ]
  },
  {
   "cell_type": "markdown",
   "metadata": {},
   "source": [
    "## Plots & tests"
   ]
  },
  {
   "cell_type": "code",
   "execution_count": 155,
   "metadata": {
    "collapsed": true
   },
   "outputs": [],
   "source": [
    "def plt_windrose_transport(wind_dir_f, wind_speed_f, title=\"\"):\n",
    "    # Convert wind direction from -180 to 180 to 0 to 360 degree.\n",
    "    wind_dir_f[np.where((wind_dir_f<0.0))] = wind_dir_f[np.where((wind_dir_f<0.0))] + 360.0\n",
    "    \n",
    "    ax = WindroseAxes.from_ax()\n",
    "    ax.bar(wind_dir_f, wind_speed_f, normed=True, opening=0.8, edgecolor='white', nsector=8, bins=[0,3.4,8.0,10.8,13.9,17.2,20.8,24.5,32.7])\n",
    "    #ax.legend(labels=[\"ingen transport\", \"ved snøfall\", \"ved ubunden snø\", \"ved bunden snø\", \"hvis ikke skare/avblåst\"])\n",
    "    ax.set_legend()\n",
    "    ax.set_title(title)\n",
    "    \n",
    "    return ax\n",
    "\n",
    "def plt_snow_transport(wind_dir_f, wind_speed_f, title=\"\"):\n",
    "    # Convert wind direction from -180 to 180 to 0 to 360 degree.\n",
    "    #wind_dir_f = -wind_dir_f\n",
    "    wind_dir_f[np.where((wind_dir_f<0.0))] = wind_dir_f[np.where((wind_dir_f<0.0))] + 360.0\n",
    "    \n",
    "    ax = WindroseAxes.from_ax()\n",
    "    ax.contourf(wind_dir_f, wind_speed_f, normed=True, bins=[0,2,4.5,6.5,10.7,13.6])\n",
    "    ax.set_legend()\n",
    "    ax.set_title(title)\n",
    "    \n",
    "    return ax"
   ]
  },
  {
   "cell_type": "code",
   "execution_count": 156,
   "metadata": {
    "collapsed": false
   },
   "outputs": [
    {
     "data": {
      "text/plain": [
       "<windrose.windrose.WindroseAxes at 0x226b7c61630>"
      ]
     },
     "execution_count": 156,
     "metadata": {},
     "output_type": "execute_result"
    },
    {
     "data": {
      "image/png": "[encoded data removed]",
      "text/plain": [
       "<matplotlib.figure.Figure at 0x226b7c47e80>"
      ]
     },
     "metadata": {},
     "output_type": "display_data"
    }
   ],
   "source": [
    "plt_windrose_transport(wind_dir_f, wind_speed_f)"
   ]
  },
  {
   "cell_type": "code",
   "execution_count": 157,
   "metadata": {
    "collapsed": false
   },
   "outputs": [
    {
     "name": "stdout",
     "output_type": "stream",
     "text": [
      "var calm = [2, 3e+01, 8, 0.8, 0.0007, 0, 0, 0];\n",
      "var breeze = [0, 1, 1e+01, 0.7, 0, 0, 0, 0];\n",
      "var fresh_breeze = [0, 1, 4, 0, 0, 0, 0, 0];\n",
      "var strong_breeze = [0.04, 5, 1, 0, 0, 0, 0, 0];\n",
      "var high_wind = [2, 2e+01, 0.02, 0, 0, 0, 0, 0];\n",
      "var gale = [0, 1e+01, 0, 0, 0, 0, 0, 0];\n",
      "var strong_gale = [0.03, 8, 0, 0, 0, 0, 0, 0];\n",
      "var storm = [0, 0, 0, 0, 0, 0, 0, 0];\n",
      "var hurricane = [0, 0, 0, 0, 0, 0, 0, 0];\n"
     ]
    }
   ],
   "source": [
    "js_str = classify_wind(wind_speed_f, wind_dir_f, js_str=True, percentage=True)\n",
    "print(js_str)"
   ]
  },
  {
   "cell_type": "code",
   "execution_count": 158,
   "metadata": {
    "collapsed": false
   },
   "outputs": [
    {
     "name": "stdout",
     "output_type": "stream",
     "text": [
      "var no_transport = [0.006, 0, 0, 0, 0, 7, 2, 0.08];\n",
      "var snowfall = [0.002, 0, 0, 0, 0, 1e+01, 3, 0.3];\n",
      "var dry_snow = [0, 0, 0, 0, 0, 1e+01, 3, 0.02];\n",
      "var wet_snow = [0, 0, 0, 0, 0, 1e+01, 2, 0];\n",
      "var all_snow = [0, 0, 0, 0, 0, 1e+01, 0.4, 0];\n"
     ]
    }
   ],
   "source": [
    "js_str = classify_snow_transport_cum(wind_speed_f, snow_dep_f, js_str=True, percentage=False)\n",
    "print(js_str)"
   ]
  },
  {
   "cell_type": "code",
   "execution_count": 149,
   "metadata": {
    "collapsed": false
   },
   "outputs": [
    {
     "name": "stdout",
     "output_type": "stream",
     "text": [
      "Dominant wind direction @ 0. hour: SE\n",
      "Dominant wind direction @ 1. hour: S\n",
      "Dominant wind direction @ 2. hour: S\n",
      "Dominant wind direction @ 3. hour: S\n",
      "Dominant wind direction @ 4. hour: S\n",
      "Dominant wind direction @ 5. hour: SW\n",
      "Dominant wind direction @ 6. hour: SW\n",
      "Dominant wind direction @ 7. hour: SW\n",
      "Dominant wind direction @ 8. hour: SW\n",
      "Dominant wind direction @ 9. hour: SW\n",
      "Dominant wind direction @ 10. hour: S\n",
      "Dominant wind direction @ 11. hour: S\n",
      "Dominant wind direction @ 12. hour: S\n",
      "Dominant wind direction @ 13. hour: SE\n",
      "Dominant wind direction @ 14. hour: SE\n",
      "Dominant wind direction @ 15. hour: SE\n",
      "Dominant wind direction @ 16. hour: SE\n",
      "Dominant wind direction @ 17. hour: SE\n",
      "Dominant wind direction @ 18. hour: SE\n",
      "Dominant wind direction @ 19. hour: SE\n",
      "Dominant wind direction @ 20. hour: SE\n",
      "Dominant wind direction @ 21. hour: SE\n",
      "Dominant wind direction @ 22. hour: SE\n",
      "Dominant wind direction @ 23. hour: SE\n",
      "['SE', 'S', 'S', 'S', 'S', 'SW', 'SW', 'SW', 'SW', 'SW', 'S', 'S', 'S', 'SE', 'SE', 'SE', 'SE', 'SE', 'SE', 'SE', 'SE', 'SE', 'SE', 'SE']\n"
     ]
    }
   ],
   "source": [
    "dominant_dir = dominant_wind_hourly(wind_speed, wind_dir)\n",
    "print(dominant_dir)"
   ]
  },
  {
   "cell_type": "code",
   "execution_count": null,
   "metadata": {
    "collapsed": true
   },
   "outputs": [],
   "source": []
  },
  {
   "cell_type": "markdown",
   "metadata": {},
   "source": [
    "## Work in progress"
   ]
  },
  {
   "cell_type": "code",
   "execution_count": 141,
   "metadata": {
    "collapsed": false
   },
   "outputs": [],
   "source": [
    "############################\n",
    "### GLEM DETTE FOR NÅ!!! ###\n",
    "############################\n",
    "def classify_snow_transport(wind_speed_f, wind_dir_f, js_str=True, percentage=True):\n",
    "    \"\"\"\n",
    "    Classes with regard to transport-thresholds for different types of snow.\n",
    "    \"\"\"\n",
    "    len_wind = len(wind_speed_f)\n",
    "    \n",
    "    # Seperate by wind direction - could be just done once prior to the separation between \"wind speeds\"/\"threshold values\".\n",
    "    N = wind_speed_f[np.where((wind_dir_f>-22.5) & (wind_dir_f<=22.5))]\n",
    "\n",
    "    NE = wind_speed_f[np.where((wind_dir_f>22.5) & (wind_dir_f<=67.5))]\n",
    "\n",
    "    E = wind_speed_f[np.where((wind_dir_f>67.5) & (wind_dir_f<=112.5))]\n",
    "\n",
    "    SE = wind_speed_f[np.where((wind_dir_f>112.5) & (wind_dir_f<=167.5))]\n",
    "\n",
    "    S = wind_speed_f[np.where((wind_dir_f>167.5) & (wind_dir_f<=180.0) | (wind_dir_f>-167.5) & (wind_dir_f<=-180.0))]\n",
    "\n",
    "    SW = wind_speed_f[np.where((wind_dir_f>-167.5) & (wind_dir_f<=-112.5))]\n",
    "\n",
    "    W = wind_speed_f[np.where((wind_dir_f>-112.5) & (wind_dir_f<=-67.5))]\n",
    "\n",
    "    NW = wind_speed_f[np.where((wind_dir_f>-67.5) & (wind_dir_f<=-22.5))]\n",
    "    \n",
    "    \n",
    "    # Seperate by transport thresholds -> config file\n",
    "    snowfall = 2.0\n",
    "    loose_snow = 4.5\n",
    "    bonded_snow = 6.5\n",
    "    heavy = 10.7\n",
    "    intense = 15.0\n",
    "    \n",
    "    if percentage:\n",
    "        a = 100\n",
    "    else:\n",
    "        a = 24\n",
    "    \n",
    "    N_no_transport = len(N[np.where(N<no_transport)]) / len_wind * a\n",
    "    N_snowfall = len(N[np.where((N>=snowfall))]) / len_wind * a\n",
    "    N_dry_snow = len(N[np.where((N>=dry_snow))]) / len_wind * a\n",
    "    N_wet_snow = len(N[np.where((N>=wet_snow))]) / len_wind * a\n",
    "    N_all_snow = len(N[np.where((N>=all_snow))]) / len_wind * a\n",
    "    \n",
    "    NE_no_transport = len(NE[np.where(NE<no_transport)]) / len_wind * a\n",
    "    NE_snowfall = len(NE[np.where((NE>=snowfall))]) / len_wind * a\n",
    "    NE_dry_snow = len(NE[np.where((NE>=dry_snow))]) / len_wind * a\n",
    "    NE_wet_snow = len(NE[np.where((NE>=wet_snow))]) / len_wind * a\n",
    "    NE_all_snow = len(NE[np.where((NE>=all_snow))]) / len_wind * a\n",
    "    \n",
    "    E_no_transport = len(E[np.where(E<no_transport)]) / len_wind * a\n",
    "    E_snowfall = len(E[np.where((E>=snowfall))]) / len_wind * a\n",
    "    E_dry_snow = len(E[np.where((E>=dry_snow))]) / len_wind * a\n",
    "    E_wet_snow = len(E[np.where((E>=wet_snow))]) / len_wind * a\n",
    "    E_all_snow = len(E[np.where((E>=all_snow))]) / len_wind * a\n",
    "    \n",
    "    SE_no_transport = len(SE[np.where(SE<no_transport)]) / len_wind * a\n",
    "    SE_snowfall = len(SE[np.where((SE>=snowfall))]) / len_wind * a\n",
    "    SE_dry_snow = len(SE[np.where((SE>=dry_snow))]) / len_wind * a\n",
    "    SE_wet_snow = len(SE[np.where((SE>=wet_snow))]) / len_wind * a\n",
    "    SE_all_snow = len(SE[np.where((SE>=all_snow))]) / len_wind * a\n",
    "    \n",
    "    S_no_transport = len(S[np.where(S<no_transport)]) / len_wind * a\n",
    "    S_snowfall = len(S[np.where((S>=snowfall))]) / len_wind * a\n",
    "    S_dry_snow = len(S[np.where((S>=dry_snow))]) / len_wind * a\n",
    "    S_wet_snow = len(S[np.where((S>=wet_snow))]) / len_wind * a\n",
    "    S_all_snow = len(S[np.where((S>=all_snow))]) / len_wind * a\n",
    "\n",
    "    SW_no_transport = len(SW[np.where(SW<no_transport)]) / len_wind * a\n",
    "    SW_snowfall = len(SW[np.where((SW>=snowfall))]) / len_wind * a\n",
    "    SW_dry_snow = len(SW[np.where((SW>=dry_snow))]) / len_wind * a\n",
    "    SW_wet_snow = len(SW[np.where((SW>=wet_snow))]) / len_wind * a\n",
    "    SW_all_snow = len(SW[np.where((SW>=all_snow))]) / len_wind * a\n",
    "    \n",
    "    W_no_transport = len(W[np.where(W<no_transport)]) / len_wind * a\n",
    "    W_snowfall = len(W[np.where((W>=snowfall))]) / len_wind * a\n",
    "    W_dry_snow = len(W[np.where((W>=dry_snow))]) / len_wind * a\n",
    "    W_wet_snow = len(W[np.where((W>=wet_snow))]) / len_wind * a\n",
    "    W_all_snow = len(W[np.where((W>=all_snow))]) / len_wind * a\n",
    "    \n",
    "    NW_no_transport = len(NW[np.where(NW<no_transport)]) / len_wind * a\n",
    "    NW_snowfall = len(NW[np.where((NW>=snowfall))]) / len_wind * a\n",
    "    NW_dry_snow = len(NW[np.where((NW>=dry_snow))]) / len_wind * a\n",
    "    NW_wet_snow = len(NW[np.where((NW>=wet_snow))]) / len_wind * a\n",
    "    NW_all_snow = len(NW[np.where((NW>=all_snow))]) / len_wind * a\n",
    "\n",
    "    \n",
    "    if js_str:\n",
    "        str0 = \"var no_transport = [{0:.1g}, {1:.1g}, {2:.1g}, {3:.1g}, {4:.1g}, {5:.1g}, {6:.1g}, {7:.1g}];\".format(N_no_transport, NE_no_transport, E_no_transport, SE_no_transport, S_no_transport, SW_no_transport, W_no_transport, NW_no_transport)\n",
    "        str1 = \"var snowfall = [{0:.1g}, {1:.1g}, {2:.1g}, {3:.1g}, {4:.1g}, {5:.1g}, {6:.1g}, {7:.1g}];\".format(N_snowfall, NE_snowfall, E_snowfall, SE_snowfall, S_snowfall, SW_snowfall, W_snowfall, NW_snowfall)\n",
    "        str2 = \"var dry_snow = [{0:.1g}, {1:.1g}, {2:.1g}, {3:.1g}, {4:.1g}, {5:.1g}, {6:.1g}, {7:.1g}];\".format(N_dry_snow, NE_dry_snow, E_dry_snow, SE_dry_snow, S_dry_snow, SW_dry_snow, W_dry_snow, NW_dry_snow)\n",
    "        str3 = \"var wet_snow = [{0:.1g}, {1:.1g}, {2:.1g}, {3:.1g}, {4:.1g}, {5:.1g}, {6:.1g}, {7:.1g}];\".format(N_wet_snow, NE_wet_snow, E_wet_snow, SE_wet_snow, S_wet_snow, SW_wet_snow, W_wet_snow, NW_wet_snow)\n",
    "        str4 = \"var all_snow = [{0:.1g}, {1:.1g}, {2:.1g}, {3:.1g}, {4:.1g}, {5:.1g}, {6:.1g}, {7:.1g}];\".format(N_all_snow, NE_all_snow, E_all_snow, SE_all_snow, S_all_snow, SW_all_snow, W_all_snow, NW_all_snow)\n",
    "\n",
    "        json_str = \"{0}\\n{1}\\n{2}\\n{3}\\n{4}\".format(str0, str1, str2, str3, str4)\n",
    "\n",
    "        return json_str\n",
    "    \n",
    "    else:\n",
    "        wind_classes = {\"no_transport\": [N_no_transport, NE_no_transport, E_no_transport, SE_no_transport, S_no_transport, SW_no_transport, W_no_transport, NW_no_transport],\n",
    "                        \"snowfall\": [N_snowfall, NE_snowfall, E_snowfall, SE_snowfall, S_snowfall, SW_snowfall, W_snowfall, NW_snowfall],\n",
    "                        \"dry_snow\": [N_dry_snow, NE_dry_snow, E_dry_snow, SE_dry_snow, S_dry_snow, SW_dry_snow, W_dry_snow, NW_dry_snow],\n",
    "                        \"wet_snow\":[N_wet_snow, NE_wet_snow, E_wet_snow, SE_wet_snow, S_wet_snow, SW_wet_snow, W_wet_snow, NW_wet_snow],\n",
    "                        \"all_snow\": [N_all_snow, NE_all_snow, E_all_snow, SE_all_snow, S_all_snow, SW_all_snow, W_all_snow, NW_all_snow]}\n",
    "        \n",
    "        return wind_classes"
   ]
  },
  {
   "cell_type": "code",
   "execution_count": null,
   "metadata": {
    "collapsed": true
   },
   "outputs": [],
   "source": []
  }
 ],
 "metadata": {
  "kernelspec": {
   "display_name": "Python 3",
   "language": "python",
   "name": "python3"
  },
  "language_info": {
   "codemirror_mode": {
    "name": "ipython",
    "version": 3
   },
   "file_extension": ".py",
   "mimetype": "text/x-python",
   "name": "python",
   "nbconvert_exporter": "python",
   "pygments_lexer": "ipython3",
   "version": "3.6.0"
  }
 },
 "nbformat": 4,
 "nbformat_minor": 0
}
