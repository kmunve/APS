{
 "cells": [
  {
   "metadata": {
    "trusted": true,
    "pycharm": {
     "is_executing": false
    }
   },
   "cell_type": "code",
   "source": [
    "import geopandas as gpd"
   ],
   "execution_count": 2,
   "outputs": []
  },
  {
   "metadata": {
    "trusted": true,
    "pycharm": {
     "is_executing": false
    }
   },
   "cell_type": "code",
   "source": [
    "import pandas as pd\n",
    "import matplotlib\n",
    "import matplotlib.pyplot as plt\n",
    "import seaborn as sb\n",
    "import glob"
   ],
   "execution_count": 3,
   "outputs": []
  },
  {
   "metadata": {
    "trusted": true,
    "pycharm": {
     "is_executing": false
    }
   },
   "cell_type": "code",
   "source": [
    "satskred_list = glob.glob(\"./data/satskred/AvalDet*.shp\")\n",
    "wyssen_list = glob.glob(\"./data/wyssen/SHP/join/wyssen*_join.shp\")"
   ],
   "execution_count": 4,
   "outputs": []
  },
  {
   "metadata": {
    "trusted": true,
    "pycharm": {
     "is_executing": false
    }
   },
   "cell_type": "code",
   "source": [
    "# Satskred\n",
    "satskred_1617_aut_file = gpd.read_file(\"./data/satskred/AvalDet_1617_aut.shp\")\n",
    "satskred_1718_aut_file = gpd.read_file(\"./data/satskred/AvalDet_1718_aut.shp\")\n",
    "satskred_1819_aut_file = gpd.read_file(\"./data/satskred/AvalDet_1819_aut.shp\")\n",
    "\n",
    "satskred_1617_man_file = gpd.read_file(\"./data/satskred/AvalDet_1617_man.shp\")\n",
    "satskred_1718_man_file = gpd.read_file(\"./data/satskred/AvalDet_1718_man.shp\")\n",
    "satskred_1819_man_file = gpd.read_file(\"./data/satskred/AvalDet_1819_man.shp\")\n",
    "\n",
    "# Wyssen\n",
    "wyssen_1617_file = gpd.read_file(\"./data/wyssen/SHP/join/wyssen1617_join.shp\")\n",
    "wyssen_1718_file = gpd.read_file(\"./data/wyssen/SHP/join/wyssen1718_join.shp\")\n",
    "wyssen_1819_file = gpd.read_file(\"./data/wyssen/SHP/join/wyssen1819_join.shp\")"
   ],
   "execution_count": 5,
   "outputs": []
  },
  {
   "metadata": {
    "trusted": true,
    "pycharm": {
     "is_executing": false
    }
   },
   "cell_type": "code",
   "source": [
    "# Satskred\n",
    "satskred_1617_aut = gpd.GeoDataFrame(satskred_1617_aut_file)\n",
    "satskred_1718_aut = gpd.GeoDataFrame(satskred_1718_aut_file)\n",
    "satskred_1819_aut = gpd.GeoDataFrame(satskred_1819_aut_file)\n",
    "\n",
    "satskred_1617_man = gpd.GeoDataFrame(satskred_1617_man_file)\n",
    "satskred_1718_man = gpd.GeoDataFrame(satskred_1718_man_file)\n",
    "satskred_1819_man = gpd.GeoDataFrame(satskred_1819_man_file)\n",
    "\n",
    "# Wyssen\n",
    "wyssen_1617 = gpd.GeoDataFrame(wyssen_1617_file)\n",
    "wyssen_1718 = gpd.GeoDataFrame(wyssen_1718_file)\n",
    "wyssen_1819 = gpd.GeoDataFrame(wyssen_1819_file)"
   ],
   "execution_count": 6,
   "outputs": []
  },
  {
   "metadata": {
    "trusted": true,
    "pycharm": {
     "is_executing": false
    }
   },
   "cell_type": "code",
   "source": [
    "satskred_aut_frames = [satskred_1617_aut,satskred_1718_aut,satskred_1819_aut]\n",
    "satskred_aut_df = pd.concat(satskred_aut_frames, ignore_index=True)"
   ],
   "execution_count": 7,
   "outputs": []
  },
  {
   "metadata": {
    "trusted": true,
    "pycharm": {
     "is_executing": false
    }
   },
   "cell_type": "code",
   "source": [
    "satskred_man_frames = [satskred_1617_man,satskred_1718_man,satskred_1819_man]\n",
    "satskred_man_df = pd.concat(satskred_man_frames)\n",
    "satskred_man_df[\"Det_Date\"] = satskred_man_df[\"Date\"]\n",
    "satskred_man_df[\"Ref_Date\"] = satskred_man_df[\"Date\"]"
   ],
   "execution_count": 8,
   "outputs": []
  },
  {
   "metadata": {
    "trusted": true,
    "pycharm": {
     "is_executing": false
    }
   },
   "cell_type": "code",
   "source": [
    "satskred_frames = [satskred_man_df, satskred_aut_df]\n",
    "# satskred_df = pd.concat(satskred_frames)\n",
    "satskred_df = satskred_aut_df"
   ],
   "execution_count": 9,
   "outputs": []
  },
  {
   "metadata": {
    "trusted": true,
    "pycharm": {
     "is_executing": false
    }
   },
   "cell_type": "code",
   "source": [
    "wyssen_frames = [wyssen_1617,wyssen_1718,wyssen_1819]\n",
    "wyssen_df = pd.concat(wyssen_frames, join='outer', ignore_index=True)\n",
    "wyssen_df[\"d\"] = pd.to_datetime(wyssen_df[\"avalancher\"])"
   ],
   "execution_count": 10,
   "outputs": []
  },
  {
   "metadata": {
    "trusted": true,
    "pycharm": {
     "is_executing": false
    }
   },
   "cell_type": "code",
   "source": [
    "import datetime\n",
    "import numpy as np\n",
    "\n",
    "# Add date cols\n",
    "satskred_df[\"Ref_Date\"] = pd.to_datetime(satskred_df[\"t_0\"])\n",
    "satskred_df[\"Det_Date\"] = pd.to_datetime(satskred_df[\"t_1\"])"
   ],
   "execution_count": 11,
   "outputs": []
  },
  {
   "metadata": {
    "trusted": true,
    "pycharm": {
     "is_executing": false
    }
   },
   "cell_type": "code",
   "source": [
    "wyssen_df.head()"
   ],
   "execution_count": 12,
   "outputs": [
    {
     "data": {
      "text/plain": "                       Name  SymbolID           event_mapp        date  \\\n0   TYIN_torv5_obs_20161202         0  TYIN_obs_20161202_6  2016-12-02   \n1    TYIN_mel2_obs_20161202         0  TYIN_obs_20161202_2  2016-12-02   \n2   TYIN_stol1_obs_20161202         0  TYIN_obs_20161202_3  2016-12-02   \n3  TYIN_varden_obs_20161202         0  TYIN_obs_20161202_1  2016-12-02   \n4   TYIN_torv4_obs_20161202         0  TYIN_obs_20161202_5  2016-12-02   \n\n  local_obse  avalancher avalanch_1  path_nr    path elevation_    ...      \\\n0   11:00:00  2016-12-02   11:00:00        5   torv5       1190    ...       \n1   10:40:00  2016-12-02   10:40:00       13    mel2       1310    ...       \n2   11:10:00  2016-12-02   11:10:00       10   stol1       1235    ...       \n3   10:30:00  2016-12-02   10:30:00       14  varden       1120    ...       \n4   11:10:00  2016-12-02   11:10:00        4   torv4       1210    ...       \n\n    terminus_e        weak_layer avalanche1 pic_name_s observer_n  \\\n0         None  Poor within slab        Yes         No         SL   \n1         None        Loose snow        Yes         No         LS   \n2         None        Loose snow        Yes         No         LS   \n3  on the road  Poor within slab        Yes        Yes         LS   \n4         None  Poor within slab        Yes         No         LS   \n\n                                     regobs Shape_Leng    Shape_Area  \\\n0  http://www.regobs.no/Registration/104712   0.002866  3.829140e-07   \n1  http://www.regobs.no/Registration/104713   0.003863  6.049170e-07   \n2  http://www.regobs.no/Registration/104714   0.003259  3.929210e-07   \n3  http://www.regobs.no/Registration/104710   0.003501  8.464390e-07   \n4  http://www.regobs.no/Registration/104711   0.006411  9.011830e-07   \n\n                                            geometry          d  \n0  POLYGON Z ((8.229695371943933 61.2182898893669... 2016-12-02  \n1  POLYGON Z ((8.19351385997669 61.2598734283161 ... 2016-12-02  \n2  POLYGON Z ((8.199626012330668 61.2485258438926... 2016-12-02  \n3  POLYGON Z ((8.202467801647799 61.2705593788123... 2016-12-02  \n4  POLYGON Z ((8.228929506591498 61.2167069053994... 2016-12-02  \n\n[5 rows x 30 columns]",
      "text/html": "<div>\n<style scoped>\n    .dataframe tbody tr th:only-of-type {\n        vertical-align: middle;\n    }\n\n    .dataframe tbody tr th {\n        vertical-align: top;\n    }\n\n    .dataframe thead th {\n        text-align: right;\n    }\n</style>\n<table border=\"1\" class=\"dataframe\">\n  <thead>\n    <tr style=\"text-align: right;\">\n      <th></th>\n      <th>Name</th>\n      <th>SymbolID</th>\n      <th>event_mapp</th>\n      <th>date</th>\n      <th>local_obse</th>\n      <th>avalancher</th>\n      <th>avalanch_1</th>\n      <th>path_nr</th>\n      <th>path</th>\n      <th>elevation_</th>\n      <th>...</th>\n      <th>terminus_e</th>\n      <th>weak_layer</th>\n      <th>avalanche1</th>\n      <th>pic_name_s</th>\n      <th>observer_n</th>\n      <th>regobs</th>\n      <th>Shape_Leng</th>\n      <th>Shape_Area</th>\n      <th>geometry</th>\n      <th>d</th>\n    </tr>\n  </thead>\n  <tbody>\n    <tr>\n      <th>0</th>\n      <td>TYIN_torv5_obs_20161202</td>\n      <td>0</td>\n      <td>TYIN_obs_20161202_6</td>\n      <td>2016-12-02</td>\n      <td>11:00:00</td>\n      <td>2016-12-02</td>\n      <td>11:00:00</td>\n      <td>5</td>\n      <td>torv5</td>\n      <td>1190</td>\n      <td>...</td>\n      <td>None</td>\n      <td>Poor within slab</td>\n      <td>Yes</td>\n      <td>No</td>\n      <td>SL</td>\n      <td>http://www.regobs.no/Registration/104712</td>\n      <td>0.002866</td>\n      <td>3.829140e-07</td>\n      <td>POLYGON Z ((8.229695371943933 61.2182898893669...</td>\n      <td>2016-12-02</td>\n    </tr>\n    <tr>\n      <th>1</th>\n      <td>TYIN_mel2_obs_20161202</td>\n      <td>0</td>\n      <td>TYIN_obs_20161202_2</td>\n      <td>2016-12-02</td>\n      <td>10:40:00</td>\n      <td>2016-12-02</td>\n      <td>10:40:00</td>\n      <td>13</td>\n      <td>mel2</td>\n      <td>1310</td>\n      <td>...</td>\n      <td>None</td>\n      <td>Loose snow</td>\n      <td>Yes</td>\n      <td>No</td>\n      <td>LS</td>\n      <td>http://www.regobs.no/Registration/104713</td>\n      <td>0.003863</td>\n      <td>6.049170e-07</td>\n      <td>POLYGON Z ((8.19351385997669 61.2598734283161 ...</td>\n      <td>2016-12-02</td>\n    </tr>\n    <tr>\n      <th>2</th>\n      <td>TYIN_stol1_obs_20161202</td>\n      <td>0</td>\n      <td>TYIN_obs_20161202_3</td>\n      <td>2016-12-02</td>\n      <td>11:10:00</td>\n      <td>2016-12-02</td>\n      <td>11:10:00</td>\n      <td>10</td>\n      <td>stol1</td>\n      <td>1235</td>\n      <td>...</td>\n      <td>None</td>\n      <td>Loose snow</td>\n      <td>Yes</td>\n      <td>No</td>\n      <td>LS</td>\n      <td>http://www.regobs.no/Registration/104714</td>\n      <td>0.003259</td>\n      <td>3.929210e-07</td>\n      <td>POLYGON Z ((8.199626012330668 61.2485258438926...</td>\n      <td>2016-12-02</td>\n    </tr>\n    <tr>\n      <th>3</th>\n      <td>TYIN_varden_obs_20161202</td>\n      <td>0</td>\n      <td>TYIN_obs_20161202_1</td>\n      <td>2016-12-02</td>\n      <td>10:30:00</td>\n      <td>2016-12-02</td>\n      <td>10:30:00</td>\n      <td>14</td>\n      <td>varden</td>\n      <td>1120</td>\n      <td>...</td>\n      <td>on the road</td>\n      <td>Poor within slab</td>\n      <td>Yes</td>\n      <td>Yes</td>\n      <td>LS</td>\n      <td>http://www.regobs.no/Registration/104710</td>\n      <td>0.003501</td>\n      <td>8.464390e-07</td>\n      <td>POLYGON Z ((8.202467801647799 61.2705593788123...</td>\n      <td>2016-12-02</td>\n    </tr>\n    <tr>\n      <th>4</th>\n      <td>TYIN_torv4_obs_20161202</td>\n      <td>0</td>\n      <td>TYIN_obs_20161202_5</td>\n      <td>2016-12-02</td>\n      <td>11:10:00</td>\n      <td>2016-12-02</td>\n      <td>11:10:00</td>\n      <td>4</td>\n      <td>torv4</td>\n      <td>1210</td>\n      <td>...</td>\n      <td>None</td>\n      <td>Poor within slab</td>\n      <td>Yes</td>\n      <td>No</td>\n      <td>LS</td>\n      <td>http://www.regobs.no/Registration/104711</td>\n      <td>0.006411</td>\n      <td>9.011830e-07</td>\n      <td>POLYGON Z ((8.228929506591498 61.2167069053994...</td>\n      <td>2016-12-02</td>\n    </tr>\n  </tbody>\n</table>\n<p>5 rows × 30 columns</p>\n</div>"
     },
     "metadata": {},
     "output_type": "execute_result",
     "execution_count": 12
    }
   ]
  },
  {
   "metadata": {
    "trusted": true,
    "pycharm": {
     "is_executing": false
    }
   },
   "cell_type": "code",
   "source": [
    "satskred_df.head()"
   ],
   "execution_count": 13,
   "outputs": [
    {
     "data": {
      "text/plain": "           area aspect  det_count      east       length      north  \\\n0   3690.926876   None          1  8.195374   434.031728  61.260144   \n1  21247.808245   None          1  8.198065   973.074430  61.259490   \n2   5386.821031   None          1  8.213720   630.037545  61.235180   \n3  22843.884004   None          1  8.197918  1055.520485  61.259463   \n4   1795.606407   None          1  8.213564   258.482064  61.235182   \n\n   raster_val              refdate sat_geom  \\\n0        16.0  2016-12-07 00:00:00      117   \n1        15.0  2016-12-07 00:00:00      117   \n2        12.0  2016-12-26 00:00:00       44   \n3        13.0  2016-12-26 00:00:00       44   \n4        19.0  2016-12-31 00:00:00      117   \n\n                                              source         ...          \\\n0  AvalDet_20161231_170935_ref_20161207_trno_117_...         ...           \n1  AvalDet_20161231_170935_ref_20161207_trno_117_...         ...           \n2  AvalDet_20170101_170215_ref_20161226_trno_044_...         ...           \n3  AvalDet_20170101_170215_ref_20161226_trno_044_...         ...           \n4  AvalDet_20170112_170933_ref_20161231_trno_117_...         ...           \n\n  vv0_median    vv0_min    vv0_max   vh0_mean vh0_median    vh0_min  \\\n0 -23.054697 -25.984091 -20.079021 -30.594744 -30.458412 -34.966465   \n1 -21.699184 -26.825785 -15.982099 -28.841135 -28.720428 -33.217281   \n2 -19.695488 -23.344965 -14.922070 -24.228239 -24.471161 -28.440144   \n3 -17.618906 -25.499401 -12.106519 -23.645086 -23.603981 -28.753635   \n4 -22.751648 -25.992640 -19.640621 -29.944088 -30.305767 -33.399609   \n\n     vh0_max                                           geometry   Ref_Date  \\\n0 -27.081316  POLYGON ((8.195177439133777 61.25987516789603,... 2016-12-07   \n1 -24.667627  POLYGON ((8.197893531082906 61.2585701014953, ... 2016-12-07   \n2 -20.455158  POLYGON ((8.21295713335868 61.23481617912952, ... 2016-12-26   \n3 -19.563250  POLYGON ((8.197893531082906 61.2585701014953, ... 2016-12-26   \n4 -26.289957  POLYGON ((8.213307762113439 61.23492392616465,... 2016-12-31   \n\n             Det_Date  \n0 2016-12-31 17:09:35  \n1 2016-12-31 17:09:35  \n2 2017-01-01 17:02:15  \n3 2017-01-01 17:02:15  \n4 2017-01-12 17:09:33  \n\n[5 rows x 43 columns]",
      "text/html": "<div>\n<style scoped>\n    .dataframe tbody tr th:only-of-type {\n        vertical-align: middle;\n    }\n\n    .dataframe tbody tr th {\n        vertical-align: top;\n    }\n\n    .dataframe thead th {\n        text-align: right;\n    }\n</style>\n<table border=\"1\" class=\"dataframe\">\n  <thead>\n    <tr style=\"text-align: right;\">\n      <th></th>\n      <th>area</th>\n      <th>aspect</th>\n      <th>det_count</th>\n      <th>east</th>\n      <th>length</th>\n      <th>north</th>\n      <th>raster_val</th>\n      <th>refdate</th>\n      <th>sat_geom</th>\n      <th>source</th>\n      <th>...</th>\n      <th>vv0_median</th>\n      <th>vv0_min</th>\n      <th>vv0_max</th>\n      <th>vh0_mean</th>\n      <th>vh0_median</th>\n      <th>vh0_min</th>\n      <th>vh0_max</th>\n      <th>geometry</th>\n      <th>Ref_Date</th>\n      <th>Det_Date</th>\n    </tr>\n  </thead>\n  <tbody>\n    <tr>\n      <th>0</th>\n      <td>3690.926876</td>\n      <td>None</td>\n      <td>1</td>\n      <td>8.195374</td>\n      <td>434.031728</td>\n      <td>61.260144</td>\n      <td>16.0</td>\n      <td>2016-12-07 00:00:00</td>\n      <td>117</td>\n      <td>AvalDet_20161231_170935_ref_20161207_trno_117_...</td>\n      <td>...</td>\n      <td>-23.054697</td>\n      <td>-25.984091</td>\n      <td>-20.079021</td>\n      <td>-30.594744</td>\n      <td>-30.458412</td>\n      <td>-34.966465</td>\n      <td>-27.081316</td>\n      <td>POLYGON ((8.195177439133777 61.25987516789603,...</td>\n      <td>2016-12-07</td>\n      <td>2016-12-31 17:09:35</td>\n    </tr>\n    <tr>\n      <th>1</th>\n      <td>21247.808245</td>\n      <td>None</td>\n      <td>1</td>\n      <td>8.198065</td>\n      <td>973.074430</td>\n      <td>61.259490</td>\n      <td>15.0</td>\n      <td>2016-12-07 00:00:00</td>\n      <td>117</td>\n      <td>AvalDet_20161231_170935_ref_20161207_trno_117_...</td>\n      <td>...</td>\n      <td>-21.699184</td>\n      <td>-26.825785</td>\n      <td>-15.982099</td>\n      <td>-28.841135</td>\n      <td>-28.720428</td>\n      <td>-33.217281</td>\n      <td>-24.667627</td>\n      <td>POLYGON ((8.197893531082906 61.2585701014953, ...</td>\n      <td>2016-12-07</td>\n      <td>2016-12-31 17:09:35</td>\n    </tr>\n    <tr>\n      <th>2</th>\n      <td>5386.821031</td>\n      <td>None</td>\n      <td>1</td>\n      <td>8.213720</td>\n      <td>630.037545</td>\n      <td>61.235180</td>\n      <td>12.0</td>\n      <td>2016-12-26 00:00:00</td>\n      <td>44</td>\n      <td>AvalDet_20170101_170215_ref_20161226_trno_044_...</td>\n      <td>...</td>\n      <td>-19.695488</td>\n      <td>-23.344965</td>\n      <td>-14.922070</td>\n      <td>-24.228239</td>\n      <td>-24.471161</td>\n      <td>-28.440144</td>\n      <td>-20.455158</td>\n      <td>POLYGON ((8.21295713335868 61.23481617912952, ...</td>\n      <td>2016-12-26</td>\n      <td>2017-01-01 17:02:15</td>\n    </tr>\n    <tr>\n      <th>3</th>\n      <td>22843.884004</td>\n      <td>None</td>\n      <td>1</td>\n      <td>8.197918</td>\n      <td>1055.520485</td>\n      <td>61.259463</td>\n      <td>13.0</td>\n      <td>2016-12-26 00:00:00</td>\n      <td>44</td>\n      <td>AvalDet_20170101_170215_ref_20161226_trno_044_...</td>\n      <td>...</td>\n      <td>-17.618906</td>\n      <td>-25.499401</td>\n      <td>-12.106519</td>\n      <td>-23.645086</td>\n      <td>-23.603981</td>\n      <td>-28.753635</td>\n      <td>-19.563250</td>\n      <td>POLYGON ((8.197893531082906 61.2585701014953, ...</td>\n      <td>2016-12-26</td>\n      <td>2017-01-01 17:02:15</td>\n    </tr>\n    <tr>\n      <th>4</th>\n      <td>1795.606407</td>\n      <td>None</td>\n      <td>1</td>\n      <td>8.213564</td>\n      <td>258.482064</td>\n      <td>61.235182</td>\n      <td>19.0</td>\n      <td>2016-12-31 00:00:00</td>\n      <td>117</td>\n      <td>AvalDet_20170112_170933_ref_20161231_trno_117_...</td>\n      <td>...</td>\n      <td>-22.751648</td>\n      <td>-25.992640</td>\n      <td>-19.640621</td>\n      <td>-29.944088</td>\n      <td>-30.305767</td>\n      <td>-33.399609</td>\n      <td>-26.289957</td>\n      <td>POLYGON ((8.213307762113439 61.23492392616465,...</td>\n      <td>2016-12-31</td>\n      <td>2017-01-12 17:09:33</td>\n    </tr>\n  </tbody>\n</table>\n<p>5 rows × 43 columns</p>\n</div>"
     },
     "metadata": {},
     "output_type": "execute_result",
     "execution_count": 13
    }
   ]
  },
  {
   "metadata": {
    "trusted": true,
    "pycharm": {
     "is_executing": false
    }
   },
   "cell_type": "code",
   "source": [
    "satskred_df.columns"
   ],
   "execution_count": 14,
   "outputs": [
    {
     "data": {
      "text/plain": "Index(['area', 'aspect', 'det_count', 'east', 'length', 'north', 'raster_val',\n       'refdate', 'sat_geom', 'source', 't_0', 't_1', 'time', 'track_id',\n       'uuid', 'width', 'dem_mean', 'dem_median', 'dem_min', 'dem_max',\n       'slp_mean', 'slp_median', 'slp_min', 'slp_max', 'vv1_mean',\n       'vv1_median', 'vv1_min', 'vv1_max', 'vh1_mean', 'vh1_median', 'vh1_min',\n       'vh1_max', 'vv0_mean', 'vv0_median', 'vv0_min', 'vv0_max', 'vh0_mean',\n       'vh0_median', 'vh0_min', 'vh0_max', 'geometry', 'Ref_Date', 'Det_Date'],\n      dtype='object')"
     },
     "metadata": {},
     "output_type": "execute_result",
     "execution_count": 14
    }
   ]
  },
  {
   "metadata": {
    "trusted": true,
    "pycharm": {
     "is_executing": false
    }
   },
   "cell_type": "code",
   "source": [
    "wyssen_df.columns"
   ],
   "execution_count": 15,
   "outputs": [
    {
     "data": {
      "text/plain": "Index(['Name', 'SymbolID', 'event_mapp', 'date', 'local_obse', 'avalancher',\n       'avalanch_1', 'path_nr', 'path', 'elevation_', 'elevation1',\n       'avalanche_', 'moisture_d', 'trigger', 'size', 'fracture_w',\n       'fracture_d', 'deposition', 'depositi_1', 'uncertaint', 'terminus_e',\n       'weak_layer', 'avalanche1', 'pic_name_s', 'observer_n', 'regobs',\n       'Shape_Leng', 'Shape_Area', 'geometry', 'd'],\n      dtype='object')"
     },
     "metadata": {},
     "output_type": "execute_result",
     "execution_count": 15
    }
   ]
  },
  {
   "metadata": {
    "trusted": true,
    "pycharm": {
     "is_executing": false
    }
   },
   "cell_type": "code",
   "source": [
    "wyssen_df.d[:].head()"
   ],
   "execution_count": 16,
   "outputs": [
    {
     "data": {
      "text/plain": "0   2016-12-02\n1   2016-12-02\n2   2016-12-02\n3   2016-12-02\n4   2016-12-02\nName: d, dtype: datetime64[ns]"
     },
     "metadata": {},
     "output_type": "execute_result",
     "execution_count": 16
    }
   ]
  },
  {
   "metadata": {
    "trusted": true,
    "pycharm": {
     "is_executing": false
    }
   },
   "cell_type": "code",
   "source": [
    "wyssen_gdf = gpd.GeoDataFrame(wyssen_df)"
   ],
   "execution_count": 17,
   "outputs": []
  },
  {
   "metadata": {
    "trusted": true,
    "pycharm": {
     "is_executing": false
    }
   },
   "cell_type": "code",
   "source": [
    "satskred_gdf = gpd.GeoDataFrame(satskred_df)"
   ],
   "execution_count": 18,
   "outputs": []
  },
  {
   "metadata": {
    "trusted": true,
    "pycharm": {
     "is_executing": false
    }
   },
   "cell_type": "code",
   "source": [
    "wyssen_gdf['satskred_match'] = \"No match\"\n",
    "wyssen_gdf['satskred_indicies'] = list"
   ],
   "execution_count": 19,
   "outputs": []
  },
  {
   "metadata": {
    "trusted": true,
    "pycharm": {
     "is_executing": false
    }
   },
   "cell_type": "code",
   "source": [
    "wyssen_to_satskred = {}\n",
    "\n",
    "for w_row in wyssen_gdf.itertuples():\n",
    "    satskred_rows = satskred_gdf[(satskred_gdf[\"Ref_Date\"] <= w_row.d) & (w_row.d <= satskred_gdf[\"Det_Date\"])]\n",
    "    if len(satskred_rows) == 0:\n",
    "        wyssen_to_satskred[w_row.Index] = \"No match\"\n",
    "    else:\n",
    "        wyssen_to_satskred[w_row.Index] = satskred_rows.index\n",
    "        #loop over overlap"
   ],
   "execution_count": 20,
   "outputs": []
  },
  {
   "metadata": {
    "trusted": true,
    "pycharm": {
     "is_executing": false
    }
   },
   "cell_type": "code",
   "source": [
    "wyssen_to_satskred"
   ],
   "execution_count": 21,
   "outputs": [
    {
     "data": {
      "text/plain": "{0: 'No match',\n 1: 'No match',\n 2: 'No match',\n 3: 'No match',\n 4: 'No match',\n 5: 'No match',\n 6: Int64Index([4], dtype='int64'),\n 7: Int64Index([4], dtype='int64'),\n 8: Int64Index([4], dtype='int64'),\n 9: Int64Index([4], dtype='int64'),\n 10: Int64Index([4], dtype='int64'),\n 11: Int64Index([4], dtype='int64'),\n 12: Int64Index([4], dtype='int64'),\n 13: Int64Index([4], dtype='int64'),\n 14: Int64Index([4], dtype='int64'),\n 15: Int64Index([4], dtype='int64'),\n 16: Int64Index([4], dtype='int64'),\n 17: Int64Index([4], dtype='int64'),\n 18: 'No match',\n 19: 'No match',\n 20: 'No match',\n 21: 'No match',\n 22: 'No match',\n 23: 'No match',\n 24: 'No match',\n 25: 'No match',\n 26: 'No match',\n 27: 'No match',\n 28: 'No match',\n 29: 'No match',\n 30: 'No match',\n 31: 'No match',\n 32: 'No match',\n 33: 'No match',\n 34: 'No match',\n 35: 'No match',\n 36: 'No match',\n 37: 'No match',\n 38: 'No match',\n 39: 'No match',\n 40: 'No match',\n 41: 'No match',\n 42: 'No match',\n 43: 'No match',\n 44: 'No match',\n 45: Int64Index([6, 7, 8, 9, 10, 11, 12], dtype='int64'),\n 46: Int64Index([6, 7, 8, 9, 10, 11, 12], dtype='int64'),\n 47: Int64Index([6, 7, 8, 9, 10, 11, 12], dtype='int64'),\n 48: Int64Index([6, 7, 8, 9, 10, 11, 12], dtype='int64'),\n 49: Int64Index([6, 7, 8, 9, 10, 11, 12], dtype='int64'),\n 50: Int64Index([6, 7, 8, 9, 10, 11, 12], dtype='int64'),\n 51: Int64Index([6, 7, 8, 9, 10, 11, 12], dtype='int64'),\n 52: Int64Index([6, 7, 8, 9, 10, 11, 12], dtype='int64'),\n 53: Int64Index([6, 7, 8, 9, 10, 11, 12], dtype='int64'),\n 54: Int64Index([6, 7, 8, 9, 10, 11, 12], dtype='int64'),\n 55: Int64Index([6, 7, 8, 9, 10, 11, 12], dtype='int64'),\n 56: Int64Index([6, 7, 8, 9, 10, 11, 12], dtype='int64'),\n 57: Int64Index([6, 7, 8, 9, 10, 11, 12], dtype='int64'),\n 58: Int64Index([6, 7, 8, 9, 10, 11, 12], dtype='int64'),\n 59: Int64Index([6, 7, 8, 9, 10, 11, 12], dtype='int64'),\n 60: Int64Index([6, 7, 8, 9, 10, 11, 12], dtype='int64'),\n 61: Int64Index([6, 7, 8, 9, 10, 11, 12], dtype='int64'),\n 62: Int64Index([6, 7, 8, 9, 10, 11, 12], dtype='int64'),\n 63: Int64Index([6, 7, 8, 9, 10, 11, 12], dtype='int64'),\n 64: Int64Index([6, 7, 8, 9, 10, 11, 12], dtype='int64'),\n 65: Int64Index([6, 7, 8, 9, 10, 11, 12], dtype='int64'),\n 66: Int64Index([6, 7, 8, 9, 10, 11, 12], dtype='int64'),\n 67: Int64Index([6, 7, 8, 9, 10, 11, 12], dtype='int64'),\n 68: Int64Index([6, 7, 8, 9, 10, 11, 12], dtype='int64'),\n 69: Int64Index([6, 7, 8, 9, 10, 11, 12], dtype='int64'),\n 70: Int64Index([6, 7, 8, 9, 10, 11, 12], dtype='int64'),\n 71: Int64Index([6, 7, 8, 9, 10, 11, 12], dtype='int64'),\n 72: Int64Index([6, 7, 8, 9, 10, 11, 12], dtype='int64'),\n 73: Int64Index([10, 11, 12], dtype='int64'),\n 74: Int64Index([10, 11, 12], dtype='int64'),\n 75: Int64Index([10, 11, 12], dtype='int64'),\n 76: Int64Index([10, 11, 12], dtype='int64'),\n 77: Int64Index([10, 11, 12], dtype='int64'),\n 78: Int64Index([10, 11, 12], dtype='int64'),\n 79: Int64Index([10, 11, 12], dtype='int64'),\n 80: Int64Index([10, 11, 12], dtype='int64'),\n 81: Int64Index([10, 11, 12], dtype='int64'),\n 82: Int64Index([10, 11, 12], dtype='int64'),\n 83: Int64Index([10, 11, 12], dtype='int64'),\n 84: Int64Index([10, 11, 12], dtype='int64'),\n 85: Int64Index([10, 11, 12], dtype='int64'),\n 86: Int64Index([10, 11, 12], dtype='int64'),\n 87: Int64Index([10, 11, 12], dtype='int64'),\n 88: 'No match',\n 89: 'No match',\n 90: 'No match',\n 91: 'No match',\n 92: 'No match',\n 93: 'No match',\n 94: 'No match',\n 95: Int64Index([15], dtype='int64'),\n 96: Int64Index([15], dtype='int64'),\n 97: Int64Index([15], dtype='int64'),\n 98: Int64Index([15], dtype='int64'),\n 99: Int64Index([15], dtype='int64'),\n 100: Int64Index([15], dtype='int64'),\n 101: Int64Index([15], dtype='int64'),\n 102: Int64Index([15], dtype='int64'),\n 103: Int64Index([15], dtype='int64'),\n 104: Int64Index([15], dtype='int64'),\n 105: Int64Index([15], dtype='int64'),\n 106: Int64Index([15], dtype='int64'),\n 107: Int64Index([15], dtype='int64'),\n 108: 'No match',\n 109: 'No match',\n 110: 'No match',\n 111: Int64Index([40, 41, 42], dtype='int64'),\n 112: Int64Index([40, 41, 42], dtype='int64'),\n 113: Int64Index([40, 41, 42], dtype='int64'),\n 114: Int64Index([39, 40, 41, 42], dtype='int64'),\n 115: 'No match',\n 116: 'No match',\n 117: 'No match',\n 118: 'No match',\n 119: 'No match',\n 120: 'No match',\n 121: 'No match',\n 122: 'No match',\n 123: 'No match',\n 124: 'No match',\n 125: 'No match',\n 126: 'No match',\n 127: 'No match',\n 128: 'No match',\n 129: 'No match',\n 130: 'No match',\n 131: 'No match',\n 132: 'No match',\n 133: 'No match',\n 134: 'No match',\n 135: 'No match',\n 136: 'No match',\n 137: 'No match',\n 138: 'No match',\n 139: 'No match',\n 140: 'No match',\n 141: 'No match',\n 142: 'No match',\n 143: 'No match',\n 144: 'No match',\n 145: 'No match',\n 146: 'No match',\n 147: 'No match',\n 148: 'No match',\n 149: 'No match',\n 150: 'No match',\n 151: 'No match',\n 152: 'No match',\n 153: 'No match',\n 154: 'No match',\n 155: 'No match',\n 156: 'No match',\n 157: 'No match',\n 158: 'No match',\n 159: 'No match',\n 160: 'No match',\n 161: 'No match',\n 162: 'No match',\n 163: 'No match',\n 164: 'No match',\n 165: 'No match',\n 166: 'No match',\n 167: 'No match',\n 168: 'No match',\n 169: 'No match',\n 170: 'No match',\n 171: 'No match',\n 172: 'No match',\n 173: 'No match',\n 174: 'No match',\n 175: 'No match',\n 176: 'No match',\n 177: 'No match',\n 178: 'No match',\n 179: 'No match',\n 180: 'No match',\n 181: 'No match',\n 182: 'No match',\n 183: 'No match',\n 184: 'No match',\n 185: 'No match',\n 186: 'No match',\n 187: 'No match',\n 188: 'No match',\n 189: 'No match',\n 190: 'No match',\n 191: 'No match',\n 192: 'No match',\n 193: 'No match',\n 194: 'No match',\n 195: 'No match',\n 196: 'No match',\n 197: 'No match',\n 198: 'No match',\n 199: 'No match',\n 200: 'No match',\n 201: 'No match',\n 202: 'No match',\n 203: 'No match',\n 204: 'No match',\n 205: 'No match',\n 206: 'No match',\n 207: Int64Index([24, 25], dtype='int64'),\n 208: Int64Index([27, 28], dtype='int64'),\n 209: Int64Index([27, 28], dtype='int64'),\n 210: Int64Index([30], dtype='int64'),\n 211: Int64Index([30], dtype='int64'),\n 212: Int64Index([30], dtype='int64'),\n 213: Int64Index([30], dtype='int64'),\n 214: 'No match',\n 215: 'No match',\n 216: 'No match',\n 217: 'No match',\n 218: 'No match',\n 219: 'No match',\n 220: 'No match',\n 221: 'No match',\n 222: 'No match',\n 223: 'No match',\n 224: 'No match',\n 225: 'No match',\n 226: 'No match',\n 227: 'No match',\n 228: 'No match',\n 229: 'No match',\n 230: 'No match',\n 231: 'No match',\n 232: 'No match',\n 233: 'No match',\n 234: 'No match',\n 235: 'No match',\n 236: 'No match',\n 237: Int64Index([31], dtype='int64'),\n 238: Int64Index([32, 33, 34, 35, 36], dtype='int64'),\n 239: Int64Index([32, 33, 34, 35, 36], dtype='int64'),\n 240: Int64Index([32, 33, 34, 35, 36], dtype='int64'),\n 241: Int64Index([32, 33, 34, 35, 36], dtype='int64'),\n 242: Int64Index([32, 33, 34, 35, 36], dtype='int64'),\n 243: Int64Index([32, 33, 34, 35, 36], dtype='int64'),\n 244: Int64Index([32, 33, 34, 35, 36], dtype='int64'),\n 245: Int64Index([32, 33, 34, 35, 36], dtype='int64'),\n 246: Int64Index([32, 33, 34, 35, 36], dtype='int64'),\n 247: Int64Index([32, 33, 34, 35, 36], dtype='int64'),\n 248: Int64Index([32, 33, 34, 35, 36], dtype='int64'),\n 249: Int64Index([32, 33, 34, 35, 36], dtype='int64'),\n 250: Int64Index([32, 33, 34, 35, 36], dtype='int64'),\n 251: Int64Index([32, 33, 34, 35, 36], dtype='int64'),\n 252: Int64Index([32, 33, 34, 35, 36], dtype='int64'),\n 253: Int64Index([32, 33, 34, 35, 36], dtype='int64'),\n 254: Int64Index([37, 38], dtype='int64'),\n 255: Int64Index([37, 38, 39], dtype='int64'),\n 256: Int64Index([39, 40, 41], dtype='int64'),\n 257: Int64Index([39, 40, 41], dtype='int64'),\n 258: Int64Index([39, 40, 41], dtype='int64'),\n 259: Int64Index([39, 40, 41], dtype='int64'),\n 260: 'No match',\n 261: 'No match',\n 262: Int64Index([57, 58, 59, 60, 61], dtype='int64'),\n 263: Int64Index([57, 58, 59, 60, 61], dtype='int64'),\n 264: Int64Index([57, 58, 59, 60, 61], dtype='int64'),\n 265: Int64Index([57, 58, 59, 60, 61], dtype='int64'),\n 266: Int64Index([53, 54, 55, 56, 57, 58, 59], dtype='int64'),\n 267: Int64Index([53, 54, 55, 56, 57, 58, 59], dtype='int64'),\n 268: Int64Index([53, 54, 55, 56], dtype='int64'),\n 269: Int64Index([53, 54, 55, 56], dtype='int64'),\n 270: Int64Index([53, 54, 55, 56], dtype='int64'),\n 271: Int64Index([53, 54, 55, 56], dtype='int64'),\n 272: Int64Index([53, 54, 55, 56], dtype='int64'),\n 273: Int64Index([53, 54, 55, 56], dtype='int64'),\n 274: Int64Index([53, 54, 55, 56], dtype='int64'),\n 275: Int64Index([53, 54, 55, 56], dtype='int64'),\n 276: Int64Index([53, 54, 55, 56], dtype='int64'),\n 277: Int64Index([53, 54, 55, 56], dtype='int64'),\n 278: Int64Index([53, 54, 55, 56], dtype='int64'),\n 279: Int64Index([53, 54, 55, 56], dtype='int64'),\n 280: Int64Index([53, 54, 55, 56], dtype='int64'),\n 281: Int64Index([53, 54, 55, 56], dtype='int64'),\n 282: Int64Index([53, 54, 55, 56], dtype='int64'),\n 283: 'No match',\n 284: 'No match',\n 285: 'No match',\n 286: 'No match',\n 287: 'No match',\n 288: 'No match',\n 289: 'No match',\n 290: 'No match',\n 291: 'No match',\n 292: 'No match',\n 293: 'No match',\n 294: 'No match',\n 295: 'No match',\n 296: 'No match',\n 297: 'No match',\n 298: 'No match',\n 299: 'No match',\n 300: 'No match',\n 301: 'No match',\n 302: 'No match',\n 303: 'No match',\n 304: 'No match',\n 305: 'No match',\n 306: 'No match',\n 307: Int64Index([49, 50, 51], dtype='int64'),\n 308: Int64Index([49, 50, 51], dtype='int64'),\n 309: Int64Index([49, 50, 51], dtype='int64'),\n 310: Int64Index([49, 50, 51], dtype='int64'),\n 311: Int64Index([49, 50, 51], dtype='int64'),\n 312: Int64Index([49, 50, 51], dtype='int64'),\n 313: Int64Index([49, 50, 51], dtype='int64'),\n 314: Int64Index([49, 50, 51], dtype='int64'),\n 315: Int64Index([49, 50, 51], dtype='int64'),\n 316: Int64Index([49, 50, 51], dtype='int64'),\n 317: Int64Index([49, 50, 51], dtype='int64'),\n 318: Int64Index([49, 50, 51], dtype='int64'),\n 319: Int64Index([49, 50, 51], dtype='int64'),\n 320: Int64Index([49, 50, 51], dtype='int64'),\n 321: Int64Index([49, 50, 51], dtype='int64'),\n 322: Int64Index([49, 50, 51], dtype='int64'),\n 323: Int64Index([49, 50, 51], dtype='int64'),\n 324: Int64Index([49, 50, 51], dtype='int64'),\n 325: Int64Index([49, 50, 51], dtype='int64'),\n 326: Int64Index([49, 50, 51], dtype='int64'),\n 327: Int64Index([49, 50, 51], dtype='int64'),\n 328: Int64Index([49, 50, 51], dtype='int64'),\n 329: Int64Index([49, 50, 51], dtype='int64'),\n 330: Int64Index([49, 50, 51], dtype='int64'),\n 331: Int64Index([49, 50, 51], dtype='int64'),\n 332: 'No match',\n 333: 'No match',\n 334: 'No match',\n 335: 'No match',\n 336: 'No match',\n 337: 'No match',\n 338: 'No match',\n 339: 'No match',\n 340: 'No match',\n 341: 'No match',\n 342: 'No match',\n 343: 'No match',\n 344: 'No match',\n 345: 'No match',\n 346: 'No match',\n 347: 'No match',\n 348: 'No match',\n 349: 'No match',\n 350: 'No match',\n 351: 'No match',\n 352: 'No match',\n 353: 'No match',\n 354: 'No match',\n 355: 'No match',\n 356: 'No match',\n 357: 'No match',\n 358: 'No match',\n 359: 'No match',\n 360: 'No match',\n 361: 'No match',\n 362: 'No match',\n 363: 'No match',\n 364: 'No match',\n 365: 'No match',\n 366: 'No match',\n 367: 'No match',\n 368: 'No match'}"
     },
     "metadata": {},
     "output_type": "execute_result",
     "execution_count": 21
    }
   ]
  },
  {
   "metadata": {
    "trusted": true,
    "pycharm": {
     "is_executing": false
    }
   },
   "cell_type": "code",
   "source": [
    "#for row in wyssen_gdf.itertuples():\n",
    "    #overlap = gpd.overlay(wyssen_gdf,satskred_gdf,how='intersection')"
   ],
   "execution_count": 22,
   "outputs": []
  },
  {
   "metadata": {
    "trusted": true,
    "pycharm": {
     "is_executing": false
    }
   },
   "cell_type": "code",
   "source": [
    "print(satskred_gdf['geometry'])"
   ],
   "execution_count": 23,
   "outputs": [
    {
     "name": "stdout",
     "text": [
      "0     POLYGON ((8.195177439133777 61.25987516789603,...\n1     POLYGON ((8.197893531082906 61.2585701014953, ...\n2     POLYGON ((8.21295713335868 61.23481617912952, ...\n3     POLYGON ((8.197893531082906 61.2585701014953, ...\n4     POLYGON ((8.213307762113439 61.23492392616465,...\n5     POLYGON ((8.198059269205311 61.25866856794975,...\n6     POLYGON ((8.19804943237884 61.26560719895456, ...\n7     POLYGON ((8.208391998211694 61.24035406196727,...\n8     POLYGON ((8.200112182562304 61.25696958649805,...\n9     POLYGON ((8.199859625605329 61.26416633560624,...\n10    POLYGON ((8.215284490411497 61.23529365175204,...\n11    POLYGON ((8.21459791714717 61.2376021737839, 8...\n12    POLYGON ((8.201535424300673 61.25127368475768,...\n13    POLYGON ((8.198429462512303 61.25868721317511,...\n14    POLYGON ((8.1968007398692 61.26446288511351, 8...\n15    POLYGON ((8.197534200990948 61.25936306898571,...\n16    POLYGON ((8.196570622905508 61.2672449733822, ...\n17    POLYGON ((8.194058233176122 61.26847018736235,...\n18    POLYGON ((8.197063331352002 61.26411563715929,...\n19    POLYGON ((8.190424031901172 61.26882773916955,...\n20    POLYGON ((8.230627533383739 61.22831408826197,...\n21    POLYGON ((8.200453725884289 61.26401600941668,...\n22    POLYGON ((8.19905133136438 61.2713351134561, 8...\n23    POLYGON ((8.231443016968344 61.22366901141989,...\n24    POLYGON ((8.232988769293664 61.22690055077489,...\n25    POLYGON ((8.199946446466249 61.25687112258988,...\n26    POLYGON ((8.234995729922664 61.21672810759416,...\n27    POLYGON ((8.233902887227273 61.21919652022323,...\n28    POLYGON ((8.235385437221064 61.22792184858764,...\n29    POLYGON ((8.234785332718861 61.21076999807664,...\n                            ...                        \n38    POLYGON ((8.234438299718251 61.21931348138805,...\n39    POLYGON ((8.194038856039638 61.26855932998357,...\n40    POLYGON ((8.233309799101612 61.21934700864639,...\n41    POLYGON ((8.233397081210763 61.22674079422791,...\n42    POLYGON ((8.212421545781504 61.23469913017685,...\n43    POLYGON ((8.200105409878775 61.24579458130233,...\n44    POLYGON ((8.200638854854878 61.26402532935825,...\n45    POLYGON ((8.23267083969883 61.22057657165877, ...\n46    POLYGON ((8.218109691776725 61.23174086069169,...\n47    POLYGON ((8.234052465809897 61.22803525878208,...\n48    POLYGON ((8.217966874910186 61.23326566228077,...\n49    POLYGON ((8.208022012743001 61.24033544714111,...\n50    POLYGON ((8.202715059590332 61.24583587731342,...\n51    POLYGON ((8.202473919547279 61.2598821484873, ...\n52    POLYGON ((8.233352702051125 61.22088111052085,...\n53    POLYGON ((8.215411585905214 61.23557039002012,...\n54    POLYGON ((8.214972432953676 61.23500761580304,...\n55    POLYGON ((8.208002697655994 61.24042459272529,...\n56    POLYGON ((8.200192948460248 61.252287503452, 8...\n57    POLYGON ((8.215998150977294 61.2319952095467, ...\n58    POLYGON ((8.199943941204914 61.25515874872988,...\n59    POLYGON ((8.198194771330478 61.2580445633603, ...\n60    POLYGON ((8.214197342676737 61.23686110322423,...\n61    POLYGON ((8.199963290883359 61.25506960483522,...\n62    POLYGON ((8.196736400861489 61.26734344204321,...\n63    POLYGON ((8.194818219740846 61.26841835932068,...\n64    POLYGON ((8.234975436694528 61.22375602619788,...\n65    POLYGON ((8.218363910264314 61.2322943322289, ...\n66    POLYGON ((8.217704792025762 61.23361295858912,...\n67    POLYGON ((8.198866159984654 61.27132579070681,...\nName: geometry, Length: 68, dtype: object\n"
     ],
     "output_type": "stream"
    }
   ]
  },
  {
   "metadata": {
    "trusted": true,
    "pycharm": {
     "is_executing": false
    }
   },
   "cell_type": "code",
   "source": [
    "from shapely.geometry import Polygon"
   ],
   "execution_count": 24,
   "outputs": []
  },
  {
   "metadata": {
    "trusted": true,
    "pycharm": {
     "is_executing": false
    }
   },
   "cell_type": "code",
   "source": [
    "satskred_gdf.intersects(wyssen_df)"
   ],
   "execution_count": 42,
   "outputs": [
    {
     "data": {
      "text/plain": "0      False\n1      False\n2      False\n3      False\n4      False\n5      False\n6      False\n7      False\n8      False\n9      False\n10     False\n11     False\n12     False\n13     False\n14     False\n15     False\n16     False\n17     False\n18     False\n19     False\n20     False\n21     False\n22     False\n23     False\n24     False\n25     False\n26     False\n27     False\n28     False\n29     False\n       ...  \n339    False\n340    False\n341    False\n342    False\n343    False\n344    False\n345    False\n346    False\n347    False\n348    False\n349    False\n350    False\n351    False\n352    False\n353    False\n354    False\n355    False\n356    False\n357    False\n358    False\n359    False\n360    False\n361    False\n362    False\n363    False\n364    False\n365    False\n366    False\n367    False\n368    False\nLength: 369, dtype: bool"
     },
     "metadata": {},
     "output_type": "execute_result",
     "execution_count": 42
    }
   ]
  },
  {
   "metadata": {
    "trusted": true,
    "pycharm": {
     "is_executing": false
    }
   },
   "cell_type": "code",
   "source": [
    "wyssen_gdf.plot()"
   ],
   "execution_count": 26,
   "outputs": [
    {
     "data": {
      "text/plain": "<matplotlib.axes._subplots.AxesSubplot at 0x229a08a0ef0>"
     },
     "metadata": {},
     "output_type": "execute_result",
     "execution_count": 26
    },
    {
     "data": {
      "text/plain": "<Figure size 432x288 with 1 Axes>",
      "image/png": "[encoded data removed]"
     },
     "metadata": {
      "needs_background": "light"
     },
     "output_type": "display_data"
    }
   ]
  },
  {
   "metadata": {
    "trusted": true,
    "pycharm": {
     "is_executing": false
    }
   },
   "cell_type": "code",
   "source": [
    "dt_start = datetime.datetime.strptime(\"2018-01-01\", \"%Y-%M-%d\")\n",
    "dt_stop = datetime.datetime.strptime(\"2018-01-31\", \"%Y-%M-%d\")\n",
    "print(dt_start, dt_stop)\n",
    "\n",
    "sat1 = satskred_df[satskred_df[(satskred_df[\"Ref_Date\"] <= dt_start) & (dt_stop <= satskred_df[\"Det_Date\"])]]\n",
    "sat1.head()"
   ],
   "execution_count": 48,
   "outputs": [
    {
     "name": "stdout",
     "text": [
      "2018-01-01 00:01:00 2018-01-31 00:01:00\n"
     ],
     "output_type": "stream"
    },
    {
     "data": {
      "text/plain": "   area aspect  det_count  east  length  north  raster_val refdate sat_geom  \\\n0   NaN    NaN        NaN   NaN     NaN    NaN         NaN     NaN      NaN   \n1   NaN    NaN        NaN   NaN     NaN    NaN         NaN     NaN      NaN   \n2   NaN    NaN        NaN   NaN     NaN    NaN         NaN     NaN      NaN   \n3   NaN    NaN        NaN   NaN     NaN    NaN         NaN     NaN      NaN   \n4   NaN    NaN        NaN   NaN     NaN    NaN         NaN     NaN      NaN   \n\n  source    ...    vv0_median vv0_min vv0_max vh0_mean vh0_median vh0_min  \\\n0    NaN    ...           NaN     NaN     NaN      NaN        NaN     NaN   \n1    NaN    ...           NaN     NaN     NaN      NaN        NaN     NaN   \n2    NaN    ...           NaN     NaN     NaN      NaN        NaN     NaN   \n3    NaN    ...           NaN     NaN     NaN      NaN        NaN     NaN   \n4    NaN    ...           NaN     NaN     NaN      NaN        NaN     NaN   \n\n   vh0_max  geometry  Ref_Date  Det_Date  \n0      NaN       NaN       NaT       NaT  \n1      NaN       NaN       NaT       NaT  \n2      NaN       NaN       NaT       NaT  \n3      NaN       NaN       NaT       NaT  \n4      NaN       NaN       NaT       NaT  \n\n[5 rows x 43 columns]",
      "text/html": "<div>\n<style scoped>\n    .dataframe tbody tr th:only-of-type {\n        vertical-align: middle;\n    }\n\n    .dataframe tbody tr th {\n        vertical-align: top;\n    }\n\n    .dataframe thead th {\n        text-align: right;\n    }\n</style>\n<table border=\"1\" class=\"dataframe\">\n  <thead>\n    <tr style=\"text-align: right;\">\n      <th></th>\n      <th>area</th>\n      <th>aspect</th>\n      <th>det_count</th>\n      <th>east</th>\n      <th>length</th>\n      <th>north</th>\n      <th>raster_val</th>\n      <th>refdate</th>\n      <th>sat_geom</th>\n      <th>source</th>\n      <th>...</th>\n      <th>vv0_median</th>\n      <th>vv0_min</th>\n      <th>vv0_max</th>\n      <th>vh0_mean</th>\n      <th>vh0_median</th>\n      <th>vh0_min</th>\n      <th>vh0_max</th>\n      <th>geometry</th>\n      <th>Ref_Date</th>\n      <th>Det_Date</th>\n    </tr>\n  </thead>\n  <tbody>\n    <tr>\n      <th>0</th>\n      <td>NaN</td>\n      <td>NaN</td>\n      <td>NaN</td>\n      <td>NaN</td>\n      <td>NaN</td>\n      <td>NaN</td>\n      <td>NaN</td>\n      <td>NaN</td>\n      <td>NaN</td>\n      <td>NaN</td>\n      <td>...</td>\n      <td>NaN</td>\n      <td>NaN</td>\n      <td>NaN</td>\n      <td>NaN</td>\n      <td>NaN</td>\n      <td>NaN</td>\n      <td>NaN</td>\n      <td>NaN</td>\n      <td>NaT</td>\n      <td>NaT</td>\n    </tr>\n    <tr>\n      <th>1</th>\n      <td>NaN</td>\n      <td>NaN</td>\n      <td>NaN</td>\n      <td>NaN</td>\n      <td>NaN</td>\n      <td>NaN</td>\n      <td>NaN</td>\n      <td>NaN</td>\n      <td>NaN</td>\n      <td>NaN</td>\n      <td>...</td>\n      <td>NaN</td>\n      <td>NaN</td>\n      <td>NaN</td>\n      <td>NaN</td>\n      <td>NaN</td>\n      <td>NaN</td>\n      <td>NaN</td>\n      <td>NaN</td>\n      <td>NaT</td>\n      <td>NaT</td>\n    </tr>\n    <tr>\n      <th>2</th>\n      <td>NaN</td>\n      <td>NaN</td>\n      <td>NaN</td>\n      <td>NaN</td>\n      <td>NaN</td>\n      <td>NaN</td>\n      <td>NaN</td>\n      <td>NaN</td>\n      <td>NaN</td>\n      <td>NaN</td>\n      <td>...</td>\n      <td>NaN</td>\n      <td>NaN</td>\n      <td>NaN</td>\n      <td>NaN</td>\n      <td>NaN</td>\n      <td>NaN</td>\n      <td>NaN</td>\n      <td>NaN</td>\n      <td>NaT</td>\n      <td>NaT</td>\n    </tr>\n    <tr>\n      <th>3</th>\n      <td>NaN</td>\n      <td>NaN</td>\n      <td>NaN</td>\n      <td>NaN</td>\n      <td>NaN</td>\n      <td>NaN</td>\n      <td>NaN</td>\n      <td>NaN</td>\n      <td>NaN</td>\n      <td>NaN</td>\n      <td>...</td>\n      <td>NaN</td>\n      <td>NaN</td>\n      <td>NaN</td>\n      <td>NaN</td>\n      <td>NaN</td>\n      <td>NaN</td>\n      <td>NaN</td>\n      <td>NaN</td>\n      <td>NaT</td>\n      <td>NaT</td>\n    </tr>\n    <tr>\n      <th>4</th>\n      <td>NaN</td>\n      <td>NaN</td>\n      <td>NaN</td>\n      <td>NaN</td>\n      <td>NaN</td>\n      <td>NaN</td>\n      <td>NaN</td>\n      <td>NaN</td>\n      <td>NaN</td>\n      <td>NaN</td>\n      <td>...</td>\n      <td>NaN</td>\n      <td>NaN</td>\n      <td>NaN</td>\n      <td>NaN</td>\n      <td>NaN</td>\n      <td>NaN</td>\n      <td>NaN</td>\n      <td>NaN</td>\n      <td>NaT</td>\n      <td>NaT</td>\n    </tr>\n  </tbody>\n</table>\n<p>5 rows × 43 columns</p>\n</div>"
     },
     "metadata": {},
     "output_type": "execute_result",
     "execution_count": 48
    }
   ]
  },
  {
   "cell_type": "code",
   "execution_count": null,
   "outputs": [],
   "source": [
    "res_intersect = gpd.overlay(sat1, wyssen_gdf, how='intersection')\n",
    "# res_intersect = gpd.overlay(satskred_gdf, wyssen_gdf, how='intersection')\n",
    "print(len(res_intersect))"
   ],
   "metadata": {
    "collapsed": false,
    "pycharm": {
     "name": "#%%\n"
    }
   }
  },
  {
   "cell_type": "code",
   "execution_count": 45,
   "outputs": [
    {
     "data": {
      "text/plain": "<Figure size 432x288 with 1 Axes>",
      "image/png": "[encoded data removed]"
     },
     "metadata": {
      "needs_background": "light"
     },
     "output_type": "display_data"
    }
   ],
   "source": [
    "ax = res_intersect.plot(cmap='tab10')\n",
    "# satskred_gdf.plot(ax=ax, facecolor='none', edgecolor='g')\n",
    "# wyssen_gdf.plot(ax=ax, facecolor='none', edgecolor='b')\n",
    "plt.gcf().savefig('sat_wys_intersect.png', dpi=150)"
   ],
   "metadata": {
    "collapsed": false,
    "pycharm": {
     "name": "#%%\n",
     "is_executing": false
    }
   }
  },
  {
   "cell_type": "code",
   "execution_count": 41,
   "outputs": [
    {
     "name": "stdout",
     "text": [
      "495\n"
     ],
     "output_type": "stream"
    }
   ],
   "source": [],
   "metadata": {
    "collapsed": false,
    "pycharm": {
     "name": "#%%\n",
     "is_executing": false
    }
   }
  },
  {
   "metadata": {
    "trusted": true,
    "pycharm": {
     "is_executing": false
    }
   },
   "cell_type": "code",
   "source": [
    "from shapely.geometry import Polygon\n",
    "polys1 = gpd.GeoSeries([Polygon([(0,0), (2,0), (2,2), (0,2)]),\n",
    "                              Polygon([(2,2), (4,2), (4,4), (2,4)])])\n",
    "\n",
    "\n",
    "polys2 = gpd.GeoSeries([Polygon([(1,1), (3,1), (3,3), (1,3)]),\n",
    "                              Polygon([(3,3), (5,3), (5,5), (3,5)])])\n",
    "\n",
    "\n",
    "df1 = gpd.GeoDataFrame({'geometry': polys1, 'df1':[1,2]})\n",
    "\n",
    "df2 = gpd.GeoDataFrame({'geometry': polys2, 'df2':[1,2]})\n",
    "\n",
    "res_union = gpd.overlay(df1, df2, how='intersection')"
   ],
   "execution_count": 28,
   "outputs": []
  },
  {
   "metadata": {
    "trusted": true,
    "pycharm": {
     "is_executing": false
    }
   },
   "cell_type": "code",
   "source": "wyssen_to_satskred",
   "execution_count": 29,
   "outputs": [
    {
     "data": {
      "text/plain": "{0: 'No match',\n 1: 'No match',\n 2: 'No match',\n 3: 'No match',\n 4: 'No match',\n 5: 'No match',\n 6: Int64Index([4], dtype='int64'),\n 7: Int64Index([4], dtype='int64'),\n 8: Int64Index([4], dtype='int64'),\n 9: Int64Index([4], dtype='int64'),\n 10: Int64Index([4], dtype='int64'),\n 11: Int64Index([4], dtype='int64'),\n 12: Int64Index([4], dtype='int64'),\n 13: Int64Index([4], dtype='int64'),\n 14: Int64Index([4], dtype='int64'),\n 15: Int64Index([4], dtype='int64'),\n 16: Int64Index([4], dtype='int64'),\n 17: Int64Index([4], dtype='int64'),\n 18: 'No match',\n 19: 'No match',\n 20: 'No match',\n 21: 'No match',\n 22: 'No match',\n 23: 'No match',\n 24: 'No match',\n 25: 'No match',\n 26: 'No match',\n 27: 'No match',\n 28: 'No match',\n 29: 'No match',\n 30: 'No match',\n 31: 'No match',\n 32: 'No match',\n 33: 'No match',\n 34: 'No match',\n 35: 'No match',\n 36: 'No match',\n 37: 'No match',\n 38: 'No match',\n 39: 'No match',\n 40: 'No match',\n 41: 'No match',\n 42: 'No match',\n 43: 'No match',\n 44: 'No match',\n 45: Int64Index([6, 7, 8, 9, 10, 11, 12], dtype='int64'),\n 46: Int64Index([6, 7, 8, 9, 10, 11, 12], dtype='int64'),\n 47: Int64Index([6, 7, 8, 9, 10, 11, 12], dtype='int64'),\n 48: Int64Index([6, 7, 8, 9, 10, 11, 12], dtype='int64'),\n 49: Int64Index([6, 7, 8, 9, 10, 11, 12], dtype='int64'),\n 50: Int64Index([6, 7, 8, 9, 10, 11, 12], dtype='int64'),\n 51: Int64Index([6, 7, 8, 9, 10, 11, 12], dtype='int64'),\n 52: Int64Index([6, 7, 8, 9, 10, 11, 12], dtype='int64'),\n 53: Int64Index([6, 7, 8, 9, 10, 11, 12], dtype='int64'),\n 54: Int64Index([6, 7, 8, 9, 10, 11, 12], dtype='int64'),\n 55: Int64Index([6, 7, 8, 9, 10, 11, 12], dtype='int64'),\n 56: Int64Index([6, 7, 8, 9, 10, 11, 12], dtype='int64'),\n 57: Int64Index([6, 7, 8, 9, 10, 11, 12], dtype='int64'),\n 58: Int64Index([6, 7, 8, 9, 10, 11, 12], dtype='int64'),\n 59: Int64Index([6, 7, 8, 9, 10, 11, 12], dtype='int64'),\n 60: Int64Index([6, 7, 8, 9, 10, 11, 12], dtype='int64'),\n 61: Int64Index([6, 7, 8, 9, 10, 11, 12], dtype='int64'),\n 62: Int64Index([6, 7, 8, 9, 10, 11, 12], dtype='int64'),\n 63: Int64Index([6, 7, 8, 9, 10, 11, 12], dtype='int64'),\n 64: Int64Index([6, 7, 8, 9, 10, 11, 12], dtype='int64'),\n 65: Int64Index([6, 7, 8, 9, 10, 11, 12], dtype='int64'),\n 66: Int64Index([6, 7, 8, 9, 10, 11, 12], dtype='int64'),\n 67: Int64Index([6, 7, 8, 9, 10, 11, 12], dtype='int64'),\n 68: Int64Index([6, 7, 8, 9, 10, 11, 12], dtype='int64'),\n 69: Int64Index([6, 7, 8, 9, 10, 11, 12], dtype='int64'),\n 70: Int64Index([6, 7, 8, 9, 10, 11, 12], dtype='int64'),\n 71: Int64Index([6, 7, 8, 9, 10, 11, 12], dtype='int64'),\n 72: Int64Index([6, 7, 8, 9, 10, 11, 12], dtype='int64'),\n 73: Int64Index([10, 11, 12], dtype='int64'),\n 74: Int64Index([10, 11, 12], dtype='int64'),\n 75: Int64Index([10, 11, 12], dtype='int64'),\n 76: Int64Index([10, 11, 12], dtype='int64'),\n 77: Int64Index([10, 11, 12], dtype='int64'),\n 78: Int64Index([10, 11, 12], dtype='int64'),\n 79: Int64Index([10, 11, 12], dtype='int64'),\n 80: Int64Index([10, 11, 12], dtype='int64'),\n 81: Int64Index([10, 11, 12], dtype='int64'),\n 82: Int64Index([10, 11, 12], dtype='int64'),\n 83: Int64Index([10, 11, 12], dtype='int64'),\n 84: Int64Index([10, 11, 12], dtype='int64'),\n 85: Int64Index([10, 11, 12], dtype='int64'),\n 86: Int64Index([10, 11, 12], dtype='int64'),\n 87: Int64Index([10, 11, 12], dtype='int64'),\n 88: 'No match',\n 89: 'No match',\n 90: 'No match',\n 91: 'No match',\n 92: 'No match',\n 93: 'No match',\n 94: 'No match',\n 95: Int64Index([15], dtype='int64'),\n 96: Int64Index([15], dtype='int64'),\n 97: Int64Index([15], dtype='int64'),\n 98: Int64Index([15], dtype='int64'),\n 99: Int64Index([15], dtype='int64'),\n 100: Int64Index([15], dtype='int64'),\n 101: Int64Index([15], dtype='int64'),\n 102: Int64Index([15], dtype='int64'),\n 103: Int64Index([15], dtype='int64'),\n 104: Int64Index([15], dtype='int64'),\n 105: Int64Index([15], dtype='int64'),\n 106: Int64Index([15], dtype='int64'),\n 107: Int64Index([15], dtype='int64'),\n 108: 'No match',\n 109: 'No match',\n 110: 'No match',\n 111: Int64Index([40, 41, 42], dtype='int64'),\n 112: Int64Index([40, 41, 42], dtype='int64'),\n 113: Int64Index([40, 41, 42], dtype='int64'),\n 114: Int64Index([39, 40, 41, 42], dtype='int64'),\n 115: 'No match',\n 116: 'No match',\n 117: 'No match',\n 118: 'No match',\n 119: 'No match',\n 120: 'No match',\n 121: 'No match',\n 122: 'No match',\n 123: 'No match',\n 124: 'No match',\n 125: 'No match',\n 126: 'No match',\n 127: 'No match',\n 128: 'No match',\n 129: 'No match',\n 130: 'No match',\n 131: 'No match',\n 132: 'No match',\n 133: 'No match',\n 134: 'No match',\n 135: 'No match',\n 136: 'No match',\n 137: 'No match',\n 138: 'No match',\n 139: 'No match',\n 140: 'No match',\n 141: 'No match',\n 142: 'No match',\n 143: 'No match',\n 144: 'No match',\n 145: 'No match',\n 146: 'No match',\n 147: 'No match',\n 148: 'No match',\n 149: 'No match',\n 150: 'No match',\n 151: 'No match',\n 152: 'No match',\n 153: 'No match',\n 154: 'No match',\n 155: 'No match',\n 156: 'No match',\n 157: 'No match',\n 158: 'No match',\n 159: 'No match',\n 160: 'No match',\n 161: 'No match',\n 162: 'No match',\n 163: 'No match',\n 164: 'No match',\n 165: 'No match',\n 166: 'No match',\n 167: 'No match',\n 168: 'No match',\n 169: 'No match',\n 170: 'No match',\n 171: 'No match',\n 172: 'No match',\n 173: 'No match',\n 174: 'No match',\n 175: 'No match',\n 176: 'No match',\n 177: 'No match',\n 178: 'No match',\n 179: 'No match',\n 180: 'No match',\n 181: 'No match',\n 182: 'No match',\n 183: 'No match',\n 184: 'No match',\n 185: 'No match',\n 186: 'No match',\n 187: 'No match',\n 188: 'No match',\n 189: 'No match',\n 190: 'No match',\n 191: 'No match',\n 192: 'No match',\n 193: 'No match',\n 194: 'No match',\n 195: 'No match',\n 196: 'No match',\n 197: 'No match',\n 198: 'No match',\n 199: 'No match',\n 200: 'No match',\n 201: 'No match',\n 202: 'No match',\n 203: 'No match',\n 204: 'No match',\n 205: 'No match',\n 206: 'No match',\n 207: Int64Index([24, 25], dtype='int64'),\n 208: Int64Index([27, 28], dtype='int64'),\n 209: Int64Index([27, 28], dtype='int64'),\n 210: Int64Index([30], dtype='int64'),\n 211: Int64Index([30], dtype='int64'),\n 212: Int64Index([30], dtype='int64'),\n 213: Int64Index([30], dtype='int64'),\n 214: 'No match',\n 215: 'No match',\n 216: 'No match',\n 217: 'No match',\n 218: 'No match',\n 219: 'No match',\n 220: 'No match',\n 221: 'No match',\n 222: 'No match',\n 223: 'No match',\n 224: 'No match',\n 225: 'No match',\n 226: 'No match',\n 227: 'No match',\n 228: 'No match',\n 229: 'No match',\n 230: 'No match',\n 231: 'No match',\n 232: 'No match',\n 233: 'No match',\n 234: 'No match',\n 235: 'No match',\n 236: 'No match',\n 237: Int64Index([31], dtype='int64'),\n 238: Int64Index([32, 33, 34, 35, 36], dtype='int64'),\n 239: Int64Index([32, 33, 34, 35, 36], dtype='int64'),\n 240: Int64Index([32, 33, 34, 35, 36], dtype='int64'),\n 241: Int64Index([32, 33, 34, 35, 36], dtype='int64'),\n 242: Int64Index([32, 33, 34, 35, 36], dtype='int64'),\n 243: Int64Index([32, 33, 34, 35, 36], dtype='int64'),\n 244: Int64Index([32, 33, 34, 35, 36], dtype='int64'),\n 245: Int64Index([32, 33, 34, 35, 36], dtype='int64'),\n 246: Int64Index([32, 33, 34, 35, 36], dtype='int64'),\n 247: Int64Index([32, 33, 34, 35, 36], dtype='int64'),\n 248: Int64Index([32, 33, 34, 35, 36], dtype='int64'),\n 249: Int64Index([32, 33, 34, 35, 36], dtype='int64'),\n 250: Int64Index([32, 33, 34, 35, 36], dtype='int64'),\n 251: Int64Index([32, 33, 34, 35, 36], dtype='int64'),\n 252: Int64Index([32, 33, 34, 35, 36], dtype='int64'),\n 253: Int64Index([32, 33, 34, 35, 36], dtype='int64'),\n 254: Int64Index([37, 38], dtype='int64'),\n 255: Int64Index([37, 38, 39], dtype='int64'),\n 256: Int64Index([39, 40, 41], dtype='int64'),\n 257: Int64Index([39, 40, 41], dtype='int64'),\n 258: Int64Index([39, 40, 41], dtype='int64'),\n 259: Int64Index([39, 40, 41], dtype='int64'),\n 260: 'No match',\n 261: 'No match',\n 262: Int64Index([57, 58, 59, 60, 61], dtype='int64'),\n 263: Int64Index([57, 58, 59, 60, 61], dtype='int64'),\n 264: Int64Index([57, 58, 59, 60, 61], dtype='int64'),\n 265: Int64Index([57, 58, 59, 60, 61], dtype='int64'),\n 266: Int64Index([53, 54, 55, 56, 57, 58, 59], dtype='int64'),\n 267: Int64Index([53, 54, 55, 56, 57, 58, 59], dtype='int64'),\n 268: Int64Index([53, 54, 55, 56], dtype='int64'),\n 269: Int64Index([53, 54, 55, 56], dtype='int64'),\n 270: Int64Index([53, 54, 55, 56], dtype='int64'),\n 271: Int64Index([53, 54, 55, 56], dtype='int64'),\n 272: Int64Index([53, 54, 55, 56], dtype='int64'),\n 273: Int64Index([53, 54, 55, 56], dtype='int64'),\n 274: Int64Index([53, 54, 55, 56], dtype='int64'),\n 275: Int64Index([53, 54, 55, 56], dtype='int64'),\n 276: Int64Index([53, 54, 55, 56], dtype='int64'),\n 277: Int64Index([53, 54, 55, 56], dtype='int64'),\n 278: Int64Index([53, 54, 55, 56], dtype='int64'),\n 279: Int64Index([53, 54, 55, 56], dtype='int64'),\n 280: Int64Index([53, 54, 55, 56], dtype='int64'),\n 281: Int64Index([53, 54, 55, 56], dtype='int64'),\n 282: Int64Index([53, 54, 55, 56], dtype='int64'),\n 283: 'No match',\n 284: 'No match',\n 285: 'No match',\n 286: 'No match',\n 287: 'No match',\n 288: 'No match',\n 289: 'No match',\n 290: 'No match',\n 291: 'No match',\n 292: 'No match',\n 293: 'No match',\n 294: 'No match',\n 295: 'No match',\n 296: 'No match',\n 297: 'No match',\n 298: 'No match',\n 299: 'No match',\n 300: 'No match',\n 301: 'No match',\n 302: 'No match',\n 303: 'No match',\n 304: 'No match',\n 305: 'No match',\n 306: 'No match',\n 307: Int64Index([49, 50, 51], dtype='int64'),\n 308: Int64Index([49, 50, 51], dtype='int64'),\n 309: Int64Index([49, 50, 51], dtype='int64'),\n 310: Int64Index([49, 50, 51], dtype='int64'),\n 311: Int64Index([49, 50, 51], dtype='int64'),\n 312: Int64Index([49, 50, 51], dtype='int64'),\n 313: Int64Index([49, 50, 51], dtype='int64'),\n 314: Int64Index([49, 50, 51], dtype='int64'),\n 315: Int64Index([49, 50, 51], dtype='int64'),\n 316: Int64Index([49, 50, 51], dtype='int64'),\n 317: Int64Index([49, 50, 51], dtype='int64'),\n 318: Int64Index([49, 50, 51], dtype='int64'),\n 319: Int64Index([49, 50, 51], dtype='int64'),\n 320: Int64Index([49, 50, 51], dtype='int64'),\n 321: Int64Index([49, 50, 51], dtype='int64'),\n 322: Int64Index([49, 50, 51], dtype='int64'),\n 323: Int64Index([49, 50, 51], dtype='int64'),\n 324: Int64Index([49, 50, 51], dtype='int64'),\n 325: Int64Index([49, 50, 51], dtype='int64'),\n 326: Int64Index([49, 50, 51], dtype='int64'),\n 327: Int64Index([49, 50, 51], dtype='int64'),\n 328: Int64Index([49, 50, 51], dtype='int64'),\n 329: Int64Index([49, 50, 51], dtype='int64'),\n 330: Int64Index([49, 50, 51], dtype='int64'),\n 331: Int64Index([49, 50, 51], dtype='int64'),\n 332: 'No match',\n 333: 'No match',\n 334: 'No match',\n 335: 'No match',\n 336: 'No match',\n 337: 'No match',\n 338: 'No match',\n 339: 'No match',\n 340: 'No match',\n 341: 'No match',\n 342: 'No match',\n 343: 'No match',\n 344: 'No match',\n 345: 'No match',\n 346: 'No match',\n 347: 'No match',\n 348: 'No match',\n 349: 'No match',\n 350: 'No match',\n 351: 'No match',\n 352: 'No match',\n 353: 'No match',\n 354: 'No match',\n 355: 'No match',\n 356: 'No match',\n 357: 'No match',\n 358: 'No match',\n 359: 'No match',\n 360: 'No match',\n 361: 'No match',\n 362: 'No match',\n 363: 'No match',\n 364: 'No match',\n 365: 'No match',\n 366: 'No match',\n 367: 'No match',\n 368: 'No match'}"
     },
     "metadata": {},
     "output_type": "execute_result",
     "execution_count": 29
    }
   ]
  },
  {
   "metadata": {
    "trusted": true,
    "pycharm": {
     "is_executing": false
    }
   },
   "cell_type": "code",
   "source": "expr = 'Ref_Date <= d & d => Det_Date'",
   "execution_count": 30,
   "outputs": []
  },
  {
   "metadata": {
    "trusted": true,
    "pycharm": {
     "is_executing": false
    }
   },
   "cell_type": "code",
   "source": "map(lambda frame: frame.query(expr), [wyssen_df_1, satskred_df_1])",
   "execution_count": 31,
   "outputs": [
    {
     "traceback": [
      "\u001b[1;31m---------------------------------------------------------------------------\u001b[0m",
      "\u001b[1;31mNameError\u001b[0m                                 Traceback (most recent call last)",
      "\u001b[1;32m<ipython-input-31-f828e7131e87>\u001b[0m in \u001b[0;36m<module>\u001b[1;34m\u001b[0m\n\u001b[1;32m----> 1\u001b[1;33m \u001b[0mmap\u001b[0m\u001b[1;33m(\u001b[0m\u001b[1;32mlambda\u001b[0m \u001b[0mframe\u001b[0m\u001b[1;33m:\u001b[0m \u001b[0mframe\u001b[0m\u001b[1;33m.\u001b[0m\u001b[0mquery\u001b[0m\u001b[1;33m(\u001b[0m\u001b[0mexpr\u001b[0m\u001b[1;33m)\u001b[0m\u001b[1;33m,\u001b[0m \u001b[1;33m[\u001b[0m\u001b[0mwyssen_df_1\u001b[0m\u001b[1;33m,\u001b[0m \u001b[0msatskred_df_1\u001b[0m\u001b[1;33m]\u001b[0m\u001b[1;33m)\u001b[0m\u001b[1;33m\u001b[0m\u001b[0m\n\u001b[0m\u001b[0;32m      2\u001b[0m \u001b[1;33m\u001b[0m\u001b[0m\n",
      "\u001b[1;31mNameError\u001b[0m: name 'wyssen_df_1' is not defined"
     ],
     "ename": "NameError",
     "evalue": "name 'wyssen_df_1' is not defined",
     "output_type": "error"
    }
   ]
  },
  {
   "metadata": {
    "trusted": true,
    "pycharm": {
     "is_executing": false
    }
   },
   "cell_type": "code",
   "source": "wyssen_df_1['d'].where(satskred_df_1)",
   "execution_count": null,
   "outputs": []
  }
 ],
 "metadata": {
  "kernelspec": {
   "name": "pycharm-26af264e",
   "language": "python",
   "display_name": "PyCharm (APS)"
  },
  "language_info": {
   "mimetype": "text/x-python",
   "nbconvert_exporter": "python",
   "name": "python",
   "pygments_lexer": "ipython3",
   "version": "3.6.6",
   "file_extension": ".py",
   "codemirror_mode": {
    "version": 3,
    "name": "ipython"
   }
  },
  "pycharm": {
   "stem_cell": {
    "cell_type": "raw",
    "source": [],
    "metadata": {
     "collapsed": false
    }
   }
  }
 },
 "nbformat": 4,
 "nbformat_minor": 2
}