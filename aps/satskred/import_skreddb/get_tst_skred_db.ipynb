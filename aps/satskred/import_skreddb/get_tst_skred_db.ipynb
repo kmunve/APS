{
 "cells": [
  {
   "cell_type": "code",
   "execution_count": 64,
   "metadata": {
    "pycharm": {
     "is_executing": false
    }
   },
   "outputs": [
    {
     "ename": "ModuleNotFoundError",
     "evalue": "No module named 'folium'",
     "output_type": "error",
     "traceback": [
      "\u001b[1;31m---------------------------------------------------------------------------\u001b[0m",
      "\u001b[1;31mModuleNotFoundError\u001b[0m                       Traceback (most recent call last)",
      "\u001b[1;32m<ipython-input-64-b735dfac6ae1>\u001b[0m in \u001b[0;36m<module>\u001b[1;34m\u001b[0m\n\u001b[0;32m      6\u001b[0m \u001b[1;32mimport\u001b[0m \u001b[0mmatplotlib\u001b[0m\u001b[1;33m.\u001b[0m\u001b[0mpyplot\u001b[0m \u001b[1;32mas\u001b[0m \u001b[0mplt\u001b[0m\u001b[1;33m\u001b[0m\u001b[1;33m\u001b[0m\u001b[0m\n\u001b[0;32m      7\u001b[0m \u001b[1;33m\u001b[0m\u001b[0m\n\u001b[1;32m----> 8\u001b[1;33m \u001b[1;32mimport\u001b[0m \u001b[0mfolium\u001b[0m\u001b[1;33m\u001b[0m\u001b[1;33m\u001b[0m\u001b[0m\n\u001b[0m",
      "\u001b[1;31mModuleNotFoundError\u001b[0m: No module named 'folium'"
     ]
    }
   ],
   "source": [
    "import pyodbc\n",
    "import pandas as pd\n",
    "import geopandas as gpd\n",
    "from shapely.wkt import loads\n",
    "\n",
    "import matplotlib.pyplot as plt\n",
    "\n",
    "import folium"
   ]
  },
  {
   "cell_type": "code",
   "execution_count": 79,
   "metadata": {
    "pycharm": {
     "is_executing": false,
     "name": "#%%\n"
    }
   },
   "outputs": [],
   "source": [
    "srv_name = \"tst-skred.sql.nve.no\"\n",
    "db_name = \"skredprod\"\n",
    "tbls = {\"sh\": \"skred.SKREDHENDELSE\",\n",
    "        \"ut\": \"skred.UTLOPUTLOSNINGOMR\",\n",
    "        \"tek\": \"skred.SKREDTEKNISKEPARAMETRE\"\n",
    "        }\n"
   ]
  },
  {
   "cell_type": "code",
   "execution_count": 80,
   "metadata": {
    "pycharm": {
     "is_executing": false,
     "name": "#%%\n"
    }
   },
   "outputs": [
    {
     "name": "stdout",
     "output_type": "stream",
     "text": [
      "(1, '929784E8-81BD-4071-B3AA-1E1D66566F0C', 141, None, 'Tune / Isebakke', '1944-11-10 00:00:00.0000000', 'Ukjent nar pa dagen', '2000 m', None, 'Nei', 'Ukjent', 'Ukjent', 'Ukjent', 'Ukjent', 'Ukjent', 'Ukjent', 'Ukjent', 'Ukjent', 'Ukjent', 'Ja', 'Ukjent', 'Ukjent', 'Ja', None, None, None, None, None, None, None, 'NGI', 'Ulik kommune, Sarpsborg rett?', 'SkredObsHistorisk', 'Registrert og godkjent', None, 'Øyvind Høydal', '1005', None, None, None, None, 1, None, 587, 1, b'y\\x7f\\x00\\x00\\x01\\x0cp\\x04\\x89\\xe5s\\x9f\\x11A\\x0cJ\\xb2\\xec\\n\\x05YA')\n",
      "(2, 'D818D86D-6F49-45EF-985B-E863E7D5FE17', 120, None, None, None, '50 ar', '50000 m', None, 'Nei', 'Nei', 'Nei', 'Ukjent', 'Nei', 'Nei', 'Ukjent', 'Ukjent', 'Ukjent', 'Ukjent', 'Nei', 'Ja', 'Ukjent', 'Ukjent', None, None, None, None, None, None, None, 'NGI', 'Huge tsunami in Norw. and North Sea. Submarine slide in the Storegga (\"great-edge\") area on the continental shelf off the coast of Møre. The calendar year 6150 BC corresponds to a radiocarbon age of 7,300-7,350 14C years. Geological data in ref. 1,2,6,18,19. Slide mechanisms in ref. 20,21. Run-up heights deduced from probable tsunami deposits, ref. 3,4,7-17. Numerical simulation of tsunami in ref. 5,12.. One of the world\\'s largest known submarine slides. Water depth in slide area: 150-2700 m., area of slide scar: 19200 sq.km, slide volume: 2400 cu km. Probably a large tsunami in the Norwegian and the North Sea, run-up heights of at least 4 m on eastern coast of Scotland and 8 m on western coast of Norway deduced from probable tsunami deposits. Traces of tsunami run-up along large parts of the Scottish and the Norwegian coast.', 'SkredObsHistorisk', 'Registrert og godkjent', None, 'Carl Harbitz', '1005', None, None, None, None, 1, None, 26830, 1, b'y\\x7f\\x00\\x00\\x01\\x0c\\x00m\\r\\xc5!\\x9e\\xe1\\xc0\\xd4\\xb4\\x17\\x1f\\x02@[A')\n",
      "(3, '4731D5C4-FEE8-413F-BF19-101176385986', 140, None, 'Bjørke', '2000-11-13 00:00:00.0000000', '1 dag', '100 m', None, 'Ukjent', 'Ukjent', 'Ukjent', 'Ukjent', 'Ukjent', 'Ukjent', 'Ukjent', 'Ukjent', 'Ukjent', 'Ukjent', 'Ja', 'Ukjent', 'Ukjent', 'Ja', None, None, None, None, None, None, None, 'NGI', 'Fill, Clay, Clay quick.', 'SkredObsHistorisk', 'Registrert og godkjent', None, 'Arne Kleven', '1005', None, None, None, None, 1, None, 1, 1, b'y\\x7f\\x00\\x00\\x01\\x0c\\xc0\\xdf\\xad\\xb1\\xf2U\\x11A\\xf0\\xe9\\xe6\\x1a\\x13kYA')\n",
      "(4, '5DE5B19D-D78D-4EBE-8AC0-E016919452A6', 140, None, 'Viul', '2000-11-04 00:00:00.0000000', '1 dag', '100 m', None, 'Ukjent', 'Ukjent', 'Ukjent', 'Ukjent', 'Ukjent', 'Ukjent', 'Ukjent', 'Ukjent', 'Ukjent', 'Ukjent', 'Ja', 'Ukjent', 'Ukjent', 'Ja', None, None, None, None, None, None, None, 'NGI', 'Surficial slide, organic soils, water from subdrain', 'SkredObsHistorisk', 'Registrert og godkjent', None, 'Arne Kleven', '1005', None, None, None, None, 1, None, 2, 1, b'y\\x7f\\x00\\x00\\x01\\x0c\\xe0a\\xba^r\\x8e\\rA\\xfc)G\\rg~YA')\n",
      "(5, 'F1F9C35E-848A-4FDF-A415-1D1A512C3014', 140, None, 'Juverbakken, Norderhov', '2000-11-04 00:00:00.0000000', '2 dager', '100 m', None, 'Ukjent', 'Ukjent', 'Ukjent', 'Ukjent', 'Ukjent', 'Ukjent', 'Ukjent', 'Ukjent', 'Ukjent', 'Ukjent', 'Ja', 'Ukjent', 'Ukjent', 'Ja', None, None, None, None, None, None, None, 'NGI', 'Infiltration from precipitation, porepressure, agricultural levelling', 'SkredObsHistorisk', 'Registrert og godkjent', None, 'Arne Kleven', '1005', None, None, None, None, 1, None, 3, 1, b'y\\x7f\\x00\\x00\\x01\\x0c\\x00\\x91M\\xe7#\\xfd\\x0cAvq\\x07\\xac\\x92vYA')\n",
      "(6, '110F6107-BBF3-4FBA-A504-8F7BBA9EBE2B', 140, None, 'Arne B. Bangs vei', '2000-11-20 00:00:00.0000000', '8 dager', '100 m', None, 'Ukjent', 'Ukjent', 'Ukjent', 'Ukjent', 'Ukjent', 'Ukjent', 'Ukjent', 'Ukjent', 'Ukjent', 'Ukjent', 'Ja', 'Ukjent', 'Ukjent', 'Ja', None, None, None, None, None, None, None, 'NGI', None, 'SkredObsHistorisk', 'Registrert og godkjent', None, 'Arne Kleven', '1005', None, None, None, None, 1, None, 4, 1, b'y\\x7f\\x00\\x00\\x01\\x0c\\xc0\\xb1)\\xf9\\xd9\\xc2\\x0cA\\x8c\\x8a\\xe4Rn|YA')\n",
      "(7, '1AA5DCE7-9BE4-4782-BBA6-5F773CAB289F', 140, None, 'Rabbaveien 53', '2000-11-15 00:00:00.0000000', '16 dager', '100 m', None, 'Ukjent', 'Ukjent', 'Ukjent', 'Ukjent', 'Ukjent', 'Ukjent', 'Ukjent', 'Ukjent', 'Ukjent', 'Ukjent', 'Ja', 'Ukjent', 'Ukjent', 'Ja', None, None, None, None, None, None, None, 'NGI', None, 'SkredObsHistorisk', 'Registrert og godkjent', None, 'Arne Kleven', '1005', None, None, None, None, 1, None, 5, 1, b'y\\x7f\\x00\\x00\\x01\\x0c\\xe0\\x9b*\\xf6G\\xe2\\x0cAN\\x8e\\x90\\x87p|YA')\n",
      "(8, 'CC59C1C0-2869-4265-8B51-30B1CFB4C0D9', 140, None, None, '2000-10-15 00:00:00.0000000', '64 dager', '100 m', None, 'Ukjent', 'Ukjent', 'Ukjent', 'Ukjent', 'Ukjent', 'Ukjent', 'Ukjent', 'Ukjent', 'Ukjent', 'Ukjent', 'Nei', 'Ukjent', 'Ukjent', 'Ja', None, None, None, None, None, None, None, 'NGI', 'Clay (quick)', 'SkredObsHistorisk', 'Registrert og godkjent', None, 'Arne Kleven', '1005', None, None, None, None, 1, None, 6, 1, b'y\\x7f\\x00\\x00\\x01\\x0c\\x902~*\\xe9J\\x11AhR;\\xf3\\xb7:YA')\n",
      "(9, '76D1A718-9BE7-4088-A41D-1E696101BD16', 140, None, 'Svarstad', '2000-11-13 00:00:00.0000000', '2 dager', '100 m', None, 'Ukjent', 'Ukjent', 'Ukjent', 'Ukjent', 'Ukjent', 'Ukjent', 'Ukjent', 'Ukjent', 'Ukjent', 'Ukjent', 'Nei', 'Ukjent', 'Ukjent', 'Ja', None, None, None, None, None, None, None, 'NGI', None, 'SkredObsHistorisk', 'Registrert og godkjent', None, 'Arne Kleven', '1005', None, None, None, None, 1, None, 7, 1, b'y\\x7f\\x00\\x00\\x01\\x0c@\\xc9\\x9a\\xadt6\\nA\\xaa\\xba\\x82\\xe1g(YA')\n",
      "(10, 'BAE317C7-E474-4D16-BAEC-88A57A8BF63F', 140, None, 'Nordby', '2000-11-13 00:00:00.0000000', '2 dager', '100 m', None, 'Ukjent', 'Ukjent', 'Ukjent', 'Ukjent', 'Ukjent', 'Ukjent', 'Ukjent', 'Ukjent', 'Ukjent', 'Ukjent', 'Ja', 'Ukjent', 'Ukjent', 'Ja', None, None, None, None, None, None, None, 'NGI', None, 'SkredObsHistorisk', 'Registrert og godkjent', None, 'Arne Kleven', '1005', None, None, None, None, 1, None, 8, 1, b'y\\x7f\\x00\\x00\\x01\\x0c\\xc07\\x00$\\x12\\x81\\nAl\\xfe-sZ\\x05YA')\n",
      "(11, 'C6518FF1-3490-4619-AFDB-67FF3A0C9A81', 140, None, 'Frogner', '2000-11-14 00:00:00.0000000', '2 dager', '100 m', None, 'Ukjent', 'Ukjent', 'Ukjent', 'Ukjent', 'Ukjent', 'Ukjent', 'Ukjent', 'Ukjent', 'Ukjent', 'Ukjent', 'Ja', 'Ukjent', 'Ukjent', 'Ja', None, None, None, None, None, None, None, 'NGI', None, 'SkredObsHistorisk', 'Registrert og godkjent', None, 'Arne Kleven', '1005', None, None, None, None, 1, None, 9, 1, b'y\\x7f\\x00\\x00\\x01\\x0c\\xc0_\\x85s\\xc8H\\x11A\\xaeN\\xe55\\x80hYA')\n",
      "(12, '23DB7F5F-7D9D-4B24-A940-A1641E31F921', 140, None, 'Svelvikveien 500', '2000-11-15 00:00:00.0000000', '4 dager', '100 m', None, 'Ukjent', 'Ukjent', 'Ukjent', 'Ukjent', 'Ukjent', 'Ukjent', 'Ukjent', 'Ukjent', 'Ukjent', 'Ukjent', 'Ja', 'Ukjent', 'Ukjent', 'Ja', None, None, None, None, None, None, None, 'NGI', 'Erosion due to clogged culvert', 'SkredObsHistorisk', 'Registrert og godkjent', None, 'Arne Kleven', '1005', None, None, None, None, 1, None, 10, 1, b'y\\x7f\\x00\\x00\\x01\\x0c@tH\\xa0\\xa9\\x1f\\x08A:z=_\\xcdJYA')\n",
      "(13, 'CCF7F7B3-C2D2-4DA8-A569-7C52C90BC8B9', 140, None, 'Lerpeveien', '2000-11-10 00:00:00.0000000', '4 dager', '100 m', None, 'Ukjent', 'Ukjent', 'Ukjent', 'Ukjent', 'Ukjent', 'Ukjent', 'Ukjent', 'Ukjent', 'Ukjent', 'Ukjent', 'Ja', 'Ukjent', 'Ukjent', 'Ja', None, None, None, None, None, None, None, 'NGI', 'Slump in roadfill', 'SkredObsHistorisk', 'Registrert og godkjent', None, 'Arne Kleven', '1005', None, None, None, None, 1, None, 11, 1, b'y\\x7f\\x00\\x00\\x01\\x0c\\xa0\\xb6\\x10,8\\x88\\x0cA$l\\x19i\\xd1FYA')\n",
      "(14, 'FAE23D83-5720-4B80-84FE-A69E0FD393B7', 140, None, 'Åsbykollen', '2000-11-16 00:00:00.0000000', '4 dager', '100 m', None, 'Ukjent', 'Ukjent', 'Ukjent', 'Ukjent', 'Ukjent', 'Ukjent', 'Ukjent', 'Ukjent', 'Ukjent', 'Ukjent', 'Ja', 'Ukjent', 'Ukjent', 'Ja', None, None, None, None, None, None, None, 'NGI', 'Slump in roadfill', 'SkredObsHistorisk', 'Registrert og godkjent', None, 'Arne Kleven', '1005', None, None, None, None, 1, None, 12, 1, b'y\\x7f\\x00\\x00\\x01\\x0c \\xb2\\xda\\x8d\\xd4q\\x0cA\\x94\\x9c\\x1ax\\xecIYA')\n",
      "(15, '46BD266E-E05B-4D94-8EA5-3F30AD6AC9B7', 140, None, 'Frogner', '2000-11-15 00:00:00.0000000', '4 dager', '100 m', None, 'Ukjent', 'Ukjent', 'Ukjent', 'Ukjent', 'Ukjent', 'Ukjent', 'Ukjent', 'Ukjent', 'Ukjent', 'Ukjent', 'Ja', 'Ukjent', 'Ukjent', 'Ja', None, None, None, None, None, None, None, 'NGI', 'Porepressure, infiltration from precipitation', 'SkredObsHistorisk', 'Registrert og godkjent', None, 'Arne Kleven', '1005', None, None, None, None, 1, None, 13, 1, b'y\\x7f\\x00\\x00\\x01\\x0c ]BWCC\\x11A>\\xde\\xb7\\x90\\xf1gYA')\n",
      "(16, '900BDC9F-707F-411B-99B4-0D5A3A5D6096', 140, None, 'Branåsen', '2000-11-20 00:00:00.0000000', '4 dager', '100 m', None, 'Ukjent', 'Ukjent', 'Ukjent', 'Ukjent', 'Ukjent', 'Ukjent', 'Ukjent', 'Ukjent', 'Ukjent', 'Ukjent', 'Nei', 'Ukjent', 'Ukjent', 'Ja', None, None, None, None, None, None, None, 'NGI', 'Unexplained ground vibrations', 'SkredObsHistorisk', 'Registrert og godkjent', None, 'Arne Kleven', '1005', None, None, None, None, 1, None, 14, 1, b'y\\x7f\\x00\\x00\\x01\\x0c\\xf0\\xda\\x05a\\x0e\\xfe\\x10A\\xea\\xb4\\x8a9\\xb0eYA')\n",
      "(17, '0025808B-78E4-49D9-85D1-6A474C64F8F9', 140, None, 'Kjeller', '2000-11-21 00:00:00.0000000', '4 dager', '100 m', None, 'Ukjent', 'Ukjent', 'Ukjent', 'Ukjent', 'Ukjent', 'Ukjent', 'Ukjent', 'Ukjent', 'Ukjent', 'Ukjent', 'Nei', 'Ukjent', 'Ukjent', 'Ja', None, None, None, None, None, None, None, 'NGI', 'Dry crust', 'SkredObsHistorisk', 'Registrert og godkjent', None, 'Arne Kleven', '1005', None, None, None, None, 1, None, 15, 1, b'y\\x7f\\x00\\x00\\x01\\x0cpx\\xa1\\xf9V\\r\\x11Ax\\xed\\x0f\\x7fSdYA')\n",
      "(18, 'C9BC68E3-BC89-41EB-BF7D-0230B62DBCC7', 140, None, 'Slevigen', '2000-11-23 00:00:00.0000000', '4 dager', '100 m', None, 'Ukjent', 'Ukjent', 'Ukjent', 'Ukjent', 'Ukjent', 'Ukjent', 'Ukjent', 'Ukjent', 'Ukjent', 'Ukjent', 'Nei', 'Ukjent', 'Ukjent', 'Ja', None, None, None, None, None, None, None, 'NGI', 'Infiltration from precipitation/ground intervention', 'SkredObsHistorisk', 'Registrert og godkjent', None, 'Arne Kleven', '1005', None, None, None, None, 1, None, 16, 1, b'y\\x7f\\x00\\x00\\x01\\x0c`g$\\xe9\\xacG\\tA*\\xb6\\xb5;\\xb6|YA')\n",
      "(19, '4577ED3C-298C-4913-96A7-2124E984E039', 140, None, 'Melvoll vestre', '2000-11-19 00:00:00.0000000', '4 dager', '100 m', None, 'Ukjent', 'Ukjent', 'Ukjent', 'Ukjent', 'Ukjent', 'Ukjent', 'Ukjent', 'Ukjent', 'Ukjent', 'Ukjent', 'Ja', 'Ukjent', 'Ukjent', 'Ja', None, None, None, None, None, None, None, 'NGI', '5  slides over distance of 150 meters, dry crust, 5 stk à 20 m over 150m', 'SkredObsHistorisk', 'Registrert og godkjent', None, 'Arne Kleven', '1005', None, None, None, None, 1, None, 17, 1, b'y\\x7f\\x00\\x00\\x01\\x0cp\\xac\\xc2\\xb9`F\\x11A\\x96\\xf6\\x9aG\\x01iYA')\n",
      "(20, 'C757DD1D-8B2D-4A3B-B514-C18DDE115B54', 140, None, 'Fjerdingby', '2000-11-12 00:00:00.0000000', '1 dag', '100 m', None, 'Ukjent', 'Ukjent', 'Ukjent', 'Ukjent', 'Ukjent', 'Ukjent', 'Ukjent', 'Ukjent', 'Ukjent', 'Ukjent', 'Ja', 'Ukjent', 'Ukjent', 'Ja', None, None, None, None, None, None, None, 'NGI', None, 'SkredObsHistorisk', 'Registrert og godkjent', None, 'Arne Kleven', '1005', None, None, None, None, 1, None, 18, 1, b'y\\x7f\\x00\\x00\\x01\\x0c\\xc0\\xfc\\x0c\\x7f\\xd9\"\\x11A\\x96\\xbf\\xd4t\\x88]YA')\n",
      "(21, '5474A4FB-7D5A-4D1D-9C15-C9EAF9AEDA89', 140, None, 'Ljøreggen', '2000-11-23 00:00:00.0000000', '4 dager', '100 m', None, 'Ukjent', 'Ukjent', 'Ukjent', 'Ukjent', 'Ukjent', 'Ukjent', 'Ukjent', 'Ukjent', 'Ukjent', 'Ukjent', 'Nei', 'Ukjent', 'Ukjent', 'Ja', None, None, None, None, None, None, None, 'NGI', None, 'SkredObsHistorisk', 'Registrert og godkjent', None, 'Arne Kleven', '1005', None, None, None, None, 1, None, 19, 1, b'y\\x7f\\x00\\x00\\x01\\x0c08M\\xf4\\xd6\\x16\\x11A\\xfe\\x9da\\x9a=pYA')\n",
      "(22, '5296E6B9-D789-4A9E-B275-579AC6B74B65', 140, None, 'Nybakkvn 87 B', '2000-11-23 00:00:00.0000000', '4 dager', '100 m', None, 'Ukjent', 'Ukjent', 'Ukjent', 'Ukjent', 'Ukjent', 'Ukjent', 'Ukjent', 'Ukjent', 'Ukjent', 'Ukjent', 'Nei', 'Ukjent', 'Ukjent', 'Ja', None, None, None, None, None, None, None, 'NGI', None, 'SkredObsHistorisk', 'Registrert og godkjent', None, 'Arne Kleven', '1005', None, None, None, None, 1, None, 20, 1, b'y\\x7f\\x00\\x00\\x01\\x0c\\x10 \\xf3\\x17\\xbbM\\x11A\\xa4\\xc3\\xd5\\xc01bYA')\n",
      "(23, '3DB7A801-892C-4B18-A0EB-F7A016A7B94F', 140, None, 'Hagamoen, Edseth', '2000-11-20 00:00:00.0000000', '2 dager', '100 m', None, 'Ukjent', 'Ukjent', 'Ukjent', 'Ukjent', 'Ukjent', 'Ukjent', 'Ukjent', 'Ukjent', 'Ukjent', 'Ukjent', 'Ja', 'Ukjent', 'Ukjent', 'Ja', None, None, None, None, None, None, None, 'NGI', 'Surficial slide, takvann', 'SkredObsHistorisk', 'Registrert og godkjent', None, 'Arne Kleven', '1005', None, None, None, None, 1, None, 21, 1, b'y\\x7f\\x00\\x00\\x01\\x0c\\xd0\\x9daf\\x85*\\x11A\\xc2\\x1b\\xd8~\\rtYA')\n",
      "(24, 'ACF41A23-097C-4EB1-8F5B-098298990A2A', 140, None, 'Hagamoen, Esetmoen', '2000-11-10 00:00:00.0000000', '2 dager', '100 m', None, 'Ukjent', 'Ukjent', 'Ukjent', 'Ukjent', 'Ukjent', 'Ukjent', 'Ukjent', 'Ukjent', 'Ukjent', 'Ukjent', 'Nei', 'Ukjent', 'Ukjent', 'Ja', None, None, None, None, None, None, None, 'NGI', 'Infiltration from precipitation, discharge from gutter, drainage snd surface', 'SkredObsHistorisk', 'Registrert og godkjent', None, 'Arne Kleven', '1005', None, None, None, None, 1, None, 22, 1, b'y\\x7f\\x00\\x00\\x01\\x0c \\x98\\xfa\\xae^*\\x11A\\xe4Zp\\x0b\\x1ftYA')\n",
      "(25, 'AE6E7B61-BA34-4611-AF5C-BC87B09F827C', 140, None, 'Hagamoen, Bjørg', '2000-11-11 00:00:00.0000000', '4 dager', '500 m', None, 'Ukjent', 'Ukjent', 'Ukjent', 'Ukjent', 'Ukjent', 'Ukjent', 'Ukjent', 'Ukjent', 'Ukjent', 'Ukjent', 'Ja', 'Ukjent', 'Ukjent', 'Ja', None, None, None, None, None, None, None, 'NGI', None, 'SkredObsHistorisk', 'Registrert og godkjent', None, 'Arne Kleven', '1005', None, None, None, None, 1, None, 23, 1, b\"y\\x7f\\x00\\x00\\x01\\x0c\\x80\\x97Y\\xf5\\xb0'\\x11A\\x9e\\x15\\x1d\\xd9CtYA\")\n",
      "(26, '76C3436B-A718-4CFB-A015-D542BCB11893', 140, None, 'Hagamoen, Nicolaisen', '2000-11-12 00:00:00.0000000', '8 dager', '500 m', None, 'Ukjent', 'Ukjent', 'Ukjent', 'Ukjent', 'Ukjent', 'Ukjent', 'Ukjent', 'Ukjent', 'Ukjent', 'Ukjent', 'Nei', 'Ukjent', 'Ukjent', 'Ja', None, None, None, None, None, None, None, 'NGI', None, 'SkredObsHistorisk', 'Registrert og godkjent', None, 'Arne Kleven', '1005', None, None, None, None, 1, None, 24, 1, b'y\\x7f\\x00\\x00\\x01\\x0c\\xc0\\x8b\\x1d\\x1f\\xa5,\\x11A\\xb0\\xb4V\\xdbntYA')\n",
      "(27, 'A8820EA9-81F1-470D-8917-AEA3AE7091EF', 140, None, 'Hagamoen, Eset gård', '2000-11-13 00:00:00.0000000', '16 dager', '100 m', None, 'Ukjent', 'Ukjent', 'Ukjent', 'Ukjent', 'Ukjent', 'Ukjent', 'Ukjent', 'Ukjent', 'Ukjent', 'Ukjent', 'Ja', 'Ukjent', 'Ukjent', 'Ja', None, None, None, None, None, None, None, 'NGI', 'Surficial slide, slope bottom', 'SkredObsHistorisk', 'Registrert og godkjent', None, 'Arne Kleven', '1005', None, None, None, None, 1, None, 25, 1, b'y\\x7f\\x00\\x00\\x01\\x0c\\xe0\\x19\\x84pO3\\x11Av\\x99,\\xc8LtYA')\n",
      "(28, '1FA02A5D-8D35-4C80-A8DD-C860F5753508', 140, None, 'Søberg', '2000-11-21 00:00:00.0000000', '2 dager', '100 m', None, 'Ukjent', 'Ukjent', 'Ukjent', 'Ukjent', 'Ukjent', 'Ukjent', 'Ukjent', 'Ukjent', 'Ukjent', 'Ukjent', 'Ja', 'Ukjent', 'Ukjent', 'Ja', None, None, None, None, None, None, None, 'NGI', 'Fill and natural soils ', 'SkredObsHistorisk', 'Registrert og godkjent', None, 'Arne Kleven', '1005', None, None, None, None, 1, None, 26, 1, b'y\\x7f\\x00\\x00\\x01\\x0cP\\xca\\xcc\\xb5\\xec\\x1e\\x11A\\xa4\\x9d0\\x99\\xddvYA')\n",
      "(29, 'D01CAE1B-3F0A-4C53-BAD5-9A64709BE80E', 140, None, 'Kongshaugen, Skibakken', '2000-11-09 00:00:00.0000000', '1 dag', '100 m', None, 'Ukjent', 'Ukjent', 'Ukjent', 'Ukjent', 'Ukjent', 'Ukjent', 'Ukjent', 'Ukjent', 'Ukjent', 'Ukjent', 'Ja', 'Ukjent', 'Ukjent', 'Ja', None, None, None, None, None, None, None, 'NGI', 'Surficial slide', 'SkredObsHistorisk', 'Registrert og godkjent', None, 'Arne Kleven', '1005', None, None, None, None, 1, None, 27, 1, b'y\\x7f\\x00\\x00\\x01\\x0c\\x80\\xdaC!\\x96D\\nA\\xa6\\xa34\\xaf\\xa4^YA')\n",
      "(30, 'A84C28BF-1139-48F1-802F-B9BB329E680A', 140, None, 'Kongshaugen, Nord', '2001-04-15 00:00:00.0000000', '16 dager', '100 m', None, 'Ukjent', 'Ukjent', 'Ukjent', 'Ukjent', 'Ukjent', 'Ukjent', 'Ukjent', 'Ukjent', 'Ukjent', 'Ukjent', 'Nei', 'Ukjent', 'Ukjent', 'Ja', None, None, None, None, None, None, None, 'NGI', 'Surficial slide', 'SkredObsHistorisk', 'Registrert og godkjent', None, 'Arne Kleven', '1005', None, None, None, None, 1, None, 28, 1, b'y\\x7f\\x00\\x00\\x01\\x0c\\x00\\xe5\\xfe\\x12#J\\nA\\xde\\x7f\\x19\\xe7\\xd2^YA')\n",
      "(31, '10209BC2-7BAD-4956-A85E-69EA018DD99E', 140, None, 'Farseggen', '2000-11-24 00:00:00.0000000', '4 dager', '100 m', None, 'Ukjent', 'Ukjent', 'Ukjent', 'Ukjent', 'Ukjent', 'Ukjent', 'Ukjent', 'Ukjent', 'Ukjent', 'Ukjent', 'Nei', 'Ukjent', 'Ukjent', 'Ja', None, None, None, None, None, None, None, 'NGI', None, 'SkredObsHistorisk', 'Registrert og godkjent', None, 'Arne Kleven', '1005', None, None, None, None, 1, None, 29, 1, b'y\\x7f\\x00\\x00\\x01\\x0c\\x90\\xdb\\x0c@,\\x1f\\x11A\\xa0\\xa85^\\xcbeYA')\n",
      "(32, 'E1D00AC4-FCD1-4F19-B9D3-D1D7128D3DAD', 140, None, 'Høgda', '2000-11-20 00:00:00.0000000', '4 dager', '100 m', None, 'Ukjent', 'Ukjent', 'Ukjent', 'Ukjent', 'Ukjent', 'Ukjent', 'Ukjent', 'Ukjent', 'Ukjent', 'Ukjent', 'Ja', 'Ukjent', 'Ukjent', 'Ja', None, None, None, None, None, None, None, 'NGI', None, 'SkredObsHistorisk', 'Registrert og godkjent', None, 'Arne Kleven', '1005', None, None, None, None, 1, None, 30, 1, b'y\\x7f\\x00\\x00\\x01\\x0c\\x00?\\x91\\xc3\\xdc\\x89\\nA\\xa0\\xa8?]\\xc5gYA')\n",
      "(33, '3B25E93A-F2BE-42D9-87F0-75DE87064715', 140, None, 'Rabbenveien', '2000-11-24 00:00:00.0000000', '4 dager', '100 m', None, 'Ukjent', 'Ukjent', 'Ukjent', 'Ukjent', 'Ukjent', 'Ukjent', 'Ukjent', 'Ukjent', 'Ukjent', 'Ukjent', 'Nei', 'Ukjent', 'Ukjent', 'Ja', None, None, None, None, None, None, None, 'NGI', None, 'SkredObsHistorisk', 'Registrert og godkjent', None, 'Arne Kleven', '1005', None, None, None, None, 1, None, 31, 1, b'y\\x7f\\x00\\x00\\x01\\x0c@4]\\xe9Q\\x8b\\x0cA\\xcc&)\\xdd\\xf7HYA')\n",
      "(34, 'FCF00C40-FD11-40A8-998E-8CD916F24874', 140, None, 'Rabbenveien 34', '2000-11-20 00:00:00.0000000', '1 dag', '100 m', None, 'Ukjent', 'Ukjent', 'Ukjent', 'Ukjent', 'Ukjent', 'Ukjent', 'Ukjent', 'Ukjent', 'Ukjent', 'Ukjent', 'Nei', 'Ukjent', 'Ukjent', 'Ja', None, None, None, None, None, None, None, 'NGI', 'Fill, fine gradation', 'SkredObsHistorisk', 'Registrert og godkjent', None, 'Arne Kleven', '1005', None, None, None, None, 1, None, 32, 1, b'y\\x7f\\x00\\x00\\x01\\x0c\\xa0\\xf4\\xb9\\xe1\\xa8\\x8b\\x0cA&x1!\\xfaHYA')\n",
      "(35, 'BBCBBEC0-0FA9-45C4-847B-84877256EB2C', 140, None, 'Rabbenveien 36', '2000-11-20 00:00:00.0000000', '1 dag', '100 m', None, 'Ukjent', 'Ukjent', 'Ukjent', 'Ukjent', 'Ukjent', 'Ukjent', 'Ukjent', 'Ukjent', 'Ukjent', 'Ukjent', 'Nei', 'Ukjent', 'Ukjent', 'Ja', None, None, None, None, None, None, None, 'NGI', 'Fill, fine gradation', 'SkredObsHistorisk', 'Registrert og godkjent', None, 'Arne Kleven', '1005', None, None, None, None, 1, None, 33, 1, b'y\\x7f\\x00\\x00\\x01\\x0c\\xe0\\x90\\x16\\xda\\xff\\x8b\\x0cA\\xa6\\xc29e\\xfcHYA')\n",
      "(36, '685918E1-9E5C-4373-AC7F-B29292F73ACA', 140, None, 'Rabbenveien 48', '2000-11-20 00:00:00.0000000', '1 dag', '100 m', None, 'Ukjent', 'Ukjent', 'Ukjent', 'Ukjent', 'Ukjent', 'Ukjent', 'Ukjent', 'Ukjent', 'Ukjent', 'Ukjent', 'Nei', 'Ukjent', 'Ukjent', 'Ja', None, None, None, None, None, None, None, 'NGI', 'Fill, fine gradation', 'SkredObsHistorisk', 'Registrert og godkjent', None, 'Arne Kleven', '1005', None, None, None, None, 1, None, 34, 1, b'y\\x7f\\x00\\x00\\x01\\x0c\\x80\\ts\\xd2V\\x8c\\x0cAF\\x06B\\xa9\\xfeHYA')\n",
      "(37, '46886FC0-D8F2-4988-BD40-354740E3E899', 140, None, 'Rabbenveien 50', '2000-11-20 00:00:00.0000000', '1 dag', '100 m', None, 'Ukjent', 'Ukjent', 'Ukjent', 'Ukjent', 'Ukjent', 'Ukjent', 'Ukjent', 'Ukjent', 'Ukjent', 'Ukjent', 'Nei', 'Ukjent', 'Ukjent', 'Ja', None, None, None, None, None, None, None, 'NGI', 'Fill, fine gradation', 'SkredObsHistorisk', 'Registrert og godkjent', None, 'Arne Kleven', '1005', None, None, None, None, 1, None, 35, 1, b'y\\x7f\\x00\\x00\\x01\\x0c\\x00^\\xcf\\xca\\xad\\x8c\\x0cA\\x10CJ\\xed\\x00IYA')\n",
      "(38, 'FA14C88D-4275-4A7C-8595-D0F2C116B10B', 140, None, 'Rabbenveien 62', '2000-11-20 00:00:00.0000000', '1 dag', '100 m', None, 'Ukjent', 'Ukjent', 'Ukjent', 'Ukjent', 'Ukjent', 'Ukjent', 'Ukjent', 'Ukjent', 'Ukjent', 'Ukjent', 'Nei', 'Ukjent', 'Ukjent', 'Ja', None, None, None, None, None, None, None, 'NGI', 'Fill, fine gradation', 'SkredObsHistorisk', 'Registrert og godkjent', None, 'Arne Kleven', '1005', None, None, None, None, 1, None, 36, 1, b'y\\x7f\\x00\\x00\\x01\\x0c\\xc0\\x8e+\\xc3\\x04\\x8d\\x0cA\\x00yR1\\x03IYA')\n",
      "(39, '95181DA9-D060-4BC8-BBA9-06B68CF1ED85', 140, None, 'Rabbenveien 47/49/51', '2000-11-20 00:00:00.0000000', '1 dag', '100 m', None, 'Ukjent', 'Ukjent', 'Ukjent', 'Ukjent', 'Ukjent', 'Ukjent', 'Ukjent', 'Ukjent', 'Ukjent', 'Ukjent', 'Nei', 'Ukjent', 'Ukjent', 'Ja', None, None, None, None, None, None, None, 'NGI', 'Fill, fine gradation', 'SkredObsHistorisk', 'Registrert og godkjent', None, 'Arne Kleven', '1005', None, None, None, None, 1, None, 37, 1, b'y\\x7f\\x00\\x00\\x01\\x0c\\xc0\\x9b\\x87\\xbb[\\x8d\\x0cA\\x10\\xa8Zu\\x05IYA')\n",
      "(40, 'A049E3EC-91F2-4727-BCE8-ABE9008D27AD', 140, None, 'Hedalen', '2000-11-20 00:00:00.0000000', '1 dag', '100 m', None, 'Ukjent', 'Ukjent', 'Ukjent', 'Ukjent', 'Ukjent', 'Ukjent', 'Ukjent', 'Ukjent', 'Ukjent', 'Ukjent', 'Ja', 'Ukjent', 'Ukjent', 'Ja', None, None, None, None, None, None, None, 'NGI', None, 'SkredObsHistorisk', 'Registrert og godkjent', None, 'Arne Kleven', '1005', None, None, None, None, 1, None, 38, 1, b'y\\x7f\\x00\\x00\\x01\\x0c\\xa0\\x00\\xf9P\\xa3\\x9f\\x0cA0\\x1bm\\x7f\\xc5ZYA')\n",
      "(41, 'E857C617-444E-407B-9D17-1866C4A594F8', 140, None, 'Slitu', '2000-11-24 00:00:00.0000000', '8 dager', '100 m', None, 'Ukjent', 'Ukjent', 'Ukjent', 'Ukjent', 'Ukjent', 'Ukjent', 'Ukjent', 'Ukjent', 'Ukjent', 'Ukjent', 'Ja', 'Ukjent', 'Ukjent', 'Ja', None, None, None, None, None, None, None, 'NGI', None, 'SkredObsHistorisk', 'Registrert og godkjent', None, 'Arne Kleven', '1005', None, None, None, None, 1, None, 39, 1, b'y\\x7f\\x00\\x00\\x01\\x0c0\\xff\\xd3\\xfd\\x0e\\x91\\x11A4\\xce\\xc7\\xd2\\xd86YA')\n",
      "(42, '608A7996-7186-49B3-8443-B727133A8B09', 140, None, 'Kirkekretsen skole', '2000-11-20 00:00:00.0000000', '1 dag', '100 m', None, 'Ukjent', 'Ukjent', 'Ukjent', 'Ukjent', 'Ukjent', 'Ukjent', 'Ukjent', 'Ukjent', 'Ukjent', 'Ukjent', 'Ja', 'Ukjent', 'Ukjent', 'Ja', None, None, None, None, None, None, None, 'NGI', 'cable ditch, roof run-off, fill', 'SkredObsHistorisk', 'Registrert og godkjent', None, 'Arne Kleven', '1005', None, None, None, None, 1, None, 40, 1, b'y\\x7f\\x00\\x00\\x01\\x0c\\x00\\x95\\xc6\\x90T?\\x11A \\xa2d\\xb7q\\x92YA')\n",
      "(43, '8ED56B78-0805-4FDD-9856-B2185EA6E272', 140, None, 'Kommesrud', '2000-11-24 00:00:00.0000000', '8 dager', '100 m', None, 'Ukjent', 'Ukjent', 'Ukjent', 'Ukjent', 'Ukjent', 'Ukjent', 'Ukjent', 'Ukjent', 'Ukjent', 'Ukjent', 'Nei', 'Ukjent', 'Ukjent', 'Ja', None, None, None, None, None, None, None, 'NGI', None, 'SkredObsHistorisk', 'Registrert og godkjent', None, 'Arne Kleven', '1005', None, None, None, None, 1, None, 41, 1, b'y\\x7f\\x00\\x00\\x01\\x0c\\x90M\\x0c\\x00\\x11u\\x12AX\\x17\\xbf@s\\xe9YA')\n",
      "(44, 'EF365726-09A0-479C-9ED3-2B053B931DE2', 140, None, 'Dorr', '2000-11-22 00:00:00.0000000', '1 dag', '100 m', None, 'Ukjent', 'Ukjent', 'Ukjent', 'Ukjent', 'Ukjent', 'Ukjent', 'Ukjent', 'Ukjent', 'Ukjent', 'Ukjent', 'Ja', 'Ukjent', 'Ukjent', 'Ja', None, None, None, None, None, None, None, 'NGI', 'Infiltration from precipitation, pore pressure, (leakage civic pipe)', 'SkredObsHistorisk', 'Registrert og godkjent', None, 'Arne Kleven', '1005', None, None, None, None, 1, None, 42, 1, b'y\\x7f\\x00\\x00\\x01\\x0c\\xb05\\xb27\\xa3\\xe1\\x11AV1\\xe4\\x9d\\xbb\\x90YA')\n",
      "(45, '6F9BF90C-D307-4B69-8BF6-ED135C9BCF8F', 140, None, 'Negarden, Sander', '2000-11-20 00:00:00.0000000', '4 dager', '100 m', None, 'Ukjent', 'Ukjent', 'Ukjent', 'Ukjent', 'Ukjent', 'Ukjent', 'Ukjent', 'Ukjent', 'Ukjent', 'Ukjent', 'Ja', 'Ukjent', 'Ukjent', 'Ja', None, None, None, None, None, None, None, 'NGI', 'Surficial slide', 'SkredObsHistorisk', 'Registrert og godkjent', None, 'Arne Kleven', '1005', None, None, None, None, 1, None, 43, 1, b'y\\x7f\\x00\\x00\\x01\\x0c\\x80\\xcd\\xdcJ)\\xe4\\x11AH\\x1f\\x8c\\xc4\\x16\\x8dYA')\n",
      "(46, '92DA52AD-6A62-4063-A602-C9CA919EA018', 140, None, 'Møllerhaugen', '2000-11-21 00:00:00.0000000', '1 dag', '100 m', None, 'Ukjent', 'Ukjent', 'Ukjent', 'Ukjent', 'Ukjent', 'Ukjent', 'Ukjent', 'Ukjent', 'Ukjent', 'Ukjent', 'Ja', 'Ukjent', 'Ukjent', 'Ja', None, None, None, None, None, None, None, 'NGI', 'Surficial slide', 'SkredObsHistorisk', 'Registrert og godkjent', None, 'Arne Kleven', '1005', None, None, None, None, 1, None, 44, 1, b'y\\x7f\\x00\\x00\\x01\\x0c`\\xe0p\\x87e\\xe6\\x11A\\x96]\\xe7\\xe2+\\x88YA')\n",
      "(47, '4E9F55FA-B43A-4248-81BF-5F8082B003D8', 140, None, 'Bjerkøy', '2000-11-24 00:00:00.0000000', '8 dager', '100 m', None, 'Ukjent', 'Ukjent', 'Ukjent', 'Ukjent', 'Ukjent', 'Ukjent', 'Ukjent', 'Ukjent', 'Ukjent', 'Ukjent', 'Nei', 'Ukjent', 'Ukjent', 'Ja', None, None, None, None, None, None, None, 'NGI', None, 'SkredObsHistorisk', 'Registrert og godkjent', None, 'Arne Kleven', '1005', None, None, None, None, 1, None, 45, 1, b'y\\x7f\\x00\\x00\\x01\\x0c\\xa0\\xc6\\xbd\\xd3\\x89\\xe5\\x0cA\\xa6\\xfb\\x05\\x1b/5YA')\n",
      "(48, 'C2D2DC10-6FCA-42F9-8015-27BC9B89DE23', 140, None, 'Sandvika', '2000-11-25 00:00:00.0000000', '1 dag', '100 m', None, 'Ukjent', 'Ukjent', 'Ukjent', 'Ukjent', 'Ukjent', 'Ukjent', 'Ukjent', 'Ukjent', 'Ukjent', 'Ukjent', 'Ja', 'Ukjent', 'Ukjent', 'Ja', None, None, None, None, None, None, None, 'NGI', None, 'SkredObsHistorisk', 'Registrert og godkjent', None, 'Arne Kleven', '1005', None, None, None, None, 1, None, 46, 1, b'y\\x7f\\x00\\x00\\x01\\x0c \\xc5\\xef\\xbe\\x83\\x16\\rAp\\xad1\\x9a\\xd45YA')\n",
      "(49, '3738F9C7-1903-46A9-8D93-1B6BDCC4CB72', 140, None, 'Lerpeveien 390', '2000-11-25 00:00:00.0000000', '2 dager', '100 m', None, 'Ukjent', 'Ukjent', 'Ukjent', 'Ukjent', 'Ukjent', 'Ukjent', 'Ukjent', 'Ukjent', 'Ukjent', 'Ukjent', 'Ja', 'Ukjent', 'Ukjent', 'Ja', None, None, None, None, None, None, None, 'NGI', None, 'SkredObsHistorisk', 'Registrert og godkjent', None, 'Arne Kleven', '1005', None, None, None, None, 1, None, 47, 1, b'y\\x7f\\x00\\x00\\x01\\x0c \\xaeU\\xcd\\xaag\\x0cA\\xe4\\xd8K\\x0fWEYA')\n",
      "(50, '70E4D211-F003-4122-B339-7A97A9185FDE', 140, None, 'Egnesveien 14', '2000-11-25 00:00:00.0000000', '2 dager', '100 m', None, 'Ukjent', 'Ukjent', 'Ukjent', 'Ukjent', 'Ukjent', 'Ukjent', 'Ukjent', 'Ukjent', 'Ukjent', 'Ukjent', 'Ja', 'Ukjent', 'Ukjent', 'Ja', None, None, None, None, None, None, None, 'NGI', 'Surficial slide, Infiltration from precipitation and discharge pipe', 'SkredObsHistorisk', 'Registrert og godkjent', None, 'Arne Kleven', '1005', None, None, None, None, 1, None, 48, 1, b'y\\x7f\\x00\\x00\\x01\\x0c@\\x8b\\x12\\x84I\\xd0\\x0cA\\xbas\\x9d\\x15\\x856YA')\n"
     ]
    }
   ],
   "source": [
    "conn = pyodbc.connect('Driver={SQL Server};'\n",
    "                      'Server=tst-skred.sql.nve.no;'\n",
    "                      'Database=skredprod;'\n",
    "                      'Trusted_Connection=yes;')\n",
    "\n",
    "cursor = conn.cursor()\n",
    "cursor.execute('SELECT TOP (50) * FROM {0}'.format(tbls['sh']))\n",
    "\n",
    "for row in cursor:\n",
    "    print(row)\n"
   ]
  },
  {
   "cell_type": "code",
   "execution_count": 81,
   "metadata": {
    "pycharm": {
     "is_executing": false,
     "name": "#%%\n"
    }
   },
   "outputs": [
    {
     "name": "stdout",
     "output_type": "stream",
     "text": [
      "SELECT TOP 10 [skredID]\n",
      "      ,[registrertDato]\n",
      "      ,[regStatus]\n",
      "      ,[skredTidspunkt]\n",
      "      ,[noySkredTidspunkt]\n",
      "      ,[skredtekniskeParam]\n",
      "      ,[registrertAv]\n",
      "      ,[registrertAvBrukerID]\n",
      "      ,[skredType]\n",
      "      ,[objektType]\n",
      "      ,[SHAPE].STGeometryN(1).ToString() AS geometry\n",
      "  FROM skredprod.skred.SKREDHENDELSE\n",
      "  -- WHERE [registrertDato] >= '2020-04-21' AND [registrertDato] < '2020-04-30' AND [registrertAv] = 'Sentinel-1' -- AND [regStatus]!='Slettet'\n",
      "  WHERE [registrertAv] = 'Sentinel-1'\n",
      "  ORDER BY [registrertDato] DESC\n",
      "  \n",
      "SELECT TOP 1 [skredID]\n",
      "      ,[registrertDato]\n",
      "      ,[regStatus]\n",
      "      ,[registrertAv]\n",
      "      ,[registrertAvBrukerID]\n",
      "      ,[endretDato]\n",
      "      ,[endretAv]\n",
      "      ,[endretAvBrukerID]\n",
      "      ,[rettighetsID]\n",
      "      ,[SHAPE].STGeometryN(1).ToString() AS geometry\n",
      "  FROM skredprod.skred.UTLOPUTLOSNINGOMR\n",
      "  --WHERE [registrertDato] >= '2019-08-22' AND [registrertDato] < '2019-08-30' AND [regStatus] = 'Godkjent kvalitet B'\n",
      "  --WHERE [registrertDato] >= '2020-01-05' AND [registrertDato] < '2020-01-08'\n",
      "  --WHERE [registrertDato] >= '2019-05-12' AND [registrertDato] < '2019-05-14' AND [registrertAv] = 'Sentinel-1'\n",
      "  \n",
      "  --WHERE [registrertDato] >= '2020-01-24' AND [registrertDato] < '2020-01-30' AND [registrertAv] = 'Sentinel-1'\n",
      "  WHERE [registrertAv] = 'Sentinel-1' --AND [regStatus] = 'Godkjent kvalitet B'\n",
      "  ORDER BY [registrertDato] DESC\n",
      "  \n"
     ]
    }
   ],
   "source": [
    "from_date = \"2020-04-01\"\n",
    "to_date = \"2020-04-30\"\n",
    "\n",
    "sh_q = \"\"\"SELECT TOP 10 [skredID]\n",
    "      ,[registrertDato]\n",
    "      ,[regStatus]\n",
    "      ,[skredTidspunkt]\n",
    "      ,[noySkredTidspunkt]\n",
    "      ,[skredtekniskeParam]\n",
    "      ,[registrertAv]\n",
    "      ,[registrertAvBrukerID]\n",
    "      ,[skredType]\n",
    "      ,[objektType]\n",
    "      ,[SHAPE].STGeometryN(1).ToString() AS geometry\n",
    "  FROM {db_name}.{db_tbl}\n",
    "  -- WHERE [registrertDato] >= '2020-04-21' AND [registrertDato] < '2020-04-30' AND [registrertAv] = 'Sentinel-1' -- AND [regStatus]!='Slettet'\n",
    "  WHERE [registrertAv] = 'Sentinel-1'\n",
    "  ORDER BY [registrertDato] DESC\n",
    "  \"\"\".format(db_name=db_name, db_tbl=tbls['sh'])\n",
    "\n",
    "print(sh_q)\n",
    "\n",
    "ut_q = \"\"\"SELECT TOP 1 [skredID]\n",
    "      ,[registrertDato]\n",
    "      ,[regStatus]\n",
    "      ,[registrertAv]\n",
    "      ,[registrertAvBrukerID]\n",
    "      ,[endretDato]\n",
    "      ,[endretAv]\n",
    "      ,[endretAvBrukerID]\n",
    "      ,[rettighetsID]\n",
    "      ,[SHAPE].STGeometryN(1).ToString() AS geometry\n",
    "  FROM {db_name}.{db_tbl}\n",
    "  --WHERE [registrertDato] >= '2019-08-22' AND [registrertDato] < '2019-08-30' AND [regStatus] = 'Godkjent kvalitet B'\n",
    "  --WHERE [registrertDato] >= '2020-01-05' AND [registrertDato] < '2020-01-08'\n",
    "  --WHERE [registrertDato] >= '2019-05-12' AND [registrertDato] < '2019-05-14' AND [registrertAv] = 'Sentinel-1'\n",
    "  \n",
    "  --WHERE [registrertDato] >= '2020-01-24' AND [registrertDato] < '2020-01-30' AND [registrertAv] = 'Sentinel-1'\n",
    "  WHERE [registrertAv] = 'Sentinel-1' --AND [regStatus] = 'Godkjent kvalitet B'\n",
    "  ORDER BY [registrertDato] DESC\n",
    "  \"\"\".format(db_name=db_name, db_tbl=tbls['ut'])\n",
    "\n",
    "print(ut_q)"
   ]
  },
  {
   "cell_type": "code",
   "execution_count": 82,
   "metadata": {},
   "outputs": [],
   "source": [
    "df = pd.read_sql_query(ut_q, conn)"
   ]
  },
  {
   "cell_type": "code",
   "execution_count": 83,
   "metadata": {},
   "outputs": [
    {
     "data": {
      "text/html": [
       "<div>\n",
       "<style scoped>\n",
       "    .dataframe tbody tr th:only-of-type {\n",
       "        vertical-align: middle;\n",
       "    }\n",
       "\n",
       "    .dataframe tbody tr th {\n",
       "        vertical-align: top;\n",
       "    }\n",
       "\n",
       "    .dataframe thead th {\n",
       "        text-align: right;\n",
       "    }\n",
       "</style>\n",
       "<table border=\"1\" class=\"dataframe\">\n",
       "  <thead>\n",
       "    <tr style=\"text-align: right;\">\n",
       "      <th></th>\n",
       "      <th>skredID</th>\n",
       "      <th>registrertDato</th>\n",
       "      <th>regStatus</th>\n",
       "      <th>registrertAv</th>\n",
       "      <th>registrertAvBrukerID</th>\n",
       "      <th>endretDato</th>\n",
       "      <th>endretAv</th>\n",
       "      <th>endretAvBrukerID</th>\n",
       "      <th>rettighetsID</th>\n",
       "      <th>geometry</th>\n",
       "    </tr>\n",
       "  </thead>\n",
       "  <tbody>\n",
       "    <tr>\n",
       "      <th>0</th>\n",
       "      <td>E3D86382-F1FB-44B6-AC92-06478C56E11F</td>\n",
       "      <td>2020-02-03 16:15:04.0000000</td>\n",
       "      <td>Godkjent kvalitet B</td>\n",
       "      <td>Sentinel-1</td>\n",
       "      <td>131@Sentinel 1</td>\n",
       "      <td>2020-02-03 16:15:04.0000000</td>\n",
       "      <td>Sentinel-1</td>\n",
       "      <td>131@Sentinel 1</td>\n",
       "      <td>1</td>\n",
       "      <td>POLYGON ((706429.999942176 7686248.9996411577,...</td>\n",
       "    </tr>\n",
       "  </tbody>\n",
       "</table>\n",
       "</div>"
      ],
      "text/plain": [
       "                                skredID               registrertDato  \\\n",
       "0  E3D86382-F1FB-44B6-AC92-06478C56E11F  2020-02-03 16:15:04.0000000   \n",
       "\n",
       "             regStatus registrertAv registrertAvBrukerID  \\\n",
       "0  Godkjent kvalitet B   Sentinel-1       131@Sentinel 1   \n",
       "\n",
       "                    endretDato    endretAv endretAvBrukerID  rettighetsID  \\\n",
       "0  2020-02-03 16:15:04.0000000  Sentinel-1   131@Sentinel 1             1   \n",
       "\n",
       "                                            geometry  \n",
       "0  POLYGON ((706429.999942176 7686248.9996411577,...  "
      ]
     },
     "execution_count": 83,
     "metadata": {},
     "output_type": "execute_result"
    }
   ],
   "source": [
    "df"
   ]
  },
  {
   "cell_type": "code",
   "execution_count": 84,
   "metadata": {},
   "outputs": [
    {
     "data": {
      "text/plain": [
       "0    POLYGON ((706429.999942176 7686248.9996411577,...\n",
       "Name: geometry, dtype: object"
      ]
     },
     "execution_count": 84,
     "metadata": {},
     "output_type": "execute_result"
    }
   ],
   "source": [
    "df['geometry']# = loads(df['SHAPE'])"
   ]
  },
  {
   "cell_type": "code",
   "execution_count": 85,
   "metadata": {},
   "outputs": [
    {
     "data": {
      "text/html": [
       "<div>\n",
       "<style scoped>\n",
       "    .dataframe tbody tr th:only-of-type {\n",
       "        vertical-align: middle;\n",
       "    }\n",
       "\n",
       "    .dataframe tbody tr th {\n",
       "        vertical-align: top;\n",
       "    }\n",
       "\n",
       "    .dataframe thead th {\n",
       "        text-align: right;\n",
       "    }\n",
       "</style>\n",
       "<table border=\"1\" class=\"dataframe\">\n",
       "  <thead>\n",
       "    <tr style=\"text-align: right;\">\n",
       "      <th></th>\n",
       "      <th>skredID</th>\n",
       "      <th>registrertDato</th>\n",
       "      <th>regStatus</th>\n",
       "      <th>registrertAv</th>\n",
       "      <th>registrertAvBrukerID</th>\n",
       "      <th>endretDato</th>\n",
       "      <th>endretAv</th>\n",
       "      <th>endretAvBrukerID</th>\n",
       "      <th>rettighetsID</th>\n",
       "      <th>geometry</th>\n",
       "    </tr>\n",
       "  </thead>\n",
       "  <tbody>\n",
       "    <tr>\n",
       "      <th>0</th>\n",
       "      <td>E3D86382-F1FB-44B6-AC92-06478C56E11F</td>\n",
       "      <td>2020-02-03 16:15:04.0000000</td>\n",
       "      <td>Godkjent kvalitet B</td>\n",
       "      <td>Sentinel-1</td>\n",
       "      <td>131@Sentinel 1</td>\n",
       "      <td>2020-02-03 16:15:04.0000000</td>\n",
       "      <td>Sentinel-1</td>\n",
       "      <td>131@Sentinel 1</td>\n",
       "      <td>1</td>\n",
       "      <td>POLYGON ((706429.999942176 7686248.9996411577,...</td>\n",
       "    </tr>\n",
       "  </tbody>\n",
       "</table>\n",
       "</div>"
      ],
      "text/plain": [
       "                                skredID               registrertDato  \\\n",
       "0  E3D86382-F1FB-44B6-AC92-06478C56E11F  2020-02-03 16:15:04.0000000   \n",
       "\n",
       "             regStatus registrertAv registrertAvBrukerID  \\\n",
       "0  Godkjent kvalitet B   Sentinel-1       131@Sentinel 1   \n",
       "\n",
       "                    endretDato    endretAv endretAvBrukerID  rettighetsID  \\\n",
       "0  2020-02-03 16:15:04.0000000  Sentinel-1   131@Sentinel 1             1   \n",
       "\n",
       "                                            geometry  \n",
       "0  POLYGON ((706429.999942176 7686248.9996411577,...  "
      ]
     },
     "execution_count": 85,
     "metadata": {},
     "output_type": "execute_result"
    }
   ],
   "source": [
    "epsg = 32633\n",
    "#gdf = gpd.GeoDataFrame(df, geometry='geometry', crs={'init' :'epsg:' + str(epsg)})\n",
    "gdf = gpd.GeoDataFrame(df, crs={'init' :'epsg:' + str(epsg)})\n",
    "gdf"
   ]
  },
  {
   "cell_type": "code",
   "execution_count": 86,
   "metadata": {},
   "outputs": [
    {
     "data": {
      "text/plain": [
       "<matplotlib.axes._subplots.AxesSubplot at 0x286dad53048>"
      ]
     },
     "execution_count": 86,
     "metadata": {},
     "output_type": "execute_result"
    },
    {
     "data": {
      "image/png": "[encoded data removed]",
      "text/plain": [
       "<Figure size 432x288 with 1 Axes>"
      ]
     },
     "metadata": {
      "needs_background": "light"
     },
     "output_type": "display_data"
    }
   ],
   "source": [
    "fig, ax = plt.subplots(1, 1)\n",
    "\n",
    "gdf.plot(ax=ax, legend=True)"
   ]
  },
  {
   "cell_type": "code",
   "execution_count": 87,
   "metadata": {},
   "outputs": [
    {
     "data": {
      "text/plain": [
       "<matplotlib.axes._subplots.AxesSubplot at 0x286dad99dd8>"
      ]
     },
     "execution_count": 87,
     "metadata": {},
     "output_type": "execute_result"
    },
    {
     "data": {
      "image/png": "[encoded data removed]",
      "text/plain": [
       "<Figure size 432x288 with 1 Axes>"
      ]
     },
     "metadata": {
      "needs_background": "light"
     },
     "output_type": "display_data"
    }
   ],
   "source": [
    "gdf.plot()"
   ]
  },
  {
   "cell_type": "code",
   "execution_count": null,
   "metadata": {},
   "outputs": [],
   "source": []
  }
 ],
 "metadata": {
  "kernelspec": {
   "display_name": "Python 3",
   "language": "python",
   "name": "python3"
  },
  "language_info": {
   "codemirror_mode": {
    "name": "ipython",
    "version": 3
   },
   "file_extension": ".py",
   "mimetype": "text/x-python",
   "name": "python",
   "nbconvert_exporter": "python",
   "pygments_lexer": "ipython3",
   "version": "3.7.3"
  },
  "pycharm": {
   "stem_cell": {
    "cell_type": "raw",
    "metadata": {
     "collapsed": false
    },
    "source": []
   }
  }
 },
 "nbformat": 4,
 "nbformat_minor": 1
}
