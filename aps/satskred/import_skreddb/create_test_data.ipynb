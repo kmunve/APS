{
 "cells": [
  {
   "cell_type": "code",
   "execution_count": 30,
   "metadata": {
    "collapsed": true,
    "pycharm": {
     "is_executing": false
    }
   },
   "outputs": [],
   "source": [
    "import geopandas as gp\n",
    "import pandas as pd\n",
    "import matplotlib\n",
    "import matplotlib.pyplot as plt\n",
    "import seaborn as sb\n",
    "from shapely.geometry import Polygon\n",
    "\n",
    "plt.rcParams['figure.figsize'] = (10, 20)\n",
    "%matplotlib inline"
   ]
  },
  {
   "cell_type": "code",
   "execution_count": 20,
   "outputs": [
    {
     "data": {
      "text/plain": "         area aspect  det_count       east      length      north  raster_val  \\\n0  10394.8943   None          1  20.944515  793.557988  69.714452        11.0   \n\n                      refdate sat_geom  \\\n0  2019-03-13 15:50:19.000220       87   \n\n                                              source  \\\n0  AvalDet_20190424_155109_ref_20190313_trno_087_...   \n\n                         ...                            vh1_max vv0_mean  \\\n0                        ...                         -15.749162 -10.2966   \n\n  vv0_median    vv0_min   vv0_max   vh0_mean  vh0_median    vh0_min  \\\n0  -10.15564 -13.197838 -7.651885 -19.937243  -20.155186 -22.938601   \n\n     vh0_max                                           geometry  \n0 -16.017008  POLYGON ((20.94465714165575 69.71382402696912,...  \n\n[1 rows x 45 columns]",
      "text/html": "<div>\n<style scoped>\n    .dataframe tbody tr th:only-of-type {\n        vertical-align: middle;\n    }\n\n    .dataframe tbody tr th {\n        vertical-align: top;\n    }\n\n    .dataframe thead th {\n        text-align: right;\n    }\n</style>\n<table border=\"1\" class=\"dataframe\">\n  <thead>\n    <tr style=\"text-align: right;\">\n      <th></th>\n      <th>area</th>\n      <th>aspect</th>\n      <th>det_count</th>\n      <th>east</th>\n      <th>length</th>\n      <th>north</th>\n      <th>raster_val</th>\n      <th>refdate</th>\n      <th>sat_geom</th>\n      <th>source</th>\n      <th>...</th>\n      <th>vh1_max</th>\n      <th>vv0_mean</th>\n      <th>vv0_median</th>\n      <th>vv0_min</th>\n      <th>vv0_max</th>\n      <th>vh0_mean</th>\n      <th>vh0_median</th>\n      <th>vh0_min</th>\n      <th>vh0_max</th>\n      <th>geometry</th>\n    </tr>\n  </thead>\n  <tbody>\n    <tr>\n      <th>0</th>\n      <td>10394.8943</td>\n      <td>None</td>\n      <td>1</td>\n      <td>20.944515</td>\n      <td>793.557988</td>\n      <td>69.714452</td>\n      <td>11.0</td>\n      <td>2019-03-13 15:50:19.000220</td>\n      <td>87</td>\n      <td>AvalDet_20190424_155109_ref_20190313_trno_087_...</td>\n      <td>...</td>\n      <td>-15.749162</td>\n      <td>-10.2966</td>\n      <td>-10.15564</td>\n      <td>-13.197838</td>\n      <td>-7.651885</td>\n      <td>-19.937243</td>\n      <td>-20.155186</td>\n      <td>-22.938601</td>\n      <td>-16.017008</td>\n      <td>POLYGON ((20.94465714165575 69.71382402696912,...</td>\n    </tr>\n  </tbody>\n</table>\n<p>1 rows × 45 columns</p>\n</div>"
     },
     "metadata": {},
     "output_type": "execute_result",
     "execution_count": 20
    }
   ],
   "source": [
    "base_file = \"../data/AvalDet_20190424_155109_ref_20190313_trno_087_VV/AvalDet_20190424_155109_ref_20190313_trno_087_VV.shp\"\n",
    "gdf = gp.read_file(base_file)\n",
    "gdf.drop(index=1, inplace=True)\n",
    "gdf.head()"
   ],
   "metadata": {
    "collapsed": false,
    "pycharm": {
     "name": "#%%\n",
     "is_executing": false
    }
   }
  },
  {
   "cell_type": "code",
   "execution_count": 21,
   "outputs": [
    {
     "data": {
      "text/plain": "Index(['area', 'aspect', 'det_count', 'east', 'length', 'north', 'raster_val',\n       'refdate', 'sat_geom', 'source', 't_0', 't_1', 'time', 'track_id',\n       'uuid', 'width', 'dem_mean', 'dem_median', 'dem_min', 'dem_max',\n       'slp_mean', 'slp_median', 'slp_min', 'slp_max', 'asp_mean',\n       'asp_median', 'asp_min', 'asp_max', 'vv1_mean', 'vv1_median', 'vv1_min',\n       'vv1_max', 'vh1_mean', 'vh1_median', 'vh1_min', 'vh1_max', 'vv0_mean',\n       'vv0_median', 'vv0_min', 'vv0_max', 'vh0_mean', 'vh0_median', 'vh0_min',\n       'vh0_max', 'geometry'],\n      dtype='object')"
     },
     "metadata": {},
     "output_type": "execute_result",
     "execution_count": 21
    }
   ],
   "source": [
    "gdf.columns\n",
    "\n"
   ],
   "metadata": {
    "collapsed": false,
    "pycharm": {
     "name": "#%%\n",
     "is_executing": false
    }
   }
  },
  {
   "cell_type": "code",
   "execution_count": 27,
   "outputs": [],
   "source": [
    "# Add a name to the polygon\n",
    "gdf['_name'] = \"Original\"\n",
    "\n",
    "# convert t_0 (the time the reference image was taken) into a datetime object and give it a descriptive name\n",
    "gdf['_reference_date'] = pd.to_datetime(gdf['t_0']) # this actually overwrites the existing column \"refdate\", but since it is a duplicate of t_0 we don't care. \n",
    "\n",
    "# convert t_1 (the time the activity image was taken) into a datetime object and give it a descriptive name\n",
    "gdf['_detection_date'] = pd.to_datetime(gdf['t_1'])\n"
   ],
   "metadata": {
    "collapsed": false,
    "pycharm": {
     "name": "#%%\n",
     "is_executing": false
    }
   }
  },
  {
   "cell_type": "code",
   "execution_count": 28,
   "outputs": [
    {
     "data": {
      "text/plain": "<Figure size 432x288 with 1 Axes>",
      "image/png": "[encoded data removed]"
     },
     "metadata": {
      "needs_background": "light"
     },
     "output_type": "display_data"
    }
   ],
   "source": [
    "aval_map = gdf.plot(column=\"area\", linewidth=0.3, edgecolor='black', cmap=\"OrRd\", alpha=0.9)\n"
   ],
   "metadata": {
    "collapsed": false,
    "pycharm": {
     "name": "#%%\n",
     "is_executing": false
    }
   }
  },
  {
   "cell_type": "code",
   "execution_count": 29,
   "outputs": [
    {
     "name": "stdout",
     "text": [
      "<class 'shapely.geometry.polygon.Polygon'> POLYGON ((20.94465714165575 69.71382402696912, 20.94470735316531 69.71400241245273, 20.94419325473413 69.71401983461618, 20.9442434628668 69.7141982202462, 20.94372935925285 69.71421564107656, 20.94270114931648 69.71425047823899, 20.94285174061144 69.71478563650619, 20.94387997622828 69.71475079834599, 20.94393018369257 69.71492918406263, 20.94547254318632 69.71487691507734, 20.94598666121134 69.71485948908331, 20.94573554731867 69.71396756362762, 20.94522145069351 69.71398498878987, 20.94517123490418 69.71380660347262, 20.94465714165575 69.71382402696912))\n"
     ],
     "output_type": "stream"
    }
   ],
   "source": [
    "plg = gdf['geometry'][0]\n",
    "print(type(plg), plg)"
   ],
   "metadata": {
    "collapsed": false,
    "pycharm": {
     "name": "#%%\n",
     "is_executing": false
    }
   }
  },
  {
   "cell_type": "code",
   "execution_count": 34,
   "outputs": [],
   "source": [
    "# Create some simple polygons\n",
    "e_base = 20.94\n",
    "n_base= 69.71"
   ],
   "metadata": {
    "collapsed": false,
    "pycharm": {
     "name": "#%%\n",
     "is_executing": false
    }
   }
  },
  {
   "cell_type": "code",
   "execution_count": 35,
   "outputs": [],
   "source": [
    "le = e_base + 0.005 # left_easting\n",
    "re = le + 0.002 # right_easting\n",
    "bn = n_base + 0.005 # bottom_northing\n",
    "tn = bn + 0.002 # top_northing\n",
    "p1 = Polygon([(le, bn), (re, bn), (re, tn), (le, tn)])\n",
    "\n",
    "# Create a copy of the original polygon and alter its properties\n",
    "scn_1 = gdf.copy(deep=True)\n",
    "scn_1['_name'] = \"Scenario 1\"\n",
    "scn_1['geometry'] = p1\n"
   ],
   "metadata": {
    "collapsed": false,
    "pycharm": {
     "name": "#%%\n",
     "is_executing": false
    }
   }
  },
  {
   "cell_type": "code",
   "execution_count": 36,
   "outputs": [
    {
     "data": {
      "text/plain": "<matplotlib.axes._subplots.AxesSubplot at 0x284fe613630>"
     },
     "metadata": {},
     "output_type": "execute_result",
     "execution_count": 36
    },
    {
     "data": {
      "text/plain": "<Figure size 432x288 with 1 Axes>",
      "image/png": "[encoded data removed]"
     },
     "metadata": {
      "needs_background": "light"
     },
     "output_type": "display_data"
    }
   ],
   "source": [
    "ax = gdf.plot()\n",
    "scn_1.plot(ax=ax)\n",
    "\n"
   ],
   "metadata": {
    "collapsed": false,
    "pycharm": {
     "name": "#%%\n",
     "is_executing": false
    }
   }
  },
  {
   "cell_type": "code",
   "execution_count": null,
   "outputs": [],
   "source": [
    "\n"
   ],
   "metadata": {
    "collapsed": false,
    "pycharm": {
     "name": "#%%\n"
    }
   }
  }
 ],
 "metadata": {
  "language_info": {
   "codemirror_mode": {
    "name": "ipython",
    "version": 2
   },
   "file_extension": ".py",
   "mimetype": "text/x-python",
   "name": "python",
   "nbconvert_exporter": "python",
   "pygments_lexer": "ipython2",
   "version": "2.7.6"
  },
  "kernelspec": {
   "name": "python3",
   "language": "python",
   "display_name": "Python 3"
  },
  "pycharm": {
   "stem_cell": {
    "cell_type": "raw",
    "source": [],
    "metadata": {
     "collapsed": false
    }
   }
  }
 },
 "nbformat": 4,
 "nbformat_minor": 0
}