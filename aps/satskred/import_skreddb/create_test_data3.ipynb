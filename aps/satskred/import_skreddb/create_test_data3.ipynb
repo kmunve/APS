{
 "cells": [
  {
   "cell_type": "code",
   "execution_count": 39,
   "metadata": {
    "collapsed": true,
    "pycharm": {
     "is_executing": false
    }
   },
   "outputs": [],
   "source": [
    "from datetime import datetime, timedelta\n",
    "import geopandas as gp\n",
    "import pandas as pd\n",
    "import matplotlib\n",
    "import matplotlib.pyplot as plt\n",
    "import seaborn as sb\n",
    "from shapely.geometry import Polygon\n",
    "import os\n",
    "\n",
    "plt.rcParams['figure.figsize'] = (10, 20)\n",
    "%matplotlib inline"
   ]
  },
  {
   "cell_type": "code",
   "execution_count": 40,
   "outputs": [
    {
     "data": {
      "text/plain": "         area aspect  det_count       east      length      north  raster_val  \\\n0  10394.8943   None          1  20.944515  793.557988  69.714452        11.0   \n\n                      refdate sat_geom  \\\n0  2019-03-13 15:50:19.000220       87   \n\n                                              source  \\\n0  AvalDet_20190424_155109_ref_20190313_trno_087_...   \n\n                         ...                            vh1_max vv0_mean  \\\n0                        ...                         -15.749162 -10.2966   \n\n  vv0_median    vv0_min   vv0_max   vh0_mean  vh0_median    vh0_min  \\\n0  -10.15564 -13.197838 -7.651885 -19.937243  -20.155186 -22.938601   \n\n     vh0_max                                           geometry  \n0 -16.017008  POLYGON ((20.94465714165575 69.71382402696912,...  \n\n[1 rows x 45 columns]",
      "text/html": "<div>\n<style scoped>\n    .dataframe tbody tr th:only-of-type {\n        vertical-align: middle;\n    }\n\n    .dataframe tbody tr th {\n        vertical-align: top;\n    }\n\n    .dataframe thead th {\n        text-align: right;\n    }\n</style>\n<table border=\"1\" class=\"dataframe\">\n  <thead>\n    <tr style=\"text-align: right;\">\n      <th></th>\n      <th>area</th>\n      <th>aspect</th>\n      <th>det_count</th>\n      <th>east</th>\n      <th>length</th>\n      <th>north</th>\n      <th>raster_val</th>\n      <th>refdate</th>\n      <th>sat_geom</th>\n      <th>source</th>\n      <th>...</th>\n      <th>vh1_max</th>\n      <th>vv0_mean</th>\n      <th>vv0_median</th>\n      <th>vv0_min</th>\n      <th>vv0_max</th>\n      <th>vh0_mean</th>\n      <th>vh0_median</th>\n      <th>vh0_min</th>\n      <th>vh0_max</th>\n      <th>geometry</th>\n    </tr>\n  </thead>\n  <tbody>\n    <tr>\n      <th>0</th>\n      <td>10394.8943</td>\n      <td>None</td>\n      <td>1</td>\n      <td>20.944515</td>\n      <td>793.557988</td>\n      <td>69.714452</td>\n      <td>11.0</td>\n      <td>2019-03-13 15:50:19.000220</td>\n      <td>87</td>\n      <td>AvalDet_20190424_155109_ref_20190313_trno_087_...</td>\n      <td>...</td>\n      <td>-15.749162</td>\n      <td>-10.2966</td>\n      <td>-10.15564</td>\n      <td>-13.197838</td>\n      <td>-7.651885</td>\n      <td>-19.937243</td>\n      <td>-20.155186</td>\n      <td>-22.938601</td>\n      <td>-16.017008</td>\n      <td>POLYGON ((20.94465714165575 69.71382402696912,...</td>\n    </tr>\n  </tbody>\n</table>\n<p>1 rows × 45 columns</p>\n</div>"
     },
     "metadata": {},
     "output_type": "execute_result",
     "execution_count": 40
    }
   ],
   "source": [
    "base_file = \"../data/AvalDet_20190424_155109_ref_20190313_trno_087_VV/AvalDet_20190424_155109_ref_20190313_trno_087_VV.shp\"\n",
    "gdf = gp.read_file(base_file)\n",
    "gdf.drop(index=1, inplace=True)\n",
    "gdf.head()"
   ],
   "metadata": {
    "collapsed": false,
    "pycharm": {
     "name": "#%%\n",
     "is_executing": false
    }
   }
  },
  {
   "cell_type": "code",
   "execution_count": 41,
   "outputs": [
    {
     "data": {
      "text/plain": "Index(['area', 'aspect', 'det_count', 'east', 'length', 'north', 'raster_val',\n       'refdate', 'sat_geom', 'source', 't_0', 't_1', 'time', 'track_id',\n       'uuid', 'width', 'dem_mean', 'dem_median', 'dem_min', 'dem_max',\n       'slp_mean', 'slp_median', 'slp_min', 'slp_max', 'asp_mean',\n       'asp_median', 'asp_min', 'asp_max', 'vv1_mean', 'vv1_median', 'vv1_min',\n       'vv1_max', 'vh1_mean', 'vh1_median', 'vh1_min', 'vh1_max', 'vv0_mean',\n       'vv0_median', 'vv0_min', 'vv0_max', 'vh0_mean', 'vh0_median', 'vh0_min',\n       'vh0_max', 'geometry'],\n      dtype='object')"
     },
     "metadata": {},
     "output_type": "execute_result",
     "execution_count": 41
    }
   ],
   "source": [
    "gdf.columns"
   ],
   "metadata": {
    "collapsed": false,
    "pycharm": {
     "name": "#%%\n",
     "is_executing": false
    }
   }
  },
  {
   "cell_type": "markdown",
   "source": [
    "The following columns are used in the import routine\n",
    "- time -> skredTidspunkt (should probably be t_1)\n",
    "- time -> registrertDato (should probably be t_1)\n",
    "- geometry -> SHAPE\n",
    "\n",
    "- dem_min -> hoydeStoppSkred_moh\n",
    "- asp_median -> eksposisjonUtlopsomr \n",
    "- slp_mean -> snittHelningUtlopsomr_gr \n",
    "- slp_max -> maksHelningUtlopsomr_gr \n",
    "- slp_min -> minHelningUtlopsomr_gr\n",
    "- area -> arealUtlopsomr_m2 \n",
    "\n",
    "Important: skredID needs to be the same in all tables."
   ],
   "metadata": {
    "collapsed": false,
    "pycharm": {
     "name": "#%% md\n"
    }
   }
  },
  {
   "cell_type": "code",
   "execution_count": 42,
   "outputs": [],
   "source": [
    "import_list = ['time', 'area', 'dem_min', 'asp_median', 'slp_mean', 'slp_max', 'slp_min', 'geometry']"
   ],
   "metadata": {
    "collapsed": false,
    "pycharm": {
     "name": "#%%\n",
     "is_executing": false
    }
   }
  },
  {
   "cell_type": "code",
   "execution_count": 43,
   "outputs": [],
   "source": [
    "# Add a name to the polygon\n",
    "gdf['_name'] = \"Original\"\n",
    "\n",
    "# convert t_0 (the time the reference image was taken) into a datetime object and give it a descriptive name\n",
    "gdf['_reference_date'] = pd.to_datetime(gdf['t_0']) # this actually overwrites the existing column \"refdate\", but since it is a duplicate of t_0 we don't care. \n",
    "\n",
    "# convert t_1 (the time the activity image was taken) into a datetime object and give it a descriptive name\n",
    "gdf['_detection_date'] = pd.to_datetime(gdf['t_1'])\n"
   ],
   "metadata": {
    "collapsed": false,
    "pycharm": {
     "name": "#%%\n",
     "is_executing": false
    }
   }
  },
  {
   "cell_type": "code",
   "execution_count": 44,
   "outputs": [
    {
     "data": {
      "text/plain": "<Figure size 432x288 with 1 Axes>",
      "image/png": "[encoded data removed]"
     },
     "metadata": {
      "needs_background": "light"
     },
     "output_type": "display_data"
    }
   ],
   "source": [
    "aval_map = gdf.plot(column=\"area\", linewidth=0.3, edgecolor='black', cmap=\"OrRd\", alpha=0.9)\n"
   ],
   "metadata": {
    "collapsed": false,
    "pycharm": {
     "name": "#%%\n",
     "is_executing": false
    }
   }
  },
  {
   "cell_type": "code",
   "execution_count": 45,
   "outputs": [
    {
     "name": "stdout",
     "text": [
      "<class 'shapely.geometry.polygon.Polygon'> POLYGON ((20.94465714165575 69.71382402696912, 20.94470735316531 69.71400241245273, 20.94419325473413 69.71401983461618, 20.9442434628668 69.7141982202462, 20.94372935925285 69.71421564107656, 20.94270114931648 69.71425047823899, 20.94285174061144 69.71478563650619, 20.94387997622828 69.71475079834599, 20.94393018369257 69.71492918406263, 20.94547254318632 69.71487691507734, 20.94598666121134 69.71485948908331, 20.94573554731867 69.71396756362762, 20.94522145069351 69.71398498878987, 20.94517123490418 69.71380660347262, 20.94465714165575 69.71382402696912))\n"
     ],
     "output_type": "stream"
    }
   ],
   "source": [
    "plg = gdf['geometry'][0]\n",
    "print(type(plg), plg)\n"
   ],
   "metadata": {
    "collapsed": false,
    "pycharm": {
     "name": "#%%\n",
     "is_executing": false
    }
   }
  },
  {
   "cell_type": "code",
   "execution_count": 46,
   "outputs": [],
   "source": [
    "scns = []\n",
    "\n",
    "scn_dict = {\n",
    "    \"scn_0\": {\n",
    "        \"le\": 0.005,\n",
    "        \"re\": 0.002,\n",
    "        \"bn\": 0.005,\n",
    "        \"tn\": 0.002,\n",
    "        \"sat_geom\": 87,\n",
    "        \"dem_min\": 800,\n",
    "        \"asp_median\": 180,\n",
    "        \"slp_mean\": 9.0,\n",
    "        \"slp_max\": 12.0,\n",
    "        \"slp_min\": 4.0,\n",
    "        \"days\": 1,\n",
    "        \"seconds\": 15,\n",
    "        \"_dis_id\": 1\n",
    "    },\n",
    "    \"scn_1\": {\n",
    "        \"le\": 0.006,\n",
    "        \"re\": 0.002,\n",
    "        \"bn\": 0.004,\n",
    "        \"tn\": 0.002,\n",
    "        \"sat_geom\": 160,\n",
    "        \"dem_min\": 850,\n",
    "        \"asp_median\": 190,\n",
    "        \"slp_mean\": 8.0,\n",
    "        \"slp_max\": 11.0,\n",
    "        \"slp_min\": 3.0,\n",
    "        \"days\": 3,\n",
    "        \"seconds\": 65,\n",
    "        \"_dis_id\": 1\n",
    "    },\n",
    "    \"scn_2\": {\n",
    "        \"le\": 0.0055,\n",
    "        \"re\": 0.002,\n",
    "        \"bn\": 0.0055,\n",
    "        \"tn\": 0.002,\n",
    "        \"sat_geom\": 87,\n",
    "        \"dem_min\": 850,\n",
    "        \"asp_median\": 210,\n",
    "        \"slp_mean\": 7.0,\n",
    "        \"slp_max\": 10.0,\n",
    "        \"slp_min\": 2.0,\n",
    "        \"days\": 8,\n",
    "        \"seconds\": 22,\n",
    "        \"_dis_id\": 1\n",
    "    },\n",
    "    \"scn_3\": {\n",
    "        \"le\": 0.007,\n",
    "        \"re\": 0.003,\n",
    "        \"bn\": 0.008,\n",
    "        \"tn\": 0.003,\n",
    "        \"sat_geom\": 87,\n",
    "        \"dem_min\": 650,\n",
    "        \"asp_median\": 110,\n",
    "        \"slp_mean\": 9.5,\n",
    "        \"slp_max\": 15.0,\n",
    "        \"slp_min\": 5.2,\n",
    "        \"days\": 1,\n",
    "        \"seconds\": 15,\n",
    "        \"_dis_id\": 1\n",
    "    },\n",
    "    \"scn_4\": {\n",
    "        \"le\": 0.006,\n",
    "        \"re\": 0.002,\n",
    "        \"bn\": 0.006,\n",
    "        \"tn\": 0.005,\n",
    "        \"sat_geom\": 87,\n",
    "        \"dem_min\": 770,\n",
    "        \"asp_median\": 140,\n",
    "        \"slp_mean\": 8.5,\n",
    "        \"slp_max\": 14.3,\n",
    "        \"slp_min\": 4.2,\n",
    "        \"days\": 4,\n",
    "        \"seconds\": 78,\n",
    "        \"_dis_id\": 1\n",
    "    }\n",
    "}"
   ],
   "metadata": {
    "collapsed": false,
    "pycharm": {
     "name": "#%%\n",
     "is_executing": false
    }
   }
  },
  {
   "cell_type": "code",
   "execution_count": 47,
   "outputs": [],
   "source": [
    "def create_scenario(sd):\n",
    "    # Input is an element from scn_dict\n",
    "    \n",
    "    # Define the base coordinates for the test polygons\n",
    "    e_base = 20.94\n",
    "    n_base= 69.71\n",
    "    dt_fmt = '%Y-%m-%dT%H:%M:%S.%f'\n",
    "    dt_fmt_act = '%Y%m%d_%H%M%S'\n",
    "    dt_fmt_ref = '%Y%m%d'\n",
    "    dt_base = datetime.strptime('2019-08-21T15:51:09.025897', dt_fmt)\n",
    "    filename_base =\"AvalDet_{0}_ref_{1}_trno_087_ZZ\"\n",
    "    \n",
    "    le = e_base + sd[\"le\"] # left_easting\n",
    "    re = le + sd[\"re\"] # right_easting\n",
    "    bn = n_base + sd[\"bn\"] # bottom_northing\n",
    "    tn = bn + sd[\"tn\"] # top_northing\n",
    "    p = Polygon([(le, bn), (re, bn), (re, tn), (le, tn)])\n",
    "    act_date = dt_base + timedelta(days=sd[\"days\"], seconds=sd[\"seconds\"])\n",
    "    ref_date = act_date + timedelta(days=-6, seconds=-60)\n",
    "    \n",
    "    # Create a copy of the original polygon and alter its properties\n",
    "    scn = gdf.copy(deep=True)\n",
    "    scn['geometry'] = p\n",
    "    print(scn.crs)\n",
    "    scn.to_crs({'init': 'epsg:32633'}, inplace=True) \n",
    "    print(scn.crs)\n",
    "    scn['area'] = scn['geometry'].area\n",
    "    scn['length'] = scn['geometry'].length\n",
    "    scn.to_crs(gdf.crs, inplace=True)\n",
    "    \n",
    "    scn['_name'] = filename_base.format(act_date.strftime(dt_fmt_act), ref_date.strftime(dt_fmt_ref))\n",
    "    print(scn['_name'][0])\n",
    "    scn['east'] = scn['geometry'].centroid.x\n",
    "    scn['north'] = scn['geometry'].centroid.y\n",
    "    scn['dem_min'] = sd['dem_min']\n",
    "    scn['asp_median'] = sd['asp_median']\n",
    "    scn['slp_mean'] = sd['slp_mean']\n",
    "    scn['slp_max'] = sd['slp_max']\n",
    "    scn['slp_min'] = sd['slp_min']\n",
    "    scn['sat_geom'] = sd['sat_geom']\n",
    "    scn['time'] = act_date.strftime(dt_fmt)\n",
    "    scn['t_1'] = act_date.strftime(dt_fmt)\n",
    "    scn['refdate'] = ref_date.strftime(dt_fmt)\n",
    "    scn['t_0'] = ref_date.strftime(dt_fmt)\n",
    "    scn['_dis_id'] = 1 # used only to merge (dissolve) polygons for verification needs to be same for all scns\n",
    "    \n",
    "    new_dir = '../data/{0}'.format(scn['_name'][0])\n",
    "    if not os.path.exists(new_dir):\n",
    "        os.mkdir(new_dir)\n",
    "    scn.drop(['_detection_date', '_reference_date', '_dis_id'], axis=1).to_file(filename='../data/{0}/{0}.shp'.format(scn['_name'][0], scn['_name'][0]))\n",
    "\n",
    "    return scn\n",
    "    "
   ],
   "metadata": {
    "collapsed": false,
    "pycharm": {
     "name": "#%%\n",
     "is_executing": false
    }
   }
  },
  {
   "cell_type": "code",
   "execution_count": 48,
   "outputs": [
    {
     "name": "stdout",
     "text": [
      "{'init': 'epsg:4326'}\n{'init': 'epsg:32633'}\nAvalDet_20190822_155124_ref_20190816_trno_087_ZZ\n",
      "{'init': 'epsg:4326'}\n{'init': 'epsg:32633'}\nAvalDet_20190824_155214_ref_20190818_trno_087_ZZ\n",
      "{'init': 'epsg:4326'}\n{'init': 'epsg:32633'}\nAvalDet_20190829_155131_ref_20190823_trno_087_ZZ\n{'init': 'epsg:4326'}",
      "\n{'init': 'epsg:32633'}\nAvalDet_20190822_155124_ref_20190816_trno_087_ZZ\n",
      "{'init': 'epsg:4326'}\n{'init': 'epsg:32633'}\nAvalDet_20190825_155227_ref_20190819_trno_087_ZZ\n"
     ],
     "output_type": "stream"
    },
    {
     "name": "stderr",
     "text": [
      "C:\\Anaconda3\\envs\\APS\\lib\\site-packages\\geopandas\\io\\file.py:108: FionaDeprecationWarning: Use fiona.Env() instead.\n  with fiona.drivers():\n",
      "C:\\Anaconda3\\envs\\APS\\lib\\site-packages\\geopandas\\io\\file.py:108: FionaDeprecationWarning: Use fiona.Env() instead.\n  with fiona.drivers():\n",
      "C:\\Anaconda3\\envs\\APS\\lib\\site-packages\\geopandas\\io\\file.py:108: FionaDeprecationWarning: Use fiona.Env() instead.\n  with fiona.drivers():\n",
      "C:\\Anaconda3\\envs\\APS\\lib\\site-packages\\geopandas\\io\\file.py:108: FionaDeprecationWarning: Use fiona.Env() instead.\n  with fiona.drivers():\n",
      "C:\\Anaconda3\\envs\\APS\\lib\\site-packages\\geopandas\\io\\file.py:108: FionaDeprecationWarning: Use fiona.Env() instead.\n  with fiona.drivers():\n"
     ],
     "output_type": "stream"
    }
   ],
   "source": [
    "for sd in scn_dict.keys():\n",
    "    scns.append(create_scenario(scn_dict[sd]))\n"
   ],
   "metadata": {
    "collapsed": false,
    "pycharm": {
     "name": "#%%\n",
     "is_executing": false
    }
   }
  },
  {
   "cell_type": "code",
   "execution_count": 49,
   "outputs": [
    {
     "data": {
      "text/plain": "<Figure size 432x288 with 1 Axes>",
      "image/png": "[encoded data removed]"
     },
     "metadata": {
      "needs_background": "light"
     },
     "output_type": "display_data"
    }
   ],
   "source": [
    "ax = gdf.plot()\n",
    "for scn in scns:\n",
    "    scn.plot(ax=ax, edgecolor='black', alpha=0.6)\n"
   ],
   "metadata": {
    "collapsed": false,
    "pycharm": {
     "name": "#%%\n",
     "is_executing": false
    }
   }
  },
  {
   "cell_type": "code",
   "execution_count": 50,
   "outputs": [
    {
     "name": "stderr",
     "text": [
      "C:\\Anaconda3\\envs\\APS\\lib\\site-packages\\geopandas\\io\\file.py:108: FionaDeprecationWarning: Use fiona.Env() instead.\n  with fiona.drivers():\n"
     ],
     "output_type": "stream"
    }
   ],
   "source": [
    "scn_0a = pd.concat([scns[0], scns[3]])\n",
    "new_dir = '../data/scn_0a'\n",
    "if not os.path.exists(new_dir):\n",
    "    os.mkdir(new_dir)\n",
    "scn_0a.drop(['_detection_date', '_reference_date', '_dis_id'], axis=1).to_file(filename='../data/scn_0a/scn_0a.shp')\n"
   ],
   "metadata": {
    "collapsed": false,
    "pycharm": {
     "name": "#%%\n",
     "is_executing": false
    }
   }
  },
  {
   "cell_type": "code",
   "execution_count": 51,
   "outputs": [
    {
     "name": "stderr",
     "text": [
      "C:\\Anaconda3\\envs\\APS\\lib\\site-packages\\geopandas\\io\\file.py:108: FionaDeprecationWarning: Use fiona.Env() instead.\n  with fiona.drivers():\n"
     ],
     "output_type": "stream"
    }
   ],
   "source": [
    "test_scns = pd.concat(scns)\n",
    "new_dir = '../data/scns'\n",
    "if not os.path.exists(new_dir):\n",
    "    os.mkdir(new_dir)\n",
    "test_scns.drop(['_detection_date', '_reference_date', '_dis_id'], axis=1).to_file(filename='../data/scns/test_scns.shp')\n",
    "\n",
    "dissolved_scns = test_scns.dissolve(by='_dis_id')"
   ],
   "metadata": {
    "collapsed": false,
    "pycharm": {
     "name": "#%%\n",
     "is_executing": false
    }
   }
  },
  {
   "cell_type": "code",
   "execution_count": 52,
   "outputs": [
    {
     "data": {
      "text/plain": "                         time          area  dem_min  asp_median  slp_mean  \\\n0  2019-08-22T15:51:24.025897  17280.273674      800         180       9.0   \n0  2019-08-24T15:52:14.025897  17281.096651      850         190       8.0   \n0  2019-08-29T15:51:31.025897  17279.869669      850         210       7.0   \n0  2019-08-22T15:51:24.025897  38874.235753      650         110       9.5   \n0  2019-08-25T15:52:27.025897  43195.605978      770         140       8.5   \n\n   slp_max  slp_min                                           geometry  \n0     12.0      4.0  POLYGON ((20.945 69.71499999999999, 20.947 69....  \n0     11.0      3.0  POLYGON ((20.946 69.714, 20.948 69.714, 20.948...  \n0     10.0      2.0  POLYGON ((20.9455 69.71549999999999, 20.9475 6...  \n0     15.0      5.2  POLYGON ((20.947 69.71799999999999, 20.95 69.7...  \n0     14.3      4.2  POLYGON ((20.94600000000001 69.71599999999999,...  ",
      "text/html": "<div>\n<style scoped>\n    .dataframe tbody tr th:only-of-type {\n        vertical-align: middle;\n    }\n\n    .dataframe tbody tr th {\n        vertical-align: top;\n    }\n\n    .dataframe thead th {\n        text-align: right;\n    }\n</style>\n<table border=\"1\" class=\"dataframe\">\n  <thead>\n    <tr style=\"text-align: right;\">\n      <th></th>\n      <th>time</th>\n      <th>area</th>\n      <th>dem_min</th>\n      <th>asp_median</th>\n      <th>slp_mean</th>\n      <th>slp_max</th>\n      <th>slp_min</th>\n      <th>geometry</th>\n    </tr>\n  </thead>\n  <tbody>\n    <tr>\n      <th>0</th>\n      <td>2019-08-22T15:51:24.025897</td>\n      <td>17280.273674</td>\n      <td>800</td>\n      <td>180</td>\n      <td>9.0</td>\n      <td>12.0</td>\n      <td>4.0</td>\n      <td>POLYGON ((20.945 69.71499999999999, 20.947 69....</td>\n    </tr>\n    <tr>\n      <th>0</th>\n      <td>2019-08-24T15:52:14.025897</td>\n      <td>17281.096651</td>\n      <td>850</td>\n      <td>190</td>\n      <td>8.0</td>\n      <td>11.0</td>\n      <td>3.0</td>\n      <td>POLYGON ((20.946 69.714, 20.948 69.714, 20.948...</td>\n    </tr>\n    <tr>\n      <th>0</th>\n      <td>2019-08-29T15:51:31.025897</td>\n      <td>17279.869669</td>\n      <td>850</td>\n      <td>210</td>\n      <td>7.0</td>\n      <td>10.0</td>\n      <td>2.0</td>\n      <td>POLYGON ((20.9455 69.71549999999999, 20.9475 6...</td>\n    </tr>\n    <tr>\n      <th>0</th>\n      <td>2019-08-22T15:51:24.025897</td>\n      <td>38874.235753</td>\n      <td>650</td>\n      <td>110</td>\n      <td>9.5</td>\n      <td>15.0</td>\n      <td>5.2</td>\n      <td>POLYGON ((20.947 69.71799999999999, 20.95 69.7...</td>\n    </tr>\n    <tr>\n      <th>0</th>\n      <td>2019-08-25T15:52:27.025897</td>\n      <td>43195.605978</td>\n      <td>770</td>\n      <td>140</td>\n      <td>8.5</td>\n      <td>14.3</td>\n      <td>4.2</td>\n      <td>POLYGON ((20.94600000000001 69.71599999999999,...</td>\n    </tr>\n  </tbody>\n</table>\n</div>"
     },
     "metadata": {},
     "output_type": "execute_result",
     "execution_count": 52
    }
   ],
   "source": [
    "test_scns.to_csv('../data/scns/scns.csv')\n",
    "test_scns.filter(import_list).head()\n"
   ],
   "metadata": {
    "collapsed": false,
    "pycharm": {
     "name": "#%%\n",
     "is_executing": false
    }
   }
  },
  {
   "cell_type": "code",
   "execution_count": 53,
   "outputs": [
    {
     "name": "stdout",
     "text": [
      "{'init': 'epsg:4326'}\n"
     ],
     "output_type": "stream"
    },
    {
     "name": "stderr",
     "text": [
      "C:\\Anaconda3\\envs\\APS\\lib\\site-packages\\geopandas\\io\\file.py:108: FionaDeprecationWarning: Use fiona.Env() instead.\n  with fiona.drivers():\n"
     ],
     "output_type": "stream"
    },
    {
     "data": {
      "text/plain": "                                            geometry  \\\n0  POLYGON ((19.7517 70.71553, 22.9706 68.6155, 2...   \n\n                         date  \n0  2019-08-19T15:51:09.025897  ",
      "text/html": "<div>\n<style scoped>\n    .dataframe tbody tr th:only-of-type {\n        vertical-align: middle;\n    }\n\n    .dataframe tbody tr th {\n        vertical-align: top;\n    }\n\n    .dataframe thead th {\n        text-align: right;\n    }\n</style>\n<table border=\"1\" class=\"dataframe\">\n  <thead>\n    <tr style=\"text-align: right;\">\n      <th></th>\n      <th>geometry</th>\n      <th>date</th>\n    </tr>\n  </thead>\n  <tbody>\n    <tr>\n      <th>0</th>\n      <td>POLYGON ((19.7517 70.71553, 22.9706 68.6155, 2...</td>\n      <td>2019-08-19T15:51:09.025897</td>\n    </tr>\n  </tbody>\n</table>\n</div>"
     },
     "metadata": {},
     "output_type": "execute_result",
     "execution_count": 53
    }
   ],
   "source": [
    "track = Polygon([(19.7517,70.71553),(22.9706,68.6155),(20.7509,68.17902),(17.2006,70.3538),(19.75116,70.7155)])\n",
    "# Create a copy of the original polygon and alter its properties\n",
    "track_df = gdf.filter(['geometry']).copy(deep=True)\n",
    "track_df['geometry'] = track\n",
    "print(track_df.crs)\n",
    "track_df['date'] = '2019-08-19T15:51:09.025897'\n",
    "\n",
    "track_df.to_file(filename='../data/scns/sat_track.shp')\n",
    "track_df.head()"
   ],
   "metadata": {
    "collapsed": false,
    "pycharm": {
     "name": "#%%\n",
     "is_executing": false
    }
   }
  },
  {
   "cell_type": "code",
   "execution_count": 54,
   "outputs": [
    {
     "data": {
      "text/plain": "<matplotlib.axes._subplots.AxesSubplot at 0x1ad62d71828>"
     },
     "metadata": {},
     "output_type": "execute_result",
     "execution_count": 54
    },
    {
     "data": {
      "text/plain": "<Figure size 432x288 with 1 Axes>",
      "image/png": "[encoded data removed]"
     },
     "metadata": {
      "needs_background": "light"
     },
     "output_type": "display_data"
    }
   ],
   "source": [
    "track_df.plot()\n",
    "\n"
   ],
   "metadata": {
    "collapsed": false,
    "pycharm": {
     "name": "#%%\n",
     "is_executing": false
    }
   }
  },
  {
   "cell_type": "code",
   "execution_count": 54,
   "outputs": [],
   "source": [],
   "metadata": {
    "collapsed": false,
    "pycharm": {
     "name": "#%%\n",
     "is_executing": false
    }
   }
  },
  {
   "cell_type": "markdown",
   "source": [],
   "metadata": {
    "collapsed": false,
    "pycharm": {
     "name": "#%% md\n"
    }
   }
  }
 ],
 "metadata": {
  "language_info": {
   "codemirror_mode": {
    "name": "ipython",
    "version": 2
   },
   "file_extension": ".py",
   "mimetype": "text/x-python",
   "name": "python",
   "nbconvert_exporter": "python",
   "pygments_lexer": "ipython2",
   "version": "2.7.6"
  },
  "kernelspec": {
   "name": "pycharm-26af264e",
   "language": "python",
   "display_name": "PyCharm (APS)"
  },
  "pycharm": {
   "stem_cell": {
    "cell_type": "raw",
    "source": [],
    "metadata": {
     "collapsed": false
    }
   }
  }
 },
 "nbformat": 4,
 "nbformat_minor": 0
}