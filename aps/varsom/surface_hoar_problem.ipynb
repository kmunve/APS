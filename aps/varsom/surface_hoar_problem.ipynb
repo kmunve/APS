{
 "cells": [
  {
   "cell_type": "markdown",
   "metadata": {
    "collapsed": true,
    "pycharm": {
     "name": "#%% md\n"
    }
   },
   "source": [
    "# Analysis of surface hoar as an avalanche problem in Norway"
   ]
  },
  {
   "cell_type": "code",
   "execution_count": 13,
   "outputs": [],
   "source": [
    "# imports\n",
    "import numpy as np\n",
    "import pandas as pd\n",
    "#import geopandas as gpd\n",
    "\n",
    "import plotly.io as pio\n",
    "import plotly.graph_objects as go\n",
    "import plotly.express as px\n",
    "pio.templates.default = \"plotly_white\"\n",
    "\n",
    "\n"
   ],
   "metadata": {
    "collapsed": false,
    "pycharm": {
     "name": "#%%\n",
     "is_executing": false
    }
   }
  },
  {
   "cell_type": "code",
   "execution_count": 29,
   "outputs": [
    {
     "data": {
      "text/plain": "      index  reg_id  region_id        region_name  date_valid  region_type_id  \\\n0         0  169485       3003  Nordenskiöld Land  2018-11-30              10   \n1         1  169531       3003  Nordenskiöld Land  2018-12-01              10   \n2         2  169419       3007      Vest-Finnmark  2018-12-01              10   \n3         3  169439       3009         Nord-Troms  2018-12-01              10   \n4         4  169620       3010             Lyngen  2018-12-01              10   \n...     ...     ...        ...                ...         ...             ...   \n3952   3952  195949       3031               Voss  2019-05-31              10   \n3953   3953  195950       3032         Hallingdal  2019-05-31              10   \n3954   3954  195951       3034          Hardanger  2019-05-31              10   \n3955   3955  195952       3035      Vest-Telemark  2019-05-31              10   \n3956   3956  195953       3037             Heiane  2019-05-31              10   \n\n     region_type_name  utm_east  utm_north  utm_zone  ...  \\\n0                   A    520332    8663904        33  ...   \n1                   A    520332    8663904        33  ...   \n2                   A    802123    7794717        33  ...   \n3                   A    750984    7742562        33  ...   \n4                   A    692056    7719872        33  ...   \n...               ...       ...        ...       ...  ...   \n3952                A     28607    6779054        33  ...   \n3953                A    150188    6763814        33  ...   \n3954                A     62473    6692016        33  ...   \n3955                A    131223    6642571        33  ...   \n3956                A     46852    6517179        33  ...   \n\n     avalanche_problem_3_probability_name  \\\n0                               Not given   \n1                               Not given   \n2                               Not given   \n3                               Not given   \n4                               Not given   \n...                                   ...   \n3952                            Not given   \n3953                            Not given   \n3954                            Not given   \n3955                            Not given   \n3956                            Not given   \n\n     avalanche_problem_3_trigger_simple_id  \\\n0                                        0   \n1                                        0   \n2                                        0   \n3                                        0   \n4                                        0   \n...                                    ...   \n3952                                     0   \n3953                                     0   \n3954                                     0   \n3955                                     0   \n3956                                     0   \n\n     avalanche_problem_3_trigger_simple_name  \\\n0                                  Not given   \n1                                  Not given   \n2                                  Not given   \n3                                  Not given   \n4                                  Not given   \n...                                      ...   \n3952                               Not given   \n3953                               Not given   \n3954                               Not given   \n3955                               Not given   \n3956                               Not given   \n\n      avalanche_problem_3_distribution_id  \\\n0                                       0   \n1                                       0   \n2                                       0   \n3                                       0   \n4                                       0   \n...                                   ...   \n3952                                    0   \n3953                                    0   \n3954                                    0   \n3955                                    0   \n3956                                    0   \n\n     avalanche_problem_3_distribution_name  \\\n0                                Not given   \n1                                Not given   \n2                                Not given   \n3                                Not given   \n4                                Not given   \n...                                    ...   \n3952                             Not given   \n3953                             Not given   \n3954                             Not given   \n3955                             Not given   \n3956                             Not given   \n\n     avalanche_problem_3_exposed_height_fill  \\\n0                                          0   \n1                                          0   \n2                                          0   \n3                                          0   \n4                                          0   \n...                                      ...   \n3952                                       0   \n3953                                       0   \n3954                                       0   \n3955                                       0   \n3956                                       0   \n\n     avalanche_problem_3_exposed_height_1  \\\n0                                       0   \n1                                       0   \n2                                       0   \n3                                       0   \n4                                       0   \n...                                   ...   \n3952                                    0   \n3953                                    0   \n3954                                    0   \n3955                                    0   \n3956                                    0   \n\n     avalanche_problem_3_exposed_height_2  \\\n0                                       0   \n1                                       0   \n2                                       0   \n3                                       0   \n4                                       0   \n...                                   ...   \n3952                                    0   \n3953                                    0   \n3954                                    0   \n3955                                    0   \n3956                                    0   \n\n     avalanche_problem_3_valid_expositions avalanche_problem_3_advice  \n0                                        0                  Not given  \n1                                        0                  Not given  \n2                                        0                  Not given  \n3                                        0                  Not given  \n4                                        0                  Not given  \n...                                    ...                        ...  \n3952                                     0                  Not given  \n3953                                     0                  Not given  \n3954                                     0                  Not given  \n3955                                     0                  Not given  \n3956                                     0                  Not given  \n\n[3957 rows x 103 columns]",
      "text/html": "<div>\n<style scoped>\n    .dataframe tbody tr th:only-of-type {\n        vertical-align: middle;\n    }\n\n    .dataframe tbody tr th {\n        vertical-align: top;\n    }\n\n    .dataframe thead th {\n        text-align: right;\n    }\n</style>\n<table border=\"1\" class=\"dataframe\">\n  <thead>\n    <tr style=\"text-align: right;\">\n      <th></th>\n      <th>index</th>\n      <th>reg_id</th>\n      <th>region_id</th>\n      <th>region_name</th>\n      <th>date_valid</th>\n      <th>region_type_id</th>\n      <th>region_type_name</th>\n      <th>utm_east</th>\n      <th>utm_north</th>\n      <th>utm_zone</th>\n      <th>...</th>\n      <th>avalanche_problem_3_probability_name</th>\n      <th>avalanche_problem_3_trigger_simple_id</th>\n      <th>avalanche_problem_3_trigger_simple_name</th>\n      <th>avalanche_problem_3_distribution_id</th>\n      <th>avalanche_problem_3_distribution_name</th>\n      <th>avalanche_problem_3_exposed_height_fill</th>\n      <th>avalanche_problem_3_exposed_height_1</th>\n      <th>avalanche_problem_3_exposed_height_2</th>\n      <th>avalanche_problem_3_valid_expositions</th>\n      <th>avalanche_problem_3_advice</th>\n    </tr>\n  </thead>\n  <tbody>\n    <tr>\n      <th>0</th>\n      <td>0</td>\n      <td>169485</td>\n      <td>3003</td>\n      <td>Nordenskiöld Land</td>\n      <td>2018-11-30</td>\n      <td>10</td>\n      <td>A</td>\n      <td>520332</td>\n      <td>8663904</td>\n      <td>33</td>\n      <td>...</td>\n      <td>Not given</td>\n      <td>0</td>\n      <td>Not given</td>\n      <td>0</td>\n      <td>Not given</td>\n      <td>0</td>\n      <td>0</td>\n      <td>0</td>\n      <td>0</td>\n      <td>Not given</td>\n    </tr>\n    <tr>\n      <th>1</th>\n      <td>1</td>\n      <td>169531</td>\n      <td>3003</td>\n      <td>Nordenskiöld Land</td>\n      <td>2018-12-01</td>\n      <td>10</td>\n      <td>A</td>\n      <td>520332</td>\n      <td>8663904</td>\n      <td>33</td>\n      <td>...</td>\n      <td>Not given</td>\n      <td>0</td>\n      <td>Not given</td>\n      <td>0</td>\n      <td>Not given</td>\n      <td>0</td>\n      <td>0</td>\n      <td>0</td>\n      <td>0</td>\n      <td>Not given</td>\n    </tr>\n    <tr>\n      <th>2</th>\n      <td>2</td>\n      <td>169419</td>\n      <td>3007</td>\n      <td>Vest-Finnmark</td>\n      <td>2018-12-01</td>\n      <td>10</td>\n      <td>A</td>\n      <td>802123</td>\n      <td>7794717</td>\n      <td>33</td>\n      <td>...</td>\n      <td>Not given</td>\n      <td>0</td>\n      <td>Not given</td>\n      <td>0</td>\n      <td>Not given</td>\n      <td>0</td>\n      <td>0</td>\n      <td>0</td>\n      <td>0</td>\n      <td>Not given</td>\n    </tr>\n    <tr>\n      <th>3</th>\n      <td>3</td>\n      <td>169439</td>\n      <td>3009</td>\n      <td>Nord-Troms</td>\n      <td>2018-12-01</td>\n      <td>10</td>\n      <td>A</td>\n      <td>750984</td>\n      <td>7742562</td>\n      <td>33</td>\n      <td>...</td>\n      <td>Not given</td>\n      <td>0</td>\n      <td>Not given</td>\n      <td>0</td>\n      <td>Not given</td>\n      <td>0</td>\n      <td>0</td>\n      <td>0</td>\n      <td>0</td>\n      <td>Not given</td>\n    </tr>\n    <tr>\n      <th>4</th>\n      <td>4</td>\n      <td>169620</td>\n      <td>3010</td>\n      <td>Lyngen</td>\n      <td>2018-12-01</td>\n      <td>10</td>\n      <td>A</td>\n      <td>692056</td>\n      <td>7719872</td>\n      <td>33</td>\n      <td>...</td>\n      <td>Not given</td>\n      <td>0</td>\n      <td>Not given</td>\n      <td>0</td>\n      <td>Not given</td>\n      <td>0</td>\n      <td>0</td>\n      <td>0</td>\n      <td>0</td>\n      <td>Not given</td>\n    </tr>\n    <tr>\n      <th>...</th>\n      <td>...</td>\n      <td>...</td>\n      <td>...</td>\n      <td>...</td>\n      <td>...</td>\n      <td>...</td>\n      <td>...</td>\n      <td>...</td>\n      <td>...</td>\n      <td>...</td>\n      <td>...</td>\n      <td>...</td>\n      <td>...</td>\n      <td>...</td>\n      <td>...</td>\n      <td>...</td>\n      <td>...</td>\n      <td>...</td>\n      <td>...</td>\n      <td>...</td>\n      <td>...</td>\n    </tr>\n    <tr>\n      <th>3952</th>\n      <td>3952</td>\n      <td>195949</td>\n      <td>3031</td>\n      <td>Voss</td>\n      <td>2019-05-31</td>\n      <td>10</td>\n      <td>A</td>\n      <td>28607</td>\n      <td>6779054</td>\n      <td>33</td>\n      <td>...</td>\n      <td>Not given</td>\n      <td>0</td>\n      <td>Not given</td>\n      <td>0</td>\n      <td>Not given</td>\n      <td>0</td>\n      <td>0</td>\n      <td>0</td>\n      <td>0</td>\n      <td>Not given</td>\n    </tr>\n    <tr>\n      <th>3953</th>\n      <td>3953</td>\n      <td>195950</td>\n      <td>3032</td>\n      <td>Hallingdal</td>\n      <td>2019-05-31</td>\n      <td>10</td>\n      <td>A</td>\n      <td>150188</td>\n      <td>6763814</td>\n      <td>33</td>\n      <td>...</td>\n      <td>Not given</td>\n      <td>0</td>\n      <td>Not given</td>\n      <td>0</td>\n      <td>Not given</td>\n      <td>0</td>\n      <td>0</td>\n      <td>0</td>\n      <td>0</td>\n      <td>Not given</td>\n    </tr>\n    <tr>\n      <th>3954</th>\n      <td>3954</td>\n      <td>195951</td>\n      <td>3034</td>\n      <td>Hardanger</td>\n      <td>2019-05-31</td>\n      <td>10</td>\n      <td>A</td>\n      <td>62473</td>\n      <td>6692016</td>\n      <td>33</td>\n      <td>...</td>\n      <td>Not given</td>\n      <td>0</td>\n      <td>Not given</td>\n      <td>0</td>\n      <td>Not given</td>\n      <td>0</td>\n      <td>0</td>\n      <td>0</td>\n      <td>0</td>\n      <td>Not given</td>\n    </tr>\n    <tr>\n      <th>3955</th>\n      <td>3955</td>\n      <td>195952</td>\n      <td>3035</td>\n      <td>Vest-Telemark</td>\n      <td>2019-05-31</td>\n      <td>10</td>\n      <td>A</td>\n      <td>131223</td>\n      <td>6642571</td>\n      <td>33</td>\n      <td>...</td>\n      <td>Not given</td>\n      <td>0</td>\n      <td>Not given</td>\n      <td>0</td>\n      <td>Not given</td>\n      <td>0</td>\n      <td>0</td>\n      <td>0</td>\n      <td>0</td>\n      <td>Not given</td>\n    </tr>\n    <tr>\n      <th>3956</th>\n      <td>3956</td>\n      <td>195953</td>\n      <td>3037</td>\n      <td>Heiane</td>\n      <td>2019-05-31</td>\n      <td>10</td>\n      <td>A</td>\n      <td>46852</td>\n      <td>6517179</td>\n      <td>33</td>\n      <td>...</td>\n      <td>Not given</td>\n      <td>0</td>\n      <td>Not given</td>\n      <td>0</td>\n      <td>Not given</td>\n      <td>0</td>\n      <td>0</td>\n      <td>0</td>\n      <td>0</td>\n      <td>Not given</td>\n    </tr>\n  </tbody>\n</table>\n<p>3957 rows × 103 columns</p>\n</div>"
     },
     "metadata": {},
     "output_type": "execute_result",
     "execution_count": 29
    }
   ],
   "source": [
    "s1617 = pd.read_csv(r'./data/norwegian_avalanche_warnings_season_16_17.csv', sep=\";\", header=0)\n",
    "s1617['season'] = '2016/2017'\n",
    "s1718 = pd.read_csv(r'./data/norwegian_avalanche_warnings_season_17_18.csv', sep=\";\", header=0)\n",
    "s1819 = pd.read_csv(r'./data/norwegian_avalanche_warnings_season_18_19.csv', sep=\";\", header=0)\n",
    "\n",
    "s1819\n"
   ],
   "metadata": {
    "collapsed": false,
    "pycharm": {
     "name": "#%%\n",
     "is_executing": false
    }
   }
  },
  {
   "cell_type": "code",
   "execution_count": 37,
   "outputs": [
    {
     "name": "stdout",
     "text": [
      "avalanche_problem_1_cause_name\n",
      "Dårlig binding mellom glatt skare og overliggende snø     157\n",
      "Dårlig binding mellom lag i fokksnøen                     528\n",
      "Kantkornet snø over skarelag                              213\n",
      "Kantkornet snø under skarelag                              26\n",
      "Kantkornet snø ved bakken                                   1\n",
      "Nedføyket svakt lag med nysnø                            2026\n",
      "Nedsnødd eller nedføyket kantkornet snø                   128\n",
      "Nedsnødd eller nedføyket overflaterim                      48\n",
      "Not given                                                  21\n",
      "Opphopning av vann i/over lag i snødekket                 206\n",
      "Ubunden snø                                               392\n",
      "Vann ved bakken/smelting fra bakken                        97\n",
      "Name: index, dtype: int64\n",
      "avalanche_problem_1_cause_name\n",
      "Dårlig binding mellom glatt skare og overliggende snø     104\n",
      "Dårlig binding mellom lag i fokksnøen                     534\n",
      "Kantkornet snø over skarelag                               73\n",
      "Kantkornet snø under skarelag                             379\n",
      "Kantkornet snø ved bakken                                  16\n",
      "Nedføyket svakt lag med nysnø                            1531\n",
      "Nedsnødd eller nedføyket kantkornet snø                   334\n",
      "Nedsnødd eller nedføyket overflaterim                     117\n",
      "Not given                                                  29\n",
      "Opphopning av vann i/over lag i snødekket                  87\n",
      "Ubunden snø                                               664\n",
      "Vann ved bakken/smelting fra bakken                        14\n",
      "Name: index, dtype: int64\n",
      "avalanche_problem_1_cause_name\n",
      "Dårlig binding mellom glatt skare og overliggende snø      59\n",
      "Dårlig binding mellom lag i fokksnøen                     576\n",
      "Kantkornet snø over skarelag                              165\n",
      "Kantkornet snø under skarelag                              44\n",
      "Nedføyket svakt lag med nysnø                            1875\n",
      "Nedsnødd eller nedføyket kantkornet snø                   179\n",
      "Nedsnødd eller nedføyket overflaterim                      36\n",
      "Not given                                                  29\n",
      "Opphopning av vann i/over lag i snødekket                 170\n",
      "Ubunden snø                                               816\n",
      "Vann ved bakken/smelting fra bakken                         8\n",
      "Name: index, dtype: int64\n"
     ],
     "output_type": "stream"
    }
   ],
   "source": [
    "ap_count1617 = s1617.groupby('avalanche_problem_1_cause_name').count()['index']\n",
    "print(ap_count1617)\n",
    "ap_count1718 = (s1718.groupby('avalanche_problem_1_cause_name').count())['index']\n",
    "print(ap_count1718)\n",
    "ap_count1819 = (s1819.groupby('avalanche_problem_1_cause_name').count())['index']\n",
    "print(ap_count1819)"
   ],
   "metadata": {
    "collapsed": false,
    "pycharm": {
     "name": "#%%\n",
     "is_executing": false
    }
   }
  },
  {
   "cell_type": "code",
   "execution_count": 30,
   "outputs": [
    {
     "data": {
      "text/plain": "                                       avalanche_danger  \\\n0     Natt til fredag ventes intense snøfall over 60...   \n1     Natt til fredag ventes intense snøfall over 60...   \n2     Natt til fredag ventes intense snøfall over 60...   \n3     Natt til fredag ventes intense snøfall over 60...   \n4     Natt til fredag ventes intense snøfall over 60...   \n...                                                 ...   \n3838  Det er framleis mogelegheiter for at det kan l...   \n3839  Varme og sol vil gi fortsatt god snøsmelting. ...   \n3840  Generelt stabile forhold. Smeltevatn nede i sn...   \n3841  Det er framleis mogelegheiter for at det kan l...   \n3842  Generelt stabile forhold. Smeltevatn nede i sn...   \n\n      avalanche_problem_1_cause_id       avalanche_problem_1_cause_name  \\\n0                               10        Nedføyket svakt lag med nysnø   \n1                               10        Nedføyket svakt lag med nysnø   \n2                               10        Nedføyket svakt lag med nysnø   \n3                               10        Nedføyket svakt lag med nysnø   \n4                               10        Nedføyket svakt lag med nysnø   \n...                            ...                                  ...   \n3838                            20  Vann ved bakken/smelting fra bakken   \n3839                            24                          Ubunden snø   \n3840                            20  Vann ved bakken/smelting fra bakken   \n3841                            20  Vann ved bakken/smelting fra bakken   \n3842                            20  Vann ved bakken/smelting fra bakken   \n\n      avalanche_problem_2_cause_id       avalanche_problem_2_cause_name  \\\n0                               24                          Ubunden snø   \n1                               24                          Ubunden snø   \n2                               24                          Ubunden snø   \n3                               24                          Ubunden snø   \n4                               24                          Ubunden snø   \n...                            ...                                  ...   \n3838                             0                            Not given   \n3839                            20  Vann ved bakken/smelting fra bakken   \n3840                             0                            Not given   \n3841                            24                          Ubunden snø   \n3842                             0                            Not given   \n\n      avalanche_problem_3_cause_id avalanche_problem_3_cause_name  region_id  \\\n0                                0                      Not given       3022   \n1                                0                      Not given       3023   \n2                                0                      Not given       3024   \n3                                0                      Not given       3027   \n4                                0                      Not given       3029   \n...                            ...                            ...        ...   \n3838                             0                      Not given       3029   \n3839                             0                      Not given       3031   \n3840                             0                      Not given       3032   \n3841                             0                      Not given       3034   \n3842                             0                      Not given       3035   \n\n         region_name  \n0        Trollheimen  \n1            Romsdal  \n2           Sunnmøre  \n3     Indre Fjordane  \n4         Indre Sogn  \n...              ...  \n3838      Indre Sogn  \n3839            Voss  \n3840      Hallingdal  \n3841       Hardanger  \n3842   Vest-Telemark  \n\n[3843 rows x 9 columns]",
      "text/html": "<div>\n<style scoped>\n    .dataframe tbody tr th:only-of-type {\n        vertical-align: middle;\n    }\n\n    .dataframe tbody tr th {\n        vertical-align: top;\n    }\n\n    .dataframe thead th {\n        text-align: right;\n    }\n</style>\n<table border=\"1\" class=\"dataframe\">\n  <thead>\n    <tr style=\"text-align: right;\">\n      <th></th>\n      <th>avalanche_danger</th>\n      <th>avalanche_problem_1_cause_id</th>\n      <th>avalanche_problem_1_cause_name</th>\n      <th>avalanche_problem_2_cause_id</th>\n      <th>avalanche_problem_2_cause_name</th>\n      <th>avalanche_problem_3_cause_id</th>\n      <th>avalanche_problem_3_cause_name</th>\n      <th>region_id</th>\n      <th>region_name</th>\n    </tr>\n  </thead>\n  <tbody>\n    <tr>\n      <th>0</th>\n      <td>Natt til fredag ventes intense snøfall over 60...</td>\n      <td>10</td>\n      <td>Nedføyket svakt lag med nysnø</td>\n      <td>24</td>\n      <td>Ubunden snø</td>\n      <td>0</td>\n      <td>Not given</td>\n      <td>3022</td>\n      <td>Trollheimen</td>\n    </tr>\n    <tr>\n      <th>1</th>\n      <td>Natt til fredag ventes intense snøfall over 60...</td>\n      <td>10</td>\n      <td>Nedføyket svakt lag med nysnø</td>\n      <td>24</td>\n      <td>Ubunden snø</td>\n      <td>0</td>\n      <td>Not given</td>\n      <td>3023</td>\n      <td>Romsdal</td>\n    </tr>\n    <tr>\n      <th>2</th>\n      <td>Natt til fredag ventes intense snøfall over 60...</td>\n      <td>10</td>\n      <td>Nedføyket svakt lag med nysnø</td>\n      <td>24</td>\n      <td>Ubunden snø</td>\n      <td>0</td>\n      <td>Not given</td>\n      <td>3024</td>\n      <td>Sunnmøre</td>\n    </tr>\n    <tr>\n      <th>3</th>\n      <td>Natt til fredag ventes intense snøfall over 60...</td>\n      <td>10</td>\n      <td>Nedføyket svakt lag med nysnø</td>\n      <td>24</td>\n      <td>Ubunden snø</td>\n      <td>0</td>\n      <td>Not given</td>\n      <td>3027</td>\n      <td>Indre Fjordane</td>\n    </tr>\n    <tr>\n      <th>4</th>\n      <td>Natt til fredag ventes intense snøfall over 60...</td>\n      <td>10</td>\n      <td>Nedføyket svakt lag med nysnø</td>\n      <td>24</td>\n      <td>Ubunden snø</td>\n      <td>0</td>\n      <td>Not given</td>\n      <td>3029</td>\n      <td>Indre Sogn</td>\n    </tr>\n    <tr>\n      <th>...</th>\n      <td>...</td>\n      <td>...</td>\n      <td>...</td>\n      <td>...</td>\n      <td>...</td>\n      <td>...</td>\n      <td>...</td>\n      <td>...</td>\n      <td>...</td>\n    </tr>\n    <tr>\n      <th>3838</th>\n      <td>Det er framleis mogelegheiter for at det kan l...</td>\n      <td>20</td>\n      <td>Vann ved bakken/smelting fra bakken</td>\n      <td>0</td>\n      <td>Not given</td>\n      <td>0</td>\n      <td>Not given</td>\n      <td>3029</td>\n      <td>Indre Sogn</td>\n    </tr>\n    <tr>\n      <th>3839</th>\n      <td>Varme og sol vil gi fortsatt god snøsmelting. ...</td>\n      <td>24</td>\n      <td>Ubunden snø</td>\n      <td>20</td>\n      <td>Vann ved bakken/smelting fra bakken</td>\n      <td>0</td>\n      <td>Not given</td>\n      <td>3031</td>\n      <td>Voss</td>\n    </tr>\n    <tr>\n      <th>3840</th>\n      <td>Generelt stabile forhold. Smeltevatn nede i sn...</td>\n      <td>20</td>\n      <td>Vann ved bakken/smelting fra bakken</td>\n      <td>0</td>\n      <td>Not given</td>\n      <td>0</td>\n      <td>Not given</td>\n      <td>3032</td>\n      <td>Hallingdal</td>\n    </tr>\n    <tr>\n      <th>3841</th>\n      <td>Det er framleis mogelegheiter for at det kan l...</td>\n      <td>20</td>\n      <td>Vann ved bakken/smelting fra bakken</td>\n      <td>24</td>\n      <td>Ubunden snø</td>\n      <td>0</td>\n      <td>Not given</td>\n      <td>3034</td>\n      <td>Hardanger</td>\n    </tr>\n    <tr>\n      <th>3842</th>\n      <td>Generelt stabile forhold. Smeltevatn nede i sn...</td>\n      <td>20</td>\n      <td>Vann ved bakken/smelting fra bakken</td>\n      <td>0</td>\n      <td>Not given</td>\n      <td>0</td>\n      <td>Not given</td>\n      <td>3035</td>\n      <td>Vest-Telemark</td>\n    </tr>\n  </tbody>\n</table>\n<p>3843 rows × 9 columns</p>\n</div>"
     },
     "metadata": {},
     "output_type": "execute_result",
     "execution_count": 30
    }
   ],
   "source": [
    "c_filter = ['avalanche_danger', 'avalanche_problem_1_cause_id', 'avalanche_problem_1_cause_name', 'avalanche_problem_2_cause_id', 'avalanche_problem_2_cause_name', 'avalanche_problem_3_cause_id', 'avalanche_problem_3_cause_name', 'region_id', 'region_name']\n",
    "\n",
    "ap_df = pd.concat([s1617.filter(c_filter), s1718.filter(c_filter), s1819.filter(c_filter)], ignore_index=True)"
   ],
   "metadata": {
    "collapsed": false,
    "pycharm": {
     "name": "#%%\n",
     "is_executing": false
    }
   }
  },
  {
   "cell_type": "code",
   "execution_count": null,
   "outputs": [],
   "source": [],
   "metadata": {
    "collapsed": false,
    "pycharm": {
     "name": "#%%\n"
    }
   }
  },
  {
   "cell_type": "code",
   "execution_count": 38,
   "outputs": [
    {
     "traceback": [
      "\u001b[1;31m---------------------------------------------------------------------------\u001b[0m",
      "\u001b[1;31mValueError\u001b[0m                                Traceback (most recent call last)",
      "\u001b[1;32m<ipython-input-38-95f4c3f07bf0>\u001b[0m in \u001b[0;36m<module>\u001b[1;34m\u001b[0m\n\u001b[0;32m     24\u001b[0m \u001b[1;33m\u001b[0m\u001b[0m\n\u001b[0;32m     25\u001b[0m \u001b[0mfig\u001b[0m\u001b[1;33m.\u001b[0m\u001b[0mupdate_layout\u001b[0m\u001b[1;33m(\u001b[0m\u001b[0mp_layout\u001b[0m\u001b[1;33m)\u001b[0m\u001b[1;33m\u001b[0m\u001b[1;33m\u001b[0m\u001b[0m\n\u001b[1;32m---> 26\u001b[1;33m \u001b[0mfig\u001b[0m\u001b[1;33m.\u001b[0m\u001b[0mwrite_image\u001b[0m\u001b[1;33m(\u001b[0m\u001b[1;34m\"ap_16_19.png\"\u001b[0m\u001b[1;33m)\u001b[0m\u001b[1;33m\u001b[0m\u001b[1;33m\u001b[0m\u001b[0m\n\u001b[0m\u001b[0;32m     27\u001b[0m \u001b[0mpio\u001b[0m\u001b[1;33m.\u001b[0m\u001b[0mshow\u001b[0m\u001b[1;33m(\u001b[0m\u001b[0mfig\u001b[0m\u001b[1;33m)\u001b[0m\u001b[1;33m\u001b[0m\u001b[1;33m\u001b[0m\u001b[0m\n\u001b[0;32m     28\u001b[0m \u001b[1;33m\u001b[0m\u001b[0m\n",
      "\u001b[1;32mC:\\ProgramData\\Anaconda3\\envs\\scientific\\lib\\site-packages\\plotly\\basedatatypes.py\u001b[0m in \u001b[0;36mwrite_image\u001b[1;34m(self, *args, **kwargs)\u001b[0m\n\u001b[0;32m   2822\u001b[0m         \u001b[1;32mimport\u001b[0m \u001b[0mplotly\u001b[0m\u001b[1;33m.\u001b[0m\u001b[0mio\u001b[0m \u001b[1;32mas\u001b[0m \u001b[0mpio\u001b[0m\u001b[1;33m\u001b[0m\u001b[1;33m\u001b[0m\u001b[0m\n\u001b[0;32m   2823\u001b[0m \u001b[1;33m\u001b[0m\u001b[0m\n\u001b[1;32m-> 2824\u001b[1;33m         \u001b[1;32mreturn\u001b[0m \u001b[0mpio\u001b[0m\u001b[1;33m.\u001b[0m\u001b[0mwrite_image\u001b[0m\u001b[1;33m(\u001b[0m\u001b[0mself\u001b[0m\u001b[1;33m,\u001b[0m \u001b[1;33m*\u001b[0m\u001b[0margs\u001b[0m\u001b[1;33m,\u001b[0m \u001b[1;33m**\u001b[0m\u001b[0mkwargs\u001b[0m\u001b[1;33m)\u001b[0m\u001b[1;33m\u001b[0m\u001b[1;33m\u001b[0m\u001b[0m\n\u001b[0m\u001b[0;32m   2825\u001b[0m \u001b[1;33m\u001b[0m\u001b[0m\n\u001b[0;32m   2826\u001b[0m     \u001b[1;31m# Static helpers\u001b[0m\u001b[1;33m\u001b[0m\u001b[1;33m\u001b[0m\u001b[1;33m\u001b[0m\u001b[0m\n",
      "\u001b[1;32mC:\\ProgramData\\Anaconda3\\envs\\scientific\\lib\\site-packages\\plotly\\io\\_orca.py\u001b[0m in \u001b[0;36mwrite_image\u001b[1;34m(fig, file, format, scale, width, height, validate)\u001b[0m\n\u001b[0;32m   1764\u001b[0m     \u001b[1;31m# -------------\u001b[0m\u001b[1;33m\u001b[0m\u001b[1;33m\u001b[0m\u001b[1;33m\u001b[0m\u001b[0m\n\u001b[0;32m   1765\u001b[0m     \u001b[1;31m# Do this first so we don't create a file if image conversion fails\u001b[0m\u001b[1;33m\u001b[0m\u001b[1;33m\u001b[0m\u001b[1;33m\u001b[0m\u001b[0m\n\u001b[1;32m-> 1766\u001b[1;33m     img_data = to_image(\n\u001b[0m\u001b[0;32m   1767\u001b[0m         \u001b[0mfig\u001b[0m\u001b[1;33m,\u001b[0m \u001b[0mformat\u001b[0m\u001b[1;33m=\u001b[0m\u001b[0mformat\u001b[0m\u001b[1;33m,\u001b[0m \u001b[0mscale\u001b[0m\u001b[1;33m=\u001b[0m\u001b[0mscale\u001b[0m\u001b[1;33m,\u001b[0m \u001b[0mwidth\u001b[0m\u001b[1;33m=\u001b[0m\u001b[0mwidth\u001b[0m\u001b[1;33m,\u001b[0m \u001b[0mheight\u001b[0m\u001b[1;33m=\u001b[0m\u001b[0mheight\u001b[0m\u001b[1;33m,\u001b[0m \u001b[0mvalidate\u001b[0m\u001b[1;33m=\u001b[0m\u001b[0mvalidate\u001b[0m\u001b[1;33m\u001b[0m\u001b[1;33m\u001b[0m\u001b[0m\n\u001b[0;32m   1768\u001b[0m     )\n",
      "\u001b[1;32mC:\\ProgramData\\Anaconda3\\envs\\scientific\\lib\\site-packages\\plotly\\io\\_orca.py\u001b[0m in \u001b[0;36mto_image\u001b[1;34m(fig, format, width, height, scale, validate)\u001b[0m\n\u001b[0;32m   1530\u001b[0m     \u001b[1;31m# Make sure orca sever is running\u001b[0m\u001b[1;33m\u001b[0m\u001b[1;33m\u001b[0m\u001b[1;33m\u001b[0m\u001b[0m\n\u001b[0;32m   1531\u001b[0m     \u001b[1;31m# -------------------------------\u001b[0m\u001b[1;33m\u001b[0m\u001b[1;33m\u001b[0m\u001b[1;33m\u001b[0m\u001b[0m\n\u001b[1;32m-> 1532\u001b[1;33m     \u001b[0mensure_server\u001b[0m\u001b[1;33m(\u001b[0m\u001b[1;33m)\u001b[0m\u001b[1;33m\u001b[0m\u001b[1;33m\u001b[0m\u001b[0m\n\u001b[0m\u001b[0;32m   1533\u001b[0m \u001b[1;33m\u001b[0m\u001b[0m\n\u001b[0;32m   1534\u001b[0m     \u001b[1;31m# Handle defaults\u001b[0m\u001b[1;33m\u001b[0m\u001b[1;33m\u001b[0m\u001b[1;33m\u001b[0m\u001b[0m\n",
      "\u001b[1;32mC:\\ProgramData\\Anaconda3\\envs\\scientific\\lib\\site-packages\\plotly\\io\\_orca.py\u001b[0m in \u001b[0;36mensure_server\u001b[1;34m()\u001b[0m\n\u001b[0;32m   1359\u001b[0m     \u001b[1;31m# Validate psutil\u001b[0m\u001b[1;33m\u001b[0m\u001b[1;33m\u001b[0m\u001b[1;33m\u001b[0m\u001b[0m\n\u001b[0;32m   1360\u001b[0m     \u001b[1;32mif\u001b[0m \u001b[0mpsutil\u001b[0m \u001b[1;32mis\u001b[0m \u001b[1;32mNone\u001b[0m\u001b[1;33m:\u001b[0m\u001b[1;33m\u001b[0m\u001b[1;33m\u001b[0m\u001b[0m\n\u001b[1;32m-> 1361\u001b[1;33m         raise ValueError(\n\u001b[0m\u001b[0;32m   1362\u001b[0m             \"\"\"\\\n\u001b[0;32m   1363\u001b[0m \u001b[0mImage\u001b[0m \u001b[0mgeneration\u001b[0m \u001b[0mrequires\u001b[0m \u001b[0mthe\u001b[0m \u001b[0mpsutil\u001b[0m \u001b[0mpackage\u001b[0m\u001b[1;33m.\u001b[0m\u001b[1;33m\u001b[0m\u001b[1;33m\u001b[0m\u001b[0m\n",
      "\u001b[1;31mValueError\u001b[0m: Image generation requires the psutil package.\n\nInstall using pip:\n    $ pip install psutil\n\nInstall using conda:\n    $ conda install psutil\n"
     ],
     "ename": "ValueError",
     "evalue": "Image generation requires the psutil package.\n\nInstall using pip:\n    $ pip install psutil\n\nInstall using conda:\n    $ conda install psutil\n",
     "output_type": "error"
    }
   ],
   "source": [
    "# setting up a plot.ly figure\n",
    "fig = go.Figure()\n",
    "\n",
    "# avalprob_1 = {\n",
    "#     \"type:\": \"bar\",\n",
    "#     # \"mode\": \"lines\",\n",
    "#     \"name\": \"Avalanche problem frequency\",\n",
    "#     # \"line\": {\"color\": c_topo},\n",
    "#     # \"fill\": \"tozeroy\",\n",
    "#     \"x\": df['M'],\n",
    "#     \"y\": df['Z']\n",
    "# }\n",
    "\n",
    "fig.add_trace(go.Histogram(histfunc=\"count\",  x=ap_df['avalanche_problem_1_cause_name'], name=\"Main\"))\n",
    "fig.add_trace(go.Histogram(histfunc=\"count\",  x=ap_df['avalanche_problem_2_cause_name'], name=\"Secondary\"))\n",
    "# fig.add_trace(avalprob_1)\n",
    "\n",
    "p_layout = {\"title\": {\"text\": \"Avalanche problems 2016-2019\"},\n",
    "            \"showlegend\": True, \"legend\": {\"orientation\": \"v\"},\n",
    "            \"barmode\": \"stack\"\n",
    "            # \"xaxis\": {\"rangemode\": \"nonnegative\"},\n",
    "            # \"yaxis\": {\"rangemode\": \"nonnegative\"}\n",
    "           }\n",
    "\n",
    "fig.update_layout(p_layout)\n",
    "# fig.write_image(\"ap_16_19.png\")\n",
    "pio.show(fig)\n",
    "\n"
   ],
   "metadata": {
    "collapsed": false,
    "pycharm": {
     "name": "#%%\n",
     "is_executing": false
    }
   }
  },
  {
   "cell_type": "code",
   "execution_count": 54,
   "outputs": [
    {
     "data": {
      "text/plain": "      index  reg_id  region_id            region_name  date_valid  \\\n999     999  110640       3003      Nordenskiöld Land  2017-01-17   \n1015   1015  110656       3029             Indre Sogn  2017-01-17   \n1016   1016  110657       3031                   Voss  2017-01-17   \n1018   1018  110659       3034              Hardanger  2017-01-17   \n1020   1020  110797       3003      Nordenskiöld Land  2017-01-18   \n1036   1036  110813       3029             Indre Sogn  2017-01-18   \n1037   1037  110843       3031                   Voss  2017-01-18   \n1039   1039  110869       3034              Hardanger  2017-01-18   \n1041   1041  110946       3003      Nordenskiöld Land  2017-01-19   \n1057   1057  110962       3029             Indre Sogn  2017-01-19   \n1534   1534  114209       3014  Lofoten og Vesterålen  2017-02-11   \n1535   1535  114210       3015                 Ofoten  2017-02-11   \n1536   1536  114360       3016                 Salten  2017-02-11   \n1537   1537  114212       3017              Svartisen  2017-02-11   \n1549   1549  114379       3007          Vest-Finnmark  2017-02-12   \n1550   1550  114333       3009             Nord-Troms  2017-02-12   \n1551   1551  114394       3010                 Lyngen  2017-02-12   \n1552   1552  114400       3011                 Tromsø  2017-02-12   \n1570   1570  114524       3007          Vest-Finnmark  2017-02-13   \n1571   1571  114475       3009             Nord-Troms  2017-02-13   \n1572   1572  114527       3010                 Lyngen  2017-02-13   \n1573   1573  114529       3011                 Tromsø  2017-02-13   \n1576   1576  114480       3014  Lofoten og Vesterålen  2017-02-13   \n1597   1597  114576       3014  Lofoten og Vesterålen  2017-02-14   \n2085   2085  118065       3015                 Ofoten  2017-03-09   \n2197   2197  119018       3028            Jotunheimen  2017-03-14   \n2218   2218  119047       3028            Jotunheimen  2017-03-15   \n2239   2239  119214       3028            Jotunheimen  2017-03-16   \n2260   2260  119531       3028            Jotunheimen  2017-03-17   \n2302   2302  119964       3028            Jotunheimen  2017-03-19   \n2323   2323  119974       3028            Jotunheimen  2017-03-20   \n2344   2344  120079       3028            Jotunheimen  2017-03-21   \n2366   2366  120242       3028            Jotunheimen  2017-03-22   \n3150   3150  126069       3003      Nordenskiöld Land  2017-04-29   \n3171   3171  126067       3003      Nordenskiöld Land  2017-04-30   \n3192   3192  126100       3003      Nordenskiöld Land  2017-05-01   \n3213   3213  126223       3003      Nordenskiöld Land  2017-05-02   \n3234   3234  126314       3003      Nordenskiöld Land  2017-05-03   \n3255   3255  126404       3003      Nordenskiöld Land  2017-05-04   \n3276   3276  126499       3003      Nordenskiöld Land  2017-05-05   \n3297   3297  126602       3003      Nordenskiöld Land  2017-05-06   \n3318   3318  126806       3003      Nordenskiöld Land  2017-05-07   \n3339   3339  126887       3003      Nordenskiöld Land  2017-05-08   \n3360   3360  126973       3003      Nordenskiöld Land  2017-05-09   \n3381   3381  127062       3003      Nordenskiöld Land  2017-05-10   \n3528   3528  127800       3003      Nordenskiöld Land  2017-05-17   \n3549   3549  127832       3003      Nordenskiöld Land  2017-05-18   \n3570   3570  127845       3003      Nordenskiöld Land  2017-05-19   \n\n      region_type_id region_type_name  utm_east  utm_north  utm_zone  ...  \\\n999               10                A    520332    8663904        33  ...   \n1015              10                A     96001    6816985        33  ...   \n1016              10                A     28607    6779054        33  ...   \n1018              10                A     62473    6692016        33  ...   \n1020              10                A    520332    8663904        33  ...   \n1036              10                A     96001    6816985        33  ...   \n1037              10                A     28607    6779054        33  ...   \n1039              10                A     62473    6692016        33  ...   \n1041              10                A    520332    8663904        33  ...   \n1057              10                A     96001    6816985        33  ...   \n1534              10                A    527125    7620981        33  ...   \n1535              10                A    602309    7578309        33  ...   \n1536              10                A    533221    7497029        33  ...   \n1537              10                A    464133    7381882        33  ...   \n1549              10                A    802123    7794717        33  ...   \n1550              10                A    750984    7742562        33  ...   \n1551              10                A    692056    7719872        33  ...   \n1552              10                A    656496    7764237        33  ...   \n1570              10                A    802123    7794717        33  ...   \n1571              10                A    750984    7742562        33  ...   \n1572              10                A    692056    7719872        33  ...   \n1573              10                A    656496    7764237        33  ...   \n1576              10                A    527125    7620981        33  ...   \n1597              10                A    527125    7620981        33  ...   \n2085              10                A    602309    7578309        33  ...   \n2197              10                A    155607    6844417        33  ...   \n2218              10                A    155607    6844417        33  ...   \n2239              10                A    155607    6844417        33  ...   \n2260              10                A    155607    6844417        33  ...   \n2302              10                A    155607    6844417        33  ...   \n2323              10                A    155607    6844417        33  ...   \n2344              10                A    155607    6844417        33  ...   \n2366              10                A    155607    6844417        33  ...   \n3150              10                A    520332    8663904        33  ...   \n3171              10                A    520332    8663904        33  ...   \n3192              10                A    520332    8663904        33  ...   \n3213              10                A    520332    8663904        33  ...   \n3234              10                A    520332    8663904        33  ...   \n3255              10                A    520332    8663904        33  ...   \n3276              10                A    520332    8663904        33  ...   \n3297              10                A    520332    8663904        33  ...   \n3318              10                A    520332    8663904        33  ...   \n3339              10                A    520332    8663904        33  ...   \n3360              10                A    520332    8663904        33  ...   \n3381              10                A    520332    8663904        33  ...   \n3528              10                A    520332    8663904        33  ...   \n3549              10                A    520332    8663904        33  ...   \n3570              10                A    520332    8663904        33  ...   \n\n     avalanche_problem_3_trigger_simple_id  \\\n999                                      0   \n1015                                     0   \n1016                                     0   \n1018                                     0   \n1020                                     0   \n1036                                     0   \n1037                                     0   \n1039                                     0   \n1041                                     0   \n1057                                     0   \n1534                                     0   \n1535                                     0   \n1536                                     0   \n1537                                     0   \n1549                                     0   \n1550                                     0   \n1551                                     0   \n1552                                     0   \n1570                                     0   \n1571                                     0   \n1572                                     0   \n1573                                     0   \n1576                                     0   \n1597                                     0   \n2085                                     0   \n2197                                    10   \n2218                                    10   \n2239                                    21   \n2260                                    21   \n2302                                     0   \n2323                                     0   \n2344                                     0   \n2366                                     0   \n3150                                    10   \n3171                                    10   \n3192                                    10   \n3213                                    10   \n3234                                     0   \n3255                                     0   \n3276                                     0   \n3297                                     0   \n3318                                     0   \n3339                                     0   \n3360                                     0   \n3381                                     0   \n3528                                    21   \n3549                                    21   \n3570                                    21   \n\n     avalanche_problem_3_trigger_simple_name  \\\n999                                Not given   \n1015                               Not given   \n1016                               Not given   \n1018                               Not given   \n1020                               Not given   \n1036                               Not given   \n1037                               Not given   \n1039                               Not given   \n1041                               Not given   \n1057                               Not given   \n1534                               Not given   \n1535                               Not given   \n1536                               Not given   \n1537                               Not given   \n1549                               Not given   \n1550                               Not given   \n1551                               Not given   \n1552                               Not given   \n1570                               Not given   \n1571                               Not given   \n1572                               Not given   \n1573                               Not given   \n1576                               Not given   \n1597                               Not given   \n2085                               Not given   \n2197                 Stor tilleggsbelastning   \n2218                 Stor tilleggsbelastning   \n2239                Liten tilleggsbelastning   \n2260                Liten tilleggsbelastning   \n2302                               Not given   \n2323                               Not given   \n2344                               Not given   \n2366                               Not given   \n3150                 Stor tilleggsbelastning   \n3171                 Stor tilleggsbelastning   \n3192                 Stor tilleggsbelastning   \n3213                 Stor tilleggsbelastning   \n3234                               Not given   \n3255                               Not given   \n3276                               Not given   \n3297                               Not given   \n3318                               Not given   \n3339                               Not given   \n3360                               Not given   \n3381                               Not given   \n3528                Liten tilleggsbelastning   \n3549                Liten tilleggsbelastning   \n3570                Liten tilleggsbelastning   \n\n     avalanche_problem_3_distribution_id  \\\n999                                    0   \n1015                                   0   \n1016                                   0   \n1018                                   0   \n1020                                   0   \n1036                                   0   \n1037                                   0   \n1039                                   0   \n1041                                   0   \n1057                                   0   \n1534                                   0   \n1535                                   0   \n1536                                   0   \n1537                                   0   \n1549                                   0   \n1550                                   0   \n1551                                   0   \n1552                                   0   \n1570                                   0   \n1571                                   0   \n1572                                   0   \n1573                                   0   \n1576                                   0   \n1597                                   0   \n2085                                   0   \n2197                                   2   \n2218                                   2   \n2239                                   3   \n2260                                   2   \n2302                                   0   \n2323                                   0   \n2344                                   0   \n2366                                   0   \n3150                                   2   \n3171                                   2   \n3192                                   2   \n3213                                   2   \n3234                                   0   \n3255                                   0   \n3276                                   0   \n3297                                   0   \n3318                                   0   \n3339                                   0   \n3360                                   0   \n3381                                   0   \n3528                                   2   \n3549                                   2   \n3570                                   2   \n\n      avalanche_problem_3_distribution_name  \\\n999                               Not given   \n1015                              Not given   \n1016                              Not given   \n1018                              Not given   \n1020                              Not given   \n1036                              Not given   \n1037                              Not given   \n1039                              Not given   \n1041                              Not given   \n1057                              Not given   \n1534                              Not given   \n1535                              Not given   \n1536                              Not given   \n1537                              Not given   \n1549                              Not given   \n1550                              Not given   \n1551                              Not given   \n1552                              Not given   \n1570                              Not given   \n1571                              Not given   \n1572                              Not given   \n1573                              Not given   \n1576                              Not given   \n1597                              Not given   \n2085                              Not given   \n2197                       Noen bratte heng   \n2218                       Noen bratte heng   \n2239                      Mange bratte heng   \n2260                       Noen bratte heng   \n2302                              Not given   \n2323                              Not given   \n2344                              Not given   \n2366                              Not given   \n3150                       Noen bratte heng   \n3171                       Noen bratte heng   \n3192                       Noen bratte heng   \n3213                       Noen bratte heng   \n3234                              Not given   \n3255                              Not given   \n3276                              Not given   \n3297                              Not given   \n3318                              Not given   \n3339                              Not given   \n3360                              Not given   \n3381                              Not given   \n3528                       Noen bratte heng   \n3549                       Noen bratte heng   \n3570                       Noen bratte heng   \n\n     avalanche_problem_3_exposed_height_fill  \\\n999                                        0   \n1015                                       0   \n1016                                       0   \n1018                                       0   \n1020                                       0   \n1036                                       0   \n1037                                       0   \n1039                                       0   \n1041                                       0   \n1057                                       0   \n1534                                       0   \n1535                                       0   \n1536                                       0   \n1537                                       0   \n1549                                       0   \n1550                                       0   \n1551                                       0   \n1552                                       0   \n1570                                       0   \n1571                                       0   \n1572                                       0   \n1573                                       0   \n1576                                       0   \n1597                                       0   \n2085                                       0   \n2197                                       1   \n2218                                       1   \n2239                                       1   \n2260                                       1   \n2302                                       0   \n2323                                       0   \n2344                                       0   \n2366                                       0   \n3150                                       1   \n3171                                       1   \n3192                                       1   \n3213                                       1   \n3234                                       0   \n3255                                       0   \n3276                                       0   \n3297                                       0   \n3318                                       0   \n3339                                       0   \n3360                                       0   \n3381                                       0   \n3528                                       1   \n3549                                       1   \n3570                                       1   \n\n     avalanche_problem_3_exposed_height_1  \\\n999                                     0   \n1015                                    0   \n1016                                    0   \n1018                                    0   \n1020                                    0   \n1036                                    0   \n1037                                    0   \n1039                                    0   \n1041                                    0   \n1057                                    0   \n1534                                    0   \n1535                                    0   \n1536                                    0   \n1537                                    0   \n1549                                    0   \n1550                                    0   \n1551                                    0   \n1552                                    0   \n1570                                    0   \n1571                                    0   \n1572                                    0   \n1573                                    0   \n1576                                    0   \n1597                                    0   \n2085                                    0   \n2197                                 1000   \n2218                                  900   \n2239                                  900   \n2260                                 1200   \n2302                                    0   \n2323                                    0   \n2344                                    0   \n2366                                    0   \n3150                                    0   \n3171                                    0   \n3192                                    0   \n3213                                    0   \n3234                                    0   \n3255                                    0   \n3276                                    0   \n3297                                    0   \n3318                                    0   \n3339                                    0   \n3360                                    0   \n3381                                    0   \n3528                                  200   \n3549                                  200   \n3570                                  200   \n\n     avalanche_problem_3_exposed_height_2  \\\n999                                     0   \n1015                                    0   \n1016                                    0   \n1018                                    0   \n1020                                    0   \n1036                                    0   \n1037                                    0   \n1039                                    0   \n1041                                    0   \n1057                                    0   \n1534                                    0   \n1535                                    0   \n1536                                    0   \n1537                                    0   \n1549                                    0   \n1550                                    0   \n1551                                    0   \n1552                                    0   \n1570                                    0   \n1571                                    0   \n1572                                    0   \n1573                                    0   \n1576                                    0   \n1597                                    0   \n2085                                    0   \n2197                                    0   \n2218                                    0   \n2239                                    0   \n2260                                    0   \n2302                                    0   \n2323                                    0   \n2344                                    0   \n2366                                    0   \n3150                                    0   \n3171                                    0   \n3192                                    0   \n3213                                    0   \n3234                                    0   \n3255                                    0   \n3276                                    0   \n3297                                    0   \n3318                                    0   \n3339                                    0   \n3360                                    0   \n3381                                    0   \n3528                                    0   \n3549                                    0   \n3570                                    0   \n\n     avalanche_problem_3_valid_expositions  \\\n999                                      0   \n1015                                     0   \n1016                                     0   \n1018                                     0   \n1020                                     0   \n1036                                     0   \n1037                                     0   \n1039                                     0   \n1041                                     0   \n1057                                     0   \n1534                                     0   \n1535                                     0   \n1536                                     0   \n1537                                     0   \n1549                                     0   \n1550                                     0   \n1551                                     0   \n1552                                     0   \n1570                                     0   \n1571                                     0   \n1572                                     0   \n1573                                     0   \n1576                                     0   \n1597                                     0   \n2085                                     0   \n2197                               1110000   \n2218                               1110000   \n2239                               1110000   \n2260                               1110000   \n2302                                     0   \n2323                                     0   \n2344                                     0   \n2366                                     0   \n3150                              11111111   \n3171                              11111111   \n3192                              11111111   \n3213                              11111111   \n3234                                     0   \n3255                                     0   \n3276                                     0   \n3297                                     0   \n3318                                     0   \n3339                                     0   \n3360                                     0   \n3381                                     0   \n3528                              11111000   \n3549                              11111000   \n3570                              11111000   \n\n                             avalanche_problem_3_advice  occurrence  \n999                                           Not given           1  \n1015                                          Not given           1  \n1016                                          Not given           1  \n1018                                          Not given           1  \n1020                                          Not given           1  \n1036                                          Not given           1  \n1037                                          Not given           1  \n1039                                          Not given           1  \n1041                                          Not given           1  \n1057                                          Not given           1  \n1534                                          Not given           1  \n1535                                          Not given           1  \n1536                                          Not given           1  \n1537                                          Not given           1  \n1549                                          Not given           1  \n1550                                          Not given           1  \n1551                                          Not given           1  \n1552                                          Not given           1  \n1570                                          Not given           1  \n1571                                          Not given           1  \n1572                                          Not given           1  \n1573                                          Not given           1  \n1576                                          Not given           1  \n1597                                          Not given           1  \n2085                                          Not given           1  \n2197  Unngå ferdsel i skredterreng og i utløpsområde...           1  \n2218  Unngå ferdsel i skredterreng og i utløpsområde...           1  \n2239  Unngå bratte heng og terrengfeller under og et...           1  \n2260  Unngå ferdsel i skredterreng og i utløpsområde...           1  \n2302                                          Not given           1  \n2323                                          Not given           1  \n2344                                          Not given           1  \n2366                                          Not given           1  \n3150  Unngå ferdsel i skredterreng og i utløpsområde...           1  \n3171  Unngå ferdsel i skredterreng og i utløpsområde...           1  \n3192  Unngå ferdsel i skredterreng og i utløpsområde...           1  \n3213  Hold god avstand til hverandre ved ferdsel i s...           1  \n3234                                          Not given           1  \n3255                                          Not given           1  \n3276                                          Not given           1  \n3297                                          Not given           1  \n3318                                          Not given           1  \n3339                                          Not given           1  \n3360                                          Not given           1  \n3381                                          Not given           1  \n3528  Vær forsiktig i områder brattere enn 30 grader...           1  \n3549  Vær forsiktig i områder brattere enn 30 grader...           1  \n3570  Vær forsiktig i områder brattere enn 30 grader...           1  \n\n[48 rows x 104 columns]",
      "text/html": "<div>\n<style scoped>\n    .dataframe tbody tr th:only-of-type {\n        vertical-align: middle;\n    }\n\n    .dataframe tbody tr th {\n        vertical-align: top;\n    }\n\n    .dataframe thead th {\n        text-align: right;\n    }\n</style>\n<table border=\"1\" class=\"dataframe\">\n  <thead>\n    <tr style=\"text-align: right;\">\n      <th></th>\n      <th>index</th>\n      <th>reg_id</th>\n      <th>region_id</th>\n      <th>region_name</th>\n      <th>date_valid</th>\n      <th>region_type_id</th>\n      <th>region_type_name</th>\n      <th>utm_east</th>\n      <th>utm_north</th>\n      <th>utm_zone</th>\n      <th>...</th>\n      <th>avalanche_problem_3_trigger_simple_id</th>\n      <th>avalanche_problem_3_trigger_simple_name</th>\n      <th>avalanche_problem_3_distribution_id</th>\n      <th>avalanche_problem_3_distribution_name</th>\n      <th>avalanche_problem_3_exposed_height_fill</th>\n      <th>avalanche_problem_3_exposed_height_1</th>\n      <th>avalanche_problem_3_exposed_height_2</th>\n      <th>avalanche_problem_3_valid_expositions</th>\n      <th>avalanche_problem_3_advice</th>\n      <th>occurrence</th>\n    </tr>\n  </thead>\n  <tbody>\n    <tr>\n      <th>999</th>\n      <td>999</td>\n      <td>110640</td>\n      <td>3003</td>\n      <td>Nordenskiöld Land</td>\n      <td>2017-01-17</td>\n      <td>10</td>\n      <td>A</td>\n      <td>520332</td>\n      <td>8663904</td>\n      <td>33</td>\n      <td>...</td>\n      <td>0</td>\n      <td>Not given</td>\n      <td>0</td>\n      <td>Not given</td>\n      <td>0</td>\n      <td>0</td>\n      <td>0</td>\n      <td>0</td>\n      <td>Not given</td>\n      <td>1</td>\n    </tr>\n    <tr>\n      <th>1015</th>\n      <td>1015</td>\n      <td>110656</td>\n      <td>3029</td>\n      <td>Indre Sogn</td>\n      <td>2017-01-17</td>\n      <td>10</td>\n      <td>A</td>\n      <td>96001</td>\n      <td>6816985</td>\n      <td>33</td>\n      <td>...</td>\n      <td>0</td>\n      <td>Not given</td>\n      <td>0</td>\n      <td>Not given</td>\n      <td>0</td>\n      <td>0</td>\n      <td>0</td>\n      <td>0</td>\n      <td>Not given</td>\n      <td>1</td>\n    </tr>\n    <tr>\n      <th>1016</th>\n      <td>1016</td>\n      <td>110657</td>\n      <td>3031</td>\n      <td>Voss</td>\n      <td>2017-01-17</td>\n      <td>10</td>\n      <td>A</td>\n      <td>28607</td>\n      <td>6779054</td>\n      <td>33</td>\n      <td>...</td>\n      <td>0</td>\n      <td>Not given</td>\n      <td>0</td>\n      <td>Not given</td>\n      <td>0</td>\n      <td>0</td>\n      <td>0</td>\n      <td>0</td>\n      <td>Not given</td>\n      <td>1</td>\n    </tr>\n    <tr>\n      <th>1018</th>\n      <td>1018</td>\n      <td>110659</td>\n      <td>3034</td>\n      <td>Hardanger</td>\n      <td>2017-01-17</td>\n      <td>10</td>\n      <td>A</td>\n      <td>62473</td>\n      <td>6692016</td>\n      <td>33</td>\n      <td>...</td>\n      <td>0</td>\n      <td>Not given</td>\n      <td>0</td>\n      <td>Not given</td>\n      <td>0</td>\n      <td>0</td>\n      <td>0</td>\n      <td>0</td>\n      <td>Not given</td>\n      <td>1</td>\n    </tr>\n    <tr>\n      <th>1020</th>\n      <td>1020</td>\n      <td>110797</td>\n      <td>3003</td>\n      <td>Nordenskiöld Land</td>\n      <td>2017-01-18</td>\n      <td>10</td>\n      <td>A</td>\n      <td>520332</td>\n      <td>8663904</td>\n      <td>33</td>\n      <td>...</td>\n      <td>0</td>\n      <td>Not given</td>\n      <td>0</td>\n      <td>Not given</td>\n      <td>0</td>\n      <td>0</td>\n      <td>0</td>\n      <td>0</td>\n      <td>Not given</td>\n      <td>1</td>\n    </tr>\n    <tr>\n      <th>1036</th>\n      <td>1036</td>\n      <td>110813</td>\n      <td>3029</td>\n      <td>Indre Sogn</td>\n      <td>2017-01-18</td>\n      <td>10</td>\n      <td>A</td>\n      <td>96001</td>\n      <td>6816985</td>\n      <td>33</td>\n      <td>...</td>\n      <td>0</td>\n      <td>Not given</td>\n      <td>0</td>\n      <td>Not given</td>\n      <td>0</td>\n      <td>0</td>\n      <td>0</td>\n      <td>0</td>\n      <td>Not given</td>\n      <td>1</td>\n    </tr>\n    <tr>\n      <th>1037</th>\n      <td>1037</td>\n      <td>110843</td>\n      <td>3031</td>\n      <td>Voss</td>\n      <td>2017-01-18</td>\n      <td>10</td>\n      <td>A</td>\n      <td>28607</td>\n      <td>6779054</td>\n      <td>33</td>\n      <td>...</td>\n      <td>0</td>\n      <td>Not given</td>\n      <td>0</td>\n      <td>Not given</td>\n      <td>0</td>\n      <td>0</td>\n      <td>0</td>\n      <td>0</td>\n      <td>Not given</td>\n      <td>1</td>\n    </tr>\n    <tr>\n      <th>1039</th>\n      <td>1039</td>\n      <td>110869</td>\n      <td>3034</td>\n      <td>Hardanger</td>\n      <td>2017-01-18</td>\n      <td>10</td>\n      <td>A</td>\n      <td>62473</td>\n      <td>6692016</td>\n      <td>33</td>\n      <td>...</td>\n      <td>0</td>\n      <td>Not given</td>\n      <td>0</td>\n      <td>Not given</td>\n      <td>0</td>\n      <td>0</td>\n      <td>0</td>\n      <td>0</td>\n      <td>Not given</td>\n      <td>1</td>\n    </tr>\n    <tr>\n      <th>1041</th>\n      <td>1041</td>\n      <td>110946</td>\n      <td>3003</td>\n      <td>Nordenskiöld Land</td>\n      <td>2017-01-19</td>\n      <td>10</td>\n      <td>A</td>\n      <td>520332</td>\n      <td>8663904</td>\n      <td>33</td>\n      <td>...</td>\n      <td>0</td>\n      <td>Not given</td>\n      <td>0</td>\n      <td>Not given</td>\n      <td>0</td>\n      <td>0</td>\n      <td>0</td>\n      <td>0</td>\n      <td>Not given</td>\n      <td>1</td>\n    </tr>\n    <tr>\n      <th>1057</th>\n      <td>1057</td>\n      <td>110962</td>\n      <td>3029</td>\n      <td>Indre Sogn</td>\n      <td>2017-01-19</td>\n      <td>10</td>\n      <td>A</td>\n      <td>96001</td>\n      <td>6816985</td>\n      <td>33</td>\n      <td>...</td>\n      <td>0</td>\n      <td>Not given</td>\n      <td>0</td>\n      <td>Not given</td>\n      <td>0</td>\n      <td>0</td>\n      <td>0</td>\n      <td>0</td>\n      <td>Not given</td>\n      <td>1</td>\n    </tr>\n    <tr>\n      <th>1534</th>\n      <td>1534</td>\n      <td>114209</td>\n      <td>3014</td>\n      <td>Lofoten og Vesterålen</td>\n      <td>2017-02-11</td>\n      <td>10</td>\n      <td>A</td>\n      <td>527125</td>\n      <td>7620981</td>\n      <td>33</td>\n      <td>...</td>\n      <td>0</td>\n      <td>Not given</td>\n      <td>0</td>\n      <td>Not given</td>\n      <td>0</td>\n      <td>0</td>\n      <td>0</td>\n      <td>0</td>\n      <td>Not given</td>\n      <td>1</td>\n    </tr>\n    <tr>\n      <th>1535</th>\n      <td>1535</td>\n      <td>114210</td>\n      <td>3015</td>\n      <td>Ofoten</td>\n      <td>2017-02-11</td>\n      <td>10</td>\n      <td>A</td>\n      <td>602309</td>\n      <td>7578309</td>\n      <td>33</td>\n      <td>...</td>\n      <td>0</td>\n      <td>Not given</td>\n      <td>0</td>\n      <td>Not given</td>\n      <td>0</td>\n      <td>0</td>\n      <td>0</td>\n      <td>0</td>\n      <td>Not given</td>\n      <td>1</td>\n    </tr>\n    <tr>\n      <th>1536</th>\n      <td>1536</td>\n      <td>114360</td>\n      <td>3016</td>\n      <td>Salten</td>\n      <td>2017-02-11</td>\n      <td>10</td>\n      <td>A</td>\n      <td>533221</td>\n      <td>7497029</td>\n      <td>33</td>\n      <td>...</td>\n      <td>0</td>\n      <td>Not given</td>\n      <td>0</td>\n      <td>Not given</td>\n      <td>0</td>\n      <td>0</td>\n      <td>0</td>\n      <td>0</td>\n      <td>Not given</td>\n      <td>1</td>\n    </tr>\n    <tr>\n      <th>1537</th>\n      <td>1537</td>\n      <td>114212</td>\n      <td>3017</td>\n      <td>Svartisen</td>\n      <td>2017-02-11</td>\n      <td>10</td>\n      <td>A</td>\n      <td>464133</td>\n      <td>7381882</td>\n      <td>33</td>\n      <td>...</td>\n      <td>0</td>\n      <td>Not given</td>\n      <td>0</td>\n      <td>Not given</td>\n      <td>0</td>\n      <td>0</td>\n      <td>0</td>\n      <td>0</td>\n      <td>Not given</td>\n      <td>1</td>\n    </tr>\n    <tr>\n      <th>1549</th>\n      <td>1549</td>\n      <td>114379</td>\n      <td>3007</td>\n      <td>Vest-Finnmark</td>\n      <td>2017-02-12</td>\n      <td>10</td>\n      <td>A</td>\n      <td>802123</td>\n      <td>7794717</td>\n      <td>33</td>\n      <td>...</td>\n      <td>0</td>\n      <td>Not given</td>\n      <td>0</td>\n      <td>Not given</td>\n      <td>0</td>\n      <td>0</td>\n      <td>0</td>\n      <td>0</td>\n      <td>Not given</td>\n      <td>1</td>\n    </tr>\n    <tr>\n      <th>1550</th>\n      <td>1550</td>\n      <td>114333</td>\n      <td>3009</td>\n      <td>Nord-Troms</td>\n      <td>2017-02-12</td>\n      <td>10</td>\n      <td>A</td>\n      <td>750984</td>\n      <td>7742562</td>\n      <td>33</td>\n      <td>...</td>\n      <td>0</td>\n      <td>Not given</td>\n      <td>0</td>\n      <td>Not given</td>\n      <td>0</td>\n      <td>0</td>\n      <td>0</td>\n      <td>0</td>\n      <td>Not given</td>\n      <td>1</td>\n    </tr>\n    <tr>\n      <th>1551</th>\n      <td>1551</td>\n      <td>114394</td>\n      <td>3010</td>\n      <td>Lyngen</td>\n      <td>2017-02-12</td>\n      <td>10</td>\n      <td>A</td>\n      <td>692056</td>\n      <td>7719872</td>\n      <td>33</td>\n      <td>...</td>\n      <td>0</td>\n      <td>Not given</td>\n      <td>0</td>\n      <td>Not given</td>\n      <td>0</td>\n      <td>0</td>\n      <td>0</td>\n      <td>0</td>\n      <td>Not given</td>\n      <td>1</td>\n    </tr>\n    <tr>\n      <th>1552</th>\n      <td>1552</td>\n      <td>114400</td>\n      <td>3011</td>\n      <td>Tromsø</td>\n      <td>2017-02-12</td>\n      <td>10</td>\n      <td>A</td>\n      <td>656496</td>\n      <td>7764237</td>\n      <td>33</td>\n      <td>...</td>\n      <td>0</td>\n      <td>Not given</td>\n      <td>0</td>\n      <td>Not given</td>\n      <td>0</td>\n      <td>0</td>\n      <td>0</td>\n      <td>0</td>\n      <td>Not given</td>\n      <td>1</td>\n    </tr>\n    <tr>\n      <th>1570</th>\n      <td>1570</td>\n      <td>114524</td>\n      <td>3007</td>\n      <td>Vest-Finnmark</td>\n      <td>2017-02-13</td>\n      <td>10</td>\n      <td>A</td>\n      <td>802123</td>\n      <td>7794717</td>\n      <td>33</td>\n      <td>...</td>\n      <td>0</td>\n      <td>Not given</td>\n      <td>0</td>\n      <td>Not given</td>\n      <td>0</td>\n      <td>0</td>\n      <td>0</td>\n      <td>0</td>\n      <td>Not given</td>\n      <td>1</td>\n    </tr>\n    <tr>\n      <th>1571</th>\n      <td>1571</td>\n      <td>114475</td>\n      <td>3009</td>\n      <td>Nord-Troms</td>\n      <td>2017-02-13</td>\n      <td>10</td>\n      <td>A</td>\n      <td>750984</td>\n      <td>7742562</td>\n      <td>33</td>\n      <td>...</td>\n      <td>0</td>\n      <td>Not given</td>\n      <td>0</td>\n      <td>Not given</td>\n      <td>0</td>\n      <td>0</td>\n      <td>0</td>\n      <td>0</td>\n      <td>Not given</td>\n      <td>1</td>\n    </tr>\n    <tr>\n      <th>1572</th>\n      <td>1572</td>\n      <td>114527</td>\n      <td>3010</td>\n      <td>Lyngen</td>\n      <td>2017-02-13</td>\n      <td>10</td>\n      <td>A</td>\n      <td>692056</td>\n      <td>7719872</td>\n      <td>33</td>\n      <td>...</td>\n      <td>0</td>\n      <td>Not given</td>\n      <td>0</td>\n      <td>Not given</td>\n      <td>0</td>\n      <td>0</td>\n      <td>0</td>\n      <td>0</td>\n      <td>Not given</td>\n      <td>1</td>\n    </tr>\n    <tr>\n      <th>1573</th>\n      <td>1573</td>\n      <td>114529</td>\n      <td>3011</td>\n      <td>Tromsø</td>\n      <td>2017-02-13</td>\n      <td>10</td>\n      <td>A</td>\n      <td>656496</td>\n      <td>7764237</td>\n      <td>33</td>\n      <td>...</td>\n      <td>0</td>\n      <td>Not given</td>\n      <td>0</td>\n      <td>Not given</td>\n      <td>0</td>\n      <td>0</td>\n      <td>0</td>\n      <td>0</td>\n      <td>Not given</td>\n      <td>1</td>\n    </tr>\n    <tr>\n      <th>1576</th>\n      <td>1576</td>\n      <td>114480</td>\n      <td>3014</td>\n      <td>Lofoten og Vesterålen</td>\n      <td>2017-02-13</td>\n      <td>10</td>\n      <td>A</td>\n      <td>527125</td>\n      <td>7620981</td>\n      <td>33</td>\n      <td>...</td>\n      <td>0</td>\n      <td>Not given</td>\n      <td>0</td>\n      <td>Not given</td>\n      <td>0</td>\n      <td>0</td>\n      <td>0</td>\n      <td>0</td>\n      <td>Not given</td>\n      <td>1</td>\n    </tr>\n    <tr>\n      <th>1597</th>\n      <td>1597</td>\n      <td>114576</td>\n      <td>3014</td>\n      <td>Lofoten og Vesterålen</td>\n      <td>2017-02-14</td>\n      <td>10</td>\n      <td>A</td>\n      <td>527125</td>\n      <td>7620981</td>\n      <td>33</td>\n      <td>...</td>\n      <td>0</td>\n      <td>Not given</td>\n      <td>0</td>\n      <td>Not given</td>\n      <td>0</td>\n      <td>0</td>\n      <td>0</td>\n      <td>0</td>\n      <td>Not given</td>\n      <td>1</td>\n    </tr>\n    <tr>\n      <th>2085</th>\n      <td>2085</td>\n      <td>118065</td>\n      <td>3015</td>\n      <td>Ofoten</td>\n      <td>2017-03-09</td>\n      <td>10</td>\n      <td>A</td>\n      <td>602309</td>\n      <td>7578309</td>\n      <td>33</td>\n      <td>...</td>\n      <td>0</td>\n      <td>Not given</td>\n      <td>0</td>\n      <td>Not given</td>\n      <td>0</td>\n      <td>0</td>\n      <td>0</td>\n      <td>0</td>\n      <td>Not given</td>\n      <td>1</td>\n    </tr>\n    <tr>\n      <th>2197</th>\n      <td>2197</td>\n      <td>119018</td>\n      <td>3028</td>\n      <td>Jotunheimen</td>\n      <td>2017-03-14</td>\n      <td>10</td>\n      <td>A</td>\n      <td>155607</td>\n      <td>6844417</td>\n      <td>33</td>\n      <td>...</td>\n      <td>10</td>\n      <td>Stor tilleggsbelastning</td>\n      <td>2</td>\n      <td>Noen bratte heng</td>\n      <td>1</td>\n      <td>1000</td>\n      <td>0</td>\n      <td>1110000</td>\n      <td>Unngå ferdsel i skredterreng og i utløpsområde...</td>\n      <td>1</td>\n    </tr>\n    <tr>\n      <th>2218</th>\n      <td>2218</td>\n      <td>119047</td>\n      <td>3028</td>\n      <td>Jotunheimen</td>\n      <td>2017-03-15</td>\n      <td>10</td>\n      <td>A</td>\n      <td>155607</td>\n      <td>6844417</td>\n      <td>33</td>\n      <td>...</td>\n      <td>10</td>\n      <td>Stor tilleggsbelastning</td>\n      <td>2</td>\n      <td>Noen bratte heng</td>\n      <td>1</td>\n      <td>900</td>\n      <td>0</td>\n      <td>1110000</td>\n      <td>Unngå ferdsel i skredterreng og i utløpsområde...</td>\n      <td>1</td>\n    </tr>\n    <tr>\n      <th>2239</th>\n      <td>2239</td>\n      <td>119214</td>\n      <td>3028</td>\n      <td>Jotunheimen</td>\n      <td>2017-03-16</td>\n      <td>10</td>\n      <td>A</td>\n      <td>155607</td>\n      <td>6844417</td>\n      <td>33</td>\n      <td>...</td>\n      <td>21</td>\n      <td>Liten tilleggsbelastning</td>\n      <td>3</td>\n      <td>Mange bratte heng</td>\n      <td>1</td>\n      <td>900</td>\n      <td>0</td>\n      <td>1110000</td>\n      <td>Unngå bratte heng og terrengfeller under og et...</td>\n      <td>1</td>\n    </tr>\n    <tr>\n      <th>2260</th>\n      <td>2260</td>\n      <td>119531</td>\n      <td>3028</td>\n      <td>Jotunheimen</td>\n      <td>2017-03-17</td>\n      <td>10</td>\n      <td>A</td>\n      <td>155607</td>\n      <td>6844417</td>\n      <td>33</td>\n      <td>...</td>\n      <td>21</td>\n      <td>Liten tilleggsbelastning</td>\n      <td>2</td>\n      <td>Noen bratte heng</td>\n      <td>1</td>\n      <td>1200</td>\n      <td>0</td>\n      <td>1110000</td>\n      <td>Unngå ferdsel i skredterreng og i utløpsområde...</td>\n      <td>1</td>\n    </tr>\n    <tr>\n      <th>2302</th>\n      <td>2302</td>\n      <td>119964</td>\n      <td>3028</td>\n      <td>Jotunheimen</td>\n      <td>2017-03-19</td>\n      <td>10</td>\n      <td>A</td>\n      <td>155607</td>\n      <td>6844417</td>\n      <td>33</td>\n      <td>...</td>\n      <td>0</td>\n      <td>Not given</td>\n      <td>0</td>\n      <td>Not given</td>\n      <td>0</td>\n      <td>0</td>\n      <td>0</td>\n      <td>0</td>\n      <td>Not given</td>\n      <td>1</td>\n    </tr>\n    <tr>\n      <th>2323</th>\n      <td>2323</td>\n      <td>119974</td>\n      <td>3028</td>\n      <td>Jotunheimen</td>\n      <td>2017-03-20</td>\n      <td>10</td>\n      <td>A</td>\n      <td>155607</td>\n      <td>6844417</td>\n      <td>33</td>\n      <td>...</td>\n      <td>0</td>\n      <td>Not given</td>\n      <td>0</td>\n      <td>Not given</td>\n      <td>0</td>\n      <td>0</td>\n      <td>0</td>\n      <td>0</td>\n      <td>Not given</td>\n      <td>1</td>\n    </tr>\n    <tr>\n      <th>2344</th>\n      <td>2344</td>\n      <td>120079</td>\n      <td>3028</td>\n      <td>Jotunheimen</td>\n      <td>2017-03-21</td>\n      <td>10</td>\n      <td>A</td>\n      <td>155607</td>\n      <td>6844417</td>\n      <td>33</td>\n      <td>...</td>\n      <td>0</td>\n      <td>Not given</td>\n      <td>0</td>\n      <td>Not given</td>\n      <td>0</td>\n      <td>0</td>\n      <td>0</td>\n      <td>0</td>\n      <td>Not given</td>\n      <td>1</td>\n    </tr>\n    <tr>\n      <th>2366</th>\n      <td>2366</td>\n      <td>120242</td>\n      <td>3028</td>\n      <td>Jotunheimen</td>\n      <td>2017-03-22</td>\n      <td>10</td>\n      <td>A</td>\n      <td>155607</td>\n      <td>6844417</td>\n      <td>33</td>\n      <td>...</td>\n      <td>0</td>\n      <td>Not given</td>\n      <td>0</td>\n      <td>Not given</td>\n      <td>0</td>\n      <td>0</td>\n      <td>0</td>\n      <td>0</td>\n      <td>Not given</td>\n      <td>1</td>\n    </tr>\n    <tr>\n      <th>3150</th>\n      <td>3150</td>\n      <td>126069</td>\n      <td>3003</td>\n      <td>Nordenskiöld Land</td>\n      <td>2017-04-29</td>\n      <td>10</td>\n      <td>A</td>\n      <td>520332</td>\n      <td>8663904</td>\n      <td>33</td>\n      <td>...</td>\n      <td>10</td>\n      <td>Stor tilleggsbelastning</td>\n      <td>2</td>\n      <td>Noen bratte heng</td>\n      <td>1</td>\n      <td>0</td>\n      <td>0</td>\n      <td>11111111</td>\n      <td>Unngå ferdsel i skredterreng og i utløpsområde...</td>\n      <td>1</td>\n    </tr>\n    <tr>\n      <th>3171</th>\n      <td>3171</td>\n      <td>126067</td>\n      <td>3003</td>\n      <td>Nordenskiöld Land</td>\n      <td>2017-04-30</td>\n      <td>10</td>\n      <td>A</td>\n      <td>520332</td>\n      <td>8663904</td>\n      <td>33</td>\n      <td>...</td>\n      <td>10</td>\n      <td>Stor tilleggsbelastning</td>\n      <td>2</td>\n      <td>Noen bratte heng</td>\n      <td>1</td>\n      <td>0</td>\n      <td>0</td>\n      <td>11111111</td>\n      <td>Unngå ferdsel i skredterreng og i utløpsområde...</td>\n      <td>1</td>\n    </tr>\n    <tr>\n      <th>3192</th>\n      <td>3192</td>\n      <td>126100</td>\n      <td>3003</td>\n      <td>Nordenskiöld Land</td>\n      <td>2017-05-01</td>\n      <td>10</td>\n      <td>A</td>\n      <td>520332</td>\n      <td>8663904</td>\n      <td>33</td>\n      <td>...</td>\n      <td>10</td>\n      <td>Stor tilleggsbelastning</td>\n      <td>2</td>\n      <td>Noen bratte heng</td>\n      <td>1</td>\n      <td>0</td>\n      <td>0</td>\n      <td>11111111</td>\n      <td>Unngå ferdsel i skredterreng og i utløpsområde...</td>\n      <td>1</td>\n    </tr>\n    <tr>\n      <th>3213</th>\n      <td>3213</td>\n      <td>126223</td>\n      <td>3003</td>\n      <td>Nordenskiöld Land</td>\n      <td>2017-05-02</td>\n      <td>10</td>\n      <td>A</td>\n      <td>520332</td>\n      <td>8663904</td>\n      <td>33</td>\n      <td>...</td>\n      <td>10</td>\n      <td>Stor tilleggsbelastning</td>\n      <td>2</td>\n      <td>Noen bratte heng</td>\n      <td>1</td>\n      <td>0</td>\n      <td>0</td>\n      <td>11111111</td>\n      <td>Hold god avstand til hverandre ved ferdsel i s...</td>\n      <td>1</td>\n    </tr>\n    <tr>\n      <th>3234</th>\n      <td>3234</td>\n      <td>126314</td>\n      <td>3003</td>\n      <td>Nordenskiöld Land</td>\n      <td>2017-05-03</td>\n      <td>10</td>\n      <td>A</td>\n      <td>520332</td>\n      <td>8663904</td>\n      <td>33</td>\n      <td>...</td>\n      <td>0</td>\n      <td>Not given</td>\n      <td>0</td>\n      <td>Not given</td>\n      <td>0</td>\n      <td>0</td>\n      <td>0</td>\n      <td>0</td>\n      <td>Not given</td>\n      <td>1</td>\n    </tr>\n    <tr>\n      <th>3255</th>\n      <td>3255</td>\n      <td>126404</td>\n      <td>3003</td>\n      <td>Nordenskiöld Land</td>\n      <td>2017-05-04</td>\n      <td>10</td>\n      <td>A</td>\n      <td>520332</td>\n      <td>8663904</td>\n      <td>33</td>\n      <td>...</td>\n      <td>0</td>\n      <td>Not given</td>\n      <td>0</td>\n      <td>Not given</td>\n      <td>0</td>\n      <td>0</td>\n      <td>0</td>\n      <td>0</td>\n      <td>Not given</td>\n      <td>1</td>\n    </tr>\n    <tr>\n      <th>3276</th>\n      <td>3276</td>\n      <td>126499</td>\n      <td>3003</td>\n      <td>Nordenskiöld Land</td>\n      <td>2017-05-05</td>\n      <td>10</td>\n      <td>A</td>\n      <td>520332</td>\n      <td>8663904</td>\n      <td>33</td>\n      <td>...</td>\n      <td>0</td>\n      <td>Not given</td>\n      <td>0</td>\n      <td>Not given</td>\n      <td>0</td>\n      <td>0</td>\n      <td>0</td>\n      <td>0</td>\n      <td>Not given</td>\n      <td>1</td>\n    </tr>\n    <tr>\n      <th>3297</th>\n      <td>3297</td>\n      <td>126602</td>\n      <td>3003</td>\n      <td>Nordenskiöld Land</td>\n      <td>2017-05-06</td>\n      <td>10</td>\n      <td>A</td>\n      <td>520332</td>\n      <td>8663904</td>\n      <td>33</td>\n      <td>...</td>\n      <td>0</td>\n      <td>Not given</td>\n      <td>0</td>\n      <td>Not given</td>\n      <td>0</td>\n      <td>0</td>\n      <td>0</td>\n      <td>0</td>\n      <td>Not given</td>\n      <td>1</td>\n    </tr>\n    <tr>\n      <th>3318</th>\n      <td>3318</td>\n      <td>126806</td>\n      <td>3003</td>\n      <td>Nordenskiöld Land</td>\n      <td>2017-05-07</td>\n      <td>10</td>\n      <td>A</td>\n      <td>520332</td>\n      <td>8663904</td>\n      <td>33</td>\n      <td>...</td>\n      <td>0</td>\n      <td>Not given</td>\n      <td>0</td>\n      <td>Not given</td>\n      <td>0</td>\n      <td>0</td>\n      <td>0</td>\n      <td>0</td>\n      <td>Not given</td>\n      <td>1</td>\n    </tr>\n    <tr>\n      <th>3339</th>\n      <td>3339</td>\n      <td>126887</td>\n      <td>3003</td>\n      <td>Nordenskiöld Land</td>\n      <td>2017-05-08</td>\n      <td>10</td>\n      <td>A</td>\n      <td>520332</td>\n      <td>8663904</td>\n      <td>33</td>\n      <td>...</td>\n      <td>0</td>\n      <td>Not given</td>\n      <td>0</td>\n      <td>Not given</td>\n      <td>0</td>\n      <td>0</td>\n      <td>0</td>\n      <td>0</td>\n      <td>Not given</td>\n      <td>1</td>\n    </tr>\n    <tr>\n      <th>3360</th>\n      <td>3360</td>\n      <td>126973</td>\n      <td>3003</td>\n      <td>Nordenskiöld Land</td>\n      <td>2017-05-09</td>\n      <td>10</td>\n      <td>A</td>\n      <td>520332</td>\n      <td>8663904</td>\n      <td>33</td>\n      <td>...</td>\n      <td>0</td>\n      <td>Not given</td>\n      <td>0</td>\n      <td>Not given</td>\n      <td>0</td>\n      <td>0</td>\n      <td>0</td>\n      <td>0</td>\n      <td>Not given</td>\n      <td>1</td>\n    </tr>\n    <tr>\n      <th>3381</th>\n      <td>3381</td>\n      <td>127062</td>\n      <td>3003</td>\n      <td>Nordenskiöld Land</td>\n      <td>2017-05-10</td>\n      <td>10</td>\n      <td>A</td>\n      <td>520332</td>\n      <td>8663904</td>\n      <td>33</td>\n      <td>...</td>\n      <td>0</td>\n      <td>Not given</td>\n      <td>0</td>\n      <td>Not given</td>\n      <td>0</td>\n      <td>0</td>\n      <td>0</td>\n      <td>0</td>\n      <td>Not given</td>\n      <td>1</td>\n    </tr>\n    <tr>\n      <th>3528</th>\n      <td>3528</td>\n      <td>127800</td>\n      <td>3003</td>\n      <td>Nordenskiöld Land</td>\n      <td>2017-05-17</td>\n      <td>10</td>\n      <td>A</td>\n      <td>520332</td>\n      <td>8663904</td>\n      <td>33</td>\n      <td>...</td>\n      <td>21</td>\n      <td>Liten tilleggsbelastning</td>\n      <td>2</td>\n      <td>Noen bratte heng</td>\n      <td>1</td>\n      <td>200</td>\n      <td>0</td>\n      <td>11111000</td>\n      <td>Vær forsiktig i områder brattere enn 30 grader...</td>\n      <td>1</td>\n    </tr>\n    <tr>\n      <th>3549</th>\n      <td>3549</td>\n      <td>127832</td>\n      <td>3003</td>\n      <td>Nordenskiöld Land</td>\n      <td>2017-05-18</td>\n      <td>10</td>\n      <td>A</td>\n      <td>520332</td>\n      <td>8663904</td>\n      <td>33</td>\n      <td>...</td>\n      <td>21</td>\n      <td>Liten tilleggsbelastning</td>\n      <td>2</td>\n      <td>Noen bratte heng</td>\n      <td>1</td>\n      <td>200</td>\n      <td>0</td>\n      <td>11111000</td>\n      <td>Vær forsiktig i områder brattere enn 30 grader...</td>\n      <td>1</td>\n    </tr>\n    <tr>\n      <th>3570</th>\n      <td>3570</td>\n      <td>127845</td>\n      <td>3003</td>\n      <td>Nordenskiöld Land</td>\n      <td>2017-05-19</td>\n      <td>10</td>\n      <td>A</td>\n      <td>520332</td>\n      <td>8663904</td>\n      <td>33</td>\n      <td>...</td>\n      <td>21</td>\n      <td>Liten tilleggsbelastning</td>\n      <td>2</td>\n      <td>Noen bratte heng</td>\n      <td>1</td>\n      <td>200</td>\n      <td>0</td>\n      <td>11111000</td>\n      <td>Vær forsiktig i områder brattere enn 30 grader...</td>\n      <td>1</td>\n    </tr>\n  </tbody>\n</table>\n<p>48 rows × 104 columns</p>\n</div>"
     },
     "metadata": {},
     "output_type": "execute_result",
     "execution_count": 54
    }
   ],
   "source": [
    "# s1819[s1819['avalanche_problem_1_cause_name']=='Nedsnødd eller nedføyket overflaterim']['avalanche_problem_1_cause_id']\n",
    "\n",
    "sh_df1617 = s1617[s1617['avalanche_problem_1_cause_id']==11].copy()\n",
    "sh_df1617['occurrence'] = 1\n",
    "sh_df1617"
   ],
   "metadata": {
    "collapsed": false,
    "pycharm": {
     "name": "#%%\n",
     "is_executing": false
    }
   }
  },
  {
   "cell_type": "code",
   "execution_count": 55,
   "outputs": [
    {
     "data": {
      "application/vnd.plotly.v1+json": {
       "config": {
        "plotlyServerURL": "https://plot.ly"
       },
       "data": [
        {
         "name": "Avalanche problem frequency",
         "type": "bar",
         "x": [
          "2017-01-17",
          "2017-01-17",
          "2017-01-17",
          "2017-01-17",
          "2017-01-18",
          "2017-01-18",
          "2017-01-18",
          "2017-01-18",
          "2017-01-19",
          "2017-01-19",
          "2017-02-11",
          "2017-02-11",
          "2017-02-11",
          "2017-02-11",
          "2017-02-12",
          "2017-02-12",
          "2017-02-12",
          "2017-02-12",
          "2017-02-13",
          "2017-02-13",
          "2017-02-13",
          "2017-02-13",
          "2017-02-13",
          "2017-02-14",
          "2017-03-09",
          "2017-03-14",
          "2017-03-15",
          "2017-03-16",
          "2017-03-17",
          "2017-03-19",
          "2017-03-20",
          "2017-03-21",
          "2017-03-22",
          "2017-04-29",
          "2017-04-30",
          "2017-05-01",
          "2017-05-02",
          "2017-05-03",
          "2017-05-04",
          "2017-05-05",
          "2017-05-06",
          "2017-05-07",
          "2017-05-08",
          "2017-05-09",
          "2017-05-10",
          "2017-05-17",
          "2017-05-18",
          "2017-05-19"
         ],
         "y": [
          1,
          1,
          1,
          1,
          1,
          1,
          1,
          1,
          1,
          1,
          1,
          1,
          1,
          1,
          1,
          1,
          1,
          1,
          1,
          1,
          1,
          1,
          1,
          1,
          1,
          1,
          1,
          1,
          1,
          1,
          1,
          1,
          1,
          1,
          1,
          1,
          1,
          1,
          1,
          1,
          1,
          1,
          1,
          1,
          1,
          1,
          1,
          1
         ]
        }
       ],
       "layout": {
        "legend": {
         "orientation": "h"
        },
        "showlegend": false,
        "template": {
         "data": {
          "bar": [
           {
            "error_x": {
             "color": "#2a3f5f"
            },
            "error_y": {
             "color": "#2a3f5f"
            },
            "marker": {
             "line": {
              "color": "white",
              "width": 0.5
             }
            },
            "type": "bar"
           }
          ],
          "barpolar": [
           {
            "marker": {
             "line": {
              "color": "white",
              "width": 0.5
             }
            },
            "type": "barpolar"
           }
          ],
          "carpet": [
           {
            "aaxis": {
             "endlinecolor": "#2a3f5f",
             "gridcolor": "#C8D4E3",
             "linecolor": "#C8D4E3",
             "minorgridcolor": "#C8D4E3",
             "startlinecolor": "#2a3f5f"
            },
            "baxis": {
             "endlinecolor": "#2a3f5f",
             "gridcolor": "#C8D4E3",
             "linecolor": "#C8D4E3",
             "minorgridcolor": "#C8D4E3",
             "startlinecolor": "#2a3f5f"
            },
            "type": "carpet"
           }
          ],
          "choropleth": [
           {
            "colorbar": {
             "outlinewidth": 0,
             "ticks": ""
            },
            "type": "choropleth"
           }
          ],
          "contour": [
           {
            "colorbar": {
             "outlinewidth": 0,
             "ticks": ""
            },
            "colorscale": [
             [
              0.0,
              "#0d0887"
             ],
             [
              0.1111111111111111,
              "#46039f"
             ],
             [
              0.2222222222222222,
              "#7201a8"
             ],
             [
              0.3333333333333333,
              "#9c179e"
             ],
             [
              0.4444444444444444,
              "#bd3786"
             ],
             [
              0.5555555555555556,
              "#d8576b"
             ],
             [
              0.6666666666666666,
              "#ed7953"
             ],
             [
              0.7777777777777778,
              "#fb9f3a"
             ],
             [
              0.8888888888888888,
              "#fdca26"
             ],
             [
              1.0,
              "#f0f921"
             ]
            ],
            "type": "contour"
           }
          ],
          "contourcarpet": [
           {
            "colorbar": {
             "outlinewidth": 0,
             "ticks": ""
            },
            "type": "contourcarpet"
           }
          ],
          "heatmap": [
           {
            "colorbar": {
             "outlinewidth": 0,
             "ticks": ""
            },
            "colorscale": [
             [
              0.0,
              "#0d0887"
             ],
             [
              0.1111111111111111,
              "#46039f"
             ],
             [
              0.2222222222222222,
              "#7201a8"
             ],
             [
              0.3333333333333333,
              "#9c179e"
             ],
             [
              0.4444444444444444,
              "#bd3786"
             ],
             [
              0.5555555555555556,
              "#d8576b"
             ],
             [
              0.6666666666666666,
              "#ed7953"
             ],
             [
              0.7777777777777778,
              "#fb9f3a"
             ],
             [
              0.8888888888888888,
              "#fdca26"
             ],
             [
              1.0,
              "#f0f921"
             ]
            ],
            "type": "heatmap"
           }
          ],
          "heatmapgl": [
           {
            "colorbar": {
             "outlinewidth": 0,
             "ticks": ""
            },
            "colorscale": [
             [
              0.0,
              "#0d0887"
             ],
             [
              0.1111111111111111,
              "#46039f"
             ],
             [
              0.2222222222222222,
              "#7201a8"
             ],
             [
              0.3333333333333333,
              "#9c179e"
             ],
             [
              0.4444444444444444,
              "#bd3786"
             ],
             [
              0.5555555555555556,
              "#d8576b"
             ],
             [
              0.6666666666666666,
              "#ed7953"
             ],
             [
              0.7777777777777778,
              "#fb9f3a"
             ],
             [
              0.8888888888888888,
              "#fdca26"
             ],
             [
              1.0,
              "#f0f921"
             ]
            ],
            "type": "heatmapgl"
           }
          ],
          "histogram": [
           {
            "marker": {
             "colorbar": {
              "outlinewidth": 0,
              "ticks": ""
             }
            },
            "type": "histogram"
           }
          ],
          "histogram2d": [
           {
            "colorbar": {
             "outlinewidth": 0,
             "ticks": ""
            },
            "colorscale": [
             [
              0.0,
              "#0d0887"
             ],
             [
              0.1111111111111111,
              "#46039f"
             ],
             [
              0.2222222222222222,
              "#7201a8"
             ],
             [
              0.3333333333333333,
              "#9c179e"
             ],
             [
              0.4444444444444444,
              "#bd3786"
             ],
             [
              0.5555555555555556,
              "#d8576b"
             ],
             [
              0.6666666666666666,
              "#ed7953"
             ],
             [
              0.7777777777777778,
              "#fb9f3a"
             ],
             [
              0.8888888888888888,
              "#fdca26"
             ],
             [
              1.0,
              "#f0f921"
             ]
            ],
            "type": "histogram2d"
           }
          ],
          "histogram2dcontour": [
           {
            "colorbar": {
             "outlinewidth": 0,
             "ticks": ""
            },
            "colorscale": [
             [
              0.0,
              "#0d0887"
             ],
             [
              0.1111111111111111,
              "#46039f"
             ],
             [
              0.2222222222222222,
              "#7201a8"
             ],
             [
              0.3333333333333333,
              "#9c179e"
             ],
             [
              0.4444444444444444,
              "#bd3786"
             ],
             [
              0.5555555555555556,
              "#d8576b"
             ],
             [
              0.6666666666666666,
              "#ed7953"
             ],
             [
              0.7777777777777778,
              "#fb9f3a"
             ],
             [
              0.8888888888888888,
              "#fdca26"
             ],
             [
              1.0,
              "#f0f921"
             ]
            ],
            "type": "histogram2dcontour"
           }
          ],
          "mesh3d": [
           {
            "colorbar": {
             "outlinewidth": 0,
             "ticks": ""
            },
            "type": "mesh3d"
           }
          ],
          "parcoords": [
           {
            "line": {
             "colorbar": {
              "outlinewidth": 0,
              "ticks": ""
             }
            },
            "type": "parcoords"
           }
          ],
          "pie": [
           {
            "automargin": true,
            "type": "pie"
           }
          ],
          "scatter": [
           {
            "marker": {
             "colorbar": {
              "outlinewidth": 0,
              "ticks": ""
             }
            },
            "type": "scatter"
           }
          ],
          "scatter3d": [
           {
            "line": {
             "colorbar": {
              "outlinewidth": 0,
              "ticks": ""
             }
            },
            "marker": {
             "colorbar": {
              "outlinewidth": 0,
              "ticks": ""
             }
            },
            "type": "scatter3d"
           }
          ],
          "scattercarpet": [
           {
            "marker": {
             "colorbar": {
              "outlinewidth": 0,
              "ticks": ""
             }
            },
            "type": "scattercarpet"
           }
          ],
          "scattergeo": [
           {
            "marker": {
             "colorbar": {
              "outlinewidth": 0,
              "ticks": ""
             }
            },
            "type": "scattergeo"
           }
          ],
          "scattergl": [
           {
            "marker": {
             "colorbar": {
              "outlinewidth": 0,
              "ticks": ""
             }
            },
            "type": "scattergl"
           }
          ],
          "scattermapbox": [
           {
            "marker": {
             "colorbar": {
              "outlinewidth": 0,
              "ticks": ""
             }
            },
            "type": "scattermapbox"
           }
          ],
          "scatterpolar": [
           {
            "marker": {
             "colorbar": {
              "outlinewidth": 0,
              "ticks": ""
             }
            },
            "type": "scatterpolar"
           }
          ],
          "scatterpolargl": [
           {
            "marker": {
             "colorbar": {
              "outlinewidth": 0,
              "ticks": ""
             }
            },
            "type": "scatterpolargl"
           }
          ],
          "scatterternary": [
           {
            "marker": {
             "colorbar": {
              "outlinewidth": 0,
              "ticks": ""
             }
            },
            "type": "scatterternary"
           }
          ],
          "surface": [
           {
            "colorbar": {
             "outlinewidth": 0,
             "ticks": ""
            },
            "colorscale": [
             [
              0.0,
              "#0d0887"
             ],
             [
              0.1111111111111111,
              "#46039f"
             ],
             [
              0.2222222222222222,
              "#7201a8"
             ],
             [
              0.3333333333333333,
              "#9c179e"
             ],
             [
              0.4444444444444444,
              "#bd3786"
             ],
             [
              0.5555555555555556,
              "#d8576b"
             ],
             [
              0.6666666666666666,
              "#ed7953"
             ],
             [
              0.7777777777777778,
              "#fb9f3a"
             ],
             [
              0.8888888888888888,
              "#fdca26"
             ],
             [
              1.0,
              "#f0f921"
             ]
            ],
            "type": "surface"
           }
          ],
          "table": [
           {
            "cells": {
             "fill": {
              "color": "#EBF0F8"
             },
             "line": {
              "color": "white"
             }
            },
            "header": {
             "fill": {
              "color": "#C8D4E3"
             },
             "line": {
              "color": "white"
             }
            },
            "type": "table"
           }
          ]
         },
         "layout": {
          "annotationdefaults": {
           "arrowcolor": "#2a3f5f",
           "arrowhead": 0,
           "arrowwidth": 1
          },
          "coloraxis": {
           "colorbar": {
            "outlinewidth": 0,
            "ticks": ""
           }
          },
          "colorscale": {
           "diverging": [
            [
             0,
             "#8e0152"
            ],
            [
             0.1,
             "#c51b7d"
            ],
            [
             0.2,
             "#de77ae"
            ],
            [
             0.3,
             "#f1b6da"
            ],
            [
             0.4,
             "#fde0ef"
            ],
            [
             0.5,
             "#f7f7f7"
            ],
            [
             0.6,
             "#e6f5d0"
            ],
            [
             0.7,
             "#b8e186"
            ],
            [
             0.8,
             "#7fbc41"
            ],
            [
             0.9,
             "#4d9221"
            ],
            [
             1,
             "#276419"
            ]
           ],
           "sequential": [
            [
             0.0,
             "#0d0887"
            ],
            [
             0.1111111111111111,
             "#46039f"
            ],
            [
             0.2222222222222222,
             "#7201a8"
            ],
            [
             0.3333333333333333,
             "#9c179e"
            ],
            [
             0.4444444444444444,
             "#bd3786"
            ],
            [
             0.5555555555555556,
             "#d8576b"
            ],
            [
             0.6666666666666666,
             "#ed7953"
            ],
            [
             0.7777777777777778,
             "#fb9f3a"
            ],
            [
             0.8888888888888888,
             "#fdca26"
            ],
            [
             1.0,
             "#f0f921"
            ]
           ],
           "sequentialminus": [
            [
             0.0,
             "#0d0887"
            ],
            [
             0.1111111111111111,
             "#46039f"
            ],
            [
             0.2222222222222222,
             "#7201a8"
            ],
            [
             0.3333333333333333,
             "#9c179e"
            ],
            [
             0.4444444444444444,
             "#bd3786"
            ],
            [
             0.5555555555555556,
             "#d8576b"
            ],
            [
             0.6666666666666666,
             "#ed7953"
            ],
            [
             0.7777777777777778,
             "#fb9f3a"
            ],
            [
             0.8888888888888888,
             "#fdca26"
            ],
            [
             1.0,
             "#f0f921"
            ]
           ]
          },
          "colorway": [
           "#636efa",
           "#EF553B",
           "#00cc96",
           "#ab63fa",
           "#FFA15A",
           "#19d3f3",
           "#FF6692",
           "#B6E880",
           "#FF97FF",
           "#FECB52"
          ],
          "font": {
           "color": "#2a3f5f"
          },
          "geo": {
           "bgcolor": "white",
           "lakecolor": "white",
           "landcolor": "white",
           "showlakes": true,
           "showland": true,
           "subunitcolor": "#C8D4E3"
          },
          "hoverlabel": {
           "align": "left"
          },
          "hovermode": "closest",
          "mapbox": {
           "style": "light"
          },
          "paper_bgcolor": "white",
          "plot_bgcolor": "white",
          "polar": {
           "angularaxis": {
            "gridcolor": "#EBF0F8",
            "linecolor": "#EBF0F8",
            "ticks": ""
           },
           "bgcolor": "white",
           "radialaxis": {
            "gridcolor": "#EBF0F8",
            "linecolor": "#EBF0F8",
            "ticks": ""
           }
          },
          "scene": {
           "xaxis": {
            "backgroundcolor": "white",
            "gridcolor": "#DFE8F3",
            "gridwidth": 2,
            "linecolor": "#EBF0F8",
            "showbackground": true,
            "ticks": "",
            "zerolinecolor": "#EBF0F8"
           },
           "yaxis": {
            "backgroundcolor": "white",
            "gridcolor": "#DFE8F3",
            "gridwidth": 2,
            "linecolor": "#EBF0F8",
            "showbackground": true,
            "ticks": "",
            "zerolinecolor": "#EBF0F8"
           },
           "zaxis": {
            "backgroundcolor": "white",
            "gridcolor": "#DFE8F3",
            "gridwidth": 2,
            "linecolor": "#EBF0F8",
            "showbackground": true,
            "ticks": "",
            "zerolinecolor": "#EBF0F8"
           }
          },
          "shapedefaults": {
           "line": {
            "color": "#2a3f5f"
           }
          },
          "ternary": {
           "aaxis": {
            "gridcolor": "#DFE8F3",
            "linecolor": "#A2B1C6",
            "ticks": ""
           },
           "baxis": {
            "gridcolor": "#DFE8F3",
            "linecolor": "#A2B1C6",
            "ticks": ""
           },
           "bgcolor": "white",
           "caxis": {
            "gridcolor": "#DFE8F3",
            "linecolor": "#A2B1C6",
            "ticks": ""
           }
          },
          "title": {
           "x": 0.05
          },
          "xaxis": {
           "automargin": true,
           "gridcolor": "#EBF0F8",
           "linecolor": "#EBF0F8",
           "ticks": "",
           "title": {
            "standoff": 15
           },
           "zerolinecolor": "#EBF0F8",
           "zerolinewidth": 2
          },
          "yaxis": {
           "automargin": true,
           "gridcolor": "#EBF0F8",
           "linecolor": "#EBF0F8",
           "ticks": "",
           "title": {
            "standoff": 15
           },
           "zerolinecolor": "#EBF0F8",
           "zerolinewidth": 2
          }
         }
        },
        "title": {
         "text": "Surface hoar 2016-2017"
        },
        "yaxis": {
         "title": {
          "text": "#Regions with SH problem"
         }
        }
       }
      },
      "text/html": "<div>\n        \n        \n            <div id=\"e57adecd-2e77-4f76-a82c-4ea6303f04d9\" class=\"plotly-graph-div\" style=\"height:525px; width:100%;\"></div>\n            <script type=\"text/javascript\">\n                require([\"plotly\"], function(Plotly) {\n                    window.PLOTLYENV=window.PLOTLYENV || {};\n                    \n                if (document.getElementById(\"e57adecd-2e77-4f76-a82c-4ea6303f04d9\")) {\n                    Plotly.newPlot(\n                        'e57adecd-2e77-4f76-a82c-4ea6303f04d9',\n                        [{\"name\": \"Avalanche problem frequency\", \"type\": \"bar\", \"x\": [\"2017-01-17\", \"2017-01-17\", \"2017-01-17\", \"2017-01-17\", \"2017-01-18\", \"2017-01-18\", \"2017-01-18\", \"2017-01-18\", \"2017-01-19\", \"2017-01-19\", \"2017-02-11\", \"2017-02-11\", \"2017-02-11\", \"2017-02-11\", \"2017-02-12\", \"2017-02-12\", \"2017-02-12\", \"2017-02-12\", \"2017-02-13\", \"2017-02-13\", \"2017-02-13\", \"2017-02-13\", \"2017-02-13\", \"2017-02-14\", \"2017-03-09\", \"2017-03-14\", \"2017-03-15\", \"2017-03-16\", \"2017-03-17\", \"2017-03-19\", \"2017-03-20\", \"2017-03-21\", \"2017-03-22\", \"2017-04-29\", \"2017-04-30\", \"2017-05-01\", \"2017-05-02\", \"2017-05-03\", \"2017-05-04\", \"2017-05-05\", \"2017-05-06\", \"2017-05-07\", \"2017-05-08\", \"2017-05-09\", \"2017-05-10\", \"2017-05-17\", \"2017-05-18\", \"2017-05-19\"], \"y\": [1, 1, 1, 1, 1, 1, 1, 1, 1, 1, 1, 1, 1, 1, 1, 1, 1, 1, 1, 1, 1, 1, 1, 1, 1, 1, 1, 1, 1, 1, 1, 1, 1, 1, 1, 1, 1, 1, 1, 1, 1, 1, 1, 1, 1, 1, 1, 1]}],\n                        {\"legend\": {\"orientation\": \"h\"}, \"showlegend\": false, \"template\": {\"data\": {\"bar\": [{\"error_x\": {\"color\": \"#2a3f5f\"}, \"error_y\": {\"color\": \"#2a3f5f\"}, \"marker\": {\"line\": {\"color\": \"white\", \"width\": 0.5}}, \"type\": \"bar\"}], \"barpolar\": [{\"marker\": {\"line\": {\"color\": \"white\", \"width\": 0.5}}, \"type\": \"barpolar\"}], \"carpet\": [{\"aaxis\": {\"endlinecolor\": \"#2a3f5f\", \"gridcolor\": \"#C8D4E3\", \"linecolor\": \"#C8D4E3\", \"minorgridcolor\": \"#C8D4E3\", \"startlinecolor\": \"#2a3f5f\"}, \"baxis\": {\"endlinecolor\": \"#2a3f5f\", \"gridcolor\": \"#C8D4E3\", \"linecolor\": \"#C8D4E3\", \"minorgridcolor\": \"#C8D4E3\", \"startlinecolor\": \"#2a3f5f\"}, \"type\": \"carpet\"}], \"choropleth\": [{\"colorbar\": {\"outlinewidth\": 0, \"ticks\": \"\"}, \"type\": \"choropleth\"}], \"contour\": [{\"colorbar\": {\"outlinewidth\": 0, \"ticks\": \"\"}, \"colorscale\": [[0.0, \"#0d0887\"], [0.1111111111111111, \"#46039f\"], [0.2222222222222222, \"#7201a8\"], [0.3333333333333333, \"#9c179e\"], [0.4444444444444444, \"#bd3786\"], [0.5555555555555556, \"#d8576b\"], [0.6666666666666666, \"#ed7953\"], [0.7777777777777778, \"#fb9f3a\"], [0.8888888888888888, \"#fdca26\"], [1.0, \"#f0f921\"]], \"type\": \"contour\"}], \"contourcarpet\": [{\"colorbar\": {\"outlinewidth\": 0, \"ticks\": \"\"}, \"type\": \"contourcarpet\"}], \"heatmap\": [{\"colorbar\": {\"outlinewidth\": 0, \"ticks\": \"\"}, \"colorscale\": [[0.0, \"#0d0887\"], [0.1111111111111111, \"#46039f\"], [0.2222222222222222, \"#7201a8\"], [0.3333333333333333, \"#9c179e\"], [0.4444444444444444, \"#bd3786\"], [0.5555555555555556, \"#d8576b\"], [0.6666666666666666, \"#ed7953\"], [0.7777777777777778, \"#fb9f3a\"], [0.8888888888888888, \"#fdca26\"], [1.0, \"#f0f921\"]], \"type\": \"heatmap\"}], \"heatmapgl\": [{\"colorbar\": {\"outlinewidth\": 0, \"ticks\": \"\"}, \"colorscale\": [[0.0, \"#0d0887\"], [0.1111111111111111, \"#46039f\"], [0.2222222222222222, \"#7201a8\"], [0.3333333333333333, \"#9c179e\"], [0.4444444444444444, \"#bd3786\"], [0.5555555555555556, \"#d8576b\"], [0.6666666666666666, \"#ed7953\"], [0.7777777777777778, \"#fb9f3a\"], [0.8888888888888888, \"#fdca26\"], [1.0, \"#f0f921\"]], \"type\": \"heatmapgl\"}], \"histogram\": [{\"marker\": {\"colorbar\": {\"outlinewidth\": 0, \"ticks\": \"\"}}, \"type\": \"histogram\"}], \"histogram2d\": [{\"colorbar\": {\"outlinewidth\": 0, \"ticks\": \"\"}, \"colorscale\": [[0.0, \"#0d0887\"], [0.1111111111111111, \"#46039f\"], [0.2222222222222222, \"#7201a8\"], [0.3333333333333333, \"#9c179e\"], [0.4444444444444444, \"#bd3786\"], [0.5555555555555556, \"#d8576b\"], [0.6666666666666666, \"#ed7953\"], [0.7777777777777778, \"#fb9f3a\"], [0.8888888888888888, \"#fdca26\"], [1.0, \"#f0f921\"]], \"type\": \"histogram2d\"}], \"histogram2dcontour\": [{\"colorbar\": {\"outlinewidth\": 0, \"ticks\": \"\"}, \"colorscale\": [[0.0, \"#0d0887\"], [0.1111111111111111, \"#46039f\"], [0.2222222222222222, \"#7201a8\"], [0.3333333333333333, \"#9c179e\"], [0.4444444444444444, \"#bd3786\"], [0.5555555555555556, \"#d8576b\"], [0.6666666666666666, \"#ed7953\"], [0.7777777777777778, \"#fb9f3a\"], [0.8888888888888888, \"#fdca26\"], [1.0, \"#f0f921\"]], \"type\": \"histogram2dcontour\"}], \"mesh3d\": [{\"colorbar\": {\"outlinewidth\": 0, \"ticks\": \"\"}, \"type\": \"mesh3d\"}], \"parcoords\": [{\"line\": {\"colorbar\": {\"outlinewidth\": 0, \"ticks\": \"\"}}, \"type\": \"parcoords\"}], \"pie\": [{\"automargin\": true, \"type\": \"pie\"}], \"scatter\": [{\"marker\": {\"colorbar\": {\"outlinewidth\": 0, \"ticks\": \"\"}}, \"type\": \"scatter\"}], \"scatter3d\": [{\"line\": {\"colorbar\": {\"outlinewidth\": 0, \"ticks\": \"\"}}, \"marker\": {\"colorbar\": {\"outlinewidth\": 0, \"ticks\": \"\"}}, \"type\": \"scatter3d\"}], \"scattercarpet\": [{\"marker\": {\"colorbar\": {\"outlinewidth\": 0, \"ticks\": \"\"}}, \"type\": \"scattercarpet\"}], \"scattergeo\": [{\"marker\": {\"colorbar\": {\"outlinewidth\": 0, \"ticks\": \"\"}}, \"type\": \"scattergeo\"}], \"scattergl\": [{\"marker\": {\"colorbar\": {\"outlinewidth\": 0, \"ticks\": \"\"}}, \"type\": \"scattergl\"}], \"scattermapbox\": [{\"marker\": {\"colorbar\": {\"outlinewidth\": 0, \"ticks\": \"\"}}, \"type\": \"scattermapbox\"}], \"scatterpolar\": [{\"marker\": {\"colorbar\": {\"outlinewidth\": 0, \"ticks\": \"\"}}, \"type\": \"scatterpolar\"}], \"scatterpolargl\": [{\"marker\": {\"colorbar\": {\"outlinewidth\": 0, \"ticks\": \"\"}}, \"type\": \"scatterpolargl\"}], \"scatterternary\": [{\"marker\": {\"colorbar\": {\"outlinewidth\": 0, \"ticks\": \"\"}}, \"type\": \"scatterternary\"}], \"surface\": [{\"colorbar\": {\"outlinewidth\": 0, \"ticks\": \"\"}, \"colorscale\": [[0.0, \"#0d0887\"], [0.1111111111111111, \"#46039f\"], [0.2222222222222222, \"#7201a8\"], [0.3333333333333333, \"#9c179e\"], [0.4444444444444444, \"#bd3786\"], [0.5555555555555556, \"#d8576b\"], [0.6666666666666666, \"#ed7953\"], [0.7777777777777778, \"#fb9f3a\"], [0.8888888888888888, \"#fdca26\"], [1.0, \"#f0f921\"]], \"type\": \"surface\"}], \"table\": [{\"cells\": {\"fill\": {\"color\": \"#EBF0F8\"}, \"line\": {\"color\": \"white\"}}, \"header\": {\"fill\": {\"color\": \"#C8D4E3\"}, \"line\": {\"color\": \"white\"}}, \"type\": \"table\"}]}, \"layout\": {\"annotationdefaults\": {\"arrowcolor\": \"#2a3f5f\", \"arrowhead\": 0, \"arrowwidth\": 1}, \"coloraxis\": {\"colorbar\": {\"outlinewidth\": 0, \"ticks\": \"\"}}, \"colorscale\": {\"diverging\": [[0, \"#8e0152\"], [0.1, \"#c51b7d\"], [0.2, \"#de77ae\"], [0.3, \"#f1b6da\"], [0.4, \"#fde0ef\"], [0.5, \"#f7f7f7\"], [0.6, \"#e6f5d0\"], [0.7, \"#b8e186\"], [0.8, \"#7fbc41\"], [0.9, \"#4d9221\"], [1, \"#276419\"]], \"sequential\": [[0.0, \"#0d0887\"], [0.1111111111111111, \"#46039f\"], [0.2222222222222222, \"#7201a8\"], [0.3333333333333333, \"#9c179e\"], [0.4444444444444444, \"#bd3786\"], [0.5555555555555556, \"#d8576b\"], [0.6666666666666666, \"#ed7953\"], [0.7777777777777778, \"#fb9f3a\"], [0.8888888888888888, \"#fdca26\"], [1.0, \"#f0f921\"]], \"sequentialminus\": [[0.0, \"#0d0887\"], [0.1111111111111111, \"#46039f\"], [0.2222222222222222, \"#7201a8\"], [0.3333333333333333, \"#9c179e\"], [0.4444444444444444, \"#bd3786\"], [0.5555555555555556, \"#d8576b\"], [0.6666666666666666, \"#ed7953\"], [0.7777777777777778, \"#fb9f3a\"], [0.8888888888888888, \"#fdca26\"], [1.0, \"#f0f921\"]]}, \"colorway\": [\"#636efa\", \"#EF553B\", \"#00cc96\", \"#ab63fa\", \"#FFA15A\", \"#19d3f3\", \"#FF6692\", \"#B6E880\", \"#FF97FF\", \"#FECB52\"], \"font\": {\"color\": \"#2a3f5f\"}, \"geo\": {\"bgcolor\": \"white\", \"lakecolor\": \"white\", \"landcolor\": \"white\", \"showlakes\": true, \"showland\": true, \"subunitcolor\": \"#C8D4E3\"}, \"hoverlabel\": {\"align\": \"left\"}, \"hovermode\": \"closest\", \"mapbox\": {\"style\": \"light\"}, \"paper_bgcolor\": \"white\", \"plot_bgcolor\": \"white\", \"polar\": {\"angularaxis\": {\"gridcolor\": \"#EBF0F8\", \"linecolor\": \"#EBF0F8\", \"ticks\": \"\"}, \"bgcolor\": \"white\", \"radialaxis\": {\"gridcolor\": \"#EBF0F8\", \"linecolor\": \"#EBF0F8\", \"ticks\": \"\"}}, \"scene\": {\"xaxis\": {\"backgroundcolor\": \"white\", \"gridcolor\": \"#DFE8F3\", \"gridwidth\": 2, \"linecolor\": \"#EBF0F8\", \"showbackground\": true, \"ticks\": \"\", \"zerolinecolor\": \"#EBF0F8\"}, \"yaxis\": {\"backgroundcolor\": \"white\", \"gridcolor\": \"#DFE8F3\", \"gridwidth\": 2, \"linecolor\": \"#EBF0F8\", \"showbackground\": true, \"ticks\": \"\", \"zerolinecolor\": \"#EBF0F8\"}, \"zaxis\": {\"backgroundcolor\": \"white\", \"gridcolor\": \"#DFE8F3\", \"gridwidth\": 2, \"linecolor\": \"#EBF0F8\", \"showbackground\": true, \"ticks\": \"\", \"zerolinecolor\": \"#EBF0F8\"}}, \"shapedefaults\": {\"line\": {\"color\": \"#2a3f5f\"}}, \"ternary\": {\"aaxis\": {\"gridcolor\": \"#DFE8F3\", \"linecolor\": \"#A2B1C6\", \"ticks\": \"\"}, \"baxis\": {\"gridcolor\": \"#DFE8F3\", \"linecolor\": \"#A2B1C6\", \"ticks\": \"\"}, \"bgcolor\": \"white\", \"caxis\": {\"gridcolor\": \"#DFE8F3\", \"linecolor\": \"#A2B1C6\", \"ticks\": \"\"}}, \"title\": {\"x\": 0.05}, \"xaxis\": {\"automargin\": true, \"gridcolor\": \"#EBF0F8\", \"linecolor\": \"#EBF0F8\", \"ticks\": \"\", \"title\": {\"standoff\": 15}, \"zerolinecolor\": \"#EBF0F8\", \"zerolinewidth\": 2}, \"yaxis\": {\"automargin\": true, \"gridcolor\": \"#EBF0F8\", \"linecolor\": \"#EBF0F8\", \"ticks\": \"\", \"title\": {\"standoff\": 15}, \"zerolinecolor\": \"#EBF0F8\", \"zerolinewidth\": 2}}}, \"title\": {\"text\": \"Surface hoar 2016-2017\"}, \"yaxis\": {\"title\": {\"text\": \"#Regions with SH problem\"}}},\n                        {\"responsive\": true}\n                    ).then(function(){\n                            \nvar gd = document.getElementById('e57adecd-2e77-4f76-a82c-4ea6303f04d9');\nvar x = new MutationObserver(function (mutations, observer) {{\n        var display = window.getComputedStyle(gd).display;\n        if (!display || display === 'none') {{\n            console.log([gd, 'removed!']);\n            Plotly.purge(gd);\n            observer.disconnect();\n        }}\n}});\n\n// Listen for the removal of the full notebook cells\nvar notebookContainer = gd.closest('#notebook-container');\nif (notebookContainer) {{\n    x.observe(notebookContainer, {childList: true});\n}}\n\n// Listen for the clearing of the current output cell\nvar outputEl = gd.closest('.output');\nif (outputEl) {{\n    x.observe(outputEl, {childList: true});\n}}\n\n                        })\n                };\n                });\n            </script>\n        </div>"
     },
     "metadata": {},
     "output_type": "display_data"
    }
   ],
   "source": [
    "\n",
    "# setting up a plot.ly figure\n",
    "fig = go.Figure()\n",
    "\n",
    "avalprob_1 = {\n",
    "    \"type\": \"bar\",\n",
    "    \"name\": \"Avalanche problem frequency\",\n",
    "    # \"line\": {\"color\": c_topo},\n",
    "    # \"fill\": \"tozeroy\",\n",
    "    \"x\": sh_df1617['date_valid'],\n",
    "    \"y\": sh_df1617['occurrence']\n",
    "}\n",
    "\n",
    "fig.add_trace(avalprob_1)\n",
    "\n",
    "p_layout = {\"title\": {\"text\": \"Surface hoar 2016-2017\"},\n",
    "            \"showlegend\": False, \"legend\": {\"orientation\": \"h\"},\n",
    "            # \"xaxis\": {\"rangemode\": \"nonnegative\"},\n",
    "            \"yaxis\": {\"title\": \"#Regions with SH problem\"}\n",
    "           }\n",
    "\n",
    "fig.update_layout(p_layout)\n",
    "# fig.write_image(\"ap_16_19.png\")\n",
    "pio.show(fig)"
   ],
   "metadata": {
    "collapsed": false,
    "pycharm": {
     "name": "#%%\n",
     "is_executing": false
    }
   }
  },
  {
   "cell_type": "code",
   "execution_count": null,
   "outputs": [],
   "source": [],
   "metadata": {
    "collapsed": false,
    "pycharm": {
     "name": "#%%\n"
    }
   }
  },
  {
   "cell_type": "code",
   "execution_count": 56,
   "outputs": [
    {
     "data": {
      "text/plain": "      index  reg_id  region_id        region_name  date_valid  region_type_id  \\\n45       45  133407       3022        Trollheimen  2017-12-02              10   \n46       46  133408       3023            Romsdal  2017-12-02              10   \n47       47  133409       3024           Sunnmøre  2017-12-02              10   \n48       48  133410       3027     Indre Fjordane  2017-12-02              10   \n51       51  133413       3031               Voss  2017-12-02              10   \n...     ...     ...        ...                ...         ...             ...   \n2242   2242  150321       3032         Hallingdal  2018-03-15              10   \n2249   2249  150520       3011             Tromsø  2018-03-16              10   \n2255   2255  150526       3017          Svartisen  2018-03-16              10   \n2263   2263  150534       3032         Hallingdal  2018-03-16              10   \n3016   3016  160403       3003  Nordenskiöld Land  2018-04-21              10   \n\n     region_type_name  utm_east  utm_north  utm_zone  ...  \\\n45                  A    210810    6991060        33  ...   \n46                  A    123434    6960580        33  ...   \n47                  A     62473    6916553        33  ...   \n48                  A     34025    6868801        33  ...   \n51                  A     28607    6779054        33  ...   \n...               ...       ...        ...       ...  ...   \n2242                A    150188    6763814        33  ...   \n2249                A    656496    7764237        33  ...   \n2255                A    464133    7381882        33  ...   \n2263                A    150188    6763814        33  ...   \n3016                A    520332    8663904        33  ...   \n\n     avalanche_problem_3_trigger_simple_id  \\\n45                                       0   \n46                                       0   \n47                                       0   \n48                                       0   \n51                                       0   \n...                                    ...   \n2242                                     0   \n2249                                     0   \n2255                                     0   \n2263                                     0   \n3016                                     0   \n\n     avalanche_problem_3_trigger_simple_name  \\\n45                                 Not given   \n46                                 Not given   \n47                                 Not given   \n48                                 Not given   \n51                                 Not given   \n...                                      ...   \n2242                               Not given   \n2249                               Not given   \n2255                               Not given   \n2263                               Not given   \n3016                               Not given   \n\n     avalanche_problem_3_distribution_id  \\\n45                                     0   \n46                                     0   \n47                                     0   \n48                                     0   \n51                                     0   \n...                                  ...   \n2242                                   0   \n2249                                   0   \n2255                                   0   \n2263                                   0   \n3016                                   0   \n\n      avalanche_problem_3_distribution_name  \\\n45                                Not given   \n46                                Not given   \n47                                Not given   \n48                                Not given   \n51                                Not given   \n...                                     ...   \n2242                              Not given   \n2249                              Not given   \n2255                              Not given   \n2263                              Not given   \n3016                              Not given   \n\n     avalanche_problem_3_exposed_height_fill  \\\n45                                         0   \n46                                         0   \n47                                         0   \n48                                         0   \n51                                         0   \n...                                      ...   \n2242                                       0   \n2249                                       0   \n2255                                       0   \n2263                                       0   \n3016                                       0   \n\n     avalanche_problem_3_exposed_height_1  \\\n45                                      0   \n46                                      0   \n47                                      0   \n48                                      0   \n51                                      0   \n...                                   ...   \n2242                                    0   \n2249                                    0   \n2255                                    0   \n2263                                    0   \n3016                                    0   \n\n     avalanche_problem_3_exposed_height_2  \\\n45                                      0   \n46                                      0   \n47                                      0   \n48                                      0   \n51                                      0   \n...                                   ...   \n2242                                    0   \n2249                                    0   \n2255                                    0   \n2263                                    0   \n3016                                    0   \n\n     avalanche_problem_3_valid_expositions avalanche_problem_3_advice  \\\n45                                       0                  Not given   \n46                                       0                  Not given   \n47                                       0                  Not given   \n48                                       0                  Not given   \n51                                       0                  Not given   \n...                                    ...                        ...   \n2242                                     0                  Not given   \n2249                                     0                  Not given   \n2255                                     0                  Not given   \n2263                                     0                  Not given   \n3016                                     0                  Not given   \n\n     occurrence  \n45            1  \n46            1  \n47            1  \n48            1  \n51            1  \n...         ...  \n2242          1  \n2249          1  \n2255          1  \n2263          1  \n3016          1  \n\n[117 rows x 104 columns]",
      "text/html": "<div>\n<style scoped>\n    .dataframe tbody tr th:only-of-type {\n        vertical-align: middle;\n    }\n\n    .dataframe tbody tr th {\n        vertical-align: top;\n    }\n\n    .dataframe thead th {\n        text-align: right;\n    }\n</style>\n<table border=\"1\" class=\"dataframe\">\n  <thead>\n    <tr style=\"text-align: right;\">\n      <th></th>\n      <th>index</th>\n      <th>reg_id</th>\n      <th>region_id</th>\n      <th>region_name</th>\n      <th>date_valid</th>\n      <th>region_type_id</th>\n      <th>region_type_name</th>\n      <th>utm_east</th>\n      <th>utm_north</th>\n      <th>utm_zone</th>\n      <th>...</th>\n      <th>avalanche_problem_3_trigger_simple_id</th>\n      <th>avalanche_problem_3_trigger_simple_name</th>\n      <th>avalanche_problem_3_distribution_id</th>\n      <th>avalanche_problem_3_distribution_name</th>\n      <th>avalanche_problem_3_exposed_height_fill</th>\n      <th>avalanche_problem_3_exposed_height_1</th>\n      <th>avalanche_problem_3_exposed_height_2</th>\n      <th>avalanche_problem_3_valid_expositions</th>\n      <th>avalanche_problem_3_advice</th>\n      <th>occurrence</th>\n    </tr>\n  </thead>\n  <tbody>\n    <tr>\n      <th>45</th>\n      <td>45</td>\n      <td>133407</td>\n      <td>3022</td>\n      <td>Trollheimen</td>\n      <td>2017-12-02</td>\n      <td>10</td>\n      <td>A</td>\n      <td>210810</td>\n      <td>6991060</td>\n      <td>33</td>\n      <td>...</td>\n      <td>0</td>\n      <td>Not given</td>\n      <td>0</td>\n      <td>Not given</td>\n      <td>0</td>\n      <td>0</td>\n      <td>0</td>\n      <td>0</td>\n      <td>Not given</td>\n      <td>1</td>\n    </tr>\n    <tr>\n      <th>46</th>\n      <td>46</td>\n      <td>133408</td>\n      <td>3023</td>\n      <td>Romsdal</td>\n      <td>2017-12-02</td>\n      <td>10</td>\n      <td>A</td>\n      <td>123434</td>\n      <td>6960580</td>\n      <td>33</td>\n      <td>...</td>\n      <td>0</td>\n      <td>Not given</td>\n      <td>0</td>\n      <td>Not given</td>\n      <td>0</td>\n      <td>0</td>\n      <td>0</td>\n      <td>0</td>\n      <td>Not given</td>\n      <td>1</td>\n    </tr>\n    <tr>\n      <th>47</th>\n      <td>47</td>\n      <td>133409</td>\n      <td>3024</td>\n      <td>Sunnmøre</td>\n      <td>2017-12-02</td>\n      <td>10</td>\n      <td>A</td>\n      <td>62473</td>\n      <td>6916553</td>\n      <td>33</td>\n      <td>...</td>\n      <td>0</td>\n      <td>Not given</td>\n      <td>0</td>\n      <td>Not given</td>\n      <td>0</td>\n      <td>0</td>\n      <td>0</td>\n      <td>0</td>\n      <td>Not given</td>\n      <td>1</td>\n    </tr>\n    <tr>\n      <th>48</th>\n      <td>48</td>\n      <td>133410</td>\n      <td>3027</td>\n      <td>Indre Fjordane</td>\n      <td>2017-12-02</td>\n      <td>10</td>\n      <td>A</td>\n      <td>34025</td>\n      <td>6868801</td>\n      <td>33</td>\n      <td>...</td>\n      <td>0</td>\n      <td>Not given</td>\n      <td>0</td>\n      <td>Not given</td>\n      <td>0</td>\n      <td>0</td>\n      <td>0</td>\n      <td>0</td>\n      <td>Not given</td>\n      <td>1</td>\n    </tr>\n    <tr>\n      <th>51</th>\n      <td>51</td>\n      <td>133413</td>\n      <td>3031</td>\n      <td>Voss</td>\n      <td>2017-12-02</td>\n      <td>10</td>\n      <td>A</td>\n      <td>28607</td>\n      <td>6779054</td>\n      <td>33</td>\n      <td>...</td>\n      <td>0</td>\n      <td>Not given</td>\n      <td>0</td>\n      <td>Not given</td>\n      <td>0</td>\n      <td>0</td>\n      <td>0</td>\n      <td>0</td>\n      <td>Not given</td>\n      <td>1</td>\n    </tr>\n    <tr>\n      <th>...</th>\n      <td>...</td>\n      <td>...</td>\n      <td>...</td>\n      <td>...</td>\n      <td>...</td>\n      <td>...</td>\n      <td>...</td>\n      <td>...</td>\n      <td>...</td>\n      <td>...</td>\n      <td>...</td>\n      <td>...</td>\n      <td>...</td>\n      <td>...</td>\n      <td>...</td>\n      <td>...</td>\n      <td>...</td>\n      <td>...</td>\n      <td>...</td>\n      <td>...</td>\n      <td>...</td>\n    </tr>\n    <tr>\n      <th>2242</th>\n      <td>2242</td>\n      <td>150321</td>\n      <td>3032</td>\n      <td>Hallingdal</td>\n      <td>2018-03-15</td>\n      <td>10</td>\n      <td>A</td>\n      <td>150188</td>\n      <td>6763814</td>\n      <td>33</td>\n      <td>...</td>\n      <td>0</td>\n      <td>Not given</td>\n      <td>0</td>\n      <td>Not given</td>\n      <td>0</td>\n      <td>0</td>\n      <td>0</td>\n      <td>0</td>\n      <td>Not given</td>\n      <td>1</td>\n    </tr>\n    <tr>\n      <th>2249</th>\n      <td>2249</td>\n      <td>150520</td>\n      <td>3011</td>\n      <td>Tromsø</td>\n      <td>2018-03-16</td>\n      <td>10</td>\n      <td>A</td>\n      <td>656496</td>\n      <td>7764237</td>\n      <td>33</td>\n      <td>...</td>\n      <td>0</td>\n      <td>Not given</td>\n      <td>0</td>\n      <td>Not given</td>\n      <td>0</td>\n      <td>0</td>\n      <td>0</td>\n      <td>0</td>\n      <td>Not given</td>\n      <td>1</td>\n    </tr>\n    <tr>\n      <th>2255</th>\n      <td>2255</td>\n      <td>150526</td>\n      <td>3017</td>\n      <td>Svartisen</td>\n      <td>2018-03-16</td>\n      <td>10</td>\n      <td>A</td>\n      <td>464133</td>\n      <td>7381882</td>\n      <td>33</td>\n      <td>...</td>\n      <td>0</td>\n      <td>Not given</td>\n      <td>0</td>\n      <td>Not given</td>\n      <td>0</td>\n      <td>0</td>\n      <td>0</td>\n      <td>0</td>\n      <td>Not given</td>\n      <td>1</td>\n    </tr>\n    <tr>\n      <th>2263</th>\n      <td>2263</td>\n      <td>150534</td>\n      <td>3032</td>\n      <td>Hallingdal</td>\n      <td>2018-03-16</td>\n      <td>10</td>\n      <td>A</td>\n      <td>150188</td>\n      <td>6763814</td>\n      <td>33</td>\n      <td>...</td>\n      <td>0</td>\n      <td>Not given</td>\n      <td>0</td>\n      <td>Not given</td>\n      <td>0</td>\n      <td>0</td>\n      <td>0</td>\n      <td>0</td>\n      <td>Not given</td>\n      <td>1</td>\n    </tr>\n    <tr>\n      <th>3016</th>\n      <td>3016</td>\n      <td>160403</td>\n      <td>3003</td>\n      <td>Nordenskiöld Land</td>\n      <td>2018-04-21</td>\n      <td>10</td>\n      <td>A</td>\n      <td>520332</td>\n      <td>8663904</td>\n      <td>33</td>\n      <td>...</td>\n      <td>0</td>\n      <td>Not given</td>\n      <td>0</td>\n      <td>Not given</td>\n      <td>0</td>\n      <td>0</td>\n      <td>0</td>\n      <td>0</td>\n      <td>Not given</td>\n      <td>1</td>\n    </tr>\n  </tbody>\n</table>\n<p>117 rows × 104 columns</p>\n</div>"
     },
     "metadata": {},
     "output_type": "execute_result",
     "execution_count": 56
    }
   ],
   "source": [
    "# s1718[s1718['avalanche_problem_1_cause_name']=='Nedsnødd eller nedføyket overflaterim']['avalanche_problem_1_cause_id']\n",
    "\n",
    "sh_df1718 = s1718[s1718['avalanche_problem_1_cause_id']==11].copy()\n",
    "sh_df1718['occurrence'] = 1\n",
    "sh_df1718"
   ],
   "metadata": {
    "collapsed": false,
    "pycharm": {
     "name": "#%%\n",
     "is_executing": false
    }
   }
  },
  {
   "cell_type": "code",
   "execution_count": 57,
   "outputs": [
    {
     "data": {
      "application/vnd.plotly.v1+json": {
       "config": {
        "plotlyServerURL": "https://plot.ly"
       },
       "data": [
        {
         "name": "Avalanche problem frequency",
         "type": "bar",
         "x": [
          "2017-12-02",
          "2017-12-02",
          "2017-12-02",
          "2017-12-02",
          "2017-12-02",
          "2017-12-02",
          "2017-12-03",
          "2017-12-03",
          "2017-12-03",
          "2017-12-03",
          "2017-12-03",
          "2017-12-03",
          "2017-12-03",
          "2017-12-04",
          "2017-12-04",
          "2017-12-04",
          "2017-12-04",
          "2017-12-04",
          "2017-12-04",
          "2017-12-04",
          "2017-12-05",
          "2017-12-06",
          "2017-12-15",
          "2017-12-16",
          "2017-12-16",
          "2017-12-17",
          "2017-12-18",
          "2017-12-31",
          "2018-01-01",
          "2018-01-02",
          "2018-01-02",
          "2018-01-03",
          "2018-01-03",
          "2018-01-04",
          "2018-01-04",
          "2018-01-04",
          "2018-01-04",
          "2018-01-05",
          "2018-01-05",
          "2018-01-05",
          "2018-01-05",
          "2018-01-06",
          "2018-01-06",
          "2018-01-06",
          "2018-01-07",
          "2018-01-08",
          "2018-01-09",
          "2018-01-18",
          "2018-01-19",
          "2018-01-20",
          "2018-01-21",
          "2018-01-22",
          "2018-01-23",
          "2018-01-23",
          "2018-01-24",
          "2018-01-25",
          "2018-01-28",
          "2018-01-28",
          "2018-01-29",
          "2018-01-30",
          "2018-01-31",
          "2018-02-08",
          "2018-02-09",
          "2018-02-17",
          "2018-02-18",
          "2018-02-23",
          "2018-02-23",
          "2018-02-24",
          "2018-02-24",
          "2018-02-25",
          "2018-02-25",
          "2018-02-25",
          "2018-02-25",
          "2018-02-26",
          "2018-02-26",
          "2018-02-27",
          "2018-02-28",
          "2018-02-28",
          "2018-03-01",
          "2018-03-01",
          "2018-03-01",
          "2018-03-01",
          "2018-03-01",
          "2018-03-02",
          "2018-03-02",
          "2018-03-02",
          "2018-03-02",
          "2018-03-02",
          "2018-03-03",
          "2018-03-03",
          "2018-03-03",
          "2018-03-03",
          "2018-03-03",
          "2018-03-04",
          "2018-03-04",
          "2018-03-04",
          "2018-03-05",
          "2018-03-05",
          "2018-03-06",
          "2018-03-07",
          "2018-03-08",
          "2018-03-09",
          "2018-03-12",
          "2018-03-13",
          "2018-03-13",
          "2018-03-14",
          "2018-03-14",
          "2018-03-14",
          "2018-03-14",
          "2018-03-14",
          "2018-03-15",
          "2018-03-15",
          "2018-03-15",
          "2018-03-16",
          "2018-03-16",
          "2018-03-16",
          "2018-04-21"
         ],
         "y": [
          1,
          1,
          1,
          1,
          1,
          1,
          1,
          1,
          1,
          1,
          1,
          1,
          1,
          1,
          1,
          1,
          1,
          1,
          1,
          1,
          1,
          1,
          1,
          1,
          1,
          1,
          1,
          1,
          1,
          1,
          1,
          1,
          1,
          1,
          1,
          1,
          1,
          1,
          1,
          1,
          1,
          1,
          1,
          1,
          1,
          1,
          1,
          1,
          1,
          1,
          1,
          1,
          1,
          1,
          1,
          1,
          1,
          1,
          1,
          1,
          1,
          1,
          1,
          1,
          1,
          1,
          1,
          1,
          1,
          1,
          1,
          1,
          1,
          1,
          1,
          1,
          1,
          1,
          1,
          1,
          1,
          1,
          1,
          1,
          1,
          1,
          1,
          1,
          1,
          1,
          1,
          1,
          1,
          1,
          1,
          1,
          1,
          1,
          1,
          1,
          1,
          1,
          1,
          1,
          1,
          1,
          1,
          1,
          1,
          1,
          1,
          1,
          1,
          1,
          1,
          1,
          1
         ]
        }
       ],
       "layout": {
        "legend": {
         "orientation": "h"
        },
        "showlegend": false,
        "template": {
         "data": {
          "bar": [
           {
            "error_x": {
             "color": "#2a3f5f"
            },
            "error_y": {
             "color": "#2a3f5f"
            },
            "marker": {
             "line": {
              "color": "white",
              "width": 0.5
             }
            },
            "type": "bar"
           }
          ],
          "barpolar": [
           {
            "marker": {
             "line": {
              "color": "white",
              "width": 0.5
             }
            },
            "type": "barpolar"
           }
          ],
          "carpet": [
           {
            "aaxis": {
             "endlinecolor": "#2a3f5f",
             "gridcolor": "#C8D4E3",
             "linecolor": "#C8D4E3",
             "minorgridcolor": "#C8D4E3",
             "startlinecolor": "#2a3f5f"
            },
            "baxis": {
             "endlinecolor": "#2a3f5f",
             "gridcolor": "#C8D4E3",
             "linecolor": "#C8D4E3",
             "minorgridcolor": "#C8D4E3",
             "startlinecolor": "#2a3f5f"
            },
            "type": "carpet"
           }
          ],
          "choropleth": [
           {
            "colorbar": {
             "outlinewidth": 0,
             "ticks": ""
            },
            "type": "choropleth"
           }
          ],
          "contour": [
           {
            "colorbar": {
             "outlinewidth": 0,
             "ticks": ""
            },
            "colorscale": [
             [
              0.0,
              "#0d0887"
             ],
             [
              0.1111111111111111,
              "#46039f"
             ],
             [
              0.2222222222222222,
              "#7201a8"
             ],
             [
              0.3333333333333333,
              "#9c179e"
             ],
             [
              0.4444444444444444,
              "#bd3786"
             ],
             [
              0.5555555555555556,
              "#d8576b"
             ],
             [
              0.6666666666666666,
              "#ed7953"
             ],
             [
              0.7777777777777778,
              "#fb9f3a"
             ],
             [
              0.8888888888888888,
              "#fdca26"
             ],
             [
              1.0,
              "#f0f921"
             ]
            ],
            "type": "contour"
           }
          ],
          "contourcarpet": [
           {
            "colorbar": {
             "outlinewidth": 0,
             "ticks": ""
            },
            "type": "contourcarpet"
           }
          ],
          "heatmap": [
           {
            "colorbar": {
             "outlinewidth": 0,
             "ticks": ""
            },
            "colorscale": [
             [
              0.0,
              "#0d0887"
             ],
             [
              0.1111111111111111,
              "#46039f"
             ],
             [
              0.2222222222222222,
              "#7201a8"
             ],
             [
              0.3333333333333333,
              "#9c179e"
             ],
             [
              0.4444444444444444,
              "#bd3786"
             ],
             [
              0.5555555555555556,
              "#d8576b"
             ],
             [
              0.6666666666666666,
              "#ed7953"
             ],
             [
              0.7777777777777778,
              "#fb9f3a"
             ],
             [
              0.8888888888888888,
              "#fdca26"
             ],
             [
              1.0,
              "#f0f921"
             ]
            ],
            "type": "heatmap"
           }
          ],
          "heatmapgl": [
           {
            "colorbar": {
             "outlinewidth": 0,
             "ticks": ""
            },
            "colorscale": [
             [
              0.0,
              "#0d0887"
             ],
             [
              0.1111111111111111,
              "#46039f"
             ],
             [
              0.2222222222222222,
              "#7201a8"
             ],
             [
              0.3333333333333333,
              "#9c179e"
             ],
             [
              0.4444444444444444,
              "#bd3786"
             ],
             [
              0.5555555555555556,
              "#d8576b"
             ],
             [
              0.6666666666666666,
              "#ed7953"
             ],
             [
              0.7777777777777778,
              "#fb9f3a"
             ],
             [
              0.8888888888888888,
              "#fdca26"
             ],
             [
              1.0,
              "#f0f921"
             ]
            ],
            "type": "heatmapgl"
           }
          ],
          "histogram": [
           {
            "marker": {
             "colorbar": {
              "outlinewidth": 0,
              "ticks": ""
             }
            },
            "type": "histogram"
           }
          ],
          "histogram2d": [
           {
            "colorbar": {
             "outlinewidth": 0,
             "ticks": ""
            },
            "colorscale": [
             [
              0.0,
              "#0d0887"
             ],
             [
              0.1111111111111111,
              "#46039f"
             ],
             [
              0.2222222222222222,
              "#7201a8"
             ],
             [
              0.3333333333333333,
              "#9c179e"
             ],
             [
              0.4444444444444444,
              "#bd3786"
             ],
             [
              0.5555555555555556,
              "#d8576b"
             ],
             [
              0.6666666666666666,
              "#ed7953"
             ],
             [
              0.7777777777777778,
              "#fb9f3a"
             ],
             [
              0.8888888888888888,
              "#fdca26"
             ],
             [
              1.0,
              "#f0f921"
             ]
            ],
            "type": "histogram2d"
           }
          ],
          "histogram2dcontour": [
           {
            "colorbar": {
             "outlinewidth": 0,
             "ticks": ""
            },
            "colorscale": [
             [
              0.0,
              "#0d0887"
             ],
             [
              0.1111111111111111,
              "#46039f"
             ],
             [
              0.2222222222222222,
              "#7201a8"
             ],
             [
              0.3333333333333333,
              "#9c179e"
             ],
             [
              0.4444444444444444,
              "#bd3786"
             ],
             [
              0.5555555555555556,
              "#d8576b"
             ],
             [
              0.6666666666666666,
              "#ed7953"
             ],
             [
              0.7777777777777778,
              "#fb9f3a"
             ],
             [
              0.8888888888888888,
              "#fdca26"
             ],
             [
              1.0,
              "#f0f921"
             ]
            ],
            "type": "histogram2dcontour"
           }
          ],
          "mesh3d": [
           {
            "colorbar": {
             "outlinewidth": 0,
             "ticks": ""
            },
            "type": "mesh3d"
           }
          ],
          "parcoords": [
           {
            "line": {
             "colorbar": {
              "outlinewidth": 0,
              "ticks": ""
             }
            },
            "type": "parcoords"
           }
          ],
          "pie": [
           {
            "automargin": true,
            "type": "pie"
           }
          ],
          "scatter": [
           {
            "marker": {
             "colorbar": {
              "outlinewidth": 0,
              "ticks": ""
             }
            },
            "type": "scatter"
           }
          ],
          "scatter3d": [
           {
            "line": {
             "colorbar": {
              "outlinewidth": 0,
              "ticks": ""
             }
            },
            "marker": {
             "colorbar": {
              "outlinewidth": 0,
              "ticks": ""
             }
            },
            "type": "scatter3d"
           }
          ],
          "scattercarpet": [
           {
            "marker": {
             "colorbar": {
              "outlinewidth": 0,
              "ticks": ""
             }
            },
            "type": "scattercarpet"
           }
          ],
          "scattergeo": [
           {
            "marker": {
             "colorbar": {
              "outlinewidth": 0,
              "ticks": ""
             }
            },
            "type": "scattergeo"
           }
          ],
          "scattergl": [
           {
            "marker": {
             "colorbar": {
              "outlinewidth": 0,
              "ticks": ""
             }
            },
            "type": "scattergl"
           }
          ],
          "scattermapbox": [
           {
            "marker": {
             "colorbar": {
              "outlinewidth": 0,
              "ticks": ""
             }
            },
            "type": "scattermapbox"
           }
          ],
          "scatterpolar": [
           {
            "marker": {
             "colorbar": {
              "outlinewidth": 0,
              "ticks": ""
             }
            },
            "type": "scatterpolar"
           }
          ],
          "scatterpolargl": [
           {
            "marker": {
             "colorbar": {
              "outlinewidth": 0,
              "ticks": ""
             }
            },
            "type": "scatterpolargl"
           }
          ],
          "scatterternary": [
           {
            "marker": {
             "colorbar": {
              "outlinewidth": 0,
              "ticks": ""
             }
            },
            "type": "scatterternary"
           }
          ],
          "surface": [
           {
            "colorbar": {
             "outlinewidth": 0,
             "ticks": ""
            },
            "colorscale": [
             [
              0.0,
              "#0d0887"
             ],
             [
              0.1111111111111111,
              "#46039f"
             ],
             [
              0.2222222222222222,
              "#7201a8"
             ],
             [
              0.3333333333333333,
              "#9c179e"
             ],
             [
              0.4444444444444444,
              "#bd3786"
             ],
             [
              0.5555555555555556,
              "#d8576b"
             ],
             [
              0.6666666666666666,
              "#ed7953"
             ],
             [
              0.7777777777777778,
              "#fb9f3a"
             ],
             [
              0.8888888888888888,
              "#fdca26"
             ],
             [
              1.0,
              "#f0f921"
             ]
            ],
            "type": "surface"
           }
          ],
          "table": [
           {
            "cells": {
             "fill": {
              "color": "#EBF0F8"
             },
             "line": {
              "color": "white"
             }
            },
            "header": {
             "fill": {
              "color": "#C8D4E3"
             },
             "line": {
              "color": "white"
             }
            },
            "type": "table"
           }
          ]
         },
         "layout": {
          "annotationdefaults": {
           "arrowcolor": "#2a3f5f",
           "arrowhead": 0,
           "arrowwidth": 1
          },
          "coloraxis": {
           "colorbar": {
            "outlinewidth": 0,
            "ticks": ""
           }
          },
          "colorscale": {
           "diverging": [
            [
             0,
             "#8e0152"
            ],
            [
             0.1,
             "#c51b7d"
            ],
            [
             0.2,
             "#de77ae"
            ],
            [
             0.3,
             "#f1b6da"
            ],
            [
             0.4,
             "#fde0ef"
            ],
            [
             0.5,
             "#f7f7f7"
            ],
            [
             0.6,
             "#e6f5d0"
            ],
            [
             0.7,
             "#b8e186"
            ],
            [
             0.8,
             "#7fbc41"
            ],
            [
             0.9,
             "#4d9221"
            ],
            [
             1,
             "#276419"
            ]
           ],
           "sequential": [
            [
             0.0,
             "#0d0887"
            ],
            [
             0.1111111111111111,
             "#46039f"
            ],
            [
             0.2222222222222222,
             "#7201a8"
            ],
            [
             0.3333333333333333,
             "#9c179e"
            ],
            [
             0.4444444444444444,
             "#bd3786"
            ],
            [
             0.5555555555555556,
             "#d8576b"
            ],
            [
             0.6666666666666666,
             "#ed7953"
            ],
            [
             0.7777777777777778,
             "#fb9f3a"
            ],
            [
             0.8888888888888888,
             "#fdca26"
            ],
            [
             1.0,
             "#f0f921"
            ]
           ],
           "sequentialminus": [
            [
             0.0,
             "#0d0887"
            ],
            [
             0.1111111111111111,
             "#46039f"
            ],
            [
             0.2222222222222222,
             "#7201a8"
            ],
            [
             0.3333333333333333,
             "#9c179e"
            ],
            [
             0.4444444444444444,
             "#bd3786"
            ],
            [
             0.5555555555555556,
             "#d8576b"
            ],
            [
             0.6666666666666666,
             "#ed7953"
            ],
            [
             0.7777777777777778,
             "#fb9f3a"
            ],
            [
             0.8888888888888888,
             "#fdca26"
            ],
            [
             1.0,
             "#f0f921"
            ]
           ]
          },
          "colorway": [
           "#636efa",
           "#EF553B",
           "#00cc96",
           "#ab63fa",
           "#FFA15A",
           "#19d3f3",
           "#FF6692",
           "#B6E880",
           "#FF97FF",
           "#FECB52"
          ],
          "font": {
           "color": "#2a3f5f"
          },
          "geo": {
           "bgcolor": "white",
           "lakecolor": "white",
           "landcolor": "white",
           "showlakes": true,
           "showland": true,
           "subunitcolor": "#C8D4E3"
          },
          "hoverlabel": {
           "align": "left"
          },
          "hovermode": "closest",
          "mapbox": {
           "style": "light"
          },
          "paper_bgcolor": "white",
          "plot_bgcolor": "white",
          "polar": {
           "angularaxis": {
            "gridcolor": "#EBF0F8",
            "linecolor": "#EBF0F8",
            "ticks": ""
           },
           "bgcolor": "white",
           "radialaxis": {
            "gridcolor": "#EBF0F8",
            "linecolor": "#EBF0F8",
            "ticks": ""
           }
          },
          "scene": {
           "xaxis": {
            "backgroundcolor": "white",
            "gridcolor": "#DFE8F3",
            "gridwidth": 2,
            "linecolor": "#EBF0F8",
            "showbackground": true,
            "ticks": "",
            "zerolinecolor": "#EBF0F8"
           },
           "yaxis": {
            "backgroundcolor": "white",
            "gridcolor": "#DFE8F3",
            "gridwidth": 2,
            "linecolor": "#EBF0F8",
            "showbackground": true,
            "ticks": "",
            "zerolinecolor": "#EBF0F8"
           },
           "zaxis": {
            "backgroundcolor": "white",
            "gridcolor": "#DFE8F3",
            "gridwidth": 2,
            "linecolor": "#EBF0F8",
            "showbackground": true,
            "ticks": "",
            "zerolinecolor": "#EBF0F8"
           }
          },
          "shapedefaults": {
           "line": {
            "color": "#2a3f5f"
           }
          },
          "ternary": {
           "aaxis": {
            "gridcolor": "#DFE8F3",
            "linecolor": "#A2B1C6",
            "ticks": ""
           },
           "baxis": {
            "gridcolor": "#DFE8F3",
            "linecolor": "#A2B1C6",
            "ticks": ""
           },
           "bgcolor": "white",
           "caxis": {
            "gridcolor": "#DFE8F3",
            "linecolor": "#A2B1C6",
            "ticks": ""
           }
          },
          "title": {
           "x": 0.05
          },
          "xaxis": {
           "automargin": true,
           "gridcolor": "#EBF0F8",
           "linecolor": "#EBF0F8",
           "ticks": "",
           "title": {
            "standoff": 15
           },
           "zerolinecolor": "#EBF0F8",
           "zerolinewidth": 2
          },
          "yaxis": {
           "automargin": true,
           "gridcolor": "#EBF0F8",
           "linecolor": "#EBF0F8",
           "ticks": "",
           "title": {
            "standoff": 15
           },
           "zerolinecolor": "#EBF0F8",
           "zerolinewidth": 2
          }
         }
        },
        "title": {
         "text": "Surface hoar 2017-2018"
        },
        "yaxis": {
         "title": {
          "text": "#Regions with SH problem"
         }
        }
       }
      },
      "text/html": "<div>\n        \n        \n            <div id=\"77947c2b-6737-4156-b200-9c6f2e50ab96\" class=\"plotly-graph-div\" style=\"height:525px; width:100%;\"></div>\n            <script type=\"text/javascript\">\n                require([\"plotly\"], function(Plotly) {\n                    window.PLOTLYENV=window.PLOTLYENV || {};\n                    \n                if (document.getElementById(\"77947c2b-6737-4156-b200-9c6f2e50ab96\")) {\n                    Plotly.newPlot(\n                        '77947c2b-6737-4156-b200-9c6f2e50ab96',\n                        [{\"name\": \"Avalanche problem frequency\", \"type\": \"bar\", \"x\": [\"2017-12-02\", \"2017-12-02\", \"2017-12-02\", \"2017-12-02\", \"2017-12-02\", \"2017-12-02\", \"2017-12-03\", \"2017-12-03\", \"2017-12-03\", \"2017-12-03\", \"2017-12-03\", \"2017-12-03\", \"2017-12-03\", \"2017-12-04\", \"2017-12-04\", \"2017-12-04\", \"2017-12-04\", \"2017-12-04\", \"2017-12-04\", \"2017-12-04\", \"2017-12-05\", \"2017-12-06\", \"2017-12-15\", \"2017-12-16\", \"2017-12-16\", \"2017-12-17\", \"2017-12-18\", \"2017-12-31\", \"2018-01-01\", \"2018-01-02\", \"2018-01-02\", \"2018-01-03\", \"2018-01-03\", \"2018-01-04\", \"2018-01-04\", \"2018-01-04\", \"2018-01-04\", \"2018-01-05\", \"2018-01-05\", \"2018-01-05\", \"2018-01-05\", \"2018-01-06\", \"2018-01-06\", \"2018-01-06\", \"2018-01-07\", \"2018-01-08\", \"2018-01-09\", \"2018-01-18\", \"2018-01-19\", \"2018-01-20\", \"2018-01-21\", \"2018-01-22\", \"2018-01-23\", \"2018-01-23\", \"2018-01-24\", \"2018-01-25\", \"2018-01-28\", \"2018-01-28\", \"2018-01-29\", \"2018-01-30\", \"2018-01-31\", \"2018-02-08\", \"2018-02-09\", \"2018-02-17\", \"2018-02-18\", \"2018-02-23\", \"2018-02-23\", \"2018-02-24\", \"2018-02-24\", \"2018-02-25\", \"2018-02-25\", \"2018-02-25\", \"2018-02-25\", \"2018-02-26\", \"2018-02-26\", \"2018-02-27\", \"2018-02-28\", \"2018-02-28\", \"2018-03-01\", \"2018-03-01\", \"2018-03-01\", \"2018-03-01\", \"2018-03-01\", \"2018-03-02\", \"2018-03-02\", \"2018-03-02\", \"2018-03-02\", \"2018-03-02\", \"2018-03-03\", \"2018-03-03\", \"2018-03-03\", \"2018-03-03\", \"2018-03-03\", \"2018-03-04\", \"2018-03-04\", \"2018-03-04\", \"2018-03-05\", \"2018-03-05\", \"2018-03-06\", \"2018-03-07\", \"2018-03-08\", \"2018-03-09\", \"2018-03-12\", \"2018-03-13\", \"2018-03-13\", \"2018-03-14\", \"2018-03-14\", \"2018-03-14\", \"2018-03-14\", \"2018-03-14\", \"2018-03-15\", \"2018-03-15\", \"2018-03-15\", \"2018-03-16\", \"2018-03-16\", \"2018-03-16\", \"2018-04-21\"], \"y\": [1, 1, 1, 1, 1, 1, 1, 1, 1, 1, 1, 1, 1, 1, 1, 1, 1, 1, 1, 1, 1, 1, 1, 1, 1, 1, 1, 1, 1, 1, 1, 1, 1, 1, 1, 1, 1, 1, 1, 1, 1, 1, 1, 1, 1, 1, 1, 1, 1, 1, 1, 1, 1, 1, 1, 1, 1, 1, 1, 1, 1, 1, 1, 1, 1, 1, 1, 1, 1, 1, 1, 1, 1, 1, 1, 1, 1, 1, 1, 1, 1, 1, 1, 1, 1, 1, 1, 1, 1, 1, 1, 1, 1, 1, 1, 1, 1, 1, 1, 1, 1, 1, 1, 1, 1, 1, 1, 1, 1, 1, 1, 1, 1, 1, 1, 1, 1]}],\n                        {\"legend\": {\"orientation\": \"h\"}, \"showlegend\": false, \"template\": {\"data\": {\"bar\": [{\"error_x\": {\"color\": \"#2a3f5f\"}, \"error_y\": {\"color\": \"#2a3f5f\"}, \"marker\": {\"line\": {\"color\": \"white\", \"width\": 0.5}}, \"type\": \"bar\"}], \"barpolar\": [{\"marker\": {\"line\": {\"color\": \"white\", \"width\": 0.5}}, \"type\": \"barpolar\"}], \"carpet\": [{\"aaxis\": {\"endlinecolor\": \"#2a3f5f\", \"gridcolor\": \"#C8D4E3\", \"linecolor\": \"#C8D4E3\", \"minorgridcolor\": \"#C8D4E3\", \"startlinecolor\": \"#2a3f5f\"}, \"baxis\": {\"endlinecolor\": \"#2a3f5f\", \"gridcolor\": \"#C8D4E3\", \"linecolor\": \"#C8D4E3\", \"minorgridcolor\": \"#C8D4E3\", \"startlinecolor\": \"#2a3f5f\"}, \"type\": \"carpet\"}], \"choropleth\": [{\"colorbar\": {\"outlinewidth\": 0, \"ticks\": \"\"}, \"type\": \"choropleth\"}], \"contour\": [{\"colorbar\": {\"outlinewidth\": 0, \"ticks\": \"\"}, \"colorscale\": [[0.0, \"#0d0887\"], [0.1111111111111111, \"#46039f\"], [0.2222222222222222, \"#7201a8\"], [0.3333333333333333, \"#9c179e\"], [0.4444444444444444, \"#bd3786\"], [0.5555555555555556, \"#d8576b\"], [0.6666666666666666, \"#ed7953\"], [0.7777777777777778, \"#fb9f3a\"], [0.8888888888888888, \"#fdca26\"], [1.0, \"#f0f921\"]], \"type\": \"contour\"}], \"contourcarpet\": [{\"colorbar\": {\"outlinewidth\": 0, \"ticks\": \"\"}, \"type\": \"contourcarpet\"}], \"heatmap\": [{\"colorbar\": {\"outlinewidth\": 0, \"ticks\": \"\"}, \"colorscale\": [[0.0, \"#0d0887\"], [0.1111111111111111, \"#46039f\"], [0.2222222222222222, \"#7201a8\"], [0.3333333333333333, \"#9c179e\"], [0.4444444444444444, \"#bd3786\"], [0.5555555555555556, \"#d8576b\"], [0.6666666666666666, \"#ed7953\"], [0.7777777777777778, \"#fb9f3a\"], [0.8888888888888888, \"#fdca26\"], [1.0, \"#f0f921\"]], \"type\": \"heatmap\"}], \"heatmapgl\": [{\"colorbar\": {\"outlinewidth\": 0, \"ticks\": \"\"}, \"colorscale\": [[0.0, \"#0d0887\"], [0.1111111111111111, \"#46039f\"], [0.2222222222222222, \"#7201a8\"], [0.3333333333333333, \"#9c179e\"], [0.4444444444444444, \"#bd3786\"], [0.5555555555555556, \"#d8576b\"], [0.6666666666666666, \"#ed7953\"], [0.7777777777777778, \"#fb9f3a\"], [0.8888888888888888, \"#fdca26\"], [1.0, \"#f0f921\"]], \"type\": \"heatmapgl\"}], \"histogram\": [{\"marker\": {\"colorbar\": {\"outlinewidth\": 0, \"ticks\": \"\"}}, \"type\": \"histogram\"}], \"histogram2d\": [{\"colorbar\": {\"outlinewidth\": 0, \"ticks\": \"\"}, \"colorscale\": [[0.0, \"#0d0887\"], [0.1111111111111111, \"#46039f\"], [0.2222222222222222, \"#7201a8\"], [0.3333333333333333, \"#9c179e\"], [0.4444444444444444, \"#bd3786\"], [0.5555555555555556, \"#d8576b\"], [0.6666666666666666, \"#ed7953\"], [0.7777777777777778, \"#fb9f3a\"], [0.8888888888888888, \"#fdca26\"], [1.0, \"#f0f921\"]], \"type\": \"histogram2d\"}], \"histogram2dcontour\": [{\"colorbar\": {\"outlinewidth\": 0, \"ticks\": \"\"}, \"colorscale\": [[0.0, \"#0d0887\"], [0.1111111111111111, \"#46039f\"], [0.2222222222222222, \"#7201a8\"], [0.3333333333333333, \"#9c179e\"], [0.4444444444444444, \"#bd3786\"], [0.5555555555555556, \"#d8576b\"], [0.6666666666666666, \"#ed7953\"], [0.7777777777777778, \"#fb9f3a\"], [0.8888888888888888, \"#fdca26\"], [1.0, \"#f0f921\"]], \"type\": \"histogram2dcontour\"}], \"mesh3d\": [{\"colorbar\": {\"outlinewidth\": 0, \"ticks\": \"\"}, \"type\": \"mesh3d\"}], \"parcoords\": [{\"line\": {\"colorbar\": {\"outlinewidth\": 0, \"ticks\": \"\"}}, \"type\": \"parcoords\"}], \"pie\": [{\"automargin\": true, \"type\": \"pie\"}], \"scatter\": [{\"marker\": {\"colorbar\": {\"outlinewidth\": 0, \"ticks\": \"\"}}, \"type\": \"scatter\"}], \"scatter3d\": [{\"line\": {\"colorbar\": {\"outlinewidth\": 0, \"ticks\": \"\"}}, \"marker\": {\"colorbar\": {\"outlinewidth\": 0, \"ticks\": \"\"}}, \"type\": \"scatter3d\"}], \"scattercarpet\": [{\"marker\": {\"colorbar\": {\"outlinewidth\": 0, \"ticks\": \"\"}}, \"type\": \"scattercarpet\"}], \"scattergeo\": [{\"marker\": {\"colorbar\": {\"outlinewidth\": 0, \"ticks\": \"\"}}, \"type\": \"scattergeo\"}], \"scattergl\": [{\"marker\": {\"colorbar\": {\"outlinewidth\": 0, \"ticks\": \"\"}}, \"type\": \"scattergl\"}], \"scattermapbox\": [{\"marker\": {\"colorbar\": {\"outlinewidth\": 0, \"ticks\": \"\"}}, \"type\": \"scattermapbox\"}], \"scatterpolar\": [{\"marker\": {\"colorbar\": {\"outlinewidth\": 0, \"ticks\": \"\"}}, \"type\": \"scatterpolar\"}], \"scatterpolargl\": [{\"marker\": {\"colorbar\": {\"outlinewidth\": 0, \"ticks\": \"\"}}, \"type\": \"scatterpolargl\"}], \"scatterternary\": [{\"marker\": {\"colorbar\": {\"outlinewidth\": 0, \"ticks\": \"\"}}, \"type\": \"scatterternary\"}], \"surface\": [{\"colorbar\": {\"outlinewidth\": 0, \"ticks\": \"\"}, \"colorscale\": [[0.0, \"#0d0887\"], [0.1111111111111111, \"#46039f\"], [0.2222222222222222, \"#7201a8\"], [0.3333333333333333, \"#9c179e\"], [0.4444444444444444, \"#bd3786\"], [0.5555555555555556, \"#d8576b\"], [0.6666666666666666, \"#ed7953\"], [0.7777777777777778, \"#fb9f3a\"], [0.8888888888888888, \"#fdca26\"], [1.0, \"#f0f921\"]], \"type\": \"surface\"}], \"table\": [{\"cells\": {\"fill\": {\"color\": \"#EBF0F8\"}, \"line\": {\"color\": \"white\"}}, \"header\": {\"fill\": {\"color\": \"#C8D4E3\"}, \"line\": {\"color\": \"white\"}}, \"type\": \"table\"}]}, \"layout\": {\"annotationdefaults\": {\"arrowcolor\": \"#2a3f5f\", \"arrowhead\": 0, \"arrowwidth\": 1}, \"coloraxis\": {\"colorbar\": {\"outlinewidth\": 0, \"ticks\": \"\"}}, \"colorscale\": {\"diverging\": [[0, \"#8e0152\"], [0.1, \"#c51b7d\"], [0.2, \"#de77ae\"], [0.3, \"#f1b6da\"], [0.4, \"#fde0ef\"], [0.5, \"#f7f7f7\"], [0.6, \"#e6f5d0\"], [0.7, \"#b8e186\"], [0.8, \"#7fbc41\"], [0.9, \"#4d9221\"], [1, \"#276419\"]], \"sequential\": [[0.0, \"#0d0887\"], [0.1111111111111111, \"#46039f\"], [0.2222222222222222, \"#7201a8\"], [0.3333333333333333, \"#9c179e\"], [0.4444444444444444, \"#bd3786\"], [0.5555555555555556, \"#d8576b\"], [0.6666666666666666, \"#ed7953\"], [0.7777777777777778, \"#fb9f3a\"], [0.8888888888888888, \"#fdca26\"], [1.0, \"#f0f921\"]], \"sequentialminus\": [[0.0, \"#0d0887\"], [0.1111111111111111, \"#46039f\"], [0.2222222222222222, \"#7201a8\"], [0.3333333333333333, \"#9c179e\"], [0.4444444444444444, \"#bd3786\"], [0.5555555555555556, \"#d8576b\"], [0.6666666666666666, \"#ed7953\"], [0.7777777777777778, \"#fb9f3a\"], [0.8888888888888888, \"#fdca26\"], [1.0, \"#f0f921\"]]}, \"colorway\": [\"#636efa\", \"#EF553B\", \"#00cc96\", \"#ab63fa\", \"#FFA15A\", \"#19d3f3\", \"#FF6692\", \"#B6E880\", \"#FF97FF\", \"#FECB52\"], \"font\": {\"color\": \"#2a3f5f\"}, \"geo\": {\"bgcolor\": \"white\", \"lakecolor\": \"white\", \"landcolor\": \"white\", \"showlakes\": true, \"showland\": true, \"subunitcolor\": \"#C8D4E3\"}, \"hoverlabel\": {\"align\": \"left\"}, \"hovermode\": \"closest\", \"mapbox\": {\"style\": \"light\"}, \"paper_bgcolor\": \"white\", \"plot_bgcolor\": \"white\", \"polar\": {\"angularaxis\": {\"gridcolor\": \"#EBF0F8\", \"linecolor\": \"#EBF0F8\", \"ticks\": \"\"}, \"bgcolor\": \"white\", \"radialaxis\": {\"gridcolor\": \"#EBF0F8\", \"linecolor\": \"#EBF0F8\", \"ticks\": \"\"}}, \"scene\": {\"xaxis\": {\"backgroundcolor\": \"white\", \"gridcolor\": \"#DFE8F3\", \"gridwidth\": 2, \"linecolor\": \"#EBF0F8\", \"showbackground\": true, \"ticks\": \"\", \"zerolinecolor\": \"#EBF0F8\"}, \"yaxis\": {\"backgroundcolor\": \"white\", \"gridcolor\": \"#DFE8F3\", \"gridwidth\": 2, \"linecolor\": \"#EBF0F8\", \"showbackground\": true, \"ticks\": \"\", \"zerolinecolor\": \"#EBF0F8\"}, \"zaxis\": {\"backgroundcolor\": \"white\", \"gridcolor\": \"#DFE8F3\", \"gridwidth\": 2, \"linecolor\": \"#EBF0F8\", \"showbackground\": true, \"ticks\": \"\", \"zerolinecolor\": \"#EBF0F8\"}}, \"shapedefaults\": {\"line\": {\"color\": \"#2a3f5f\"}}, \"ternary\": {\"aaxis\": {\"gridcolor\": \"#DFE8F3\", \"linecolor\": \"#A2B1C6\", \"ticks\": \"\"}, \"baxis\": {\"gridcolor\": \"#DFE8F3\", \"linecolor\": \"#A2B1C6\", \"ticks\": \"\"}, \"bgcolor\": \"white\", \"caxis\": {\"gridcolor\": \"#DFE8F3\", \"linecolor\": \"#A2B1C6\", \"ticks\": \"\"}}, \"title\": {\"x\": 0.05}, \"xaxis\": {\"automargin\": true, \"gridcolor\": \"#EBF0F8\", \"linecolor\": \"#EBF0F8\", \"ticks\": \"\", \"title\": {\"standoff\": 15}, \"zerolinecolor\": \"#EBF0F8\", \"zerolinewidth\": 2}, \"yaxis\": {\"automargin\": true, \"gridcolor\": \"#EBF0F8\", \"linecolor\": \"#EBF0F8\", \"ticks\": \"\", \"title\": {\"standoff\": 15}, \"zerolinecolor\": \"#EBF0F8\", \"zerolinewidth\": 2}}}, \"title\": {\"text\": \"Surface hoar 2017-2018\"}, \"yaxis\": {\"title\": {\"text\": \"#Regions with SH problem\"}}},\n                        {\"responsive\": true}\n                    ).then(function(){\n                            \nvar gd = document.getElementById('77947c2b-6737-4156-b200-9c6f2e50ab96');\nvar x = new MutationObserver(function (mutations, observer) {{\n        var display = window.getComputedStyle(gd).display;\n        if (!display || display === 'none') {{\n            console.log([gd, 'removed!']);\n            Plotly.purge(gd);\n            observer.disconnect();\n        }}\n}});\n\n// Listen for the removal of the full notebook cells\nvar notebookContainer = gd.closest('#notebook-container');\nif (notebookContainer) {{\n    x.observe(notebookContainer, {childList: true});\n}}\n\n// Listen for the clearing of the current output cell\nvar outputEl = gd.closest('.output');\nif (outputEl) {{\n    x.observe(outputEl, {childList: true});\n}}\n\n                        })\n                };\n                });\n            </script>\n        </div>"
     },
     "metadata": {},
     "output_type": "display_data"
    }
   ],
   "source": [
    "\n",
    "# setting up a plot.ly figure\n",
    "fig = go.Figure()\n",
    "\n",
    "avalprob_1 = {\n",
    "    \"type\": \"bar\",\n",
    "    \"name\": \"Avalanche problem frequency\",\n",
    "    # \"line\": {\"color\": c_topo},\n",
    "    # \"fill\": \"tozeroy\",\n",
    "    \"x\": sh_df1718['date_valid'],\n",
    "    \"y\": sh_df1718['occurrence']\n",
    "}\n",
    "\n",
    "fig.add_trace(avalprob_1)\n",
    "\n",
    "p_layout = {\"title\": {\"text\": \"Surface hoar 2017-2018\"},\n",
    "            \"showlegend\": False, \"legend\": {\"orientation\": \"h\"},\n",
    "            # \"xaxis\": {\"rangemode\": \"nonnegative\"},\n",
    "            \"yaxis\": {\"title\": \"#Regions with SH problem\"}\n",
    "           }\n",
    "\n",
    "fig.update_layout(p_layout)\n",
    "# fig.write_image(\"ap_16_19.png\")\n",
    "pio.show(fig)"
   ],
   "metadata": {
    "collapsed": false,
    "pycharm": {
     "name": "#%%\n",
     "is_executing": false
    }
   }
  },
  {
   "cell_type": "code",
   "execution_count": null,
   "outputs": [],
   "source": [],
   "metadata": {
    "collapsed": false,
    "pycharm": {
     "name": "#%%\n"
    }
   }
  },
  {
   "cell_type": "code",
   "execution_count": 52,
   "outputs": [
    {
     "data": {
      "text/plain": "      index  reg_id  region_id  region_name  date_valid  region_type_id  \\\n58       58  169768       3028  Jotunheimen  2018-12-03              10   \n79       79  169893       3028  Jotunheimen  2018-12-04              10   \n311     311  171335       3029   Indre Sogn  2018-12-15              10   \n332     332  171434       3029   Indre Sogn  2018-12-16              10   \n353     353  171558       3029   Indre Sogn  2018-12-17              10   \n374     374  171662       3029   Indre Sogn  2018-12-18              10   \n395     395  171780       3029   Indre Sogn  2018-12-19              10   \n418     418  171924       3032   Hallingdal  2018-12-20              10   \n460     460  172166       3032   Hallingdal  2018-12-22              10   \n480     480  172270       3031         Voss  2018-12-23              10   \n481     481  172271       3032   Hallingdal  2018-12-23              10   \n1011   1011  175853       3017    Svartisen  2019-01-17              10   \n1032   1032  176049       3017    Svartisen  2019-01-18              10   \n1053   1053  176252       3017    Svartisen  2019-01-19              10   \n1308   1308  178300       3024     Sunnmøre  2019-01-31              10   \n1327   1327  178469       3022  Trollheimen  2019-02-01              10   \n1328   1328  178470       3023      Romsdal  2019-02-01              10   \n1329   1329  178471       3024     Sunnmøre  2019-02-01              10   \n1348   1348  178631       3022  Trollheimen  2019-02-02              10   \n1349   1349  178632       3023      Romsdal  2019-02-02              10   \n1350   1350  178633       3024     Sunnmøre  2019-02-02              10   \n1370   1370  178767       3023      Romsdal  2019-02-03              10   \n1371   1371  178768       3024     Sunnmøre  2019-02-03              10   \n1670   1670  181299       3022  Trollheimen  2019-02-17              10   \n1692   1692  181457       3022  Trollheimen  2019-02-18              10   \n2113   2113  185033       3023      Romsdal  2019-03-09              10   \n2222   2222  185871       3022  Trollheimen  2019-03-14              10   \n2838   2838  190548       3010       Lyngen  2019-04-11              10   \n2839   2839  190549       3011       Tromsø  2019-04-11              10   \n2840   2840  190550       3012    Sør-Troms  2019-04-11              10   \n2860   2860  190702       3010       Lyngen  2019-04-12              10   \n2861   2861  190703       3011       Tromsø  2019-04-12              10   \n2862   2862  190704       3012    Sør-Troms  2019-04-12              10   \n2882   2882  190863       3010       Lyngen  2019-04-13              10   \n2884   2884  190865       3012    Sør-Troms  2019-04-13              10   \n2904   2904  191004       3010       Lyngen  2019-04-14              10   \n\n     region_type_name  utm_east  utm_north  utm_zone  ...  \\\n58                  A    155607    6844417        33  ...   \n79                  A    155607    6844417        33  ...   \n311                 A     96001    6816985        33  ...   \n332                 A     96001    6816985        33  ...   \n353                 A     96001    6816985        33  ...   \n374                 A     96001    6816985        33  ...   \n395                 A     96001    6816985        33  ...   \n418                 A    150188    6763814        33  ...   \n460                 A    150188    6763814        33  ...   \n480                 A     28607    6779054        33  ...   \n481                 A    150188    6763814        33  ...   \n1011                A    464133    7381882        33  ...   \n1032                A    464133    7381882        33  ...   \n1053                A    464133    7381882        33  ...   \n1308                A     62473    6916553        33  ...   \n1327                A    210810    6991060        33  ...   \n1328                A    123434    6960580        33  ...   \n1329                A     62473    6916553        33  ...   \n1348                A    210810    6991060        33  ...   \n1349                A    123434    6960580        33  ...   \n1350                A     62473    6916553        33  ...   \n1370                A    123434    6960580        33  ...   \n1371                A     62473    6916553        33  ...   \n1670                A    210810    6991060        33  ...   \n1692                A    210810    6991060        33  ...   \n2113                A    123434    6960580        33  ...   \n2222                A    210810    6991060        33  ...   \n2838                A    692056    7719872        33  ...   \n2839                A    656496    7764237        33  ...   \n2840                A    594858    7642656        33  ...   \n2860                A    692056    7719872        33  ...   \n2861                A    656496    7764237        33  ...   \n2862                A    594858    7642656        33  ...   \n2882                A    692056    7719872        33  ...   \n2884                A    594858    7642656        33  ...   \n2904                A    692056    7719872        33  ...   \n\n     avalanche_problem_3_trigger_simple_id  \\\n58                                       0   \n79                                       0   \n311                                      0   \n332                                      0   \n353                                      0   \n374                                      0   \n395                                      0   \n418                                      0   \n460                                      0   \n480                                      0   \n481                                      0   \n1011                                     0   \n1032                                     0   \n1053                                     0   \n1308                                     0   \n1327                                     0   \n1328                                     0   \n1329                                     0   \n1348                                     0   \n1349                                     0   \n1350                                     0   \n1370                                     0   \n1371                                     0   \n1670                                     0   \n1692                                     0   \n2113                                     0   \n2222                                     0   \n2838                                     0   \n2839                                     0   \n2840                                     0   \n2860                                     0   \n2861                                     0   \n2862                                     0   \n2882                                     0   \n2884                                     0   \n2904                                    22   \n\n     avalanche_problem_3_trigger_simple_name  \\\n58                                 Not given   \n79                                 Not given   \n311                                Not given   \n332                                Not given   \n353                                Not given   \n374                                Not given   \n395                                Not given   \n418                                Not given   \n460                                Not given   \n480                                Not given   \n481                                Not given   \n1011                               Not given   \n1032                               Not given   \n1053                               Not given   \n1308                               Not given   \n1327                               Not given   \n1328                               Not given   \n1329                               Not given   \n1348                               Not given   \n1349                               Not given   \n1350                               Not given   \n1370                               Not given   \n1371                               Not given   \n1670                               Not given   \n1692                               Not given   \n2113                               Not given   \n2222                               Not given   \n2838                               Not given   \n2839                               Not given   \n2840                               Not given   \n2860                               Not given   \n2861                               Not given   \n2862                               Not given   \n2882                               Not given   \n2884                               Not given   \n2904                         Naturlig utløst   \n\n     avalanche_problem_3_distribution_id  \\\n58                                     0   \n79                                     0   \n311                                    0   \n332                                    0   \n353                                    0   \n374                                    0   \n395                                    0   \n418                                    0   \n460                                    0   \n480                                    0   \n481                                    0   \n1011                                   0   \n1032                                   0   \n1053                                   0   \n1308                                   0   \n1327                                   0   \n1328                                   0   \n1329                                   0   \n1348                                   0   \n1349                                   0   \n1350                                   0   \n1370                                   0   \n1371                                   0   \n1670                                   0   \n1692                                   0   \n2113                                   0   \n2222                                   0   \n2838                                   0   \n2839                                   0   \n2840                                   0   \n2860                                   0   \n2861                                   0   \n2862                                   0   \n2882                                   0   \n2884                                   0   \n2904                                   1   \n\n      avalanche_problem_3_distribution_name  \\\n58                                Not given   \n79                                Not given   \n311                               Not given   \n332                               Not given   \n353                               Not given   \n374                               Not given   \n395                               Not given   \n418                               Not given   \n460                               Not given   \n480                               Not given   \n481                               Not given   \n1011                              Not given   \n1032                              Not given   \n1053                              Not given   \n1308                              Not given   \n1327                              Not given   \n1328                              Not given   \n1329                              Not given   \n1348                              Not given   \n1349                              Not given   \n1350                              Not given   \n1370                              Not given   \n1371                              Not given   \n1670                              Not given   \n1692                              Not given   \n2113                              Not given   \n2222                              Not given   \n2838                              Not given   \n2839                              Not given   \n2840                              Not given   \n2860                              Not given   \n2861                              Not given   \n2862                              Not given   \n2882                              Not given   \n2884                              Not given   \n2904                         Få bratte heng   \n\n     avalanche_problem_3_exposed_height_fill  \\\n58                                         0   \n79                                         0   \n311                                        0   \n332                                        0   \n353                                        0   \n374                                        0   \n395                                        0   \n418                                        0   \n460                                        0   \n480                                        0   \n481                                        0   \n1011                                       0   \n1032                                       0   \n1053                                       0   \n1308                                       0   \n1327                                       0   \n1328                                       0   \n1329                                       0   \n1348                                       0   \n1349                                       0   \n1350                                       0   \n1370                                       0   \n1371                                       0   \n1670                                       0   \n1692                                       0   \n2113                                       0   \n2222                                       0   \n2838                                       0   \n2839                                       0   \n2840                                       0   \n2860                                       0   \n2861                                       0   \n2862                                       0   \n2882                                       0   \n2884                                       0   \n2904                                       1   \n\n     avalanche_problem_3_exposed_height_1  \\\n58                                      0   \n79                                      0   \n311                                     0   \n332                                     0   \n353                                     0   \n374                                     0   \n395                                     0   \n418                                     0   \n460                                     0   \n480                                     0   \n481                                     0   \n1011                                    0   \n1032                                    0   \n1053                                    0   \n1308                                    0   \n1327                                    0   \n1328                                    0   \n1329                                    0   \n1348                                    0   \n1349                                    0   \n1350                                    0   \n1370                                    0   \n1371                                    0   \n1670                                    0   \n1692                                    0   \n2113                                    0   \n2222                                    0   \n2838                                    0   \n2839                                    0   \n2840                                    0   \n2860                                    0   \n2861                                    0   \n2862                                    0   \n2882                                    0   \n2884                                    0   \n2904                                  400   \n\n     avalanche_problem_3_exposed_height_2  \\\n58                                      0   \n79                                      0   \n311                                     0   \n332                                     0   \n353                                     0   \n374                                     0   \n395                                     0   \n418                                     0   \n460                                     0   \n480                                     0   \n481                                     0   \n1011                                    0   \n1032                                    0   \n1053                                    0   \n1308                                    0   \n1327                                    0   \n1328                                    0   \n1329                                    0   \n1348                                    0   \n1349                                    0   \n1350                                    0   \n1370                                    0   \n1371                                    0   \n1670                                    0   \n1692                                    0   \n2113                                    0   \n2222                                    0   \n2838                                    0   \n2839                                    0   \n2840                                    0   \n2860                                    0   \n2861                                    0   \n2862                                    0   \n2882                                    0   \n2884                                    0   \n2904                                  400   \n\n     avalanche_problem_3_valid_expositions  \\\n58                                       0   \n79                                       0   \n311                                      0   \n332                                      0   \n353                                      0   \n374                                      0   \n395                                      0   \n418                                      0   \n460                                      0   \n480                                      0   \n481                                      0   \n1011                                     0   \n1032                                     0   \n1053                                     0   \n1308                                     0   \n1327                                     0   \n1328                                     0   \n1329                                     0   \n1348                                     0   \n1349                                     0   \n1350                                     0   \n1370                                     0   \n1371                                     0   \n1670                                     0   \n1692                                     0   \n2113                                     0   \n2222                                     0   \n2838                                     0   \n2839                                     0   \n2840                                     0   \n2860                                     0   \n2861                                     0   \n2862                                     0   \n2882                                     0   \n2884                                     0   \n2904                              11111111   \n\n                             avalanche_problem_3_advice occurrence  \n58                                            Not given          1  \n79                                            Not given          1  \n311                                           Not given          1  \n332                                           Not given          1  \n353                                           Not given          1  \n374                                           Not given          1  \n395                                           Not given          1  \n418                                           Not given          1  \n460                                           Not given          1  \n480                                           Not given          1  \n481                                           Not given          1  \n1011                                          Not given          1  \n1032                                          Not given          1  \n1053                                          Not given          1  \n1308                                          Not given          1  \n1327                                          Not given          1  \n1328                                          Not given          1  \n1329                                          Not given          1  \n1348                                          Not given          1  \n1349                                          Not given          1  \n1350                                          Not given          1  \n1370                                          Not given          1  \n1371                                          Not given          1  \n1670                                          Not given          1  \n1692                                          Not given          1  \n2113                                          Not given          1  \n2222                                          Not given          1  \n2838                                          Not given          1  \n2839                                          Not given          1  \n2840                                          Not given          1  \n2860                                          Not given          1  \n2861                                          Not given          1  \n2862                                          Not given          1  \n2882                                          Not given          1  \n2884                                          Not given          1  \n2904  Hold god avstand til hverandre ved ferdsel i s...          1  \n\n[36 rows x 104 columns]",
      "text/html": "<div>\n<style scoped>\n    .dataframe tbody tr th:only-of-type {\n        vertical-align: middle;\n    }\n\n    .dataframe tbody tr th {\n        vertical-align: top;\n    }\n\n    .dataframe thead th {\n        text-align: right;\n    }\n</style>\n<table border=\"1\" class=\"dataframe\">\n  <thead>\n    <tr style=\"text-align: right;\">\n      <th></th>\n      <th>index</th>\n      <th>reg_id</th>\n      <th>region_id</th>\n      <th>region_name</th>\n      <th>date_valid</th>\n      <th>region_type_id</th>\n      <th>region_type_name</th>\n      <th>utm_east</th>\n      <th>utm_north</th>\n      <th>utm_zone</th>\n      <th>...</th>\n      <th>avalanche_problem_3_trigger_simple_id</th>\n      <th>avalanche_problem_3_trigger_simple_name</th>\n      <th>avalanche_problem_3_distribution_id</th>\n      <th>avalanche_problem_3_distribution_name</th>\n      <th>avalanche_problem_3_exposed_height_fill</th>\n      <th>avalanche_problem_3_exposed_height_1</th>\n      <th>avalanche_problem_3_exposed_height_2</th>\n      <th>avalanche_problem_3_valid_expositions</th>\n      <th>avalanche_problem_3_advice</th>\n      <th>occurrence</th>\n    </tr>\n  </thead>\n  <tbody>\n    <tr>\n      <th>58</th>\n      <td>58</td>\n      <td>169768</td>\n      <td>3028</td>\n      <td>Jotunheimen</td>\n      <td>2018-12-03</td>\n      <td>10</td>\n      <td>A</td>\n      <td>155607</td>\n      <td>6844417</td>\n      <td>33</td>\n      <td>...</td>\n      <td>0</td>\n      <td>Not given</td>\n      <td>0</td>\n      <td>Not given</td>\n      <td>0</td>\n      <td>0</td>\n      <td>0</td>\n      <td>0</td>\n      <td>Not given</td>\n      <td>1</td>\n    </tr>\n    <tr>\n      <th>79</th>\n      <td>79</td>\n      <td>169893</td>\n      <td>3028</td>\n      <td>Jotunheimen</td>\n      <td>2018-12-04</td>\n      <td>10</td>\n      <td>A</td>\n      <td>155607</td>\n      <td>6844417</td>\n      <td>33</td>\n      <td>...</td>\n      <td>0</td>\n      <td>Not given</td>\n      <td>0</td>\n      <td>Not given</td>\n      <td>0</td>\n      <td>0</td>\n      <td>0</td>\n      <td>0</td>\n      <td>Not given</td>\n      <td>1</td>\n    </tr>\n    <tr>\n      <th>311</th>\n      <td>311</td>\n      <td>171335</td>\n      <td>3029</td>\n      <td>Indre Sogn</td>\n      <td>2018-12-15</td>\n      <td>10</td>\n      <td>A</td>\n      <td>96001</td>\n      <td>6816985</td>\n      <td>33</td>\n      <td>...</td>\n      <td>0</td>\n      <td>Not given</td>\n      <td>0</td>\n      <td>Not given</td>\n      <td>0</td>\n      <td>0</td>\n      <td>0</td>\n      <td>0</td>\n      <td>Not given</td>\n      <td>1</td>\n    </tr>\n    <tr>\n      <th>332</th>\n      <td>332</td>\n      <td>171434</td>\n      <td>3029</td>\n      <td>Indre Sogn</td>\n      <td>2018-12-16</td>\n      <td>10</td>\n      <td>A</td>\n      <td>96001</td>\n      <td>6816985</td>\n      <td>33</td>\n      <td>...</td>\n      <td>0</td>\n      <td>Not given</td>\n      <td>0</td>\n      <td>Not given</td>\n      <td>0</td>\n      <td>0</td>\n      <td>0</td>\n      <td>0</td>\n      <td>Not given</td>\n      <td>1</td>\n    </tr>\n    <tr>\n      <th>353</th>\n      <td>353</td>\n      <td>171558</td>\n      <td>3029</td>\n      <td>Indre Sogn</td>\n      <td>2018-12-17</td>\n      <td>10</td>\n      <td>A</td>\n      <td>96001</td>\n      <td>6816985</td>\n      <td>33</td>\n      <td>...</td>\n      <td>0</td>\n      <td>Not given</td>\n      <td>0</td>\n      <td>Not given</td>\n      <td>0</td>\n      <td>0</td>\n      <td>0</td>\n      <td>0</td>\n      <td>Not given</td>\n      <td>1</td>\n    </tr>\n    <tr>\n      <th>374</th>\n      <td>374</td>\n      <td>171662</td>\n      <td>3029</td>\n      <td>Indre Sogn</td>\n      <td>2018-12-18</td>\n      <td>10</td>\n      <td>A</td>\n      <td>96001</td>\n      <td>6816985</td>\n      <td>33</td>\n      <td>...</td>\n      <td>0</td>\n      <td>Not given</td>\n      <td>0</td>\n      <td>Not given</td>\n      <td>0</td>\n      <td>0</td>\n      <td>0</td>\n      <td>0</td>\n      <td>Not given</td>\n      <td>1</td>\n    </tr>\n    <tr>\n      <th>395</th>\n      <td>395</td>\n      <td>171780</td>\n      <td>3029</td>\n      <td>Indre Sogn</td>\n      <td>2018-12-19</td>\n      <td>10</td>\n      <td>A</td>\n      <td>96001</td>\n      <td>6816985</td>\n      <td>33</td>\n      <td>...</td>\n      <td>0</td>\n      <td>Not given</td>\n      <td>0</td>\n      <td>Not given</td>\n      <td>0</td>\n      <td>0</td>\n      <td>0</td>\n      <td>0</td>\n      <td>Not given</td>\n      <td>1</td>\n    </tr>\n    <tr>\n      <th>418</th>\n      <td>418</td>\n      <td>171924</td>\n      <td>3032</td>\n      <td>Hallingdal</td>\n      <td>2018-12-20</td>\n      <td>10</td>\n      <td>A</td>\n      <td>150188</td>\n      <td>6763814</td>\n      <td>33</td>\n      <td>...</td>\n      <td>0</td>\n      <td>Not given</td>\n      <td>0</td>\n      <td>Not given</td>\n      <td>0</td>\n      <td>0</td>\n      <td>0</td>\n      <td>0</td>\n      <td>Not given</td>\n      <td>1</td>\n    </tr>\n    <tr>\n      <th>460</th>\n      <td>460</td>\n      <td>172166</td>\n      <td>3032</td>\n      <td>Hallingdal</td>\n      <td>2018-12-22</td>\n      <td>10</td>\n      <td>A</td>\n      <td>150188</td>\n      <td>6763814</td>\n      <td>33</td>\n      <td>...</td>\n      <td>0</td>\n      <td>Not given</td>\n      <td>0</td>\n      <td>Not given</td>\n      <td>0</td>\n      <td>0</td>\n      <td>0</td>\n      <td>0</td>\n      <td>Not given</td>\n      <td>1</td>\n    </tr>\n    <tr>\n      <th>480</th>\n      <td>480</td>\n      <td>172270</td>\n      <td>3031</td>\n      <td>Voss</td>\n      <td>2018-12-23</td>\n      <td>10</td>\n      <td>A</td>\n      <td>28607</td>\n      <td>6779054</td>\n      <td>33</td>\n      <td>...</td>\n      <td>0</td>\n      <td>Not given</td>\n      <td>0</td>\n      <td>Not given</td>\n      <td>0</td>\n      <td>0</td>\n      <td>0</td>\n      <td>0</td>\n      <td>Not given</td>\n      <td>1</td>\n    </tr>\n    <tr>\n      <th>481</th>\n      <td>481</td>\n      <td>172271</td>\n      <td>3032</td>\n      <td>Hallingdal</td>\n      <td>2018-12-23</td>\n      <td>10</td>\n      <td>A</td>\n      <td>150188</td>\n      <td>6763814</td>\n      <td>33</td>\n      <td>...</td>\n      <td>0</td>\n      <td>Not given</td>\n      <td>0</td>\n      <td>Not given</td>\n      <td>0</td>\n      <td>0</td>\n      <td>0</td>\n      <td>0</td>\n      <td>Not given</td>\n      <td>1</td>\n    </tr>\n    <tr>\n      <th>1011</th>\n      <td>1011</td>\n      <td>175853</td>\n      <td>3017</td>\n      <td>Svartisen</td>\n      <td>2019-01-17</td>\n      <td>10</td>\n      <td>A</td>\n      <td>464133</td>\n      <td>7381882</td>\n      <td>33</td>\n      <td>...</td>\n      <td>0</td>\n      <td>Not given</td>\n      <td>0</td>\n      <td>Not given</td>\n      <td>0</td>\n      <td>0</td>\n      <td>0</td>\n      <td>0</td>\n      <td>Not given</td>\n      <td>1</td>\n    </tr>\n    <tr>\n      <th>1032</th>\n      <td>1032</td>\n      <td>176049</td>\n      <td>3017</td>\n      <td>Svartisen</td>\n      <td>2019-01-18</td>\n      <td>10</td>\n      <td>A</td>\n      <td>464133</td>\n      <td>7381882</td>\n      <td>33</td>\n      <td>...</td>\n      <td>0</td>\n      <td>Not given</td>\n      <td>0</td>\n      <td>Not given</td>\n      <td>0</td>\n      <td>0</td>\n      <td>0</td>\n      <td>0</td>\n      <td>Not given</td>\n      <td>1</td>\n    </tr>\n    <tr>\n      <th>1053</th>\n      <td>1053</td>\n      <td>176252</td>\n      <td>3017</td>\n      <td>Svartisen</td>\n      <td>2019-01-19</td>\n      <td>10</td>\n      <td>A</td>\n      <td>464133</td>\n      <td>7381882</td>\n      <td>33</td>\n      <td>...</td>\n      <td>0</td>\n      <td>Not given</td>\n      <td>0</td>\n      <td>Not given</td>\n      <td>0</td>\n      <td>0</td>\n      <td>0</td>\n      <td>0</td>\n      <td>Not given</td>\n      <td>1</td>\n    </tr>\n    <tr>\n      <th>1308</th>\n      <td>1308</td>\n      <td>178300</td>\n      <td>3024</td>\n      <td>Sunnmøre</td>\n      <td>2019-01-31</td>\n      <td>10</td>\n      <td>A</td>\n      <td>62473</td>\n      <td>6916553</td>\n      <td>33</td>\n      <td>...</td>\n      <td>0</td>\n      <td>Not given</td>\n      <td>0</td>\n      <td>Not given</td>\n      <td>0</td>\n      <td>0</td>\n      <td>0</td>\n      <td>0</td>\n      <td>Not given</td>\n      <td>1</td>\n    </tr>\n    <tr>\n      <th>1327</th>\n      <td>1327</td>\n      <td>178469</td>\n      <td>3022</td>\n      <td>Trollheimen</td>\n      <td>2019-02-01</td>\n      <td>10</td>\n      <td>A</td>\n      <td>210810</td>\n      <td>6991060</td>\n      <td>33</td>\n      <td>...</td>\n      <td>0</td>\n      <td>Not given</td>\n      <td>0</td>\n      <td>Not given</td>\n      <td>0</td>\n      <td>0</td>\n      <td>0</td>\n      <td>0</td>\n      <td>Not given</td>\n      <td>1</td>\n    </tr>\n    <tr>\n      <th>1328</th>\n      <td>1328</td>\n      <td>178470</td>\n      <td>3023</td>\n      <td>Romsdal</td>\n      <td>2019-02-01</td>\n      <td>10</td>\n      <td>A</td>\n      <td>123434</td>\n      <td>6960580</td>\n      <td>33</td>\n      <td>...</td>\n      <td>0</td>\n      <td>Not given</td>\n      <td>0</td>\n      <td>Not given</td>\n      <td>0</td>\n      <td>0</td>\n      <td>0</td>\n      <td>0</td>\n      <td>Not given</td>\n      <td>1</td>\n    </tr>\n    <tr>\n      <th>1329</th>\n      <td>1329</td>\n      <td>178471</td>\n      <td>3024</td>\n      <td>Sunnmøre</td>\n      <td>2019-02-01</td>\n      <td>10</td>\n      <td>A</td>\n      <td>62473</td>\n      <td>6916553</td>\n      <td>33</td>\n      <td>...</td>\n      <td>0</td>\n      <td>Not given</td>\n      <td>0</td>\n      <td>Not given</td>\n      <td>0</td>\n      <td>0</td>\n      <td>0</td>\n      <td>0</td>\n      <td>Not given</td>\n      <td>1</td>\n    </tr>\n    <tr>\n      <th>1348</th>\n      <td>1348</td>\n      <td>178631</td>\n      <td>3022</td>\n      <td>Trollheimen</td>\n      <td>2019-02-02</td>\n      <td>10</td>\n      <td>A</td>\n      <td>210810</td>\n      <td>6991060</td>\n      <td>33</td>\n      <td>...</td>\n      <td>0</td>\n      <td>Not given</td>\n      <td>0</td>\n      <td>Not given</td>\n      <td>0</td>\n      <td>0</td>\n      <td>0</td>\n      <td>0</td>\n      <td>Not given</td>\n      <td>1</td>\n    </tr>\n    <tr>\n      <th>1349</th>\n      <td>1349</td>\n      <td>178632</td>\n      <td>3023</td>\n      <td>Romsdal</td>\n      <td>2019-02-02</td>\n      <td>10</td>\n      <td>A</td>\n      <td>123434</td>\n      <td>6960580</td>\n      <td>33</td>\n      <td>...</td>\n      <td>0</td>\n      <td>Not given</td>\n      <td>0</td>\n      <td>Not given</td>\n      <td>0</td>\n      <td>0</td>\n      <td>0</td>\n      <td>0</td>\n      <td>Not given</td>\n      <td>1</td>\n    </tr>\n    <tr>\n      <th>1350</th>\n      <td>1350</td>\n      <td>178633</td>\n      <td>3024</td>\n      <td>Sunnmøre</td>\n      <td>2019-02-02</td>\n      <td>10</td>\n      <td>A</td>\n      <td>62473</td>\n      <td>6916553</td>\n      <td>33</td>\n      <td>...</td>\n      <td>0</td>\n      <td>Not given</td>\n      <td>0</td>\n      <td>Not given</td>\n      <td>0</td>\n      <td>0</td>\n      <td>0</td>\n      <td>0</td>\n      <td>Not given</td>\n      <td>1</td>\n    </tr>\n    <tr>\n      <th>1370</th>\n      <td>1370</td>\n      <td>178767</td>\n      <td>3023</td>\n      <td>Romsdal</td>\n      <td>2019-02-03</td>\n      <td>10</td>\n      <td>A</td>\n      <td>123434</td>\n      <td>6960580</td>\n      <td>33</td>\n      <td>...</td>\n      <td>0</td>\n      <td>Not given</td>\n      <td>0</td>\n      <td>Not given</td>\n      <td>0</td>\n      <td>0</td>\n      <td>0</td>\n      <td>0</td>\n      <td>Not given</td>\n      <td>1</td>\n    </tr>\n    <tr>\n      <th>1371</th>\n      <td>1371</td>\n      <td>178768</td>\n      <td>3024</td>\n      <td>Sunnmøre</td>\n      <td>2019-02-03</td>\n      <td>10</td>\n      <td>A</td>\n      <td>62473</td>\n      <td>6916553</td>\n      <td>33</td>\n      <td>...</td>\n      <td>0</td>\n      <td>Not given</td>\n      <td>0</td>\n      <td>Not given</td>\n      <td>0</td>\n      <td>0</td>\n      <td>0</td>\n      <td>0</td>\n      <td>Not given</td>\n      <td>1</td>\n    </tr>\n    <tr>\n      <th>1670</th>\n      <td>1670</td>\n      <td>181299</td>\n      <td>3022</td>\n      <td>Trollheimen</td>\n      <td>2019-02-17</td>\n      <td>10</td>\n      <td>A</td>\n      <td>210810</td>\n      <td>6991060</td>\n      <td>33</td>\n      <td>...</td>\n      <td>0</td>\n      <td>Not given</td>\n      <td>0</td>\n      <td>Not given</td>\n      <td>0</td>\n      <td>0</td>\n      <td>0</td>\n      <td>0</td>\n      <td>Not given</td>\n      <td>1</td>\n    </tr>\n    <tr>\n      <th>1692</th>\n      <td>1692</td>\n      <td>181457</td>\n      <td>3022</td>\n      <td>Trollheimen</td>\n      <td>2019-02-18</td>\n      <td>10</td>\n      <td>A</td>\n      <td>210810</td>\n      <td>6991060</td>\n      <td>33</td>\n      <td>...</td>\n      <td>0</td>\n      <td>Not given</td>\n      <td>0</td>\n      <td>Not given</td>\n      <td>0</td>\n      <td>0</td>\n      <td>0</td>\n      <td>0</td>\n      <td>Not given</td>\n      <td>1</td>\n    </tr>\n    <tr>\n      <th>2113</th>\n      <td>2113</td>\n      <td>185033</td>\n      <td>3023</td>\n      <td>Romsdal</td>\n      <td>2019-03-09</td>\n      <td>10</td>\n      <td>A</td>\n      <td>123434</td>\n      <td>6960580</td>\n      <td>33</td>\n      <td>...</td>\n      <td>0</td>\n      <td>Not given</td>\n      <td>0</td>\n      <td>Not given</td>\n      <td>0</td>\n      <td>0</td>\n      <td>0</td>\n      <td>0</td>\n      <td>Not given</td>\n      <td>1</td>\n    </tr>\n    <tr>\n      <th>2222</th>\n      <td>2222</td>\n      <td>185871</td>\n      <td>3022</td>\n      <td>Trollheimen</td>\n      <td>2019-03-14</td>\n      <td>10</td>\n      <td>A</td>\n      <td>210810</td>\n      <td>6991060</td>\n      <td>33</td>\n      <td>...</td>\n      <td>0</td>\n      <td>Not given</td>\n      <td>0</td>\n      <td>Not given</td>\n      <td>0</td>\n      <td>0</td>\n      <td>0</td>\n      <td>0</td>\n      <td>Not given</td>\n      <td>1</td>\n    </tr>\n    <tr>\n      <th>2838</th>\n      <td>2838</td>\n      <td>190548</td>\n      <td>3010</td>\n      <td>Lyngen</td>\n      <td>2019-04-11</td>\n      <td>10</td>\n      <td>A</td>\n      <td>692056</td>\n      <td>7719872</td>\n      <td>33</td>\n      <td>...</td>\n      <td>0</td>\n      <td>Not given</td>\n      <td>0</td>\n      <td>Not given</td>\n      <td>0</td>\n      <td>0</td>\n      <td>0</td>\n      <td>0</td>\n      <td>Not given</td>\n      <td>1</td>\n    </tr>\n    <tr>\n      <th>2839</th>\n      <td>2839</td>\n      <td>190549</td>\n      <td>3011</td>\n      <td>Tromsø</td>\n      <td>2019-04-11</td>\n      <td>10</td>\n      <td>A</td>\n      <td>656496</td>\n      <td>7764237</td>\n      <td>33</td>\n      <td>...</td>\n      <td>0</td>\n      <td>Not given</td>\n      <td>0</td>\n      <td>Not given</td>\n      <td>0</td>\n      <td>0</td>\n      <td>0</td>\n      <td>0</td>\n      <td>Not given</td>\n      <td>1</td>\n    </tr>\n    <tr>\n      <th>2840</th>\n      <td>2840</td>\n      <td>190550</td>\n      <td>3012</td>\n      <td>Sør-Troms</td>\n      <td>2019-04-11</td>\n      <td>10</td>\n      <td>A</td>\n      <td>594858</td>\n      <td>7642656</td>\n      <td>33</td>\n      <td>...</td>\n      <td>0</td>\n      <td>Not given</td>\n      <td>0</td>\n      <td>Not given</td>\n      <td>0</td>\n      <td>0</td>\n      <td>0</td>\n      <td>0</td>\n      <td>Not given</td>\n      <td>1</td>\n    </tr>\n    <tr>\n      <th>2860</th>\n      <td>2860</td>\n      <td>190702</td>\n      <td>3010</td>\n      <td>Lyngen</td>\n      <td>2019-04-12</td>\n      <td>10</td>\n      <td>A</td>\n      <td>692056</td>\n      <td>7719872</td>\n      <td>33</td>\n      <td>...</td>\n      <td>0</td>\n      <td>Not given</td>\n      <td>0</td>\n      <td>Not given</td>\n      <td>0</td>\n      <td>0</td>\n      <td>0</td>\n      <td>0</td>\n      <td>Not given</td>\n      <td>1</td>\n    </tr>\n    <tr>\n      <th>2861</th>\n      <td>2861</td>\n      <td>190703</td>\n      <td>3011</td>\n      <td>Tromsø</td>\n      <td>2019-04-12</td>\n      <td>10</td>\n      <td>A</td>\n      <td>656496</td>\n      <td>7764237</td>\n      <td>33</td>\n      <td>...</td>\n      <td>0</td>\n      <td>Not given</td>\n      <td>0</td>\n      <td>Not given</td>\n      <td>0</td>\n      <td>0</td>\n      <td>0</td>\n      <td>0</td>\n      <td>Not given</td>\n      <td>1</td>\n    </tr>\n    <tr>\n      <th>2862</th>\n      <td>2862</td>\n      <td>190704</td>\n      <td>3012</td>\n      <td>Sør-Troms</td>\n      <td>2019-04-12</td>\n      <td>10</td>\n      <td>A</td>\n      <td>594858</td>\n      <td>7642656</td>\n      <td>33</td>\n      <td>...</td>\n      <td>0</td>\n      <td>Not given</td>\n      <td>0</td>\n      <td>Not given</td>\n      <td>0</td>\n      <td>0</td>\n      <td>0</td>\n      <td>0</td>\n      <td>Not given</td>\n      <td>1</td>\n    </tr>\n    <tr>\n      <th>2882</th>\n      <td>2882</td>\n      <td>190863</td>\n      <td>3010</td>\n      <td>Lyngen</td>\n      <td>2019-04-13</td>\n      <td>10</td>\n      <td>A</td>\n      <td>692056</td>\n      <td>7719872</td>\n      <td>33</td>\n      <td>...</td>\n      <td>0</td>\n      <td>Not given</td>\n      <td>0</td>\n      <td>Not given</td>\n      <td>0</td>\n      <td>0</td>\n      <td>0</td>\n      <td>0</td>\n      <td>Not given</td>\n      <td>1</td>\n    </tr>\n    <tr>\n      <th>2884</th>\n      <td>2884</td>\n      <td>190865</td>\n      <td>3012</td>\n      <td>Sør-Troms</td>\n      <td>2019-04-13</td>\n      <td>10</td>\n      <td>A</td>\n      <td>594858</td>\n      <td>7642656</td>\n      <td>33</td>\n      <td>...</td>\n      <td>0</td>\n      <td>Not given</td>\n      <td>0</td>\n      <td>Not given</td>\n      <td>0</td>\n      <td>0</td>\n      <td>0</td>\n      <td>0</td>\n      <td>Not given</td>\n      <td>1</td>\n    </tr>\n    <tr>\n      <th>2904</th>\n      <td>2904</td>\n      <td>191004</td>\n      <td>3010</td>\n      <td>Lyngen</td>\n      <td>2019-04-14</td>\n      <td>10</td>\n      <td>A</td>\n      <td>692056</td>\n      <td>7719872</td>\n      <td>33</td>\n      <td>...</td>\n      <td>22</td>\n      <td>Naturlig utløst</td>\n      <td>1</td>\n      <td>Få bratte heng</td>\n      <td>1</td>\n      <td>400</td>\n      <td>400</td>\n      <td>11111111</td>\n      <td>Hold god avstand til hverandre ved ferdsel i s...</td>\n      <td>1</td>\n    </tr>\n  </tbody>\n</table>\n<p>36 rows × 104 columns</p>\n</div>"
     },
     "metadata": {},
     "output_type": "execute_result",
     "execution_count": 52
    }
   ],
   "source": [
    "# s1819[s1819['avalanche_problem_1_cause_name']=='Nedsnødd eller nedføyket overflaterim']['avalanche_problem_1_cause_id']\n",
    "\n",
    "sh_df1819 = s1819[s1819['avalanche_problem_1_cause_id']==11].copy()\n",
    "sh_df1819['occurrence'] = 1\n",
    "sh_df1819"
   ],
   "metadata": {
    "collapsed": false,
    "pycharm": {
     "name": "#%%\n",
     "is_executing": false
    }
   }
  },
  {
   "cell_type": "code",
   "execution_count": 53,
   "outputs": [
    {
     "data": {
      "application/vnd.plotly.v1+json": {
       "config": {
        "plotlyServerURL": "https://plot.ly"
       },
       "data": [
        {
         "name": "Avalanche problem frequency",
         "type": "bar",
         "x": [
          "2018-12-03",
          "2018-12-04",
          "2018-12-15",
          "2018-12-16",
          "2018-12-17",
          "2018-12-18",
          "2018-12-19",
          "2018-12-20",
          "2018-12-22",
          "2018-12-23",
          "2018-12-23",
          "2019-01-17",
          "2019-01-18",
          "2019-01-19",
          "2019-01-31",
          "2019-02-01",
          "2019-02-01",
          "2019-02-01",
          "2019-02-02",
          "2019-02-02",
          "2019-02-02",
          "2019-02-03",
          "2019-02-03",
          "2019-02-17",
          "2019-02-18",
          "2019-03-09",
          "2019-03-14",
          "2019-04-11",
          "2019-04-11",
          "2019-04-11",
          "2019-04-12",
          "2019-04-12",
          "2019-04-12",
          "2019-04-13",
          "2019-04-13",
          "2019-04-14"
         ],
         "y": [
          1,
          1,
          1,
          1,
          1,
          1,
          1,
          1,
          1,
          1,
          1,
          1,
          1,
          1,
          1,
          1,
          1,
          1,
          1,
          1,
          1,
          1,
          1,
          1,
          1,
          1,
          1,
          1,
          1,
          1,
          1,
          1,
          1,
          1,
          1,
          1
         ]
        }
       ],
       "layout": {
        "legend": {
         "orientation": "h"
        },
        "showlegend": false,
        "template": {
         "data": {
          "bar": [
           {
            "error_x": {
             "color": "#2a3f5f"
            },
            "error_y": {
             "color": "#2a3f5f"
            },
            "marker": {
             "line": {
              "color": "white",
              "width": 0.5
             }
            },
            "type": "bar"
           }
          ],
          "barpolar": [
           {
            "marker": {
             "line": {
              "color": "white",
              "width": 0.5
             }
            },
            "type": "barpolar"
           }
          ],
          "carpet": [
           {
            "aaxis": {
             "endlinecolor": "#2a3f5f",
             "gridcolor": "#C8D4E3",
             "linecolor": "#C8D4E3",
             "minorgridcolor": "#C8D4E3",
             "startlinecolor": "#2a3f5f"
            },
            "baxis": {
             "endlinecolor": "#2a3f5f",
             "gridcolor": "#C8D4E3",
             "linecolor": "#C8D4E3",
             "minorgridcolor": "#C8D4E3",
             "startlinecolor": "#2a3f5f"
            },
            "type": "carpet"
           }
          ],
          "choropleth": [
           {
            "colorbar": {
             "outlinewidth": 0,
             "ticks": ""
            },
            "type": "choropleth"
           }
          ],
          "contour": [
           {
            "colorbar": {
             "outlinewidth": 0,
             "ticks": ""
            },
            "colorscale": [
             [
              0.0,
              "#0d0887"
             ],
             [
              0.1111111111111111,
              "#46039f"
             ],
             [
              0.2222222222222222,
              "#7201a8"
             ],
             [
              0.3333333333333333,
              "#9c179e"
             ],
             [
              0.4444444444444444,
              "#bd3786"
             ],
             [
              0.5555555555555556,
              "#d8576b"
             ],
             [
              0.6666666666666666,
              "#ed7953"
             ],
             [
              0.7777777777777778,
              "#fb9f3a"
             ],
             [
              0.8888888888888888,
              "#fdca26"
             ],
             [
              1.0,
              "#f0f921"
             ]
            ],
            "type": "contour"
           }
          ],
          "contourcarpet": [
           {
            "colorbar": {
             "outlinewidth": 0,
             "ticks": ""
            },
            "type": "contourcarpet"
           }
          ],
          "heatmap": [
           {
            "colorbar": {
             "outlinewidth": 0,
             "ticks": ""
            },
            "colorscale": [
             [
              0.0,
              "#0d0887"
             ],
             [
              0.1111111111111111,
              "#46039f"
             ],
             [
              0.2222222222222222,
              "#7201a8"
             ],
             [
              0.3333333333333333,
              "#9c179e"
             ],
             [
              0.4444444444444444,
              "#bd3786"
             ],
             [
              0.5555555555555556,
              "#d8576b"
             ],
             [
              0.6666666666666666,
              "#ed7953"
             ],
             [
              0.7777777777777778,
              "#fb9f3a"
             ],
             [
              0.8888888888888888,
              "#fdca26"
             ],
             [
              1.0,
              "#f0f921"
             ]
            ],
            "type": "heatmap"
           }
          ],
          "heatmapgl": [
           {
            "colorbar": {
             "outlinewidth": 0,
             "ticks": ""
            },
            "colorscale": [
             [
              0.0,
              "#0d0887"
             ],
             [
              0.1111111111111111,
              "#46039f"
             ],
             [
              0.2222222222222222,
              "#7201a8"
             ],
             [
              0.3333333333333333,
              "#9c179e"
             ],
             [
              0.4444444444444444,
              "#bd3786"
             ],
             [
              0.5555555555555556,
              "#d8576b"
             ],
             [
              0.6666666666666666,
              "#ed7953"
             ],
             [
              0.7777777777777778,
              "#fb9f3a"
             ],
             [
              0.8888888888888888,
              "#fdca26"
             ],
             [
              1.0,
              "#f0f921"
             ]
            ],
            "type": "heatmapgl"
           }
          ],
          "histogram": [
           {
            "marker": {
             "colorbar": {
              "outlinewidth": 0,
              "ticks": ""
             }
            },
            "type": "histogram"
           }
          ],
          "histogram2d": [
           {
            "colorbar": {
             "outlinewidth": 0,
             "ticks": ""
            },
            "colorscale": [
             [
              0.0,
              "#0d0887"
             ],
             [
              0.1111111111111111,
              "#46039f"
             ],
             [
              0.2222222222222222,
              "#7201a8"
             ],
             [
              0.3333333333333333,
              "#9c179e"
             ],
             [
              0.4444444444444444,
              "#bd3786"
             ],
             [
              0.5555555555555556,
              "#d8576b"
             ],
             [
              0.6666666666666666,
              "#ed7953"
             ],
             [
              0.7777777777777778,
              "#fb9f3a"
             ],
             [
              0.8888888888888888,
              "#fdca26"
             ],
             [
              1.0,
              "#f0f921"
             ]
            ],
            "type": "histogram2d"
           }
          ],
          "histogram2dcontour": [
           {
            "colorbar": {
             "outlinewidth": 0,
             "ticks": ""
            },
            "colorscale": [
             [
              0.0,
              "#0d0887"
             ],
             [
              0.1111111111111111,
              "#46039f"
             ],
             [
              0.2222222222222222,
              "#7201a8"
             ],
             [
              0.3333333333333333,
              "#9c179e"
             ],
             [
              0.4444444444444444,
              "#bd3786"
             ],
             [
              0.5555555555555556,
              "#d8576b"
             ],
             [
              0.6666666666666666,
              "#ed7953"
             ],
             [
              0.7777777777777778,
              "#fb9f3a"
             ],
             [
              0.8888888888888888,
              "#fdca26"
             ],
             [
              1.0,
              "#f0f921"
             ]
            ],
            "type": "histogram2dcontour"
           }
          ],
          "mesh3d": [
           {
            "colorbar": {
             "outlinewidth": 0,
             "ticks": ""
            },
            "type": "mesh3d"
           }
          ],
          "parcoords": [
           {
            "line": {
             "colorbar": {
              "outlinewidth": 0,
              "ticks": ""
             }
            },
            "type": "parcoords"
           }
          ],
          "pie": [
           {
            "automargin": true,
            "type": "pie"
           }
          ],
          "scatter": [
           {
            "marker": {
             "colorbar": {
              "outlinewidth": 0,
              "ticks": ""
             }
            },
            "type": "scatter"
           }
          ],
          "scatter3d": [
           {
            "line": {
             "colorbar": {
              "outlinewidth": 0,
              "ticks": ""
             }
            },
            "marker": {
             "colorbar": {
              "outlinewidth": 0,
              "ticks": ""
             }
            },
            "type": "scatter3d"
           }
          ],
          "scattercarpet": [
           {
            "marker": {
             "colorbar": {
              "outlinewidth": 0,
              "ticks": ""
             }
            },
            "type": "scattercarpet"
           }
          ],
          "scattergeo": [
           {
            "marker": {
             "colorbar": {
              "outlinewidth": 0,
              "ticks": ""
             }
            },
            "type": "scattergeo"
           }
          ],
          "scattergl": [
           {
            "marker": {
             "colorbar": {
              "outlinewidth": 0,
              "ticks": ""
             }
            },
            "type": "scattergl"
           }
          ],
          "scattermapbox": [
           {
            "marker": {
             "colorbar": {
              "outlinewidth": 0,
              "ticks": ""
             }
            },
            "type": "scattermapbox"
           }
          ],
          "scatterpolar": [
           {
            "marker": {
             "colorbar": {
              "outlinewidth": 0,
              "ticks": ""
             }
            },
            "type": "scatterpolar"
           }
          ],
          "scatterpolargl": [
           {
            "marker": {
             "colorbar": {
              "outlinewidth": 0,
              "ticks": ""
             }
            },
            "type": "scatterpolargl"
           }
          ],
          "scatterternary": [
           {
            "marker": {
             "colorbar": {
              "outlinewidth": 0,
              "ticks": ""
             }
            },
            "type": "scatterternary"
           }
          ],
          "surface": [
           {
            "colorbar": {
             "outlinewidth": 0,
             "ticks": ""
            },
            "colorscale": [
             [
              0.0,
              "#0d0887"
             ],
             [
              0.1111111111111111,
              "#46039f"
             ],
             [
              0.2222222222222222,
              "#7201a8"
             ],
             [
              0.3333333333333333,
              "#9c179e"
             ],
             [
              0.4444444444444444,
              "#bd3786"
             ],
             [
              0.5555555555555556,
              "#d8576b"
             ],
             [
              0.6666666666666666,
              "#ed7953"
             ],
             [
              0.7777777777777778,
              "#fb9f3a"
             ],
             [
              0.8888888888888888,
              "#fdca26"
             ],
             [
              1.0,
              "#f0f921"
             ]
            ],
            "type": "surface"
           }
          ],
          "table": [
           {
            "cells": {
             "fill": {
              "color": "#EBF0F8"
             },
             "line": {
              "color": "white"
             }
            },
            "header": {
             "fill": {
              "color": "#C8D4E3"
             },
             "line": {
              "color": "white"
             }
            },
            "type": "table"
           }
          ]
         },
         "layout": {
          "annotationdefaults": {
           "arrowcolor": "#2a3f5f",
           "arrowhead": 0,
           "arrowwidth": 1
          },
          "coloraxis": {
           "colorbar": {
            "outlinewidth": 0,
            "ticks": ""
           }
          },
          "colorscale": {
           "diverging": [
            [
             0,
             "#8e0152"
            ],
            [
             0.1,
             "#c51b7d"
            ],
            [
             0.2,
             "#de77ae"
            ],
            [
             0.3,
             "#f1b6da"
            ],
            [
             0.4,
             "#fde0ef"
            ],
            [
             0.5,
             "#f7f7f7"
            ],
            [
             0.6,
             "#e6f5d0"
            ],
            [
             0.7,
             "#b8e186"
            ],
            [
             0.8,
             "#7fbc41"
            ],
            [
             0.9,
             "#4d9221"
            ],
            [
             1,
             "#276419"
            ]
           ],
           "sequential": [
            [
             0.0,
             "#0d0887"
            ],
            [
             0.1111111111111111,
             "#46039f"
            ],
            [
             0.2222222222222222,
             "#7201a8"
            ],
            [
             0.3333333333333333,
             "#9c179e"
            ],
            [
             0.4444444444444444,
             "#bd3786"
            ],
            [
             0.5555555555555556,
             "#d8576b"
            ],
            [
             0.6666666666666666,
             "#ed7953"
            ],
            [
             0.7777777777777778,
             "#fb9f3a"
            ],
            [
             0.8888888888888888,
             "#fdca26"
            ],
            [
             1.0,
             "#f0f921"
            ]
           ],
           "sequentialminus": [
            [
             0.0,
             "#0d0887"
            ],
            [
             0.1111111111111111,
             "#46039f"
            ],
            [
             0.2222222222222222,
             "#7201a8"
            ],
            [
             0.3333333333333333,
             "#9c179e"
            ],
            [
             0.4444444444444444,
             "#bd3786"
            ],
            [
             0.5555555555555556,
             "#d8576b"
            ],
            [
             0.6666666666666666,
             "#ed7953"
            ],
            [
             0.7777777777777778,
             "#fb9f3a"
            ],
            [
             0.8888888888888888,
             "#fdca26"
            ],
            [
             1.0,
             "#f0f921"
            ]
           ]
          },
          "colorway": [
           "#636efa",
           "#EF553B",
           "#00cc96",
           "#ab63fa",
           "#FFA15A",
           "#19d3f3",
           "#FF6692",
           "#B6E880",
           "#FF97FF",
           "#FECB52"
          ],
          "font": {
           "color": "#2a3f5f"
          },
          "geo": {
           "bgcolor": "white",
           "lakecolor": "white",
           "landcolor": "white",
           "showlakes": true,
           "showland": true,
           "subunitcolor": "#C8D4E3"
          },
          "hoverlabel": {
           "align": "left"
          },
          "hovermode": "closest",
          "mapbox": {
           "style": "light"
          },
          "paper_bgcolor": "white",
          "plot_bgcolor": "white",
          "polar": {
           "angularaxis": {
            "gridcolor": "#EBF0F8",
            "linecolor": "#EBF0F8",
            "ticks": ""
           },
           "bgcolor": "white",
           "radialaxis": {
            "gridcolor": "#EBF0F8",
            "linecolor": "#EBF0F8",
            "ticks": ""
           }
          },
          "scene": {
           "xaxis": {
            "backgroundcolor": "white",
            "gridcolor": "#DFE8F3",
            "gridwidth": 2,
            "linecolor": "#EBF0F8",
            "showbackground": true,
            "ticks": "",
            "zerolinecolor": "#EBF0F8"
           },
           "yaxis": {
            "backgroundcolor": "white",
            "gridcolor": "#DFE8F3",
            "gridwidth": 2,
            "linecolor": "#EBF0F8",
            "showbackground": true,
            "ticks": "",
            "zerolinecolor": "#EBF0F8"
           },
           "zaxis": {
            "backgroundcolor": "white",
            "gridcolor": "#DFE8F3",
            "gridwidth": 2,
            "linecolor": "#EBF0F8",
            "showbackground": true,
            "ticks": "",
            "zerolinecolor": "#EBF0F8"
           }
          },
          "shapedefaults": {
           "line": {
            "color": "#2a3f5f"
           }
          },
          "ternary": {
           "aaxis": {
            "gridcolor": "#DFE8F3",
            "linecolor": "#A2B1C6",
            "ticks": ""
           },
           "baxis": {
            "gridcolor": "#DFE8F3",
            "linecolor": "#A2B1C6",
            "ticks": ""
           },
           "bgcolor": "white",
           "caxis": {
            "gridcolor": "#DFE8F3",
            "linecolor": "#A2B1C6",
            "ticks": ""
           }
          },
          "title": {
           "x": 0.05
          },
          "xaxis": {
           "automargin": true,
           "gridcolor": "#EBF0F8",
           "linecolor": "#EBF0F8",
           "ticks": "",
           "title": {
            "standoff": 15
           },
           "zerolinecolor": "#EBF0F8",
           "zerolinewidth": 2
          },
          "yaxis": {
           "automargin": true,
           "gridcolor": "#EBF0F8",
           "linecolor": "#EBF0F8",
           "ticks": "",
           "title": {
            "standoff": 15
           },
           "zerolinecolor": "#EBF0F8",
           "zerolinewidth": 2
          }
         }
        },
        "title": {
         "text": "Surface hoar 2018-2019"
        },
        "yaxis": {
         "title": {
          "text": "#Regions with SH problem"
         }
        }
       }
      },
      "text/html": "<div>\n        \n        \n            <div id=\"aa648fbd-0f26-4db5-ae22-c2a5593405d9\" class=\"plotly-graph-div\" style=\"height:525px; width:100%;\"></div>\n            <script type=\"text/javascript\">\n                require([\"plotly\"], function(Plotly) {\n                    window.PLOTLYENV=window.PLOTLYENV || {};\n                    \n                if (document.getElementById(\"aa648fbd-0f26-4db5-ae22-c2a5593405d9\")) {\n                    Plotly.newPlot(\n                        'aa648fbd-0f26-4db5-ae22-c2a5593405d9',\n                        [{\"name\": \"Avalanche problem frequency\", \"type\": \"bar\", \"x\": [\"2018-12-03\", \"2018-12-04\", \"2018-12-15\", \"2018-12-16\", \"2018-12-17\", \"2018-12-18\", \"2018-12-19\", \"2018-12-20\", \"2018-12-22\", \"2018-12-23\", \"2018-12-23\", \"2019-01-17\", \"2019-01-18\", \"2019-01-19\", \"2019-01-31\", \"2019-02-01\", \"2019-02-01\", \"2019-02-01\", \"2019-02-02\", \"2019-02-02\", \"2019-02-02\", \"2019-02-03\", \"2019-02-03\", \"2019-02-17\", \"2019-02-18\", \"2019-03-09\", \"2019-03-14\", \"2019-04-11\", \"2019-04-11\", \"2019-04-11\", \"2019-04-12\", \"2019-04-12\", \"2019-04-12\", \"2019-04-13\", \"2019-04-13\", \"2019-04-14\"], \"y\": [1, 1, 1, 1, 1, 1, 1, 1, 1, 1, 1, 1, 1, 1, 1, 1, 1, 1, 1, 1, 1, 1, 1, 1, 1, 1, 1, 1, 1, 1, 1, 1, 1, 1, 1, 1]}],\n                        {\"legend\": {\"orientation\": \"h\"}, \"showlegend\": false, \"template\": {\"data\": {\"bar\": [{\"error_x\": {\"color\": \"#2a3f5f\"}, \"error_y\": {\"color\": \"#2a3f5f\"}, \"marker\": {\"line\": {\"color\": \"white\", \"width\": 0.5}}, \"type\": \"bar\"}], \"barpolar\": [{\"marker\": {\"line\": {\"color\": \"white\", \"width\": 0.5}}, \"type\": \"barpolar\"}], \"carpet\": [{\"aaxis\": {\"endlinecolor\": \"#2a3f5f\", \"gridcolor\": \"#C8D4E3\", \"linecolor\": \"#C8D4E3\", \"minorgridcolor\": \"#C8D4E3\", \"startlinecolor\": \"#2a3f5f\"}, \"baxis\": {\"endlinecolor\": \"#2a3f5f\", \"gridcolor\": \"#C8D4E3\", \"linecolor\": \"#C8D4E3\", \"minorgridcolor\": \"#C8D4E3\", \"startlinecolor\": \"#2a3f5f\"}, \"type\": \"carpet\"}], \"choropleth\": [{\"colorbar\": {\"outlinewidth\": 0, \"ticks\": \"\"}, \"type\": \"choropleth\"}], \"contour\": [{\"colorbar\": {\"outlinewidth\": 0, \"ticks\": \"\"}, \"colorscale\": [[0.0, \"#0d0887\"], [0.1111111111111111, \"#46039f\"], [0.2222222222222222, \"#7201a8\"], [0.3333333333333333, \"#9c179e\"], [0.4444444444444444, \"#bd3786\"], [0.5555555555555556, \"#d8576b\"], [0.6666666666666666, \"#ed7953\"], [0.7777777777777778, \"#fb9f3a\"], [0.8888888888888888, \"#fdca26\"], [1.0, \"#f0f921\"]], \"type\": \"contour\"}], \"contourcarpet\": [{\"colorbar\": {\"outlinewidth\": 0, \"ticks\": \"\"}, \"type\": \"contourcarpet\"}], \"heatmap\": [{\"colorbar\": {\"outlinewidth\": 0, \"ticks\": \"\"}, \"colorscale\": [[0.0, \"#0d0887\"], [0.1111111111111111, \"#46039f\"], [0.2222222222222222, \"#7201a8\"], [0.3333333333333333, \"#9c179e\"], [0.4444444444444444, \"#bd3786\"], [0.5555555555555556, \"#d8576b\"], [0.6666666666666666, \"#ed7953\"], [0.7777777777777778, \"#fb9f3a\"], [0.8888888888888888, \"#fdca26\"], [1.0, \"#f0f921\"]], \"type\": \"heatmap\"}], \"heatmapgl\": [{\"colorbar\": {\"outlinewidth\": 0, \"ticks\": \"\"}, \"colorscale\": [[0.0, \"#0d0887\"], [0.1111111111111111, \"#46039f\"], [0.2222222222222222, \"#7201a8\"], [0.3333333333333333, \"#9c179e\"], [0.4444444444444444, \"#bd3786\"], [0.5555555555555556, \"#d8576b\"], [0.6666666666666666, \"#ed7953\"], [0.7777777777777778, \"#fb9f3a\"], [0.8888888888888888, \"#fdca26\"], [1.0, \"#f0f921\"]], \"type\": \"heatmapgl\"}], \"histogram\": [{\"marker\": {\"colorbar\": {\"outlinewidth\": 0, \"ticks\": \"\"}}, \"type\": \"histogram\"}], \"histogram2d\": [{\"colorbar\": {\"outlinewidth\": 0, \"ticks\": \"\"}, \"colorscale\": [[0.0, \"#0d0887\"], [0.1111111111111111, \"#46039f\"], [0.2222222222222222, \"#7201a8\"], [0.3333333333333333, \"#9c179e\"], [0.4444444444444444, \"#bd3786\"], [0.5555555555555556, \"#d8576b\"], [0.6666666666666666, \"#ed7953\"], [0.7777777777777778, \"#fb9f3a\"], [0.8888888888888888, \"#fdca26\"], [1.0, \"#f0f921\"]], \"type\": \"histogram2d\"}], \"histogram2dcontour\": [{\"colorbar\": {\"outlinewidth\": 0, \"ticks\": \"\"}, \"colorscale\": [[0.0, \"#0d0887\"], [0.1111111111111111, \"#46039f\"], [0.2222222222222222, \"#7201a8\"], [0.3333333333333333, \"#9c179e\"], [0.4444444444444444, \"#bd3786\"], [0.5555555555555556, \"#d8576b\"], [0.6666666666666666, \"#ed7953\"], [0.7777777777777778, \"#fb9f3a\"], [0.8888888888888888, \"#fdca26\"], [1.0, \"#f0f921\"]], \"type\": \"histogram2dcontour\"}], \"mesh3d\": [{\"colorbar\": {\"outlinewidth\": 0, \"ticks\": \"\"}, \"type\": \"mesh3d\"}], \"parcoords\": [{\"line\": {\"colorbar\": {\"outlinewidth\": 0, \"ticks\": \"\"}}, \"type\": \"parcoords\"}], \"pie\": [{\"automargin\": true, \"type\": \"pie\"}], \"scatter\": [{\"marker\": {\"colorbar\": {\"outlinewidth\": 0, \"ticks\": \"\"}}, \"type\": \"scatter\"}], \"scatter3d\": [{\"line\": {\"colorbar\": {\"outlinewidth\": 0, \"ticks\": \"\"}}, \"marker\": {\"colorbar\": {\"outlinewidth\": 0, \"ticks\": \"\"}}, \"type\": \"scatter3d\"}], \"scattercarpet\": [{\"marker\": {\"colorbar\": {\"outlinewidth\": 0, \"ticks\": \"\"}}, \"type\": \"scattercarpet\"}], \"scattergeo\": [{\"marker\": {\"colorbar\": {\"outlinewidth\": 0, \"ticks\": \"\"}}, \"type\": \"scattergeo\"}], \"scattergl\": [{\"marker\": {\"colorbar\": {\"outlinewidth\": 0, \"ticks\": \"\"}}, \"type\": \"scattergl\"}], \"scattermapbox\": [{\"marker\": {\"colorbar\": {\"outlinewidth\": 0, \"ticks\": \"\"}}, \"type\": \"scattermapbox\"}], \"scatterpolar\": [{\"marker\": {\"colorbar\": {\"outlinewidth\": 0, \"ticks\": \"\"}}, \"type\": \"scatterpolar\"}], \"scatterpolargl\": [{\"marker\": {\"colorbar\": {\"outlinewidth\": 0, \"ticks\": \"\"}}, \"type\": \"scatterpolargl\"}], \"scatterternary\": [{\"marker\": {\"colorbar\": {\"outlinewidth\": 0, \"ticks\": \"\"}}, \"type\": \"scatterternary\"}], \"surface\": [{\"colorbar\": {\"outlinewidth\": 0, \"ticks\": \"\"}, \"colorscale\": [[0.0, \"#0d0887\"], [0.1111111111111111, \"#46039f\"], [0.2222222222222222, \"#7201a8\"], [0.3333333333333333, \"#9c179e\"], [0.4444444444444444, \"#bd3786\"], [0.5555555555555556, \"#d8576b\"], [0.6666666666666666, \"#ed7953\"], [0.7777777777777778, \"#fb9f3a\"], [0.8888888888888888, \"#fdca26\"], [1.0, \"#f0f921\"]], \"type\": \"surface\"}], \"table\": [{\"cells\": {\"fill\": {\"color\": \"#EBF0F8\"}, \"line\": {\"color\": \"white\"}}, \"header\": {\"fill\": {\"color\": \"#C8D4E3\"}, \"line\": {\"color\": \"white\"}}, \"type\": \"table\"}]}, \"layout\": {\"annotationdefaults\": {\"arrowcolor\": \"#2a3f5f\", \"arrowhead\": 0, \"arrowwidth\": 1}, \"coloraxis\": {\"colorbar\": {\"outlinewidth\": 0, \"ticks\": \"\"}}, \"colorscale\": {\"diverging\": [[0, \"#8e0152\"], [0.1, \"#c51b7d\"], [0.2, \"#de77ae\"], [0.3, \"#f1b6da\"], [0.4, \"#fde0ef\"], [0.5, \"#f7f7f7\"], [0.6, \"#e6f5d0\"], [0.7, \"#b8e186\"], [0.8, \"#7fbc41\"], [0.9, \"#4d9221\"], [1, \"#276419\"]], \"sequential\": [[0.0, \"#0d0887\"], [0.1111111111111111, \"#46039f\"], [0.2222222222222222, \"#7201a8\"], [0.3333333333333333, \"#9c179e\"], [0.4444444444444444, \"#bd3786\"], [0.5555555555555556, \"#d8576b\"], [0.6666666666666666, \"#ed7953\"], [0.7777777777777778, \"#fb9f3a\"], [0.8888888888888888, \"#fdca26\"], [1.0, \"#f0f921\"]], \"sequentialminus\": [[0.0, \"#0d0887\"], [0.1111111111111111, \"#46039f\"], [0.2222222222222222, \"#7201a8\"], [0.3333333333333333, \"#9c179e\"], [0.4444444444444444, \"#bd3786\"], [0.5555555555555556, \"#d8576b\"], [0.6666666666666666, \"#ed7953\"], [0.7777777777777778, \"#fb9f3a\"], [0.8888888888888888, \"#fdca26\"], [1.0, \"#f0f921\"]]}, \"colorway\": [\"#636efa\", \"#EF553B\", \"#00cc96\", \"#ab63fa\", \"#FFA15A\", \"#19d3f3\", \"#FF6692\", \"#B6E880\", \"#FF97FF\", \"#FECB52\"], \"font\": {\"color\": \"#2a3f5f\"}, \"geo\": {\"bgcolor\": \"white\", \"lakecolor\": \"white\", \"landcolor\": \"white\", \"showlakes\": true, \"showland\": true, \"subunitcolor\": \"#C8D4E3\"}, \"hoverlabel\": {\"align\": \"left\"}, \"hovermode\": \"closest\", \"mapbox\": {\"style\": \"light\"}, \"paper_bgcolor\": \"white\", \"plot_bgcolor\": \"white\", \"polar\": {\"angularaxis\": {\"gridcolor\": \"#EBF0F8\", \"linecolor\": \"#EBF0F8\", \"ticks\": \"\"}, \"bgcolor\": \"white\", \"radialaxis\": {\"gridcolor\": \"#EBF0F8\", \"linecolor\": \"#EBF0F8\", \"ticks\": \"\"}}, \"scene\": {\"xaxis\": {\"backgroundcolor\": \"white\", \"gridcolor\": \"#DFE8F3\", \"gridwidth\": 2, \"linecolor\": \"#EBF0F8\", \"showbackground\": true, \"ticks\": \"\", \"zerolinecolor\": \"#EBF0F8\"}, \"yaxis\": {\"backgroundcolor\": \"white\", \"gridcolor\": \"#DFE8F3\", \"gridwidth\": 2, \"linecolor\": \"#EBF0F8\", \"showbackground\": true, \"ticks\": \"\", \"zerolinecolor\": \"#EBF0F8\"}, \"zaxis\": {\"backgroundcolor\": \"white\", \"gridcolor\": \"#DFE8F3\", \"gridwidth\": 2, \"linecolor\": \"#EBF0F8\", \"showbackground\": true, \"ticks\": \"\", \"zerolinecolor\": \"#EBF0F8\"}}, \"shapedefaults\": {\"line\": {\"color\": \"#2a3f5f\"}}, \"ternary\": {\"aaxis\": {\"gridcolor\": \"#DFE8F3\", \"linecolor\": \"#A2B1C6\", \"ticks\": \"\"}, \"baxis\": {\"gridcolor\": \"#DFE8F3\", \"linecolor\": \"#A2B1C6\", \"ticks\": \"\"}, \"bgcolor\": \"white\", \"caxis\": {\"gridcolor\": \"#DFE8F3\", \"linecolor\": \"#A2B1C6\", \"ticks\": \"\"}}, \"title\": {\"x\": 0.05}, \"xaxis\": {\"automargin\": true, \"gridcolor\": \"#EBF0F8\", \"linecolor\": \"#EBF0F8\", \"ticks\": \"\", \"title\": {\"standoff\": 15}, \"zerolinecolor\": \"#EBF0F8\", \"zerolinewidth\": 2}, \"yaxis\": {\"automargin\": true, \"gridcolor\": \"#EBF0F8\", \"linecolor\": \"#EBF0F8\", \"ticks\": \"\", \"title\": {\"standoff\": 15}, \"zerolinecolor\": \"#EBF0F8\", \"zerolinewidth\": 2}}}, \"title\": {\"text\": \"Surface hoar 2018-2019\"}, \"yaxis\": {\"title\": {\"text\": \"#Regions with SH problem\"}}},\n                        {\"responsive\": true}\n                    ).then(function(){\n                            \nvar gd = document.getElementById('aa648fbd-0f26-4db5-ae22-c2a5593405d9');\nvar x = new MutationObserver(function (mutations, observer) {{\n        var display = window.getComputedStyle(gd).display;\n        if (!display || display === 'none') {{\n            console.log([gd, 'removed!']);\n            Plotly.purge(gd);\n            observer.disconnect();\n        }}\n}});\n\n// Listen for the removal of the full notebook cells\nvar notebookContainer = gd.closest('#notebook-container');\nif (notebookContainer) {{\n    x.observe(notebookContainer, {childList: true});\n}}\n\n// Listen for the clearing of the current output cell\nvar outputEl = gd.closest('.output');\nif (outputEl) {{\n    x.observe(outputEl, {childList: true});\n}}\n\n                        })\n                };\n                });\n            </script>\n        </div>"
     },
     "metadata": {},
     "output_type": "display_data"
    }
   ],
   "source": [
    "\n",
    "# setting up a plot.ly figure\n",
    "fig = go.Figure()\n",
    "\n",
    "avalprob_1 = {\n",
    "    \"type\": \"bar\",\n",
    "    \"name\": \"Avalanche problem frequency\",\n",
    "    # \"line\": {\"color\": c_topo},\n",
    "    # \"fill\": \"tozeroy\",\n",
    "    \"x\": sh_df1819['date_valid'],\n",
    "    \"y\": sh_df1819['occurrence']\n",
    "}\n",
    "\n",
    "fig.add_trace(avalprob_1)\n",
    "\n",
    "p_layout = {\"title\": {\"text\": \"Surface hoar 2018-2019\"},\n",
    "            \"showlegend\": False, \"legend\": {\"orientation\": \"h\"},\n",
    "            # \"xaxis\": {\"rangemode\": \"nonnegative\"},\n",
    "            \"yaxis\": {\"title\": \"#Regions with SH problem\"}\n",
    "           }\n",
    "\n",
    "fig.update_layout(p_layout)\n",
    "# fig.write_image(\"ap_16_19.png\")\n",
    "pio.show(fig)"
   ],
   "metadata": {
    "collapsed": false,
    "pycharm": {
     "name": "#%%\n",
     "is_executing": false
    }
   }
  },
  {
   "cell_type": "code",
   "execution_count": null,
   "outputs": [],
   "source": [
    "\n"
   ],
   "metadata": {
    "collapsed": false,
    "pycharm": {
     "name": "#%%\n"
    }
   }
  }
 ],
 "metadata": {
  "kernelspec": {
   "display_name": "Python 3",
   "language": "python",
   "name": "python3"
  },
  "language_info": {
   "codemirror_mode": {
    "name": "ipython",
    "version": 2
   },
   "file_extension": ".py",
   "mimetype": "text/x-python",
   "name": "python",
   "nbconvert_exporter": "python",
   "pygments_lexer": "ipython2",
   "version": "2.7.6"
  },
  "pycharm": {
   "stem_cell": {
    "cell_type": "raw",
    "source": [],
    "metadata": {
     "collapsed": false
    }
   }
  }
 },
 "nbformat": 4,
 "nbformat_minor": 0
}